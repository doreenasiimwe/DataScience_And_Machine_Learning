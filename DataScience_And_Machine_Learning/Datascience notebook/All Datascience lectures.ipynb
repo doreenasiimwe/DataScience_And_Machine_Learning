{
 "cells": [
  {
   "cell_type": "markdown",
   "id": "5a71b454",
   "metadata": {},
   "source": [
    "# Numbers\n",
    "Pyhton can work with several numbers but the common ones are int and float"
   ]
  },
  {
   "cell_type": "markdown",
   "id": "cd5f3412",
   "metadata": {},
   "source": [
    "# Arithmetic\n",
    "ie \n"
   ]
  },
  {
   "cell_type": "code",
   "execution_count": 69,
   "id": "17b412a3",
   "metadata": {},
   "outputs": [
    {
     "data": {
      "text/plain": [
       "2"
      ]
     },
     "execution_count": 69,
     "metadata": {},
     "output_type": "execute_result"
    }
   ],
   "source": [
    "#ADDITION AND SUBTRACTION\n",
    "3+1-2"
   ]
  },
  {
   "cell_type": "code",
   "execution_count": 70,
   "id": "ad5c7809",
   "metadata": {},
   "outputs": [
    {
     "data": {
      "text/plain": [
       "6"
      ]
     },
     "execution_count": 70,
     "metadata": {},
     "output_type": "execute_result"
    }
   ],
   "source": [
    "#MULTIPLICATION\n",
    "2*3"
   ]
  },
  {
   "cell_type": "code",
   "execution_count": 71,
   "id": "18673e74",
   "metadata": {},
   "outputs": [
    {
     "data": {
      "text/plain": [
       "2"
      ]
     },
     "execution_count": 71,
     "metadata": {},
     "output_type": "execute_result"
    }
   ],
   "source": [
    "#Modulus\n",
    "2%3"
   ]
  },
  {
   "cell_type": "code",
   "execution_count": 72,
   "id": "a1e07f1b",
   "metadata": {},
   "outputs": [
    {
     "data": {
      "text/plain": [
       "8"
      ]
     },
     "execution_count": 72,
     "metadata": {},
     "output_type": "execute_result"
    }
   ],
   "source": [
    "#EXPONENTIAL\n",
    "2**3"
   ]
  },
  {
   "cell_type": "code",
   "execution_count": 73,
   "id": "19e5ef91",
   "metadata": {},
   "outputs": [
    {
     "data": {
      "text/plain": [
       "0"
      ]
     },
     "execution_count": 73,
     "metadata": {},
     "output_type": "execute_result"
    }
   ],
   "source": [
    "#FLOW DIVISION\n",
    "2//3"
   ]
  },
  {
   "cell_type": "code",
   "execution_count": 74,
   "id": "2a1cbaf6",
   "metadata": {},
   "outputs": [
    {
     "data": {
      "text/plain": [
       "0.6666666666666666"
      ]
     },
     "execution_count": 74,
     "metadata": {},
     "output_type": "execute_result"
    }
   ],
   "source": [
    "#DIVISION\n",
    "2/3"
   ]
  },
  {
   "cell_type": "markdown",
   "id": "5b222c7c",
   "metadata": {},
   "source": [
    "# Exercise\n",
    "Write a python expression that raises 1+2 to the power of 3*4"
   ]
  },
  {
   "cell_type": "markdown",
   "id": "56a57560",
   "metadata": {},
   "source": [
    "#SOLUTION\n",
    "#Order of precedence\n",
    "(1+2)**(3*4)\n",
    "#PEDMAS"
   ]
  },
  {
   "cell_type": "markdown",
   "id": "83ebed5f",
   "metadata": {},
   "source": [
    "# Maths Functions\n"
   ]
  },
  {
   "cell_type": "code",
   "execution_count": 8,
   "id": "0b2d1bc1",
   "metadata": {},
   "outputs": [],
   "source": [
    "import numpy as np"
   ]
  },
  {
   "cell_type": "code",
   "execution_count": 9,
   "id": "6a644e47",
   "metadata": {},
   "outputs": [
    {
     "data": {
      "text/plain": [
       "3.141592653589793"
      ]
     },
     "execution_count": 9,
     "metadata": {},
     "output_type": "execute_result"
    }
   ],
   "source": [
    "np.pi"
   ]
  },
  {
   "cell_type": "code",
   "execution_count": 10,
   "id": "28b35c9f",
   "metadata": {},
   "outputs": [
    {
     "data": {
      "text/plain": [
       "4.605170185988092"
      ]
     },
     "execution_count": 10,
     "metadata": {},
     "output_type": "execute_result"
    }
   ],
   "source": [
    "np.log(100)"
   ]
  },
  {
   "cell_type": "code",
   "execution_count": 11,
   "id": "9704b81f",
   "metadata": {},
   "outputs": [
    {
     "data": {
      "text/plain": [
       "2.718281828459045"
      ]
     },
     "execution_count": 11,
     "metadata": {},
     "output_type": "execute_result"
    }
   ],
   "source": [
    "np.exp(1)"
   ]
  },
  {
   "cell_type": "markdown",
   "id": "fd7680d2",
   "metadata": {},
   "source": [
    "# log(e*x) = x \n",
    "where by -700 <= x <= 700"
   ]
  },
  {
   "cell_type": "code",
   "execution_count": null,
   "id": "50e9781e",
   "metadata": {},
   "outputs": [],
   "source": []
  },
  {
   "cell_type": "markdown",
   "id": "433f9b51",
   "metadata": {},
   "source": [
    "# VARIABLES\n",
    "A  variable is a name that refers to a value ie x = 5 means 5 is the value assigned to x variable ie "
   ]
  },
  {
   "cell_type": "code",
   "execution_count": 12,
   "id": "432ff9a9",
   "metadata": {},
   "outputs": [
    {
     "data": {
      "text/plain": [
       "6"
      ]
     },
     "execution_count": 12,
     "metadata": {},
     "output_type": "execute_result"
    }
   ],
   "source": [
    "x = 5\n",
    "\n",
    "x +1"
   ]
  },
  {
   "cell_type": "code",
   "execution_count": 13,
   "id": "737e1404",
   "metadata": {},
   "outputs": [
    {
     "data": {
      "text/plain": [
       "25"
      ]
     },
     "execution_count": 13,
     "metadata": {},
     "output_type": "execute_result"
    }
   ],
   "source": [
    "x**2"
   ]
  },
  {
   "cell_type": "code",
   "execution_count": 14,
   "id": "91888f38",
   "metadata": {},
   "outputs": [
    {
     "data": {
      "text/plain": [
       "148.4131591025766"
      ]
     },
     "execution_count": 14,
     "metadata": {},
     "output_type": "execute_result"
    }
   ],
   "source": [
    "np.exp(x)"
   ]
  },
  {
   "cell_type": "markdown",
   "id": "42951d23",
   "metadata": {},
   "source": [
    "# Calculations with variable\n",
    "\n",
    "if you deposit $2100 in a bank, paying an annual interesr rate of 3.4\\% compounded quarterly, we can compute the balance for 7 years by defeining these variables ie"
   ]
  },
  {
   "cell_type": "code",
   "execution_count": 15,
   "id": "009321d9",
   "metadata": {},
   "outputs": [],
   "source": [
    "p = 2100#principle\n",
    "r = 0.034#rate\n",
    "n = 4#Number of years that have been deposited yet\n",
    "t = 7#Total number of years"
   ]
  },
  {
   "cell_type": "code",
   "execution_count": 16,
   "id": "d35d0118",
   "metadata": {},
   "outputs": [
    {
     "data": {
      "text/plain": [
       "2661.6108980682593"
      ]
     },
     "execution_count": 16,
     "metadata": {},
     "output_type": "execute_result"
    }
   ],
   "source": [
    "v = 2100*(1+0.034/4)**(4*7)\n",
    "v"
   ]
  },
  {
   "cell_type": "code",
   "execution_count": 17,
   "id": "d41d12a4",
   "metadata": {},
   "outputs": [
    {
     "data": {
      "text/plain": [
       "2658.965091277534"
      ]
     },
     "execution_count": 17,
     "metadata": {},
     "output_type": "execute_result"
    }
   ],
   "source": [
    "#twice per year\n",
    "v = 2100*(1+0.034/2)**(2*7)\n",
    "v"
   ]
  },
  {
   "cell_type": "code",
   "execution_count": 18,
   "id": "e16fbd0c",
   "metadata": {},
   "outputs": [
    {
     "data": {
      "text/plain": [
       "6.175728457877729"
      ]
     },
     "execution_count": 18,
     "metadata": {},
     "output_type": "execute_result"
    }
   ],
   "source": [
    "w = 2100**(0.034*7)\n",
    "w"
   ]
  },
  {
   "cell_type": "code",
   "execution_count": 19,
   "id": "19879b11",
   "metadata": {},
   "outputs": [
    {
     "data": {
      "text/plain": [
       "1.6823289251587048"
      ]
     },
     "execution_count": 19,
     "metadata": {},
     "output_type": "execute_result"
    }
   ],
   "source": [
    "w = 2100**(0.034*2)\n",
    "w"
   ]
  },
  {
   "cell_type": "markdown",
   "id": "acf9cf50",
   "metadata": {},
   "source": [
    "# Times and Places\n",
    "places mean strings in terms of location\n",
    "here we cover some additional datatypes ie strings represent text ,dates,time\n",
    " A string is a sequence of letters,numbers and punctuation marks typed between single and double quotation marks ie \"elements\" \"of\" \"Data Science\" and they are assigned to variables ie \n",
    " first = \"Data\"\n",
    " last = 'Science'\n",
    " if the two strings are concatenated with space we get data science as two words and without space then its one word \n",
    " ie (first + ''last) and (first + last)\n",
    " for an expression\n",
    " \n",
    " "
   ]
  },
  {
   "cell_type": "code",
   "execution_count": 20,
   "id": "59e0dd19",
   "metadata": {},
   "outputs": [
    {
     "ename": "TypeError",
     "evalue": "can only concatenate str (not \"int\") to str",
     "output_type": "error",
     "traceback": [
      "\u001b[1;31m---------------------------------------------------------------------------\u001b[0m",
      "\u001b[1;31mTypeError\u001b[0m                                 Traceback (most recent call last)",
      "Input \u001b[1;32mIn [20]\u001b[0m, in \u001b[0;36m<cell line: 2>\u001b[1;34m()\u001b[0m\n\u001b[0;32m      1\u001b[0m actual \u001b[38;5;241m=\u001b[39m \u001b[38;5;124m\"\u001b[39m\u001b[38;5;124m123\u001b[39m\u001b[38;5;124m\"\u001b[39m\n\u001b[1;32m----> 2\u001b[0m \u001b[43mactual\u001b[49m\u001b[43m \u001b[49m\u001b[38;5;241;43m+\u001b[39;49m\u001b[43m \u001b[49m\u001b[38;5;241;43m1\u001b[39;49m\n",
      "\u001b[1;31mTypeError\u001b[0m: can only concatenate str (not \"int\") to str"
     ]
    }
   ],
   "source": [
    "actual = \"123\"\n",
    "actual + 1"
   ]
  },
  {
   "cell_type": "code",
   "execution_count": 21,
   "id": "e53a0691",
   "metadata": {},
   "outputs": [
    {
     "data": {
      "text/plain": [
       "'123123123'"
      ]
     },
     "execution_count": 21,
     "metadata": {},
     "output_type": "execute_result"
    }
   ],
   "source": [
    "actual*3"
   ]
  },
  {
   "cell_type": "code",
   "execution_count": 22,
   "id": "b9bcbfdb",
   "metadata": {},
   "outputs": [
    {
     "data": {
      "text/plain": [
       "123"
      ]
     },
     "execution_count": 22,
     "metadata": {},
     "output_type": "execute_result"
    }
   ],
   "source": [
    "int(\"123\")"
   ]
  },
  {
   "cell_type": "code",
   "execution_count": 23,
   "id": "b3121cb8",
   "metadata": {},
   "outputs": [
    {
     "data": {
      "text/plain": [
       "123.0"
      ]
     },
     "execution_count": 23,
     "metadata": {},
     "output_type": "execute_result"
    }
   ],
   "source": [
    "float(\"123\")"
   ]
  },
  {
   "cell_type": "code",
   "execution_count": 24,
   "id": "fb40d9f3",
   "metadata": {},
   "outputs": [
    {
     "data": {
      "text/plain": [
       "'123'"
      ]
     },
     "execution_count": 24,
     "metadata": {},
     "output_type": "execute_result"
    }
   ],
   "source": [
    "str(123)"
   ]
  },
  {
   "cell_type": "code",
   "execution_count": 25,
   "id": "335e44e2",
   "metadata": {},
   "outputs": [
    {
     "data": {
      "text/plain": [
       "'12.3'"
      ]
     },
     "execution_count": 25,
     "metadata": {},
     "output_type": "execute_result"
    }
   ],
   "source": [
    "str(12.3)"
   ]
  },
  {
   "cell_type": "markdown",
   "id": "58202273",
   "metadata": {},
   "source": [
    "# Dates and Times\n"
   ]
  },
  {
   "cell_type": "code",
   "execution_count": 26,
   "id": "9472909c",
   "metadata": {},
   "outputs": [],
   "source": [
    "import scipy as sci"
   ]
  },
  {
   "cell_type": "code",
   "execution_count": 27,
   "id": "bb101a15",
   "metadata": {},
   "outputs": [
    {
     "data": {
      "text/plain": [
       "1.618033988749895"
      ]
     },
     "execution_count": 27,
     "metadata": {},
     "output_type": "execute_result"
    }
   ],
   "source": [
    "phi = (1+5**0.5)/2\n",
    "phi"
   ]
  },
  {
   "cell_type": "markdown",
   "id": "bb932bc6",
   "metadata": {},
   "source": [
    "# Plotting\n",
    "  line graph - record something  to be visualised over time ie inflation,GDP however it works with one variable at atime\n",
    "  \n",
    " histogram\n",
    " \n",
    " scatter plots-deriving relationships\n",
    " \n",
    " barcharts- comparison\n",
    " \n",
    " pie charts\n",
    " \n",
    " slope chart -Different slopes with time\n",
    " \n",
    " stacked area chart\n",
    "# NB OWID _ Our world in Data\n",
    "# What are the needed libraries\n",
    "Seaborn as sns\n",
    "matplotlib.pyplot as plt\n",
    "matplotlib\n",
    "numpy\n",
    "scikit_-learn\n"
   ]
  },
  {
   "cell_type": "code",
   "execution_count": 1,
   "id": "c8da2720",
   "metadata": {},
   "outputs": [],
   "source": [
    "year = [2009, 2010, 2011, 2012, 2013, 2014, 2015, 2016, 2017, 2018]\n",
    "christian = [77,76,75,73,73,71,69,68,67,65]\n",
    "unaffiliated =[17, 17, 19, 19, 20, 21, 24, 23, 25,26]"
   ]
  },
  {
   "cell_type": "code",
   "execution_count": 2,
   "id": "bf4b75a1",
   "metadata": {},
   "outputs": [],
   "source": [
    "import numpy as np\n",
    "import matplotlib.pyplot as plt\n",
    "\n",
    "import seaborn as sns\n"
   ]
  },
  {
   "cell_type": "code",
   "execution_count": 3,
   "id": "807b2961",
   "metadata": {},
   "outputs": [],
   "source": [
    "matplotlib inline"
   ]
  },
  {
   "cell_type": "code",
   "execution_count": 4,
   "id": "e150fbc8",
   "metadata": {},
   "outputs": [],
   "source": [
    "import matplotlib.pyplot as plt"
   ]
  },
  {
   "cell_type": "code",
   "execution_count": 5,
   "id": "bb16516f",
   "metadata": {},
   "outputs": [
    {
     "data": {
      "text/plain": [
       "[<matplotlib.lines.Line2D at 0x2b22a4aded0>]"
      ]
     },
     "execution_count": 5,
     "metadata": {},
     "output_type": "execute_result"
    },
    {
     "data": {
      "image/png": "[encoded data removed]",
      "text/plain": [
       "<Figure size 432x288 with 1 Axes>"
      ]
     },
     "metadata": {
      "needs_background": "light"
     },
     "output_type": "display_data"
    }
   ],
   "source": [
    "plt.plot(year,christian)\n"
   ]
  },
  {
   "cell_type": "code",
   "execution_count": 6,
   "id": "46a4d3ad",
   "metadata": {},
   "outputs": [
    {
     "data": {
      "text/plain": [
       "[<matplotlib.lines.Line2D at 0x2b22c5a66b0>]"
      ]
     },
     "execution_count": 6,
     "metadata": {},
     "output_type": "execute_result"
    },
    {
     "data": {
      "image/png": "[encoded data removed]",
      "text/plain": [
       "<Figure size 432x288 with 1 Axes>"
      ]
     },
     "metadata": {
      "needs_background": "light"
     },
     "output_type": "display_data"
    }
   ],
   "source": [
    "plt.plot(year,unaffiliated)"
   ]
  },
  {
   "cell_type": "code",
   "execution_count": 7,
   "id": "cfdeb335",
   "metadata": {},
   "outputs": [
    {
     "data": {
      "text/plain": [
       "[<matplotlib.lines.Line2D at 0x2b22c610d00>]"
      ]
     },
     "execution_count": 7,
     "metadata": {},
     "output_type": "execute_result"
    },
    {
     "data": {
      "image/png": "[encoded data removed]",
      "text/plain": [
       "<Figure size 432x288 with 1 Axes>"
      ]
     },
     "metadata": {
      "needs_background": "light"
     },
     "output_type": "display_data"
    }
   ],
   "source": [
    "plt.plot(year,christian)\n",
    "plt.plot(year,unaffiliated)# christian and unaffiliated over time"
   ]
  },
  {
   "cell_type": "code",
   "execution_count": 8,
   "id": "276a7a0b",
   "metadata": {},
   "outputs": [
    {
     "data": {
      "text/plain": [
       "[<matplotlib.lines.Line2D at 0x2b22c657ca0>]"
      ]
     },
     "execution_count": 8,
     "metadata": {},
     "output_type": "execute_result"
    },
    {
     "data": {
      "image/png": "[encoded data removed]",
      "text/plain": [
       "<Figure size 432x288 with 1 Axes>"
      ]
     },
     "metadata": {
      "needs_background": "light"
     },
     "output_type": "display_data"
    }
   ],
   "source": [
    "plt.plot(year,christian)\n",
    "plt.ylim(0,80)\n",
    "plt.plot(year,unaffiliated)# gives where to start and end"
   ]
  },
  {
   "cell_type": "code",
   "execution_count": 9,
   "id": "e77b7994",
   "metadata": {},
   "outputs": [
    {
     "data": {
      "image/png": "[encoded data removed]",
      "text/plain": [
       "<Figure size 432x288 with 1 Axes>"
      ]
     },
     "metadata": {
      "needs_background": "light"
     },
     "output_type": "display_data"
    }
   ],
   "source": [
    "plt.plot(year,christian)\n",
    "plt.ylim(0,80)#limitation/axes scale\n",
    "plt.plot(year,unaffiliated)# gives where to start and end\n",
    "#labels(x,y and title label and they take strings as arguements)\n",
    "plt.xlabel(\"Year\");"
   ]
  },
  {
   "cell_type": "code",
   "execution_count": 10,
   "id": "5b556931",
   "metadata": {},
   "outputs": [
    {
     "data": {
      "image/png": "[encoded data removed]",
      "text/plain": [
       "<Figure size 432x288 with 1 Axes>"
      ]
     },
     "metadata": {
      "needs_background": "light"
     },
     "output_type": "display_data"
    }
   ],
   "source": [
    "plt.plot(year,christian)\n",
    "plt.ylim(0,80)#limitation/axes scale\n",
    "plt.plot(year,unaffiliated)# gives where to start and end\n",
    "#labels(x,y and title label and they take strings as arguements)\n",
    "plt.xlabel(\"Year\");\n",
    "plt.ylabel(\"Adults Percentage\");"
   ]
  },
  {
   "cell_type": "code",
   "execution_count": 11,
   "id": "4701adc1",
   "metadata": {},
   "outputs": [
    {
     "data": {
      "image/png": "[encoded data removed]",
      "text/plain": [
       "<Figure size 432x288 with 1 Axes>"
      ]
     },
     "metadata": {
      "needs_background": "light"
     },
     "output_type": "display_data"
    }
   ],
   "source": [
    "plt.plot(year,christian)\n",
    "plt.ylim(0,80)#limitation/axes scale\n",
    "plt.plot(year,unaffiliated)# gives where to start and end\n",
    "#labels(x,y and title label and they take strings as arguements)\n",
    "plt.xlabel(\"Year\");\n",
    "plt.ylabel(\"Adults Percentage\");\n",
    "plt.title(\"Religious Affiliation\");"
   ]
  },
  {
   "cell_type": "code",
   "execution_count": 12,
   "id": "3ff12dd4",
   "metadata": {},
   "outputs": [
    {
     "data": {
      "image/png": "[encoded data removed]",
      "text/plain": [
       "<Figure size 432x288 with 1 Axes>"
      ]
     },
     "metadata": {
      "needs_background": "light"
     },
     "output_type": "display_data"
    }
   ],
   "source": [
    "plt.plot(year,christian,label = \"christian\")\n",
    "plt.ylim(0,80)#limitation/axes scale\n",
    "plt.plot(year,unaffiliated, label = \"unaffiliated\")# gives where to start and end\n",
    "#labels(x,y and title label and they take strings as arguements)\n",
    "plt.xlabel(\"Year\");#X label\n",
    "plt.ylabel(\"Adults Percentage\");#ylabel\n",
    "plt.title(\"Religious Affiliation\");#title\n",
    "plt.legend();"
   ]
  },
  {
   "cell_type": "code",
   "execution_count": 13,
   "id": "989e8e39",
   "metadata": {},
   "outputs": [
    {
     "name": "stderr",
     "output_type": "stream",
     "text": [
      "No artists with labels found to put in legend.  Note that artists whose label start with an underscore are ignored when legend() is called with no argument.\n"
     ]
    },
    {
     "data": {
      "image/png": "[encoded data removed]",
      "text/plain": [
       "<Figure size 432x288 with 1 Axes>"
      ]
     },
     "metadata": {
      "needs_background": "light"
     },
     "output_type": "display_data"
    }
   ],
   "source": [
    "plt.plot(year,christian)\n",
    "plt.ylim(0,80)#limitation/axes scale\n",
    "plt.plot(year,unaffiliated)# gives where to start and end\n",
    "#labels(x,y and title label and they take strings as arguements)\n",
    "plt.xlabel(\"Year\");#X label\n",
    "plt.ylabel(\"Adults Percentage\");#ylabel\n",
    "plt.title(\"Religious Affiliation\");#title\n",
    "plt.legend();"
   ]
  },
  {
   "cell_type": "markdown",
   "id": "2c5daa72",
   "metadata": {},
   "source": [
    "# replication\n",
    "# reproducible\n",
    "\n"
   ]
  },
  {
   "cell_type": "code",
   "execution_count": 14,
   "id": "4f1d1782",
   "metadata": {},
   "outputs": [],
   "source": [
    "name_list =[\"lobster roll\", \n",
    "            \"chicken ceasar\",\n",
    "            \"bang bang chicken wrap\",\n",
    "            \"ham and cheese\",\n",
    "            \"Tuna and cucumber\",\n",
    "            \"egg sandwich\"\n",
    "           ]\n",
    "boston_price_list =[9.99,7.99,7.49,7,6.29,4.99]\n",
    "london_price_list = [7.5,5,4.4,5,3.75,2.25]  "
   ]
  },
  {
   "cell_type": "code",
   "execution_count": 15,
   "id": "a846b8f7",
   "metadata": {},
   "outputs": [
    {
     "data": {
      "image/png": "[encoded data removed]",
      "text/plain": [
       "<Figure size 432x288 with 1 Axes>"
      ]
     },
     "metadata": {
      "needs_background": "light"
     },
     "output_type": "display_data"
    }
   ],
   "source": [
    "plt.plot(boston_price_list,name_list);"
   ]
  },
  {
   "cell_type": "code",
   "execution_count": 16,
   "id": "39cfeb52",
   "metadata": {},
   "outputs": [
    {
     "data": {
      "image/png": "[encoded data removed]",
      "text/plain": [
       "<Figure size 432x288 with 1 Axes>"
      ]
     },
     "metadata": {
      "needs_background": "light"
     },
     "output_type": "display_data"
    }
   ],
   "source": [
    "plt.plot(boston_price_list,name_list);\n",
    "plt.xlabel(\"Price in USD\");"
   ]
  },
  {
   "cell_type": "markdown",
   "id": "1db61633",
   "metadata": {},
   "source": [
    "#### name list is alist of strings and python orders them from top to bottom\n",
    "by default pyplot connects the codes with the lines however in the example above it doesnt make sense since the names are categorical and not continuous\n",
    "### categorical\n",
    "means of transport\n",
    "icecream falovors\n",
    "yorghurt\n",
    "create markers incase its a line graph\n",
    "\n",
    "### numerical\n",
    "1,2,3,4......\n",
    "### Binary\n",
    "0/1s\n",
    "### Discrete Values\n"
   ]
  },
  {
   "cell_type": "code",
   "execution_count": 17,
   "id": "4a2ae682",
   "metadata": {},
   "outputs": [
    {
     "data": {
      "image/png": "[encoded data removed]",
      "text/plain": [
       "<Figure size 432x288 with 1 Axes>"
      ]
     },
     "metadata": {
      "needs_background": "light"
     },
     "output_type": "display_data"
    }
   ],
   "source": [
    "plt.plot(boston_price_list,name_list, marker=\"o\",linestyle=\"\");#separated the different categories\n",
    "\n",
    "plt.xlabel(\"price in USD\");\n"
   ]
  },
  {
   "cell_type": "code",
   "execution_count": 18,
   "id": "686d699a",
   "metadata": {},
   "outputs": [
    {
     "data": {
      "image/png": "[encoded data removed]",
      "text/plain": [
       "<Figure size 432x288 with 1 Axes>"
      ]
     },
     "metadata": {
      "needs_background": "light"
     },
     "output_type": "display_data"
    }
   ],
   "source": [
    "#ADDING MARKERS AND LINESTYLE\n",
    "plt.plot(boston_price_list,name_list, marker=\"o\",linestyle=\"\");#separated the different categories\n",
    "\n",
    "plt.plot(london_price_list,name_list, marker=\"s\",linestyle=\"\");\n",
    "\n",
    "plt.title(\"Food Prices In Boston And London\")\n",
    "\n",
    "plt.xlabel(\"price in USD\");\n"
   ]
  },
  {
   "cell_type": "code",
   "execution_count": 19,
   "id": "0ee5cf2a",
   "metadata": {},
   "outputs": [
    {
     "data": {
      "image/png": "[encoded data removed]",
      "text/plain": [
       "<Figure size 432x288 with 1 Axes>"
      ]
     },
     "metadata": {
      "needs_background": "light"
     },
     "output_type": "display_data"
    }
   ],
   "source": [
    "# ADDING COLORS \n",
    "plt.plot(boston_price_list,name_list, marker=\"o\",linestyle=\"\",color=\"C3\");#separated the different categories\n",
    "\n",
    "plt.plot(london_price_list,name_list, marker=\"s\",linestyle=\"\",color=\"C0\");\n",
    "\n",
    "plt.title(\"Food Prices In Boston And London\")\n",
    "\n",
    "plt.xlabel(\"price in USD\");"
   ]
  },
  {
   "cell_type": "code",
   "execution_count": 20,
   "id": "e78ca43f",
   "metadata": {},
   "outputs": [
    {
     "data": {
      "image/png": "[encoded data removed]",
      "text/plain": [
       "<Figure size 432x288 with 1 Axes>"
      ]
     },
     "metadata": {
      "needs_background": "light"
     },
     "output_type": "display_data"
    }
   ],
   "source": [
    "#HORIZONTALLY JOINING THE POINTS\n",
    "plt.plot(boston_price_list,name_list, marker=\"o\",linestyle=\"\",color=\"C3\");#separated the different categories\n",
    "\n",
    "plt.plot(london_price_list,name_list, marker=\"s\",linestyle=\"\",color=\"C0\");\n",
    "\n",
    "plt.title(\"Food Prices In Boston And London\")\n",
    "plt.hlines(name_list,boston_price_list,london_price_list)\n",
    "\n",
    "plt.xlabel(\"price in USD\");"
   ]
  },
  {
   "cell_type": "code",
   "execution_count": 21,
   "id": "761fe006",
   "metadata": {},
   "outputs": [
    {
     "data": {
      "image/png": "[encoded data removed]",
      "text/plain": [
       "<Figure size 432x288 with 1 Axes>"
      ]
     },
     "metadata": {
      "needs_background": "light"
     },
     "output_type": "display_data"
    }
   ],
   "source": [
    "#ADDING A LEGEND\n",
    "\n",
    "plt.plot(london_price_list,name_list, marker=\"s\",linestyle=\"\",color=\"C0\",label = \"London\");\n",
    "plt.plot(boston_price_list,name_list, marker=\"o\",linestyle=\"\",color=\"C3\", label = \"Boston\");#separated the different categories\n",
    "plt.title(\"Food Prices In Boston And London\")\n",
    "plt.hlines(name_list,boston_price_list,london_price_list)\n",
    "\n",
    "plt.xlabel(\"price in USD\");\n",
    "plt.legend();"
   ]
  },
  {
   "cell_type": "code",
   "execution_count": 22,
   "id": "a30b0ea4",
   "metadata": {},
   "outputs": [
    {
     "data": {
      "image/png": "[encoded data removed]",
      "text/plain": [
       "<Figure size 432x288 with 1 Axes>"
      ]
     },
     "metadata": {
      "needs_background": "light"
     },
     "output_type": "display_data"
    }
   ],
   "source": [
    "#REVERSING THE AXIS\n",
    "plt.plot(london_price_list,name_list, marker=\"s\",linestyle=\"\",color=\"C0\",label = \"London\");\n",
    "plt.plot(boston_price_list,name_list, marker=\"o\",linestyle=\"\",color=\"C3\", label = \"Boston\");#separated the different categories\n",
    "plt.title(\"Food Prices In Boston And London\")\n",
    "plt.hlines(name_list,boston_price_list,london_price_list)\n",
    "\n",
    "plt.xlabel(\"price in USD\");\n",
    "plt.legend();\n",
    "plt.gca().invert_xaxis()\n",
    "plt.gca().invert_yaxis()"
   ]
  },
  {
   "cell_type": "code",
   "execution_count": 23,
   "id": "c2766852",
   "metadata": {},
   "outputs": [],
   "source": [
    "import pandas as pd\n"
   ]
  },
  {
   "cell_type": "markdown",
   "id": "1c2d6d4d",
   "metadata": {},
   "source": [
    "# DATA FRAMES AND SERIES"
   ]
  },
  {
   "cell_type": "code",
   "execution_count": 24,
   "id": "88530026",
   "metadata": {},
   "outputs": [
    {
     "data": {
      "text/html": [
       "<div>\n",
       "<style scoped>\n",
       "    .dataframe tbody tr th:only-of-type {\n",
       "        vertical-align: middle;\n",
       "    }\n",
       "\n",
       "    .dataframe tbody tr th {\n",
       "        vertical-align: top;\n",
       "    }\n",
       "\n",
       "    .dataframe thead th {\n",
       "        text-align: right;\n",
       "    }\n",
       "</style>\n",
       "<table border=\"1\" class=\"dataframe\">\n",
       "  <thead>\n",
       "    <tr style=\"text-align: right;\">\n",
       "      <th></th>\n",
       "      <th>Country Code</th>\n",
       "      <th>TableName</th>\n",
       "      <th>IncomeGroup</th>\n",
       "      <th>PopDensity_2018</th>\n",
       "      <th>Confirmed Cases</th>\n",
       "      <th>Deaths</th>\n",
       "      <th>Mortality Rate</th>\n",
       "      <th>Population_2019</th>\n",
       "      <th>GDP_2019</th>\n",
       "      <th>GDP_per_cap_2019</th>\n",
       "      <th>Main Leader Gender</th>\n",
       "      <th>Any Leader Gender</th>\n",
       "      <th>Avg Temp</th>\n",
       "      <th>Normalized Cases</th>\n",
       "      <th>Normalized Deaths</th>\n",
       "    </tr>\n",
       "  </thead>\n",
       "  <tbody>\n",
       "    <tr>\n",
       "      <th>0</th>\n",
       "      <td>AFG</td>\n",
       "      <td>Afghanistan</td>\n",
       "      <td>Low income</td>\n",
       "      <td>56.937760</td>\n",
       "      <td>39192</td>\n",
       "      <td>1453</td>\n",
       "      <td>3.707389</td>\n",
       "      <td>38041754</td>\n",
       "      <td>1.910135e+10</td>\n",
       "      <td>2293.551684</td>\n",
       "      <td>M</td>\n",
       "      <td>M</td>\n",
       "      <td>12.60</td>\n",
       "      <td>0.001030</td>\n",
       "      <td>3.820000e-05</td>\n",
       "    </tr>\n",
       "    <tr>\n",
       "      <th>1</th>\n",
       "      <td>AGO</td>\n",
       "      <td>Angola</td>\n",
       "      <td>Lower middle income</td>\n",
       "      <td>24.713052</td>\n",
       "      <td>4672</td>\n",
       "      <td>171</td>\n",
       "      <td>3.660103</td>\n",
       "      <td>31825295</td>\n",
       "      <td>9.463542e+10</td>\n",
       "      <td>6929.678158</td>\n",
       "      <td>M</td>\n",
       "      <td>M</td>\n",
       "      <td>21.55</td>\n",
       "      <td>0.000147</td>\n",
       "      <td>5.370000e-06</td>\n",
       "    </tr>\n",
       "    <tr>\n",
       "      <th>2</th>\n",
       "      <td>ALB</td>\n",
       "      <td>Albania</td>\n",
       "      <td>Upper middle income</td>\n",
       "      <td>104.612263</td>\n",
       "      <td>13153</td>\n",
       "      <td>375</td>\n",
       "      <td>2.851061</td>\n",
       "      <td>2854191</td>\n",
       "      <td>1.527808e+10</td>\n",
       "      <td>14495.078510</td>\n",
       "      <td>M</td>\n",
       "      <td>M</td>\n",
       "      <td>11.40</td>\n",
       "      <td>0.004608</td>\n",
       "      <td>1.313860e-04</td>\n",
       "    </tr>\n",
       "    <tr>\n",
       "      <th>3</th>\n",
       "      <td>AND</td>\n",
       "      <td>Andorra</td>\n",
       "      <td>High income</td>\n",
       "      <td>163.842553</td>\n",
       "      <td>1836</td>\n",
       "      <td>53</td>\n",
       "      <td>2.886710</td>\n",
       "      <td>77142</td>\n",
       "      <td>3.154058e+09</td>\n",
       "      <td>NaN</td>\n",
       "      <td>M</td>\n",
       "      <td>M</td>\n",
       "      <td>7.60</td>\n",
       "      <td>0.023800</td>\n",
       "      <td>6.870450e-04</td>\n",
       "    </tr>\n",
       "    <tr>\n",
       "      <th>4</th>\n",
       "      <td>ARE</td>\n",
       "      <td>United Arab Emirates</td>\n",
       "      <td>High income</td>\n",
       "      <td>135.609110</td>\n",
       "      <td>90618</td>\n",
       "      <td>411</td>\n",
       "      <td>0.453552</td>\n",
       "      <td>9770529</td>\n",
       "      <td>4.211420e+11</td>\n",
       "      <td>69900.877850</td>\n",
       "      <td>M</td>\n",
       "      <td>M</td>\n",
       "      <td>27.00</td>\n",
       "      <td>0.009275</td>\n",
       "      <td>4.210000e-05</td>\n",
       "    </tr>\n",
       "    <tr>\n",
       "      <th>...</th>\n",
       "      <td>...</td>\n",
       "      <td>...</td>\n",
       "      <td>...</td>\n",
       "      <td>...</td>\n",
       "      <td>...</td>\n",
       "      <td>...</td>\n",
       "      <td>...</td>\n",
       "      <td>...</td>\n",
       "      <td>...</td>\n",
       "      <td>...</td>\n",
       "      <td>...</td>\n",
       "      <td>...</td>\n",
       "      <td>...</td>\n",
       "      <td>...</td>\n",
       "      <td>...</td>\n",
       "    </tr>\n",
       "    <tr>\n",
       "      <th>177</th>\n",
       "      <td>VNM</td>\n",
       "      <td>Vietnam</td>\n",
       "      <td>Lower middle income</td>\n",
       "      <td>308.125246</td>\n",
       "      <td>1069</td>\n",
       "      <td>35</td>\n",
       "      <td>3.274088</td>\n",
       "      <td>96462106</td>\n",
       "      <td>2.619210e+11</td>\n",
       "      <td>8374.444328</td>\n",
       "      <td>M</td>\n",
       "      <td>M</td>\n",
       "      <td>24.45</td>\n",
       "      <td>0.000011</td>\n",
       "      <td>3.630000e-07</td>\n",
       "    </tr>\n",
       "    <tr>\n",
       "      <th>178</th>\n",
       "      <td>YEM</td>\n",
       "      <td>Yemen, Rep.</td>\n",
       "      <td>Low income</td>\n",
       "      <td>53.977853</td>\n",
       "      <td>2030</td>\n",
       "      <td>587</td>\n",
       "      <td>28.916256</td>\n",
       "      <td>29161922</td>\n",
       "      <td>NaN</td>\n",
       "      <td>NaN</td>\n",
       "      <td>M</td>\n",
       "      <td>M</td>\n",
       "      <td>23.85</td>\n",
       "      <td>0.000070</td>\n",
       "      <td>2.010000e-05</td>\n",
       "    </tr>\n",
       "    <tr>\n",
       "      <th>179</th>\n",
       "      <td>ZAF</td>\n",
       "      <td>South Africa</td>\n",
       "      <td>Upper middle income</td>\n",
       "      <td>47.630120</td>\n",
       "      <td>669498</td>\n",
       "      <td>16376</td>\n",
       "      <td>2.446012</td>\n",
       "      <td>58558270</td>\n",
       "      <td>3.514320e+11</td>\n",
       "      <td>12999.120260</td>\n",
       "      <td>M</td>\n",
       "      <td>M</td>\n",
       "      <td>17.75</td>\n",
       "      <td>0.011433</td>\n",
       "      <td>2.796530e-04</td>\n",
       "    </tr>\n",
       "    <tr>\n",
       "      <th>180</th>\n",
       "      <td>ZMB</td>\n",
       "      <td>Zambia</td>\n",
       "      <td>Lower middle income</td>\n",
       "      <td>23.341479</td>\n",
       "      <td>14612</td>\n",
       "      <td>332</td>\n",
       "      <td>2.272105</td>\n",
       "      <td>17861030</td>\n",
       "      <td>2.306472e+10</td>\n",
       "      <td>3623.699395</td>\n",
       "      <td>M</td>\n",
       "      <td>M</td>\n",
       "      <td>21.40</td>\n",
       "      <td>0.000818</td>\n",
       "      <td>1.860000e-05</td>\n",
       "    </tr>\n",
       "    <tr>\n",
       "      <th>181</th>\n",
       "      <td>ZWE</td>\n",
       "      <td>Zimbabwe</td>\n",
       "      <td>Lower middle income</td>\n",
       "      <td>37.324591</td>\n",
       "      <td>7803</td>\n",
       "      <td>227</td>\n",
       "      <td>2.909138</td>\n",
       "      <td>14645468</td>\n",
       "      <td>2.144076e+10</td>\n",
       "      <td>2953.484113</td>\n",
       "      <td>M</td>\n",
       "      <td>M</td>\n",
       "      <td>21.00</td>\n",
       "      <td>0.000533</td>\n",
       "      <td>1.550000e-05</td>\n",
       "    </tr>\n",
       "  </tbody>\n",
       "</table>\n",
       "<p>182 rows × 15 columns</p>\n",
       "</div>"
      ],
      "text/plain": [
       "    Country Code             TableName          IncomeGroup  PopDensity_2018  \\\n",
       "0            AFG           Afghanistan           Low income        56.937760   \n",
       "1            AGO                Angola  Lower middle income        24.713052   \n",
       "2            ALB               Albania  Upper middle income       104.612263   \n",
       "3            AND               Andorra          High income       163.842553   \n",
       "4            ARE  United Arab Emirates          High income       135.609110   \n",
       "..           ...                   ...                  ...              ...   \n",
       "177          VNM               Vietnam  Lower middle income       308.125246   \n",
       "178          YEM           Yemen, Rep.           Low income        53.977853   \n",
       "179          ZAF          South Africa  Upper middle income        47.630120   \n",
       "180          ZMB                Zambia  Lower middle income        23.341479   \n",
       "181          ZWE              Zimbabwe  Lower middle income        37.324591   \n",
       "\n",
       "     Confirmed Cases  Deaths  Mortality Rate  Population_2019      GDP_2019  \\\n",
       "0              39192    1453        3.707389         38041754  1.910135e+10   \n",
       "1               4672     171        3.660103         31825295  9.463542e+10   \n",
       "2              13153     375        2.851061          2854191  1.527808e+10   \n",
       "3               1836      53        2.886710            77142  3.154058e+09   \n",
       "4              90618     411        0.453552          9770529  4.211420e+11   \n",
       "..               ...     ...             ...              ...           ...   \n",
       "177             1069      35        3.274088         96462106  2.619210e+11   \n",
       "178             2030     587       28.916256         29161922           NaN   \n",
       "179           669498   16376        2.446012         58558270  3.514320e+11   \n",
       "180            14612     332        2.272105         17861030  2.306472e+10   \n",
       "181             7803     227        2.909138         14645468  2.144076e+10   \n",
       "\n",
       "     GDP_per_cap_2019 Main Leader Gender Any Leader Gender  Avg Temp  \\\n",
       "0         2293.551684                  M                 M     12.60   \n",
       "1         6929.678158                  M                 M     21.55   \n",
       "2        14495.078510                  M                 M     11.40   \n",
       "3                 NaN                  M                 M      7.60   \n",
       "4        69900.877850                  M                 M     27.00   \n",
       "..                ...                ...               ...       ...   \n",
       "177       8374.444328                  M                 M     24.45   \n",
       "178               NaN                  M                 M     23.85   \n",
       "179      12999.120260                  M                 M     17.75   \n",
       "180       3623.699395                  M                 M     21.40   \n",
       "181       2953.484113                  M                 M     21.00   \n",
       "\n",
       "     Normalized Cases  Normalized Deaths  \n",
       "0            0.001030       3.820000e-05  \n",
       "1            0.000147       5.370000e-06  \n",
       "2            0.004608       1.313860e-04  \n",
       "3            0.023800       6.870450e-04  \n",
       "4            0.009275       4.210000e-05  \n",
       "..                ...                ...  \n",
       "177          0.000011       3.630000e-07  \n",
       "178          0.000070       2.010000e-05  \n",
       "179          0.011433       2.796530e-04  \n",
       "180          0.000818       1.860000e-05  \n",
       "181          0.000533       1.550000e-05  \n",
       "\n",
       "[182 rows x 15 columns]"
      ]
     },
     "execution_count": 24,
     "metadata": {},
     "output_type": "execute_result"
    }
   ],
   "source": [
    "df = pd.read_csv(\"exam1.csv\")\n",
    "df"
   ]
  },
  {
   "cell_type": "code",
   "execution_count": 25,
   "id": "bf615c3d",
   "metadata": {},
   "outputs": [
    {
     "data": {
      "text/html": [
       "<div>\n",
       "<style scoped>\n",
       "    .dataframe tbody tr th:only-of-type {\n",
       "        vertical-align: middle;\n",
       "    }\n",
       "\n",
       "    .dataframe tbody tr th {\n",
       "        vertical-align: top;\n",
       "    }\n",
       "\n",
       "    .dataframe thead th {\n",
       "        text-align: right;\n",
       "    }\n",
       "</style>\n",
       "<table border=\"1\" class=\"dataframe\">\n",
       "  <thead>\n",
       "    <tr style=\"text-align: right;\">\n",
       "      <th></th>\n",
       "      <th>Country Code</th>\n",
       "      <th>TableName</th>\n",
       "      <th>IncomeGroup</th>\n",
       "      <th>PopDensity_2018</th>\n",
       "      <th>Confirmed Cases</th>\n",
       "      <th>Deaths</th>\n",
       "      <th>Mortality Rate</th>\n",
       "      <th>Population_2019</th>\n",
       "      <th>GDP_2019</th>\n",
       "      <th>GDP_per_cap_2019</th>\n",
       "      <th>Main Leader Gender</th>\n",
       "      <th>Any Leader Gender</th>\n",
       "      <th>Avg Temp</th>\n",
       "      <th>Normalized Cases</th>\n",
       "      <th>Normalized Deaths</th>\n",
       "    </tr>\n",
       "  </thead>\n",
       "  <tbody>\n",
       "    <tr>\n",
       "      <th>0</th>\n",
       "      <td>AFG</td>\n",
       "      <td>Afghanistan</td>\n",
       "      <td>Low income</td>\n",
       "      <td>56.937760</td>\n",
       "      <td>39192</td>\n",
       "      <td>1453</td>\n",
       "      <td>3.707389</td>\n",
       "      <td>38041754</td>\n",
       "      <td>1.910135e+10</td>\n",
       "      <td>2293.551684</td>\n",
       "      <td>M</td>\n",
       "      <td>M</td>\n",
       "      <td>12.60</td>\n",
       "      <td>0.001030</td>\n",
       "      <td>0.000038</td>\n",
       "    </tr>\n",
       "    <tr>\n",
       "      <th>1</th>\n",
       "      <td>AGO</td>\n",
       "      <td>Angola</td>\n",
       "      <td>Lower middle income</td>\n",
       "      <td>24.713052</td>\n",
       "      <td>4672</td>\n",
       "      <td>171</td>\n",
       "      <td>3.660103</td>\n",
       "      <td>31825295</td>\n",
       "      <td>9.463542e+10</td>\n",
       "      <td>6929.678158</td>\n",
       "      <td>M</td>\n",
       "      <td>M</td>\n",
       "      <td>21.55</td>\n",
       "      <td>0.000147</td>\n",
       "      <td>0.000005</td>\n",
       "    </tr>\n",
       "    <tr>\n",
       "      <th>2</th>\n",
       "      <td>ALB</td>\n",
       "      <td>Albania</td>\n",
       "      <td>Upper middle income</td>\n",
       "      <td>104.612263</td>\n",
       "      <td>13153</td>\n",
       "      <td>375</td>\n",
       "      <td>2.851061</td>\n",
       "      <td>2854191</td>\n",
       "      <td>1.527808e+10</td>\n",
       "      <td>14495.078510</td>\n",
       "      <td>M</td>\n",
       "      <td>M</td>\n",
       "      <td>11.40</td>\n",
       "      <td>0.004608</td>\n",
       "      <td>0.000131</td>\n",
       "    </tr>\n",
       "    <tr>\n",
       "      <th>3</th>\n",
       "      <td>AND</td>\n",
       "      <td>Andorra</td>\n",
       "      <td>High income</td>\n",
       "      <td>163.842553</td>\n",
       "      <td>1836</td>\n",
       "      <td>53</td>\n",
       "      <td>2.886710</td>\n",
       "      <td>77142</td>\n",
       "      <td>3.154058e+09</td>\n",
       "      <td>NaN</td>\n",
       "      <td>M</td>\n",
       "      <td>M</td>\n",
       "      <td>7.60</td>\n",
       "      <td>0.023800</td>\n",
       "      <td>0.000687</td>\n",
       "    </tr>\n",
       "    <tr>\n",
       "      <th>4</th>\n",
       "      <td>ARE</td>\n",
       "      <td>United Arab Emirates</td>\n",
       "      <td>High income</td>\n",
       "      <td>135.609110</td>\n",
       "      <td>90618</td>\n",
       "      <td>411</td>\n",
       "      <td>0.453552</td>\n",
       "      <td>9770529</td>\n",
       "      <td>4.211420e+11</td>\n",
       "      <td>69900.877850</td>\n",
       "      <td>M</td>\n",
       "      <td>M</td>\n",
       "      <td>27.00</td>\n",
       "      <td>0.009275</td>\n",
       "      <td>0.000042</td>\n",
       "    </tr>\n",
       "  </tbody>\n",
       "</table>\n",
       "</div>"
      ],
      "text/plain": [
       "  Country Code             TableName          IncomeGroup  PopDensity_2018  \\\n",
       "0          AFG           Afghanistan           Low income        56.937760   \n",
       "1          AGO                Angola  Lower middle income        24.713052   \n",
       "2          ALB               Albania  Upper middle income       104.612263   \n",
       "3          AND               Andorra          High income       163.842553   \n",
       "4          ARE  United Arab Emirates          High income       135.609110   \n",
       "\n",
       "   Confirmed Cases  Deaths  Mortality Rate  Population_2019      GDP_2019  \\\n",
       "0            39192    1453        3.707389         38041754  1.910135e+10   \n",
       "1             4672     171        3.660103         31825295  9.463542e+10   \n",
       "2            13153     375        2.851061          2854191  1.527808e+10   \n",
       "3             1836      53        2.886710            77142  3.154058e+09   \n",
       "4            90618     411        0.453552          9770529  4.211420e+11   \n",
       "\n",
       "   GDP_per_cap_2019 Main Leader Gender Any Leader Gender  Avg Temp  \\\n",
       "0       2293.551684                  M                 M     12.60   \n",
       "1       6929.678158                  M                 M     21.55   \n",
       "2      14495.078510                  M                 M     11.40   \n",
       "3               NaN                  M                 M      7.60   \n",
       "4      69900.877850                  M                 M     27.00   \n",
       "\n",
       "   Normalized Cases  Normalized Deaths  \n",
       "0          0.001030           0.000038  \n",
       "1          0.000147           0.000005  \n",
       "2          0.004608           0.000131  \n",
       "3          0.023800           0.000687  \n",
       "4          0.009275           0.000042  "
      ]
     },
     "execution_count": 25,
     "metadata": {},
     "output_type": "execute_result"
    }
   ],
   "source": [
    "df.head()"
   ]
  },
  {
   "cell_type": "code",
   "execution_count": 26,
   "id": "0a3ac690",
   "metadata": {},
   "outputs": [
    {
     "data": {
      "text/html": [
       "<div>\n",
       "<style scoped>\n",
       "    .dataframe tbody tr th:only-of-type {\n",
       "        vertical-align: middle;\n",
       "    }\n",
       "\n",
       "    .dataframe tbody tr th {\n",
       "        vertical-align: top;\n",
       "    }\n",
       "\n",
       "    .dataframe thead th {\n",
       "        text-align: right;\n",
       "    }\n",
       "</style>\n",
       "<table border=\"1\" class=\"dataframe\">\n",
       "  <thead>\n",
       "    <tr style=\"text-align: right;\">\n",
       "      <th></th>\n",
       "      <th>Country Code</th>\n",
       "      <th>TableName</th>\n",
       "      <th>IncomeGroup</th>\n",
       "      <th>PopDensity_2018</th>\n",
       "      <th>Confirmed Cases</th>\n",
       "      <th>Deaths</th>\n",
       "      <th>Mortality Rate</th>\n",
       "      <th>Population_2019</th>\n",
       "      <th>GDP_2019</th>\n",
       "      <th>GDP_per_cap_2019</th>\n",
       "      <th>Main Leader Gender</th>\n",
       "      <th>Any Leader Gender</th>\n",
       "      <th>Avg Temp</th>\n",
       "      <th>Normalized Cases</th>\n",
       "      <th>Normalized Deaths</th>\n",
       "    </tr>\n",
       "  </thead>\n",
       "  <tbody>\n",
       "    <tr>\n",
       "      <th>177</th>\n",
       "      <td>VNM</td>\n",
       "      <td>Vietnam</td>\n",
       "      <td>Lower middle income</td>\n",
       "      <td>308.125246</td>\n",
       "      <td>1069</td>\n",
       "      <td>35</td>\n",
       "      <td>3.274088</td>\n",
       "      <td>96462106</td>\n",
       "      <td>2.619210e+11</td>\n",
       "      <td>8374.444328</td>\n",
       "      <td>M</td>\n",
       "      <td>M</td>\n",
       "      <td>24.45</td>\n",
       "      <td>0.000011</td>\n",
       "      <td>3.630000e-07</td>\n",
       "    </tr>\n",
       "    <tr>\n",
       "      <th>178</th>\n",
       "      <td>YEM</td>\n",
       "      <td>Yemen, Rep.</td>\n",
       "      <td>Low income</td>\n",
       "      <td>53.977853</td>\n",
       "      <td>2030</td>\n",
       "      <td>587</td>\n",
       "      <td>28.916256</td>\n",
       "      <td>29161922</td>\n",
       "      <td>NaN</td>\n",
       "      <td>NaN</td>\n",
       "      <td>M</td>\n",
       "      <td>M</td>\n",
       "      <td>23.85</td>\n",
       "      <td>0.000070</td>\n",
       "      <td>2.010000e-05</td>\n",
       "    </tr>\n",
       "    <tr>\n",
       "      <th>179</th>\n",
       "      <td>ZAF</td>\n",
       "      <td>South Africa</td>\n",
       "      <td>Upper middle income</td>\n",
       "      <td>47.630120</td>\n",
       "      <td>669498</td>\n",
       "      <td>16376</td>\n",
       "      <td>2.446012</td>\n",
       "      <td>58558270</td>\n",
       "      <td>3.514320e+11</td>\n",
       "      <td>12999.120260</td>\n",
       "      <td>M</td>\n",
       "      <td>M</td>\n",
       "      <td>17.75</td>\n",
       "      <td>0.011433</td>\n",
       "      <td>2.796530e-04</td>\n",
       "    </tr>\n",
       "    <tr>\n",
       "      <th>180</th>\n",
       "      <td>ZMB</td>\n",
       "      <td>Zambia</td>\n",
       "      <td>Lower middle income</td>\n",
       "      <td>23.341479</td>\n",
       "      <td>14612</td>\n",
       "      <td>332</td>\n",
       "      <td>2.272105</td>\n",
       "      <td>17861030</td>\n",
       "      <td>2.306472e+10</td>\n",
       "      <td>3623.699395</td>\n",
       "      <td>M</td>\n",
       "      <td>M</td>\n",
       "      <td>21.40</td>\n",
       "      <td>0.000818</td>\n",
       "      <td>1.860000e-05</td>\n",
       "    </tr>\n",
       "    <tr>\n",
       "      <th>181</th>\n",
       "      <td>ZWE</td>\n",
       "      <td>Zimbabwe</td>\n",
       "      <td>Lower middle income</td>\n",
       "      <td>37.324591</td>\n",
       "      <td>7803</td>\n",
       "      <td>227</td>\n",
       "      <td>2.909138</td>\n",
       "      <td>14645468</td>\n",
       "      <td>2.144076e+10</td>\n",
       "      <td>2953.484113</td>\n",
       "      <td>M</td>\n",
       "      <td>M</td>\n",
       "      <td>21.00</td>\n",
       "      <td>0.000533</td>\n",
       "      <td>1.550000e-05</td>\n",
       "    </tr>\n",
       "  </tbody>\n",
       "</table>\n",
       "</div>"
      ],
      "text/plain": [
       "    Country Code     TableName          IncomeGroup  PopDensity_2018  \\\n",
       "177          VNM       Vietnam  Lower middle income       308.125246   \n",
       "178          YEM   Yemen, Rep.           Low income        53.977853   \n",
       "179          ZAF  South Africa  Upper middle income        47.630120   \n",
       "180          ZMB        Zambia  Lower middle income        23.341479   \n",
       "181          ZWE      Zimbabwe  Lower middle income        37.324591   \n",
       "\n",
       "     Confirmed Cases  Deaths  Mortality Rate  Population_2019      GDP_2019  \\\n",
       "177             1069      35        3.274088         96462106  2.619210e+11   \n",
       "178             2030     587       28.916256         29161922           NaN   \n",
       "179           669498   16376        2.446012         58558270  3.514320e+11   \n",
       "180            14612     332        2.272105         17861030  2.306472e+10   \n",
       "181             7803     227        2.909138         14645468  2.144076e+10   \n",
       "\n",
       "     GDP_per_cap_2019 Main Leader Gender Any Leader Gender  Avg Temp  \\\n",
       "177       8374.444328                  M                 M     24.45   \n",
       "178               NaN                  M                 M     23.85   \n",
       "179      12999.120260                  M                 M     17.75   \n",
       "180       3623.699395                  M                 M     21.40   \n",
       "181       2953.484113                  M                 M     21.00   \n",
       "\n",
       "     Normalized Cases  Normalized Deaths  \n",
       "177          0.000011       3.630000e-07  \n",
       "178          0.000070       2.010000e-05  \n",
       "179          0.011433       2.796530e-04  \n",
       "180          0.000818       1.860000e-05  \n",
       "181          0.000533       1.550000e-05  "
      ]
     },
     "execution_count": 26,
     "metadata": {},
     "output_type": "execute_result"
    }
   ],
   "source": [
    "df.tail()"
   ]
  },
  {
   "cell_type": "code",
   "execution_count": 27,
   "id": "3a0318cf",
   "metadata": {},
   "outputs": [
    {
     "data": {
      "text/plain": [
       "Index(['Country Code', 'TableName', 'IncomeGroup', 'PopDensity_2018',\n",
       "       'Confirmed Cases', 'Deaths', 'Mortality Rate', 'Population_2019',\n",
       "       'GDP_2019', 'GDP_per_cap_2019', 'Main Leader Gender',\n",
       "       'Any Leader Gender', 'Avg Temp', 'Normalized Cases',\n",
       "       'Normalized Deaths'],\n",
       "      dtype='object')"
      ]
     },
     "execution_count": 27,
     "metadata": {},
     "output_type": "execute_result"
    }
   ],
   "source": [
    "df.columns"
   ]
  },
  {
   "cell_type": "code",
   "execution_count": 28,
   "id": "6ecf7b47",
   "metadata": {},
   "outputs": [
    {
     "data": {
      "text/html": [
       "<div>\n",
       "<style scoped>\n",
       "    .dataframe tbody tr th:only-of-type {\n",
       "        vertical-align: middle;\n",
       "    }\n",
       "\n",
       "    .dataframe tbody tr th {\n",
       "        vertical-align: top;\n",
       "    }\n",
       "\n",
       "    .dataframe thead th {\n",
       "        text-align: right;\n",
       "    }\n",
       "</style>\n",
       "<table border=\"1\" class=\"dataframe\">\n",
       "  <thead>\n",
       "    <tr style=\"text-align: right;\">\n",
       "      <th></th>\n",
       "      <th>PopDensity_2018</th>\n",
       "      <th>Confirmed Cases</th>\n",
       "      <th>Deaths</th>\n",
       "      <th>Mortality Rate</th>\n",
       "      <th>Population_2019</th>\n",
       "      <th>GDP_2019</th>\n",
       "      <th>GDP_per_cap_2019</th>\n",
       "      <th>Avg Temp</th>\n",
       "      <th>Normalized Cases</th>\n",
       "      <th>Normalized Deaths</th>\n",
       "    </tr>\n",
       "  </thead>\n",
       "  <tbody>\n",
       "    <tr>\n",
       "      <th>count</th>\n",
       "      <td>178.000000</td>\n",
       "      <td>1.820000e+02</td>\n",
       "      <td>182.000000</td>\n",
       "      <td>182.000000</td>\n",
       "      <td>1.820000e+02</td>\n",
       "      <td>1.690000e+02</td>\n",
       "      <td>168.000000</td>\n",
       "      <td>179.000000</td>\n",
       "      <td>182.000000</td>\n",
       "      <td>182.000000</td>\n",
       "    </tr>\n",
       "    <tr>\n",
       "      <th>mean</th>\n",
       "      <td>209.578681</td>\n",
       "      <td>1.798681e+05</td>\n",
       "      <td>5453.186813</td>\n",
       "      <td>2.552053</td>\n",
       "      <td>4.176762e+07</td>\n",
       "      <td>5.037484e+11</td>\n",
       "      <td>22175.663497</td>\n",
       "      <td>18.511117</td>\n",
       "      <td>0.005142</td>\n",
       "      <td>0.000126</td>\n",
       "    </tr>\n",
       "    <tr>\n",
       "      <th>std</th>\n",
       "      <td>642.276577</td>\n",
       "      <td>7.728216e+05</td>\n",
       "      <td>21079.533796</td>\n",
       "      <td>2.807438</td>\n",
       "      <td>1.494774e+08</td>\n",
       "      <td>2.060972e+12</td>\n",
       "      <td>22028.464791</td>\n",
       "      <td>8.179984</td>\n",
       "      <td>0.007289</td>\n",
       "      <td>0.000208</td>\n",
       "    </tr>\n",
       "    <tr>\n",
       "      <th>min</th>\n",
       "      <td>2.040609</td>\n",
       "      <td>1.900000e+01</td>\n",
       "      <td>0.000000</td>\n",
       "      <td>0.000000</td>\n",
       "      <td>3.386000e+04</td>\n",
       "      <td>4.290166e+08</td>\n",
       "      <td>782.816589</td>\n",
       "      <td>-5.100000</td>\n",
       "      <td>0.000003</td>\n",
       "      <td>0.000000</td>\n",
       "    </tr>\n",
       "    <tr>\n",
       "      <th>25%</th>\n",
       "      <td>37.143092</td>\n",
       "      <td>2.930250e+03</td>\n",
       "      <td>50.000000</td>\n",
       "      <td>1.063698</td>\n",
       "      <td>2.689939e+06</td>\n",
       "      <td>1.282700e+10</td>\n",
       "      <td>5398.131919</td>\n",
       "      <td>10.625000</td>\n",
       "      <td>0.000540</td>\n",
       "      <td>0.000008</td>\n",
       "    </tr>\n",
       "    <tr>\n",
       "      <th>50%</th>\n",
       "      <td>83.949492</td>\n",
       "      <td>1.337950e+04</td>\n",
       "      <td>228.000000</td>\n",
       "      <td>2.004451</td>\n",
       "      <td>9.758033e+06</td>\n",
       "      <td>4.731962e+10</td>\n",
       "      <td>14747.947505</td>\n",
       "      <td>21.850000</td>\n",
       "      <td>0.002313</td>\n",
       "      <td>0.000038</td>\n",
       "    </tr>\n",
       "    <tr>\n",
       "      <th>75%</th>\n",
       "      <td>204.487818</td>\n",
       "      <td>7.642675e+04</td>\n",
       "      <td>1450.000000</td>\n",
       "      <td>3.071983</td>\n",
       "      <td>3.040490e+07</td>\n",
       "      <td>2.619210e+11</td>\n",
       "      <td>32413.601215</td>\n",
       "      <td>25.325000</td>\n",
       "      <td>0.006527</td>\n",
       "      <td>0.000135</td>\n",
       "    </tr>\n",
       "    <tr>\n",
       "      <th>max</th>\n",
       "      <td>7952.998418</td>\n",
       "      <td>7.078039e+06</td>\n",
       "      <td>204486.000000</td>\n",
       "      <td>28.916256</td>\n",
       "      <td>1.397715e+09</td>\n",
       "      <td>2.137440e+13</td>\n",
       "      <td>121292.739300</td>\n",
       "      <td>28.290000</td>\n",
       "      <td>0.044084</td>\n",
       "      <td>0.001240</td>\n",
       "    </tr>\n",
       "  </tbody>\n",
       "</table>\n",
       "</div>"
      ],
      "text/plain": [
       "       PopDensity_2018  Confirmed Cases         Deaths  Mortality Rate  \\\n",
       "count       178.000000     1.820000e+02     182.000000      182.000000   \n",
       "mean        209.578681     1.798681e+05    5453.186813        2.552053   \n",
       "std         642.276577     7.728216e+05   21079.533796        2.807438   \n",
       "min           2.040609     1.900000e+01       0.000000        0.000000   \n",
       "25%          37.143092     2.930250e+03      50.000000        1.063698   \n",
       "50%          83.949492     1.337950e+04     228.000000        2.004451   \n",
       "75%         204.487818     7.642675e+04    1450.000000        3.071983   \n",
       "max        7952.998418     7.078039e+06  204486.000000       28.916256   \n",
       "\n",
       "       Population_2019      GDP_2019  GDP_per_cap_2019    Avg Temp  \\\n",
       "count     1.820000e+02  1.690000e+02        168.000000  179.000000   \n",
       "mean      4.176762e+07  5.037484e+11      22175.663497   18.511117   \n",
       "std       1.494774e+08  2.060972e+12      22028.464791    8.179984   \n",
       "min       3.386000e+04  4.290166e+08        782.816589   -5.100000   \n",
       "25%       2.689939e+06  1.282700e+10       5398.131919   10.625000   \n",
       "50%       9.758033e+06  4.731962e+10      14747.947505   21.850000   \n",
       "75%       3.040490e+07  2.619210e+11      32413.601215   25.325000   \n",
       "max       1.397715e+09  2.137440e+13     121292.739300   28.290000   \n",
       "\n",
       "       Normalized Cases  Normalized Deaths  \n",
       "count        182.000000         182.000000  \n",
       "mean           0.005142           0.000126  \n",
       "std            0.007289           0.000208  \n",
       "min            0.000003           0.000000  \n",
       "25%            0.000540           0.000008  \n",
       "50%            0.002313           0.000038  \n",
       "75%            0.006527           0.000135  \n",
       "max            0.044084           0.001240  "
      ]
     },
     "execution_count": 28,
     "metadata": {},
     "output_type": "execute_result"
    }
   ],
   "source": [
    "df.describe()"
   ]
  },
  {
   "cell_type": "code",
   "execution_count": 29,
   "id": "6621c887",
   "metadata": {},
   "outputs": [
    {
     "data": {
      "text/plain": [
       "Country Code  TableName    IncomeGroup          PopDensity_2018  Confirmed Cases  Deaths  Mortality Rate  Population_2019  GDP_2019      GDP_per_cap_2019  Main Leader Gender  Any Leader Gender  Avg Temp  Normalized Cases  Normalized Deaths\n",
       "AFG           Afghanistan  Low income           56.937760        39192            1453    3.707389        38041754         1.910135e+10  2293.551684       M                   M                   12.60    0.001030          0.000038             1\n",
       "MLT           Malta        High income          1514.468750      2958             31      1.048005        502653           1.478616e+10  45651.575000      M                   M                   19.20    0.005885          0.000062             1\n",
       "MNE           Montenegro   Upper middle income  46.262230        10197            158     1.549475        622137           5.494737e+09  22988.680200      M                   M                   10.55    0.016390          0.000254             1\n",
       "MNG           Mongolia     Lower middle income  2.040609         313              0       0.000000        3225167          1.385285e+10  12819.948580      M                   M                  -0.70     0.000097          0.000000             1\n",
       "MOZ           Mozambique   Low income           37.508535        7757             54      0.696145        30366036         1.493416e+10  1333.518167       M                   M                   23.80    0.000255          0.000002             1\n",
       "                                                                                                                                                                                                                                                  ..\n",
       "GEO           Georgia      Upper middle income  65.197330        4960             28      0.564516        3720382          1.774320e+10  15636.553760      M                   F                   5.80     0.001333          0.000008             1\n",
       "GHA           Ghana        Lower middle income  130.821429       46222            299     0.646878        30417856         6.698363e+10  5636.953910       M                   M                   27.20    0.001520          0.000010             1\n",
       "GIN           Guinea       Low income           50.522212        10512            65      0.618341        12771246         1.359028e+10  2670.308947       M                   M                   25.70    0.000823          0.000005             1\n",
       "GMB           Gambia, The  Low income           225.306522       3555             110     3.094233        2347706          1.763819e+09  2298.378173       M                   M                   27.50    0.001514          0.000047             1\n",
       "ZWE           Zimbabwe     Lower middle income  37.324591        7803             227     2.909138        14645468         2.144076e+10  2953.484113       M                   M                   21.00    0.000533          0.000016             1\n",
       "Length: 166, dtype: int64"
      ]
     },
     "execution_count": 29,
     "metadata": {},
     "output_type": "execute_result"
    }
   ],
   "source": [
    "df.value_counts()"
   ]
  },
  {
   "cell_type": "code",
   "execution_count": 30,
   "id": "18cea8cd",
   "metadata": {},
   "outputs": [
    {
     "data": {
      "image/png": "[encoded data removed]",
      "text/plain": [
       "<Figure size 432x288 with 1 Axes>"
      ]
     },
     "metadata": {
      "needs_background": "light"
     },
     "output_type": "display_data"
    }
   ],
   "source": [
    "df.Deaths.hist(bins = 30);"
   ]
  },
  {
   "cell_type": "code",
   "execution_count": 31,
   "id": "d1cf8dfb",
   "metadata": {},
   "outputs": [
    {
     "data": {
      "image/png": "[encoded data removed]",
      "text/plain": [
       "<Figure size 432x288 with 1 Axes>"
      ]
     },
     "metadata": {
      "needs_background": "light"
     },
     "output_type": "display_data"
    }
   ],
   "source": [
    "df.GDP_2019.hist(bins=30);"
   ]
  },
  {
   "cell_type": "code",
   "execution_count": 32,
   "id": "cd8b8b76",
   "metadata": {},
   "outputs": [
    {
     "data": {
      "image/png": "[encoded data removed]",
      "text/plain": [
       "<Figure size 432x288 with 1 Axes>"
      ]
     },
     "metadata": {
      "needs_background": "light"
     },
     "output_type": "display_data"
    }
   ],
   "source": [
    "df.GDP_2019.hist();"
   ]
  },
  {
   "cell_type": "code",
   "execution_count": 33,
   "id": "667ac8f2",
   "metadata": {},
   "outputs": [
    {
     "data": {
      "image/png": "[encoded data removed]",
      "text/plain": [
       "<Figure size 432x288 with 1 Axes>"
      ]
     },
     "metadata": {
      "needs_background": "light"
     },
     "output_type": "display_data"
    }
   ],
   "source": [
    "df.Population_2019.hist(bins=30);"
   ]
  },
  {
   "cell_type": "code",
   "execution_count": 34,
   "id": "1fdd2c85",
   "metadata": {},
   "outputs": [
    {
     "data": {
      "image/png": "[encoded data removed]",
      "text/plain": [
       "<Figure size 432x288 with 1 Axes>"
      ]
     },
     "metadata": {
      "needs_background": "light"
     },
     "output_type": "display_data"
    }
   ],
   "source": [
    "df.GDP_per_cap_2019.hist(bins=10);"
   ]
  },
  {
   "cell_type": "code",
   "execution_count": 35,
   "id": "f2f5b1b5",
   "metadata": {},
   "outputs": [
    {
     "data": {
      "image/png": "[encoded data removed]",
      "text/plain": [
       "<Figure size 432x288 with 1 Axes>"
      ]
     },
     "metadata": {
      "needs_background": "light"
     },
     "output_type": "display_data"
    }
   ],
   "source": [
    "df.Population_2019.hist(bins=30);"
   ]
  },
  {
   "cell_type": "markdown",
   "id": "61244c42",
   "metadata": {},
   "source": [
    "# Probability Distributions\n",
    "#### Data generating Process(DGP);\n",
    "(Take me through the process and convince me about what you discovered) gives the idea of probability distribution\n",
    "\n",
    "## Probability Distribution;\n",
    "(PDF)how did you aquire te data ie share the questionaire\n",
    "Describe the data \n",
    "Key interest/variable(why)\n",
    "Relationship(how does it come about)\n",
    "All these lead us to thinking about te following distrubutions\n",
    "1. Normal/ gausian: Most common\n",
    "2.poison\n",
    "3.uniform\n",
    "4.Geonemetry\n",
    "#### Probability comes in away that it leads to wonder forexemple whats the probability taht the goats are real(ref to the goats that were in atree)\n",
    "###### Different distributions derive different meaning from the data\n",
    "# NB\n",
    "-Data Process\n",
    "-Distribution used\n",
    "-Chance of occurrence"
   ]
  },
  {
   "cell_type": "markdown",
   "id": "0ec85700",
   "metadata": {},
   "source": [
    "value = [1,2,3,4,5,6]\n",
    "probability =[1/6,1/6/1/6,1/6,1/6,1/6]\n",
    "# Empirical\n",
    "distribution based on data"
   ]
  },
  {
   "cell_type": "code",
   "execution_count": 36,
   "id": "58fe0b5d",
   "metadata": {},
   "outputs": [
    {
     "name": "stdout",
     "output_type": "stream",
     "text": [
      "Requirement already satisfied: empiricaldist in c:\\users\\adequate minister\\appdata\\local\\programs\\python\\python310\\lib\\site-packages (0.6.7)\n",
      "Note: you may need to restart the kernel to use updated packages.\n"
     ]
    }
   ],
   "source": [
    "pip install empiricaldist"
   ]
  },
  {
   "cell_type": "code",
   "execution_count": 37,
   "id": "badd66c3",
   "metadata": {},
   "outputs": [],
   "source": [
    "from empiricaldist import Pmf"
   ]
  },
  {
   "cell_type": "code",
   "execution_count": 38,
   "id": "69be5349",
   "metadata": {},
   "outputs": [
    {
     "data": {
      "text/html": [
       "<div>\n",
       "<style scoped>\n",
       "    .dataframe tbody tr th:only-of-type {\n",
       "        vertical-align: middle;\n",
       "    }\n",
       "\n",
       "    .dataframe tbody tr th {\n",
       "        vertical-align: top;\n",
       "    }\n",
       "\n",
       "    .dataframe thead th {\n",
       "        text-align: right;\n",
       "    }\n",
       "</style>\n",
       "<table border=\"1\" class=\"dataframe\">\n",
       "  <thead>\n",
       "    <tr style=\"text-align: right;\">\n",
       "      <th></th>\n",
       "      <th>probs</th>\n",
       "    </tr>\n",
       "  </thead>\n",
       "  <tbody>\n",
       "    <tr>\n",
       "      <th>1</th>\n",
       "      <td>0.166667</td>\n",
       "    </tr>\n",
       "    <tr>\n",
       "      <th>2</th>\n",
       "      <td>0.166667</td>\n",
       "    </tr>\n",
       "    <tr>\n",
       "      <th>3</th>\n",
       "      <td>0.166667</td>\n",
       "    </tr>\n",
       "    <tr>\n",
       "      <th>4</th>\n",
       "      <td>0.166667</td>\n",
       "    </tr>\n",
       "    <tr>\n",
       "      <th>5</th>\n",
       "      <td>0.166667</td>\n",
       "    </tr>\n",
       "    <tr>\n",
       "      <th>6</th>\n",
       "      <td>0.166667</td>\n",
       "    </tr>\n",
       "  </tbody>\n",
       "</table>\n",
       "</div>"
      ],
      "text/plain": [
       "1    0.166667\n",
       "2    0.166667\n",
       "3    0.166667\n",
       "4    0.166667\n",
       "5    0.166667\n",
       "6    0.166667\n",
       "Name: , dtype: float64"
      ]
     },
     "execution_count": 38,
     "metadata": {},
     "output_type": "execute_result"
    }
   ],
   "source": [
    "outcome = [1,2,3,4,5,6]\n",
    "die =Pmf(1/6,outcome)\n",
    "die"
   ]
  },
  {
   "cell_type": "markdown",
   "id": "0c2ff6a6",
   "metadata": {},
   "source": [
    "Gss survey\n",
    "it was generated in 1972\n",
    "Gss eplorer=> Gss tool\n",
    "## file formats\n",
    "csv\n",
    "xml\n",
    "R\n",
    "xlsx\n",
    "sav\n",
    "doc\n",
    "txt"
   ]
  },
  {
   "cell_type": "code",
   "execution_count": 43,
   "id": "b657dc74",
   "metadata": {},
   "outputs": [
    {
     "ename": "SyntaxError",
     "evalue": "invalid syntax (2178969467.py, line 2)",
     "output_type": "error",
     "traceback": [
      "\u001b[1;36m  Input \u001b[1;32mIn [43]\u001b[1;36m\u001b[0m\n\u001b[1;33m    pip install statadict\u001b[0m\n\u001b[1;37m        ^\u001b[0m\n\u001b[1;31mSyntaxError\u001b[0m\u001b[1;31m:\u001b[0m invalid syntax\n"
     ]
    }
   ],
   "source": [
    "#library for reading data dictionaries\n",
    "pip install statadict"
   ]
  },
  {
   "cell_type": "code",
   "execution_count": 44,
   "id": "82bb7fc6",
   "metadata": {},
   "outputs": [],
   "source": [
    "dict_file = \"Gss.dict\""
   ]
  },
  {
   "cell_type": "code",
   "execution_count": 45,
   "id": "85f354a2",
   "metadata": {},
   "outputs": [],
   "source": [
    "data_file = \"Gss.data.gz\""
   ]
  },
  {
   "cell_type": "code",
   "execution_count": 46,
   "id": "5d30b9af",
   "metadata": {},
   "outputs": [
    {
     "ename": "ImportError",
     "evalue": "cannot import name 'stataDic' from 'statadict' (C:\\Users\\Adequate Minister\\AppData\\Local\\Programs\\Python\\Python310\\lib\\site-packages\\statadict\\__init__.py)",
     "output_type": "error",
     "traceback": [
      "\u001b[1;31m---------------------------------------------------------------------------\u001b[0m",
      "\u001b[1;31mImportError\u001b[0m                               Traceback (most recent call last)",
      "Input \u001b[1;32mIn [46]\u001b[0m, in \u001b[0;36m<cell line: 1>\u001b[1;34m()\u001b[0m\n\u001b[1;32m----> 1\u001b[0m \u001b[38;5;28;01mfrom\u001b[39;00m \u001b[38;5;21;01mstatadict\u001b[39;00m \u001b[38;5;28;01mimport\u001b[39;00m stataDic\n\u001b[0;32m      2\u001b[0m stata_dict \u001b[38;5;241m=\u001b[39m parse_stata_dict(dict_file)\n",
      "\u001b[1;31mImportError\u001b[0m: cannot import name 'stataDic' from 'statadict' (C:\\Users\\Adequate Minister\\AppData\\Local\\Programs\\Python\\Python310\\lib\\site-packages\\statadict\\__init__.py)"
     ]
    }
   ],
   "source": [
    "from statadict import stataDic\n",
    "stata_dict = parse_stata_dict(dict_file)\n"
   ]
  },
  {
   "cell_type": "code",
   "execution_count": 47,
   "id": "b76f9b42",
   "metadata": {},
   "outputs": [
    {
     "name": "stdout",
     "output_type": "stream",
     "text": [
      "Note: you may need to restart the kernel to use updated packages.\n"
     ]
    },
    {
     "name": "stderr",
     "output_type": "stream",
     "text": [
      "ERROR: Could not find a version that satisfies the requirement gzip (from versions: none)\n",
      "ERROR: No matching distribution found for gzip\n"
     ]
    }
   ],
   "source": [
    "pip install gzip"
   ]
  },
  {
   "cell_type": "code",
   "execution_count": 48,
   "id": "0a9e0a64",
   "metadata": {},
   "outputs": [],
   "source": [
    "import pandas as pd\n"
   ]
  },
  {
   "cell_type": "code",
   "execution_count": 51,
   "id": "94325b2d",
   "metadata": {},
   "outputs": [
    {
     "data": {
      "text/html": [
       "<div>\n",
       "<style scoped>\n",
       "    .dataframe tbody tr th:only-of-type {\n",
       "        vertical-align: middle;\n",
       "    }\n",
       "\n",
       "    .dataframe tbody tr th {\n",
       "        vertical-align: top;\n",
       "    }\n",
       "\n",
       "    .dataframe thead th {\n",
       "        text-align: right;\n",
       "    }\n",
       "</style>\n",
       "<table border=\"1\" class=\"dataframe\">\n",
       "  <thead>\n",
       "    <tr style=\"text-align: right;\">\n",
       "      <th></th>\n",
       "      <th>Country Code</th>\n",
       "      <th>TableName</th>\n",
       "      <th>IncomeGroup</th>\n",
       "      <th>PopDensity_2018</th>\n",
       "      <th>Confirmed Cases</th>\n",
       "      <th>Deaths</th>\n",
       "      <th>Mortality Rate</th>\n",
       "      <th>Population_2019</th>\n",
       "      <th>GDP_2019</th>\n",
       "      <th>GDP_per_cap_2019</th>\n",
       "      <th>Main Leader Gender</th>\n",
       "      <th>Any Leader Gender</th>\n",
       "      <th>Avg Temp</th>\n",
       "      <th>Normalized Cases</th>\n",
       "      <th>Normalized Deaths</th>\n",
       "    </tr>\n",
       "  </thead>\n",
       "  <tbody>\n",
       "    <tr>\n",
       "      <th>0</th>\n",
       "      <td>AFG</td>\n",
       "      <td>Afghanistan</td>\n",
       "      <td>Low income</td>\n",
       "      <td>56.937760</td>\n",
       "      <td>39192</td>\n",
       "      <td>1453</td>\n",
       "      <td>3.707389</td>\n",
       "      <td>38041754</td>\n",
       "      <td>1.910135e+10</td>\n",
       "      <td>2293.551684</td>\n",
       "      <td>M</td>\n",
       "      <td>M</td>\n",
       "      <td>12.60</td>\n",
       "      <td>0.001030</td>\n",
       "      <td>3.820000e-05</td>\n",
       "    </tr>\n",
       "    <tr>\n",
       "      <th>1</th>\n",
       "      <td>AGO</td>\n",
       "      <td>Angola</td>\n",
       "      <td>Lower middle income</td>\n",
       "      <td>24.713052</td>\n",
       "      <td>4672</td>\n",
       "      <td>171</td>\n",
       "      <td>3.660103</td>\n",
       "      <td>31825295</td>\n",
       "      <td>9.463542e+10</td>\n",
       "      <td>6929.678158</td>\n",
       "      <td>M</td>\n",
       "      <td>M</td>\n",
       "      <td>21.55</td>\n",
       "      <td>0.000147</td>\n",
       "      <td>5.370000e-06</td>\n",
       "    </tr>\n",
       "    <tr>\n",
       "      <th>2</th>\n",
       "      <td>ALB</td>\n",
       "      <td>Albania</td>\n",
       "      <td>Upper middle income</td>\n",
       "      <td>104.612263</td>\n",
       "      <td>13153</td>\n",
       "      <td>375</td>\n",
       "      <td>2.851061</td>\n",
       "      <td>2854191</td>\n",
       "      <td>1.527808e+10</td>\n",
       "      <td>14495.078510</td>\n",
       "      <td>M</td>\n",
       "      <td>M</td>\n",
       "      <td>11.40</td>\n",
       "      <td>0.004608</td>\n",
       "      <td>1.313860e-04</td>\n",
       "    </tr>\n",
       "    <tr>\n",
       "      <th>3</th>\n",
       "      <td>AND</td>\n",
       "      <td>Andorra</td>\n",
       "      <td>High income</td>\n",
       "      <td>163.842553</td>\n",
       "      <td>1836</td>\n",
       "      <td>53</td>\n",
       "      <td>2.886710</td>\n",
       "      <td>77142</td>\n",
       "      <td>3.154058e+09</td>\n",
       "      <td>NaN</td>\n",
       "      <td>M</td>\n",
       "      <td>M</td>\n",
       "      <td>7.60</td>\n",
       "      <td>0.023800</td>\n",
       "      <td>6.870450e-04</td>\n",
       "    </tr>\n",
       "    <tr>\n",
       "      <th>4</th>\n",
       "      <td>ARE</td>\n",
       "      <td>United Arab Emirates</td>\n",
       "      <td>High income</td>\n",
       "      <td>135.609110</td>\n",
       "      <td>90618</td>\n",
       "      <td>411</td>\n",
       "      <td>0.453552</td>\n",
       "      <td>9770529</td>\n",
       "      <td>4.211420e+11</td>\n",
       "      <td>69900.877850</td>\n",
       "      <td>M</td>\n",
       "      <td>M</td>\n",
       "      <td>27.00</td>\n",
       "      <td>0.009275</td>\n",
       "      <td>4.210000e-05</td>\n",
       "    </tr>\n",
       "    <tr>\n",
       "      <th>...</th>\n",
       "      <td>...</td>\n",
       "      <td>...</td>\n",
       "      <td>...</td>\n",
       "      <td>...</td>\n",
       "      <td>...</td>\n",
       "      <td>...</td>\n",
       "      <td>...</td>\n",
       "      <td>...</td>\n",
       "      <td>...</td>\n",
       "      <td>...</td>\n",
       "      <td>...</td>\n",
       "      <td>...</td>\n",
       "      <td>...</td>\n",
       "      <td>...</td>\n",
       "      <td>...</td>\n",
       "    </tr>\n",
       "    <tr>\n",
       "      <th>177</th>\n",
       "      <td>VNM</td>\n",
       "      <td>Vietnam</td>\n",
       "      <td>Lower middle income</td>\n",
       "      <td>308.125246</td>\n",
       "      <td>1069</td>\n",
       "      <td>35</td>\n",
       "      <td>3.274088</td>\n",
       "      <td>96462106</td>\n",
       "      <td>2.619210e+11</td>\n",
       "      <td>8374.444328</td>\n",
       "      <td>M</td>\n",
       "      <td>M</td>\n",
       "      <td>24.45</td>\n",
       "      <td>0.000011</td>\n",
       "      <td>3.630000e-07</td>\n",
       "    </tr>\n",
       "    <tr>\n",
       "      <th>178</th>\n",
       "      <td>YEM</td>\n",
       "      <td>Yemen, Rep.</td>\n",
       "      <td>Low income</td>\n",
       "      <td>53.977853</td>\n",
       "      <td>2030</td>\n",
       "      <td>587</td>\n",
       "      <td>28.916256</td>\n",
       "      <td>29161922</td>\n",
       "      <td>NaN</td>\n",
       "      <td>NaN</td>\n",
       "      <td>M</td>\n",
       "      <td>M</td>\n",
       "      <td>23.85</td>\n",
       "      <td>0.000070</td>\n",
       "      <td>2.010000e-05</td>\n",
       "    </tr>\n",
       "    <tr>\n",
       "      <th>179</th>\n",
       "      <td>ZAF</td>\n",
       "      <td>South Africa</td>\n",
       "      <td>Upper middle income</td>\n",
       "      <td>47.630120</td>\n",
       "      <td>669498</td>\n",
       "      <td>16376</td>\n",
       "      <td>2.446012</td>\n",
       "      <td>58558270</td>\n",
       "      <td>3.514320e+11</td>\n",
       "      <td>12999.120260</td>\n",
       "      <td>M</td>\n",
       "      <td>M</td>\n",
       "      <td>17.75</td>\n",
       "      <td>0.011433</td>\n",
       "      <td>2.796530e-04</td>\n",
       "    </tr>\n",
       "    <tr>\n",
       "      <th>180</th>\n",
       "      <td>ZMB</td>\n",
       "      <td>Zambia</td>\n",
       "      <td>Lower middle income</td>\n",
       "      <td>23.341479</td>\n",
       "      <td>14612</td>\n",
       "      <td>332</td>\n",
       "      <td>2.272105</td>\n",
       "      <td>17861030</td>\n",
       "      <td>2.306472e+10</td>\n",
       "      <td>3623.699395</td>\n",
       "      <td>M</td>\n",
       "      <td>M</td>\n",
       "      <td>21.40</td>\n",
       "      <td>0.000818</td>\n",
       "      <td>1.860000e-05</td>\n",
       "    </tr>\n",
       "    <tr>\n",
       "      <th>181</th>\n",
       "      <td>ZWE</td>\n",
       "      <td>Zimbabwe</td>\n",
       "      <td>Lower middle income</td>\n",
       "      <td>37.324591</td>\n",
       "      <td>7803</td>\n",
       "      <td>227</td>\n",
       "      <td>2.909138</td>\n",
       "      <td>14645468</td>\n",
       "      <td>2.144076e+10</td>\n",
       "      <td>2953.484113</td>\n",
       "      <td>M</td>\n",
       "      <td>M</td>\n",
       "      <td>21.00</td>\n",
       "      <td>0.000533</td>\n",
       "      <td>1.550000e-05</td>\n",
       "    </tr>\n",
       "  </tbody>\n",
       "</table>\n",
       "<p>182 rows × 15 columns</p>\n",
       "</div>"
      ],
      "text/plain": [
       "    Country Code             TableName          IncomeGroup  PopDensity_2018  \\\n",
       "0            AFG           Afghanistan           Low income        56.937760   \n",
       "1            AGO                Angola  Lower middle income        24.713052   \n",
       "2            ALB               Albania  Upper middle income       104.612263   \n",
       "3            AND               Andorra          High income       163.842553   \n",
       "4            ARE  United Arab Emirates          High income       135.609110   \n",
       "..           ...                   ...                  ...              ...   \n",
       "177          VNM               Vietnam  Lower middle income       308.125246   \n",
       "178          YEM           Yemen, Rep.           Low income        53.977853   \n",
       "179          ZAF          South Africa  Upper middle income        47.630120   \n",
       "180          ZMB                Zambia  Lower middle income        23.341479   \n",
       "181          ZWE              Zimbabwe  Lower middle income        37.324591   \n",
       "\n",
       "     Confirmed Cases  Deaths  Mortality Rate  Population_2019      GDP_2019  \\\n",
       "0              39192    1453        3.707389         38041754  1.910135e+10   \n",
       "1               4672     171        3.660103         31825295  9.463542e+10   \n",
       "2              13153     375        2.851061          2854191  1.527808e+10   \n",
       "3               1836      53        2.886710            77142  3.154058e+09   \n",
       "4              90618     411        0.453552          9770529  4.211420e+11   \n",
       "..               ...     ...             ...              ...           ...   \n",
       "177             1069      35        3.274088         96462106  2.619210e+11   \n",
       "178             2030     587       28.916256         29161922           NaN   \n",
       "179           669498   16376        2.446012         58558270  3.514320e+11   \n",
       "180            14612     332        2.272105         17861030  2.306472e+10   \n",
       "181             7803     227        2.909138         14645468  2.144076e+10   \n",
       "\n",
       "     GDP_per_cap_2019 Main Leader Gender Any Leader Gender  Avg Temp  \\\n",
       "0         2293.551684                  M                 M     12.60   \n",
       "1         6929.678158                  M                 M     21.55   \n",
       "2        14495.078510                  M                 M     11.40   \n",
       "3                 NaN                  M                 M      7.60   \n",
       "4        69900.877850                  M                 M     27.00   \n",
       "..                ...                ...               ...       ...   \n",
       "177       8374.444328                  M                 M     24.45   \n",
       "178               NaN                  M                 M     23.85   \n",
       "179      12999.120260                  M                 M     17.75   \n",
       "180       3623.699395                  M                 M     21.40   \n",
       "181       2953.484113                  M                 M     21.00   \n",
       "\n",
       "     Normalized Cases  Normalized Deaths  \n",
       "0            0.001030       3.820000e-05  \n",
       "1            0.000147       5.370000e-06  \n",
       "2            0.004608       1.313860e-04  \n",
       "3            0.023800       6.870450e-04  \n",
       "4            0.009275       4.210000e-05  \n",
       "..                ...                ...  \n",
       "177          0.000011       3.630000e-07  \n",
       "178          0.000070       2.010000e-05  \n",
       "179          0.011433       2.796530e-04  \n",
       "180          0.000818       1.860000e-05  \n",
       "181          0.000533       1.550000e-05  \n",
       "\n",
       "[182 rows x 15 columns]"
      ]
     },
     "execution_count": 51,
     "metadata": {},
     "output_type": "execute_result"
    }
   ],
   "source": [
    "data_frame = pd.read_csv(\"exam1.csv\")\n",
    "data_frame"
   ]
  },
  {
   "cell_type": "code",
   "execution_count": 52,
   "id": "f7f87ccd",
   "metadata": {},
   "outputs": [
    {
     "data": {
      "text/plain": [
       "Index(['Country Code', 'TableName', 'IncomeGroup', 'PopDensity_2018',\n",
       "       'Confirmed Cases', 'Deaths', 'Mortality Rate', 'Population_2019',\n",
       "       'GDP_2019', 'GDP_per_cap_2019', 'Main Leader Gender',\n",
       "       'Any Leader Gender', 'Avg Temp', 'Normalized Cases',\n",
       "       'Normalized Deaths'],\n",
       "      dtype='object')"
      ]
     },
     "execution_count": 52,
     "metadata": {},
     "output_type": "execute_result"
    }
   ],
   "source": [
    "data_frame.columns"
   ]
  },
  {
   "cell_type": "code",
   "execution_count": 53,
   "id": "0aa38494",
   "metadata": {},
   "outputs": [
    {
     "data": {
      "text/plain": [
       "33860         1\n",
       "38019         1\n",
       "38964         1\n",
       "52823         1\n",
       "71808         1\n",
       "             ..\n",
       "216565318     1\n",
       "270625568     1\n",
       "328239523     1\n",
       "1366417754    1\n",
       "1397715000    1\n",
       "Name: Population_2019, Length: 182, dtype: int64"
      ]
     },
     "execution_count": 53,
     "metadata": {},
     "output_type": "execute_result"
    }
   ],
   "source": [
    "data_frame['Population_2019'].value_counts().sort_index()"
   ]
  },
  {
   "cell_type": "code",
   "execution_count": 54,
   "id": "4a596e82",
   "metadata": {},
   "outputs": [
    {
     "data": {
      "text/plain": [
       "38041754    1\n",
       "622137      1\n",
       "30366036    1\n",
       "4525696     1\n",
       "1265711     1\n",
       "           ..\n",
       "30417856    1\n",
       "12771246    1\n",
       "2347706     1\n",
       "1920922     1\n",
       "14645468    1\n",
       "Name: Population_2019, Length: 182, dtype: int64"
      ]
     },
     "execution_count": 54,
     "metadata": {},
     "output_type": "execute_result"
    }
   ],
   "source": [
    "#without Sort_index\n",
    "data_frame['Population_2019'].value_counts()"
   ]
  },
  {
   "cell_type": "code",
   "execution_count": 55,
   "id": "d723c770",
   "metadata": {},
   "outputs": [
    {
     "data": {
      "text/plain": [
       "0      38041754\n",
       "1      31825295\n",
       "2       2854191\n",
       "3         77142\n",
       "4       9770529\n",
       "         ...   \n",
       "177    96462106\n",
       "178    29161922\n",
       "179    58558270\n",
       "180    17861030\n",
       "181    14645468\n",
       "Name: Population_2019, Length: 182, dtype: int64"
      ]
     },
     "execution_count": 55,
     "metadata": {},
     "output_type": "execute_result"
    }
   ],
   "source": [
    "#without Value_count\n",
    "data_frame['Population_2019'].sort_index()"
   ]
  },
  {
   "cell_type": "code",
   "execution_count": 56,
   "id": "06146e70",
   "metadata": {},
   "outputs": [],
   "source": [
    "import matplotlib.pyplot as plt"
   ]
  },
  {
   "cell_type": "code",
   "execution_count": 57,
   "id": "f3dbbae6",
   "metadata": {},
   "outputs": [
    {
     "data": {
      "text/plain": [
       "33860         1\n",
       "38019         1\n",
       "38964         1\n",
       "52823         1\n",
       "71808         1\n",
       "             ..\n",
       "216565318     1\n",
       "270625568     1\n",
       "328239523     1\n",
       "1366417754    1\n",
       "1397715000    1\n",
       "Name: Population_2019, Length: 182, dtype: int64"
      ]
     },
     "execution_count": 57,
     "metadata": {},
     "output_type": "execute_result"
    }
   ],
   "source": [
    "histo = data_frame['Population_2019'].value_counts().sort_index()\n",
    "histo"
   ]
  },
  {
   "cell_type": "code",
   "execution_count": 58,
   "id": "bafb5d39",
   "metadata": {},
   "outputs": [
    {
     "data": {
      "image/png": "[encoded data removed]",
      "text/plain": [
       "<Figure size 432x288 with 1 Axes>"
      ]
     },
     "metadata": {
      "needs_background": "light"
     },
     "output_type": "display_data"
    }
   ],
   "source": [
    "data_frame.hist(\"Population_2019\");\n",
    "\n"
   ]
  },
  {
   "cell_type": "code",
   "execution_count": 59,
   "id": "cf6e1f85",
   "metadata": {},
   "outputs": [
    {
     "data": {
      "text/html": [
       "<div>\n",
       "<style scoped>\n",
       "    .dataframe tbody tr th:only-of-type {\n",
       "        vertical-align: middle;\n",
       "    }\n",
       "\n",
       "    .dataframe tbody tr th {\n",
       "        vertical-align: top;\n",
       "    }\n",
       "\n",
       "    .dataframe thead th {\n",
       "        text-align: right;\n",
       "    }\n",
       "</style>\n",
       "<table border=\"1\" class=\"dataframe\">\n",
       "  <thead>\n",
       "    <tr style=\"text-align: right;\">\n",
       "      <th></th>\n",
       "      <th>probs</th>\n",
       "    </tr>\n",
       "  </thead>\n",
       "  <tbody>\n",
       "    <tr>\n",
       "      <th>Population_2019</th>\n",
       "      <td>1</td>\n",
       "    </tr>\n",
       "  </tbody>\n",
       "</table>\n",
       "</div>"
      ],
      "text/plain": [
       "Population_2019    1\n",
       "Name: , dtype: int64"
      ]
     },
     "execution_count": 59,
     "metadata": {},
     "output_type": "execute_result"
    }
   ],
   "source": [
    "Pmf_Population_2019 = Pmf.from_seq(\"Population_2019\",normalize = False)\n",
    "Pmf_Population_2019\n"
   ]
  },
  {
   "cell_type": "code",
   "execution_count": 60,
   "id": "6eb012f6",
   "metadata": {},
   "outputs": [
    {
     "data": {
      "text/plain": [
       "empiricaldist.empiricaldist.Pmf"
      ]
     },
     "execution_count": 60,
     "metadata": {},
     "output_type": "execute_result"
    }
   ],
   "source": [
    "type(Pmf_Population_2019)"
   ]
  },
  {
   "cell_type": "code",
   "execution_count": 61,
   "id": "ad1ca4e2",
   "metadata": {},
   "outputs": [
    {
     "data": {
      "text/html": [
       "<div>\n",
       "<style scoped>\n",
       "    .dataframe tbody tr th:only-of-type {\n",
       "        vertical-align: middle;\n",
       "    }\n",
       "\n",
       "    .dataframe tbody tr th {\n",
       "        vertical-align: top;\n",
       "    }\n",
       "\n",
       "    .dataframe thead th {\n",
       "        text-align: right;\n",
       "    }\n",
       "</style>\n",
       "<table border=\"1\" class=\"dataframe\">\n",
       "  <thead>\n",
       "    <tr style=\"text-align: right;\">\n",
       "      <th></th>\n",
       "      <th>probs</th>\n",
       "    </tr>\n",
       "  </thead>\n",
       "  <tbody>\n",
       "    <tr>\n",
       "      <th>Population_2019</th>\n",
       "      <td>1</td>\n",
       "    </tr>\n",
       "  </tbody>\n",
       "</table>\n",
       "</div>"
      ],
      "text/plain": [
       "Population_2019    1\n",
       "Name: , dtype: int64"
      ]
     },
     "execution_count": 61,
     "metadata": {},
     "output_type": "execute_result"
    }
   ],
   "source": [
    "Pmf_Population_2019.head()"
   ]
  },
  {
   "cell_type": "code",
   "execution_count": 62,
   "id": "e55168a2",
   "metadata": {},
   "outputs": [
    {
     "data": {
      "text/html": [
       "<div>\n",
       "<style scoped>\n",
       "    .dataframe tbody tr th:only-of-type {\n",
       "        vertical-align: middle;\n",
       "    }\n",
       "\n",
       "    .dataframe tbody tr th {\n",
       "        vertical-align: top;\n",
       "    }\n",
       "\n",
       "    .dataframe thead th {\n",
       "        text-align: right;\n",
       "    }\n",
       "</style>\n",
       "<table border=\"1\" class=\"dataframe\">\n",
       "  <thead>\n",
       "    <tr style=\"text-align: right;\">\n",
       "      <th></th>\n",
       "      <th>probs</th>\n",
       "    </tr>\n",
       "  </thead>\n",
       "  <tbody>\n",
       "    <tr>\n",
       "      <th>Population_2019</th>\n",
       "      <td>1</td>\n",
       "    </tr>\n",
       "  </tbody>\n",
       "</table>\n",
       "</div>"
      ],
      "text/plain": [
       "Population_2019    1\n",
       "Name: , dtype: int64"
      ]
     },
     "execution_count": 62,
     "metadata": {},
     "output_type": "execute_result"
    }
   ],
   "source": [
    "Pmf_Population_2019.tail()"
   ]
  },
  {
   "cell_type": "code",
   "execution_count": 63,
   "id": "bdd218f7",
   "metadata": {},
   "outputs": [
    {
     "data": {
      "text/html": [
       "<div>\n",
       "<style scoped>\n",
       "    .dataframe tbody tr th:only-of-type {\n",
       "        vertical-align: middle;\n",
       "    }\n",
       "\n",
       "    .dataframe tbody tr th {\n",
       "        vertical-align: top;\n",
       "    }\n",
       "\n",
       "    .dataframe thead th {\n",
       "        text-align: right;\n",
       "    }\n",
       "</style>\n",
       "<table border=\"1\" class=\"dataframe\">\n",
       "  <thead>\n",
       "    <tr style=\"text-align: right;\">\n",
       "      <th></th>\n",
       "      <th>probs</th>\n",
       "    </tr>\n",
       "  </thead>\n",
       "  <tbody>\n",
       "    <tr>\n",
       "      <th>Population_2019</th>\n",
       "      <td>1.0</td>\n",
       "    </tr>\n",
       "  </tbody>\n",
       "</table>\n",
       "</div>"
      ],
      "text/plain": [
       "Population_2019    1.0\n",
       "Name: , dtype: float64"
      ]
     },
     "execution_count": 63,
     "metadata": {},
     "output_type": "execute_result"
    }
   ],
   "source": [
    "Pmf_Population_2019 = Pmf.from_seq(\"Population_2019\",normalize = True)\n",
    "Pmf_Population_2019"
   ]
  },
  {
   "cell_type": "code",
   "execution_count": 64,
   "id": "290b413b",
   "metadata": {},
   "outputs": [
    {
     "data": {
      "text/html": [
       "<div>\n",
       "<style scoped>\n",
       "    .dataframe tbody tr th:only-of-type {\n",
       "        vertical-align: middle;\n",
       "    }\n",
       "\n",
       "    .dataframe tbody tr th {\n",
       "        vertical-align: top;\n",
       "    }\n",
       "\n",
       "    .dataframe thead th {\n",
       "        text-align: right;\n",
       "    }\n",
       "</style>\n",
       "<table border=\"1\" class=\"dataframe\">\n",
       "  <thead>\n",
       "    <tr style=\"text-align: right;\">\n",
       "      <th></th>\n",
       "      <th>probs</th>\n",
       "    </tr>\n",
       "  </thead>\n",
       "  <tbody>\n",
       "    <tr>\n",
       "      <th>Population_2019</th>\n",
       "      <td>1.0</td>\n",
       "    </tr>\n",
       "  </tbody>\n",
       "</table>\n",
       "</div>"
      ],
      "text/plain": [
       "Population_2019    1.0\n",
       "Name: , dtype: float64"
      ]
     },
     "execution_count": 64,
     "metadata": {},
     "output_type": "execute_result"
    }
   ],
   "source": [
    "Pmf_Population_2019.head()"
   ]
  },
  {
   "cell_type": "code",
   "execution_count": 65,
   "id": "251a8462",
   "metadata": {},
   "outputs": [
    {
     "data": {
      "text/html": [
       "<div>\n",
       "<style scoped>\n",
       "    .dataframe tbody tr th:only-of-type {\n",
       "        vertical-align: middle;\n",
       "    }\n",
       "\n",
       "    .dataframe tbody tr th {\n",
       "        vertical-align: top;\n",
       "    }\n",
       "\n",
       "    .dataframe thead th {\n",
       "        text-align: right;\n",
       "    }\n",
       "</style>\n",
       "<table border=\"1\" class=\"dataframe\">\n",
       "  <thead>\n",
       "    <tr style=\"text-align: right;\">\n",
       "      <th></th>\n",
       "      <th>probs</th>\n",
       "    </tr>\n",
       "  </thead>\n",
       "  <tbody>\n",
       "    <tr>\n",
       "      <th>Population_2019</th>\n",
       "      <td>1.0</td>\n",
       "    </tr>\n",
       "  </tbody>\n",
       "</table>\n",
       "</div>"
      ],
      "text/plain": [
       "Population_2019    1.0\n",
       "Name: , dtype: float64"
      ]
     },
     "execution_count": 65,
     "metadata": {},
     "output_type": "execute_result"
    }
   ],
   "source": [
    "Pmf_Population_2019.tail()"
   ]
  },
  {
   "cell_type": "code",
   "execution_count": 66,
   "id": "50feec4e",
   "metadata": {},
   "outputs": [
    {
     "data": {
      "text/html": [
       "<div>\n",
       "<style scoped>\n",
       "    .dataframe tbody tr th:only-of-type {\n",
       "        vertical-align: middle;\n",
       "    }\n",
       "\n",
       "    .dataframe tbody tr th {\n",
       "        vertical-align: top;\n",
       "    }\n",
       "\n",
       "    .dataframe thead th {\n",
       "        text-align: right;\n",
       "    }\n",
       "</style>\n",
       "<table border=\"1\" class=\"dataframe\">\n",
       "  <thead>\n",
       "    <tr style=\"text-align: right;\">\n",
       "      <th></th>\n",
       "      <th>probs</th>\n",
       "    </tr>\n",
       "  </thead>\n",
       "  <tbody>\n",
       "    <tr>\n",
       "      <th>Normalized Cases</th>\n",
       "      <td>1.0</td>\n",
       "    </tr>\n",
       "  </tbody>\n",
       "</table>\n",
       "</div>"
      ],
      "text/plain": [
       "Normalized Cases    1.0\n",
       "Name: , dtype: float64"
      ]
     },
     "execution_count": 66,
     "metadata": {},
     "output_type": "execute_result"
    }
   ],
   "source": [
    "Pmf_Normalized_cases = Pmf.from_seq(\"Normalized Cases\",normalize = True)\n",
    "Pmf_Normalized_cases"
   ]
  },
  {
   "cell_type": "code",
   "execution_count": 67,
   "id": "3b67fb71",
   "metadata": {},
   "outputs": [
    {
     "data": {
      "text/html": [
       "<div>\n",
       "<style scoped>\n",
       "    .dataframe tbody tr th:only-of-type {\n",
       "        vertical-align: middle;\n",
       "    }\n",
       "\n",
       "    .dataframe tbody tr th {\n",
       "        vertical-align: top;\n",
       "    }\n",
       "\n",
       "    .dataframe thead th {\n",
       "        text-align: right;\n",
       "    }\n",
       "</style>\n",
       "<table border=\"1\" class=\"dataframe\">\n",
       "  <thead>\n",
       "    <tr style=\"text-align: right;\">\n",
       "      <th></th>\n",
       "      <th>probs</th>\n",
       "    </tr>\n",
       "  </thead>\n",
       "  <tbody>\n",
       "    <tr>\n",
       "      <th>Normalized Cases</th>\n",
       "      <td>1</td>\n",
       "    </tr>\n",
       "  </tbody>\n",
       "</table>\n",
       "</div>"
      ],
      "text/plain": [
       "Normalized Cases    1\n",
       "Name: , dtype: int64"
      ]
     },
     "execution_count": 67,
     "metadata": {},
     "output_type": "execute_result"
    }
   ],
   "source": [
    "Pmf_Normalized_cases = Pmf.from_seq(\"Normalized Cases\",normalize = False)\n",
    "Pmf_Normalized_cases"
   ]
  },
  {
   "cell_type": "code",
   "execution_count": 68,
   "id": "0bca921f",
   "metadata": {},
   "outputs": [
    {
     "data": {
      "text/plain": [
       "empiricaldist.empiricaldist.Pmf"
      ]
     },
     "execution_count": 68,
     "metadata": {},
     "output_type": "execute_result"
    }
   ],
   "source": [
    "type(Pmf_Normalized_cases)"
   ]
  },
  {
   "cell_type": "code",
   "execution_count": 69,
   "id": "13391d61",
   "metadata": {},
   "outputs": [
    {
     "data": {
      "text/html": [
       "<div>\n",
       "<style scoped>\n",
       "    .dataframe tbody tr th:only-of-type {\n",
       "        vertical-align: middle;\n",
       "    }\n",
       "\n",
       "    .dataframe tbody tr th {\n",
       "        vertical-align: top;\n",
       "    }\n",
       "\n",
       "    .dataframe thead th {\n",
       "        text-align: right;\n",
       "    }\n",
       "</style>\n",
       "<table border=\"1\" class=\"dataframe\">\n",
       "  <thead>\n",
       "    <tr style=\"text-align: right;\">\n",
       "      <th></th>\n",
       "      <th>probs</th>\n",
       "    </tr>\n",
       "  </thead>\n",
       "  <tbody>\n",
       "    <tr>\n",
       "      <th>Normalized Cases</th>\n",
       "      <td>1</td>\n",
       "    </tr>\n",
       "  </tbody>\n",
       "</table>\n",
       "</div>"
      ],
      "text/plain": [
       "Normalized Cases    1\n",
       "Name: , dtype: int64"
      ]
     },
     "execution_count": 69,
     "metadata": {},
     "output_type": "execute_result"
    }
   ],
   "source": [
    "Pmf_Normalized_cases.head()"
   ]
  },
  {
   "cell_type": "code",
   "execution_count": 70,
   "id": "6feb9589",
   "metadata": {},
   "outputs": [
    {
     "data": {
      "text/html": [
       "<div>\n",
       "<style scoped>\n",
       "    .dataframe tbody tr th:only-of-type {\n",
       "        vertical-align: middle;\n",
       "    }\n",
       "\n",
       "    .dataframe tbody tr th {\n",
       "        vertical-align: top;\n",
       "    }\n",
       "\n",
       "    .dataframe thead th {\n",
       "        text-align: right;\n",
       "    }\n",
       "</style>\n",
       "<table border=\"1\" class=\"dataframe\">\n",
       "  <thead>\n",
       "    <tr style=\"text-align: right;\">\n",
       "      <th></th>\n",
       "      <th>probs</th>\n",
       "    </tr>\n",
       "  </thead>\n",
       "  <tbody>\n",
       "    <tr>\n",
       "      <th>Normalized Cases</th>\n",
       "      <td>1</td>\n",
       "    </tr>\n",
       "  </tbody>\n",
       "</table>\n",
       "</div>"
      ],
      "text/plain": [
       "Normalized Cases    1\n",
       "Name: , dtype: int64"
      ]
     },
     "execution_count": 70,
     "metadata": {},
     "output_type": "execute_result"
    }
   ],
   "source": [
    "Pmf_Normalized_cases.tail()"
   ]
  },
  {
   "cell_type": "code",
   "execution_count": 71,
   "id": "ed7879b2",
   "metadata": {},
   "outputs": [
    {
     "data": {
      "text/html": [
       "<div>\n",
       "<style scoped>\n",
       "    .dataframe tbody tr th:only-of-type {\n",
       "        vertical-align: middle;\n",
       "    }\n",
       "\n",
       "    .dataframe tbody tr th {\n",
       "        vertical-align: top;\n",
       "    }\n",
       "\n",
       "    .dataframe thead th {\n",
       "        text-align: right;\n",
       "    }\n",
       "</style>\n",
       "<table border=\"1\" class=\"dataframe\">\n",
       "  <thead>\n",
       "    <tr style=\"text-align: right;\">\n",
       "      <th></th>\n",
       "      <th>probs</th>\n",
       "    </tr>\n",
       "  </thead>\n",
       "  <tbody>\n",
       "    <tr>\n",
       "      <th>Deaths</th>\n",
       "      <td>1</td>\n",
       "    </tr>\n",
       "  </tbody>\n",
       "</table>\n",
       "</div>"
      ],
      "text/plain": [
       "Deaths    1\n",
       "Name: , dtype: int64"
      ]
     },
     "execution_count": 71,
     "metadata": {},
     "output_type": "execute_result"
    }
   ],
   "source": [
    "Pmf_Deaths = Pmf.from_seq(\"Deaths\",normalize = False)\n",
    "Pmf_Deaths"
   ]
  },
  {
   "cell_type": "code",
   "execution_count": 72,
   "id": "1e51d332",
   "metadata": {},
   "outputs": [
    {
     "data": {
      "text/html": [
       "<div>\n",
       "<style scoped>\n",
       "    .dataframe tbody tr th:only-of-type {\n",
       "        vertical-align: middle;\n",
       "    }\n",
       "\n",
       "    .dataframe tbody tr th {\n",
       "        vertical-align: top;\n",
       "    }\n",
       "\n",
       "    .dataframe thead th {\n",
       "        text-align: right;\n",
       "    }\n",
       "</style>\n",
       "<table border=\"1\" class=\"dataframe\">\n",
       "  <thead>\n",
       "    <tr style=\"text-align: right;\">\n",
       "      <th></th>\n",
       "      <th>probs</th>\n",
       "    </tr>\n",
       "  </thead>\n",
       "  <tbody>\n",
       "    <tr>\n",
       "      <th>Deaths</th>\n",
       "      <td>1.0</td>\n",
       "    </tr>\n",
       "  </tbody>\n",
       "</table>\n",
       "</div>"
      ],
      "text/plain": [
       "Deaths    1.0\n",
       "Name: , dtype: float64"
      ]
     },
     "execution_count": 72,
     "metadata": {},
     "output_type": "execute_result"
    }
   ],
   "source": [
    "Pmf_Deaths = Pmf.from_seq(\"Deaths\",normalize = True)\n",
    "Pmf_Deaths"
   ]
  },
  {
   "cell_type": "markdown",
   "id": "2681077f",
   "metadata": {},
   "source": [
    "# Modeling Distributions"
   ]
  },
  {
   "cell_type": "code",
   "execution_count": 73,
   "id": "22cb6ea6",
   "metadata": {},
   "outputs": [],
   "source": [
    "import numpy as np"
   ]
  },
  {
   "cell_type": "code",
   "execution_count": 74,
   "id": "fe21a1cb",
   "metadata": {},
   "outputs": [
    {
     "data": {
      "text/plain": [
       "array([ 8.05330077e-01,  7.51752898e-01, -4.19852404e-02,  6.99624075e-01,\n",
       "       -6.71422668e-01, -7.72108379e-01,  8.67353768e-01, -1.09994327e+00,\n",
       "       -1.73414753e+00, -4.19128739e-01,  1.00065365e+00,  3.63683126e-01,\n",
       "       -1.25203909e+00, -2.24873436e+00, -1.50316164e+00,  7.08620407e-01,\n",
       "        1.81040327e+00,  3.25288996e-01, -1.50198965e-01, -5.55144894e-01,\n",
       "       -2.80885385e-01, -1.09858472e+00, -2.41261087e-01, -1.09567351e+00,\n",
       "        1.54821189e+00,  8.53438286e-01,  9.56338453e-01,  1.30576617e+00,\n",
       "       -8.85392774e-02, -1.27630958e+00,  4.71423639e-01,  1.20324721e+00,\n",
       "        8.92968232e-01, -1.30176562e+00, -1.83727877e+00,  2.06041254e+00,\n",
       "        2.20401616e-01,  1.52660301e+00, -2.00458201e-01,  5.55283213e-01,\n",
       "        1.44078048e+00,  4.59064685e-01,  1.75268228e-01,  1.92197527e+00,\n",
       "        6.44778151e-01, -2.03019762e-01,  1.20379891e+00,  1.70338427e+00,\n",
       "        2.88464620e+00,  3.49723196e-01, -1.05546094e-01,  8.99957657e-01,\n",
       "        2.41832023e-01, -1.02114976e+00, -2.09302354e-01,  6.14208647e-01,\n",
       "        9.03577096e-01,  7.54194570e-01,  6.11377141e-01, -6.67081674e-01,\n",
       "        3.31768596e-02,  3.36379662e-01, -1.48189768e-01,  1.04109752e-01,\n",
       "        7.61392521e-01,  2.65592704e-01, -1.48755636e-01, -9.57461059e-01,\n",
       "       -1.55604561e+00, -1.09785618e+00,  1.42736243e-01, -1.36219607e+00,\n",
       "       -5.58830989e-01,  4.70715643e-01,  1.11841296e+00, -6.84683991e-01,\n",
       "        1.11106062e-01, -8.31528047e-01,  1.83644624e+00, -1.05979684e+00,\n",
       "       -2.11713426e-01,  2.78322728e-01, -1.72958517e+00, -1.33558485e+00,\n",
       "       -1.02523801e+00,  2.30664340e-01,  1.01416643e+00,  3.10756058e-01,\n",
       "       -1.38325599e-02,  1.08605026e+00,  9.57798949e-01, -5.14983859e-02,\n",
       "       -2.10009798e+00,  9.69505189e-01,  8.61987230e-01, -1.33180349e-01,\n",
       "       -2.01441152e+00, -5.90247055e-01,  9.25166823e-01,  2.54549322e-01,\n",
       "        8.95832505e-01, -1.57122018e+00,  4.61989672e-01, -9.07168597e-01,\n",
       "        7.76955684e-01,  1.84822232e+00,  9.29223436e-01, -1.25828587e+00,\n",
       "       -1.26812787e+00, -3.04821853e+00,  4.99467140e-01,  1.07518493e+00,\n",
       "       -1.45603268e+00,  1.06126848e-01,  1.07043608e+00,  2.93999484e-01,\n",
       "        9.55322006e-01,  1.16555258e+00, -4.89491857e-01, -1.17328683e+00,\n",
       "       -2.34901849e-01, -3.55394357e-01,  1.83327572e+00,  5.95633097e-01,\n",
       "        2.69680692e+00, -4.21536143e-01,  7.94184996e-01,  4.79818045e-01,\n",
       "        1.80259933e+00,  9.02879966e-01,  4.09387860e-01,  1.26560657e+00,\n",
       "       -1.71551551e+00,  1.04159553e+00,  1.21398083e+00, -1.00703666e+00,\n",
       "       -2.28454894e+00,  3.45008878e-01,  3.79212048e-01,  5.34880604e-01,\n",
       "        2.75033887e-01, -5.60739404e-01, -3.77310787e-01,  1.50511535e+00,\n",
       "       -4.85352660e-01, -3.16245630e-01, -5.78480710e-01,  6.30450043e-01,\n",
       "        1.43449114e+00, -1.67938832e+00, -8.62214678e-02, -2.31478366e-01,\n",
       "       -3.34631661e-01, -3.98456601e-01, -3.89426663e-01,  1.29615253e+00,\n",
       "       -5.41558833e-01,  7.89304606e-01, -8.62101799e-01, -1.78667015e-02,\n",
       "       -1.09956623e+00, -6.24868807e-01,  2.42491060e+00, -5.23836130e-01,\n",
       "       -1.31538381e+00, -3.04278902e-01, -7.92826836e-02,  6.76138149e-01,\n",
       "       -1.12387900e+00, -5.41906900e-01, -2.55025338e-01, -2.67745658e-02,\n",
       "       -6.64774544e-01, -6.82565446e-01,  4.00508404e-01,  1.37803159e+00,\n",
       "        5.91647699e-01, -1.14325765e+00,  2.50089296e+00,  3.04270406e-02,\n",
       "       -1.46545065e-01,  1.09440514e+00,  4.76923359e-01, -8.71753130e-02,\n",
       "       -3.22964824e-01,  3.52151322e-01,  1.25756011e-01, -1.71549477e+00,\n",
       "       -1.55554232e-01,  6.37627482e-01, -1.07534215e-01, -2.69127906e-01,\n",
       "        1.44089248e+00, -6.12959439e-01, -1.49454523e+00, -1.54474610e-01,\n",
       "       -6.28599224e-02,  6.97040996e-01,  9.11952943e-01,  5.87080871e-01,\n",
       "       -8.14599022e-01,  7.02242403e-01, -3.62722254e-01, -8.48686316e-01,\n",
       "        9.61198787e-01,  1.24611551e+00,  2.59939087e+00, -8.91946490e-01,\n",
       "       -2.20189510e-01,  6.58223233e-02,  6.40945874e-01, -3.97766075e-01,\n",
       "       -3.01743690e-01, -5.42816238e-01, -4.69163020e-01,  1.39017019e+00,\n",
       "        6.23619558e-01,  5.21351624e-01,  2.87405747e-01,  1.34235103e+00,\n",
       "        2.77681577e-01, -2.99212988e-01, -1.16325344e+00,  4.68923651e-01,\n",
       "       -4.56534675e-01,  1.03817522e+00,  4.13441541e-01,  1.34916820e+00,\n",
       "        1.11267758e+00, -1.77465741e+00,  2.83183505e-01,  9.97273955e-01,\n",
       "       -2.77459501e+00, -1.06499543e+00, -9.52568083e-01,  2.01234178e-01,\n",
       "       -6.09632948e-02, -5.23879289e-01, -1.02601035e+00,  6.92187817e-01,\n",
       "        8.98663851e-01,  6.58729560e-01,  1.64651656e-01, -1.32269769e+00,\n",
       "       -7.91473299e-01,  9.23387031e-01, -5.39316665e-01,  9.76207570e-01,\n",
       "        5.52772483e-01,  8.30128552e-01, -3.27173534e-01, -6.89006762e-01,\n",
       "       -3.80519045e-01, -3.21736152e-01, -6.68274453e-01, -6.01217915e-02,\n",
       "       -7.20247929e-03,  2.05772231e+00, -2.47699536e+00, -1.40195502e+00,\n",
       "       -1.49905272e+00,  1.85467265e-02, -7.72236769e-02,  1.21203299e+00,\n",
       "        3.86620112e-01,  1.48105767e+00, -1.02483930e+00, -6.99601610e-01,\n",
       "        8.97183403e-01, -8.23625991e-01, -2.26688949e-01, -7.43035637e-01,\n",
       "        6.68663686e-01, -7.28230993e-01, -1.00392642e+00, -1.56920471e+00,\n",
       "        3.99591204e-01,  7.77047263e-01,  1.53058151e-01, -7.58136185e-01,\n",
       "       -5.39549602e-01, -2.93099932e+00, -5.31012598e-02, -1.32065291e+00,\n",
       "       -1.25708147e+00,  6.91345462e-01,  4.07585829e-01,  7.31440834e-01,\n",
       "        1.20264246e+00, -1.95801578e+00, -1.34849204e+00, -1.24051330e+00,\n",
       "        5.84357351e-01, -1.58963108e-01,  2.23490362e-01, -1.48013647e+00,\n",
       "       -6.76806178e-01,  2.03130772e+00, -6.98372185e-01,  1.66945726e+00,\n",
       "        1.82629620e+00, -6.71695141e-01, -1.76386968e-03,  7.48050850e-01,\n",
       "       -2.19844810e-01,  2.54814271e+00, -2.21047775e+00, -8.98571539e-02,\n",
       "       -1.29493454e+00, -1.75066416e-01, -7.62472732e-01,  1.14133343e-01,\n",
       "       -1.53148742e+00,  4.66872059e-01, -5.67653730e-01, -1.49093917e+00,\n",
       "        2.52917403e-01,  3.91533367e-02,  4.66892177e-01, -1.40000401e+00,\n",
       "        2.35109008e+00, -5.00127446e-01, -2.09221022e+00, -3.98528936e-01,\n",
       "        6.84258189e-01, -1.28258468e+00,  2.32852597e-01, -6.94131747e-01,\n",
       "        7.17950572e-01,  1.15559249e+00, -4.81728704e-02, -1.09634534e+00,\n",
       "        1.03913516e+00,  1.18394132e-01, -6.28277256e-01,  9.48489754e-02,\n",
       "        4.11486928e-02,  5.42254434e-01, -3.41068607e-01, -5.37186252e-01,\n",
       "       -1.46738549e+00, -7.05638940e-01, -7.68888828e-01, -1.04789117e+00,\n",
       "        2.56303796e-02, -5.67267030e-02, -9.06992318e-01,  4.25207376e-01,\n",
       "        1.12463782e+00, -6.94557026e-01, -1.09501286e+00,  9.86808294e-01,\n",
       "        1.42384093e+00, -1.02763945e+00,  6.89441736e-01, -1.51968653e+00,\n",
       "       -1.01723132e-01,  1.42391193e-01,  9.48345026e-01,  2.27414413e+00,\n",
       "       -3.08344007e-01,  4.15713101e-01,  5.17587212e-01, -8.65954616e-01,\n",
       "       -8.65795757e-02,  4.22551459e-01, -7.87694642e-01,  1.37102267e+00,\n",
       "       -1.42480395e+00,  7.56637237e-01, -1.39199844e+00,  1.25565895e-01,\n",
       "        1.42591599e+00, -1.84968070e+00, -1.55591311e+00, -6.59783237e-01,\n",
       "        1.41838495e+00, -7.27436238e-01, -4.28530862e-01, -7.82750416e-01,\n",
       "       -7.37680692e-01, -1.20841907e+00,  9.77810675e-01,  4.22035277e-01,\n",
       "       -9.49249954e-01,  8.71409766e-01, -1.33062179e+00, -9.65368619e-02,\n",
       "       -1.35562263e+00,  1.21297787e+00, -1.46203732e+00, -1.14890845e-01,\n",
       "       -8.57637373e-01,  1.33908096e+00,  4.23422254e-01, -1.24558413e+00,\n",
       "       -6.79508387e-01, -1.09419952e+00, -1.22093351e+00,  7.91405230e-01,\n",
       "        4.13710371e-01, -5.41450905e-01,  5.56781386e-02, -6.79134738e-01,\n",
       "        1.40715336e+00,  1.51123351e+00, -4.12913289e-02, -4.73124656e-01,\n",
       "        1.24432818e-01,  6.32290717e-02, -1.79976462e+00, -9.57986007e-01,\n",
       "        8.40192965e-01,  3.57867269e-01, -6.60518526e-01,  8.14968246e-01,\n",
       "        7.46790895e-01,  5.78885610e-01,  1.67592570e-01, -1.17612891e+00,\n",
       "        4.91282291e-01, -1.27536604e-01,  2.66548996e-01,  1.02746268e+00,\n",
       "       -1.53936553e+00, -9.46602984e-01, -2.57592258e-01, -3.33878158e-01,\n",
       "       -2.09427027e+00, -3.65632246e-01, -5.74431947e-01, -1.06819216e-01,\n",
       "       -8.82624209e-01,  8.54998671e-01,  9.52822027e-02, -3.87281923e-01,\n",
       "        7.65197717e-01, -1.96258666e+00, -1.86716672e+00,  1.18064728e+00,\n",
       "       -2.35087434e+00,  3.34588735e-01,  6.61663061e-01, -1.15620287e+00,\n",
       "       -1.11889456e+00,  8.79404835e-02,  4.85777544e-02, -1.86605952e+00,\n",
       "       -1.35607789e+00,  4.43301549e-01,  4.28632815e-01,  2.58903478e-01,\n",
       "       -1.31323248e+00, -5.57349615e-01, -1.60212075e+00,  3.93318738e-02,\n",
       "        4.74031134e-01, -8.03124583e-01,  9.49100670e-02, -5.43880429e-02,\n",
       "       -1.96157116e+00,  3.92150095e-01,  1.43852483e-01, -7.55175200e-01,\n",
       "       -1.52682153e+00,  5.66041316e-01, -1.71414103e-01,  8.47789247e-01,\n",
       "       -6.46311544e-01, -4.28892213e-02, -6.77545331e-02,  1.74628358e+00,\n",
       "        8.23882771e-01, -1.76663009e-01,  9.77330261e-01, -1.32108582e+00,\n",
       "       -1.30848664e-01, -9.11365291e-01,  1.62926911e-02, -1.52016365e+00,\n",
       "        8.22744353e-01, -3.29796635e-02, -8.75910125e-01, -1.26718577e+00,\n",
       "        8.98216688e-01, -2.91107924e-01, -7.48152479e-01, -1.61927001e+00,\n",
       "        1.61593936e+00,  9.68225021e-01,  9.12010152e-01,  3.14260563e-01,\n",
       "       -7.75648560e-01,  3.95466977e-01,  1.23551601e+00, -6.80535673e-01,\n",
       "        8.65357142e-02, -1.14289503e+00, -3.61663888e-01,  5.21828375e-01,\n",
       "       -9.16718060e-01,  1.44465634e-01, -8.83403537e-01, -3.23296750e-02,\n",
       "        6.61941618e-01, -6.56476253e-01, -9.84081246e-01,  1.12268009e+00,\n",
       "       -1.35794522e+00, -8.90566710e-01, -3.55779291e-02,  6.55137755e-01,\n",
       "        4.89078918e-01, -1.53587096e-01,  5.28026101e-01, -4.39260131e-01,\n",
       "       -6.21753087e-01, -1.36884492e+00,  1.00377348e+00, -1.19803733e+00,\n",
       "       -1.01189757e-01, -1.30564784e+00,  7.92938938e-01, -1.00435896e+00,\n",
       "       -2.65424529e-02, -6.30927923e-01, -6.12571866e-01, -1.12092191e+00,\n",
       "       -5.68775755e-01, -1.69561751e+00,  4.46397320e-01,  7.24234750e-01,\n",
       "       -7.40688860e-01,  6.56134364e-01,  1.57279278e+00,  3.98789928e-01,\n",
       "       -1.03014955e+00,  1.11419741e+00,  2.05131029e+00,  6.50911068e-01,\n",
       "        4.29368174e-01,  2.09458157e+00,  1.18189390e+00, -1.14615799e+00,\n",
       "        8.13124925e-03,  5.77035665e-01, -1.94078607e-01,  3.40421412e-01,\n",
       "        5.52225016e-01, -2.20079235e-01,  9.26449660e-01,  1.96181210e+00,\n",
       "        5.37627607e-01, -1.59208586e+00, -1.68013805e+00,  1.34985388e+00,\n",
       "       -6.33231840e-02, -1.38243518e-01,  1.45713052e+00, -1.52012563e+00,\n",
       "       -2.12716971e-01, -5.22224262e-01,  4.64058839e-01, -2.58679565e-01,\n",
       "        6.64793955e-02,  1.99992593e-01,  3.55432729e-01, -8.84704993e-01,\n",
       "        6.79016223e-01, -1.24461816e+00,  4.23210176e-01,  1.91811315e+00,\n",
       "        5.49406617e-01, -1.16451345e+00,  6.83572258e-01, -2.07245359e+00,\n",
       "       -1.49226595e+00, -1.72106769e-01,  6.22570286e-01, -7.03424733e-01,\n",
       "       -1.09396277e+00,  1.23330372e-01,  1.31880500e+00,  3.31644590e-01,\n",
       "        5.13288158e-01, -9.12118737e-01,  9.34951340e-01, -4.27343878e-02,\n",
       "        5.89583268e-03, -2.11616488e+00, -9.70067634e-01, -1.12559529e+00,\n",
       "       -7.78009691e-01, -1.11795913e+00, -4.90062715e-01, -1.48156223e+00,\n",
       "       -6.37548921e-01,  1.49933613e+00,  1.54872697e+00, -1.24777243e+00,\n",
       "        9.19587696e-02,  5.93750168e-01,  5.64605585e-01, -6.66285609e-01,\n",
       "        1.27990060e+00,  1.75305833e-01, -3.28416184e-01,  1.45252422e+00,\n",
       "        1.13593160e+00, -4.43043255e-01, -8.98328832e-01, -1.52717086e+00,\n",
       "       -9.34539224e-02,  7.46444230e-01,  2.17910567e+00, -1.27980916e+00,\n",
       "        9.42714807e-01, -1.16454142e+00, -3.06109721e-01,  1.78017546e-02,\n",
       "       -5.49824820e-01, -9.17470739e-01,  9.14123353e-01, -1.10167491e+00,\n",
       "        1.46127849e+00, -1.79899610e+00,  1.17823908e+00, -3.03403887e-01,\n",
       "        2.89172671e-01,  2.27784053e+00, -5.82445719e-01, -1.26246555e+00,\n",
       "        2.68146677e+00,  6.37427473e-01,  7.03297655e-01, -3.16414003e-01,\n",
       "        7.07010980e-01, -7.62118625e-02, -7.09607330e-01,  8.55121691e-01,\n",
       "       -5.03541744e-01,  1.77045414e+00, -6.02564177e-01, -5.83028222e-01,\n",
       "       -4.16873088e-01,  7.09471411e-01,  1.65876940e-01, -4.76397284e-01,\n",
       "        1.36349578e-01,  3.77720571e-01, -6.58295755e-01,  1.22962332e+00,\n",
       "        3.31228256e-01, -9.56504147e-01,  9.48722158e-01,  1.58270422e+00,\n",
       "       -3.73693064e-01,  2.87501920e-01, -2.40616221e-01, -1.38301640e+00,\n",
       "       -3.86416206e-01,  1.36492332e-01, -1.82413442e+00,  1.18686559e+00,\n",
       "       -2.73483088e-01, -2.62281904e-02, -2.23330628e+00,  1.43255293e+00,\n",
       "       -1.63509722e+00,  1.82482769e+00,  3.82284530e-01, -1.42747910e-01,\n",
       "        1.43804811e+00, -5.14352988e-01, -7.86968839e-01, -7.68252413e-01,\n",
       "        1.33245314e+00,  1.63586304e+00, -4.02438478e-01, -6.93127156e-02,\n",
       "        6.58566207e-01,  7.70701695e-01, -5.63730978e-01,  1.74515731e+00,\n",
       "        1.09599569e+00,  5.76715479e-01, -5.29692037e-01,  9.71752583e-01,\n",
       "        5.94912604e-01,  7.62650941e-01, -1.17903498e+00,  3.58117799e-02,\n",
       "       -5.91554565e-01,  1.77137419e+00,  1.72486193e+00, -1.13589732e+00,\n",
       "       -3.25856018e+00,  2.06222240e+00,  6.74071263e-01, -8.81246587e-02,\n",
       "        1.50939890e+00, -1.35890192e+00, -1.99837915e+00,  1.45478251e+00,\n",
       "        5.68522402e-01, -4.70756268e-01,  8.06290757e-01, -1.44881929e-01,\n",
       "       -1.01078126e+00,  1.08731115e+00, -1.22044468e+00, -1.99243036e-01,\n",
       "       -2.01526968e-01,  3.75116757e-01,  2.80765938e-01, -9.29861421e-01,\n",
       "        1.44168104e-01, -7.73572541e-01, -1.08129670e+00,  1.81333871e+00,\n",
       "        2.53621615e-01, -7.66750749e-01, -1.25347693e+00,  1.16019872e+00,\n",
       "        1.05975958e+00,  5.42632853e-01,  3.39588858e-01, -2.26637828e-01,\n",
       "        4.28633028e-01,  7.74559383e-01,  3.32334605e-01,  2.42693543e+00,\n",
       "       -7.79048934e-02,  1.77559953e+00, -7.50115905e-01, -2.98860703e-01,\n",
       "        1.23517460e+00,  3.28593203e-01, -1.16339226e+00, -1.26950959e+00,\n",
       "        3.41873877e-01, -1.59004881e-01, -4.56972463e-01,  2.43265753e+00,\n",
       "        3.33589880e-01, -1.20800821e+00,  2.05191932e-01,  3.77984343e-01,\n",
       "        4.75773588e-01, -4.31491599e-01,  9.65179763e-01, -1.15879086e+00,\n",
       "       -2.47989308e+00, -1.71134641e-01, -2.88734177e+00, -4.86437872e-02,\n",
       "        1.57266885e+00,  7.54908488e-02,  1.65718582e+00,  1.82336271e-03,\n",
       "       -1.04312349e+00, -2.32416254e+00, -5.84928999e-01,  3.00075357e-01,\n",
       "        4.52629047e-01, -5.20368184e-01, -5.53761715e-01, -7.44209019e-01,\n",
       "        7.39574006e-02,  3.97256298e-01, -1.32396551e+00,  9.34128903e-02,\n",
       "       -2.37690293e-02, -1.20276686e+00,  2.08368509e+00, -1.46446891e+00,\n",
       "        2.45650792e-01, -2.76013227e-01, -2.50404742e+00, -1.27943557e-01,\n",
       "        7.68763069e-02, -1.37042970e-01, -4.74284526e-01, -4.25107080e-01,\n",
       "        7.99020549e-01,  8.48638431e-01,  4.37213995e-01,  5.42730529e-01,\n",
       "       -9.97921297e-02,  7.90401087e-01,  6.26396569e-02,  7.61291220e-01,\n",
       "       -2.80051123e-01, -3.35472011e-01,  1.63206900e-01, -1.81091888e-01,\n",
       "        6.70813657e-01, -2.13642014e+00, -5.27877380e-01, -2.09645222e+00,\n",
       "        5.55039893e-01,  1.37917019e+00,  5.78299289e-01, -3.96411791e-01,\n",
       "        1.39688834e-01,  1.66914904e-01,  1.25729530e+00, -2.39979798e-01,\n",
       "       -1.14472047e+00,  6.27142013e-01,  1.36510292e+00,  4.89420157e-01,\n",
       "       -4.77758407e-01, -2.92142116e-01, -2.29419071e+00, -5.55452871e-01,\n",
       "        5.02608238e-01, -2.41614195e-01, -1.15509592e-01, -8.90702629e-01,\n",
       "       -4.50734438e-01,  2.27738991e-01, -7.36312281e-01, -8.19590786e-01,\n",
       "        8.91663118e-01, -1.09747808e+00, -5.23774100e-01,  7.72217059e-01,\n",
       "       -2.40079358e-01, -1.06441253e+00, -1.55463505e+00, -1.19393736e-01,\n",
       "        1.03090875e-01, -9.16026876e-01,  5.43751688e-01,  1.28738558e+00,\n",
       "        7.61563922e-01,  3.23028152e-02, -4.25109829e-01,  1.94094707e+00,\n",
       "       -4.70238834e-01,  7.01959425e-01,  1.25085373e-01, -5.83169445e-01,\n",
       "        1.20583537e+00, -5.76075833e-01,  1.50528583e+00, -7.64433896e-01,\n",
       "       -1.67091498e-02, -6.58296116e-01,  7.71565592e-01,  1.78023440e-01,\n",
       "       -1.86748175e+00, -2.47487913e-01, -1.79890825e-01,  2.26337973e+00,\n",
       "       -6.16208953e-01, -4.91558051e-01, -1.48640554e+00, -1.05694798e+00,\n",
       "        3.60577756e-01,  1.24185742e+00,  5.13600450e-01, -3.05358661e-02,\n",
       "       -1.46224488e-01,  1.24051027e+00, -2.65996063e-01,  9.09956165e-01,\n",
       "        4.46080681e-01,  5.57053341e-01, -3.75613197e-01,  7.84157331e-01,\n",
       "       -1.54335574e+00,  6.66409175e-01,  1.94530481e-01,  7.53835921e-01,\n",
       "        1.90970648e+00, -1.06570763e+00, -3.92550481e-01, -2.30688759e+00,\n",
       "        8.21079983e-01,  4.73512109e-01,  5.67609518e-01, -8.03682914e-01,\n",
       "        2.38014015e+00,  1.86097285e-01, -1.91417895e+00, -6.62490847e-01,\n",
       "       -2.43245866e-01, -2.12418780e+00, -6.77381172e-01,  1.02295110e+00,\n",
       "       -1.76191574e-01, -2.74235316e-01,  9.88764240e-01,  2.55207448e+00,\n",
       "       -7.76325893e-01, -2.62811541e+00,  5.66107733e-01,  2.11165041e+00,\n",
       "       -1.53206797e-01, -2.76985170e-01, -1.85926753e-01,  2.23263554e-01,\n",
       "        3.39256193e-01, -3.10879198e-01, -6.44754066e-01, -9.41966917e-01,\n",
       "        9.55979793e-01,  8.42287846e-01,  1.13098341e+00, -1.78463097e+00,\n",
       "       -1.01907490e+00, -1.47544751e+00, -3.91291737e-01,  3.92607826e-01,\n",
       "        2.77377707e-01,  1.54865791e+00, -1.30436401e-01,  6.97045210e-01,\n",
       "        1.35567503e+00, -9.76898832e-02,  7.28393110e-01,  2.70687745e-01,\n",
       "       -4.34720081e-01,  1.66058189e+00,  9.66016091e-01,  4.49484088e-01,\n",
       "       -6.69248502e-02,  7.30928645e-01, -8.78538532e-01, -1.25950150e+00,\n",
       "        1.60829757e+00, -1.68228825e-01,  9.15311802e-01,  1.56489516e-02,\n",
       "       -7.15902212e-01, -1.41087943e+00,  5.49296042e-01,  1.56085864e+00,\n",
       "        8.24810247e-01,  2.84072225e-01, -3.73066940e-01, -1.46619364e-01,\n",
       "       -1.23447428e+00, -1.54979356e+00, -4.98541653e-01, -1.02278535e+00,\n",
       "        1.04562468e-01, -2.46377851e-01,  8.37487627e-01, -1.13880296e-01,\n",
       "        8.99693880e-01,  1.01007164e+00,  1.15398563e-01, -5.87348665e-01,\n",
       "       -1.56197786e+00,  9.63094069e-02, -5.64889851e-02, -4.82075625e-01,\n",
       "        5.39649392e-01, -1.42983502e+00,  5.01094329e-01,  1.18524042e+00,\n",
       "       -1.27787662e+00,  5.72466950e-03,  1.89625905e+00, -7.96873372e-01,\n",
       "       -4.84064448e-01,  9.21160854e-01,  9.72641818e-01,  3.82814436e-01,\n",
       "        1.56485183e+00, -5.95520441e-01, -6.56558150e-01,  1.30309357e+00,\n",
       "        1.20553893e-01, -2.01002489e-01, -5.18215276e-01, -7.58457744e-01,\n",
       "       -3.12532818e-01, -8.16092518e-01, -1.15204568e+00, -5.98176658e-01,\n",
       "        7.62651248e-01,  4.92643140e-01, -1.42834743e+00, -4.36986607e-01,\n",
       "        1.00565347e-01,  8.99198736e-01,  8.75875476e-01,  1.34486005e-01,\n",
       "        1.28897139e+00,  4.14493255e-01,  1.03023670e+00,  1.47389506e+00,\n",
       "        1.21916915e+00, -3.45248948e-03,  1.43197037e+00, -1.73200703e-01])"
      ]
     },
     "execution_count": 74,
     "metadata": {},
     "output_type": "execute_result"
    }
   ],
   "source": [
    "#create an array of random normal numbers witha size of 1000\n",
    "sample = np.random.normal(size =1000)\n",
    "sample"
   ]
  },
  {
   "cell_type": "code",
   "execution_count": 75,
   "id": "3b2b68c2",
   "metadata": {},
   "outputs": [
    {
     "data": {
      "image/png": "[encoded data removed]",
      "text/plain": [
       "<Figure size 432x288 with 1 Axes>"
      ]
     },
     "metadata": {
      "needs_background": "light"
     },
     "output_type": "display_data"
    }
   ],
   "source": [
    "plt.plot(sample);"
   ]
  },
  {
   "cell_type": "code",
   "execution_count": 76,
   "id": "5166721b",
   "metadata": {},
   "outputs": [
    {
     "name": "stdout",
     "output_type": "stream",
     "text": [
      "Collecting Cdf\n",
      "  Using cached CDF-0.32.tar.gz (859 kB)\n",
      "  Installing build dependencies: started\n",
      "  Installing build dependencies: finished with status 'done'\n",
      "  Getting requirements to build wheel: started\n",
      "  Getting requirements to build wheel: finished with status 'done'\n",
      "  Preparing metadata (pyproject.toml): started\n",
      "  Preparing metadata (pyproject.toml): finished with status 'done'\n",
      "Building wheels for collected packages: Cdf\n",
      "  Building wheel for Cdf (pyproject.toml): started\n",
      "  Building wheel for Cdf (pyproject.toml): finished with status 'error'\n",
      "Failed to build Cdf\n",
      "Note: you may need to restart the kernel to use updated packages.\n"
     ]
    },
    {
     "name": "stderr",
     "output_type": "stream",
     "text": [
      "  error: subprocess-exited-with-error\n",
      "  \n",
      "  Building wheel for Cdf (pyproject.toml) did not run successfully.\n",
      "  exit code: 1\n",
      "  \n",
      "  [19 lines of output]\n",
      "  running bdist_wheel\n",
      "  running build\n",
      "  running build_py\n",
      "  creating build\n",
      "  creating build\\lib.win-amd64-cpython-310\n",
      "  creating build\\lib.win-amd64-cpython-310\\cdf\n",
      "  copying cdf\\__init__.py -> build\\lib.win-amd64-cpython-310\\cdf\n",
      "  copying cdf\\standard.py -> build\\lib.win-amd64-cpython-310\\cdf\n",
      "  copying cdf\\interface.py -> build\\lib.win-amd64-cpython-310\\cdf\n",
      "  copying cdf\\framework.py -> build\\lib.win-amd64-cpython-310\\cdf\n",
      "  copying cdf\\attribute.py -> build\\lib.win-amd64-cpython-310\\cdf\n",
      "  copying cdf\\entry.py -> build\\lib.win-amd64-cpython-310\\cdf\n",
      "  copying cdf\\typing.py -> build\\lib.win-amd64-cpython-310\\cdf\n",
      "  creating build\\lib.win-amd64-cpython-310\\cdf\\istp\n",
      "  copying cdf\\istp\\__init__.py -> build\\lib.win-amd64-cpython-310\\cdf\\istp\n",
      "  copying cdf\\istp\\interface.py -> build\\lib.win-amd64-cpython-310\\cdf\\istp\n",
      "  running build_ext\n",
      "  building 'cdf.internal' extension\n",
      "  error: Microsoft Visual C++ 14.0 or greater is required. Get it with \"Microsoft C++ Build Tools\": https://visualstudio.microsoft.com/visual-cpp-build-tools/\n",
      "  [end of output]\n",
      "  \n",
      "  note: This error originates from a subprocess, and is likely not a problem with pip.\n",
      "  ERROR: Failed building wheel for Cdf\n",
      "ERROR: Could not build wheels for Cdf, which is required to install pyproject.toml-based projects\n"
     ]
    }
   ],
   "source": [
    "pip install Cdf"
   ]
  },
  {
   "cell_type": "code",
   "execution_count": 77,
   "id": "c6f9468a",
   "metadata": {},
   "outputs": [
    {
     "name": "stdout",
     "output_type": "stream",
     "text": [
      "Requirement already satisfied: Scipy in c:\\users\\adequate minister\\appdata\\local\\programs\\python\\python310\\lib\\site-packages (1.9.0)\n",
      "Requirement already satisfied: numpy<1.25.0,>=1.18.5 in c:\\users\\adequate minister\\appdata\\local\\programs\\python\\python310\\lib\\site-packages (from Scipy) (1.23.0)\n",
      "Note: you may need to restart the kernel to use updated packages.\n"
     ]
    }
   ],
   "source": [
    "pip install Scipy"
   ]
  },
  {
   "cell_type": "code",
   "execution_count": 78,
   "id": "cfc44cbf",
   "metadata": {},
   "outputs": [],
   "source": [
    "from scipy.stats import norm"
   ]
  },
  {
   "cell_type": "code",
   "execution_count": 79,
   "id": "6c3abb07",
   "metadata": {},
   "outputs": [
    {
     "ename": "NameError",
     "evalue": "name 'xs' is not defined",
     "output_type": "error",
     "traceback": [
      "\u001b[1;31m---------------------------------------------------------------------------\u001b[0m",
      "\u001b[1;31mNameError\u001b[0m                                 Traceback (most recent call last)",
      "Input \u001b[1;32mIn [79]\u001b[0m, in \u001b[0;36m<cell line: 1>\u001b[1;34m()\u001b[0m\n\u001b[1;32m----> 1\u001b[0m plt\u001b[38;5;241m.\u001b[39mplot(\u001b[43mxs\u001b[49m)\n",
      "\u001b[1;31mNameError\u001b[0m: name 'xs' is not defined"
     ]
    }
   ],
   "source": [
    "plt.plot(xs);"
   ]
  },
  {
   "cell_type": "code",
   "execution_count": null,
   "id": "7634e28b",
   "metadata": {},
   "outputs": [],
   "source": [
    "plt.plot(xs);"
   ]
  },
  {
   "cell_type": "code",
   "execution_count": null,
   "id": "3b8e3875",
   "metadata": {},
   "outputs": [],
   "source": [
    "xs = np.linspace(-3,3)\n",
    "ys = norm(0,1).cdf(xs)\n",
    "ys\n",
    "xs\n",
    "plt.plot(ys);\n",
    "plt.plot(xs);\n"
   ]
  },
  {
   "cell_type": "code",
   "execution_count": null,
   "id": "f1dfba0e",
   "metadata": {},
   "outputs": [],
   "source": [
    "As = np.linspace(-4,1)\n",
    "Ds = norm(0,1).cdf(As)\n",
    "Ds\n",
    "As\n",
    "plt.plot(Ds);\n",
    "plt.plot(As);"
   ]
  },
  {
   "cell_type": "code",
   "execution_count": null,
   "id": "b9193e02",
   "metadata": {},
   "outputs": [],
   "source": [
    "pip install Pdf"
   ]
  },
  {
   "cell_type": "code",
   "execution_count": null,
   "id": "219d1126",
   "metadata": {},
   "outputs": [],
   "source": [
    "xs = np.linspace(-3,3)\n",
    "ys = Pdf(xs)\n",
    "ys"
   ]
  },
  {
   "cell_type": "code",
   "execution_count": null,
   "id": "ca9923f2",
   "metadata": {},
   "outputs": [],
   "source": [
    "n = np.linspace(-4,5)\n",
    "y = norm(0,1).cdf(n)\n",
    "y"
   ]
  },
  {
   "cell_type": "code",
   "execution_count": null,
   "id": "24556098",
   "metadata": {},
   "outputs": [],
   "source": [
    "plt.plot(y);"
   ]
  },
  {
   "cell_type": "code",
   "execution_count": null,
   "id": "b208d54a",
   "metadata": {},
   "outputs": [],
   "source": [
    "m = np.linspace(-6,10)\n",
    "z = norm(0,1).cdf(m)\n",
    "z"
   ]
  },
  {
   "cell_type": "code",
   "execution_count": null,
   "id": "ce1738ba",
   "metadata": {},
   "outputs": [],
   "source": [
    "plt.plot(z);"
   ]
  },
  {
   "cell_type": "code",
   "execution_count": null,
   "id": "9cdf63f1",
   "metadata": {},
   "outputs": [],
   "source": [
    "bs = np.linspace(-3,3)\n",
    "zs = norm(0,1).pdf(bs)\n",
    "zs"
   ]
  },
  {
   "cell_type": "code",
   "execution_count": null,
   "id": "8570c687",
   "metadata": {},
   "outputs": [],
   "source": [
    "plt.plot(zs);"
   ]
  },
  {
   "cell_type": "markdown",
   "id": "e1e6bc31",
   "metadata": {},
   "source": [
    "# Kernel Density Plot(KDE)"
   ]
  },
  {
   "cell_type": "code",
   "execution_count": null,
   "id": "1fcd9a24",
   "metadata": {},
   "outputs": [],
   "source": [
    "import seaborn as sns"
   ]
  },
  {
   "cell_type": "code",
   "execution_count": null,
   "id": "d0c47e0c",
   "metadata": {},
   "outputs": [],
   "source": [
    "sns.kdeplot(sample);"
   ]
  },
  {
   "cell_type": "code",
   "execution_count": null,
   "id": "762e34ed",
   "metadata": {},
   "outputs": [],
   "source": [
    "sns.kdeplot(sample);\n",
    "plt.plot(xs,ys);\n"
   ]
  },
  {
   "cell_type": "markdown",
   "id": "89de04d4",
   "metadata": {},
   "source": [
    "# Relationships"
   ]
  },
  {
   "cell_type": "code",
   "execution_count": null,
   "id": "9555faac",
   "metadata": {},
   "outputs": [],
   "source": []
  },
  {
   "cell_type": "code",
   "execution_count": null,
   "id": "5826d738",
   "metadata": {},
   "outputs": [],
   "source": []
  }
 ],
 "metadata": {
  "kernelspec": {
   "display_name": "Python 3 (ipykernel)",
   "language": "python",
   "name": "python3"
  },
  "language_info": {
   "codemirror_mode": {
    "name": "ipython",
    "version": 3
   },
   "file_extension": ".py",
   "mimetype": "text/x-python",
   "name": "python",
   "nbconvert_exporter": "python",
   "pygments_lexer": "ipython3",
   "version": "3.10.5"
  }
 },
 "nbformat": 4,
 "nbformat_minor": 5
}
