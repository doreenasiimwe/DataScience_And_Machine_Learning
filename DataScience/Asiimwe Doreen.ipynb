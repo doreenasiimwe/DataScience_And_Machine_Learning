{
 "cells": [
  {
   "cell_type": "code",
   "execution_count": 1,
   "id": "e2216f0c",
   "metadata": {},
   "outputs": [],
   "source": [
    "import numpy as np\n",
    "import pandas as pd\n",
    "import seaborn as sn\n",
    "import sklearn as sk\n",
    "import matplotlib.pyplot as plt"
   ]
  },
  {
   "cell_type": "code",
   "execution_count": 7,
   "id": "7ae19ddf",
   "metadata": {},
   "outputs": [],
   "source": [
    "matplotlib inline"
   ]
  },
  {
   "cell_type": "code",
   "execution_count": 9,
   "id": "dfd9947a",
   "metadata": {},
   "outputs": [
    {
     "data": {
      "text/html": [
       "<div>\n",
       "<style scoped>\n",
       "    .dataframe tbody tr th:only-of-type {\n",
       "        vertical-align: middle;\n",
       "    }\n",
       "\n",
       "    .dataframe tbody tr th {\n",
       "        vertical-align: top;\n",
       "    }\n",
       "\n",
       "    .dataframe thead th {\n",
       "        text-align: right;\n",
       "    }\n",
       "</style>\n",
       "<table border=\"1\" class=\"dataframe\">\n",
       "  <thead>\n",
       "    <tr style=\"text-align: right;\">\n",
       "      <th></th>\n",
       "      <th>idcode</th>\n",
       "      <th>age</th>\n",
       "      <th>race</th>\n",
       "      <th>married</th>\n",
       "      <th>never_married</th>\n",
       "      <th>grade</th>\n",
       "      <th>collgrad</th>\n",
       "      <th>south</th>\n",
       "      <th>smsa</th>\n",
       "      <th>c_city</th>\n",
       "      <th>industry</th>\n",
       "      <th>occupation</th>\n",
       "      <th>union</th>\n",
       "      <th>wage</th>\n",
       "      <th>hours</th>\n",
       "      <th>ttl_exp</th>\n",
       "      <th>tenure</th>\n",
       "    </tr>\n",
       "  </thead>\n",
       "  <tbody>\n",
       "    <tr>\n",
       "      <th>0</th>\n",
       "      <td>1</td>\n",
       "      <td>37</td>\n",
       "      <td>black</td>\n",
       "      <td>single</td>\n",
       "      <td>0</td>\n",
       "      <td>12.0</td>\n",
       "      <td>not college grad</td>\n",
       "      <td>0</td>\n",
       "      <td>SMSA</td>\n",
       "      <td>0</td>\n",
       "      <td>Transport/Comm/Utility</td>\n",
       "      <td>Operatives</td>\n",
       "      <td>union</td>\n",
       "      <td>11.739130</td>\n",
       "      <td>48.0</td>\n",
       "      <td>10.33333</td>\n",
       "      <td>5.333333</td>\n",
       "    </tr>\n",
       "    <tr>\n",
       "      <th>1</th>\n",
       "      <td>2</td>\n",
       "      <td>37</td>\n",
       "      <td>black</td>\n",
       "      <td>single</td>\n",
       "      <td>0</td>\n",
       "      <td>12.0</td>\n",
       "      <td>not college grad</td>\n",
       "      <td>0</td>\n",
       "      <td>SMSA</td>\n",
       "      <td>1</td>\n",
       "      <td>Manufacturing</td>\n",
       "      <td>Craftsmen</td>\n",
       "      <td>union</td>\n",
       "      <td>6.400963</td>\n",
       "      <td>40.0</td>\n",
       "      <td>13.62179</td>\n",
       "      <td>5.250000</td>\n",
       "    </tr>\n",
       "    <tr>\n",
       "      <th>2</th>\n",
       "      <td>3</td>\n",
       "      <td>42</td>\n",
       "      <td>black</td>\n",
       "      <td>single</td>\n",
       "      <td>1</td>\n",
       "      <td>12.0</td>\n",
       "      <td>not college grad</td>\n",
       "      <td>0</td>\n",
       "      <td>SMSA</td>\n",
       "      <td>1</td>\n",
       "      <td>Manufacturing</td>\n",
       "      <td>Sales</td>\n",
       "      <td>NaN</td>\n",
       "      <td>5.016723</td>\n",
       "      <td>40.0</td>\n",
       "      <td>17.73077</td>\n",
       "      <td>1.250000</td>\n",
       "    </tr>\n",
       "    <tr>\n",
       "      <th>3</th>\n",
       "      <td>4</td>\n",
       "      <td>43</td>\n",
       "      <td>white</td>\n",
       "      <td>married</td>\n",
       "      <td>0</td>\n",
       "      <td>17.0</td>\n",
       "      <td>college grad</td>\n",
       "      <td>0</td>\n",
       "      <td>SMSA</td>\n",
       "      <td>0</td>\n",
       "      <td>Professional Services</td>\n",
       "      <td>Other</td>\n",
       "      <td>union</td>\n",
       "      <td>9.033813</td>\n",
       "      <td>42.0</td>\n",
       "      <td>13.21154</td>\n",
       "      <td>1.750000</td>\n",
       "    </tr>\n",
       "    <tr>\n",
       "      <th>4</th>\n",
       "      <td>6</td>\n",
       "      <td>42</td>\n",
       "      <td>white</td>\n",
       "      <td>married</td>\n",
       "      <td>0</td>\n",
       "      <td>12.0</td>\n",
       "      <td>not college grad</td>\n",
       "      <td>0</td>\n",
       "      <td>SMSA</td>\n",
       "      <td>0</td>\n",
       "      <td>Manufacturing</td>\n",
       "      <td>Operatives</td>\n",
       "      <td>nonunion</td>\n",
       "      <td>8.083731</td>\n",
       "      <td>48.0</td>\n",
       "      <td>17.82051</td>\n",
       "      <td>17.750000</td>\n",
       "    </tr>\n",
       "    <tr>\n",
       "      <th>...</th>\n",
       "      <td>...</td>\n",
       "      <td>...</td>\n",
       "      <td>...</td>\n",
       "      <td>...</td>\n",
       "      <td>...</td>\n",
       "      <td>...</td>\n",
       "      <td>...</td>\n",
       "      <td>...</td>\n",
       "      <td>...</td>\n",
       "      <td>...</td>\n",
       "      <td>...</td>\n",
       "      <td>...</td>\n",
       "      <td>...</td>\n",
       "      <td>...</td>\n",
       "      <td>...</td>\n",
       "      <td>...</td>\n",
       "      <td>...</td>\n",
       "    </tr>\n",
       "    <tr>\n",
       "      <th>2241</th>\n",
       "      <td>5153</td>\n",
       "      <td>35</td>\n",
       "      <td>white</td>\n",
       "      <td>single</td>\n",
       "      <td>1</td>\n",
       "      <td>12.0</td>\n",
       "      <td>not college grad</td>\n",
       "      <td>1</td>\n",
       "      <td>SMSA</td>\n",
       "      <td>0</td>\n",
       "      <td>Professional Services</td>\n",
       "      <td>Laborers</td>\n",
       "      <td>NaN</td>\n",
       "      <td>5.517124</td>\n",
       "      <td>35.0</td>\n",
       "      <td>11.98718</td>\n",
       "      <td>2.083333</td>\n",
       "    </tr>\n",
       "    <tr>\n",
       "      <th>2242</th>\n",
       "      <td>5154</td>\n",
       "      <td>44</td>\n",
       "      <td>white</td>\n",
       "      <td>married</td>\n",
       "      <td>0</td>\n",
       "      <td>16.0</td>\n",
       "      <td>college grad</td>\n",
       "      <td>1</td>\n",
       "      <td>SMSA</td>\n",
       "      <td>0</td>\n",
       "      <td>Professional Services</td>\n",
       "      <td>Professional/technical</td>\n",
       "      <td>nonunion</td>\n",
       "      <td>14.323670</td>\n",
       "      <td>40.0</td>\n",
       "      <td>12.70513</td>\n",
       "      <td>12.166670</td>\n",
       "    </tr>\n",
       "    <tr>\n",
       "      <th>2243</th>\n",
       "      <td>5156</td>\n",
       "      <td>42</td>\n",
       "      <td>white</td>\n",
       "      <td>married</td>\n",
       "      <td>0</td>\n",
       "      <td>12.0</td>\n",
       "      <td>not college grad</td>\n",
       "      <td>1</td>\n",
       "      <td>nonSMSA</td>\n",
       "      <td>0</td>\n",
       "      <td>Business/Repair Svc</td>\n",
       "      <td>Sales</td>\n",
       "      <td>nonunion</td>\n",
       "      <td>3.824476</td>\n",
       "      <td>40.0</td>\n",
       "      <td>18.85897</td>\n",
       "      <td>9.583333</td>\n",
       "    </tr>\n",
       "    <tr>\n",
       "      <th>2244</th>\n",
       "      <td>5157</td>\n",
       "      <td>38</td>\n",
       "      <td>black</td>\n",
       "      <td>married</td>\n",
       "      <td>0</td>\n",
       "      <td>12.0</td>\n",
       "      <td>not college grad</td>\n",
       "      <td>1</td>\n",
       "      <td>nonSMSA</td>\n",
       "      <td>0</td>\n",
       "      <td>Professional Services</td>\n",
       "      <td>Laborers</td>\n",
       "      <td>nonunion</td>\n",
       "      <td>2.447664</td>\n",
       "      <td>35.0</td>\n",
       "      <td>11.16026</td>\n",
       "      <td>10.750000</td>\n",
       "    </tr>\n",
       "    <tr>\n",
       "      <th>2245</th>\n",
       "      <td>5159</td>\n",
       "      <td>43</td>\n",
       "      <td>black</td>\n",
       "      <td>single</td>\n",
       "      <td>0</td>\n",
       "      <td>12.0</td>\n",
       "      <td>not college grad</td>\n",
       "      <td>1</td>\n",
       "      <td>SMSA</td>\n",
       "      <td>1</td>\n",
       "      <td>Professional Services</td>\n",
       "      <td>Sales</td>\n",
       "      <td>union</td>\n",
       "      <td>7.157810</td>\n",
       "      <td>38.0</td>\n",
       "      <td>10.59615</td>\n",
       "      <td>3.416667</td>\n",
       "    </tr>\n",
       "  </tbody>\n",
       "</table>\n",
       "<p>2246 rows × 17 columns</p>\n",
       "</div>"
      ],
      "text/plain": [
       "      idcode  age   race  married  never_married  grade          collgrad  \\\n",
       "0          1   37  black   single              0   12.0  not college grad   \n",
       "1          2   37  black   single              0   12.0  not college grad   \n",
       "2          3   42  black   single              1   12.0  not college grad   \n",
       "3          4   43  white  married              0   17.0      college grad   \n",
       "4          6   42  white  married              0   12.0  not college grad   \n",
       "...      ...  ...    ...      ...            ...    ...               ...   \n",
       "2241    5153   35  white   single              1   12.0  not college grad   \n",
       "2242    5154   44  white  married              0   16.0      college grad   \n",
       "2243    5156   42  white  married              0   12.0  not college grad   \n",
       "2244    5157   38  black  married              0   12.0  not college grad   \n",
       "2245    5159   43  black   single              0   12.0  not college grad   \n",
       "\n",
       "      south     smsa  c_city                industry              occupation  \\\n",
       "0         0     SMSA       0  Transport/Comm/Utility              Operatives   \n",
       "1         0     SMSA       1           Manufacturing               Craftsmen   \n",
       "2         0     SMSA       1           Manufacturing                   Sales   \n",
       "3         0     SMSA       0   Professional Services                   Other   \n",
       "4         0     SMSA       0           Manufacturing              Operatives   \n",
       "...     ...      ...     ...                     ...                     ...   \n",
       "2241      1     SMSA       0   Professional Services                Laborers   \n",
       "2242      1     SMSA       0   Professional Services  Professional/technical   \n",
       "2243      1  nonSMSA       0     Business/Repair Svc                   Sales   \n",
       "2244      1  nonSMSA       0   Professional Services                Laborers   \n",
       "2245      1     SMSA       1   Professional Services                   Sales   \n",
       "\n",
       "         union       wage  hours   ttl_exp     tenure  \n",
       "0        union  11.739130   48.0  10.33333   5.333333  \n",
       "1        union   6.400963   40.0  13.62179   5.250000  \n",
       "2          NaN   5.016723   40.0  17.73077   1.250000  \n",
       "3        union   9.033813   42.0  13.21154   1.750000  \n",
       "4     nonunion   8.083731   48.0  17.82051  17.750000  \n",
       "...        ...        ...    ...       ...        ...  \n",
       "2241       NaN   5.517124   35.0  11.98718   2.083333  \n",
       "2242  nonunion  14.323670   40.0  12.70513  12.166670  \n",
       "2243  nonunion   3.824476   40.0  18.85897   9.583333  \n",
       "2244  nonunion   2.447664   35.0  11.16026  10.750000  \n",
       "2245     union   7.157810   38.0  10.59615   3.416667  \n",
       "\n",
       "[2246 rows x 17 columns]"
      ]
     },
     "execution_count": 9,
     "metadata": {},
     "output_type": "execute_result"
    }
   ],
   "source": [
    "df =pd.read_excel( \"practice.xlsx \" )\n",
    "df"
   ]
  },
  {
   "cell_type": "code",
   "execution_count": 14,
   "id": "bf9b0321",
   "metadata": {},
   "outputs": [
    {
     "data": {
      "text/plain": [
       "Index(['idcode', 'age', 'race', 'married', 'never_married', 'grade',\n",
       "       'collgrad', 'south', 'smsa', 'c_city', 'industry', 'occupation',\n",
       "       'union', 'wage', 'hours', 'ttl_exp', 'tenure'],\n",
       "      dtype='object')"
      ]
     },
     "execution_count": 14,
     "metadata": {},
     "output_type": "execute_result"
    }
   ],
   "source": [
    "df.columns"
   ]
  },
  {
   "cell_type": "code",
   "execution_count": null,
   "id": "2130ff60",
   "metadata": {},
   "outputs": [],
   "source": []
  },
  {
   "cell_type": "code",
   "execution_count": 15,
   "id": "cf68b868",
   "metadata": {},
   "outputs": [
    {
     "data": {
      "text/plain": [
       "0       11.739130\n",
       "1        6.400963\n",
       "2        5.016723\n",
       "3        9.033813\n",
       "4        8.083731\n",
       "          ...    \n",
       "2241     5.517124\n",
       "2242    14.323670\n",
       "2243     3.824476\n",
       "2244     2.447664\n",
       "2245     7.157810\n",
       "Name: wage, Length: 2246, dtype: float64"
      ]
     },
     "execution_count": 15,
     "metadata": {},
     "output_type": "execute_result"
    }
   ],
   "source": [
    "w = df.wage\n",
    "w"
   ]
  },
  {
   "cell_type": "code",
   "execution_count": 9,
   "id": "2b593a71",
   "metadata": {},
   "outputs": [
    {
     "data": {
      "text/plain": [
       "0       48.0\n",
       "1       40.0\n",
       "2       40.0\n",
       "3       42.0\n",
       "4       48.0\n",
       "        ... \n",
       "2241    35.0\n",
       "2242    40.0\n",
       "2243    40.0\n",
       "2244    35.0\n",
       "2245    38.0\n",
       "Name: hours, Length: 2246, dtype: float64"
      ]
     },
     "execution_count": 9,
     "metadata": {},
     "output_type": "execute_result"
    }
   ],
   "source": [
    "x = df.hours\n",
    "x"
   ]
  },
  {
   "cell_type": "code",
   "execution_count": 10,
   "id": "f1fb3609",
   "metadata": {},
   "outputs": [
    {
     "data": {
      "image/png": "[encoded data removed]",
      "text/plain": [
       "<Figure size 432x288 with 1 Axes>"
      ]
     },
     "metadata": {
      "needs_background": "light"
     },
     "output_type": "display_data"
    }
   ],
   "source": [
    "plt.plot(w);"
   ]
  },
  {
   "cell_type": "code",
   "execution_count": 11,
   "id": "64f7ab47",
   "metadata": {},
   "outputs": [
    {
     "data": {
      "image/png": "[encoded data removed]",
      "text/plain": [
       "<Figure size 432x288 with 1 Axes>"
      ]
     },
     "metadata": {
      "needs_background": "light"
     },
     "output_type": "display_data"
    }
   ],
   "source": [
    "plt.plot(x);"
   ]
  },
  {
   "cell_type": "code",
   "execution_count": 13,
   "id": "f5873582",
   "metadata": {},
   "outputs": [
    {
     "data": {
      "image/png": "[encoded data removed]",
      "text/plain": [
       "<Figure size 432x288 with 1 Axes>"
      ]
     },
     "metadata": {
      "needs_background": "light"
     },
     "output_type": "display_data"
    }
   ],
   "source": [
    "plt.plot(w,x,'o');\n",
    "plt.xlabel(\"Wage\");\n",
    "plt.ylabel(\"Hours worked\");\n",
    "plt.title('Scatter diagram of wage and Hours worked');\n"
   ]
  },
  {
   "cell_type": "code",
   "execution_count": 14,
   "id": "fdc857bb",
   "metadata": {},
   "outputs": [
    {
     "data": {
      "text/plain": [
       "0       10.33333\n",
       "1       13.62179\n",
       "2       17.73077\n",
       "3       13.21154\n",
       "4       17.82051\n",
       "          ...   \n",
       "2241    11.98718\n",
       "2242    12.70513\n",
       "2243    18.85897\n",
       "2244    11.16026\n",
       "2245    10.59615\n",
       "Name: ttl_exp, Length: 2246, dtype: float64"
      ]
     },
     "execution_count": 14,
     "metadata": {},
     "output_type": "execute_result"
    }
   ],
   "source": [
    "y = df.ttl_exp \n",
    "y"
   ]
  },
  {
   "cell_type": "code",
   "execution_count": 15,
   "id": "f961860c",
   "metadata": {},
   "outputs": [
    {
     "data": {
      "text/plain": [
       "0        5.333333\n",
       "1        5.250000\n",
       "2        1.250000\n",
       "3        1.750000\n",
       "4       17.750000\n",
       "          ...    \n",
       "2241     2.083333\n",
       "2242    12.166670\n",
       "2243     9.583333\n",
       "2244    10.750000\n",
       "2245     3.416667\n",
       "Name: tenure, Length: 2246, dtype: float64"
      ]
     },
     "execution_count": 15,
     "metadata": {},
     "output_type": "execute_result"
    }
   ],
   "source": [
    "z= df.tenure\n",
    "z"
   ]
  },
  {
   "cell_type": "code",
   "execution_count": 16,
   "id": "a6a0558c",
   "metadata": {},
   "outputs": [
    {
     "data": {
      "image/png": "[encoded data removed]",
      "text/plain": [
       "<Figure size 432x288 with 1 Axes>"
      ]
     },
     "metadata": {
      "needs_background": "light"
     },
     "output_type": "display_data"
    }
   ],
   "source": [
    "plt.plot(z);"
   ]
  },
  {
   "cell_type": "code",
   "execution_count": 18,
   "id": "5045b0d3",
   "metadata": {},
   "outputs": [
    {
     "data": {
      "image/png": "[encoded data removed]",
      "text/plain": [
       "<Figure size 432x288 with 1 Axes>"
      ]
     },
     "metadata": {
      "needs_background": "light"
     },
     "output_type": "display_data"
    }
   ],
   "source": [
    "plt.plot(y);"
   ]
  },
  {
   "cell_type": "code",
   "execution_count": 19,
   "id": "3cc460b9",
   "metadata": {},
   "outputs": [
    {
     "data": {
      "image/png": "[encoded data removed]",
      "text/plain": [
       "<Figure size 432x288 with 1 Axes>"
      ]
     },
     "metadata": {
      "needs_background": "light"
     },
     "output_type": "display_data"
    }
   ],
   "source": [
    "plt.plot(y,z,'o');\n",
    "plt.xlabel(\"Total EXperience\");\n",
    "plt.ylabel(\"Tenure\");\n",
    "plt.title('Scatter diagram of Total Experience and Tenure');\n"
   ]
  },
  {
   "cell_type": "code",
   "execution_count": 20,
   "id": "b6502553",
   "metadata": {},
   "outputs": [
    {
     "data": {
      "text/html": [
       "<div>\n",
       "<style scoped>\n",
       "    .dataframe tbody tr th:only-of-type {\n",
       "        vertical-align: middle;\n",
       "    }\n",
       "\n",
       "    .dataframe tbody tr th {\n",
       "        vertical-align: top;\n",
       "    }\n",
       "\n",
       "    .dataframe thead th {\n",
       "        text-align: right;\n",
       "    }\n",
       "</style>\n",
       "<table border=\"1\" class=\"dataframe\">\n",
       "  <thead>\n",
       "    <tr style=\"text-align: right;\">\n",
       "      <th></th>\n",
       "      <th>wage</th>\n",
       "      <th>hours</th>\n",
       "      <th>ttl_exp</th>\n",
       "      <th>tenure</th>\n",
       "    </tr>\n",
       "  </thead>\n",
       "  <tbody>\n",
       "    <tr>\n",
       "      <th>wage</th>\n",
       "      <td>1.000000</td>\n",
       "      <td>0.159144</td>\n",
       "      <td>0.265477</td>\n",
       "      <td>0.177679</td>\n",
       "    </tr>\n",
       "    <tr>\n",
       "      <th>hours</th>\n",
       "      <td>0.159144</td>\n",
       "      <td>1.000000</td>\n",
       "      <td>0.229542</td>\n",
       "      <td>0.160849</td>\n",
       "    </tr>\n",
       "    <tr>\n",
       "      <th>ttl_exp</th>\n",
       "      <td>0.265477</td>\n",
       "      <td>0.229542</td>\n",
       "      <td>1.000000</td>\n",
       "      <td>0.576603</td>\n",
       "    </tr>\n",
       "    <tr>\n",
       "      <th>tenure</th>\n",
       "      <td>0.177679</td>\n",
       "      <td>0.160849</td>\n",
       "      <td>0.576603</td>\n",
       "      <td>1.000000</td>\n",
       "    </tr>\n",
       "  </tbody>\n",
       "</table>\n",
       "</div>"
      ],
      "text/plain": [
       "             wage     hours   ttl_exp    tenure\n",
       "wage     1.000000  0.159144  0.265477  0.177679\n",
       "hours    0.159144  1.000000  0.229542  0.160849\n",
       "ttl_exp  0.265477  0.229542  1.000000  0.576603\n",
       "tenure   0.177679  0.160849  0.576603  1.000000"
      ]
     },
     "execution_count": 20,
     "metadata": {},
     "output_type": "execute_result"
    }
   ],
   "source": [
    "subset =['wage','hours','ttl_exp','tenure']\n",
    "sub_set = data_frame[subset]\n",
    "sub_set.corr()"
   ]
  },
  {
   "cell_type": "markdown",
   "id": "1a928c04",
   "metadata": {},
   "source": [
    "There is a positive relationship between tenure and ttl_exp.\n",
    "This can be seen from the positive side of the value.\n",
    "The relationship is moderate(0.6).\n",
    "This means that people who have a high experience are more likely to get the work."
   ]
  },
  {
   "cell_type": "code",
   "execution_count": 21,
   "id": "13f9f569",
   "metadata": {},
   "outputs": [],
   "source": [
    "import statsmodels.formula.api as smf "
   ]
  },
  {
   "cell_type": "code",
   "execution_count": 24,
   "id": "b6c49bed",
   "metadata": {},
   "outputs": [
    {
     "data": {
      "text/plain": [
       "Intercept    4.529512\n",
       "x            0.087189\n",
       "dtype: float64"
      ]
     },
     "execution_count": 24,
     "metadata": {},
     "output_type": "execute_result"
    }
   ],
   "source": [
    "# fitting simple linear Regression\n",
    "results = smf.ols('w~ x', data=df).fit()\n",
    "results.params"
   ]
  },
  {
   "cell_type": "markdown",
   "id": "febcb752",
   "metadata": {},
   "source": [
    "y=mx+c\n",
    "? = 0.09x +4.5\n",
    "if they increase number of hours increase by 1 then "
   ]
  },
  {
   "cell_type": "code",
   "execution_count": 25,
   "id": "9d0e0773",
   "metadata": {},
   "outputs": [
    {
     "data": {
      "text/plain": [
       "Intercept    2.031679\n",
       "x            0.056616\n",
       "y            0.274117\n",
       "z            0.036302\n",
       "dtype: float64"
      ]
     },
     "execution_count": 25,
     "metadata": {},
     "output_type": "execute_result"
    }
   ],
   "source": [
    "# fitting multiple linear regression\n",
    "results = smf.ols(\"w ~ x +y + z\", data=df).fit()\n",
    "results.params"
   ]
  },
  {
   "cell_type": "markdown",
   "id": "5d338059",
   "metadata": {},
   "source": [
    "y=c+ mx1 +mx2 +mx3\n",
    "if they the number of hours(1) increase by 1 unit what will happen to Total Experience "
   ]
  },
  {
   "cell_type": "markdown",
   "id": "f40d86b2",
   "metadata": {},
   "source": [
    "Modelling step by step"
   ]
  },
  {
   "cell_type": "markdown",
   "id": "8935c425",
   "metadata": {},
   "source": [
    "### Choosing a class of modeling"
   ]
  },
  {
   "cell_type": "code",
   "execution_count": 26,
   "id": "ce122071",
   "metadata": {},
   "outputs": [],
   "source": [
    "from sklearn.linear_model import LinearRegression #importing the linear Regression class of the model"
   ]
  },
  {
   "cell_type": "code",
   "execution_count": 27,
   "id": "b2c2c813",
   "metadata": {},
   "outputs": [
    {
     "data": {
      "text/html": [
       "<style>#sk-container-id-1 {color: black;background-color: white;}#sk-container-id-1 pre{padding: 0;}#sk-container-id-1 div.sk-toggleable {background-color: white;}#sk-container-id-1 label.sk-toggleable__label {cursor: pointer;display: block;width: 100%;margin-bottom: 0;padding: 0.3em;box-sizing: border-box;text-align: center;}#sk-container-id-1 label.sk-toggleable__label-arrow:before {content: \"▸\";float: left;margin-right: 0.25em;color: #696969;}#sk-container-id-1 label.sk-toggleable__label-arrow:hover:before {color: black;}#sk-container-id-1 div.sk-estimator:hover label.sk-toggleable__label-arrow:before {color: black;}#sk-container-id-1 div.sk-toggleable__content {max-height: 0;max-width: 0;overflow: hidden;text-align: left;background-color: #f0f8ff;}#sk-container-id-1 div.sk-toggleable__content pre {margin: 0.2em;color: black;border-radius: 0.25em;background-color: #f0f8ff;}#sk-container-id-1 input.sk-toggleable__control:checked~div.sk-toggleable__content {max-height: 200px;max-width: 100%;overflow: auto;}#sk-container-id-1 input.sk-toggleable__control:checked~label.sk-toggleable__label-arrow:before {content: \"▾\";}#sk-container-id-1 div.sk-estimator input.sk-toggleable__control:checked~label.sk-toggleable__label {background-color: #d4ebff;}#sk-container-id-1 div.sk-label input.sk-toggleable__control:checked~label.sk-toggleable__label {background-color: #d4ebff;}#sk-container-id-1 input.sk-hidden--visually {border: 0;clip: rect(1px 1px 1px 1px);clip: rect(1px, 1px, 1px, 1px);height: 1px;margin: -1px;overflow: hidden;padding: 0;position: absolute;width: 1px;}#sk-container-id-1 div.sk-estimator {font-family: monospace;background-color: #f0f8ff;border: 1px dotted black;border-radius: 0.25em;box-sizing: border-box;margin-bottom: 0.5em;}#sk-container-id-1 div.sk-estimator:hover {background-color: #d4ebff;}#sk-container-id-1 div.sk-parallel-item::after {content: \"\";width: 100%;border-bottom: 1px solid gray;flex-grow: 1;}#sk-container-id-1 div.sk-label:hover label.sk-toggleable__label {background-color: #d4ebff;}#sk-container-id-1 div.sk-serial::before {content: \"\";position: absolute;border-left: 1px solid gray;box-sizing: border-box;top: 0;bottom: 0;left: 50%;z-index: 0;}#sk-container-id-1 div.sk-serial {display: flex;flex-direction: column;align-items: center;background-color: white;padding-right: 0.2em;padding-left: 0.2em;position: relative;}#sk-container-id-1 div.sk-item {position: relative;z-index: 1;}#sk-container-id-1 div.sk-parallel {display: flex;align-items: stretch;justify-content: center;background-color: white;position: relative;}#sk-container-id-1 div.sk-item::before, #sk-container-id-1 div.sk-parallel-item::before {content: \"\";position: absolute;border-left: 1px solid gray;box-sizing: border-box;top: 0;bottom: 0;left: 50%;z-index: -1;}#sk-container-id-1 div.sk-parallel-item {display: flex;flex-direction: column;z-index: 1;position: relative;background-color: white;}#sk-container-id-1 div.sk-parallel-item:first-child::after {align-self: flex-end;width: 50%;}#sk-container-id-1 div.sk-parallel-item:last-child::after {align-self: flex-start;width: 50%;}#sk-container-id-1 div.sk-parallel-item:only-child::after {width: 0;}#sk-container-id-1 div.sk-dashed-wrapped {border: 1px dashed gray;margin: 0 0.4em 0.5em 0.4em;box-sizing: border-box;padding-bottom: 0.4em;background-color: white;}#sk-container-id-1 div.sk-label label {font-family: monospace;font-weight: bold;display: inline-block;line-height: 1.2em;}#sk-container-id-1 div.sk-label-container {text-align: center;}#sk-container-id-1 div.sk-container {/* jupyter's `normalize.less` sets `[hidden] { display: none; }` but bootstrap.min.css set `[hidden] { display: none !important; }` so we also need the `!important` here to be able to override the default hidden behavior on the sphinx rendered scikit-learn.org. See: https://github.com/scikit-learn/scikit-learn/issues/21755 */display: inline-block !important;position: relative;}#sk-container-id-1 div.sk-text-repr-fallback {display: none;}</style><div id=\"sk-container-id-1\" class=\"sk-top-container\"><div class=\"sk-text-repr-fallback\"><pre>LinearRegression()</pre><b>In a Jupyter environment, please rerun this cell to show the HTML representation or trust the notebook. <br />On GitHub, the HTML representation is unable to render, please try loading this page with nbviewer.org.</b></div><div class=\"sk-container\" hidden><div class=\"sk-item\"><div class=\"sk-estimator sk-toggleable\"><input class=\"sk-toggleable__control sk-hidden--visually\" id=\"sk-estimator-id-1\" type=\"checkbox\" checked><label for=\"sk-estimator-id-1\" class=\"sk-toggleable__label sk-toggleable__label-arrow\">LinearRegression</label><div class=\"sk-toggleable__content\"><pre>LinearRegression()</pre></div></div></div></div></div>"
      ],
      "text/plain": [
       "LinearRegression()"
      ]
     },
     "execution_count": 27,
     "metadata": {},
     "output_type": "execute_result"
    }
   ],
   "source": [
    "Training_model = LinearRegression(fit_intercept = True) #\n",
    "Training_model"
   ]
  },
  {
   "cell_type": "raw",
   "id": "3878d3b3",
   "metadata": {},
   "source": []
  },
  {
   "cell_type": "markdown",
   "id": "a840408f",
   "metadata": {},
   "source": [
    "slicing"
   ]
  },
  {
   "cell_type": "code",
   "execution_count": 28,
   "id": "ba6894b2",
   "metadata": {},
   "outputs": [
    {
     "name": "stderr",
     "output_type": "stream",
     "text": [
      "C:\\Users\\Adequate Minister\\AppData\\Local\\Temp\\ipykernel_16508\\3708438088.py:1: FutureWarning: Support for multi-dimensional indexing (e.g. `obj[:, None]`) is deprecated and will be removed in a future version.  Convert to a numpy array before indexing instead.\n",
      "  w = w[:,np.newaxis]\n"
     ]
    },
    {
     "data": {
      "text/plain": [
       "array([[11.73913 ],\n",
       "       [ 6.400963],\n",
       "       [ 5.016723],\n",
       "       ...,\n",
       "       [ 3.824476],\n",
       "       [ 2.447664],\n",
       "       [ 7.15781 ]])"
      ]
     },
     "execution_count": 28,
     "metadata": {},
     "output_type": "execute_result"
    }
   ],
   "source": [
    "w = w[:,np.newaxis]\n",
    "w"
   ]
  },
  {
   "cell_type": "code",
   "execution_count": 29,
   "id": "89433f58",
   "metadata": {},
   "outputs": [
    {
     "data": {
      "text/plain": [
       "(2246, 1)"
      ]
     },
     "execution_count": 29,
     "metadata": {},
     "output_type": "execute_result"
    }
   ],
   "source": [
    "w.shape"
   ]
  },
  {
   "cell_type": "markdown",
   "id": "c6bc496a",
   "metadata": {},
   "source": [
    "fitting the model\n"
   ]
  },
  {
   "cell_type": "code",
   "execution_count": 30,
   "id": "feabd6af",
   "metadata": {},
   "outputs": [
    {
     "name": "stderr",
     "output_type": "stream",
     "text": [
      "C:\\Users\\Adequate Minister\\AppData\\Local\\Temp\\ipykernel_16508\\3472372920.py:1: FutureWarning: Support for multi-dimensional indexing (e.g. `obj[:, None]`) is deprecated and will be removed in a future version.  Convert to a numpy array before indexing instead.\n",
      "  x = y[:,np.newaxis]\n"
     ]
    },
    {
     "data": {
      "text/plain": [
       "array([[10.33333],\n",
       "       [13.62179],\n",
       "       [17.73077],\n",
       "       ...,\n",
       "       [18.85897],\n",
       "       [11.16026],\n",
       "       [10.59615]])"
      ]
     },
     "execution_count": 30,
     "metadata": {},
     "output_type": "execute_result"
    }
   ],
   "source": [
    "x = y[:,np.newaxis]\n",
    "x"
   ]
  },
  {
   "cell_type": "code",
   "execution_count": 81,
   "id": "2b2db07d",
   "metadata": {},
   "outputs": [
    {
     "data": {
      "text/plain": [
       "(2246, 1)"
      ]
     },
     "execution_count": 81,
     "metadata": {},
     "output_type": "execute_result"
    }
   ],
   "source": [
    "y.shape\n"
   ]
  },
  {
   "cell_type": "code",
   "execution_count": 31,
   "id": "60dc416e",
   "metadata": {},
   "outputs": [
    {
     "data": {
      "text/html": [
       "<style>#sk-container-id-2 {color: black;background-color: white;}#sk-container-id-2 pre{padding: 0;}#sk-container-id-2 div.sk-toggleable {background-color: white;}#sk-container-id-2 label.sk-toggleable__label {cursor: pointer;display: block;width: 100%;margin-bottom: 0;padding: 0.3em;box-sizing: border-box;text-align: center;}#sk-container-id-2 label.sk-toggleable__label-arrow:before {content: \"▸\";float: left;margin-right: 0.25em;color: #696969;}#sk-container-id-2 label.sk-toggleable__label-arrow:hover:before {color: black;}#sk-container-id-2 div.sk-estimator:hover label.sk-toggleable__label-arrow:before {color: black;}#sk-container-id-2 div.sk-toggleable__content {max-height: 0;max-width: 0;overflow: hidden;text-align: left;background-color: #f0f8ff;}#sk-container-id-2 div.sk-toggleable__content pre {margin: 0.2em;color: black;border-radius: 0.25em;background-color: #f0f8ff;}#sk-container-id-2 input.sk-toggleable__control:checked~div.sk-toggleable__content {max-height: 200px;max-width: 100%;overflow: auto;}#sk-container-id-2 input.sk-toggleable__control:checked~label.sk-toggleable__label-arrow:before {content: \"▾\";}#sk-container-id-2 div.sk-estimator input.sk-toggleable__control:checked~label.sk-toggleable__label {background-color: #d4ebff;}#sk-container-id-2 div.sk-label input.sk-toggleable__control:checked~label.sk-toggleable__label {background-color: #d4ebff;}#sk-container-id-2 input.sk-hidden--visually {border: 0;clip: rect(1px 1px 1px 1px);clip: rect(1px, 1px, 1px, 1px);height: 1px;margin: -1px;overflow: hidden;padding: 0;position: absolute;width: 1px;}#sk-container-id-2 div.sk-estimator {font-family: monospace;background-color: #f0f8ff;border: 1px dotted black;border-radius: 0.25em;box-sizing: border-box;margin-bottom: 0.5em;}#sk-container-id-2 div.sk-estimator:hover {background-color: #d4ebff;}#sk-container-id-2 div.sk-parallel-item::after {content: \"\";width: 100%;border-bottom: 1px solid gray;flex-grow: 1;}#sk-container-id-2 div.sk-label:hover label.sk-toggleable__label {background-color: #d4ebff;}#sk-container-id-2 div.sk-serial::before {content: \"\";position: absolute;border-left: 1px solid gray;box-sizing: border-box;top: 0;bottom: 0;left: 50%;z-index: 0;}#sk-container-id-2 div.sk-serial {display: flex;flex-direction: column;align-items: center;background-color: white;padding-right: 0.2em;padding-left: 0.2em;position: relative;}#sk-container-id-2 div.sk-item {position: relative;z-index: 1;}#sk-container-id-2 div.sk-parallel {display: flex;align-items: stretch;justify-content: center;background-color: white;position: relative;}#sk-container-id-2 div.sk-item::before, #sk-container-id-2 div.sk-parallel-item::before {content: \"\";position: absolute;border-left: 1px solid gray;box-sizing: border-box;top: 0;bottom: 0;left: 50%;z-index: -1;}#sk-container-id-2 div.sk-parallel-item {display: flex;flex-direction: column;z-index: 1;position: relative;background-color: white;}#sk-container-id-2 div.sk-parallel-item:first-child::after {align-self: flex-end;width: 50%;}#sk-container-id-2 div.sk-parallel-item:last-child::after {align-self: flex-start;width: 50%;}#sk-container-id-2 div.sk-parallel-item:only-child::after {width: 0;}#sk-container-id-2 div.sk-dashed-wrapped {border: 1px dashed gray;margin: 0 0.4em 0.5em 0.4em;box-sizing: border-box;padding-bottom: 0.4em;background-color: white;}#sk-container-id-2 div.sk-label label {font-family: monospace;font-weight: bold;display: inline-block;line-height: 1.2em;}#sk-container-id-2 div.sk-label-container {text-align: center;}#sk-container-id-2 div.sk-container {/* jupyter's `normalize.less` sets `[hidden] { display: none; }` but bootstrap.min.css set `[hidden] { display: none !important; }` so we also need the `!important` here to be able to override the default hidden behavior on the sphinx rendered scikit-learn.org. See: https://github.com/scikit-learn/scikit-learn/issues/21755 */display: inline-block !important;position: relative;}#sk-container-id-2 div.sk-text-repr-fallback {display: none;}</style><div id=\"sk-container-id-2\" class=\"sk-top-container\"><div class=\"sk-text-repr-fallback\"><pre>LinearRegression()</pre><b>In a Jupyter environment, please rerun this cell to show the HTML representation or trust the notebook. <br />On GitHub, the HTML representation is unable to render, please try loading this page with nbviewer.org.</b></div><div class=\"sk-container\" hidden><div class=\"sk-item\"><div class=\"sk-estimator sk-toggleable\"><input class=\"sk-toggleable__control sk-hidden--visually\" id=\"sk-estimator-id-2\" type=\"checkbox\" checked><label for=\"sk-estimator-id-2\" class=\"sk-toggleable__label sk-toggleable__label-arrow\">LinearRegression</label><div class=\"sk-toggleable__content\"><pre>LinearRegression()</pre></div></div></div></div></div>"
      ],
      "text/plain": [
       "LinearRegression()"
      ]
     },
     "execution_count": 31,
     "metadata": {},
     "output_type": "execute_result"
    }
   ],
   "source": [
    "Training_model.fit(w,y)"
   ]
  },
  {
   "cell_type": "code",
   "execution_count": 32,
   "id": "4c28f2fd",
   "metadata": {},
   "outputs": [
    {
     "data": {
      "text/plain": [
       "array([0.2126484])"
      ]
     },
     "execution_count": 32,
     "metadata": {},
     "output_type": "execute_result"
    }
   ],
   "source": [
    "Training_model.coef_"
   ]
  },
  {
   "cell_type": "code",
   "execution_count": 37,
   "id": "8f0c07ca",
   "metadata": {},
   "outputs": [
    {
     "data": {
      "text/plain": [
       "10.883347480258333"
      ]
     },
     "execution_count": 37,
     "metadata": {},
     "output_type": "execute_result"
    }
   ],
   "source": [
    "Training_model.intercept_"
   ]
  },
  {
   "cell_type": "code",
   "execution_count": 41,
   "id": "dd731f76",
   "metadata": {},
   "outputs": [
    {
     "data": {
      "text/plain": [
       "array([  -1.        ,   19.42857143,   39.85714286,   60.28571429,\n",
       "         80.71428571,  101.14285714,  121.57142857,  142.        ,\n",
       "        162.42857143,  182.85714286,  203.28571429,  223.71428571,\n",
       "        244.14285714,  264.57142857,  285.        ,  305.42857143,\n",
       "        325.85714286,  346.28571429,  366.71428571,  387.14285714,\n",
       "        407.57142857,  428.        ,  448.42857143,  468.85714286,\n",
       "        489.28571429,  509.71428571,  530.14285714,  550.57142857,\n",
       "        571.        ,  591.42857143,  611.85714286,  632.28571429,\n",
       "        652.71428571,  673.14285714,  693.57142857,  714.        ,\n",
       "        734.42857143,  754.85714286,  775.28571429,  795.71428571,\n",
       "        816.14285714,  836.57142857,  857.        ,  877.42857143,\n",
       "        897.85714286,  918.28571429,  938.71428571,  959.14285714,\n",
       "        979.57142857, 1000.        ])"
      ]
     },
     "execution_count": 41,
     "metadata": {},
     "output_type": "execute_result"
    }
   ],
   "source": [
    "south = np.linspace(-1,1000)\n",
    "south"
   ]
  },
  {
   "cell_type": "code",
   "execution_count": 42,
   "id": "d6224cd6",
   "metadata": {},
   "outputs": [
    {
     "data": {
      "text/plain": [
       "array([[  -1.        ],\n",
       "       [  19.42857143],\n",
       "       [  39.85714286],\n",
       "       [  60.28571429],\n",
       "       [  80.71428571],\n",
       "       [ 101.14285714],\n",
       "       [ 121.57142857],\n",
       "       [ 142.        ],\n",
       "       [ 162.42857143],\n",
       "       [ 182.85714286],\n",
       "       [ 203.28571429],\n",
       "       [ 223.71428571],\n",
       "       [ 244.14285714],\n",
       "       [ 264.57142857],\n",
       "       [ 285.        ],\n",
       "       [ 305.42857143],\n",
       "       [ 325.85714286],\n",
       "       [ 346.28571429],\n",
       "       [ 366.71428571],\n",
       "       [ 387.14285714],\n",
       "       [ 407.57142857],\n",
       "       [ 428.        ],\n",
       "       [ 448.42857143],\n",
       "       [ 468.85714286],\n",
       "       [ 489.28571429],\n",
       "       [ 509.71428571],\n",
       "       [ 530.14285714],\n",
       "       [ 550.57142857],\n",
       "       [ 571.        ],\n",
       "       [ 591.42857143],\n",
       "       [ 611.85714286],\n",
       "       [ 632.28571429],\n",
       "       [ 652.71428571],\n",
       "       [ 673.14285714],\n",
       "       [ 693.57142857],\n",
       "       [ 714.        ],\n",
       "       [ 734.42857143],\n",
       "       [ 754.85714286],\n",
       "       [ 775.28571429],\n",
       "       [ 795.71428571],\n",
       "       [ 816.14285714],\n",
       "       [ 836.57142857],\n",
       "       [ 857.        ],\n",
       "       [ 877.42857143],\n",
       "       [ 897.85714286],\n",
       "       [ 918.28571429],\n",
       "       [ 938.71428571],\n",
       "       [ 959.14285714],\n",
       "       [ 979.57142857],\n",
       "       [1000.        ]])"
      ]
     },
     "execution_count": 42,
     "metadata": {},
     "output_type": "execute_result"
    }
   ],
   "source": [
    "south = south[:,np.newaxis]\n",
    "south"
   ]
  },
  {
   "cell_type": "code",
   "execution_count": 44,
   "id": "b7b8ac69",
   "metadata": {},
   "outputs": [
    {
     "data": {
      "text/plain": [
       "array([ 10.67069908,  15.01480203,  19.35890497,  23.70300791,\n",
       "        28.04711085,  32.39121379,  36.73531673,  41.07941968,\n",
       "        45.42352262,  49.76762556,  54.1117285 ,  58.45583144,\n",
       "        62.79993438,  67.14403732,  71.48814027,  75.83224321,\n",
       "        80.17634615,  84.52044909,  88.86455203,  93.20865497,\n",
       "        97.55275791, 101.89686086, 106.2409638 , 110.58506674,\n",
       "       114.92916968, 119.27327262, 123.61737556, 127.96147851,\n",
       "       132.30558145, 136.64968439, 140.99378733, 145.33789027,\n",
       "       149.68199321, 154.02609615, 158.3701991 , 162.71430204,\n",
       "       167.05840498, 171.40250792, 175.74661086, 180.0907138 ,\n",
       "       184.43481675, 188.77891969, 193.12302263, 197.46712557,\n",
       "       201.81122851, 206.15533145, 210.49943439, 214.84353734,\n",
       "       219.18764028, 223.53174322])"
      ]
     },
     "execution_count": 44,
     "metadata": {},
     "output_type": "execute_result"
    }
   ],
   "source": [
    "college =Training_model.predict(south)\n",
    "college"
   ]
  },
  {
   "cell_type": "code",
   "execution_count": 45,
   "id": "42e134c8",
   "metadata": {},
   "outputs": [
    {
     "data": {
      "image/png": "[encoded data removed]",
      "text/plain": [
       "<Figure size 432x288 with 1 Axes>"
      ]
     },
     "metadata": {
      "needs_background": "light"
     },
     "output_type": "display_data"
    }
   ],
   "source": [
    "plt.scatter(south,college);"
   ]
  },
  {
   "cell_type": "code",
   "execution_count": 47,
   "id": "b1ab1993",
   "metadata": {},
   "outputs": [
    {
     "data": {
      "image/png": "[encoded data removed]",
      "text/plain": [
       "<Figure size 432x288 with 1 Axes>"
      ]
     },
     "metadata": {
      "needs_background": "light"
     },
     "output_type": "display_data"
    }
   ],
   "source": [
    "plt.scatter(w,x);\n",
    "plt.scatter(south,college);"
   ]
  },
  {
   "cell_type": "code",
   "execution_count": 49,
   "id": "5294a182",
   "metadata": {},
   "outputs": [
    {
     "data": {
      "image/png": "[encoded data removed]",
      "text/plain": [
       "<Figure size 432x288 with 1 Axes>"
      ]
     },
     "metadata": {
      "needs_background": "light"
     },
     "output_type": "display_data"
    }
   ],
   "source": [
    "plt.scatter(y,z);\n",
    "plt.scatter(south,college);"
   ]
  },
  {
   "cell_type": "code",
   "execution_count": 50,
   "id": "3d401fa9",
   "metadata": {},
   "outputs": [
    {
     "data": {
      "image/png": "[encoded data removed]",
      "text/plain": [
       "<Figure size 432x288 with 1 Axes>"
      ]
     },
     "metadata": {
      "needs_background": "light"
     },
     "output_type": "display_data"
    }
   ],
   "source": [
    "plt.scatter(w,x);\n",
    "plt.scatter(y,z);\n"
   ]
  },
  {
   "cell_type": "code",
   "execution_count": 51,
   "id": "e6e0b154",
   "metadata": {},
   "outputs": [
    {
     "data": {
      "text/plain": [
       "<matplotlib.collections.PathCollection at 0x2a778321060>"
      ]
     },
     "execution_count": 51,
     "metadata": {},
     "output_type": "execute_result"
    },
    {
     "data": {
      "image/png": "[encoded data removed]",
      "text/plain": [
       "<Figure size 432x288 with 1 Axes>"
      ]
     },
     "metadata": {
      "needs_background": "light"
     },
     "output_type": "display_data"
    }
   ],
   "source": [
    "plt.scatter(w,x);\n",
    "plt.scatter(y,z);\n",
    "plt.scatter(south,college)"
   ]
  },
  {
   "cell_type": "markdown",
   "id": "5ba1d23c",
   "metadata": {},
   "source": [
    "## question 2"
   ]
  },
  {
   "cell_type": "code",
   "execution_count": null,
   "id": "3b8ca778",
   "metadata": {},
   "outputs": [],
   "source": []
  }
 ],
 "metadata": {
  "kernelspec": {
   "display_name": "Python 3 (ipykernel)",
   "language": "python",
   "name": "python3"
  },
  "language_info": {
   "codemirror_mode": {
    "name": "ipython",
    "version": 3
   },
   "file_extension": ".py",
   "mimetype": "text/x-python",
   "name": "python",
   "nbconvert_exporter": "python",
   "pygments_lexer": "ipython3",
   "version": "3.10.5"
  }
 },
 "nbformat": 4,
 "nbformat_minor": 5
}
