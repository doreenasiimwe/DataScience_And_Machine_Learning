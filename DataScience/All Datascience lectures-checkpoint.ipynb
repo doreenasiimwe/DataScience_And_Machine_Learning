{
 "cells": [
  {
   "cell_type": "markdown",
   "id": "5a71b454",
   "metadata": {},
   "source": [
    "# Numbers\n",
    "Pyhton can work with several numbers but the common ones are int and float"
   ]
  },
  {
   "cell_type": "markdown",
   "id": "cd5f3412",
   "metadata": {},
   "source": [
    "# Arithmetic\n",
    "ie \n"
   ]
  },
  {
   "cell_type": "code",
   "execution_count": 1,
   "id": "17b412a3",
   "metadata": {},
   "outputs": [
    {
     "data": {
      "text/plain": [
       "2"
      ]
     },
     "execution_count": 1,
     "metadata": {},
     "output_type": "execute_result"
    }
   ],
   "source": [
    "#ADDITION AND SUBTRACTION\n",
    "3+1-2"
   ]
  },
  {
   "cell_type": "code",
   "execution_count": 2,
   "id": "ad5c7809",
   "metadata": {},
   "outputs": [
    {
     "data": {
      "text/plain": [
       "6"
      ]
     },
     "execution_count": 2,
     "metadata": {},
     "output_type": "execute_result"
    }
   ],
   "source": [
    "#MULTIPLICATION\n",
    "2*3"
   ]
  },
  {
   "cell_type": "code",
   "execution_count": 3,
   "id": "18673e74",
   "metadata": {},
   "outputs": [
    {
     "data": {
      "text/plain": [
       "2"
      ]
     },
     "execution_count": 3,
     "metadata": {},
     "output_type": "execute_result"
    }
   ],
   "source": [
    "#Modulus\n",
    "2%3"
   ]
  },
  {
   "cell_type": "code",
   "execution_count": 4,
   "id": "a1e07f1b",
   "metadata": {},
   "outputs": [
    {
     "data": {
      "text/plain": [
       "8"
      ]
     },
     "execution_count": 4,
     "metadata": {},
     "output_type": "execute_result"
    }
   ],
   "source": [
    "#EXPONENTIAL\n",
    "2**3"
   ]
  },
  {
   "cell_type": "code",
   "execution_count": 5,
   "id": "19e5ef91",
   "metadata": {},
   "outputs": [
    {
     "data": {
      "text/plain": [
       "0"
      ]
     },
     "execution_count": 5,
     "metadata": {},
     "output_type": "execute_result"
    }
   ],
   "source": [
    "#FLOW DIVISION\n",
    "2//3"
   ]
  },
  {
   "cell_type": "code",
   "execution_count": 6,
   "id": "2a1cbaf6",
   "metadata": {},
   "outputs": [
    {
     "data": {
      "text/plain": [
       "0.6666666666666666"
      ]
     },
     "execution_count": 6,
     "metadata": {},
     "output_type": "execute_result"
    }
   ],
   "source": [
    "#DIVISION\n",
    "2/3"
   ]
  },
  {
   "cell_type": "markdown",
   "id": "5b222c7c",
   "metadata": {},
   "source": [
    "# Exercise\n",
    "Write a python expression that raises 1+2 to the power of 3*4"
   ]
  },
  {
   "cell_type": "code",
   "execution_count": 7,
   "id": "f1a7634b",
   "metadata": {},
   "outputs": [
    {
     "data": {
      "text/plain": [
       "531441"
      ]
     },
     "execution_count": 7,
     "metadata": {},
     "output_type": "execute_result"
    }
   ],
   "source": [
    "#SOLUTION\n",
    "#Order of precedence\n",
    "(1+2)**(3*4)\n",
    "#PEDMAS"
   ]
  },
  {
   "cell_type": "markdown",
   "id": "83ebed5f",
   "metadata": {},
   "source": [
    "# Maths Functions\n"
   ]
  },
  {
   "cell_type": "code",
   "execution_count": 8,
   "id": "0b2d1bc1",
   "metadata": {},
   "outputs": [],
   "source": [
    "import numpy as np"
   ]
  },
  {
   "cell_type": "code",
   "execution_count": 9,
   "id": "6a644e47",
   "metadata": {},
   "outputs": [
    {
     "data": {
      "text/plain": [
       "3.141592653589793"
      ]
     },
     "execution_count": 9,
     "metadata": {},
     "output_type": "execute_result"
    }
   ],
   "source": [
    "np.pi"
   ]
  },
  {
   "cell_type": "code",
   "execution_count": 10,
   "id": "28b35c9f",
   "metadata": {},
   "outputs": [
    {
     "data": {
      "text/plain": [
       "4.605170185988092"
      ]
     },
     "execution_count": 10,
     "metadata": {},
     "output_type": "execute_result"
    }
   ],
   "source": [
    "np.log(100)"
   ]
  },
  {
   "cell_type": "code",
   "execution_count": 11,
   "id": "9704b81f",
   "metadata": {},
   "outputs": [
    {
     "data": {
      "text/plain": [
       "2.718281828459045"
      ]
     },
     "execution_count": 11,
     "metadata": {},
     "output_type": "execute_result"
    }
   ],
   "source": [
    "np.exp(1)"
   ]
  },
  {
   "cell_type": "markdown",
   "id": "fd7680d2",
   "metadata": {},
   "source": [
    "# log(e*x) = x \n",
    "where by -700 <= x <= 700"
   ]
  },
  {
   "cell_type": "code",
   "execution_count": null,
   "id": "50e9781e",
   "metadata": {},
   "outputs": [],
   "source": []
  },
  {
   "cell_type": "markdown",
   "id": "433f9b51",
   "metadata": {},
   "source": [
    "# VARIABLES\n",
    "A  variable is a name that refers to a value ie x = 5 means 5 is the value assigned to x variable ie "
   ]
  },
  {
   "cell_type": "code",
   "execution_count": 12,
   "id": "432ff9a9",
   "metadata": {},
   "outputs": [
    {
     "data": {
      "text/plain": [
       "6"
      ]
     },
     "execution_count": 12,
     "metadata": {},
     "output_type": "execute_result"
    }
   ],
   "source": [
    "x = 5\n",
    "\n",
    "x +1"
   ]
  },
  {
   "cell_type": "code",
   "execution_count": 13,
   "id": "737e1404",
   "metadata": {},
   "outputs": [
    {
     "data": {
      "text/plain": [
       "25"
      ]
     },
     "execution_count": 13,
     "metadata": {},
     "output_type": "execute_result"
    }
   ],
   "source": [
    "x**2"
   ]
  },
  {
   "cell_type": "code",
   "execution_count": 14,
   "id": "91888f38",
   "metadata": {},
   "outputs": [
    {
     "data": {
      "text/plain": [
       "148.4131591025766"
      ]
     },
     "execution_count": 14,
     "metadata": {},
     "output_type": "execute_result"
    }
   ],
   "source": [
    "np.exp(x)"
   ]
  },
  {
   "cell_type": "markdown",
   "id": "42951d23",
   "metadata": {},
   "source": [
    "# Calculations with variable\n",
    "\n",
    "if you deposit $2100 in a bank, paying an annual interesr rate of 3.4\\% compounded quarterly, we can compute the balance for 7 years by defeining these variables ie"
   ]
  },
  {
   "cell_type": "code",
   "execution_count": 15,
   "id": "009321d9",
   "metadata": {},
   "outputs": [],
   "source": [
    "p = 2100#principle\n",
    "r = 0.034#rate\n",
    "n = 4#Number of years that have been deposited yet\n",
    "t = 7#Total number of years"
   ]
  },
  {
   "cell_type": "code",
   "execution_count": 16,
   "id": "d35d0118",
   "metadata": {},
   "outputs": [
    {
     "data": {
      "text/plain": [
       "2661.6108980682593"
      ]
     },
     "execution_count": 16,
     "metadata": {},
     "output_type": "execute_result"
    }
   ],
   "source": [
    "v = 2100*(1+0.034/4)**(4*7)\n",
    "v"
   ]
  },
  {
   "cell_type": "code",
   "execution_count": 17,
   "id": "d41d12a4",
   "metadata": {},
   "outputs": [
    {
     "data": {
      "text/plain": [
       "2658.965091277534"
      ]
     },
     "execution_count": 17,
     "metadata": {},
     "output_type": "execute_result"
    }
   ],
   "source": [
    "v = 2100*(1+0.034/2)**(2*7)\n",
    "v"
   ]
  },
  {
   "cell_type": "code",
   "execution_count": 18,
   "id": "e16fbd0c",
   "metadata": {},
   "outputs": [
    {
     "data": {
      "text/plain": [
       "6.175728457877729"
      ]
     },
     "execution_count": 18,
     "metadata": {},
     "output_type": "execute_result"
    }
   ],
   "source": [
    "w = 2100**(0.034*7)\n",
    "w"
   ]
  },
  {
   "cell_type": "code",
   "execution_count": 19,
   "id": "19879b11",
   "metadata": {},
   "outputs": [
    {
     "data": {
      "text/plain": [
       "1.6823289251587048"
      ]
     },
     "execution_count": 19,
     "metadata": {},
     "output_type": "execute_result"
    }
   ],
   "source": [
    "w = 2100**(0.034*2)\n",
    "w"
   ]
  },
  {
   "cell_type": "markdown",
   "id": "acf9cf50",
   "metadata": {},
   "source": [
    "# Times and Places\n",
    "places mean strings in terms of location\n",
    "here we cover some additional datatypes ie strings represent text ,dates,time\n",
    " A string is a sequence of letters,numbers and punctuation marks typed between single and double quotation marks ie \"elements\" \"of\" \"Data Science\" and they are assigned to variables ie \n",
    " first = \"Data\"\n",
    " last = 'Science'\n",
    " if the two strings are concatenated with space we get data science as two words and without space then its one word \n",
    " ie (first + ''last) and (first + last)\n",
    " for an expression\n",
    " \n",
    " "
   ]
  },
  {
   "cell_type": "code",
   "execution_count": 20,
   "id": "59e0dd19",
   "metadata": {},
   "outputs": [
    {
     "ename": "TypeError",
     "evalue": "can only concatenate str (not \"int\") to str",
     "output_type": "error",
     "traceback": [
      "\u001b[1;31m---------------------------------------------------------------------------\u001b[0m",
      "\u001b[1;31mTypeError\u001b[0m                                 Traceback (most recent call last)",
      "Input \u001b[1;32mIn [20]\u001b[0m, in \u001b[0;36m<cell line: 2>\u001b[1;34m()\u001b[0m\n\u001b[0;32m      1\u001b[0m actual \u001b[38;5;241m=\u001b[39m \u001b[38;5;124m\"\u001b[39m\u001b[38;5;124m123\u001b[39m\u001b[38;5;124m\"\u001b[39m\n\u001b[1;32m----> 2\u001b[0m \u001b[43mactual\u001b[49m\u001b[43m \u001b[49m\u001b[38;5;241;43m+\u001b[39;49m\u001b[43m \u001b[49m\u001b[38;5;241;43m1\u001b[39;49m\n",
      "\u001b[1;31mTypeError\u001b[0m: can only concatenate str (not \"int\") to str"
     ]
    }
   ],
   "source": [
    "actual = \"123\"\n",
    "actual + 1"
   ]
  },
  {
   "cell_type": "code",
   "execution_count": 21,
   "id": "e53a0691",
   "metadata": {},
   "outputs": [
    {
     "data": {
      "text/plain": [
       "'123123123'"
      ]
     },
     "execution_count": 21,
     "metadata": {},
     "output_type": "execute_result"
    }
   ],
   "source": [
    "actual*3"
   ]
  },
  {
   "cell_type": "code",
   "execution_count": 22,
   "id": "b9bcbfdb",
   "metadata": {},
   "outputs": [
    {
     "data": {
      "text/plain": [
       "123"
      ]
     },
     "execution_count": 22,
     "metadata": {},
     "output_type": "execute_result"
    }
   ],
   "source": [
    "int(\"123\")"
   ]
  },
  {
   "cell_type": "code",
   "execution_count": 23,
   "id": "b3121cb8",
   "metadata": {},
   "outputs": [
    {
     "data": {
      "text/plain": [
       "123.0"
      ]
     },
     "execution_count": 23,
     "metadata": {},
     "output_type": "execute_result"
    }
   ],
   "source": [
    "float(\"123\")"
   ]
  },
  {
   "cell_type": "code",
   "execution_count": 24,
   "id": "fb40d9f3",
   "metadata": {},
   "outputs": [
    {
     "data": {
      "text/plain": [
       "'123'"
      ]
     },
     "execution_count": 24,
     "metadata": {},
     "output_type": "execute_result"
    }
   ],
   "source": [
    "str(123)"
   ]
  },
  {
   "cell_type": "code",
   "execution_count": 25,
   "id": "335e44e2",
   "metadata": {},
   "outputs": [
    {
     "data": {
      "text/plain": [
       "'12.3'"
      ]
     },
     "execution_count": 25,
     "metadata": {},
     "output_type": "execute_result"
    }
   ],
   "source": [
    "str(12.3)"
   ]
  },
  {
   "cell_type": "markdown",
   "id": "58202273",
   "metadata": {},
   "source": [
    "# Dates and Times\n"
   ]
  },
  {
   "cell_type": "code",
   "execution_count": 26,
   "id": "9472909c",
   "metadata": {},
   "outputs": [],
   "source": [
    "import scipy as sci"
   ]
  },
  {
   "cell_type": "code",
   "execution_count": 27,
   "id": "bb101a15",
   "metadata": {},
   "outputs": [
    {
     "data": {
      "text/plain": [
       "1.618033988749895"
      ]
     },
     "execution_count": 27,
     "metadata": {},
     "output_type": "execute_result"
    }
   ],
   "source": [
    "phi = (1+5**0.5)/2\n",
    "phi"
   ]
  },
  {
   "cell_type": "markdown",
   "id": "bb932bc6",
   "metadata": {},
   "source": [
    "# Plotting\n",
    "  line graph - record something  to be visualised over time ie inflation,GDP however it works with one variable at atime\n",
    "  \n",
    " histogram\n",
    " \n",
    " scatter plots-deriving relationships\n",
    " \n",
    " barcharts- comparison\n",
    " \n",
    " pie charts\n",
    " \n",
    " slope chart -Different slopes with time\n",
    " \n",
    " stacked area chart\n",
    "# NB OWID _ Our world in Data\n",
    "# What are the needed libraries\n",
    "Seaborn as sns\n",
    "matplotlib.pyplot as plt\n",
    "matplotlib\n",
    "numpy\n",
    "scikit_-learn\n"
   ]
  },
  {
   "cell_type": "code",
   "execution_count": 28,
   "id": "c8da2720",
   "metadata": {},
   "outputs": [],
   "source": [
    "year = [2009, 2010, 2011, 2012, 2013, 2014, 2015, 2016, 2017, 2018]\n",
    "christian = [77,76,75,73,73,71,69,68,67,65]\n",
    "unaffiliated =[17, 17, 19, 19, 20, 21, 24, 23, 25,26]"
   ]
  },
  {
   "cell_type": "code",
   "execution_count": 29,
   "id": "bf4b75a1",
   "metadata": {},
   "outputs": [],
   "source": [
    "import numpy as np\n",
    "import matplotlib.pyplot as plt\n",
    "\n",
    "import seaborn as sns\n"
   ]
  },
  {
   "cell_type": "code",
   "execution_count": 30,
   "id": "807b2961",
   "metadata": {},
   "outputs": [],
   "source": [
    "matplotlib inline"
   ]
  },
  {
   "cell_type": "code",
   "execution_count": 31,
   "id": "e150fbc8",
   "metadata": {},
   "outputs": [],
   "source": [
    "import matplotlib.pyplot as plt"
   ]
  },
  {
   "cell_type": "code",
   "execution_count": 32,
   "id": "bb16516f",
   "metadata": {},
   "outputs": [
    {
     "data": {
      "text/plain": [
       "[<matplotlib.lines.Line2D at 0x1fcec63e380>]"
      ]
     },
     "execution_count": 32,
     "metadata": {},
     "output_type": "execute_result"
    },
    {
     "data": {
      "image/png": "[encoded data removed]",
      "text/plain": [
       "<Figure size 432x288 with 1 Axes>"
      ]
     },
     "metadata": {
      "needs_background": "light"
     },
     "output_type": "display_data"
    }
   ],
   "source": [
    "plt.plot(year,christian)\n"
   ]
  },
  {
   "cell_type": "code",
   "execution_count": 33,
   "id": "46a4d3ad",
   "metadata": {},
   "outputs": [
    {
     "data": {
      "text/plain": [
       "[<matplotlib.lines.Line2D at 0x1fcee72e7d0>]"
      ]
     },
     "execution_count": 33,
     "metadata": {},
     "output_type": "execute_result"
    },
    {
     "data": {
      "image/png": "[encoded data removed]",
      "text/plain": [
       "<Figure size 432x288 with 1 Axes>"
      ]
     },
     "metadata": {
      "needs_background": "light"
     },
     "output_type": "display_data"
    }
   ],
   "source": [
    "plt.plot(year,unaffiliated)"
   ]
  },
  {
   "cell_type": "code",
   "execution_count": 34,
   "id": "cfdeb335",
   "metadata": {},
   "outputs": [
    {
     "data": {
      "text/plain": [
       "[<matplotlib.lines.Line2D at 0x1fcee7a9450>]"
      ]
     },
     "execution_count": 34,
     "metadata": {},
     "output_type": "execute_result"
    },
    {
     "data": {
      "image/png": "[encoded data removed]",
      "text/plain": [
       "<Figure size 432x288 with 1 Axes>"
      ]
     },
     "metadata": {
      "needs_background": "light"
     },
     "output_type": "display_data"
    }
   ],
   "source": [
    "plt.plot(year,christian)\n",
    "plt.plot(year,unaffiliated)# christian and unaffiliated over time"
   ]
  },
  {
   "cell_type": "code",
   "execution_count": 35,
   "id": "276a7a0b",
   "metadata": {},
   "outputs": [
    {
     "data": {
      "text/plain": [
       "[<matplotlib.lines.Line2D at 0x1fcee8282e0>]"
      ]
     },
     "execution_count": 35,
     "metadata": {},
     "output_type": "execute_result"
    },
    {
     "data": {
      "image/png": "[encoded data removed]",
      "text/plain": [
       "<Figure size 432x288 with 1 Axes>"
      ]
     },
     "metadata": {
      "needs_background": "light"
     },
     "output_type": "display_data"
    }
   ],
   "source": [
    "plt.plot(year,christian)\n",
    "plt.ylim(0,80)\n",
    "plt.plot(year,unaffiliated)# gives where to start and end"
   ]
  },
  {
   "cell_type": "code",
   "execution_count": 36,
   "id": "e77b7994",
   "metadata": {},
   "outputs": [
    {
     "data": {
      "image/png": "[encoded data removed]",
      "text/plain": [
       "<Figure size 432x288 with 1 Axes>"
      ]
     },
     "metadata": {
      "needs_background": "light"
     },
     "output_type": "display_data"
    }
   ],
   "source": [
    "plt.plot(year,christian)\n",
    "plt.ylim(0,80)#limitation/axes scale\n",
    "plt.plot(year,unaffiliated)# gives where to start and end\n",
    "#labels(x,y and title label and they take strings as arguements)\n",
    "plt.xlabel(\"Year\");"
   ]
  },
  {
   "cell_type": "code",
   "execution_count": 37,
   "id": "5b556931",
   "metadata": {},
   "outputs": [
    {
     "data": {
      "image/png": "[encoded data removed]",
      "text/plain": [
       "<Figure size 432x288 with 1 Axes>"
      ]
     },
     "metadata": {
      "needs_background": "light"
     },
     "output_type": "display_data"
    }
   ],
   "source": [
    "plt.plot(year,christian)\n",
    "plt.ylim(0,80)#limitation/axes scale\n",
    "plt.plot(year,unaffiliated)# gives where to start and end\n",
    "#labels(x,y and title label and they take strings as arguements)\n",
    "plt.xlabel(\"Year\");\n",
    "plt.ylabel(\"Adults Percentage\");"
   ]
  },
  {
   "cell_type": "code",
   "execution_count": 38,
   "id": "4701adc1",
   "metadata": {},
   "outputs": [
    {
     "data": {
      "image/png": "[encoded data removed]",
      "text/plain": [
       "<Figure size 432x288 with 1 Axes>"
      ]
     },
     "metadata": {
      "needs_background": "light"
     },
     "output_type": "display_data"
    }
   ],
   "source": [
    "plt.plot(year,christian)\n",
    "plt.ylim(0,80)#limitation/axes scale\n",
    "plt.plot(year,unaffiliated)# gives where to start and end\n",
    "#labels(x,y and title label and they take strings as arguements)\n",
    "plt.xlabel(\"Year\");\n",
    "plt.ylabel(\"Adults Percentage\");\n",
    "plt.title(\"Religious Affiliation\");"
   ]
  },
  {
   "cell_type": "code",
   "execution_count": 39,
   "id": "3ff12dd4",
   "metadata": {},
   "outputs": [
    {
     "data": {
      "image/png": "[encoded data removed]",
      "text/plain": [
       "<Figure size 432x288 with 1 Axes>"
      ]
     },
     "metadata": {
      "needs_background": "light"
     },
     "output_type": "display_data"
    }
   ],
   "source": [
    "plt.plot(year,christian,label = \"christian\")\n",
    "plt.ylim(0,80)#limitation/axes scale\n",
    "plt.plot(year,unaffiliated, label = \"unaffiliated\")# gives where to start and end\n",
    "#labels(x,y and title label and they take strings as arguements)\n",
    "plt.xlabel(\"Year\");#X label\n",
    "plt.ylabel(\"Adults Percentage\");#ylabel\n",
    "plt.title(\"Religious Affiliation\");#title\n",
    "plt.legend();"
   ]
  },
  {
   "cell_type": "code",
   "execution_count": 40,
   "id": "989e8e39",
   "metadata": {},
   "outputs": [
    {
     "name": "stderr",
     "output_type": "stream",
     "text": [
      "No artists with labels found to put in legend.  Note that artists whose label start with an underscore are ignored when legend() is called with no argument.\n"
     ]
    },
    {
     "data": {
      "image/png": "[encoded data removed]",
      "text/plain": [
       "<Figure size 432x288 with 1 Axes>"
      ]
     },
     "metadata": {
      "needs_background": "light"
     },
     "output_type": "display_data"
    }
   ],
   "source": [
    "plt.plot(year,christian)\n",
    "plt.ylim(0,80)#limitation/axes scale\n",
    "plt.plot(year,unaffiliated)# gives where to start and end\n",
    "#labels(x,y and title label and they take strings as arguements)\n",
    "plt.xlabel(\"Year\");#X label\n",
    "plt.ylabel(\"Adults Percentage\");#ylabel\n",
    "plt.title(\"Religious Affiliation\");#title\n",
    "plt.legend();"
   ]
  },
  {
   "cell_type": "markdown",
   "id": "2c5daa72",
   "metadata": {},
   "source": [
    "# replication\n",
    "# reproducible\n",
    "\n"
   ]
  },
  {
   "cell_type": "code",
   "execution_count": 41,
   "id": "4f1d1782",
   "metadata": {},
   "outputs": [],
   "source": [
    "name_list =[\"lobster roll\", \n",
    "            \"chicken ceasar\",\n",
    "            \"bang bang chicken wrap\",\n",
    "            \"ham and cheese\",\n",
    "            \"Tuna and cucumber\",\n",
    "            \"egg sandwich\"\n",
    "           ]\n",
    "boston_price_list =[9.99,7.99,7.49,7,6.29,4.99]\n",
    "london_price_list = [7.5,5,4.4,5,3.75,2.25]  "
   ]
  },
  {
   "cell_type": "code",
   "execution_count": 42,
   "id": "a846b8f7",
   "metadata": {},
   "outputs": [
    {
     "data": {
      "image/png": "[encoded data removed]",
      "text/plain": [
       "<Figure size 432x288 with 1 Axes>"
      ]
     },
     "metadata": {
      "needs_background": "light"
     },
     "output_type": "display_data"
    }
   ],
   "source": [
    "plt.plot(boston_price_list,name_list);"
   ]
  },
  {
   "cell_type": "code",
   "execution_count": 43,
   "id": "39cfeb52",
   "metadata": {},
   "outputs": [
    {
     "data": {
      "image/png": "[encoded data removed]",
      "text/plain": [
       "<Figure size 432x288 with 1 Axes>"
      ]
     },
     "metadata": {
      "needs_background": "light"
     },
     "output_type": "display_data"
    }
   ],
   "source": [
    "plt.plot(boston_price_list,name_list);\n",
    "plt.xlabel(\"Price in USD\");"
   ]
  },
  {
   "cell_type": "markdown",
   "id": "1db61633",
   "metadata": {},
   "source": [
    "#### name list is alist of strings and python orders them from top to bottom\n",
    "by default pyplot connects the codes with the lines however in the example above it doesnt make sense since the names are categorical and not continuous\n",
    "### categorical\n",
    "means of transport\n",
    "icecream falovors\n",
    "yorghurt\n",
    "create markers incase its a line graph\n",
    "\n",
    "### numerical\n",
    "1,2,3,4......\n",
    "### Binary\n",
    "0/1s\n",
    "### Discrete Values\n"
   ]
  },
  {
   "cell_type": "code",
   "execution_count": 44,
   "id": "4a2ae682",
   "metadata": {},
   "outputs": [
    {
     "data": {
      "image/png": "[encoded data removed]",
      "text/plain": [
       "<Figure size 432x288 with 1 Axes>"
      ]
     },
     "metadata": {
      "needs_background": "light"
     },
     "output_type": "display_data"
    }
   ],
   "source": [
    "plt.plot(boston_price_list,name_list, marker=\"o\",linestyle=\"\");#separated the different categories\n",
    "\n",
    "plt.xlabel(\"price in USD\");\n"
   ]
  },
  {
   "cell_type": "code",
   "execution_count": 45,
   "id": "686d699a",
   "metadata": {},
   "outputs": [
    {
     "data": {
      "image/png": "[encoded data removed]",
      "text/plain": [
       "<Figure size 432x288 with 1 Axes>"
      ]
     },
     "metadata": {
      "needs_background": "light"
     },
     "output_type": "display_data"
    }
   ],
   "source": [
    "#ADDING MARKERS AND LINESTYLE\n",
    "plt.plot(boston_price_list,name_list, marker=\"o\",linestyle=\"\");#separated the different categories\n",
    "\n",
    "plt.plot(london_price_list,name_list, marker=\"s\",linestyle=\"\");\n",
    "\n",
    "plt.title(\"Food Prices In Boston And London\")\n",
    "\n",
    "plt.xlabel(\"price in USD\");\n"
   ]
  },
  {
   "cell_type": "code",
   "execution_count": 46,
   "id": "0ee5cf2a",
   "metadata": {},
   "outputs": [
    {
     "data": {
      "image/png": "[encoded data removed]",
      "text/plain": [
       "<Figure size 432x288 with 1 Axes>"
      ]
     },
     "metadata": {
      "needs_background": "light"
     },
     "output_type": "display_data"
    }
   ],
   "source": [
    "# ADDING COLORS \n",
    "plt.plot(boston_price_list,name_list, marker=\"o\",linestyle=\"\",color=\"C3\");#separated the different categories\n",
    "\n",
    "plt.plot(london_price_list,name_list, marker=\"s\",linestyle=\"\",color=\"C0\");\n",
    "\n",
    "plt.title(\"Food Prices In Boston And London\")\n",
    "\n",
    "plt.xlabel(\"price in USD\");"
   ]
  },
  {
   "cell_type": "code",
   "execution_count": 47,
   "id": "e78ca43f",
   "metadata": {},
   "outputs": [
    {
     "data": {
      "image/png": "[encoded data removed]",
      "text/plain": [
       "<Figure size 432x288 with 1 Axes>"
      ]
     },
     "metadata": {
      "needs_background": "light"
     },
     "output_type": "display_data"
    }
   ],
   "source": [
    "#HORIZONTALLY JOINING THE POINTS\n",
    "plt.plot(boston_price_list,name_list, marker=\"o\",linestyle=\"\",color=\"C3\");#separated the different categories\n",
    "\n",
    "plt.plot(london_price_list,name_list, marker=\"s\",linestyle=\"\",color=\"C0\");\n",
    "\n",
    "plt.title(\"Food Prices In Boston And London\")\n",
    "plt.hlines(name_list,boston_price_list,london_price_list)\n",
    "\n",
    "plt.xlabel(\"price in USD\");"
   ]
  },
  {
   "cell_type": "code",
   "execution_count": 48,
   "id": "761fe006",
   "metadata": {},
   "outputs": [
    {
     "data": {
      "image/png": "[encoded data removed]",
      "text/plain": [
       "<Figure size 432x288 with 1 Axes>"
      ]
     },
     "metadata": {
      "needs_background": "light"
     },
     "output_type": "display_data"
    }
   ],
   "source": [
    "#ADDING A LEGEND\n",
    "\n",
    "plt.plot(london_price_list,name_list, marker=\"s\",linestyle=\"\",color=\"C0\",label = \"London\");\n",
    "plt.plot(boston_price_list,name_list, marker=\"o\",linestyle=\"\",color=\"C3\", label = \"Boston\");#separated the different categories\n",
    "plt.title(\"Food Prices In Boston And London\")\n",
    "plt.hlines(name_list,boston_price_list,london_price_list)\n",
    "\n",
    "plt.xlabel(\"price in USD\");\n",
    "plt.legend();"
   ]
  },
  {
   "cell_type": "code",
   "execution_count": 49,
   "id": "a30b0ea4",
   "metadata": {},
   "outputs": [
    {
     "data": {
      "image/png": "[encoded data removed]",
      "text/plain": [
       "<Figure size 432x288 with 1 Axes>"
      ]
     },
     "metadata": {
      "needs_background": "light"
     },
     "output_type": "display_data"
    }
   ],
   "source": [
    "#REVERSING THE AXIS\n",
    "plt.plot(london_price_list,name_list, marker=\"s\",linestyle=\"\",color=\"C0\",label = \"London\");\n",
    "plt.plot(boston_price_list,name_list, marker=\"o\",linestyle=\"\",color=\"C3\", label = \"Boston\");#separated the different categories\n",
    "plt.title(\"Food Prices In Boston And London\")\n",
    "plt.hlines(name_list,boston_price_list,london_price_list)\n",
    "\n",
    "plt.xlabel(\"price in USD\");\n",
    "plt.legend();\n",
    "plt.gca().invert_xaxis()\n",
    "plt.gca().invert_yaxis()"
   ]
  },
  {
   "cell_type": "code",
   "execution_count": 50,
   "id": "c2766852",
   "metadata": {},
   "outputs": [],
   "source": [
    "import pandas as pd\n"
   ]
  },
  {
   "cell_type": "markdown",
   "id": "1c2d6d4d",
   "metadata": {},
   "source": [
    "# DATA FRAMES AND SERIES"
   ]
  },
  {
   "cell_type": "code",
   "execution_count": 51,
   "id": "88530026",
   "metadata": {},
   "outputs": [
    {
     "data": {
      "text/html": [
       "<div>\n",
       "<style scoped>\n",
       "    .dataframe tbody tr th:only-of-type {\n",
       "        vertical-align: middle;\n",
       "    }\n",
       "\n",
       "    .dataframe tbody tr th {\n",
       "        vertical-align: top;\n",
       "    }\n",
       "\n",
       "    .dataframe thead th {\n",
       "        text-align: right;\n",
       "    }\n",
       "</style>\n",
       "<table border=\"1\" class=\"dataframe\">\n",
       "  <thead>\n",
       "    <tr style=\"text-align: right;\">\n",
       "      <th></th>\n",
       "      <th>Country Code</th>\n",
       "      <th>TableName</th>\n",
       "      <th>IncomeGroup</th>\n",
       "      <th>PopDensity_2018</th>\n",
       "      <th>Confirmed Cases</th>\n",
       "      <th>Deaths</th>\n",
       "      <th>Mortality Rate</th>\n",
       "      <th>Population_2019</th>\n",
       "      <th>GDP_2019</th>\n",
       "      <th>GDP_per_cap_2019</th>\n",
       "      <th>Main Leader Gender</th>\n",
       "      <th>Any Leader Gender</th>\n",
       "      <th>Avg Temp</th>\n",
       "      <th>Normalized Cases</th>\n",
       "      <th>Normalized Deaths</th>\n",
       "    </tr>\n",
       "  </thead>\n",
       "  <tbody>\n",
       "    <tr>\n",
       "      <th>0</th>\n",
       "      <td>AFG</td>\n",
       "      <td>Afghanistan</td>\n",
       "      <td>Low income</td>\n",
       "      <td>56.937760</td>\n",
       "      <td>39192</td>\n",
       "      <td>1453</td>\n",
       "      <td>3.707389</td>\n",
       "      <td>38041754</td>\n",
       "      <td>1.910135e+10</td>\n",
       "      <td>2293.551684</td>\n",
       "      <td>M</td>\n",
       "      <td>M</td>\n",
       "      <td>12.60</td>\n",
       "      <td>0.001030</td>\n",
       "      <td>3.820000e-05</td>\n",
       "    </tr>\n",
       "    <tr>\n",
       "      <th>1</th>\n",
       "      <td>AGO</td>\n",
       "      <td>Angola</td>\n",
       "      <td>Lower middle income</td>\n",
       "      <td>24.713052</td>\n",
       "      <td>4672</td>\n",
       "      <td>171</td>\n",
       "      <td>3.660103</td>\n",
       "      <td>31825295</td>\n",
       "      <td>9.463542e+10</td>\n",
       "      <td>6929.678158</td>\n",
       "      <td>M</td>\n",
       "      <td>M</td>\n",
       "      <td>21.55</td>\n",
       "      <td>0.000147</td>\n",
       "      <td>5.370000e-06</td>\n",
       "    </tr>\n",
       "    <tr>\n",
       "      <th>2</th>\n",
       "      <td>ALB</td>\n",
       "      <td>Albania</td>\n",
       "      <td>Upper middle income</td>\n",
       "      <td>104.612263</td>\n",
       "      <td>13153</td>\n",
       "      <td>375</td>\n",
       "      <td>2.851061</td>\n",
       "      <td>2854191</td>\n",
       "      <td>1.527808e+10</td>\n",
       "      <td>14495.078510</td>\n",
       "      <td>M</td>\n",
       "      <td>M</td>\n",
       "      <td>11.40</td>\n",
       "      <td>0.004608</td>\n",
       "      <td>1.313860e-04</td>\n",
       "    </tr>\n",
       "    <tr>\n",
       "      <th>3</th>\n",
       "      <td>AND</td>\n",
       "      <td>Andorra</td>\n",
       "      <td>High income</td>\n",
       "      <td>163.842553</td>\n",
       "      <td>1836</td>\n",
       "      <td>53</td>\n",
       "      <td>2.886710</td>\n",
       "      <td>77142</td>\n",
       "      <td>3.154058e+09</td>\n",
       "      <td>NaN</td>\n",
       "      <td>M</td>\n",
       "      <td>M</td>\n",
       "      <td>7.60</td>\n",
       "      <td>0.023800</td>\n",
       "      <td>6.870450e-04</td>\n",
       "    </tr>\n",
       "    <tr>\n",
       "      <th>4</th>\n",
       "      <td>ARE</td>\n",
       "      <td>United Arab Emirates</td>\n",
       "      <td>High income</td>\n",
       "      <td>135.609110</td>\n",
       "      <td>90618</td>\n",
       "      <td>411</td>\n",
       "      <td>0.453552</td>\n",
       "      <td>9770529</td>\n",
       "      <td>4.211420e+11</td>\n",
       "      <td>69900.877850</td>\n",
       "      <td>M</td>\n",
       "      <td>M</td>\n",
       "      <td>27.00</td>\n",
       "      <td>0.009275</td>\n",
       "      <td>4.210000e-05</td>\n",
       "    </tr>\n",
       "    <tr>\n",
       "      <th>...</th>\n",
       "      <td>...</td>\n",
       "      <td>...</td>\n",
       "      <td>...</td>\n",
       "      <td>...</td>\n",
       "      <td>...</td>\n",
       "      <td>...</td>\n",
       "      <td>...</td>\n",
       "      <td>...</td>\n",
       "      <td>...</td>\n",
       "      <td>...</td>\n",
       "      <td>...</td>\n",
       "      <td>...</td>\n",
       "      <td>...</td>\n",
       "      <td>...</td>\n",
       "      <td>...</td>\n",
       "    </tr>\n",
       "    <tr>\n",
       "      <th>177</th>\n",
       "      <td>VNM</td>\n",
       "      <td>Vietnam</td>\n",
       "      <td>Lower middle income</td>\n",
       "      <td>308.125246</td>\n",
       "      <td>1069</td>\n",
       "      <td>35</td>\n",
       "      <td>3.274088</td>\n",
       "      <td>96462106</td>\n",
       "      <td>2.619210e+11</td>\n",
       "      <td>8374.444328</td>\n",
       "      <td>M</td>\n",
       "      <td>M</td>\n",
       "      <td>24.45</td>\n",
       "      <td>0.000011</td>\n",
       "      <td>3.630000e-07</td>\n",
       "    </tr>\n",
       "    <tr>\n",
       "      <th>178</th>\n",
       "      <td>YEM</td>\n",
       "      <td>Yemen, Rep.</td>\n",
       "      <td>Low income</td>\n",
       "      <td>53.977853</td>\n",
       "      <td>2030</td>\n",
       "      <td>587</td>\n",
       "      <td>28.916256</td>\n",
       "      <td>29161922</td>\n",
       "      <td>NaN</td>\n",
       "      <td>NaN</td>\n",
       "      <td>M</td>\n",
       "      <td>M</td>\n",
       "      <td>23.85</td>\n",
       "      <td>0.000070</td>\n",
       "      <td>2.010000e-05</td>\n",
       "    </tr>\n",
       "    <tr>\n",
       "      <th>179</th>\n",
       "      <td>ZAF</td>\n",
       "      <td>South Africa</td>\n",
       "      <td>Upper middle income</td>\n",
       "      <td>47.630120</td>\n",
       "      <td>669498</td>\n",
       "      <td>16376</td>\n",
       "      <td>2.446012</td>\n",
       "      <td>58558270</td>\n",
       "      <td>3.514320e+11</td>\n",
       "      <td>12999.120260</td>\n",
       "      <td>M</td>\n",
       "      <td>M</td>\n",
       "      <td>17.75</td>\n",
       "      <td>0.011433</td>\n",
       "      <td>2.796530e-04</td>\n",
       "    </tr>\n",
       "    <tr>\n",
       "      <th>180</th>\n",
       "      <td>ZMB</td>\n",
       "      <td>Zambia</td>\n",
       "      <td>Lower middle income</td>\n",
       "      <td>23.341479</td>\n",
       "      <td>14612</td>\n",
       "      <td>332</td>\n",
       "      <td>2.272105</td>\n",
       "      <td>17861030</td>\n",
       "      <td>2.306472e+10</td>\n",
       "      <td>3623.699395</td>\n",
       "      <td>M</td>\n",
       "      <td>M</td>\n",
       "      <td>21.40</td>\n",
       "      <td>0.000818</td>\n",
       "      <td>1.860000e-05</td>\n",
       "    </tr>\n",
       "    <tr>\n",
       "      <th>181</th>\n",
       "      <td>ZWE</td>\n",
       "      <td>Zimbabwe</td>\n",
       "      <td>Lower middle income</td>\n",
       "      <td>37.324591</td>\n",
       "      <td>7803</td>\n",
       "      <td>227</td>\n",
       "      <td>2.909138</td>\n",
       "      <td>14645468</td>\n",
       "      <td>2.144076e+10</td>\n",
       "      <td>2953.484113</td>\n",
       "      <td>M</td>\n",
       "      <td>M</td>\n",
       "      <td>21.00</td>\n",
       "      <td>0.000533</td>\n",
       "      <td>1.550000e-05</td>\n",
       "    </tr>\n",
       "  </tbody>\n",
       "</table>\n",
       "<p>182 rows × 15 columns</p>\n",
       "</div>"
      ],
      "text/plain": [
       "    Country Code             TableName          IncomeGroup  PopDensity_2018  \\\n",
       "0            AFG           Afghanistan           Low income        56.937760   \n",
       "1            AGO                Angola  Lower middle income        24.713052   \n",
       "2            ALB               Albania  Upper middle income       104.612263   \n",
       "3            AND               Andorra          High income       163.842553   \n",
       "4            ARE  United Arab Emirates          High income       135.609110   \n",
       "..           ...                   ...                  ...              ...   \n",
       "177          VNM               Vietnam  Lower middle income       308.125246   \n",
       "178          YEM           Yemen, Rep.           Low income        53.977853   \n",
       "179          ZAF          South Africa  Upper middle income        47.630120   \n",
       "180          ZMB                Zambia  Lower middle income        23.341479   \n",
       "181          ZWE              Zimbabwe  Lower middle income        37.324591   \n",
       "\n",
       "     Confirmed Cases  Deaths  Mortality Rate  Population_2019      GDP_2019  \\\n",
       "0              39192    1453        3.707389         38041754  1.910135e+10   \n",
       "1               4672     171        3.660103         31825295  9.463542e+10   \n",
       "2              13153     375        2.851061          2854191  1.527808e+10   \n",
       "3               1836      53        2.886710            77142  3.154058e+09   \n",
       "4              90618     411        0.453552          9770529  4.211420e+11   \n",
       "..               ...     ...             ...              ...           ...   \n",
       "177             1069      35        3.274088         96462106  2.619210e+11   \n",
       "178             2030     587       28.916256         29161922           NaN   \n",
       "179           669498   16376        2.446012         58558270  3.514320e+11   \n",
       "180            14612     332        2.272105         17861030  2.306472e+10   \n",
       "181             7803     227        2.909138         14645468  2.144076e+10   \n",
       "\n",
       "     GDP_per_cap_2019 Main Leader Gender Any Leader Gender  Avg Temp  \\\n",
       "0         2293.551684                  M                 M     12.60   \n",
       "1         6929.678158                  M                 M     21.55   \n",
       "2        14495.078510                  M                 M     11.40   \n",
       "3                 NaN                  M                 M      7.60   \n",
       "4        69900.877850                  M                 M     27.00   \n",
       "..                ...                ...               ...       ...   \n",
       "177       8374.444328                  M                 M     24.45   \n",
       "178               NaN                  M                 M     23.85   \n",
       "179      12999.120260                  M                 M     17.75   \n",
       "180       3623.699395                  M                 M     21.40   \n",
       "181       2953.484113                  M                 M     21.00   \n",
       "\n",
       "     Normalized Cases  Normalized Deaths  \n",
       "0            0.001030       3.820000e-05  \n",
       "1            0.000147       5.370000e-06  \n",
       "2            0.004608       1.313860e-04  \n",
       "3            0.023800       6.870450e-04  \n",
       "4            0.009275       4.210000e-05  \n",
       "..                ...                ...  \n",
       "177          0.000011       3.630000e-07  \n",
       "178          0.000070       2.010000e-05  \n",
       "179          0.011433       2.796530e-04  \n",
       "180          0.000818       1.860000e-05  \n",
       "181          0.000533       1.550000e-05  \n",
       "\n",
       "[182 rows x 15 columns]"
      ]
     },
     "execution_count": 51,
     "metadata": {},
     "output_type": "execute_result"
    }
   ],
   "source": [
    "df = pd.read_csv(\"data/unified-data-per-country.csv\")\n",
    "df"
   ]
  },
  {
   "cell_type": "code",
   "execution_count": 52,
   "id": "bf615c3d",
   "metadata": {},
   "outputs": [
    {
     "data": {
      "text/html": [
       "<div>\n",
       "<style scoped>\n",
       "    .dataframe tbody tr th:only-of-type {\n",
       "        vertical-align: middle;\n",
       "    }\n",
       "\n",
       "    .dataframe tbody tr th {\n",
       "        vertical-align: top;\n",
       "    }\n",
       "\n",
       "    .dataframe thead th {\n",
       "        text-align: right;\n",
       "    }\n",
       "</style>\n",
       "<table border=\"1\" class=\"dataframe\">\n",
       "  <thead>\n",
       "    <tr style=\"text-align: right;\">\n",
       "      <th></th>\n",
       "      <th>Country Code</th>\n",
       "      <th>TableName</th>\n",
       "      <th>IncomeGroup</th>\n",
       "      <th>PopDensity_2018</th>\n",
       "      <th>Confirmed Cases</th>\n",
       "      <th>Deaths</th>\n",
       "      <th>Mortality Rate</th>\n",
       "      <th>Population_2019</th>\n",
       "      <th>GDP_2019</th>\n",
       "      <th>GDP_per_cap_2019</th>\n",
       "      <th>Main Leader Gender</th>\n",
       "      <th>Any Leader Gender</th>\n",
       "      <th>Avg Temp</th>\n",
       "      <th>Normalized Cases</th>\n",
       "      <th>Normalized Deaths</th>\n",
       "    </tr>\n",
       "  </thead>\n",
       "  <tbody>\n",
       "    <tr>\n",
       "      <th>0</th>\n",
       "      <td>AFG</td>\n",
       "      <td>Afghanistan</td>\n",
       "      <td>Low income</td>\n",
       "      <td>56.937760</td>\n",
       "      <td>39192</td>\n",
       "      <td>1453</td>\n",
       "      <td>3.707389</td>\n",
       "      <td>38041754</td>\n",
       "      <td>1.910135e+10</td>\n",
       "      <td>2293.551684</td>\n",
       "      <td>M</td>\n",
       "      <td>M</td>\n",
       "      <td>12.60</td>\n",
       "      <td>0.001030</td>\n",
       "      <td>0.000038</td>\n",
       "    </tr>\n",
       "    <tr>\n",
       "      <th>1</th>\n",
       "      <td>AGO</td>\n",
       "      <td>Angola</td>\n",
       "      <td>Lower middle income</td>\n",
       "      <td>24.713052</td>\n",
       "      <td>4672</td>\n",
       "      <td>171</td>\n",
       "      <td>3.660103</td>\n",
       "      <td>31825295</td>\n",
       "      <td>9.463542e+10</td>\n",
       "      <td>6929.678158</td>\n",
       "      <td>M</td>\n",
       "      <td>M</td>\n",
       "      <td>21.55</td>\n",
       "      <td>0.000147</td>\n",
       "      <td>0.000005</td>\n",
       "    </tr>\n",
       "    <tr>\n",
       "      <th>2</th>\n",
       "      <td>ALB</td>\n",
       "      <td>Albania</td>\n",
       "      <td>Upper middle income</td>\n",
       "      <td>104.612263</td>\n",
       "      <td>13153</td>\n",
       "      <td>375</td>\n",
       "      <td>2.851061</td>\n",
       "      <td>2854191</td>\n",
       "      <td>1.527808e+10</td>\n",
       "      <td>14495.078510</td>\n",
       "      <td>M</td>\n",
       "      <td>M</td>\n",
       "      <td>11.40</td>\n",
       "      <td>0.004608</td>\n",
       "      <td>0.000131</td>\n",
       "    </tr>\n",
       "    <tr>\n",
       "      <th>3</th>\n",
       "      <td>AND</td>\n",
       "      <td>Andorra</td>\n",
       "      <td>High income</td>\n",
       "      <td>163.842553</td>\n",
       "      <td>1836</td>\n",
       "      <td>53</td>\n",
       "      <td>2.886710</td>\n",
       "      <td>77142</td>\n",
       "      <td>3.154058e+09</td>\n",
       "      <td>NaN</td>\n",
       "      <td>M</td>\n",
       "      <td>M</td>\n",
       "      <td>7.60</td>\n",
       "      <td>0.023800</td>\n",
       "      <td>0.000687</td>\n",
       "    </tr>\n",
       "    <tr>\n",
       "      <th>4</th>\n",
       "      <td>ARE</td>\n",
       "      <td>United Arab Emirates</td>\n",
       "      <td>High income</td>\n",
       "      <td>135.609110</td>\n",
       "      <td>90618</td>\n",
       "      <td>411</td>\n",
       "      <td>0.453552</td>\n",
       "      <td>9770529</td>\n",
       "      <td>4.211420e+11</td>\n",
       "      <td>69900.877850</td>\n",
       "      <td>M</td>\n",
       "      <td>M</td>\n",
       "      <td>27.00</td>\n",
       "      <td>0.009275</td>\n",
       "      <td>0.000042</td>\n",
       "    </tr>\n",
       "  </tbody>\n",
       "</table>\n",
       "</div>"
      ],
      "text/plain": [
       "  Country Code             TableName          IncomeGroup  PopDensity_2018  \\\n",
       "0          AFG           Afghanistan           Low income        56.937760   \n",
       "1          AGO                Angola  Lower middle income        24.713052   \n",
       "2          ALB               Albania  Upper middle income       104.612263   \n",
       "3          AND               Andorra          High income       163.842553   \n",
       "4          ARE  United Arab Emirates          High income       135.609110   \n",
       "\n",
       "   Confirmed Cases  Deaths  Mortality Rate  Population_2019      GDP_2019  \\\n",
       "0            39192    1453        3.707389         38041754  1.910135e+10   \n",
       "1             4672     171        3.660103         31825295  9.463542e+10   \n",
       "2            13153     375        2.851061          2854191  1.527808e+10   \n",
       "3             1836      53        2.886710            77142  3.154058e+09   \n",
       "4            90618     411        0.453552          9770529  4.211420e+11   \n",
       "\n",
       "   GDP_per_cap_2019 Main Leader Gender Any Leader Gender  Avg Temp  \\\n",
       "0       2293.551684                  M                 M     12.60   \n",
       "1       6929.678158                  M                 M     21.55   \n",
       "2      14495.078510                  M                 M     11.40   \n",
       "3               NaN                  M                 M      7.60   \n",
       "4      69900.877850                  M                 M     27.00   \n",
       "\n",
       "   Normalized Cases  Normalized Deaths  \n",
       "0          0.001030           0.000038  \n",
       "1          0.000147           0.000005  \n",
       "2          0.004608           0.000131  \n",
       "3          0.023800           0.000687  \n",
       "4          0.009275           0.000042  "
      ]
     },
     "execution_count": 52,
     "metadata": {},
     "output_type": "execute_result"
    }
   ],
   "source": [
    "df.head()"
   ]
  },
  {
   "cell_type": "code",
   "execution_count": 53,
   "id": "0a3ac690",
   "metadata": {},
   "outputs": [
    {
     "data": {
      "text/html": [
       "<div>\n",
       "<style scoped>\n",
       "    .dataframe tbody tr th:only-of-type {\n",
       "        vertical-align: middle;\n",
       "    }\n",
       "\n",
       "    .dataframe tbody tr th {\n",
       "        vertical-align: top;\n",
       "    }\n",
       "\n",
       "    .dataframe thead th {\n",
       "        text-align: right;\n",
       "    }\n",
       "</style>\n",
       "<table border=\"1\" class=\"dataframe\">\n",
       "  <thead>\n",
       "    <tr style=\"text-align: right;\">\n",
       "      <th></th>\n",
       "      <th>Country Code</th>\n",
       "      <th>TableName</th>\n",
       "      <th>IncomeGroup</th>\n",
       "      <th>PopDensity_2018</th>\n",
       "      <th>Confirmed Cases</th>\n",
       "      <th>Deaths</th>\n",
       "      <th>Mortality Rate</th>\n",
       "      <th>Population_2019</th>\n",
       "      <th>GDP_2019</th>\n",
       "      <th>GDP_per_cap_2019</th>\n",
       "      <th>Main Leader Gender</th>\n",
       "      <th>Any Leader Gender</th>\n",
       "      <th>Avg Temp</th>\n",
       "      <th>Normalized Cases</th>\n",
       "      <th>Normalized Deaths</th>\n",
       "    </tr>\n",
       "  </thead>\n",
       "  <tbody>\n",
       "    <tr>\n",
       "      <th>177</th>\n",
       "      <td>VNM</td>\n",
       "      <td>Vietnam</td>\n",
       "      <td>Lower middle income</td>\n",
       "      <td>308.125246</td>\n",
       "      <td>1069</td>\n",
       "      <td>35</td>\n",
       "      <td>3.274088</td>\n",
       "      <td>96462106</td>\n",
       "      <td>2.619210e+11</td>\n",
       "      <td>8374.444328</td>\n",
       "      <td>M</td>\n",
       "      <td>M</td>\n",
       "      <td>24.45</td>\n",
       "      <td>0.000011</td>\n",
       "      <td>3.630000e-07</td>\n",
       "    </tr>\n",
       "    <tr>\n",
       "      <th>178</th>\n",
       "      <td>YEM</td>\n",
       "      <td>Yemen, Rep.</td>\n",
       "      <td>Low income</td>\n",
       "      <td>53.977853</td>\n",
       "      <td>2030</td>\n",
       "      <td>587</td>\n",
       "      <td>28.916256</td>\n",
       "      <td>29161922</td>\n",
       "      <td>NaN</td>\n",
       "      <td>NaN</td>\n",
       "      <td>M</td>\n",
       "      <td>M</td>\n",
       "      <td>23.85</td>\n",
       "      <td>0.000070</td>\n",
       "      <td>2.010000e-05</td>\n",
       "    </tr>\n",
       "    <tr>\n",
       "      <th>179</th>\n",
       "      <td>ZAF</td>\n",
       "      <td>South Africa</td>\n",
       "      <td>Upper middle income</td>\n",
       "      <td>47.630120</td>\n",
       "      <td>669498</td>\n",
       "      <td>16376</td>\n",
       "      <td>2.446012</td>\n",
       "      <td>58558270</td>\n",
       "      <td>3.514320e+11</td>\n",
       "      <td>12999.120260</td>\n",
       "      <td>M</td>\n",
       "      <td>M</td>\n",
       "      <td>17.75</td>\n",
       "      <td>0.011433</td>\n",
       "      <td>2.796530e-04</td>\n",
       "    </tr>\n",
       "    <tr>\n",
       "      <th>180</th>\n",
       "      <td>ZMB</td>\n",
       "      <td>Zambia</td>\n",
       "      <td>Lower middle income</td>\n",
       "      <td>23.341479</td>\n",
       "      <td>14612</td>\n",
       "      <td>332</td>\n",
       "      <td>2.272105</td>\n",
       "      <td>17861030</td>\n",
       "      <td>2.306472e+10</td>\n",
       "      <td>3623.699395</td>\n",
       "      <td>M</td>\n",
       "      <td>M</td>\n",
       "      <td>21.40</td>\n",
       "      <td>0.000818</td>\n",
       "      <td>1.860000e-05</td>\n",
       "    </tr>\n",
       "    <tr>\n",
       "      <th>181</th>\n",
       "      <td>ZWE</td>\n",
       "      <td>Zimbabwe</td>\n",
       "      <td>Lower middle income</td>\n",
       "      <td>37.324591</td>\n",
       "      <td>7803</td>\n",
       "      <td>227</td>\n",
       "      <td>2.909138</td>\n",
       "      <td>14645468</td>\n",
       "      <td>2.144076e+10</td>\n",
       "      <td>2953.484113</td>\n",
       "      <td>M</td>\n",
       "      <td>M</td>\n",
       "      <td>21.00</td>\n",
       "      <td>0.000533</td>\n",
       "      <td>1.550000e-05</td>\n",
       "    </tr>\n",
       "  </tbody>\n",
       "</table>\n",
       "</div>"
      ],
      "text/plain": [
       "    Country Code     TableName          IncomeGroup  PopDensity_2018  \\\n",
       "177          VNM       Vietnam  Lower middle income       308.125246   \n",
       "178          YEM   Yemen, Rep.           Low income        53.977853   \n",
       "179          ZAF  South Africa  Upper middle income        47.630120   \n",
       "180          ZMB        Zambia  Lower middle income        23.341479   \n",
       "181          ZWE      Zimbabwe  Lower middle income        37.324591   \n",
       "\n",
       "     Confirmed Cases  Deaths  Mortality Rate  Population_2019      GDP_2019  \\\n",
       "177             1069      35        3.274088         96462106  2.619210e+11   \n",
       "178             2030     587       28.916256         29161922           NaN   \n",
       "179           669498   16376        2.446012         58558270  3.514320e+11   \n",
       "180            14612     332        2.272105         17861030  2.306472e+10   \n",
       "181             7803     227        2.909138         14645468  2.144076e+10   \n",
       "\n",
       "     GDP_per_cap_2019 Main Leader Gender Any Leader Gender  Avg Temp  \\\n",
       "177       8374.444328                  M                 M     24.45   \n",
       "178               NaN                  M                 M     23.85   \n",
       "179      12999.120260                  M                 M     17.75   \n",
       "180       3623.699395                  M                 M     21.40   \n",
       "181       2953.484113                  M                 M     21.00   \n",
       "\n",
       "     Normalized Cases  Normalized Deaths  \n",
       "177          0.000011       3.630000e-07  \n",
       "178          0.000070       2.010000e-05  \n",
       "179          0.011433       2.796530e-04  \n",
       "180          0.000818       1.860000e-05  \n",
       "181          0.000533       1.550000e-05  "
      ]
     },
     "execution_count": 53,
     "metadata": {},
     "output_type": "execute_result"
    }
   ],
   "source": [
    "df.tail()"
   ]
  },
  {
   "cell_type": "code",
   "execution_count": 54,
   "id": "3a0318cf",
   "metadata": {},
   "outputs": [
    {
     "data": {
      "text/plain": [
       "Index(['Country Code', 'TableName', 'IncomeGroup', 'PopDensity_2018',\n",
       "       'Confirmed Cases', 'Deaths', 'Mortality Rate', 'Population_2019',\n",
       "       'GDP_2019', 'GDP_per_cap_2019', 'Main Leader Gender',\n",
       "       'Any Leader Gender', 'Avg Temp', 'Normalized Cases',\n",
       "       'Normalized Deaths'],\n",
       "      dtype='object')"
      ]
     },
     "execution_count": 54,
     "metadata": {},
     "output_type": "execute_result"
    }
   ],
   "source": [
    "df.columns"
   ]
  },
  {
   "cell_type": "code",
   "execution_count": 55,
   "id": "6ecf7b47",
   "metadata": {},
   "outputs": [
    {
     "data": {
      "text/html": [
       "<div>\n",
       "<style scoped>\n",
       "    .dataframe tbody tr th:only-of-type {\n",
       "        vertical-align: middle;\n",
       "    }\n",
       "\n",
       "    .dataframe tbody tr th {\n",
       "        vertical-align: top;\n",
       "    }\n",
       "\n",
       "    .dataframe thead th {\n",
       "        text-align: right;\n",
       "    }\n",
       "</style>\n",
       "<table border=\"1\" class=\"dataframe\">\n",
       "  <thead>\n",
       "    <tr style=\"text-align: right;\">\n",
       "      <th></th>\n",
       "      <th>PopDensity_2018</th>\n",
       "      <th>Confirmed Cases</th>\n",
       "      <th>Deaths</th>\n",
       "      <th>Mortality Rate</th>\n",
       "      <th>Population_2019</th>\n",
       "      <th>GDP_2019</th>\n",
       "      <th>GDP_per_cap_2019</th>\n",
       "      <th>Avg Temp</th>\n",
       "      <th>Normalized Cases</th>\n",
       "      <th>Normalized Deaths</th>\n",
       "    </tr>\n",
       "  </thead>\n",
       "  <tbody>\n",
       "    <tr>\n",
       "      <th>count</th>\n",
       "      <td>178.000000</td>\n",
       "      <td>1.820000e+02</td>\n",
       "      <td>182.000000</td>\n",
       "      <td>182.000000</td>\n",
       "      <td>1.820000e+02</td>\n",
       "      <td>1.690000e+02</td>\n",
       "      <td>168.000000</td>\n",
       "      <td>179.000000</td>\n",
       "      <td>182.000000</td>\n",
       "      <td>182.000000</td>\n",
       "    </tr>\n",
       "    <tr>\n",
       "      <th>mean</th>\n",
       "      <td>209.578681</td>\n",
       "      <td>1.798681e+05</td>\n",
       "      <td>5453.186813</td>\n",
       "      <td>2.552053</td>\n",
       "      <td>4.176762e+07</td>\n",
       "      <td>5.037484e+11</td>\n",
       "      <td>22175.663497</td>\n",
       "      <td>18.511117</td>\n",
       "      <td>0.005142</td>\n",
       "      <td>0.000126</td>\n",
       "    </tr>\n",
       "    <tr>\n",
       "      <th>std</th>\n",
       "      <td>642.276577</td>\n",
       "      <td>7.728216e+05</td>\n",
       "      <td>21079.533796</td>\n",
       "      <td>2.807438</td>\n",
       "      <td>1.494774e+08</td>\n",
       "      <td>2.060972e+12</td>\n",
       "      <td>22028.464791</td>\n",
       "      <td>8.179984</td>\n",
       "      <td>0.007289</td>\n",
       "      <td>0.000208</td>\n",
       "    </tr>\n",
       "    <tr>\n",
       "      <th>min</th>\n",
       "      <td>2.040609</td>\n",
       "      <td>1.900000e+01</td>\n",
       "      <td>0.000000</td>\n",
       "      <td>0.000000</td>\n",
       "      <td>3.386000e+04</td>\n",
       "      <td>4.290166e+08</td>\n",
       "      <td>782.816589</td>\n",
       "      <td>-5.100000</td>\n",
       "      <td>0.000003</td>\n",
       "      <td>0.000000</td>\n",
       "    </tr>\n",
       "    <tr>\n",
       "      <th>25%</th>\n",
       "      <td>37.143092</td>\n",
       "      <td>2.930250e+03</td>\n",
       "      <td>50.000000</td>\n",
       "      <td>1.063698</td>\n",
       "      <td>2.689939e+06</td>\n",
       "      <td>1.282700e+10</td>\n",
       "      <td>5398.131919</td>\n",
       "      <td>10.625000</td>\n",
       "      <td>0.000540</td>\n",
       "      <td>0.000008</td>\n",
       "    </tr>\n",
       "    <tr>\n",
       "      <th>50%</th>\n",
       "      <td>83.949492</td>\n",
       "      <td>1.337950e+04</td>\n",
       "      <td>228.000000</td>\n",
       "      <td>2.004451</td>\n",
       "      <td>9.758033e+06</td>\n",
       "      <td>4.731962e+10</td>\n",
       "      <td>14747.947505</td>\n",
       "      <td>21.850000</td>\n",
       "      <td>0.002313</td>\n",
       "      <td>0.000038</td>\n",
       "    </tr>\n",
       "    <tr>\n",
       "      <th>75%</th>\n",
       "      <td>204.487818</td>\n",
       "      <td>7.642675e+04</td>\n",
       "      <td>1450.000000</td>\n",
       "      <td>3.071983</td>\n",
       "      <td>3.040490e+07</td>\n",
       "      <td>2.619210e+11</td>\n",
       "      <td>32413.601215</td>\n",
       "      <td>25.325000</td>\n",
       "      <td>0.006527</td>\n",
       "      <td>0.000135</td>\n",
       "    </tr>\n",
       "    <tr>\n",
       "      <th>max</th>\n",
       "      <td>7952.998418</td>\n",
       "      <td>7.078039e+06</td>\n",
       "      <td>204486.000000</td>\n",
       "      <td>28.916256</td>\n",
       "      <td>1.397715e+09</td>\n",
       "      <td>2.137440e+13</td>\n",
       "      <td>121292.739300</td>\n",
       "      <td>28.290000</td>\n",
       "      <td>0.044084</td>\n",
       "      <td>0.001240</td>\n",
       "    </tr>\n",
       "  </tbody>\n",
       "</table>\n",
       "</div>"
      ],
      "text/plain": [
       "       PopDensity_2018  Confirmed Cases         Deaths  Mortality Rate  \\\n",
       "count       178.000000     1.820000e+02     182.000000      182.000000   \n",
       "mean        209.578681     1.798681e+05    5453.186813        2.552053   \n",
       "std         642.276577     7.728216e+05   21079.533796        2.807438   \n",
       "min           2.040609     1.900000e+01       0.000000        0.000000   \n",
       "25%          37.143092     2.930250e+03      50.000000        1.063698   \n",
       "50%          83.949492     1.337950e+04     228.000000        2.004451   \n",
       "75%         204.487818     7.642675e+04    1450.000000        3.071983   \n",
       "max        7952.998418     7.078039e+06  204486.000000       28.916256   \n",
       "\n",
       "       Population_2019      GDP_2019  GDP_per_cap_2019    Avg Temp  \\\n",
       "count     1.820000e+02  1.690000e+02        168.000000  179.000000   \n",
       "mean      4.176762e+07  5.037484e+11      22175.663497   18.511117   \n",
       "std       1.494774e+08  2.060972e+12      22028.464791    8.179984   \n",
       "min       3.386000e+04  4.290166e+08        782.816589   -5.100000   \n",
       "25%       2.689939e+06  1.282700e+10       5398.131919   10.625000   \n",
       "50%       9.758033e+06  4.731962e+10      14747.947505   21.850000   \n",
       "75%       3.040490e+07  2.619210e+11      32413.601215   25.325000   \n",
       "max       1.397715e+09  2.137440e+13     121292.739300   28.290000   \n",
       "\n",
       "       Normalized Cases  Normalized Deaths  \n",
       "count        182.000000         182.000000  \n",
       "mean           0.005142           0.000126  \n",
       "std            0.007289           0.000208  \n",
       "min            0.000003           0.000000  \n",
       "25%            0.000540           0.000008  \n",
       "50%            0.002313           0.000038  \n",
       "75%            0.006527           0.000135  \n",
       "max            0.044084           0.001240  "
      ]
     },
     "execution_count": 55,
     "metadata": {},
     "output_type": "execute_result"
    }
   ],
   "source": [
    "df.describe()"
   ]
  },
  {
   "cell_type": "code",
   "execution_count": 56,
   "id": "6621c887",
   "metadata": {},
   "outputs": [
    {
     "data": {
      "text/plain": [
       "Country Code  TableName    IncomeGroup          PopDensity_2018  Confirmed Cases  Deaths  Mortality Rate  Population_2019  GDP_2019      GDP_per_cap_2019  Main Leader Gender  Any Leader Gender  Avg Temp  Normalized Cases  Normalized Deaths\n",
       "AFG           Afghanistan  Low income           56.937760        39192            1453    3.707389        38041754         1.910135e+10  2293.551684       M                   M                   12.60    0.001030          0.000038             1\n",
       "MLT           Malta        High income          1514.468750      2958             31      1.048005        502653           1.478616e+10  45651.575000      M                   M                   19.20    0.005885          0.000062             1\n",
       "MNE           Montenegro   Upper middle income  46.262230        10197            158     1.549475        622137           5.494737e+09  22988.680200      M                   M                   10.55    0.016390          0.000254             1\n",
       "MNG           Mongolia     Lower middle income  2.040609         313              0       0.000000        3225167          1.385285e+10  12819.948580      M                   M                  -0.70     0.000097          0.000000             1\n",
       "MOZ           Mozambique   Low income           37.508535        7757             54      0.696145        30366036         1.493416e+10  1333.518167       M                   M                   23.80    0.000255          0.000002             1\n",
       "                                                                                                                                                                                                                                                  ..\n",
       "GEO           Georgia      Upper middle income  65.197330        4960             28      0.564516        3720382          1.774320e+10  15636.553760      M                   F                   5.80     0.001333          0.000008             1\n",
       "GHA           Ghana        Lower middle income  130.821429       46222            299     0.646878        30417856         6.698363e+10  5636.953910       M                   M                   27.20    0.001520          0.000010             1\n",
       "GIN           Guinea       Low income           50.522212        10512            65      0.618341        12771246         1.359028e+10  2670.308947       M                   M                   25.70    0.000823          0.000005             1\n",
       "GMB           Gambia, The  Low income           225.306522       3555             110     3.094233        2347706          1.763819e+09  2298.378173       M                   M                   27.50    0.001514          0.000047             1\n",
       "ZWE           Zimbabwe     Lower middle income  37.324591        7803             227     2.909138        14645468         2.144076e+10  2953.484113       M                   M                   21.00    0.000533          0.000016             1\n",
       "Length: 166, dtype: int64"
      ]
     },
     "execution_count": 56,
     "metadata": {},
     "output_type": "execute_result"
    }
   ],
   "source": [
    "df.value_counts()"
   ]
  },
  {
   "cell_type": "code",
   "execution_count": 57,
   "id": "18cea8cd",
   "metadata": {},
   "outputs": [
    {
     "data": {
      "image/png": "[encoded data removed]",
      "text/plain": [
       "<Figure size 432x288 with 1 Axes>"
      ]
     },
     "metadata": {
      "needs_background": "light"
     },
     "output_type": "display_data"
    }
   ],
   "source": [
    "df.Deaths.hist(bins = 30);"
   ]
  },
  {
   "cell_type": "code",
   "execution_count": 58,
   "id": "d1cf8dfb",
   "metadata": {},
   "outputs": [
    {
     "data": {
      "image/png": "[encoded data removed]",
      "text/plain": [
       "<Figure size 432x288 with 1 Axes>"
      ]
     },
     "metadata": {
      "needs_background": "light"
     },
     "output_type": "display_data"
    }
   ],
   "source": [
    "df.GDP_2019.hist(bins=30);"
   ]
  },
  {
   "cell_type": "code",
   "execution_count": 59,
   "id": "cd8b8b76",
   "metadata": {},
   "outputs": [
    {
     "data": {
      "image/png": "[encoded data removed]",
      "text/plain": [
       "<Figure size 432x288 with 1 Axes>"
      ]
     },
     "metadata": {
      "needs_background": "light"
     },
     "output_type": "display_data"
    }
   ],
   "source": [
    "df.GDP_2019.hist();"
   ]
  },
  {
   "cell_type": "code",
   "execution_count": 60,
   "id": "667ac8f2",
   "metadata": {},
   "outputs": [
    {
     "data": {
      "image/png": "[encoded data removed]",
      "text/plain": [
       "<Figure size 432x288 with 1 Axes>"
      ]
     },
     "metadata": {
      "needs_background": "light"
     },
     "output_type": "display_data"
    }
   ],
   "source": [
    "df.Population_2019.hist(bins=30);"
   ]
  },
  {
   "cell_type": "code",
   "execution_count": 61,
   "id": "1fdd2c85",
   "metadata": {},
   "outputs": [
    {
     "data": {
      "image/png": "[encoded data removed]",
      "text/plain": [
       "<Figure size 432x288 with 1 Axes>"
      ]
     },
     "metadata": {
      "needs_background": "light"
     },
     "output_type": "display_data"
    }
   ],
   "source": [
    "df.GDP_per_cap_2019.hist(bins=10);"
   ]
  },
  {
   "cell_type": "code",
   "execution_count": 62,
   "id": "f2f5b1b5",
   "metadata": {},
   "outputs": [
    {
     "data": {
      "image/png": "[encoded data removed]",
      "text/plain": [
       "<Figure size 432x288 with 1 Axes>"
      ]
     },
     "metadata": {
      "needs_background": "light"
     },
     "output_type": "display_data"
    }
   ],
   "source": [
    "df.Population_2019.hist(bins=30);"
   ]
  },
  {
   "cell_type": "markdown",
   "id": "e52c9690",
   "metadata": {},
   "source": [
    "# Probability Distributions\n",
    "#### Data generating Process(DGP);\n",
    "(Take me through the process and convince me about what you discovered) gives the idea of probability distribution\n",
    "\n",
    "## Probability Distribution;\n",
    "(PDF)how did you aquire te data ie share the questionaire\n",
    "Describe the data \n",
    "Key interest/variable(why)\n",
    "Relationship(how does it come about)\n",
    "All these lead us to thinking about te following distrubutions\n",
    "1. Normal/ gausian: Most common\n",
    "2.poison\n",
    "3.uniform\n",
    "4.Geonemetry\n",
    "#### Probability comes in away that it leads to wonder forexemple whats the probability taht the goats are real(ref to the goats that were in atree)\n",
    "###### Different distributions derive different meaning from the data\n",
    "# NB\n",
    "-Data Process\n",
    "-Distribution used\n",
    "-Chance of occurrence"
   ]
  },
  {
   "cell_type": "markdown",
   "id": "9ec76e5f",
   "metadata": {},
   "source": [
    "value = [1,2,3,4,5,6]\n",
    "probability =[1/6,1/6/1/6,1/6,1/6,1/6]\n",
    "# Empirical\n",
    "distribution based on data"
   ]
  },
  {
   "cell_type": "code",
   "execution_count": 63,
   "id": "67ad64e9",
   "metadata": {},
   "outputs": [
    {
     "name": "stdout",
     "output_type": "stream",
     "text": [
      "Requirement already satisfied: empiricaldist in c:\\users\\pc\\appdata\\local\\programs\\python\\python310\\lib\\site-packages (0.6.7)\n",
      "Note: you may need to restart the kernel to use updated packages.\n"
     ]
    }
   ],
   "source": [
    "pip install empiricaldist"
   ]
  },
  {
   "cell_type": "code",
   "execution_count": 64,
   "id": "badd66c3",
   "metadata": {},
   "outputs": [],
   "source": [
    "from empiricaldist import Pmf"
   ]
  },
  {
   "cell_type": "code",
   "execution_count": 65,
   "id": "69be5349",
   "metadata": {},
   "outputs": [
    {
     "data": {
      "text/html": [
       "<div>\n",
       "<style scoped>\n",
       "    .dataframe tbody tr th:only-of-type {\n",
       "        vertical-align: middle;\n",
       "    }\n",
       "\n",
       "    .dataframe tbody tr th {\n",
       "        vertical-align: top;\n",
       "    }\n",
       "\n",
       "    .dataframe thead th {\n",
       "        text-align: right;\n",
       "    }\n",
       "</style>\n",
       "<table border=\"1\" class=\"dataframe\">\n",
       "  <thead>\n",
       "    <tr style=\"text-align: right;\">\n",
       "      <th></th>\n",
       "      <th>probs</th>\n",
       "    </tr>\n",
       "  </thead>\n",
       "  <tbody>\n",
       "    <tr>\n",
       "      <th>1</th>\n",
       "      <td>0.166667</td>\n",
       "    </tr>\n",
       "    <tr>\n",
       "      <th>2</th>\n",
       "      <td>0.166667</td>\n",
       "    </tr>\n",
       "    <tr>\n",
       "      <th>3</th>\n",
       "      <td>0.166667</td>\n",
       "    </tr>\n",
       "    <tr>\n",
       "      <th>4</th>\n",
       "      <td>0.166667</td>\n",
       "    </tr>\n",
       "    <tr>\n",
       "      <th>5</th>\n",
       "      <td>0.166667</td>\n",
       "    </tr>\n",
       "    <tr>\n",
       "      <th>6</th>\n",
       "      <td>0.166667</td>\n",
       "    </tr>\n",
       "  </tbody>\n",
       "</table>\n",
       "</div>"
      ],
      "text/plain": [
       "1    0.166667\n",
       "2    0.166667\n",
       "3    0.166667\n",
       "4    0.166667\n",
       "5    0.166667\n",
       "6    0.166667\n",
       "Name: , dtype: float64"
      ]
     },
     "execution_count": 65,
     "metadata": {},
     "output_type": "execute_result"
    }
   ],
   "source": [
    "outcome = [1,2,3,4,5,6]\n",
    "die =Pmf(1/6,outcome)\n",
    "die"
   ]
  },
  {
   "cell_type": "markdown",
   "id": "346f236f",
   "metadata": {},
   "source": [
    "Gss survey\n",
    "it was generated in 1972\n",
    "Gss eplorer=> Gss tool\n",
    "## file formats\n",
    "csv\n",
    "xml\n",
    "R\n",
    "xlsx\n",
    "sav\n",
    "doc\n",
    "txt"
   ]
  },
  {
   "cell_type": "code",
   "execution_count": 66,
   "id": "8098e81a",
   "metadata": {},
   "outputs": [
    {
     "ename": "SyntaxError",
     "evalue": "invalid syntax (2178969467.py, line 2)",
     "output_type": "error",
     "traceback": [
      "\u001b[1;36m  Input \u001b[1;32mIn [66]\u001b[1;36m\u001b[0m\n\u001b[1;33m    pip install statadict\u001b[0m\n\u001b[1;37m        ^\u001b[0m\n\u001b[1;31mSyntaxError\u001b[0m\u001b[1;31m:\u001b[0m invalid syntax\n"
     ]
    }
   ],
   "source": [
    "#library for reading data dictionaries\n",
    "pip install statadict"
   ]
  },
  {
   "cell_type": "code",
   "execution_count": 67,
   "id": "82bb7fc6",
   "metadata": {},
   "outputs": [],
   "source": [
    "dict_file = \"Gss.dict\""
   ]
  },
  {
   "cell_type": "code",
   "execution_count": 68,
   "id": "a702be8d",
   "metadata": {},
   "outputs": [],
   "source": [
    "data_file = \"Gss.data.gz\""
   ]
  },
  {
   "cell_type": "code",
   "execution_count": 69,
   "id": "9b9b052f",
   "metadata": {},
   "outputs": [
    {
     "ename": "ImportError",
     "evalue": "cannot import name 'stataDic' from 'statadict' (C:\\Users\\pc\\AppData\\Local\\Programs\\Python\\Python310\\lib\\site-packages\\statadict\\__init__.py)",
     "output_type": "error",
     "traceback": [
      "\u001b[1;31m---------------------------------------------------------------------------\u001b[0m",
      "\u001b[1;31mImportError\u001b[0m                               Traceback (most recent call last)",
      "Input \u001b[1;32mIn [69]\u001b[0m, in \u001b[0;36m<cell line: 1>\u001b[1;34m()\u001b[0m\n\u001b[1;32m----> 1\u001b[0m \u001b[38;5;28;01mfrom\u001b[39;00m \u001b[38;5;21;01mstatadict\u001b[39;00m \u001b[38;5;28;01mimport\u001b[39;00m stataDic\n\u001b[0;32m      2\u001b[0m stata_dict \u001b[38;5;241m=\u001b[39m parse_stata_dict(dict_file)\n",
      "\u001b[1;31mImportError\u001b[0m: cannot import name 'stataDic' from 'statadict' (C:\\Users\\pc\\AppData\\Local\\Programs\\Python\\Python310\\lib\\site-packages\\statadict\\__init__.py)"
     ]
    }
   ],
   "source": [
    "from statadict import stataDic\n",
    "stata_dict = parse_stata_dict(dict_file)\n"
   ]
  },
  {
   "cell_type": "code",
   "execution_count": 70,
   "id": "ed7d41fc",
   "metadata": {},
   "outputs": [
    {
     "name": "stdout",
     "output_type": "stream",
     "text": [
      "Note: you may need to restart the kernel to use updated packages.\n"
     ]
    },
    {
     "name": "stderr",
     "output_type": "stream",
     "text": [
      "ERROR: Could not find a version that satisfies the requirement gzip (from versions: none)\n",
      "ERROR: No matching distribution found for gzip\n"
     ]
    }
   ],
   "source": [
    "pip install gzip"
   ]
  },
  {
   "cell_type": "code",
   "execution_count": 71,
   "id": "07b462fd",
   "metadata": {},
   "outputs": [],
   "source": [
    "import pandas as pd\n"
   ]
  },
  {
   "cell_type": "code",
   "execution_count": 72,
   "id": "994d005f",
   "metadata": {},
   "outputs": [
    {
     "data": {
      "text/html": [
       "<div>\n",
       "<style scoped>\n",
       "    .dataframe tbody tr th:only-of-type {\n",
       "        vertical-align: middle;\n",
       "    }\n",
       "\n",
       "    .dataframe tbody tr th {\n",
       "        vertical-align: top;\n",
       "    }\n",
       "\n",
       "    .dataframe thead th {\n",
       "        text-align: right;\n",
       "    }\n",
       "</style>\n",
       "<table border=\"1\" class=\"dataframe\">\n",
       "  <thead>\n",
       "    <tr style=\"text-align: right;\">\n",
       "      <th></th>\n",
       "      <th>Country Code</th>\n",
       "      <th>TableName</th>\n",
       "      <th>IncomeGroup</th>\n",
       "      <th>PopDensity_2018</th>\n",
       "      <th>Confirmed Cases</th>\n",
       "      <th>Deaths</th>\n",
       "      <th>Mortality Rate</th>\n",
       "      <th>Population_2019</th>\n",
       "      <th>GDP_2019</th>\n",
       "      <th>GDP_per_cap_2019</th>\n",
       "      <th>Main Leader Gender</th>\n",
       "      <th>Any Leader Gender</th>\n",
       "      <th>Avg Temp</th>\n",
       "      <th>Normalized Cases</th>\n",
       "      <th>Normalized Deaths</th>\n",
       "    </tr>\n",
       "  </thead>\n",
       "  <tbody>\n",
       "    <tr>\n",
       "      <th>0</th>\n",
       "      <td>AFG</td>\n",
       "      <td>Afghanistan</td>\n",
       "      <td>Low income</td>\n",
       "      <td>56.937760</td>\n",
       "      <td>39192</td>\n",
       "      <td>1453</td>\n",
       "      <td>3.707389</td>\n",
       "      <td>38041754</td>\n",
       "      <td>1.910135e+10</td>\n",
       "      <td>2293.551684</td>\n",
       "      <td>M</td>\n",
       "      <td>M</td>\n",
       "      <td>12.60</td>\n",
       "      <td>0.001030</td>\n",
       "      <td>3.820000e-05</td>\n",
       "    </tr>\n",
       "    <tr>\n",
       "      <th>1</th>\n",
       "      <td>AGO</td>\n",
       "      <td>Angola</td>\n",
       "      <td>Lower middle income</td>\n",
       "      <td>24.713052</td>\n",
       "      <td>4672</td>\n",
       "      <td>171</td>\n",
       "      <td>3.660103</td>\n",
       "      <td>31825295</td>\n",
       "      <td>9.463542e+10</td>\n",
       "      <td>6929.678158</td>\n",
       "      <td>M</td>\n",
       "      <td>M</td>\n",
       "      <td>21.55</td>\n",
       "      <td>0.000147</td>\n",
       "      <td>5.370000e-06</td>\n",
       "    </tr>\n",
       "    <tr>\n",
       "      <th>2</th>\n",
       "      <td>ALB</td>\n",
       "      <td>Albania</td>\n",
       "      <td>Upper middle income</td>\n",
       "      <td>104.612263</td>\n",
       "      <td>13153</td>\n",
       "      <td>375</td>\n",
       "      <td>2.851061</td>\n",
       "      <td>2854191</td>\n",
       "      <td>1.527808e+10</td>\n",
       "      <td>14495.078510</td>\n",
       "      <td>M</td>\n",
       "      <td>M</td>\n",
       "      <td>11.40</td>\n",
       "      <td>0.004608</td>\n",
       "      <td>1.313860e-04</td>\n",
       "    </tr>\n",
       "    <tr>\n",
       "      <th>3</th>\n",
       "      <td>AND</td>\n",
       "      <td>Andorra</td>\n",
       "      <td>High income</td>\n",
       "      <td>163.842553</td>\n",
       "      <td>1836</td>\n",
       "      <td>53</td>\n",
       "      <td>2.886710</td>\n",
       "      <td>77142</td>\n",
       "      <td>3.154058e+09</td>\n",
       "      <td>NaN</td>\n",
       "      <td>M</td>\n",
       "      <td>M</td>\n",
       "      <td>7.60</td>\n",
       "      <td>0.023800</td>\n",
       "      <td>6.870450e-04</td>\n",
       "    </tr>\n",
       "    <tr>\n",
       "      <th>4</th>\n",
       "      <td>ARE</td>\n",
       "      <td>United Arab Emirates</td>\n",
       "      <td>High income</td>\n",
       "      <td>135.609110</td>\n",
       "      <td>90618</td>\n",
       "      <td>411</td>\n",
       "      <td>0.453552</td>\n",
       "      <td>9770529</td>\n",
       "      <td>4.211420e+11</td>\n",
       "      <td>69900.877850</td>\n",
       "      <td>M</td>\n",
       "      <td>M</td>\n",
       "      <td>27.00</td>\n",
       "      <td>0.009275</td>\n",
       "      <td>4.210000e-05</td>\n",
       "    </tr>\n",
       "    <tr>\n",
       "      <th>...</th>\n",
       "      <td>...</td>\n",
       "      <td>...</td>\n",
       "      <td>...</td>\n",
       "      <td>...</td>\n",
       "      <td>...</td>\n",
       "      <td>...</td>\n",
       "      <td>...</td>\n",
       "      <td>...</td>\n",
       "      <td>...</td>\n",
       "      <td>...</td>\n",
       "      <td>...</td>\n",
       "      <td>...</td>\n",
       "      <td>...</td>\n",
       "      <td>...</td>\n",
       "      <td>...</td>\n",
       "    </tr>\n",
       "    <tr>\n",
       "      <th>177</th>\n",
       "      <td>VNM</td>\n",
       "      <td>Vietnam</td>\n",
       "      <td>Lower middle income</td>\n",
       "      <td>308.125246</td>\n",
       "      <td>1069</td>\n",
       "      <td>35</td>\n",
       "      <td>3.274088</td>\n",
       "      <td>96462106</td>\n",
       "      <td>2.619210e+11</td>\n",
       "      <td>8374.444328</td>\n",
       "      <td>M</td>\n",
       "      <td>M</td>\n",
       "      <td>24.45</td>\n",
       "      <td>0.000011</td>\n",
       "      <td>3.630000e-07</td>\n",
       "    </tr>\n",
       "    <tr>\n",
       "      <th>178</th>\n",
       "      <td>YEM</td>\n",
       "      <td>Yemen, Rep.</td>\n",
       "      <td>Low income</td>\n",
       "      <td>53.977853</td>\n",
       "      <td>2030</td>\n",
       "      <td>587</td>\n",
       "      <td>28.916256</td>\n",
       "      <td>29161922</td>\n",
       "      <td>NaN</td>\n",
       "      <td>NaN</td>\n",
       "      <td>M</td>\n",
       "      <td>M</td>\n",
       "      <td>23.85</td>\n",
       "      <td>0.000070</td>\n",
       "      <td>2.010000e-05</td>\n",
       "    </tr>\n",
       "    <tr>\n",
       "      <th>179</th>\n",
       "      <td>ZAF</td>\n",
       "      <td>South Africa</td>\n",
       "      <td>Upper middle income</td>\n",
       "      <td>47.630120</td>\n",
       "      <td>669498</td>\n",
       "      <td>16376</td>\n",
       "      <td>2.446012</td>\n",
       "      <td>58558270</td>\n",
       "      <td>3.514320e+11</td>\n",
       "      <td>12999.120260</td>\n",
       "      <td>M</td>\n",
       "      <td>M</td>\n",
       "      <td>17.75</td>\n",
       "      <td>0.011433</td>\n",
       "      <td>2.796530e-04</td>\n",
       "    </tr>\n",
       "    <tr>\n",
       "      <th>180</th>\n",
       "      <td>ZMB</td>\n",
       "      <td>Zambia</td>\n",
       "      <td>Lower middle income</td>\n",
       "      <td>23.341479</td>\n",
       "      <td>14612</td>\n",
       "      <td>332</td>\n",
       "      <td>2.272105</td>\n",
       "      <td>17861030</td>\n",
       "      <td>2.306472e+10</td>\n",
       "      <td>3623.699395</td>\n",
       "      <td>M</td>\n",
       "      <td>M</td>\n",
       "      <td>21.40</td>\n",
       "      <td>0.000818</td>\n",
       "      <td>1.860000e-05</td>\n",
       "    </tr>\n",
       "    <tr>\n",
       "      <th>181</th>\n",
       "      <td>ZWE</td>\n",
       "      <td>Zimbabwe</td>\n",
       "      <td>Lower middle income</td>\n",
       "      <td>37.324591</td>\n",
       "      <td>7803</td>\n",
       "      <td>227</td>\n",
       "      <td>2.909138</td>\n",
       "      <td>14645468</td>\n",
       "      <td>2.144076e+10</td>\n",
       "      <td>2953.484113</td>\n",
       "      <td>M</td>\n",
       "      <td>M</td>\n",
       "      <td>21.00</td>\n",
       "      <td>0.000533</td>\n",
       "      <td>1.550000e-05</td>\n",
       "    </tr>\n",
       "  </tbody>\n",
       "</table>\n",
       "<p>182 rows × 15 columns</p>\n",
       "</div>"
      ],
      "text/plain": [
       "    Country Code             TableName          IncomeGroup  PopDensity_2018  \\\n",
       "0            AFG           Afghanistan           Low income        56.937760   \n",
       "1            AGO                Angola  Lower middle income        24.713052   \n",
       "2            ALB               Albania  Upper middle income       104.612263   \n",
       "3            AND               Andorra          High income       163.842553   \n",
       "4            ARE  United Arab Emirates          High income       135.609110   \n",
       "..           ...                   ...                  ...              ...   \n",
       "177          VNM               Vietnam  Lower middle income       308.125246   \n",
       "178          YEM           Yemen, Rep.           Low income        53.977853   \n",
       "179          ZAF          South Africa  Upper middle income        47.630120   \n",
       "180          ZMB                Zambia  Lower middle income        23.341479   \n",
       "181          ZWE              Zimbabwe  Lower middle income        37.324591   \n",
       "\n",
       "     Confirmed Cases  Deaths  Mortality Rate  Population_2019      GDP_2019  \\\n",
       "0              39192    1453        3.707389         38041754  1.910135e+10   \n",
       "1               4672     171        3.660103         31825295  9.463542e+10   \n",
       "2              13153     375        2.851061          2854191  1.527808e+10   \n",
       "3               1836      53        2.886710            77142  3.154058e+09   \n",
       "4              90618     411        0.453552          9770529  4.211420e+11   \n",
       "..               ...     ...             ...              ...           ...   \n",
       "177             1069      35        3.274088         96462106  2.619210e+11   \n",
       "178             2030     587       28.916256         29161922           NaN   \n",
       "179           669498   16376        2.446012         58558270  3.514320e+11   \n",
       "180            14612     332        2.272105         17861030  2.306472e+10   \n",
       "181             7803     227        2.909138         14645468  2.144076e+10   \n",
       "\n",
       "     GDP_per_cap_2019 Main Leader Gender Any Leader Gender  Avg Temp  \\\n",
       "0         2293.551684                  M                 M     12.60   \n",
       "1         6929.678158                  M                 M     21.55   \n",
       "2        14495.078510                  M                 M     11.40   \n",
       "3                 NaN                  M                 M      7.60   \n",
       "4        69900.877850                  M                 M     27.00   \n",
       "..                ...                ...               ...       ...   \n",
       "177       8374.444328                  M                 M     24.45   \n",
       "178               NaN                  M                 M     23.85   \n",
       "179      12999.120260                  M                 M     17.75   \n",
       "180       3623.699395                  M                 M     21.40   \n",
       "181       2953.484113                  M                 M     21.00   \n",
       "\n",
       "     Normalized Cases  Normalized Deaths  \n",
       "0            0.001030       3.820000e-05  \n",
       "1            0.000147       5.370000e-06  \n",
       "2            0.004608       1.313860e-04  \n",
       "3            0.023800       6.870450e-04  \n",
       "4            0.009275       4.210000e-05  \n",
       "..                ...                ...  \n",
       "177          0.000011       3.630000e-07  \n",
       "178          0.000070       2.010000e-05  \n",
       "179          0.011433       2.796530e-04  \n",
       "180          0.000818       1.860000e-05  \n",
       "181          0.000533       1.550000e-05  \n",
       "\n",
       "[182 rows x 15 columns]"
      ]
     },
     "execution_count": 72,
     "metadata": {},
     "output_type": "execute_result"
    }
   ],
   "source": [
    "data_frame = pd.read_csv(\"data/unified-data-per-country.csv\")\n",
    "data_frame"
   ]
  },
  {
   "cell_type": "code",
   "execution_count": 73,
   "id": "64455a71",
   "metadata": {},
   "outputs": [
    {
     "data": {
      "text/plain": [
       "Index(['Country Code', 'TableName', 'IncomeGroup', 'PopDensity_2018',\n",
       "       'Confirmed Cases', 'Deaths', 'Mortality Rate', 'Population_2019',\n",
       "       'GDP_2019', 'GDP_per_cap_2019', 'Main Leader Gender',\n",
       "       'Any Leader Gender', 'Avg Temp', 'Normalized Cases',\n",
       "       'Normalized Deaths'],\n",
       "      dtype='object')"
      ]
     },
     "execution_count": 73,
     "metadata": {},
     "output_type": "execute_result"
    }
   ],
   "source": [
    "data_frame.columns"
   ]
  },
  {
   "cell_type": "code",
   "execution_count": 74,
   "id": "82fcc2c6",
   "metadata": {},
   "outputs": [
    {
     "data": {
      "text/plain": [
       "33860         1\n",
       "38019         1\n",
       "38964         1\n",
       "52823         1\n",
       "71808         1\n",
       "             ..\n",
       "216565318     1\n",
       "270625568     1\n",
       "328239523     1\n",
       "1366417754    1\n",
       "1397715000    1\n",
       "Name: Population_2019, Length: 182, dtype: int64"
      ]
     },
     "execution_count": 74,
     "metadata": {},
     "output_type": "execute_result"
    }
   ],
   "source": [
    "data_frame['Population_2019'].value_counts().sort_index()"
   ]
  },
  {
   "cell_type": "code",
   "execution_count": 75,
   "id": "4957ba03",
   "metadata": {},
   "outputs": [
    {
     "data": {
      "text/plain": [
       "38041754    1\n",
       "622137      1\n",
       "30366036    1\n",
       "4525696     1\n",
       "1265711     1\n",
       "           ..\n",
       "30417856    1\n",
       "12771246    1\n",
       "2347706     1\n",
       "1920922     1\n",
       "14645468    1\n",
       "Name: Population_2019, Length: 182, dtype: int64"
      ]
     },
     "execution_count": 75,
     "metadata": {},
     "output_type": "execute_result"
    }
   ],
   "source": [
    "#without Sort_index\n",
    "data_frame['Population_2019'].value_counts()"
   ]
  },
  {
   "cell_type": "code",
   "execution_count": 76,
   "id": "832233eb",
   "metadata": {},
   "outputs": [
    {
     "data": {
      "text/plain": [
       "0      38041754\n",
       "1      31825295\n",
       "2       2854191\n",
       "3         77142\n",
       "4       9770529\n",
       "         ...   \n",
       "177    96462106\n",
       "178    29161922\n",
       "179    58558270\n",
       "180    17861030\n",
       "181    14645468\n",
       "Name: Population_2019, Length: 182, dtype: int64"
      ]
     },
     "execution_count": 76,
     "metadata": {},
     "output_type": "execute_result"
    }
   ],
   "source": [
    "#without Value_count\n",
    "data_frame['Population_2019'].sort_index()"
   ]
  },
  {
   "cell_type": "code",
   "execution_count": 77,
   "id": "aeec62a6",
   "metadata": {},
   "outputs": [],
   "source": [
    "import matplotlib.pyplot as plt"
   ]
  },
  {
   "cell_type": "code",
   "execution_count": 78,
   "id": "df7997d2",
   "metadata": {},
   "outputs": [
    {
     "data": {
      "text/plain": [
       "33860         1\n",
       "38019         1\n",
       "38964         1\n",
       "52823         1\n",
       "71808         1\n",
       "             ..\n",
       "216565318     1\n",
       "270625568     1\n",
       "328239523     1\n",
       "1366417754    1\n",
       "1397715000    1\n",
       "Name: Population_2019, Length: 182, dtype: int64"
      ]
     },
     "execution_count": 78,
     "metadata": {},
     "output_type": "execute_result"
    }
   ],
   "source": [
    "histo = data_frame['Population_2019'].value_counts().sort_index()\n",
    "histo"
   ]
  },
  {
   "cell_type": "code",
   "execution_count": 79,
   "id": "a697b83c",
   "metadata": {},
   "outputs": [
    {
     "data": {
      "image/png": "[encoded data removed]",
      "text/plain": [
       "<Figure size 432x288 with 1 Axes>"
      ]
     },
     "metadata": {
      "needs_background": "light"
     },
     "output_type": "display_data"
    }
   ],
   "source": [
    "data_frame.hist(\"Population_2019\");\n",
    "\n"
   ]
  },
  {
   "cell_type": "code",
   "execution_count": 80,
   "id": "5232b4ad",
   "metadata": {},
   "outputs": [
    {
     "data": {
      "text/html": [
       "<div>\n",
       "<style scoped>\n",
       "    .dataframe tbody tr th:only-of-type {\n",
       "        vertical-align: middle;\n",
       "    }\n",
       "\n",
       "    .dataframe tbody tr th {\n",
       "        vertical-align: top;\n",
       "    }\n",
       "\n",
       "    .dataframe thead th {\n",
       "        text-align: right;\n",
       "    }\n",
       "</style>\n",
       "<table border=\"1\" class=\"dataframe\">\n",
       "  <thead>\n",
       "    <tr style=\"text-align: right;\">\n",
       "      <th></th>\n",
       "      <th>probs</th>\n",
       "    </tr>\n",
       "  </thead>\n",
       "  <tbody>\n",
       "    <tr>\n",
       "      <th>Population_2019</th>\n",
       "      <td>1</td>\n",
       "    </tr>\n",
       "  </tbody>\n",
       "</table>\n",
       "</div>"
      ],
      "text/plain": [
       "Population_2019    1\n",
       "Name: , dtype: int64"
      ]
     },
     "execution_count": 80,
     "metadata": {},
     "output_type": "execute_result"
    }
   ],
   "source": [
    "Pmf_Population_2019 = Pmf.from_seq(\"Population_2019\",normalize = False)\n",
    "Pmf_Population_2019\n"
   ]
  },
  {
   "cell_type": "code",
   "execution_count": 81,
   "id": "37545aeb",
   "metadata": {},
   "outputs": [
    {
     "data": {
      "text/plain": [
       "empiricaldist.empiricaldist.Pmf"
      ]
     },
     "execution_count": 81,
     "metadata": {},
     "output_type": "execute_result"
    }
   ],
   "source": [
    "type(Pmf_Population_2019)"
   ]
  },
  {
   "cell_type": "code",
   "execution_count": 82,
   "id": "ca59420c",
   "metadata": {},
   "outputs": [
    {
     "data": {
      "text/html": [
       "<div>\n",
       "<style scoped>\n",
       "    .dataframe tbody tr th:only-of-type {\n",
       "        vertical-align: middle;\n",
       "    }\n",
       "\n",
       "    .dataframe tbody tr th {\n",
       "        vertical-align: top;\n",
       "    }\n",
       "\n",
       "    .dataframe thead th {\n",
       "        text-align: right;\n",
       "    }\n",
       "</style>\n",
       "<table border=\"1\" class=\"dataframe\">\n",
       "  <thead>\n",
       "    <tr style=\"text-align: right;\">\n",
       "      <th></th>\n",
       "      <th>probs</th>\n",
       "    </tr>\n",
       "  </thead>\n",
       "  <tbody>\n",
       "    <tr>\n",
       "      <th>Population_2019</th>\n",
       "      <td>1</td>\n",
       "    </tr>\n",
       "  </tbody>\n",
       "</table>\n",
       "</div>"
      ],
      "text/plain": [
       "Population_2019    1\n",
       "Name: , dtype: int64"
      ]
     },
     "execution_count": 82,
     "metadata": {},
     "output_type": "execute_result"
    }
   ],
   "source": [
    "Pmf_Population_2019.head()"
   ]
  },
  {
   "cell_type": "code",
   "execution_count": 83,
   "id": "c7c3d005",
   "metadata": {},
   "outputs": [
    {
     "data": {
      "text/html": [
       "<div>\n",
       "<style scoped>\n",
       "    .dataframe tbody tr th:only-of-type {\n",
       "        vertical-align: middle;\n",
       "    }\n",
       "\n",
       "    .dataframe tbody tr th {\n",
       "        vertical-align: top;\n",
       "    }\n",
       "\n",
       "    .dataframe thead th {\n",
       "        text-align: right;\n",
       "    }\n",
       "</style>\n",
       "<table border=\"1\" class=\"dataframe\">\n",
       "  <thead>\n",
       "    <tr style=\"text-align: right;\">\n",
       "      <th></th>\n",
       "      <th>probs</th>\n",
       "    </tr>\n",
       "  </thead>\n",
       "  <tbody>\n",
       "    <tr>\n",
       "      <th>Population_2019</th>\n",
       "      <td>1</td>\n",
       "    </tr>\n",
       "  </tbody>\n",
       "</table>\n",
       "</div>"
      ],
      "text/plain": [
       "Population_2019    1\n",
       "Name: , dtype: int64"
      ]
     },
     "execution_count": 83,
     "metadata": {},
     "output_type": "execute_result"
    }
   ],
   "source": [
    "Pmf_Population_2019.tail()"
   ]
  },
  {
   "cell_type": "code",
   "execution_count": 84,
   "id": "7f0d715e",
   "metadata": {},
   "outputs": [
    {
     "data": {
      "text/html": [
       "<div>\n",
       "<style scoped>\n",
       "    .dataframe tbody tr th:only-of-type {\n",
       "        vertical-align: middle;\n",
       "    }\n",
       "\n",
       "    .dataframe tbody tr th {\n",
       "        vertical-align: top;\n",
       "    }\n",
       "\n",
       "    .dataframe thead th {\n",
       "        text-align: right;\n",
       "    }\n",
       "</style>\n",
       "<table border=\"1\" class=\"dataframe\">\n",
       "  <thead>\n",
       "    <tr style=\"text-align: right;\">\n",
       "      <th></th>\n",
       "      <th>probs</th>\n",
       "    </tr>\n",
       "  </thead>\n",
       "  <tbody>\n",
       "    <tr>\n",
       "      <th>Population_2019</th>\n",
       "      <td>1.0</td>\n",
       "    </tr>\n",
       "  </tbody>\n",
       "</table>\n",
       "</div>"
      ],
      "text/plain": [
       "Population_2019    1.0\n",
       "Name: , dtype: float64"
      ]
     },
     "execution_count": 84,
     "metadata": {},
     "output_type": "execute_result"
    }
   ],
   "source": [
    "Pmf_Population_2019 = Pmf.from_seq(\"Population_2019\",normalize = True)\n",
    "Pmf_Population_2019"
   ]
  },
  {
   "cell_type": "code",
   "execution_count": 85,
   "id": "31b7b7a1",
   "metadata": {},
   "outputs": [
    {
     "data": {
      "text/html": [
       "<div>\n",
       "<style scoped>\n",
       "    .dataframe tbody tr th:only-of-type {\n",
       "        vertical-align: middle;\n",
       "    }\n",
       "\n",
       "    .dataframe tbody tr th {\n",
       "        vertical-align: top;\n",
       "    }\n",
       "\n",
       "    .dataframe thead th {\n",
       "        text-align: right;\n",
       "    }\n",
       "</style>\n",
       "<table border=\"1\" class=\"dataframe\">\n",
       "  <thead>\n",
       "    <tr style=\"text-align: right;\">\n",
       "      <th></th>\n",
       "      <th>probs</th>\n",
       "    </tr>\n",
       "  </thead>\n",
       "  <tbody>\n",
       "    <tr>\n",
       "      <th>Population_2019</th>\n",
       "      <td>1.0</td>\n",
       "    </tr>\n",
       "  </tbody>\n",
       "</table>\n",
       "</div>"
      ],
      "text/plain": [
       "Population_2019    1.0\n",
       "Name: , dtype: float64"
      ]
     },
     "execution_count": 85,
     "metadata": {},
     "output_type": "execute_result"
    }
   ],
   "source": [
    "Pmf_Population_2019.head()"
   ]
  },
  {
   "cell_type": "code",
   "execution_count": 86,
   "id": "033c11fb",
   "metadata": {},
   "outputs": [
    {
     "data": {
      "text/html": [
       "<div>\n",
       "<style scoped>\n",
       "    .dataframe tbody tr th:only-of-type {\n",
       "        vertical-align: middle;\n",
       "    }\n",
       "\n",
       "    .dataframe tbody tr th {\n",
       "        vertical-align: top;\n",
       "    }\n",
       "\n",
       "    .dataframe thead th {\n",
       "        text-align: right;\n",
       "    }\n",
       "</style>\n",
       "<table border=\"1\" class=\"dataframe\">\n",
       "  <thead>\n",
       "    <tr style=\"text-align: right;\">\n",
       "      <th></th>\n",
       "      <th>probs</th>\n",
       "    </tr>\n",
       "  </thead>\n",
       "  <tbody>\n",
       "    <tr>\n",
       "      <th>Population_2019</th>\n",
       "      <td>1.0</td>\n",
       "    </tr>\n",
       "  </tbody>\n",
       "</table>\n",
       "</div>"
      ],
      "text/plain": [
       "Population_2019    1.0\n",
       "Name: , dtype: float64"
      ]
     },
     "execution_count": 86,
     "metadata": {},
     "output_type": "execute_result"
    }
   ],
   "source": [
    "Pmf_Population_2019.tail()"
   ]
  },
  {
   "cell_type": "code",
   "execution_count": 87,
   "id": "28446705",
   "metadata": {},
   "outputs": [
    {
     "data": {
      "text/html": [
       "<div>\n",
       "<style scoped>\n",
       "    .dataframe tbody tr th:only-of-type {\n",
       "        vertical-align: middle;\n",
       "    }\n",
       "\n",
       "    .dataframe tbody tr th {\n",
       "        vertical-align: top;\n",
       "    }\n",
       "\n",
       "    .dataframe thead th {\n",
       "        text-align: right;\n",
       "    }\n",
       "</style>\n",
       "<table border=\"1\" class=\"dataframe\">\n",
       "  <thead>\n",
       "    <tr style=\"text-align: right;\">\n",
       "      <th></th>\n",
       "      <th>probs</th>\n",
       "    </tr>\n",
       "  </thead>\n",
       "  <tbody>\n",
       "    <tr>\n",
       "      <th>Normalized Cases</th>\n",
       "      <td>1.0</td>\n",
       "    </tr>\n",
       "  </tbody>\n",
       "</table>\n",
       "</div>"
      ],
      "text/plain": [
       "Normalized Cases    1.0\n",
       "Name: , dtype: float64"
      ]
     },
     "execution_count": 87,
     "metadata": {},
     "output_type": "execute_result"
    }
   ],
   "source": [
    "Pmf_Normalized_cases = Pmf.from_seq(\"Normalized Cases\",normalize = True)\n",
    "Pmf_Normalized_cases"
   ]
  },
  {
   "cell_type": "code",
   "execution_count": 88,
   "id": "6c2bcc85",
   "metadata": {},
   "outputs": [
    {
     "data": {
      "text/html": [
       "<div>\n",
       "<style scoped>\n",
       "    .dataframe tbody tr th:only-of-type {\n",
       "        vertical-align: middle;\n",
       "    }\n",
       "\n",
       "    .dataframe tbody tr th {\n",
       "        vertical-align: top;\n",
       "    }\n",
       "\n",
       "    .dataframe thead th {\n",
       "        text-align: right;\n",
       "    }\n",
       "</style>\n",
       "<table border=\"1\" class=\"dataframe\">\n",
       "  <thead>\n",
       "    <tr style=\"text-align: right;\">\n",
       "      <th></th>\n",
       "      <th>probs</th>\n",
       "    </tr>\n",
       "  </thead>\n",
       "  <tbody>\n",
       "    <tr>\n",
       "      <th>Normalized Cases</th>\n",
       "      <td>1</td>\n",
       "    </tr>\n",
       "  </tbody>\n",
       "</table>\n",
       "</div>"
      ],
      "text/plain": [
       "Normalized Cases    1\n",
       "Name: , dtype: int64"
      ]
     },
     "execution_count": 88,
     "metadata": {},
     "output_type": "execute_result"
    }
   ],
   "source": [
    "Pmf_Normalized_cases = Pmf.from_seq(\"Normalized Cases\",normalize = False)\n",
    "Pmf_Normalized_cases"
   ]
  },
  {
   "cell_type": "code",
   "execution_count": 89,
   "id": "d4584ebc",
   "metadata": {},
   "outputs": [
    {
     "data": {
      "text/plain": [
       "empiricaldist.empiricaldist.Pmf"
      ]
     },
     "execution_count": 89,
     "metadata": {},
     "output_type": "execute_result"
    }
   ],
   "source": [
    "type(Pmf_Normalized_cases)"
   ]
  },
  {
   "cell_type": "code",
   "execution_count": 90,
   "id": "752ca48a",
   "metadata": {},
   "outputs": [
    {
     "data": {
      "text/html": [
       "<div>\n",
       "<style scoped>\n",
       "    .dataframe tbody tr th:only-of-type {\n",
       "        vertical-align: middle;\n",
       "    }\n",
       "\n",
       "    .dataframe tbody tr th {\n",
       "        vertical-align: top;\n",
       "    }\n",
       "\n",
       "    .dataframe thead th {\n",
       "        text-align: right;\n",
       "    }\n",
       "</style>\n",
       "<table border=\"1\" class=\"dataframe\">\n",
       "  <thead>\n",
       "    <tr style=\"text-align: right;\">\n",
       "      <th></th>\n",
       "      <th>probs</th>\n",
       "    </tr>\n",
       "  </thead>\n",
       "  <tbody>\n",
       "    <tr>\n",
       "      <th>Normalized Cases</th>\n",
       "      <td>1</td>\n",
       "    </tr>\n",
       "  </tbody>\n",
       "</table>\n",
       "</div>"
      ],
      "text/plain": [
       "Normalized Cases    1\n",
       "Name: , dtype: int64"
      ]
     },
     "execution_count": 90,
     "metadata": {},
     "output_type": "execute_result"
    }
   ],
   "source": [
    "Pmf_Normalized_cases.head()"
   ]
  },
  {
   "cell_type": "code",
   "execution_count": 91,
   "id": "90a497b8",
   "metadata": {},
   "outputs": [
    {
     "data": {
      "text/html": [
       "<div>\n",
       "<style scoped>\n",
       "    .dataframe tbody tr th:only-of-type {\n",
       "        vertical-align: middle;\n",
       "    }\n",
       "\n",
       "    .dataframe tbody tr th {\n",
       "        vertical-align: top;\n",
       "    }\n",
       "\n",
       "    .dataframe thead th {\n",
       "        text-align: right;\n",
       "    }\n",
       "</style>\n",
       "<table border=\"1\" class=\"dataframe\">\n",
       "  <thead>\n",
       "    <tr style=\"text-align: right;\">\n",
       "      <th></th>\n",
       "      <th>probs</th>\n",
       "    </tr>\n",
       "  </thead>\n",
       "  <tbody>\n",
       "    <tr>\n",
       "      <th>Normalized Cases</th>\n",
       "      <td>1</td>\n",
       "    </tr>\n",
       "  </tbody>\n",
       "</table>\n",
       "</div>"
      ],
      "text/plain": [
       "Normalized Cases    1\n",
       "Name: , dtype: int64"
      ]
     },
     "execution_count": 91,
     "metadata": {},
     "output_type": "execute_result"
    }
   ],
   "source": [
    "Pmf_Normalized_cases.tail()"
   ]
  },
  {
   "cell_type": "code",
   "execution_count": 92,
   "id": "906fe139",
   "metadata": {},
   "outputs": [
    {
     "data": {
      "text/html": [
       "<div>\n",
       "<style scoped>\n",
       "    .dataframe tbody tr th:only-of-type {\n",
       "        vertical-align: middle;\n",
       "    }\n",
       "\n",
       "    .dataframe tbody tr th {\n",
       "        vertical-align: top;\n",
       "    }\n",
       "\n",
       "    .dataframe thead th {\n",
       "        text-align: right;\n",
       "    }\n",
       "</style>\n",
       "<table border=\"1\" class=\"dataframe\">\n",
       "  <thead>\n",
       "    <tr style=\"text-align: right;\">\n",
       "      <th></th>\n",
       "      <th>probs</th>\n",
       "    </tr>\n",
       "  </thead>\n",
       "  <tbody>\n",
       "    <tr>\n",
       "      <th>Deaths</th>\n",
       "      <td>1</td>\n",
       "    </tr>\n",
       "  </tbody>\n",
       "</table>\n",
       "</div>"
      ],
      "text/plain": [
       "Deaths    1\n",
       "Name: , dtype: int64"
      ]
     },
     "execution_count": 92,
     "metadata": {},
     "output_type": "execute_result"
    }
   ],
   "source": [
    "Pmf_Deaths = Pmf.from_seq(\"Deaths\",normalize = False)\n",
    "Pmf_Deaths"
   ]
  },
  {
   "cell_type": "code",
   "execution_count": 93,
   "id": "ad247b25",
   "metadata": {},
   "outputs": [
    {
     "data": {
      "text/html": [
       "<div>\n",
       "<style scoped>\n",
       "    .dataframe tbody tr th:only-of-type {\n",
       "        vertical-align: middle;\n",
       "    }\n",
       "\n",
       "    .dataframe tbody tr th {\n",
       "        vertical-align: top;\n",
       "    }\n",
       "\n",
       "    .dataframe thead th {\n",
       "        text-align: right;\n",
       "    }\n",
       "</style>\n",
       "<table border=\"1\" class=\"dataframe\">\n",
       "  <thead>\n",
       "    <tr style=\"text-align: right;\">\n",
       "      <th></th>\n",
       "      <th>probs</th>\n",
       "    </tr>\n",
       "  </thead>\n",
       "  <tbody>\n",
       "    <tr>\n",
       "      <th>Deaths</th>\n",
       "      <td>1.0</td>\n",
       "    </tr>\n",
       "  </tbody>\n",
       "</table>\n",
       "</div>"
      ],
      "text/plain": [
       "Deaths    1.0\n",
       "Name: , dtype: float64"
      ]
     },
     "execution_count": 93,
     "metadata": {},
     "output_type": "execute_result"
    }
   ],
   "source": [
    "Pmf_Deaths = Pmf.from_seq(\"Deaths\",normalize = True)\n",
    "Pmf_Deaths"
   ]
  },
  {
   "cell_type": "markdown",
   "id": "450745ed",
   "metadata": {},
   "source": [
    "# Modeling Distributions"
   ]
  },
  {
   "cell_type": "code",
   "execution_count": 94,
   "id": "f898fe43",
   "metadata": {},
   "outputs": [],
   "source": [
    "import numpy as np"
   ]
  },
  {
   "cell_type": "code",
   "execution_count": 95,
   "id": "9f291e07",
   "metadata": {},
   "outputs": [
    {
     "data": {
      "text/plain": [
       "array([-8.43452145e-01,  9.72500804e-01, -5.57011455e-01,  2.52309073e+00,\n",
       "        1.30963659e+00, -1.16254557e+00,  1.17942916e+00,  3.95507025e-01,\n",
       "       -8.50345896e-01, -2.25020039e-01,  1.40163177e+00,  3.68191576e-01,\n",
       "        2.24854733e-01, -5.54741351e-01,  1.96790480e+00,  1.48527377e-01,\n",
       "        1.30464624e+00, -1.10536364e+00,  1.64078906e-01, -1.23859447e+00,\n",
       "       -1.88357735e-01, -9.61206960e-02, -2.22164394e-01,  1.48663231e+00,\n",
       "        1.86963204e-01, -1.01259818e+00, -6.20135057e-01, -8.31673054e-02,\n",
       "       -8.67459335e-01, -3.10822347e-01,  1.03130601e+00,  2.10954705e+00,\n",
       "       -4.55629877e-02,  9.99029569e-01,  8.15094474e-01,  1.78792036e-01,\n",
       "        4.18650801e-01,  1.30172389e-01,  1.46511428e+00, -5.35300319e-01,\n",
       "        1.07154166e+00, -1.06247275e+00, -5.98081081e-02,  1.06572306e+00,\n",
       "        1.30095627e+00,  3.14955226e-01, -6.53895771e-01,  4.97497563e-01,\n",
       "        3.70589552e-01, -1.20472380e+00, -1.77538623e-01,  2.03690690e-01,\n",
       "        1.33370376e+00, -3.42228963e-01,  2.19233031e-01,  6.69637432e-01,\n",
       "        1.40884813e+00,  4.29435509e-01,  2.69080476e-01, -1.13498639e+00,\n",
       "        1.79574722e-01, -1.53565696e-01, -3.12887070e-02, -6.89105347e-01,\n",
       "       -4.46430681e-02,  3.85184958e-03,  1.21605267e+00,  1.56582039e+00,\n",
       "        1.52632194e+00,  4.55070826e-02, -7.15441310e-01, -4.83775701e-01,\n",
       "        2.26618675e+00, -8.44253210e-01,  8.02707142e-02, -5.00987256e-01,\n",
       "        1.08883557e+00, -1.82012577e-02, -1.07119331e+00, -2.94129051e+00,\n",
       "        3.55204290e-01,  6.24497879e-01,  1.25407484e+00, -4.13297974e-01,\n",
       "       -3.98268829e-01,  6.32567163e-01,  6.03758803e-01, -1.60468878e+00,\n",
       "        1.24937029e+00, -8.68697223e-02,  1.13244827e-01, -1.32547379e+00,\n",
       "        2.47381242e+00,  2.33529315e-01, -4.89829379e-01, -5.34462388e-01,\n",
       "       -2.90982848e-01, -9.71195028e-01, -1.98176282e+00,  2.14663288e-01,\n",
       "       -9.23458275e-02, -8.09205390e-02,  1.32290061e+00,  4.81878666e-01,\n",
       "       -1.53547040e+00,  2.11403604e+00, -4.64141402e-01, -6.45535632e-01,\n",
       "       -1.04528312e+00,  7.59032856e-01,  1.28008299e+00,  9.60279558e-02,\n",
       "       -4.51327977e-01,  7.65018308e-01,  3.80939352e-01, -1.24006816e+00,\n",
       "       -1.12581628e+00,  1.02657805e+00,  2.50440021e-01, -1.12496447e+00,\n",
       "        4.89268113e-02,  1.93973122e+00, -1.05461414e+00,  6.04639698e-01,\n",
       "        6.12774019e-01,  1.56035225e+00, -2.59275487e+00,  6.28419048e-01,\n",
       "       -9.52790747e-02, -9.33237951e-01, -1.14325910e+00,  1.12411532e+00,\n",
       "       -3.08314610e-02,  3.73745639e-02,  5.78470990e-02, -2.14034888e-01,\n",
       "       -1.83325703e+00,  9.00942585e-01,  3.06820424e-01,  3.58480896e-01,\n",
       "        7.73425098e-01, -7.27721153e-01,  1.05778578e+00, -1.82280485e-01,\n",
       "       -2.30382473e-02,  2.32880211e-01, -4.71528144e-01, -2.11356978e+00,\n",
       "        3.05678034e-01, -5.62444859e-01, -8.25983716e-01,  9.14540710e-01,\n",
       "        2.15077483e-01, -2.99659261e+00, -1.28349348e+00, -7.67187729e-02,\n",
       "        7.21944986e-01,  3.60386875e-01,  1.20572401e+00,  1.30325067e+00,\n",
       "       -8.10046180e-01,  8.34945073e-01, -1.98672002e+00, -1.62546658e+00,\n",
       "       -1.05274398e-02, -5.70521971e-01,  9.41804466e-02,  1.01880100e+00,\n",
       "       -1.26344387e+00,  1.13046314e-01,  2.56425895e-01, -6.27587552e-01,\n",
       "       -7.08543566e-01,  1.24932101e+00, -1.52183518e-02, -8.72424096e-01,\n",
       "       -1.59784297e+00,  1.66191470e-02,  1.26984618e+00, -1.48183265e-01,\n",
       "        2.89212154e-01,  1.58494262e-01,  1.19672726e+00, -1.23744060e+00,\n",
       "       -8.96593515e-02,  2.45372689e-01,  1.37767003e-01, -3.02434157e+00,\n",
       "       -1.00022638e+00,  2.11997431e+00,  3.54249575e-01,  7.60148585e-01,\n",
       "        3.48546101e-01, -2.37861693e-01, -5.36084795e-01, -3.30363534e-01,\n",
       "        3.29555349e-01, -1.22743462e+00,  9.00935124e-01, -4.09176603e-01,\n",
       "        8.85406762e-01,  7.50850623e-01, -1.54426088e+00, -2.92461745e-01,\n",
       "       -1.26110526e+00, -2.15942846e-01, -8.64487754e-01, -1.01459166e+00,\n",
       "        7.90168634e-01,  1.04127139e+00, -8.88134137e-01,  5.29640002e-01,\n",
       "        1.75972927e-01,  6.75473902e-01, -6.64032998e-01,  4.20419279e-01,\n",
       "        2.85058651e-01, -2.81503026e-01, -1.42442863e-01,  2.13687630e+00,\n",
       "        1.14224694e+00,  1.64734669e+00,  9.57311792e-01,  3.19354219e-01,\n",
       "       -9.27503716e-01, -2.90033963e-02, -2.13211964e-01, -3.25785003e+00,\n",
       "        2.20790427e+00,  2.25073730e-01,  3.09261153e-01,  7.76994479e-03,\n",
       "        1.78123239e+00,  1.19344736e+00,  1.02936791e+00, -3.13367608e-01,\n",
       "       -1.26441679e-02, -1.46457183e+00,  1.07652274e+00,  1.36133365e+00,\n",
       "       -9.93186081e-01,  1.54499279e+00, -4.70528938e-01, -2.19524920e-01,\n",
       "       -8.95117083e-01, -4.90921879e-01, -3.55843902e-01,  3.67121397e-01,\n",
       "       -5.59466261e-01,  1.64964824e+00,  6.20152550e-01, -8.93171730e-02,\n",
       "       -8.20128577e-01, -5.89458559e-01, -5.53392379e-01,  3.29157084e-01,\n",
       "       -8.10346706e-01, -3.25126140e-01, -1.08497147e+00,  1.25016353e+00,\n",
       "       -4.00108464e-01, -1.30017172e+00, -8.13690623e-01, -1.00454120e+00,\n",
       "       -6.38260080e-01,  1.06934520e+00, -4.88611588e-01, -2.22069829e-01,\n",
       "        1.25737811e+00, -4.89574551e-01,  7.55111105e-01,  1.21330420e+00,\n",
       "       -1.24575152e+00,  3.98899086e-01,  3.01009467e-01,  4.96491693e-01,\n",
       "       -1.19120519e+00, -8.99499649e-01,  1.01084804e+00,  4.66615079e-01,\n",
       "       -1.42601855e+00,  3.10824260e-01, -8.95712660e-02,  9.78304347e-01,\n",
       "        7.13635028e-01, -1.15312161e-01,  9.08018601e-01, -6.27029744e-01,\n",
       "       -2.22646294e-01,  1.27392202e+00,  9.09115062e-01, -3.31865280e-01,\n",
       "        1.75937284e+00,  6.96600064e-01,  8.18565907e-01, -1.23929812e+00,\n",
       "       -3.65889235e-01,  7.37689685e-01,  1.33440719e+00, -1.15790787e+00,\n",
       "        1.17782130e+00,  1.38916597e+00,  1.22806089e+00, -1.69857820e+00,\n",
       "       -1.48334776e+00, -1.53379289e+00,  4.88771900e-01,  1.17156712e+00,\n",
       "        7.36708598e-01,  2.90981638e-01, -4.31783866e-02,  2.86051684e-01,\n",
       "        1.47979573e+00, -7.63112727e-01,  1.37042288e+00,  4.15018192e-01,\n",
       "       -6.65758008e-01, -2.15049593e-01,  1.95732193e+00,  7.83972285e-01,\n",
       "        2.24424286e-01, -1.19590414e-02, -2.06758579e+00, -1.88680334e+00,\n",
       "       -7.46991182e-01,  5.65256125e-02, -6.26161035e-01, -5.17105041e-01,\n",
       "        4.09575325e-01, -2.73270292e-02,  7.95803136e-01, -2.94821804e-01,\n",
       "        1.23264713e+00,  8.31946356e-01, -3.66458297e-01,  2.39618966e-01,\n",
       "        1.70589636e-01,  2.81086104e-01,  3.25148182e-01,  2.29304947e+00,\n",
       "        5.77097890e-01,  5.62881145e-01, -1.41169499e+00, -1.88087854e-01,\n",
       "       -2.35379415e-01,  3.68374078e-01, -1.68409918e+00, -4.60098929e-01,\n",
       "       -1.38736157e+00, -9.64236061e-01,  9.64595034e-01, -1.14992303e-01,\n",
       "       -1.68494518e-01, -1.51870834e+00,  1.68283943e-01,  2.98786321e-01,\n",
       "       -7.46950260e-01,  1.19672855e-02, -1.07681355e+00,  4.27494974e-01,\n",
       "        6.43009374e-01,  2.27699618e-01,  1.61036423e-01, -2.06294626e-02,\n",
       "        3.06332041e-01, -9.88190660e-02, -5.43615950e-01,  3.46486735e-01,\n",
       "        9.44616055e-02, -1.59862269e+00, -5.29687120e-02, -5.16061567e-01,\n",
       "       -4.85436293e-01,  9.93612132e-01, -7.52621541e-01, -6.87859479e-01,\n",
       "        1.22302537e+00,  1.89466804e+00, -4.79625401e-01,  1.34291125e+00,\n",
       "        6.42735566e-02,  1.24553025e+00,  1.42633868e+00,  1.52513575e+00,\n",
       "       -5.88590244e-01,  5.06055790e-01, -9.91016627e-01, -2.63656982e-01,\n",
       "        2.35932039e+00,  1.83295055e+00, -7.50990236e-01,  8.38898835e-01,\n",
       "        7.19571330e-01,  1.65249083e+00,  8.02231856e-01,  1.37459457e+00,\n",
       "        1.42174729e+00, -2.18982480e+00,  2.34369715e-01,  9.03771596e-02,\n",
       "       -5.60532711e-01,  1.40815448e-01, -4.97342109e-01, -5.52691703e-01,\n",
       "        1.38585850e-01,  7.45781718e-01,  3.04079537e-02,  9.48218764e-01,\n",
       "        1.39915758e-01, -4.77980556e-01, -1.07278150e+00, -3.49690416e-02,\n",
       "        2.15884902e-01, -1.61114562e+00, -4.81207683e-01,  8.87517417e-01,\n",
       "       -7.24592434e-01, -6.56428741e-02,  8.23989450e-01,  1.48211808e+00,\n",
       "       -2.25123466e-01, -2.29588600e-01, -3.47344555e-01, -1.21916117e+00,\n",
       "       -5.42752649e-01, -8.03495980e-01,  8.71865986e-01,  1.14140841e+00,\n",
       "       -3.82703936e-01, -1.38589656e+00,  3.33555092e-01, -7.83887161e-01,\n",
       "       -3.64711552e-01,  1.58057306e+00,  2.40932311e-02,  9.90127066e-01,\n",
       "       -4.26027720e-01, -9.75271840e-02,  1.14970753e+00,  7.35242612e-01,\n",
       "        1.32570562e+00, -8.19567539e-01, -1.40753337e-01, -7.03490038e-01,\n",
       "       -1.18896246e+00,  1.53098536e+00, -5.59858166e-01,  9.89202719e-01,\n",
       "       -4.64956293e-01, -1.57030700e+00, -6.49762543e-01, -1.13620453e+00,\n",
       "       -3.17663428e+00,  8.60252606e-01,  4.17710732e-01, -8.83399577e-02,\n",
       "        7.86967698e-01, -2.01792601e-01,  1.19944289e+00, -1.42073872e+00,\n",
       "        1.64191423e-01, -2.14074762e+00,  4.63042940e-01, -7.87888940e-01,\n",
       "        6.97706886e-01, -1.40356881e-01,  4.18371272e-01,  6.46897009e-01,\n",
       "       -1.99413860e+00, -3.16060192e-01,  2.56528489e-02, -4.64567303e-01,\n",
       "       -1.07737372e+00, -2.12985339e-01, -2.07374997e-02, -1.02803313e+00,\n",
       "       -4.78402463e-01, -8.57087149e-01, -2.08110561e+00, -1.06676883e+00,\n",
       "       -5.30985293e-01, -1.74066843e+00, -6.02122400e-01, -3.99993872e-01,\n",
       "        6.64226006e-01,  2.06311428e-01, -1.13457260e+00,  1.71596557e-01,\n",
       "        3.53909375e-01,  1.90040123e-01,  7.37038719e-01, -5.18712252e-01,\n",
       "        6.87893727e-02,  2.50152143e-02, -5.62690318e-01,  5.64863967e-01,\n",
       "        9.25389713e-01, -2.38390228e-01, -1.25133365e+00,  2.34180833e+00,\n",
       "       -3.75616126e-01,  1.04629248e+00, -2.80567476e-01,  6.31352989e-01,\n",
       "        5.99457009e-01,  1.29022011e-01,  5.83213287e-01, -7.63399452e-01,\n",
       "       -7.19282887e-01,  1.87979284e+00,  1.68533849e+00, -1.00150950e-01,\n",
       "       -1.18217098e+00,  3.34951232e+00, -6.47267333e-01,  8.50471219e-01,\n",
       "       -4.50670243e-01,  5.86851898e-01,  6.43790887e-01, -3.08724830e-03,\n",
       "        4.64097845e-01, -2.93042128e-02,  1.98338410e+00, -8.24441382e-01,\n",
       "       -1.48905203e+00,  3.97838229e-01,  1.33092895e+00,  1.13581978e-01,\n",
       "        1.83510671e-01,  4.03604914e-01,  1.14460685e+00, -1.50800765e+00,\n",
       "        2.98763805e-01, -1.30682230e+00, -2.38085789e-01,  3.62742460e-01,\n",
       "       -9.10947919e-01, -2.35803893e-01, -5.26642064e-01,  1.30363305e-01,\n",
       "       -7.43621575e-02, -1.85861872e+00,  9.78672357e-01, -1.80273577e+00,\n",
       "       -1.68936278e+00,  6.33189400e-01, -6.54377160e-01, -9.36080931e-01,\n",
       "        9.84839520e-02,  1.04763009e+00,  3.42799049e-01, -2.78084505e-01,\n",
       "        2.06427818e-01, -2.28681619e+00, -3.93934676e-01,  9.40178939e-01,\n",
       "        1.37455693e+00,  7.50261839e-01,  7.87484430e-01,  1.30854939e+00,\n",
       "        2.23477370e+00,  5.92062658e-01, -2.58200128e+00, -1.66066858e-03,\n",
       "       -4.38905349e-01,  7.25460054e-01,  1.37543145e+00, -7.12843379e-02,\n",
       "       -6.42713105e-03,  6.99879301e-01,  1.12526853e+00,  5.25407719e-01,\n",
       "        1.00680177e-01,  7.85903805e-01, -1.53536936e-01, -1.23172828e+00,\n",
       "        2.54624666e+00,  8.24592593e-02,  1.16322157e+00, -1.94208158e+00,\n",
       "       -7.91633095e-01, -9.02572766e-02, -1.02968179e+00, -3.49500045e-02,\n",
       "       -1.16023170e+00, -1.56871302e+00, -1.14445617e+00, -1.39813914e+00,\n",
       "       -1.04862287e-01,  1.94234515e+00, -5.27590455e-01,  3.54328635e-01,\n",
       "        7.93936046e-01, -2.71716851e-01,  1.63649439e+00, -6.18406718e-01,\n",
       "        4.33790383e-02, -6.04958289e-01, -3.69736998e-01,  2.30557298e+00,\n",
       "        4.25174613e-01, -9.39619205e-01, -1.05678471e+00,  3.85545818e-01,\n",
       "        7.82320293e-01,  1.46098464e-01, -3.98871894e-02,  1.03162312e+00,\n",
       "        2.51639917e-01,  1.17535725e+00, -1.59755122e+00, -8.05205248e-01,\n",
       "        2.05423729e+00,  1.58317668e-01, -2.31476651e-01,  3.70820764e-01,\n",
       "       -4.64106032e-01, -9.67830641e-01, -1.70371049e+00,  2.29294486e+00,\n",
       "       -3.96644033e-01, -5.32834570e-01, -8.55567294e-01,  2.57556204e-01,\n",
       "       -5.94417279e-01, -1.69933803e+00, -9.86917946e-01, -2.05106824e-01,\n",
       "       -1.96071331e-01, -4.03225162e-01,  1.37697245e-01, -7.04428932e-01,\n",
       "       -3.06984093e-01,  6.94571144e-01, -2.27338277e-01,  1.15695685e+00,\n",
       "       -6.08109258e-01, -8.17163027e-01, -7.47446305e-01,  1.54387065e+00,\n",
       "       -4.88872187e-01, -9.39449454e-01,  9.97899226e-01, -1.37937865e+00,\n",
       "       -1.06213901e+00,  1.44875380e+00,  1.83764055e-01, -8.95046042e-01,\n",
       "       -1.03418006e+00, -7.57070188e-01,  9.93993340e-02,  3.83779201e-01,\n",
       "        4.85288913e-01, -4.01875330e-01, -1.62881176e+00,  2.87601596e-01,\n",
       "       -2.92857869e-01,  1.06154702e+00,  1.96759117e-01,  3.09606162e+00,\n",
       "        1.04983702e+00, -2.59244963e-03,  1.71948622e+00, -6.49872111e-02,\n",
       "        1.13436342e-01, -6.41643210e-01,  1.09351375e-01, -1.33736929e+00,\n",
       "        1.32014586e+00,  8.49431105e-01, -2.37462088e-01,  9.55967899e-01,\n",
       "        1.28010464e+00,  1.92967572e+00,  1.42749246e+00, -9.55622931e-01,\n",
       "       -2.90936388e-01, -7.10606459e-01, -3.89417685e-01,  1.73367844e+00,\n",
       "        1.04617248e+00,  2.16084068e+00, -5.17848341e-01, -1.51784172e-02,\n",
       "       -9.19781327e-01,  3.28993712e-01, -1.56165858e+00, -9.48694157e-01,\n",
       "        1.48608506e+00, -1.75513975e+00, -1.11756387e+00,  1.29487907e+00,\n",
       "       -1.94264588e+00,  2.07694358e-01,  1.25208188e+00,  2.51895888e-01,\n",
       "       -8.41466885e-02, -7.86817505e-01,  6.62470963e-02,  1.53442238e-01,\n",
       "        1.13526688e+00,  1.93782586e+00, -2.70868887e-01, -1.20234118e+00,\n",
       "        3.08197784e-01,  1.62691901e+00,  4.35062450e-01, -6.88372827e-01,\n",
       "        3.52501124e-01, -5.67519500e-01, -2.64472883e+00,  3.65658062e-01,\n",
       "       -6.95412921e-01,  6.45637341e-01, -9.42657705e-01,  2.96208267e-01,\n",
       "       -2.55376164e-01, -3.49618996e-01,  3.50584306e-01,  3.44144833e-01,\n",
       "        6.88121319e-01, -1.03449790e+00, -2.50688019e-01,  3.71939268e-01,\n",
       "        5.67777003e-01,  3.19359432e-01, -3.27306410e-01, -8.58983668e-01,\n",
       "       -5.75371986e-01,  4.97293008e-01,  5.24294171e-01,  2.48475519e-01,\n",
       "        8.05549255e-01,  2.41514403e-01,  1.29081959e-01,  8.26213241e-03,\n",
       "       -5.50303726e-01,  1.43023065e-01, -1.20504539e+00,  2.59388721e+00,\n",
       "       -1.09429508e+00, -9.63547823e-01, -8.16910157e-01, -2.22865878e+00,\n",
       "        1.79231854e-01,  2.87231497e-01,  2.98731350e-01,  2.23565433e-02,\n",
       "        1.93399924e-01,  9.38249405e-01, -5.12218936e-01,  1.88125877e+00,\n",
       "        2.69359431e-01, -2.82659276e-01,  3.51653631e-01,  3.28744044e-01,\n",
       "       -2.42988382e-01,  8.07499340e-01,  1.73484413e+00, -1.07198642e-01,\n",
       "        7.87212856e-02, -5.83651611e-01, -8.96247607e-01,  3.10648662e-01,\n",
       "        2.43149377e-01,  9.85166197e-01,  5.78401462e-01, -1.70383236e+00,\n",
       "        2.20297458e-01, -6.95606483e-01, -1.92661706e+00, -2.84830977e-01,\n",
       "       -5.31275768e-01, -1.24413505e+00, -6.56204776e-01,  4.90435011e-01,\n",
       "        1.94898297e+00,  4.50062402e-01,  7.27788171e-01,  1.00955115e+00,\n",
       "        1.66012870e+00,  1.51225026e-01,  1.02403345e+00,  5.28921129e-01,\n",
       "       -9.11466640e-01,  1.10189994e-01, -1.84273451e+00,  2.93820288e+00,\n",
       "       -1.88791761e+00, -6.24307004e-01, -1.74184640e+00, -1.04795570e+00,\n",
       "        6.60507325e-01, -1.07307775e+00,  6.30512871e-01, -1.09274998e+00,\n",
       "       -1.07855961e-01, -1.06460789e+00, -8.47977785e-01, -6.01265054e-02,\n",
       "        9.30418591e-01,  1.35747227e+00,  1.21467440e+00, -1.57337400e-01,\n",
       "       -8.47058174e-01,  3.79578231e-02, -2.25961754e-01, -5.11115265e-01,\n",
       "       -1.92058184e-02,  1.50293120e-01,  1.01495064e-01, -9.91139454e-01,\n",
       "        1.24083588e+00, -1.09000150e+00,  6.70445337e-01,  1.33902267e+00,\n",
       "        1.36540550e+00,  5.18827000e-01,  5.08624435e-02,  1.60891891e-01,\n",
       "        7.11571219e-01,  1.65406562e+00,  1.87089608e+00, -6.44538515e-01,\n",
       "        3.86299744e-01,  9.12757186e-02,  7.82732911e-01, -2.07298908e-01,\n",
       "       -1.86802887e+00,  1.05841376e+00,  7.12054517e-01, -4.92786367e-02,\n",
       "        1.41800610e+00, -7.77888271e-01,  1.23432415e+00, -1.07078637e+00,\n",
       "       -2.93738651e-01,  1.05389003e+00,  4.35641657e-01,  2.66473294e-01,\n",
       "       -9.23453548e-01,  8.75619074e-01, -1.66995995e+00,  6.43381259e-01,\n",
       "        2.83482669e-01,  7.59327651e-01,  9.41055303e-01, -5.18097069e-01,\n",
       "       -1.30022936e+00, -7.55631060e-02, -9.80144332e-01, -1.23841131e+00,\n",
       "        8.38363736e-01,  9.39352119e-01, -6.63434890e-01,  8.50253111e-01,\n",
       "       -5.53134248e-01, -8.93113541e-01,  1.80423551e-01, -1.40819767e-01,\n",
       "        8.31801320e-02,  1.26653626e+00, -1.74324404e+00,  3.03774946e-01,\n",
       "       -3.92546508e-01, -6.25915925e-01,  9.62248545e-01, -5.97838978e-01,\n",
       "        1.74831539e+00, -5.58757645e-01, -7.20316942e-01,  1.43246651e+00,\n",
       "       -2.24951180e-01, -1.67036765e-01, -5.03837908e-01, -1.26274581e+00,\n",
       "       -1.46554874e+00,  5.12953728e-01, -8.79866327e-01,  1.10388042e+00,\n",
       "       -5.14087263e-01, -4.51304887e-01, -1.73634037e+00, -2.74301267e-01,\n",
       "        1.51386189e-01,  2.88733084e-01, -1.06640604e+00,  2.46800468e+00,\n",
       "        1.68635449e+00,  4.47071024e-01,  8.31879133e-01,  9.17039219e-01,\n",
       "        1.42103555e-01,  7.28167480e-01, -7.46709176e-01,  4.07199183e-01,\n",
       "        5.90857669e-01,  2.10981084e-01, -7.87682197e-01, -4.83274171e-01,\n",
       "       -5.31604835e-01, -4.37292669e-01,  6.70891201e-02,  7.69827810e-01,\n",
       "        9.43603018e-01, -7.57516473e-01, -2.93278615e-01,  2.80979190e-01,\n",
       "        4.11621751e-01, -1.11694427e+00, -6.82970655e-01, -1.65181307e-01,\n",
       "       -1.60176311e-01,  6.10271794e-01,  6.97542623e-01, -3.88726965e-01,\n",
       "        1.92152937e+00,  5.52739928e-01, -2.40586729e+00,  5.07521219e-02,\n",
       "       -1.17678704e+00, -4.14587498e-01,  1.79235912e+00,  7.61231881e-01,\n",
       "       -1.40395191e+00, -6.32062368e-01, -1.41037186e-01, -1.34903450e+00,\n",
       "        3.82274837e-02, -1.20986252e+00, -5.67209939e-01, -1.51724530e-01,\n",
       "       -9.08358836e-01,  2.94498877e+00, -1.55651119e+00, -1.28202931e-01,\n",
       "        1.31240071e-01, -3.38463975e-01, -1.57341929e+00,  2.44680471e-01,\n",
       "       -1.08400707e-01, -2.22081170e-01, -3.18890467e-01,  4.35176841e-01,\n",
       "       -3.30584372e-01, -1.50922975e+00, -1.42031254e+00, -4.21140190e-01,\n",
       "        9.41653038e-02, -2.06715221e+00, -1.80285091e+00,  7.92986367e-02,\n",
       "        2.03801677e-01, -4.94121241e-01,  1.69713299e+00, -2.04304689e-01,\n",
       "       -8.39281113e-01, -1.92681380e-01,  1.19091743e+00,  5.26496839e-01,\n",
       "       -2.03270106e-01, -9.36451882e-02, -6.94269570e-01,  2.03949521e+00,\n",
       "        8.76989710e-01,  1.59605741e+00, -6.65141993e-01,  1.08030585e-01,\n",
       "        6.50756817e-01,  9.11643904e-01,  9.35209965e-01,  8.45606337e-01,\n",
       "        2.55598271e+00, -4.16927640e-01,  6.07602228e-01,  1.51528860e+00,\n",
       "        9.82343090e-01, -2.88644180e-01, -7.11501563e-01,  7.18395507e-01,\n",
       "        1.42356142e+00, -9.75500005e-01, -1.77758765e+00, -3.22200518e-01,\n",
       "       -6.30682236e-01,  6.52872951e-01, -7.25932602e-01, -1.65775252e-01,\n",
       "        5.92938816e-01,  2.33399299e+00,  2.55692397e-01, -1.73643405e+00,\n",
       "       -4.23530808e-01,  1.60454807e+00,  1.03679107e+00, -4.62124671e-01,\n",
       "        2.98912955e-01, -9.54623226e-01, -1.24402681e-01, -7.31511565e-01])"
      ]
     },
     "execution_count": 95,
     "metadata": {},
     "output_type": "execute_result"
    }
   ],
   "source": [
    "#create an array of random normal numbers witha size of 1000\n",
    "sample = np.random.normal(size =1000)\n",
    "sample"
   ]
  },
  {
   "cell_type": "code",
   "execution_count": 96,
   "id": "46163cb0",
   "metadata": {},
   "outputs": [
    {
     "data": {
      "image/png": "[encoded data removed]",
      "text/plain": [
       "<Figure size 432x288 with 1 Axes>"
      ]
     },
     "metadata": {
      "needs_background": "light"
     },
     "output_type": "display_data"
    }
   ],
   "source": [
    "plt.plot(sample);"
   ]
  },
  {
   "cell_type": "code",
   "execution_count": 97,
   "id": "70cce155",
   "metadata": {},
   "outputs": [
    {
     "name": "stdout",
     "output_type": "stream",
     "text": [
      "Collecting CdfNote: you may need to restart the kernel to use updated packages.\n",
      "\n",
      "  Using cached CDF-0.32.tar.gz (859 kB)\n",
      "  Preparing metadata (setup.py): started\n",
      "  Preparing metadata (setup.py): finished with status 'done'\n",
      "Building wheels for collected packages: Cdf\n",
      "  Building wheel for Cdf (setup.py): started\n",
      "  Building wheel for Cdf (setup.py): finished with status 'error'\n",
      "  Running setup.py clean for Cdf\n",
      "Failed to build Cdf\n",
      "Installing collected packages: Cdf\n",
      "  Running setup.py install for Cdf: started\n",
      "  Running setup.py install for Cdf: finished with status 'error'\n"
     ]
    },
    {
     "name": "stderr",
     "output_type": "stream",
     "text": [
      "  error: subprocess-exited-with-error\n",
      "  \n",
      "  python setup.py bdist_wheel did not run successfully.\n",
      "  exit code: 1\n",
      "  \n",
      "  [19 lines of output]\n",
      "  running bdist_wheel\n",
      "  running build\n",
      "  running build_py\n",
      "  creating build\n",
      "  creating build\\lib.win-amd64-3.10\n",
      "  creating build\\lib.win-amd64-3.10\\cdf\n",
      "  copying cdf\\__init__.py -> build\\lib.win-amd64-3.10\\cdf\n",
      "  copying cdf\\standard.py -> build\\lib.win-amd64-3.10\\cdf\n",
      "  copying cdf\\interface.py -> build\\lib.win-amd64-3.10\\cdf\n",
      "  copying cdf\\framework.py -> build\\lib.win-amd64-3.10\\cdf\n",
      "  copying cdf\\attribute.py -> build\\lib.win-amd64-3.10\\cdf\n",
      "  copying cdf\\entry.py -> build\\lib.win-amd64-3.10\\cdf\n",
      "  copying cdf\\typing.py -> build\\lib.win-amd64-3.10\\cdf\n",
      "  creating build\\lib.win-amd64-3.10\\cdf\\istp\n",
      "  copying cdf\\istp\\__init__.py -> build\\lib.win-amd64-3.10\\cdf\\istp\n",
      "  copying cdf\\istp\\interface.py -> build\\lib.win-amd64-3.10\\cdf\\istp\n",
      "  running build_ext\n",
      "  building 'cdf.internal' extension\n",
      "  error: Microsoft Visual C++ 14.0 or greater is required. Get it with \"Microsoft C++ Build Tools\": https://visualstudio.microsoft.com/visual-cpp-build-tools/\n",
      "  [end of output]\n",
      "  \n",
      "  note: This error originates from a subprocess, and is likely not a problem with pip.\n",
      "  ERROR: Failed building wheel for Cdf\n",
      "  error: subprocess-exited-with-error\n",
      "  \n",
      "  Running setup.py install for Cdf did not run successfully.\n",
      "  exit code: 1\n",
      "  \n",
      "  [19 lines of output]\n",
      "  running install\n",
      "  running build\n",
      "  running build_py\n",
      "  creating build\n",
      "  creating build\\lib.win-amd64-3.10\n",
      "  creating build\\lib.win-amd64-3.10\\cdf\n",
      "  copying cdf\\__init__.py -> build\\lib.win-amd64-3.10\\cdf\n",
      "  copying cdf\\standard.py -> build\\lib.win-amd64-3.10\\cdf\n",
      "  copying cdf\\interface.py -> build\\lib.win-amd64-3.10\\cdf\n",
      "  copying cdf\\framework.py -> build\\lib.win-amd64-3.10\\cdf\n",
      "  copying cdf\\attribute.py -> build\\lib.win-amd64-3.10\\cdf\n",
      "  copying cdf\\entry.py -> build\\lib.win-amd64-3.10\\cdf\n",
      "  copying cdf\\typing.py -> build\\lib.win-amd64-3.10\\cdf\n",
      "  creating build\\lib.win-amd64-3.10\\cdf\\istp\n",
      "  copying cdf\\istp\\__init__.py -> build\\lib.win-amd64-3.10\\cdf\\istp\n",
      "  copying cdf\\istp\\interface.py -> build\\lib.win-amd64-3.10\\cdf\\istp\n",
      "  running build_ext\n",
      "  building 'cdf.internal' extension\n",
      "  error: Microsoft Visual C++ 14.0 or greater is required. Get it with \"Microsoft C++ Build Tools\": https://visualstudio.microsoft.com/visual-cpp-build-tools/\n",
      "  [end of output]\n",
      "  \n",
      "  note: This error originates from a subprocess, and is likely not a problem with pip.\n",
      "error: legacy-install-failure\n",
      "\n",
      "Encountered error while trying to install package.\n",
      "\n",
      "Cdf\n",
      "\n",
      "note: This is an issue with the package mentioned above, not pip.\n",
      "hint: See above for output from the failure.\n"
     ]
    }
   ],
   "source": [
    "pip install Cdf"
   ]
  },
  {
   "cell_type": "code",
   "execution_count": 98,
   "id": "f44fb701",
   "metadata": {},
   "outputs": [
    {
     "name": "stdout",
     "output_type": "stream",
     "text": [
      "Requirement already satisfied: Scipy in c:\\users\\pc\\appdata\\local\\programs\\python\\python310\\lib\\site-packages (1.9.0)Note: you may need to restart the kernel to use updated packages.\n",
      "\n",
      "Requirement already satisfied: numpy<1.25.0,>=1.18.5 in c:\\users\\pc\\appdata\\local\\programs\\python\\python310\\lib\\site-packages (from Scipy) (1.23.0)\n"
     ]
    }
   ],
   "source": [
    "pip install Scipy"
   ]
  },
  {
   "cell_type": "code",
   "execution_count": 99,
   "id": "3b5c3fb8",
   "metadata": {},
   "outputs": [],
   "source": [
    "from scipy.stats import norm"
   ]
  },
  {
   "cell_type": "code",
   "execution_count": 100,
   "id": "0bbde639",
   "metadata": {},
   "outputs": [
    {
     "data": {
      "image/png": "[encoded data removed]",
      "text/plain": [
       "<Figure size 432x288 with 1 Axes>"
      ]
     },
     "metadata": {
      "needs_background": "light"
     },
     "output_type": "display_data"
    }
   ],
   "source": [
    "xs = np.linspace(-3,3)\n",
    "ys = norm(0,1).cdf(xs)\n",
    "ys\n",
    "xs\n",
    "plt.plot(ys);\n",
    "plt.plot(xs);\n"
   ]
  },
  {
   "cell_type": "code",
   "execution_count": 101,
   "id": "48323283",
   "metadata": {},
   "outputs": [
    {
     "data": {
      "image/png": "[encoded data removed]",
      "text/plain": [
       "<Figure size 432x288 with 1 Axes>"
      ]
     },
     "metadata": {
      "needs_background": "light"
     },
     "output_type": "display_data"
    }
   ],
   "source": [
    "As = np.linspace(-4,1)\n",
    "Ds = norm(0,1).cdf(As)\n",
    "Ds\n",
    "As\n",
    "plt.plot(Ds);\n",
    "plt.plot(As);"
   ]
  },
  {
   "cell_type": "code",
   "execution_count": 102,
   "id": "93c93e84",
   "metadata": {},
   "outputs": [
    {
     "name": "stdout",
     "output_type": "stream",
     "text": [
      "Requirement already satisfied: Pdf in c:\\users\\pc\\appdata\\local\\programs\\python\\python310\\lib\\site-packages (2020.11.12)\n",
      "Requirement already satisfied: silverware in c:\\users\\pc\\appdata\\local\\programs\\python\\python310\\lib\\site-packages (from Pdf) (2020.11.12)\n",
      "Requirement already satisfied: chronometry in c:\\users\\pc\\appdata\\local\\programs\\python\\python310\\lib\\site-packages (from Pdf) (2020.11.12)\n",
      "Requirement already satisfied: nltk in c:\\users\\pc\\appdata\\local\\programs\\python\\python310\\lib\\site-packages (from Pdf) (3.7)\n",
      "Requirement already satisfied: disk in c:\\users\\pc\\appdata\\local\\programs\\python\\python310\\lib\\site-packages (from Pdf) (2021.6.29)\n",
      "Requirement already satisfied: pdftotree in c:\\users\\pc\\appdata\\local\\programs\\python\\python310\\lib\\site-packages (from Pdf) (0.5.0)\n",
      "Requirement already satisfied: pandas in c:\\users\\pc\\appdata\\local\\programs\\python\\python310\\lib\\site-packages (from Pdf) (1.4.3)\n",
      "Requirement already satisfied: pdfminer in c:\\users\\pc\\appdata\\local\\programs\\python\\python310\\lib\\site-packages (from Pdf) (20191125)\n",
      "Requirement already satisfied: bs4 in c:\\users\\pc\\appdata\\local\\programs\\python\\python310\\lib\\site-packages (from Pdf) (0.0.1)\n",
      "Requirement already satisfied: beautifulsoup4 in c:\\users\\pc\\appdata\\local\\programs\\python\\python310\\lib\\site-packages (from bs4->Pdf) (4.11.1)\n",
      "Requirement already satisfied: colouration in c:\\users\\pc\\appdata\\local\\programs\\python\\python310\\lib\\site-packages (from chronometry->Pdf) (2020.7.26)\n",
      "Requirement already satisfied: func-timeout in c:\\users\\pc\\appdata\\local\\programs\\python\\python310\\lib\\site-packages (from chronometry->Pdf) (4.3.5)\n",
      "Requirement already satisfied: numpy in c:\\users\\pc\\appdata\\local\\programs\\python\\python310\\lib\\site-packages (from chronometry->Pdf) (1.23.0)\n",
      "Requirement already satisfied: slytherin in c:\\users\\pc\\appdata\\local\\programs\\python\\python310\\lib\\site-packages (from chronometry->Pdf) (2020.11.12)\n",
      "Requirement already satisfied: matplotlib in c:\\users\\pc\\appdata\\local\\programs\\python\\python310\\lib\\site-packages (from chronometry->Pdf) (3.5.2)\n",
      "Requirement already satisfied: sklearn in c:\\users\\pc\\appdata\\local\\programs\\python\\python310\\lib\\site-packages (from chronometry->Pdf) (0.0)\n",
      "Requirement already satisfied: ravenclaw in c:\\users\\pc\\appdata\\local\\programs\\python\\python310\\lib\\site-packages (from chronometry->Pdf) (2020.11.12)\n",
      "Requirement already satisfied: dill in c:\\users\\pc\\appdata\\local\\programs\\python\\python310\\lib\\site-packages (from disk->Pdf) (0.3.6)\n",
      "Requirement already satisfied: send2trash in c:\\users\\pc\\appdata\\local\\programs\\python\\python310\\lib\\site-packages (from disk->Pdf) (1.8.0)\n",
      "Requirement already satisfied: regex>=2021.8.3 in c:\\users\\pc\\appdata\\local\\programs\\python\\python310\\lib\\site-packages (from nltk->Pdf) (2022.10.31)\n",
      "Requirement already satisfied: tqdm in c:\\users\\pc\\appdata\\local\\programs\\python\\python310\\lib\\site-packages (from nltk->Pdf) (4.64.1)\n",
      "Requirement already satisfied: click in c:\\users\\pc\\appdata\\local\\programs\\python\\python310\\lib\\site-packages (from nltk->Pdf) (8.1.3)\n",
      "Requirement already satisfied: joblib in c:\\users\\pc\\appdata\\local\\programs\\python\\python310\\lib\\site-packages (from nltk->Pdf) (1.1.0)\n",
      "Requirement already satisfied: python-dateutil>=2.8.1 in c:\\users\\pc\\appdata\\local\\programs\\python\\python310\\lib\\site-packages (from pandas->Pdf) (2.8.2)\n",
      "Requirement already satisfied: pytz>=2020.1 in c:\\users\\pc\\appdata\\local\\programs\\python\\python310\\lib\\site-packages (from pandas->Pdf) (2022.2)\n",
      "Requirement already satisfied: pycryptodome in c:\\users\\pc\\appdata\\local\\programs\\python\\python310\\lib\\site-packages (from pdfminer->Pdf) (3.15.0)\n",
      "Requirement already satisfied: tabula-py in c:\\users\\pc\\appdata\\local\\programs\\python\\python310\\lib\\site-packages (from pdftotree->Pdf) (2.5.1)\n",
      "Requirement already satisfied: wand in c:\\users\\pc\\appdata\\local\\programs\\python\\python310\\lib\\site-packages (from pdftotree->Pdf) (0.6.10)\n",
      "Requirement already satisfied: pdfminer.six>=20191020 in c:\\users\\pc\\appdata\\local\\programs\\python\\python310\\lib\\site-packages (from pdftotree->Pdf) (20220524)\n",
      "Requirement already satisfied: tensorflow>=2.2 in c:\\users\\pc\\appdata\\local\\programs\\python\\python310\\lib\\site-packages (from pdftotree->Pdf) (2.10.0)\n",
      "Requirement already satisfied: keras>=2.4.0 in c:\\users\\pc\\appdata\\local\\programs\\python\\python310\\lib\\site-packages (from pdftotree->Pdf) (2.10.0)\n",
      "Requirement already satisfied: selectivesearch in c:\\users\\pc\\appdata\\local\\programs\\python\\python310\\lib\\site-packages (from pdftotree->Pdf) (0.4)\n",
      "Requirement already satisfied: pillow in c:\\users\\pc\\appdata\\local\\programs\\python\\python310\\lib\\site-packages (from pdftotree->Pdf) (9.2.0)\n",
      "Requirement already satisfied: IPython in c:\\users\\pc\\appdata\\local\\programs\\python\\python310\\lib\\site-packages (from pdftotree->Pdf) (8.4.0)\n",
      "Requirement already satisfied: lxml in c:\\users\\pc\\appdata\\local\\programs\\python\\python310\\lib\\site-packages (from silverware->Pdf) (4.9.1)\n",
      "Requirement already satisfied: txt in c:\\users\\pc\\appdata\\local\\programs\\python\\python310\\lib\\site-packages (from silverware->Pdf) (2020.11.12)\n",
      "Requirement already satisfied: charset-normalizer>=2.0.0 in c:\\users\\pc\\appdata\\local\\programs\\python\\python310\\lib\\site-packages (from pdfminer.six>=20191020->pdftotree->Pdf) (2.1.1)\n",
      "Requirement already satisfied: cryptography>=36.0.0 in c:\\users\\pc\\appdata\\local\\programs\\python\\python310\\lib\\site-packages (from pdfminer.six>=20191020->pdftotree->Pdf) (38.0.3)\n",
      "Requirement already satisfied: six>=1.5 in c:\\users\\pc\\appdata\\local\\programs\\python\\python310\\lib\\site-packages (from python-dateutil>=2.8.1->pandas->Pdf) (1.16.0)\n",
      "Requirement already satisfied: grpcio<2.0,>=1.24.3 in c:\\users\\pc\\appdata\\local\\programs\\python\\python310\\lib\\site-packages (from tensorflow>=2.2->pdftotree->Pdf) (1.50.0)\n",
      "Requirement already satisfied: protobuf<3.20,>=3.9.2 in c:\\users\\pc\\appdata\\local\\programs\\python\\python310\\lib\\site-packages (from tensorflow>=2.2->pdftotree->Pdf) (3.19.6)\n",
      "Requirement already satisfied: tensorflow-estimator<2.11,>=2.10.0 in c:\\users\\pc\\appdata\\local\\programs\\python\\python310\\lib\\site-packages (from tensorflow>=2.2->pdftotree->Pdf) (2.10.0)\n",
      "Requirement already satisfied: google-pasta>=0.1.1 in c:\\users\\pc\\appdata\\local\\programs\\python\\python310\\lib\\site-packages (from tensorflow>=2.2->pdftotree->Pdf) (0.2.0)\n",
      "Requirement already satisfied: typing-extensions>=3.6.6 in c:\\users\\pc\\appdata\\local\\programs\\python\\python310\\lib\\site-packages (from tensorflow>=2.2->pdftotree->Pdf) (4.4.0)\n",
      "Requirement already satisfied: h5py>=2.9.0 in c:\\users\\pc\\appdata\\local\\programs\\python\\python310\\lib\\site-packages (from tensorflow>=2.2->pdftotree->Pdf) (3.7.0)\n",
      "Requirement already satisfied: libclang>=13.0.0 in c:\\users\\pc\\appdata\\local\\programs\\python\\python310\\lib\\site-packages (from tensorflow>=2.2->pdftotree->Pdf) (14.0.6)\n",
      "Requirement already satisfied: tensorboard<2.11,>=2.10 in c:\\users\\pc\\appdata\\local\\programs\\python\\python310\\lib\\site-packages (from tensorflow>=2.2->pdftotree->Pdf) (2.10.1)\n",
      "Requirement already satisfied: packaging in c:\\users\\pc\\appdata\\local\\programs\\python\\python310\\lib\\site-packages (from tensorflow>=2.2->pdftotree->Pdf) (21.3)\n",
      "Requirement already satisfied: astunparse>=1.6.0 in c:\\users\\pc\\appdata\\local\\programs\\python\\python310\\lib\\site-packages (from tensorflow>=2.2->pdftotree->Pdf) (1.6.3)\n",
      "Requirement already satisfied: tensorflow-io-gcs-filesystem>=0.23.1 in c:\\users\\pc\\appdata\\local\\programs\\python\\python310\\lib\\site-packages (from tensorflow>=2.2->pdftotree->Pdf) (0.27.0)\n",
      "Requirement already satisfied: opt-einsum>=2.3.2 in c:\\users\\pc\\appdata\\local\\programs\\python\\python310\\lib\\site-packages (from tensorflow>=2.2->pdftotree->Pdf) (3.3.0)\n",
      "Requirement already satisfied: flatbuffers>=2.0 in c:\\users\\pc\\appdata\\local\\programs\\python\\python310\\lib\\site-packages (from tensorflow>=2.2->pdftotree->Pdf) (22.10.26)\n",
      "Requirement already satisfied: keras-preprocessing>=1.1.1 in c:\\users\\pc\\appdata\\local\\programs\\python\\python310\\lib\\site-packages (from tensorflow>=2.2->pdftotree->Pdf) (1.1.2)\n",
      "Requirement already satisfied: setuptools in c:\\users\\pc\\appdata\\local\\programs\\python\\python310\\lib\\site-packages (from tensorflow>=2.2->pdftotree->Pdf) (58.1.0)\n",
      "Requirement already satisfied: wrapt>=1.11.0 in c:\\users\\pc\\appdata\\local\\programs\\python\\python310\\lib\\site-packages (from tensorflow>=2.2->pdftotree->Pdf) (1.14.1)\n",
      "Requirement already satisfied: termcolor>=1.1.0 in c:\\users\\pc\\appdata\\local\\programs\\python\\python310\\lib\\site-packages (from tensorflow>=2.2->pdftotree->Pdf) (2.1.0)\n",
      "Requirement already satisfied: absl-py>=1.0.0 in c:\\users\\pc\\appdata\\local\\programs\\python\\python310\\lib\\site-packages (from tensorflow>=2.2->pdftotree->Pdf) (1.3.0)\n",
      "Requirement already satisfied: gast<=0.4.0,>=0.2.1 in c:\\users\\pc\\appdata\\local\\programs\\python\\python310\\lib\\site-packages (from tensorflow>=2.2->pdftotree->Pdf) (0.4.0)\n",
      "Requirement already satisfied: soupsieve>1.2 in c:\\users\\pc\\appdata\\local\\programs\\python\\python310\\lib\\site-packages (from beautifulsoup4->bs4->Pdf) (2.3.2.post1)\n",
      "Requirement already satisfied: colorama in c:\\users\\pc\\appdata\\local\\programs\\python\\python310\\lib\\site-packages (from click->nltk->Pdf) (0.4.5)\n",
      "Requirement already satisfied: backcall in c:\\users\\pc\\appdata\\local\\programs\\python\\python310\\lib\\site-packages (from IPython->pdftotree->Pdf) (0.2.0)\n",
      "Requirement already satisfied: stack-data in c:\\users\\pc\\appdata\\local\\programs\\python\\python310\\lib\\site-packages (from IPython->pdftotree->Pdf) (0.3.0)\n",
      "Requirement already satisfied: traitlets>=5 in c:\\users\\pc\\appdata\\local\\programs\\python\\python310\\lib\\site-packages (from IPython->pdftotree->Pdf) (5.3.0)\n",
      "Requirement already satisfied: pygments>=2.4.0 in c:\\users\\pc\\appdata\\local\\programs\\python\\python310\\lib\\site-packages (from IPython->pdftotree->Pdf) (2.12.0)\n",
      "Requirement already satisfied: pickleshare in c:\\users\\pc\\appdata\\local\\programs\\python\\python310\\lib\\site-packages (from IPython->pdftotree->Pdf) (0.7.5)\n",
      "Requirement already satisfied: decorator in c:\\users\\pc\\appdata\\local\\programs\\python\\python310\\lib\\site-packages (from IPython->pdftotree->Pdf) (5.1.1)\n",
      "Requirement already satisfied: matplotlib-inline in c:\\users\\pc\\appdata\\local\\programs\\python\\python310\\lib\\site-packages (from IPython->pdftotree->Pdf) (0.1.3)\n",
      "Requirement already satisfied: jedi>=0.16 in c:\\users\\pc\\appdata\\local\\programs\\python\\python310\\lib\\site-packages (from IPython->pdftotree->Pdf) (0.18.1)\n",
      "Requirement already satisfied: prompt-toolkit!=3.0.0,!=3.0.1,<3.1.0,>=2.0.0 in c:\\users\\pc\\appdata\\local\\programs\\python\\python310\\lib\\site-packages (from IPython->pdftotree->Pdf) (3.0.30)\n",
      "Requirement already satisfied: fonttools>=4.22.0 in c:\\users\\pc\\appdata\\local\\programs\\python\\python310\\lib\\site-packages (from matplotlib->chronometry->Pdf) (4.34.4)\n",
      "Requirement already satisfied: cycler>=0.10 in c:\\users\\pc\\appdata\\local\\programs\\python\\python310\\lib\\site-packages (from matplotlib->chronometry->Pdf) (0.11.0)\n",
      "Requirement already satisfied: kiwisolver>=1.0.1 in c:\\users\\pc\\appdata\\local\\programs\\python\\python310\\lib\\site-packages (from matplotlib->chronometry->Pdf) (1.4.3)\n",
      "Requirement already satisfied: pyparsing>=2.2.1 in c:\\users\\pc\\appdata\\local\\programs\\python\\python310\\lib\\site-packages (from matplotlib->chronometry->Pdf) (3.0.9)\n",
      "Requirement already satisfied: fuzzywuzzy in c:\\users\\pc\\appdata\\local\\programs\\python\\python310\\lib\\site-packages (from ravenclaw->chronometry->Pdf) (0.18.0)\n",
      "Requirement already satisfied: SPARQLWrapper in c:\\users\\pc\\appdata\\local\\programs\\python\\python310\\lib\\site-packages (from ravenclaw->chronometry->Pdf) (2.0.0)\n",
      "Requirement already satisfied: scikit-image in c:\\users\\pc\\appdata\\local\\programs\\python\\python310\\lib\\site-packages (from selectivesearch->pdftotree->Pdf) (0.19.3)\n",
      "Requirement already satisfied: scikit-learn in c:\\users\\pc\\appdata\\local\\programs\\python\\python310\\lib\\site-packages (from sklearn->chronometry->Pdf) (1.1.2)\n",
      "Requirement already satisfied: base32hex in c:\\users\\pc\\appdata\\local\\programs\\python\\python310\\lib\\site-packages (from slytherin->chronometry->Pdf) (1.0.2)\n",
      "Requirement already satisfied: geopy in c:\\users\\pc\\appdata\\local\\programs\\python\\python310\\lib\\site-packages (from slytherin->chronometry->Pdf) (2.2.0)\n",
      "Requirement already satisfied: distro in c:\\users\\pc\\appdata\\local\\programs\\python\\python310\\lib\\site-packages (from tabula-py->pdftotree->Pdf) (1.8.0)\n",
      "Requirement already satisfied: wheel<1.0,>=0.23.0 in c:\\users\\pc\\appdata\\local\\programs\\python\\python310\\lib\\site-packages (from astunparse>=1.6.0->tensorflow>=2.2->pdftotree->Pdf) (0.38.1)\n",
      "Requirement already satisfied: cffi>=1.12 in c:\\users\\pc\\appdata\\local\\programs\\python\\python310\\lib\\site-packages (from cryptography>=36.0.0->pdfminer.six>=20191020->pdftotree->Pdf) (1.15.1)\n",
      "Requirement already satisfied: parso<0.9.0,>=0.8.0 in c:\\users\\pc\\appdata\\local\\programs\\python\\python310\\lib\\site-packages (from jedi>=0.16->IPython->pdftotree->Pdf) (0.8.3)\n",
      "Requirement already satisfied: wcwidth in c:\\users\\pc\\appdata\\local\\programs\\python\\python310\\lib\\site-packages (from prompt-toolkit!=3.0.0,!=3.0.1,<3.1.0,>=2.0.0->IPython->pdftotree->Pdf) (0.2.5)\n",
      "Requirement already satisfied: google-auth<3,>=1.6.3 in c:\\users\\pc\\appdata\\local\\programs\\python\\python310\\lib\\site-packages (from tensorboard<2.11,>=2.10->tensorflow>=2.2->pdftotree->Pdf) (2.14.0)\n",
      "Requirement already satisfied: markdown>=2.6.8 in c:\\users\\pc\\appdata\\local\\programs\\python\\python310\\lib\\site-packages (from tensorboard<2.11,>=2.10->tensorflow>=2.2->pdftotree->Pdf) (3.4.1)\n",
      "Requirement already satisfied: google-auth-oauthlib<0.5,>=0.4.1 in c:\\users\\pc\\appdata\\local\\programs\\python\\python310\\lib\\site-packages (from tensorboard<2.11,>=2.10->tensorflow>=2.2->pdftotree->Pdf) (0.4.6)\n",
      "Requirement already satisfied: requests<3,>=2.21.0 in c:\\users\\pc\\appdata\\local\\programs\\python\\python310\\lib\\site-packages (from tensorboard<2.11,>=2.10->tensorflow>=2.2->pdftotree->Pdf) (2.28.1)\n",
      "Requirement already satisfied: tensorboard-plugin-wit>=1.6.0 in c:\\users\\pc\\appdata\\local\\programs\\python\\python310\\lib\\site-packages (from tensorboard<2.11,>=2.10->tensorflow>=2.2->pdftotree->Pdf) (1.8.1)\n",
      "Requirement already satisfied: werkzeug>=1.0.1 in c:\\users\\pc\\appdata\\local\\programs\\python\\python310\\lib\\site-packages (from tensorboard<2.11,>=2.10->tensorflow>=2.2->pdftotree->Pdf) (2.2.2)\n",
      "Requirement already satisfied: tensorboard-data-server<0.7.0,>=0.6.0 in c:\\users\\pc\\appdata\\local\\programs\\python\\python310\\lib\\site-packages (from tensorboard<2.11,>=2.10->tensorflow>=2.2->pdftotree->Pdf) (0.6.1)\n",
      "Requirement already satisfied: geographiclib<2,>=1.49 in c:\\users\\pc\\appdata\\local\\programs\\python\\python310\\lib\\site-packages (from geopy->slytherin->chronometry->Pdf) (1.52)\n",
      "Requirement already satisfied: tifffile>=2019.7.26 in c:\\users\\pc\\appdata\\local\\programs\\python\\python310\\lib\\site-packages (from scikit-image->selectivesearch->pdftotree->Pdf) (2022.10.10)\n",
      "Requirement already satisfied: scipy>=1.4.1 in c:\\users\\pc\\appdata\\local\\programs\\python\\python310\\lib\\site-packages (from scikit-image->selectivesearch->pdftotree->Pdf) (1.9.0)\n",
      "Requirement already satisfied: networkx>=2.2 in c:\\users\\pc\\appdata\\local\\programs\\python\\python310\\lib\\site-packages (from scikit-image->selectivesearch->pdftotree->Pdf) (2.8.8)\n",
      "Requirement already satisfied: PyWavelets>=1.1.1 in c:\\users\\pc\\appdata\\local\\programs\\python\\python310\\lib\\site-packages (from scikit-image->selectivesearch->pdftotree->Pdf) (1.4.1)\n",
      "Requirement already satisfied: imageio>=2.4.1 in c:\\users\\pc\\appdata\\local\\programs\\python\\python310\\lib\\site-packages (from scikit-image->selectivesearch->pdftotree->Pdf) (2.22.3)\n",
      "Requirement already satisfied: threadpoolctl>=2.0.0 in c:\\users\\pc\\appdata\\local\\programs\\python\\python310\\lib\\site-packages (from scikit-learn->sklearn->chronometry->Pdf) (3.1.0)\n",
      "Requirement already satisfied: rdflib>=6.1.1 in c:\\users\\pc\\appdata\\local\\programs\\python\\python310\\lib\\site-packages (from SPARQLWrapper->ravenclaw->chronometry->Pdf) (6.2.0)\n",
      "Requirement already satisfied: pure-eval in c:\\users\\pc\\appdata\\local\\programs\\python\\python310\\lib\\site-packages (from stack-data->IPython->pdftotree->Pdf) (0.2.2)\n",
      "Requirement already satisfied: executing in c:\\users\\pc\\appdata\\local\\programs\\python\\python310\\lib\\site-packages (from stack-data->IPython->pdftotree->Pdf) (0.8.3)\n",
      "Requirement already satisfied: asttokens in c:\\users\\pc\\appdata\\local\\programs\\python\\python310\\lib\\site-packages (from stack-data->IPython->pdftotree->Pdf) (2.0.5)\n",
      "Requirement already satisfied: pycparser in c:\\users\\pc\\appdata\\local\\programs\\python\\python310\\lib\\site-packages (from cffi>=1.12->cryptography>=36.0.0->pdfminer.six>=20191020->pdftotree->Pdf) (2.21)\n",
      "Requirement already satisfied: cachetools<6.0,>=2.0.0 in c:\\users\\pc\\appdata\\local\\programs\\python\\python310\\lib\\site-packages (from google-auth<3,>=1.6.3->tensorboard<2.11,>=2.10->tensorflow>=2.2->pdftotree->Pdf) (5.2.0)\n",
      "Requirement already satisfied: rsa<5,>=3.1.4 in c:\\users\\pc\\appdata\\local\\programs\\python\\python310\\lib\\site-packages (from google-auth<3,>=1.6.3->tensorboard<2.11,>=2.10->tensorflow>=2.2->pdftotree->Pdf) (4.9)\n",
      "Requirement already satisfied: pyasn1-modules>=0.2.1 in c:\\users\\pc\\appdata\\local\\programs\\python\\python310\\lib\\site-packages (from google-auth<3,>=1.6.3->tensorboard<2.11,>=2.10->tensorflow>=2.2->pdftotree->Pdf) (0.2.8)\n",
      "Requirement already satisfied: requests-oauthlib>=0.7.0 in c:\\users\\pc\\appdata\\local\\programs\\python\\python310\\lib\\site-packages (from google-auth-oauthlib<0.5,>=0.4.1->tensorboard<2.11,>=2.10->tensorflow>=2.2->pdftotree->Pdf) (1.3.1)\n",
      "Requirement already satisfied: isodate in c:\\users\\pc\\appdata\\local\\programs\\python\\python310\\lib\\site-packages (from rdflib>=6.1.1->SPARQLWrapper->ravenclaw->chronometry->Pdf) (0.6.1)\n",
      "Requirement already satisfied: idna<4,>=2.5 in c:\\users\\pc\\appdata\\local\\programs\\python\\python310\\lib\\site-packages (from requests<3,>=2.21.0->tensorboard<2.11,>=2.10->tensorflow>=2.2->pdftotree->Pdf) (3.4)\n",
      "Requirement already satisfied: certifi>=2017.4.17 in c:\\users\\pc\\appdata\\local\\programs\\python\\python310\\lib\\site-packages (from requests<3,>=2.21.0->tensorboard<2.11,>=2.10->tensorflow>=2.2->pdftotree->Pdf) (2022.9.24)\n",
      "Requirement already satisfied: urllib3<1.27,>=1.21.1 in c:\\users\\pc\\appdata\\local\\programs\\python\\python310\\lib\\site-packages (from requests<3,>=2.21.0->tensorboard<2.11,>=2.10->tensorflow>=2.2->pdftotree->Pdf) (1.26.12)\n",
      "Requirement already satisfied: MarkupSafe>=2.1.1 in c:\\users\\pc\\appdata\\local\\programs\\python\\python310\\lib\\site-packages (from werkzeug>=1.0.1->tensorboard<2.11,>=2.10->tensorflow>=2.2->pdftotree->Pdf) (2.1.1)\n",
      "Requirement already satisfied: pyasn1<0.5.0,>=0.4.6 in c:\\users\\pc\\appdata\\local\\programs\\python\\python310\\lib\\site-packages (from pyasn1-modules>=0.2.1->google-auth<3,>=1.6.3->tensorboard<2.11,>=2.10->tensorflow>=2.2->pdftotree->Pdf) (0.4.8)\n",
      "Requirement already satisfied: oauthlib>=3.0.0 in c:\\users\\pc\\appdata\\local\\programs\\python\\python310\\lib\\site-packages (from requests-oauthlib>=0.7.0->google-auth-oauthlib<0.5,>=0.4.1->tensorboard<2.11,>=2.10->tensorflow>=2.2->pdftotree->Pdf) (3.2.2)\n",
      "Note: you may need to restart the kernel to use updated packages.\n"
     ]
    }
   ],
   "source": [
    "pip install Pdf"
   ]
  },
  {
   "cell_type": "code",
   "execution_count": 103,
   "id": "0004f9cb",
   "metadata": {},
   "outputs": [
    {
     "ename": "NameError",
     "evalue": "name 'Pdf' is not defined",
     "output_type": "error",
     "traceback": [
      "\u001b[1;31m---------------------------------------------------------------------------\u001b[0m",
      "\u001b[1;31mNameError\u001b[0m                                 Traceback (most recent call last)",
      "Input \u001b[1;32mIn [103]\u001b[0m, in \u001b[0;36m<cell line: 2>\u001b[1;34m()\u001b[0m\n\u001b[0;32m      1\u001b[0m As \u001b[38;5;241m=\u001b[39m np\u001b[38;5;241m.\u001b[39mlinspace(\u001b[38;5;241m-\u001b[39m\u001b[38;5;241m4\u001b[39m,\u001b[38;5;241m1\u001b[39m)\n\u001b[1;32m----> 2\u001b[0m Ds \u001b[38;5;241m=\u001b[39m \u001b[43mPdf\u001b[49m(As)\n\u001b[0;32m      3\u001b[0m Ds\n\u001b[0;32m      4\u001b[0m As\n",
      "\u001b[1;31mNameError\u001b[0m: name 'Pdf' is not defined"
     ]
    }
   ],
   "source": [
    "As = np.linspace(-4,1)\n",
    "Ds = Pdf(As)\n",
    "Ds\n",
    "As\n",
    "plt.plot(Ds);\n",
    "plt.plot(As);"
   ]
  },
  {
   "cell_type": "markdown",
   "id": "d67fc5ce",
   "metadata": {},
   "source": [
    "# Kernel Density Plot(KDE)"
   ]
  },
  {
   "cell_type": "code",
   "execution_count": null,
   "id": "a0451179",
   "metadata": {},
   "outputs": [],
   "source": [
    "import seaborn as sns"
   ]
  },
  {
   "cell_type": "code",
   "execution_count": null,
   "id": "a982dbd0",
   "metadata": {},
   "outputs": [],
   "source": [
    "sns.kdeplot(sample);"
   ]
  },
  {
   "cell_type": "code",
   "execution_count": null,
   "id": "8f83d00e",
   "metadata": {},
   "outputs": [],
   "source": [
    "sns.kdeplot(sample);\n",
    "plt.plot(xs,ys);\n"
   ]
  },
  {
   "cell_type": "markdown",
   "id": "d1fafaed",
   "metadata": {},
   "source": [
    "# Relationships"
   ]
  },
  {
   "cell_type": "code",
   "execution_count": null,
   "id": "f53edfec",
   "metadata": {},
   "outputs": [],
   "source": []
  }
 ],
 "metadata": {
  "kernelspec": {
   "display_name": "Python 3 (ipykernel)",
   "language": "python",
   "name": "python3"
  },
  "language_info": {
   "codemirror_mode": {
    "name": "ipython",
    "version": 3
   },
   "file_extension": ".py",
   "mimetype": "text/x-python",
   "name": "python",
   "nbconvert_exporter": "python",
   "pygments_lexer": "ipython3",
   "version": "3.10.5"
  }
 },
 "nbformat": 4,
 "nbformat_minor": 5
}
