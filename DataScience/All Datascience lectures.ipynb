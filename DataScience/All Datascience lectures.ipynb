{
 "cells": [
  {
   "cell_type": "markdown",
   "id": "5a71b454",
   "metadata": {},
   "source": [
    "# Numbers\n",
    "Pyhton can work with several numbers but the common ones are int and float"
   ]
  },
  {
   "cell_type": "markdown",
   "id": "cd5f3412",
   "metadata": {},
   "source": [
    "# Arithmetic\n",
    "ie \n"
   ]
  },
  {
   "cell_type": "code",
   "execution_count": 21,
   "id": "17b412a3",
   "metadata": {},
   "outputs": [
    {
     "data": {
      "text/plain": [
       "2"
      ]
     },
     "execution_count": 21,
     "metadata": {},
     "output_type": "execute_result"
    }
   ],
   "source": [
    "#ADDITION AND SUBTRACTION\n",
    "3+1-2"
   ]
  },
  {
   "cell_type": "code",
   "execution_count": 22,
   "id": "ad5c7809",
   "metadata": {},
   "outputs": [
    {
     "data": {
      "text/plain": [
       "6"
      ]
     },
     "execution_count": 22,
     "metadata": {},
     "output_type": "execute_result"
    }
   ],
   "source": [
    "#MULTIPLICATION\n",
    "2*3"
   ]
  },
  {
   "cell_type": "code",
   "execution_count": 23,
   "id": "18673e74",
   "metadata": {},
   "outputs": [
    {
     "data": {
      "text/plain": [
       "2"
      ]
     },
     "execution_count": 23,
     "metadata": {},
     "output_type": "execute_result"
    }
   ],
   "source": [
    "#Modulus\n",
    "2%3"
   ]
  },
  {
   "cell_type": "code",
   "execution_count": 24,
   "id": "a1e07f1b",
   "metadata": {},
   "outputs": [
    {
     "data": {
      "text/plain": [
       "8"
      ]
     },
     "execution_count": 24,
     "metadata": {},
     "output_type": "execute_result"
    }
   ],
   "source": [
    "#EXPONENTIAL\n",
    "2**3"
   ]
  },
  {
   "cell_type": "code",
   "execution_count": 25,
   "id": "19e5ef91",
   "metadata": {},
   "outputs": [
    {
     "data": {
      "text/plain": [
       "0"
      ]
     },
     "execution_count": 25,
     "metadata": {},
     "output_type": "execute_result"
    }
   ],
   "source": [
    "#FLOW DIVISION\n",
    "2//3"
   ]
  },
  {
   "cell_type": "code",
   "execution_count": 26,
   "id": "2a1cbaf6",
   "metadata": {},
   "outputs": [
    {
     "data": {
      "text/plain": [
       "0.6666666666666666"
      ]
     },
     "execution_count": 26,
     "metadata": {},
     "output_type": "execute_result"
    }
   ],
   "source": [
    "#DIVISION\n",
    "2/3"
   ]
  },
  {
   "cell_type": "markdown",
   "id": "5b222c7c",
   "metadata": {},
   "source": [
    "# Exercise\n",
    "Write a python expression that raises 1+2 to the power of 3*4"
   ]
  },
  {
   "cell_type": "code",
   "execution_count": 27,
   "id": "f1a7634b",
   "metadata": {},
   "outputs": [
    {
     "data": {
      "text/plain": [
       "531441"
      ]
     },
     "execution_count": 27,
     "metadata": {},
     "output_type": "execute_result"
    }
   ],
   "source": [
    "#SOLUTION\n",
    "#Order of precedence\n",
    "(1+2)**(3*4)\n",
    "#PEDMAS"
   ]
  },
  {
   "cell_type": "markdown",
   "id": "83ebed5f",
   "metadata": {},
   "source": [
    "# Maths Functions\n"
   ]
  },
  {
   "cell_type": "code",
   "execution_count": 28,
   "id": "0b2d1bc1",
   "metadata": {},
   "outputs": [],
   "source": [
    "import numpy as np"
   ]
  },
  {
   "cell_type": "code",
   "execution_count": 29,
   "id": "6a644e47",
   "metadata": {},
   "outputs": [
    {
     "data": {
      "text/plain": [
       "3.141592653589793"
      ]
     },
     "execution_count": 29,
     "metadata": {},
     "output_type": "execute_result"
    }
   ],
   "source": [
    "np.pi"
   ]
  },
  {
   "cell_type": "code",
   "execution_count": 30,
   "id": "28b35c9f",
   "metadata": {},
   "outputs": [
    {
     "data": {
      "text/plain": [
       "4.605170185988092"
      ]
     },
     "execution_count": 30,
     "metadata": {},
     "output_type": "execute_result"
    }
   ],
   "source": [
    "np.log(100)"
   ]
  },
  {
   "cell_type": "code",
   "execution_count": 31,
   "id": "9704b81f",
   "metadata": {},
   "outputs": [
    {
     "data": {
      "text/plain": [
       "2.718281828459045"
      ]
     },
     "execution_count": 31,
     "metadata": {},
     "output_type": "execute_result"
    }
   ],
   "source": [
    "np.exp(1)"
   ]
  },
  {
   "cell_type": "markdown",
   "id": "fd7680d2",
   "metadata": {},
   "source": [
    "# log(e*x) = x \n",
    "where by -700 <= x <= 700"
   ]
  },
  {
   "cell_type": "code",
   "execution_count": null,
   "id": "50e9781e",
   "metadata": {},
   "outputs": [],
   "source": []
  },
  {
   "cell_type": "markdown",
   "id": "433f9b51",
   "metadata": {},
   "source": [
    "# VARIABLES\n",
    "A  variable is a name that refers to a value ie x = 5 means 5 is the value assigned to x variable ie "
   ]
  },
  {
   "cell_type": "code",
   "execution_count": 32,
   "id": "432ff9a9",
   "metadata": {},
   "outputs": [
    {
     "data": {
      "text/plain": [
       "6"
      ]
     },
     "execution_count": 32,
     "metadata": {},
     "output_type": "execute_result"
    }
   ],
   "source": [
    "x = 5\n",
    "\n",
    "x +1"
   ]
  },
  {
   "cell_type": "code",
   "execution_count": 33,
   "id": "737e1404",
   "metadata": {},
   "outputs": [
    {
     "data": {
      "text/plain": [
       "25"
      ]
     },
     "execution_count": 33,
     "metadata": {},
     "output_type": "execute_result"
    }
   ],
   "source": [
    "x**2"
   ]
  },
  {
   "cell_type": "code",
   "execution_count": 34,
   "id": "91888f38",
   "metadata": {},
   "outputs": [
    {
     "data": {
      "text/plain": [
       "148.4131591025766"
      ]
     },
     "execution_count": 34,
     "metadata": {},
     "output_type": "execute_result"
    }
   ],
   "source": [
    "np.exp(x)"
   ]
  },
  {
   "cell_type": "markdown",
   "id": "42951d23",
   "metadata": {},
   "source": [
    "# Calculations with variable\n",
    "\n",
    "if you deposit $2100 in a bank, paying an annual interesr rate of 3.4\\% compounded quarterly, we can compute the balance for 7 years by defeining these variables ie"
   ]
  },
  {
   "cell_type": "code",
   "execution_count": 35,
   "id": "009321d9",
   "metadata": {},
   "outputs": [],
   "source": [
    "p = 2100#principle\n",
    "r = 0.034#rate\n",
    "n = 4#Number of years that have been deposited yet\n",
    "t = 7#Total number of years"
   ]
  },
  {
   "cell_type": "code",
   "execution_count": 36,
   "id": "d35d0118",
   "metadata": {},
   "outputs": [
    {
     "data": {
      "text/plain": [
       "2661.6108980682593"
      ]
     },
     "execution_count": 36,
     "metadata": {},
     "output_type": "execute_result"
    }
   ],
   "source": [
    "v = 2100*(1+0.034/4)**(4*7)\n",
    "v"
   ]
  },
  {
   "cell_type": "code",
   "execution_count": 37,
   "id": "d41d12a4",
   "metadata": {},
   "outputs": [
    {
     "data": {
      "text/plain": [
       "2658.965091277534"
      ]
     },
     "execution_count": 37,
     "metadata": {},
     "output_type": "execute_result"
    }
   ],
   "source": [
    "v = 2100*(1+0.034/2)**(2*7)\n",
    "v"
   ]
  },
  {
   "cell_type": "code",
   "execution_count": 38,
   "id": "e16fbd0c",
   "metadata": {},
   "outputs": [
    {
     "data": {
      "text/plain": [
       "6.175728457877729"
      ]
     },
     "execution_count": 38,
     "metadata": {},
     "output_type": "execute_result"
    }
   ],
   "source": [
    "w = 2100**(0.034*7)\n",
    "w"
   ]
  },
  {
   "cell_type": "code",
   "execution_count": 39,
   "id": "19879b11",
   "metadata": {},
   "outputs": [
    {
     "data": {
      "text/plain": [
       "1.6823289251587048"
      ]
     },
     "execution_count": 39,
     "metadata": {},
     "output_type": "execute_result"
    }
   ],
   "source": [
    "w = 2100**(0.034*2)\n",
    "w"
   ]
  },
  {
   "cell_type": "markdown",
   "id": "acf9cf50",
   "metadata": {},
   "source": [
    "# Times and Places\n",
    "places mean strings in terms of location\n",
    "here we cover some additional datatypes ie strings represent text ,dates,time\n",
    " A string is a sequence of letters,numbers and punctuation marks typed between single and double quotation marks ie \"elements\" \"of\" \"Data Science\" and they are assigned to variables ie \n",
    " first = \"Data\"\n",
    " last = 'Science'\n",
    " if the two strings are concatenated with space we get data science as two words and without space then its one word \n",
    " ie (first + ''last) and (first + last)\n",
    " for an expression\n",
    " \n",
    " "
   ]
  },
  {
   "cell_type": "code",
   "execution_count": 40,
   "id": "59e0dd19",
   "metadata": {},
   "outputs": [
    {
     "ename": "TypeError",
     "evalue": "can only concatenate str (not \"int\") to str",
     "output_type": "error",
     "traceback": [
      "\u001b[1;31m---------------------------------------------------------------------------\u001b[0m",
      "\u001b[1;31mTypeError\u001b[0m                                 Traceback (most recent call last)",
      "Input \u001b[1;32mIn [40]\u001b[0m, in \u001b[0;36m<cell line: 2>\u001b[1;34m()\u001b[0m\n\u001b[0;32m      1\u001b[0m actual \u001b[38;5;241m=\u001b[39m \u001b[38;5;124m\"\u001b[39m\u001b[38;5;124m123\u001b[39m\u001b[38;5;124m\"\u001b[39m\n\u001b[1;32m----> 2\u001b[0m \u001b[43mactual\u001b[49m\u001b[43m \u001b[49m\u001b[38;5;241;43m+\u001b[39;49m\u001b[43m \u001b[49m\u001b[38;5;241;43m1\u001b[39;49m\n",
      "\u001b[1;31mTypeError\u001b[0m: can only concatenate str (not \"int\") to str"
     ]
    }
   ],
   "source": [
    "actual = \"123\"\n",
    "actual + 1"
   ]
  },
  {
   "cell_type": "code",
   "execution_count": 41,
   "id": "e53a0691",
   "metadata": {},
   "outputs": [
    {
     "data": {
      "text/plain": [
       "'123123123'"
      ]
     },
     "execution_count": 41,
     "metadata": {},
     "output_type": "execute_result"
    }
   ],
   "source": [
    "actual*3"
   ]
  },
  {
   "cell_type": "code",
   "execution_count": 42,
   "id": "b9bcbfdb",
   "metadata": {},
   "outputs": [
    {
     "data": {
      "text/plain": [
       "123"
      ]
     },
     "execution_count": 42,
     "metadata": {},
     "output_type": "execute_result"
    }
   ],
   "source": [
    "int(\"123\")"
   ]
  },
  {
   "cell_type": "code",
   "execution_count": 43,
   "id": "b3121cb8",
   "metadata": {},
   "outputs": [
    {
     "data": {
      "text/plain": [
       "123.0"
      ]
     },
     "execution_count": 43,
     "metadata": {},
     "output_type": "execute_result"
    }
   ],
   "source": [
    "float(\"123\")"
   ]
  },
  {
   "cell_type": "code",
   "execution_count": 44,
   "id": "fb40d9f3",
   "metadata": {},
   "outputs": [
    {
     "data": {
      "text/plain": [
       "'123'"
      ]
     },
     "execution_count": 44,
     "metadata": {},
     "output_type": "execute_result"
    }
   ],
   "source": [
    "str(123)"
   ]
  },
  {
   "cell_type": "code",
   "execution_count": 45,
   "id": "335e44e2",
   "metadata": {},
   "outputs": [
    {
     "data": {
      "text/plain": [
       "'12.3'"
      ]
     },
     "execution_count": 45,
     "metadata": {},
     "output_type": "execute_result"
    }
   ],
   "source": [
    "str(12.3)"
   ]
  },
  {
   "cell_type": "markdown",
   "id": "58202273",
   "metadata": {},
   "source": [
    "# Dates and Times\n"
   ]
  },
  {
   "cell_type": "code",
   "execution_count": 46,
   "id": "9472909c",
   "metadata": {},
   "outputs": [],
   "source": [
    "import scipy as sci"
   ]
  },
  {
   "cell_type": "code",
   "execution_count": 47,
   "id": "bb101a15",
   "metadata": {},
   "outputs": [
    {
     "data": {
      "text/plain": [
       "1.618033988749895"
      ]
     },
     "execution_count": 47,
     "metadata": {},
     "output_type": "execute_result"
    }
   ],
   "source": [
    "phi = (1+5**0.5)/2\n",
    "phi"
   ]
  },
  {
   "cell_type": "markdown",
   "id": "bb932bc6",
   "metadata": {},
   "source": [
    "# Plotting\n",
    "  line graph - record something  to be visualised over time ie inflation,GDP however it works with one variable at atime\n",
    "  \n",
    " histogram\n",
    " \n",
    " scatter plots-deriving relationships\n",
    " \n",
    " barcharts- comparison\n",
    " \n",
    " pie charts\n",
    " \n",
    " slope chart -Different slopes with time\n",
    " \n",
    " stacked area chart\n",
    "# NB OWID _ Our world in Data\n",
    "# What are the needed libraries\n",
    "Seaborn as sns\n",
    "matplotlib.pyplot as plt\n",
    "matplotlib\n",
    "numpy\n",
    "scikit_-learn\n"
   ]
  },
  {
   "cell_type": "code",
   "execution_count": 48,
   "id": "c8da2720",
   "metadata": {},
   "outputs": [],
   "source": [
    "year = [2009, 2010, 2011, 2012, 2013, 2014, 2015, 2016, 2017, 2018]\n",
    "christian = [77,76,75,73,73,71,69,68,67,65]\n",
    "unaffiliated =[17, 17, 19, 19, 20, 21, 24, 23, 25,26]"
   ]
  },
  {
   "cell_type": "code",
   "execution_count": 49,
   "id": "bf4b75a1",
   "metadata": {},
   "outputs": [],
   "source": [
    "import numpy as np\n",
    "import matplotlib.pyplot as plt\n",
    "\n",
    "import seaborn as sns\n"
   ]
  },
  {
   "cell_type": "code",
   "execution_count": 50,
   "id": "807b2961",
   "metadata": {},
   "outputs": [],
   "source": [
    "matplotlib inline"
   ]
  },
  {
   "cell_type": "code",
   "execution_count": 51,
   "id": "e150fbc8",
   "metadata": {},
   "outputs": [],
   "source": [
    "import matplotlib.pyplot as plt"
   ]
  },
  {
   "cell_type": "code",
   "execution_count": 52,
   "id": "bb16516f",
   "metadata": {},
   "outputs": [
    {
     "data": {
      "text/plain": [
       "[<matplotlib.lines.Line2D at 0x1d55c03f190>]"
      ]
     },
     "execution_count": 52,
     "metadata": {},
     "output_type": "execute_result"
    },
    {
     "data": {
      "image/png": "[encoded data removed]",
      "text/plain": [
       "<Figure size 432x288 with 1 Axes>"
      ]
     },
     "metadata": {
      "needs_background": "light"
     },
     "output_type": "display_data"
    }
   ],
   "source": [
    "plt.plot(year,christian)\n"
   ]
  },
  {
   "cell_type": "code",
   "execution_count": 53,
   "id": "46a4d3ad",
   "metadata": {},
   "outputs": [
    {
     "data": {
      "text/plain": [
       "[<matplotlib.lines.Line2D at 0x1d55e12f400>]"
      ]
     },
     "execution_count": 53,
     "metadata": {},
     "output_type": "execute_result"
    },
    {
     "data": {
      "image/png": "[encoded data removed]",
      "text/plain": [
       "<Figure size 432x288 with 1 Axes>"
      ]
     },
     "metadata": {
      "needs_background": "light"
     },
     "output_type": "display_data"
    }
   ],
   "source": [
    "plt.plot(year,unaffiliated)"
   ]
  },
  {
   "cell_type": "code",
   "execution_count": 54,
   "id": "cfdeb335",
   "metadata": {},
   "outputs": [
    {
     "data": {
      "text/plain": [
       "[<matplotlib.lines.Line2D at 0x1d55e1aa0e0>]"
      ]
     },
     "execution_count": 54,
     "metadata": {},
     "output_type": "execute_result"
    },
    {
     "data": {
      "image/png": "[encoded data removed]",
      "text/plain": [
       "<Figure size 432x288 with 1 Axes>"
      ]
     },
     "metadata": {
      "needs_background": "light"
     },
     "output_type": "display_data"
    }
   ],
   "source": [
    "plt.plot(year,christian)\n",
    "plt.plot(year,unaffiliated)# christian and unaffiliated over time"
   ]
  },
  {
   "cell_type": "code",
   "execution_count": 55,
   "id": "276a7a0b",
   "metadata": {},
   "outputs": [
    {
     "data": {
      "text/plain": [
       "[<matplotlib.lines.Line2D at 0x1d55e224fd0>]"
      ]
     },
     "execution_count": 55,
     "metadata": {},
     "output_type": "execute_result"
    },
    {
     "data": {
      "image/png": "[encoded data removed]",
      "text/plain": [
       "<Figure size 432x288 with 1 Axes>"
      ]
     },
     "metadata": {
      "needs_background": "light"
     },
     "output_type": "display_data"
    }
   ],
   "source": [
    "plt.plot(year,christian)\n",
    "plt.ylim(0,80)\n",
    "plt.plot(year,unaffiliated)# gives where to start and end"
   ]
  },
  {
   "cell_type": "code",
   "execution_count": 56,
   "id": "e77b7994",
   "metadata": {},
   "outputs": [
    {
     "data": {
      "image/png": "[encoded data removed]",
      "text/plain": [
       "<Figure size 432x288 with 1 Axes>"
      ]
     },
     "metadata": {
      "needs_background": "light"
     },
     "output_type": "display_data"
    }
   ],
   "source": [
    "plt.plot(year,christian)\n",
    "plt.ylim(0,80)#limitation/axes scale\n",
    "plt.plot(year,unaffiliated)# gives where to start and end\n",
    "#labels(x,y and title label and they take strings as arguements)\n",
    "plt.xlabel(\"Year\");"
   ]
  },
  {
   "cell_type": "code",
   "execution_count": 57,
   "id": "5b556931",
   "metadata": {},
   "outputs": [
    {
     "data": {
      "image/png": "[encoded data removed]",
      "text/plain": [
       "<Figure size 432x288 with 1 Axes>"
      ]
     },
     "metadata": {
      "needs_background": "light"
     },
     "output_type": "display_data"
    }
   ],
   "source": [
    "plt.plot(year,christian)\n",
    "plt.ylim(0,80)#limitation/axes scale\n",
    "plt.plot(year,unaffiliated)# gives where to start and end\n",
    "#labels(x,y and title label and they take strings as arguements)\n",
    "plt.xlabel(\"Year\");\n",
    "plt.ylabel(\"Adults Percentage\");"
   ]
  },
  {
   "cell_type": "code",
   "execution_count": 58,
   "id": "4701adc1",
   "metadata": {},
   "outputs": [
    {
     "data": {
      "image/png": "[encoded data removed]",
      "text/plain": [
       "<Figure size 432x288 with 1 Axes>"
      ]
     },
     "metadata": {
      "needs_background": "light"
     },
     "output_type": "display_data"
    }
   ],
   "source": [
    "plt.plot(year,christian)\n",
    "plt.ylim(0,80)#limitation/axes scale\n",
    "plt.plot(year,unaffiliated)# gives where to start and end\n",
    "#labels(x,y and title label and they take strings as arguements)\n",
    "plt.xlabel(\"Year\");\n",
    "plt.ylabel(\"Adults Percentage\");\n",
    "plt.title(\"Religious Affiliation\");"
   ]
  },
  {
   "cell_type": "code",
   "execution_count": 59,
   "id": "3ff12dd4",
   "metadata": {},
   "outputs": [
    {
     "data": {
      "image/png": "[encoded data removed]",
      "text/plain": [
       "<Figure size 432x288 with 1 Axes>"
      ]
     },
     "metadata": {
      "needs_background": "light"
     },
     "output_type": "display_data"
    }
   ],
   "source": [
    "plt.plot(year,christian,label = \"christian\")\n",
    "plt.ylim(0,80)#limitation/axes scale\n",
    "plt.plot(year,unaffiliated, label = \"unaffiliated\")# gives where to start and end\n",
    "#labels(x,y and title label and they take strings as arguements)\n",
    "plt.xlabel(\"Year\");#X label\n",
    "plt.ylabel(\"Adults Percentage\");#ylabel\n",
    "plt.title(\"Religious Affiliation\");#title\n",
    "plt.legend();"
   ]
  },
  {
   "cell_type": "code",
   "execution_count": 60,
   "id": "989e8e39",
   "metadata": {},
   "outputs": [
    {
     "name": "stderr",
     "output_type": "stream",
     "text": [
      "No artists with labels found to put in legend.  Note that artists whose label start with an underscore are ignored when legend() is called with no argument.\n"
     ]
    },
    {
     "data": {
      "image/png": "[encoded data removed]",
      "text/plain": [
       "<Figure size 432x288 with 1 Axes>"
      ]
     },
     "metadata": {
      "needs_background": "light"
     },
     "output_type": "display_data"
    }
   ],
   "source": [
    "plt.plot(year,christian)\n",
    "plt.ylim(0,80)#limitation/axes scale\n",
    "plt.plot(year,unaffiliated)# gives where to start and end\n",
    "#labels(x,y and title label and they take strings as arguements)\n",
    "plt.xlabel(\"Year\");#X label\n",
    "plt.ylabel(\"Adults Percentage\");#ylabel\n",
    "plt.title(\"Religious Affiliation\");#title\n",
    "plt.legend();"
   ]
  },
  {
   "cell_type": "markdown",
   "id": "2c5daa72",
   "metadata": {},
   "source": [
    "# replication\n",
    "# reproducible\n",
    "\n"
   ]
  },
  {
   "cell_type": "code",
   "execution_count": 61,
   "id": "4f1d1782",
   "metadata": {},
   "outputs": [],
   "source": [
    "name_list =[\"lobster roll\", \n",
    "            \"chicken ceasar\",\n",
    "            \"bang bang chicken wrap\",\n",
    "            \"ham and cheese\",\n",
    "            \"Tuna and cucumber\",\n",
    "            \"egg sandwich\"\n",
    "           ]\n",
    "boston_price_list =[9.99,7.99,7.49,7,6.29,4.99]\n",
    "london_price_list = [7.5,5,4.4,5,3.75,2.25]  "
   ]
  },
  {
   "cell_type": "code",
   "execution_count": 62,
   "id": "a846b8f7",
   "metadata": {},
   "outputs": [
    {
     "data": {
      "image/png": "[encoded data removed]",
      "text/plain": [
       "<Figure size 432x288 with 1 Axes>"
      ]
     },
     "metadata": {
      "needs_background": "light"
     },
     "output_type": "display_data"
    }
   ],
   "source": [
    "plt.plot(boston_price_list,name_list);"
   ]
  },
  {
   "cell_type": "code",
   "execution_count": 63,
   "id": "39cfeb52",
   "metadata": {},
   "outputs": [
    {
     "data": {
      "image/png": "[encoded data removed]",
      "text/plain": [
       "<Figure size 432x288 with 1 Axes>"
      ]
     },
     "metadata": {
      "needs_background": "light"
     },
     "output_type": "display_data"
    }
   ],
   "source": [
    "plt.plot(boston_price_list,name_list);\n",
    "plt.xlabel(\"Price in USD\");"
   ]
  },
  {
   "cell_type": "markdown",
   "id": "1db61633",
   "metadata": {},
   "source": [
    "#### name list is alist of strings and python orders them from top to bottom\n",
    "by default pyplot connects the codes with the lines however in the example above it doesnt make sense since the names are categorical and not continuous\n",
    "### categorical\n",
    "means of transport\n",
    "icecream falovors\n",
    "yorghurt\n",
    "create markers incase its a line graph\n",
    "\n",
    "### numerical\n",
    "1,2,3,4......\n",
    "### Binary\n",
    "0/1s\n",
    "### Discrete Values\n"
   ]
  },
  {
   "cell_type": "code",
   "execution_count": 64,
   "id": "4a2ae682",
   "metadata": {},
   "outputs": [
    {
     "data": {
      "image/png": "[encoded data removed]",
      "text/plain": [
       "<Figure size 432x288 with 1 Axes>"
      ]
     },
     "metadata": {
      "needs_background": "light"
     },
     "output_type": "display_data"
    }
   ],
   "source": [
    "plt.plot(boston_price_list,name_list, marker=\"o\",linestyle=\"\");#separated the different categories\n",
    "\n",
    "plt.xlabel(\"price in USD\");\n"
   ]
  },
  {
   "cell_type": "code",
   "execution_count": 65,
   "id": "686d699a",
   "metadata": {},
   "outputs": [
    {
     "data": {
      "image/png": "[encoded data removed]",
      "text/plain": [
       "<Figure size 432x288 with 1 Axes>"
      ]
     },
     "metadata": {
      "needs_background": "light"
     },
     "output_type": "display_data"
    }
   ],
   "source": [
    "#ADDING MARKERS AND LINESTYLE\n",
    "plt.plot(boston_price_list,name_list, marker=\"o\",linestyle=\"\");#separated the different categories\n",
    "\n",
    "plt.plot(london_price_list,name_list, marker=\"s\",linestyle=\"\");\n",
    "\n",
    "plt.title(\"Food Prices In Boston And London\")\n",
    "\n",
    "plt.xlabel(\"price in USD\");\n"
   ]
  },
  {
   "cell_type": "code",
   "execution_count": 66,
   "id": "0ee5cf2a",
   "metadata": {},
   "outputs": [
    {
     "data": {
      "image/png": "[encoded data removed]",
      "text/plain": [
       "<Figure size 432x288 with 1 Axes>"
      ]
     },
     "metadata": {
      "needs_background": "light"
     },
     "output_type": "display_data"
    }
   ],
   "source": [
    "# ADDING COLORS \n",
    "plt.plot(boston_price_list,name_list, marker=\"o\",linestyle=\"\",color=\"C3\");#separated the different categories\n",
    "\n",
    "plt.plot(london_price_list,name_list, marker=\"s\",linestyle=\"\",color=\"C0\");\n",
    "\n",
    "plt.title(\"Food Prices In Boston And London\")\n",
    "\n",
    "plt.xlabel(\"price in USD\");"
   ]
  },
  {
   "cell_type": "code",
   "execution_count": 67,
   "id": "e78ca43f",
   "metadata": {},
   "outputs": [
    {
     "data": {
      "image/png": "[encoded data removed]",
      "text/plain": [
       "<Figure size 432x288 with 1 Axes>"
      ]
     },
     "metadata": {
      "needs_background": "light"
     },
     "output_type": "display_data"
    }
   ],
   "source": [
    "#HORIZONTALLY JOINING THE POINTS\n",
    "plt.plot(boston_price_list,name_list, marker=\"o\",linestyle=\"\",color=\"C3\");#separated the different categories\n",
    "\n",
    "plt.plot(london_price_list,name_list, marker=\"s\",linestyle=\"\",color=\"C0\");\n",
    "\n",
    "plt.title(\"Food Prices In Boston And London\")\n",
    "plt.hlines(name_list,boston_price_list,london_price_list)\n",
    "\n",
    "plt.xlabel(\"price in USD\");"
   ]
  },
  {
   "cell_type": "code",
   "execution_count": 68,
   "id": "761fe006",
   "metadata": {},
   "outputs": [
    {
     "data": {
      "image/png": "[encoded data removed]",
      "text/plain": [
       "<Figure size 432x288 with 1 Axes>"
      ]
     },
     "metadata": {
      "needs_background": "light"
     },
     "output_type": "display_data"
    }
   ],
   "source": [
    "#ADDING A LEGEND\n",
    "\n",
    "plt.plot(london_price_list,name_list, marker=\"s\",linestyle=\"\",color=\"C0\",label = \"London\");\n",
    "plt.plot(boston_price_list,name_list, marker=\"o\",linestyle=\"\",color=\"C3\", label = \"Boston\");#separated the different categories\n",
    "plt.title(\"Food Prices In Boston And London\")\n",
    "plt.hlines(name_list,boston_price_list,london_price_list)\n",
    "\n",
    "plt.xlabel(\"price in USD\");\n",
    "plt.legend();"
   ]
  },
  {
   "cell_type": "code",
   "execution_count": 69,
   "id": "a30b0ea4",
   "metadata": {},
   "outputs": [
    {
     "data": {
      "image/png": "[encoded data removed]",
      "text/plain": [
       "<Figure size 432x288 with 1 Axes>"
      ]
     },
     "metadata": {
      "needs_background": "light"
     },
     "output_type": "display_data"
    }
   ],
   "source": [
    "#REVERSING THE AXIS\n",
    "plt.plot(london_price_list,name_list, marker=\"s\",linestyle=\"\",color=\"C0\",label = \"London\");\n",
    "plt.plot(boston_price_list,name_list, marker=\"o\",linestyle=\"\",color=\"C3\", label = \"Boston\");#separated the different categories\n",
    "plt.title(\"Food Prices In Boston And London\")\n",
    "plt.hlines(name_list,boston_price_list,london_price_list)\n",
    "\n",
    "plt.xlabel(\"price in USD\");\n",
    "plt.legend();\n",
    "plt.gca().invert_xaxis()\n",
    "plt.gca().invert_yaxis()"
   ]
  },
  {
   "cell_type": "code",
   "execution_count": 70,
   "id": "c2766852",
   "metadata": {},
   "outputs": [],
   "source": [
    "import pandas as pd\n"
   ]
  },
  {
   "cell_type": "markdown",
   "id": "1c2d6d4d",
   "metadata": {},
   "source": [
    "# DATA FRAMES AND SERIES"
   ]
  },
  {
   "cell_type": "code",
   "execution_count": 71,
   "id": "88530026",
   "metadata": {},
   "outputs": [
    {
     "data": {
      "text/html": [
       "<div>\n",
       "<style scoped>\n",
       "    .dataframe tbody tr th:only-of-type {\n",
       "        vertical-align: middle;\n",
       "    }\n",
       "\n",
       "    .dataframe tbody tr th {\n",
       "        vertical-align: top;\n",
       "    }\n",
       "\n",
       "    .dataframe thead th {\n",
       "        text-align: right;\n",
       "    }\n",
       "</style>\n",
       "<table border=\"1\" class=\"dataframe\">\n",
       "  <thead>\n",
       "    <tr style=\"text-align: right;\">\n",
       "      <th></th>\n",
       "      <th>Country Code</th>\n",
       "      <th>TableName</th>\n",
       "      <th>IncomeGroup</th>\n",
       "      <th>PopDensity_2018</th>\n",
       "      <th>Confirmed Cases</th>\n",
       "      <th>Deaths</th>\n",
       "      <th>Mortality Rate</th>\n",
       "      <th>Population_2019</th>\n",
       "      <th>GDP_2019</th>\n",
       "      <th>GDP_per_cap_2019</th>\n",
       "      <th>Main Leader Gender</th>\n",
       "      <th>Any Leader Gender</th>\n",
       "      <th>Avg Temp</th>\n",
       "      <th>Normalized Cases</th>\n",
       "      <th>Normalized Deaths</th>\n",
       "    </tr>\n",
       "  </thead>\n",
       "  <tbody>\n",
       "    <tr>\n",
       "      <th>0</th>\n",
       "      <td>AFG</td>\n",
       "      <td>Afghanistan</td>\n",
       "      <td>Low income</td>\n",
       "      <td>56.937760</td>\n",
       "      <td>39192</td>\n",
       "      <td>1453</td>\n",
       "      <td>3.707389</td>\n",
       "      <td>38041754</td>\n",
       "      <td>1.910135e+10</td>\n",
       "      <td>2293.551684</td>\n",
       "      <td>M</td>\n",
       "      <td>M</td>\n",
       "      <td>12.60</td>\n",
       "      <td>0.001030</td>\n",
       "      <td>3.820000e-05</td>\n",
       "    </tr>\n",
       "    <tr>\n",
       "      <th>1</th>\n",
       "      <td>AGO</td>\n",
       "      <td>Angola</td>\n",
       "      <td>Lower middle income</td>\n",
       "      <td>24.713052</td>\n",
       "      <td>4672</td>\n",
       "      <td>171</td>\n",
       "      <td>3.660103</td>\n",
       "      <td>31825295</td>\n",
       "      <td>9.463542e+10</td>\n",
       "      <td>6929.678158</td>\n",
       "      <td>M</td>\n",
       "      <td>M</td>\n",
       "      <td>21.55</td>\n",
       "      <td>0.000147</td>\n",
       "      <td>5.370000e-06</td>\n",
       "    </tr>\n",
       "    <tr>\n",
       "      <th>2</th>\n",
       "      <td>ALB</td>\n",
       "      <td>Albania</td>\n",
       "      <td>Upper middle income</td>\n",
       "      <td>104.612263</td>\n",
       "      <td>13153</td>\n",
       "      <td>375</td>\n",
       "      <td>2.851061</td>\n",
       "      <td>2854191</td>\n",
       "      <td>1.527808e+10</td>\n",
       "      <td>14495.078510</td>\n",
       "      <td>M</td>\n",
       "      <td>M</td>\n",
       "      <td>11.40</td>\n",
       "      <td>0.004608</td>\n",
       "      <td>1.313860e-04</td>\n",
       "    </tr>\n",
       "    <tr>\n",
       "      <th>3</th>\n",
       "      <td>AND</td>\n",
       "      <td>Andorra</td>\n",
       "      <td>High income</td>\n",
       "      <td>163.842553</td>\n",
       "      <td>1836</td>\n",
       "      <td>53</td>\n",
       "      <td>2.886710</td>\n",
       "      <td>77142</td>\n",
       "      <td>3.154058e+09</td>\n",
       "      <td>NaN</td>\n",
       "      <td>M</td>\n",
       "      <td>M</td>\n",
       "      <td>7.60</td>\n",
       "      <td>0.023800</td>\n",
       "      <td>6.870450e-04</td>\n",
       "    </tr>\n",
       "    <tr>\n",
       "      <th>4</th>\n",
       "      <td>ARE</td>\n",
       "      <td>United Arab Emirates</td>\n",
       "      <td>High income</td>\n",
       "      <td>135.609110</td>\n",
       "      <td>90618</td>\n",
       "      <td>411</td>\n",
       "      <td>0.453552</td>\n",
       "      <td>9770529</td>\n",
       "      <td>4.211420e+11</td>\n",
       "      <td>69900.877850</td>\n",
       "      <td>M</td>\n",
       "      <td>M</td>\n",
       "      <td>27.00</td>\n",
       "      <td>0.009275</td>\n",
       "      <td>4.210000e-05</td>\n",
       "    </tr>\n",
       "    <tr>\n",
       "      <th>...</th>\n",
       "      <td>...</td>\n",
       "      <td>...</td>\n",
       "      <td>...</td>\n",
       "      <td>...</td>\n",
       "      <td>...</td>\n",
       "      <td>...</td>\n",
       "      <td>...</td>\n",
       "      <td>...</td>\n",
       "      <td>...</td>\n",
       "      <td>...</td>\n",
       "      <td>...</td>\n",
       "      <td>...</td>\n",
       "      <td>...</td>\n",
       "      <td>...</td>\n",
       "      <td>...</td>\n",
       "    </tr>\n",
       "    <tr>\n",
       "      <th>177</th>\n",
       "      <td>VNM</td>\n",
       "      <td>Vietnam</td>\n",
       "      <td>Lower middle income</td>\n",
       "      <td>308.125246</td>\n",
       "      <td>1069</td>\n",
       "      <td>35</td>\n",
       "      <td>3.274088</td>\n",
       "      <td>96462106</td>\n",
       "      <td>2.619210e+11</td>\n",
       "      <td>8374.444328</td>\n",
       "      <td>M</td>\n",
       "      <td>M</td>\n",
       "      <td>24.45</td>\n",
       "      <td>0.000011</td>\n",
       "      <td>3.630000e-07</td>\n",
       "    </tr>\n",
       "    <tr>\n",
       "      <th>178</th>\n",
       "      <td>YEM</td>\n",
       "      <td>Yemen, Rep.</td>\n",
       "      <td>Low income</td>\n",
       "      <td>53.977853</td>\n",
       "      <td>2030</td>\n",
       "      <td>587</td>\n",
       "      <td>28.916256</td>\n",
       "      <td>29161922</td>\n",
       "      <td>NaN</td>\n",
       "      <td>NaN</td>\n",
       "      <td>M</td>\n",
       "      <td>M</td>\n",
       "      <td>23.85</td>\n",
       "      <td>0.000070</td>\n",
       "      <td>2.010000e-05</td>\n",
       "    </tr>\n",
       "    <tr>\n",
       "      <th>179</th>\n",
       "      <td>ZAF</td>\n",
       "      <td>South Africa</td>\n",
       "      <td>Upper middle income</td>\n",
       "      <td>47.630120</td>\n",
       "      <td>669498</td>\n",
       "      <td>16376</td>\n",
       "      <td>2.446012</td>\n",
       "      <td>58558270</td>\n",
       "      <td>3.514320e+11</td>\n",
       "      <td>12999.120260</td>\n",
       "      <td>M</td>\n",
       "      <td>M</td>\n",
       "      <td>17.75</td>\n",
       "      <td>0.011433</td>\n",
       "      <td>2.796530e-04</td>\n",
       "    </tr>\n",
       "    <tr>\n",
       "      <th>180</th>\n",
       "      <td>ZMB</td>\n",
       "      <td>Zambia</td>\n",
       "      <td>Lower middle income</td>\n",
       "      <td>23.341479</td>\n",
       "      <td>14612</td>\n",
       "      <td>332</td>\n",
       "      <td>2.272105</td>\n",
       "      <td>17861030</td>\n",
       "      <td>2.306472e+10</td>\n",
       "      <td>3623.699395</td>\n",
       "      <td>M</td>\n",
       "      <td>M</td>\n",
       "      <td>21.40</td>\n",
       "      <td>0.000818</td>\n",
       "      <td>1.860000e-05</td>\n",
       "    </tr>\n",
       "    <tr>\n",
       "      <th>181</th>\n",
       "      <td>ZWE</td>\n",
       "      <td>Zimbabwe</td>\n",
       "      <td>Lower middle income</td>\n",
       "      <td>37.324591</td>\n",
       "      <td>7803</td>\n",
       "      <td>227</td>\n",
       "      <td>2.909138</td>\n",
       "      <td>14645468</td>\n",
       "      <td>2.144076e+10</td>\n",
       "      <td>2953.484113</td>\n",
       "      <td>M</td>\n",
       "      <td>M</td>\n",
       "      <td>21.00</td>\n",
       "      <td>0.000533</td>\n",
       "      <td>1.550000e-05</td>\n",
       "    </tr>\n",
       "  </tbody>\n",
       "</table>\n",
       "<p>182 rows × 15 columns</p>\n",
       "</div>"
      ],
      "text/plain": [
       "    Country Code             TableName          IncomeGroup  PopDensity_2018  \\\n",
       "0            AFG           Afghanistan           Low income        56.937760   \n",
       "1            AGO                Angola  Lower middle income        24.713052   \n",
       "2            ALB               Albania  Upper middle income       104.612263   \n",
       "3            AND               Andorra          High income       163.842553   \n",
       "4            ARE  United Arab Emirates          High income       135.609110   \n",
       "..           ...                   ...                  ...              ...   \n",
       "177          VNM               Vietnam  Lower middle income       308.125246   \n",
       "178          YEM           Yemen, Rep.           Low income        53.977853   \n",
       "179          ZAF          South Africa  Upper middle income        47.630120   \n",
       "180          ZMB                Zambia  Lower middle income        23.341479   \n",
       "181          ZWE              Zimbabwe  Lower middle income        37.324591   \n",
       "\n",
       "     Confirmed Cases  Deaths  Mortality Rate  Population_2019      GDP_2019  \\\n",
       "0              39192    1453        3.707389         38041754  1.910135e+10   \n",
       "1               4672     171        3.660103         31825295  9.463542e+10   \n",
       "2              13153     375        2.851061          2854191  1.527808e+10   \n",
       "3               1836      53        2.886710            77142  3.154058e+09   \n",
       "4              90618     411        0.453552          9770529  4.211420e+11   \n",
       "..               ...     ...             ...              ...           ...   \n",
       "177             1069      35        3.274088         96462106  2.619210e+11   \n",
       "178             2030     587       28.916256         29161922           NaN   \n",
       "179           669498   16376        2.446012         58558270  3.514320e+11   \n",
       "180            14612     332        2.272105         17861030  2.306472e+10   \n",
       "181             7803     227        2.909138         14645468  2.144076e+10   \n",
       "\n",
       "     GDP_per_cap_2019 Main Leader Gender Any Leader Gender  Avg Temp  \\\n",
       "0         2293.551684                  M                 M     12.60   \n",
       "1         6929.678158                  M                 M     21.55   \n",
       "2        14495.078510                  M                 M     11.40   \n",
       "3                 NaN                  M                 M      7.60   \n",
       "4        69900.877850                  M                 M     27.00   \n",
       "..                ...                ...               ...       ...   \n",
       "177       8374.444328                  M                 M     24.45   \n",
       "178               NaN                  M                 M     23.85   \n",
       "179      12999.120260                  M                 M     17.75   \n",
       "180       3623.699395                  M                 M     21.40   \n",
       "181       2953.484113                  M                 M     21.00   \n",
       "\n",
       "     Normalized Cases  Normalized Deaths  \n",
       "0            0.001030       3.820000e-05  \n",
       "1            0.000147       5.370000e-06  \n",
       "2            0.004608       1.313860e-04  \n",
       "3            0.023800       6.870450e-04  \n",
       "4            0.009275       4.210000e-05  \n",
       "..                ...                ...  \n",
       "177          0.000011       3.630000e-07  \n",
       "178          0.000070       2.010000e-05  \n",
       "179          0.011433       2.796530e-04  \n",
       "180          0.000818       1.860000e-05  \n",
       "181          0.000533       1.550000e-05  \n",
       "\n",
       "[182 rows x 15 columns]"
      ]
     },
     "execution_count": 71,
     "metadata": {},
     "output_type": "execute_result"
    }
   ],
   "source": [
    "df = pd.read_csv(\"data/unified-data-per-country.csv\")\n",
    "df"
   ]
  },
  {
   "cell_type": "code",
   "execution_count": 72,
   "id": "bf615c3d",
   "metadata": {},
   "outputs": [
    {
     "data": {
      "text/html": [
       "<div>\n",
       "<style scoped>\n",
       "    .dataframe tbody tr th:only-of-type {\n",
       "        vertical-align: middle;\n",
       "    }\n",
       "\n",
       "    .dataframe tbody tr th {\n",
       "        vertical-align: top;\n",
       "    }\n",
       "\n",
       "    .dataframe thead th {\n",
       "        text-align: right;\n",
       "    }\n",
       "</style>\n",
       "<table border=\"1\" class=\"dataframe\">\n",
       "  <thead>\n",
       "    <tr style=\"text-align: right;\">\n",
       "      <th></th>\n",
       "      <th>Country Code</th>\n",
       "      <th>TableName</th>\n",
       "      <th>IncomeGroup</th>\n",
       "      <th>PopDensity_2018</th>\n",
       "      <th>Confirmed Cases</th>\n",
       "      <th>Deaths</th>\n",
       "      <th>Mortality Rate</th>\n",
       "      <th>Population_2019</th>\n",
       "      <th>GDP_2019</th>\n",
       "      <th>GDP_per_cap_2019</th>\n",
       "      <th>Main Leader Gender</th>\n",
       "      <th>Any Leader Gender</th>\n",
       "      <th>Avg Temp</th>\n",
       "      <th>Normalized Cases</th>\n",
       "      <th>Normalized Deaths</th>\n",
       "    </tr>\n",
       "  </thead>\n",
       "  <tbody>\n",
       "    <tr>\n",
       "      <th>0</th>\n",
       "      <td>AFG</td>\n",
       "      <td>Afghanistan</td>\n",
       "      <td>Low income</td>\n",
       "      <td>56.937760</td>\n",
       "      <td>39192</td>\n",
       "      <td>1453</td>\n",
       "      <td>3.707389</td>\n",
       "      <td>38041754</td>\n",
       "      <td>1.910135e+10</td>\n",
       "      <td>2293.551684</td>\n",
       "      <td>M</td>\n",
       "      <td>M</td>\n",
       "      <td>12.60</td>\n",
       "      <td>0.001030</td>\n",
       "      <td>0.000038</td>\n",
       "    </tr>\n",
       "    <tr>\n",
       "      <th>1</th>\n",
       "      <td>AGO</td>\n",
       "      <td>Angola</td>\n",
       "      <td>Lower middle income</td>\n",
       "      <td>24.713052</td>\n",
       "      <td>4672</td>\n",
       "      <td>171</td>\n",
       "      <td>3.660103</td>\n",
       "      <td>31825295</td>\n",
       "      <td>9.463542e+10</td>\n",
       "      <td>6929.678158</td>\n",
       "      <td>M</td>\n",
       "      <td>M</td>\n",
       "      <td>21.55</td>\n",
       "      <td>0.000147</td>\n",
       "      <td>0.000005</td>\n",
       "    </tr>\n",
       "    <tr>\n",
       "      <th>2</th>\n",
       "      <td>ALB</td>\n",
       "      <td>Albania</td>\n",
       "      <td>Upper middle income</td>\n",
       "      <td>104.612263</td>\n",
       "      <td>13153</td>\n",
       "      <td>375</td>\n",
       "      <td>2.851061</td>\n",
       "      <td>2854191</td>\n",
       "      <td>1.527808e+10</td>\n",
       "      <td>14495.078510</td>\n",
       "      <td>M</td>\n",
       "      <td>M</td>\n",
       "      <td>11.40</td>\n",
       "      <td>0.004608</td>\n",
       "      <td>0.000131</td>\n",
       "    </tr>\n",
       "    <tr>\n",
       "      <th>3</th>\n",
       "      <td>AND</td>\n",
       "      <td>Andorra</td>\n",
       "      <td>High income</td>\n",
       "      <td>163.842553</td>\n",
       "      <td>1836</td>\n",
       "      <td>53</td>\n",
       "      <td>2.886710</td>\n",
       "      <td>77142</td>\n",
       "      <td>3.154058e+09</td>\n",
       "      <td>NaN</td>\n",
       "      <td>M</td>\n",
       "      <td>M</td>\n",
       "      <td>7.60</td>\n",
       "      <td>0.023800</td>\n",
       "      <td>0.000687</td>\n",
       "    </tr>\n",
       "    <tr>\n",
       "      <th>4</th>\n",
       "      <td>ARE</td>\n",
       "      <td>United Arab Emirates</td>\n",
       "      <td>High income</td>\n",
       "      <td>135.609110</td>\n",
       "      <td>90618</td>\n",
       "      <td>411</td>\n",
       "      <td>0.453552</td>\n",
       "      <td>9770529</td>\n",
       "      <td>4.211420e+11</td>\n",
       "      <td>69900.877850</td>\n",
       "      <td>M</td>\n",
       "      <td>M</td>\n",
       "      <td>27.00</td>\n",
       "      <td>0.009275</td>\n",
       "      <td>0.000042</td>\n",
       "    </tr>\n",
       "  </tbody>\n",
       "</table>\n",
       "</div>"
      ],
      "text/plain": [
       "  Country Code             TableName          IncomeGroup  PopDensity_2018  \\\n",
       "0          AFG           Afghanistan           Low income        56.937760   \n",
       "1          AGO                Angola  Lower middle income        24.713052   \n",
       "2          ALB               Albania  Upper middle income       104.612263   \n",
       "3          AND               Andorra          High income       163.842553   \n",
       "4          ARE  United Arab Emirates          High income       135.609110   \n",
       "\n",
       "   Confirmed Cases  Deaths  Mortality Rate  Population_2019      GDP_2019  \\\n",
       "0            39192    1453        3.707389         38041754  1.910135e+10   \n",
       "1             4672     171        3.660103         31825295  9.463542e+10   \n",
       "2            13153     375        2.851061          2854191  1.527808e+10   \n",
       "3             1836      53        2.886710            77142  3.154058e+09   \n",
       "4            90618     411        0.453552          9770529  4.211420e+11   \n",
       "\n",
       "   GDP_per_cap_2019 Main Leader Gender Any Leader Gender  Avg Temp  \\\n",
       "0       2293.551684                  M                 M     12.60   \n",
       "1       6929.678158                  M                 M     21.55   \n",
       "2      14495.078510                  M                 M     11.40   \n",
       "3               NaN                  M                 M      7.60   \n",
       "4      69900.877850                  M                 M     27.00   \n",
       "\n",
       "   Normalized Cases  Normalized Deaths  \n",
       "0          0.001030           0.000038  \n",
       "1          0.000147           0.000005  \n",
       "2          0.004608           0.000131  \n",
       "3          0.023800           0.000687  \n",
       "4          0.009275           0.000042  "
      ]
     },
     "execution_count": 72,
     "metadata": {},
     "output_type": "execute_result"
    }
   ],
   "source": [
    "df.head()"
   ]
  },
  {
   "cell_type": "code",
   "execution_count": 73,
   "id": "0a3ac690",
   "metadata": {},
   "outputs": [
    {
     "data": {
      "text/html": [
       "<div>\n",
       "<style scoped>\n",
       "    .dataframe tbody tr th:only-of-type {\n",
       "        vertical-align: middle;\n",
       "    }\n",
       "\n",
       "    .dataframe tbody tr th {\n",
       "        vertical-align: top;\n",
       "    }\n",
       "\n",
       "    .dataframe thead th {\n",
       "        text-align: right;\n",
       "    }\n",
       "</style>\n",
       "<table border=\"1\" class=\"dataframe\">\n",
       "  <thead>\n",
       "    <tr style=\"text-align: right;\">\n",
       "      <th></th>\n",
       "      <th>Country Code</th>\n",
       "      <th>TableName</th>\n",
       "      <th>IncomeGroup</th>\n",
       "      <th>PopDensity_2018</th>\n",
       "      <th>Confirmed Cases</th>\n",
       "      <th>Deaths</th>\n",
       "      <th>Mortality Rate</th>\n",
       "      <th>Population_2019</th>\n",
       "      <th>GDP_2019</th>\n",
       "      <th>GDP_per_cap_2019</th>\n",
       "      <th>Main Leader Gender</th>\n",
       "      <th>Any Leader Gender</th>\n",
       "      <th>Avg Temp</th>\n",
       "      <th>Normalized Cases</th>\n",
       "      <th>Normalized Deaths</th>\n",
       "    </tr>\n",
       "  </thead>\n",
       "  <tbody>\n",
       "    <tr>\n",
       "      <th>177</th>\n",
       "      <td>VNM</td>\n",
       "      <td>Vietnam</td>\n",
       "      <td>Lower middle income</td>\n",
       "      <td>308.125246</td>\n",
       "      <td>1069</td>\n",
       "      <td>35</td>\n",
       "      <td>3.274088</td>\n",
       "      <td>96462106</td>\n",
       "      <td>2.619210e+11</td>\n",
       "      <td>8374.444328</td>\n",
       "      <td>M</td>\n",
       "      <td>M</td>\n",
       "      <td>24.45</td>\n",
       "      <td>0.000011</td>\n",
       "      <td>3.630000e-07</td>\n",
       "    </tr>\n",
       "    <tr>\n",
       "      <th>178</th>\n",
       "      <td>YEM</td>\n",
       "      <td>Yemen, Rep.</td>\n",
       "      <td>Low income</td>\n",
       "      <td>53.977853</td>\n",
       "      <td>2030</td>\n",
       "      <td>587</td>\n",
       "      <td>28.916256</td>\n",
       "      <td>29161922</td>\n",
       "      <td>NaN</td>\n",
       "      <td>NaN</td>\n",
       "      <td>M</td>\n",
       "      <td>M</td>\n",
       "      <td>23.85</td>\n",
       "      <td>0.000070</td>\n",
       "      <td>2.010000e-05</td>\n",
       "    </tr>\n",
       "    <tr>\n",
       "      <th>179</th>\n",
       "      <td>ZAF</td>\n",
       "      <td>South Africa</td>\n",
       "      <td>Upper middle income</td>\n",
       "      <td>47.630120</td>\n",
       "      <td>669498</td>\n",
       "      <td>16376</td>\n",
       "      <td>2.446012</td>\n",
       "      <td>58558270</td>\n",
       "      <td>3.514320e+11</td>\n",
       "      <td>12999.120260</td>\n",
       "      <td>M</td>\n",
       "      <td>M</td>\n",
       "      <td>17.75</td>\n",
       "      <td>0.011433</td>\n",
       "      <td>2.796530e-04</td>\n",
       "    </tr>\n",
       "    <tr>\n",
       "      <th>180</th>\n",
       "      <td>ZMB</td>\n",
       "      <td>Zambia</td>\n",
       "      <td>Lower middle income</td>\n",
       "      <td>23.341479</td>\n",
       "      <td>14612</td>\n",
       "      <td>332</td>\n",
       "      <td>2.272105</td>\n",
       "      <td>17861030</td>\n",
       "      <td>2.306472e+10</td>\n",
       "      <td>3623.699395</td>\n",
       "      <td>M</td>\n",
       "      <td>M</td>\n",
       "      <td>21.40</td>\n",
       "      <td>0.000818</td>\n",
       "      <td>1.860000e-05</td>\n",
       "    </tr>\n",
       "    <tr>\n",
       "      <th>181</th>\n",
       "      <td>ZWE</td>\n",
       "      <td>Zimbabwe</td>\n",
       "      <td>Lower middle income</td>\n",
       "      <td>37.324591</td>\n",
       "      <td>7803</td>\n",
       "      <td>227</td>\n",
       "      <td>2.909138</td>\n",
       "      <td>14645468</td>\n",
       "      <td>2.144076e+10</td>\n",
       "      <td>2953.484113</td>\n",
       "      <td>M</td>\n",
       "      <td>M</td>\n",
       "      <td>21.00</td>\n",
       "      <td>0.000533</td>\n",
       "      <td>1.550000e-05</td>\n",
       "    </tr>\n",
       "  </tbody>\n",
       "</table>\n",
       "</div>"
      ],
      "text/plain": [
       "    Country Code     TableName          IncomeGroup  PopDensity_2018  \\\n",
       "177          VNM       Vietnam  Lower middle income       308.125246   \n",
       "178          YEM   Yemen, Rep.           Low income        53.977853   \n",
       "179          ZAF  South Africa  Upper middle income        47.630120   \n",
       "180          ZMB        Zambia  Lower middle income        23.341479   \n",
       "181          ZWE      Zimbabwe  Lower middle income        37.324591   \n",
       "\n",
       "     Confirmed Cases  Deaths  Mortality Rate  Population_2019      GDP_2019  \\\n",
       "177             1069      35        3.274088         96462106  2.619210e+11   \n",
       "178             2030     587       28.916256         29161922           NaN   \n",
       "179           669498   16376        2.446012         58558270  3.514320e+11   \n",
       "180            14612     332        2.272105         17861030  2.306472e+10   \n",
       "181             7803     227        2.909138         14645468  2.144076e+10   \n",
       "\n",
       "     GDP_per_cap_2019 Main Leader Gender Any Leader Gender  Avg Temp  \\\n",
       "177       8374.444328                  M                 M     24.45   \n",
       "178               NaN                  M                 M     23.85   \n",
       "179      12999.120260                  M                 M     17.75   \n",
       "180       3623.699395                  M                 M     21.40   \n",
       "181       2953.484113                  M                 M     21.00   \n",
       "\n",
       "     Normalized Cases  Normalized Deaths  \n",
       "177          0.000011       3.630000e-07  \n",
       "178          0.000070       2.010000e-05  \n",
       "179          0.011433       2.796530e-04  \n",
       "180          0.000818       1.860000e-05  \n",
       "181          0.000533       1.550000e-05  "
      ]
     },
     "execution_count": 73,
     "metadata": {},
     "output_type": "execute_result"
    }
   ],
   "source": [
    "df.tail()"
   ]
  },
  {
   "cell_type": "code",
   "execution_count": 74,
   "id": "3a0318cf",
   "metadata": {},
   "outputs": [
    {
     "data": {
      "text/plain": [
       "Index(['Country Code', 'TableName', 'IncomeGroup', 'PopDensity_2018',\n",
       "       'Confirmed Cases', 'Deaths', 'Mortality Rate', 'Population_2019',\n",
       "       'GDP_2019', 'GDP_per_cap_2019', 'Main Leader Gender',\n",
       "       'Any Leader Gender', 'Avg Temp', 'Normalized Cases',\n",
       "       'Normalized Deaths'],\n",
       "      dtype='object')"
      ]
     },
     "execution_count": 74,
     "metadata": {},
     "output_type": "execute_result"
    }
   ],
   "source": [
    "df.columns"
   ]
  },
  {
   "cell_type": "code",
   "execution_count": 75,
   "id": "6ecf7b47",
   "metadata": {},
   "outputs": [
    {
     "data": {
      "text/html": [
       "<div>\n",
       "<style scoped>\n",
       "    .dataframe tbody tr th:only-of-type {\n",
       "        vertical-align: middle;\n",
       "    }\n",
       "\n",
       "    .dataframe tbody tr th {\n",
       "        vertical-align: top;\n",
       "    }\n",
       "\n",
       "    .dataframe thead th {\n",
       "        text-align: right;\n",
       "    }\n",
       "</style>\n",
       "<table border=\"1\" class=\"dataframe\">\n",
       "  <thead>\n",
       "    <tr style=\"text-align: right;\">\n",
       "      <th></th>\n",
       "      <th>PopDensity_2018</th>\n",
       "      <th>Confirmed Cases</th>\n",
       "      <th>Deaths</th>\n",
       "      <th>Mortality Rate</th>\n",
       "      <th>Population_2019</th>\n",
       "      <th>GDP_2019</th>\n",
       "      <th>GDP_per_cap_2019</th>\n",
       "      <th>Avg Temp</th>\n",
       "      <th>Normalized Cases</th>\n",
       "      <th>Normalized Deaths</th>\n",
       "    </tr>\n",
       "  </thead>\n",
       "  <tbody>\n",
       "    <tr>\n",
       "      <th>count</th>\n",
       "      <td>178.000000</td>\n",
       "      <td>1.820000e+02</td>\n",
       "      <td>182.000000</td>\n",
       "      <td>182.000000</td>\n",
       "      <td>1.820000e+02</td>\n",
       "      <td>1.690000e+02</td>\n",
       "      <td>168.000000</td>\n",
       "      <td>179.000000</td>\n",
       "      <td>182.000000</td>\n",
       "      <td>182.000000</td>\n",
       "    </tr>\n",
       "    <tr>\n",
       "      <th>mean</th>\n",
       "      <td>209.578681</td>\n",
       "      <td>1.798681e+05</td>\n",
       "      <td>5453.186813</td>\n",
       "      <td>2.552053</td>\n",
       "      <td>4.176762e+07</td>\n",
       "      <td>5.037484e+11</td>\n",
       "      <td>22175.663497</td>\n",
       "      <td>18.511117</td>\n",
       "      <td>0.005142</td>\n",
       "      <td>0.000126</td>\n",
       "    </tr>\n",
       "    <tr>\n",
       "      <th>std</th>\n",
       "      <td>642.276577</td>\n",
       "      <td>7.728216e+05</td>\n",
       "      <td>21079.533796</td>\n",
       "      <td>2.807438</td>\n",
       "      <td>1.494774e+08</td>\n",
       "      <td>2.060972e+12</td>\n",
       "      <td>22028.464791</td>\n",
       "      <td>8.179984</td>\n",
       "      <td>0.007289</td>\n",
       "      <td>0.000208</td>\n",
       "    </tr>\n",
       "    <tr>\n",
       "      <th>min</th>\n",
       "      <td>2.040609</td>\n",
       "      <td>1.900000e+01</td>\n",
       "      <td>0.000000</td>\n",
       "      <td>0.000000</td>\n",
       "      <td>3.386000e+04</td>\n",
       "      <td>4.290166e+08</td>\n",
       "      <td>782.816589</td>\n",
       "      <td>-5.100000</td>\n",
       "      <td>0.000003</td>\n",
       "      <td>0.000000</td>\n",
       "    </tr>\n",
       "    <tr>\n",
       "      <th>25%</th>\n",
       "      <td>37.143092</td>\n",
       "      <td>2.930250e+03</td>\n",
       "      <td>50.000000</td>\n",
       "      <td>1.063698</td>\n",
       "      <td>2.689939e+06</td>\n",
       "      <td>1.282700e+10</td>\n",
       "      <td>5398.131919</td>\n",
       "      <td>10.625000</td>\n",
       "      <td>0.000540</td>\n",
       "      <td>0.000008</td>\n",
       "    </tr>\n",
       "    <tr>\n",
       "      <th>50%</th>\n",
       "      <td>83.949492</td>\n",
       "      <td>1.337950e+04</td>\n",
       "      <td>228.000000</td>\n",
       "      <td>2.004451</td>\n",
       "      <td>9.758033e+06</td>\n",
       "      <td>4.731962e+10</td>\n",
       "      <td>14747.947505</td>\n",
       "      <td>21.850000</td>\n",
       "      <td>0.002313</td>\n",
       "      <td>0.000038</td>\n",
       "    </tr>\n",
       "    <tr>\n",
       "      <th>75%</th>\n",
       "      <td>204.487818</td>\n",
       "      <td>7.642675e+04</td>\n",
       "      <td>1450.000000</td>\n",
       "      <td>3.071983</td>\n",
       "      <td>3.040490e+07</td>\n",
       "      <td>2.619210e+11</td>\n",
       "      <td>32413.601215</td>\n",
       "      <td>25.325000</td>\n",
       "      <td>0.006527</td>\n",
       "      <td>0.000135</td>\n",
       "    </tr>\n",
       "    <tr>\n",
       "      <th>max</th>\n",
       "      <td>7952.998418</td>\n",
       "      <td>7.078039e+06</td>\n",
       "      <td>204486.000000</td>\n",
       "      <td>28.916256</td>\n",
       "      <td>1.397715e+09</td>\n",
       "      <td>2.137440e+13</td>\n",
       "      <td>121292.739300</td>\n",
       "      <td>28.290000</td>\n",
       "      <td>0.044084</td>\n",
       "      <td>0.001240</td>\n",
       "    </tr>\n",
       "  </tbody>\n",
       "</table>\n",
       "</div>"
      ],
      "text/plain": [
       "       PopDensity_2018  Confirmed Cases         Deaths  Mortality Rate  \\\n",
       "count       178.000000     1.820000e+02     182.000000      182.000000   \n",
       "mean        209.578681     1.798681e+05    5453.186813        2.552053   \n",
       "std         642.276577     7.728216e+05   21079.533796        2.807438   \n",
       "min           2.040609     1.900000e+01       0.000000        0.000000   \n",
       "25%          37.143092     2.930250e+03      50.000000        1.063698   \n",
       "50%          83.949492     1.337950e+04     228.000000        2.004451   \n",
       "75%         204.487818     7.642675e+04    1450.000000        3.071983   \n",
       "max        7952.998418     7.078039e+06  204486.000000       28.916256   \n",
       "\n",
       "       Population_2019      GDP_2019  GDP_per_cap_2019    Avg Temp  \\\n",
       "count     1.820000e+02  1.690000e+02        168.000000  179.000000   \n",
       "mean      4.176762e+07  5.037484e+11      22175.663497   18.511117   \n",
       "std       1.494774e+08  2.060972e+12      22028.464791    8.179984   \n",
       "min       3.386000e+04  4.290166e+08        782.816589   -5.100000   \n",
       "25%       2.689939e+06  1.282700e+10       5398.131919   10.625000   \n",
       "50%       9.758033e+06  4.731962e+10      14747.947505   21.850000   \n",
       "75%       3.040490e+07  2.619210e+11      32413.601215   25.325000   \n",
       "max       1.397715e+09  2.137440e+13     121292.739300   28.290000   \n",
       "\n",
       "       Normalized Cases  Normalized Deaths  \n",
       "count        182.000000         182.000000  \n",
       "mean           0.005142           0.000126  \n",
       "std            0.007289           0.000208  \n",
       "min            0.000003           0.000000  \n",
       "25%            0.000540           0.000008  \n",
       "50%            0.002313           0.000038  \n",
       "75%            0.006527           0.000135  \n",
       "max            0.044084           0.001240  "
      ]
     },
     "execution_count": 75,
     "metadata": {},
     "output_type": "execute_result"
    }
   ],
   "source": [
    "df.describe()"
   ]
  },
  {
   "cell_type": "code",
   "execution_count": 76,
   "id": "6621c887",
   "metadata": {},
   "outputs": [
    {
     "data": {
      "text/plain": [
       "Country Code  TableName    IncomeGroup          PopDensity_2018  Confirmed Cases  Deaths  Mortality Rate  Population_2019  GDP_2019      GDP_per_cap_2019  Main Leader Gender  Any Leader Gender  Avg Temp  Normalized Cases  Normalized Deaths\n",
       "AFG           Afghanistan  Low income           56.937760        39192            1453    3.707389        38041754         1.910135e+10  2293.551684       M                   M                   12.60    0.001030          0.000038             1\n",
       "MLT           Malta        High income          1514.468750      2958             31      1.048005        502653           1.478616e+10  45651.575000      M                   M                   19.20    0.005885          0.000062             1\n",
       "MNE           Montenegro   Upper middle income  46.262230        10197            158     1.549475        622137           5.494737e+09  22988.680200      M                   M                   10.55    0.016390          0.000254             1\n",
       "MNG           Mongolia     Lower middle income  2.040609         313              0       0.000000        3225167          1.385285e+10  12819.948580      M                   M                  -0.70     0.000097          0.000000             1\n",
       "MOZ           Mozambique   Low income           37.508535        7757             54      0.696145        30366036         1.493416e+10  1333.518167       M                   M                   23.80    0.000255          0.000002             1\n",
       "                                                                                                                                                                                                                                                  ..\n",
       "GEO           Georgia      Upper middle income  65.197330        4960             28      0.564516        3720382          1.774320e+10  15636.553760      M                   F                   5.80     0.001333          0.000008             1\n",
       "GHA           Ghana        Lower middle income  130.821429       46222            299     0.646878        30417856         6.698363e+10  5636.953910       M                   M                   27.20    0.001520          0.000010             1\n",
       "GIN           Guinea       Low income           50.522212        10512            65      0.618341        12771246         1.359028e+10  2670.308947       M                   M                   25.70    0.000823          0.000005             1\n",
       "GMB           Gambia, The  Low income           225.306522       3555             110     3.094233        2347706          1.763819e+09  2298.378173       M                   M                   27.50    0.001514          0.000047             1\n",
       "ZWE           Zimbabwe     Lower middle income  37.324591        7803             227     2.909138        14645468         2.144076e+10  2953.484113       M                   M                   21.00    0.000533          0.000016             1\n",
       "Length: 166, dtype: int64"
      ]
     },
     "execution_count": 76,
     "metadata": {},
     "output_type": "execute_result"
    }
   ],
   "source": [
    "df.value_counts()"
   ]
  },
  {
   "cell_type": "code",
   "execution_count": 77,
   "id": "18cea8cd",
   "metadata": {},
   "outputs": [
    {
     "data": {
      "image/png": "[encoded data removed]",
      "text/plain": [
       "<Figure size 432x288 with 1 Axes>"
      ]
     },
     "metadata": {
      "needs_background": "light"
     },
     "output_type": "display_data"
    }
   ],
   "source": [
    "df.Deaths.hist(bins = 30);"
   ]
  },
  {
   "cell_type": "code",
   "execution_count": 78,
   "id": "d1cf8dfb",
   "metadata": {},
   "outputs": [
    {
     "data": {
      "image/png": "[encoded data removed]",
      "text/plain": [
       "<Figure size 432x288 with 1 Axes>"
      ]
     },
     "metadata": {
      "needs_background": "light"
     },
     "output_type": "display_data"
    }
   ],
   "source": [
    "df.GDP_2019.hist(bins=30);"
   ]
  },
  {
   "cell_type": "code",
   "execution_count": 79,
   "id": "cd8b8b76",
   "metadata": {},
   "outputs": [
    {
     "data": {
      "image/png": "[encoded data removed]",
      "text/plain": [
       "<Figure size 432x288 with 1 Axes>"
      ]
     },
     "metadata": {
      "needs_background": "light"
     },
     "output_type": "display_data"
    }
   ],
   "source": [
    "df.GDP_2019.hist();"
   ]
  },
  {
   "cell_type": "code",
   "execution_count": 153,
   "id": "667ac8f2",
   "metadata": {},
   "outputs": [
    {
     "data": {
      "image/png": "[encoded data removed]",
      "text/plain": [
       "<Figure size 432x288 with 1 Axes>"
      ]
     },
     "metadata": {
      "needs_background": "light"
     },
     "output_type": "display_data"
    }
   ],
   "source": [
    "df.Population_2019.hist(bins=30);"
   ]
  },
  {
   "cell_type": "code",
   "execution_count": 154,
   "id": "1fdd2c85",
   "metadata": {},
   "outputs": [
    {
     "data": {
      "image/png": "[encoded data removed]",
      "text/plain": [
       "<Figure size 432x288 with 1 Axes>"
      ]
     },
     "metadata": {
      "needs_background": "light"
     },
     "output_type": "display_data"
    }
   ],
   "source": [
    "df.GDP_per_cap_2019.hist(bins=10);"
   ]
  },
  {
   "cell_type": "code",
   "execution_count": 155,
   "id": "f2f5b1b5",
   "metadata": {},
   "outputs": [
    {
     "data": {
      "image/png": "[encoded data removed]",
      "text/plain": [
       "<Figure size 432x288 with 1 Axes>"
      ]
     },
     "metadata": {
      "needs_background": "light"
     },
     "output_type": "display_data"
    }
   ],
   "source": [
    "df.Population_2019.hist(bins=30);"
   ]
  },
  {
   "cell_type": "markdown",
   "id": "61244c42",
   "metadata": {},
   "source": [
    "# Probability Distributions\n",
    "#### Data generating Process(DGP);\n",
    "(Take me through the process and convince me about what you discovered) gives the idea of probability distribution\n",
    "\n",
    "## Probability Distribution;\n",
    "(PDF)how did you aquire te data ie share the questionaire\n",
    "Describe the data \n",
    "Key interest/variable(why)\n",
    "Relationship(how does it come about)\n",
    "All these lead us to thinking about te following distrubutions\n",
    "1. Normal/ gausian: Most common\n",
    "2.poison\n",
    "3.uniform\n",
    "4.Geonemetry\n",
    "#### Probability comes in away that it leads to wonder forexemple whats the probability taht the goats are real(ref to the goats that were in atree)\n",
    "###### Different distributions derive different meaning from the data\n",
    "# NB\n",
    "-Data Process\n",
    "-Distribution used\n",
    "-Chance of occurrence"
   ]
  },
  {
   "cell_type": "markdown",
   "id": "0ec85700",
   "metadata": {},
   "source": [
    "value = [1,2,3,4,5,6]\n",
    "probability =[1/6,1/6/1/6,1/6,1/6,1/6]\n",
    "# Empirical\n",
    "distribution based on data"
   ]
  },
  {
   "cell_type": "code",
   "execution_count": 156,
   "id": "58fe0b5d",
   "metadata": {},
   "outputs": [
    {
     "name": "stdout",
     "output_type": "stream",
     "text": [
      "Requirement already satisfied: empiricaldist in c:\\users\\pc\\appdata\\local\\programs\\python\\python310\\lib\\site-packages (0.6.7)\n",
      "Note: you may need to restart the kernel to use updated packages.\n"
     ]
    }
   ],
   "source": [
    "pip install empiricaldist"
   ]
  },
  {
   "cell_type": "code",
   "execution_count": 157,
   "id": "badd66c3",
   "metadata": {},
   "outputs": [],
   "source": [
    "from empiricaldist import Pmf"
   ]
  },
  {
   "cell_type": "code",
   "execution_count": 158,
   "id": "69be5349",
   "metadata": {},
   "outputs": [
    {
     "data": {
      "text/html": [
       "<div>\n",
       "<style scoped>\n",
       "    .dataframe tbody tr th:only-of-type {\n",
       "        vertical-align: middle;\n",
       "    }\n",
       "\n",
       "    .dataframe tbody tr th {\n",
       "        vertical-align: top;\n",
       "    }\n",
       "\n",
       "    .dataframe thead th {\n",
       "        text-align: right;\n",
       "    }\n",
       "</style>\n",
       "<table border=\"1\" class=\"dataframe\">\n",
       "  <thead>\n",
       "    <tr style=\"text-align: right;\">\n",
       "      <th></th>\n",
       "      <th>probs</th>\n",
       "    </tr>\n",
       "  </thead>\n",
       "  <tbody>\n",
       "    <tr>\n",
       "      <th>1</th>\n",
       "      <td>0.166667</td>\n",
       "    </tr>\n",
       "    <tr>\n",
       "      <th>2</th>\n",
       "      <td>0.166667</td>\n",
       "    </tr>\n",
       "    <tr>\n",
       "      <th>3</th>\n",
       "      <td>0.166667</td>\n",
       "    </tr>\n",
       "    <tr>\n",
       "      <th>4</th>\n",
       "      <td>0.166667</td>\n",
       "    </tr>\n",
       "    <tr>\n",
       "      <th>5</th>\n",
       "      <td>0.166667</td>\n",
       "    </tr>\n",
       "    <tr>\n",
       "      <th>6</th>\n",
       "      <td>0.166667</td>\n",
       "    </tr>\n",
       "  </tbody>\n",
       "</table>\n",
       "</div>"
      ],
      "text/plain": [
       "1    0.166667\n",
       "2    0.166667\n",
       "3    0.166667\n",
       "4    0.166667\n",
       "5    0.166667\n",
       "6    0.166667\n",
       "Name: , dtype: float64"
      ]
     },
     "execution_count": 158,
     "metadata": {},
     "output_type": "execute_result"
    }
   ],
   "source": [
    "outcome = [1,2,3,4,5,6]\n",
    "die =Pmf(1/6,outcome)\n",
    "die"
   ]
  },
  {
   "cell_type": "markdown",
   "id": "0c2ff6a6",
   "metadata": {},
   "source": [
    "Gss survey\n",
    "it was generated in 1972\n",
    "Gss eplorer=> Gss tool\n",
    "## file formats\n",
    "csv\n",
    "xml\n",
    "R\n",
    "xlsx\n",
    "sav\n",
    "doc\n",
    "txt"
   ]
  },
  {
   "cell_type": "code",
   "execution_count": 159,
   "id": "b657dc74",
   "metadata": {},
   "outputs": [
    {
     "ename": "SyntaxError",
     "evalue": "invalid syntax (2178969467.py, line 2)",
     "output_type": "error",
     "traceback": [
      "\u001b[1;36m  Input \u001b[1;32mIn [159]\u001b[1;36m\u001b[0m\n\u001b[1;33m    pip install statadict\u001b[0m\n\u001b[1;37m        ^\u001b[0m\n\u001b[1;31mSyntaxError\u001b[0m\u001b[1;31m:\u001b[0m invalid syntax\n"
     ]
    }
   ],
   "source": [
    "#library for reading data dictionaries\n",
    "pip install statadict"
   ]
  },
  {
   "cell_type": "code",
   "execution_count": null,
   "id": "82bb7fc6",
   "metadata": {},
   "outputs": [],
   "source": [
    "dict_file = \"Gss.dict\""
   ]
  },
  {
   "cell_type": "code",
   "execution_count": null,
   "id": "85f354a2",
   "metadata": {},
   "outputs": [],
   "source": [
    "data_file = \"Gss.data.gz\""
   ]
  },
  {
   "cell_type": "code",
   "execution_count": null,
   "id": "5d30b9af",
   "metadata": {},
   "outputs": [],
   "source": [
    "from statadict import stataDic\n",
    "stata_dict = parse_stata_dict(dict_file)\n"
   ]
  },
  {
   "cell_type": "code",
   "execution_count": 161,
   "id": "b76f9b42",
   "metadata": {},
   "outputs": [
    {
     "name": "stdout",
     "output_type": "stream",
     "text": [
      "Note: you may need to restart the kernel to use updated packages.\n"
     ]
    },
    {
     "name": "stderr",
     "output_type": "stream",
     "text": [
      "ERROR: Could not find a version that satisfies the requirement gzip (from versions: none)\n",
      "ERROR: No matching distribution found for gzip\n"
     ]
    }
   ],
   "source": [
    "pip install gzip"
   ]
  },
  {
   "cell_type": "code",
   "execution_count": 162,
   "id": "0a9e0a64",
   "metadata": {},
   "outputs": [],
   "source": [
    "import pandas as pd\n"
   ]
  },
  {
   "cell_type": "code",
   "execution_count": 163,
   "id": "94325b2d",
   "metadata": {},
   "outputs": [
    {
     "data": {
      "text/html": [
       "<div>\n",
       "<style scoped>\n",
       "    .dataframe tbody tr th:only-of-type {\n",
       "        vertical-align: middle;\n",
       "    }\n",
       "\n",
       "    .dataframe tbody tr th {\n",
       "        vertical-align: top;\n",
       "    }\n",
       "\n",
       "    .dataframe thead th {\n",
       "        text-align: right;\n",
       "    }\n",
       "</style>\n",
       "<table border=\"1\" class=\"dataframe\">\n",
       "  <thead>\n",
       "    <tr style=\"text-align: right;\">\n",
       "      <th></th>\n",
       "      <th>Country Code</th>\n",
       "      <th>TableName</th>\n",
       "      <th>IncomeGroup</th>\n",
       "      <th>PopDensity_2018</th>\n",
       "      <th>Confirmed Cases</th>\n",
       "      <th>Deaths</th>\n",
       "      <th>Mortality Rate</th>\n",
       "      <th>Population_2019</th>\n",
       "      <th>GDP_2019</th>\n",
       "      <th>GDP_per_cap_2019</th>\n",
       "      <th>Main Leader Gender</th>\n",
       "      <th>Any Leader Gender</th>\n",
       "      <th>Avg Temp</th>\n",
       "      <th>Normalized Cases</th>\n",
       "      <th>Normalized Deaths</th>\n",
       "    </tr>\n",
       "  </thead>\n",
       "  <tbody>\n",
       "    <tr>\n",
       "      <th>0</th>\n",
       "      <td>AFG</td>\n",
       "      <td>Afghanistan</td>\n",
       "      <td>Low income</td>\n",
       "      <td>56.937760</td>\n",
       "      <td>39192</td>\n",
       "      <td>1453</td>\n",
       "      <td>3.707389</td>\n",
       "      <td>38041754</td>\n",
       "      <td>1.910135e+10</td>\n",
       "      <td>2293.551684</td>\n",
       "      <td>M</td>\n",
       "      <td>M</td>\n",
       "      <td>12.60</td>\n",
       "      <td>0.001030</td>\n",
       "      <td>3.820000e-05</td>\n",
       "    </tr>\n",
       "    <tr>\n",
       "      <th>1</th>\n",
       "      <td>AGO</td>\n",
       "      <td>Angola</td>\n",
       "      <td>Lower middle income</td>\n",
       "      <td>24.713052</td>\n",
       "      <td>4672</td>\n",
       "      <td>171</td>\n",
       "      <td>3.660103</td>\n",
       "      <td>31825295</td>\n",
       "      <td>9.463542e+10</td>\n",
       "      <td>6929.678158</td>\n",
       "      <td>M</td>\n",
       "      <td>M</td>\n",
       "      <td>21.55</td>\n",
       "      <td>0.000147</td>\n",
       "      <td>5.370000e-06</td>\n",
       "    </tr>\n",
       "    <tr>\n",
       "      <th>2</th>\n",
       "      <td>ALB</td>\n",
       "      <td>Albania</td>\n",
       "      <td>Upper middle income</td>\n",
       "      <td>104.612263</td>\n",
       "      <td>13153</td>\n",
       "      <td>375</td>\n",
       "      <td>2.851061</td>\n",
       "      <td>2854191</td>\n",
       "      <td>1.527808e+10</td>\n",
       "      <td>14495.078510</td>\n",
       "      <td>M</td>\n",
       "      <td>M</td>\n",
       "      <td>11.40</td>\n",
       "      <td>0.004608</td>\n",
       "      <td>1.313860e-04</td>\n",
       "    </tr>\n",
       "    <tr>\n",
       "      <th>3</th>\n",
       "      <td>AND</td>\n",
       "      <td>Andorra</td>\n",
       "      <td>High income</td>\n",
       "      <td>163.842553</td>\n",
       "      <td>1836</td>\n",
       "      <td>53</td>\n",
       "      <td>2.886710</td>\n",
       "      <td>77142</td>\n",
       "      <td>3.154058e+09</td>\n",
       "      <td>NaN</td>\n",
       "      <td>M</td>\n",
       "      <td>M</td>\n",
       "      <td>7.60</td>\n",
       "      <td>0.023800</td>\n",
       "      <td>6.870450e-04</td>\n",
       "    </tr>\n",
       "    <tr>\n",
       "      <th>4</th>\n",
       "      <td>ARE</td>\n",
       "      <td>United Arab Emirates</td>\n",
       "      <td>High income</td>\n",
       "      <td>135.609110</td>\n",
       "      <td>90618</td>\n",
       "      <td>411</td>\n",
       "      <td>0.453552</td>\n",
       "      <td>9770529</td>\n",
       "      <td>4.211420e+11</td>\n",
       "      <td>69900.877850</td>\n",
       "      <td>M</td>\n",
       "      <td>M</td>\n",
       "      <td>27.00</td>\n",
       "      <td>0.009275</td>\n",
       "      <td>4.210000e-05</td>\n",
       "    </tr>\n",
       "    <tr>\n",
       "      <th>...</th>\n",
       "      <td>...</td>\n",
       "      <td>...</td>\n",
       "      <td>...</td>\n",
       "      <td>...</td>\n",
       "      <td>...</td>\n",
       "      <td>...</td>\n",
       "      <td>...</td>\n",
       "      <td>...</td>\n",
       "      <td>...</td>\n",
       "      <td>...</td>\n",
       "      <td>...</td>\n",
       "      <td>...</td>\n",
       "      <td>...</td>\n",
       "      <td>...</td>\n",
       "      <td>...</td>\n",
       "    </tr>\n",
       "    <tr>\n",
       "      <th>177</th>\n",
       "      <td>VNM</td>\n",
       "      <td>Vietnam</td>\n",
       "      <td>Lower middle income</td>\n",
       "      <td>308.125246</td>\n",
       "      <td>1069</td>\n",
       "      <td>35</td>\n",
       "      <td>3.274088</td>\n",
       "      <td>96462106</td>\n",
       "      <td>2.619210e+11</td>\n",
       "      <td>8374.444328</td>\n",
       "      <td>M</td>\n",
       "      <td>M</td>\n",
       "      <td>24.45</td>\n",
       "      <td>0.000011</td>\n",
       "      <td>3.630000e-07</td>\n",
       "    </tr>\n",
       "    <tr>\n",
       "      <th>178</th>\n",
       "      <td>YEM</td>\n",
       "      <td>Yemen, Rep.</td>\n",
       "      <td>Low income</td>\n",
       "      <td>53.977853</td>\n",
       "      <td>2030</td>\n",
       "      <td>587</td>\n",
       "      <td>28.916256</td>\n",
       "      <td>29161922</td>\n",
       "      <td>NaN</td>\n",
       "      <td>NaN</td>\n",
       "      <td>M</td>\n",
       "      <td>M</td>\n",
       "      <td>23.85</td>\n",
       "      <td>0.000070</td>\n",
       "      <td>2.010000e-05</td>\n",
       "    </tr>\n",
       "    <tr>\n",
       "      <th>179</th>\n",
       "      <td>ZAF</td>\n",
       "      <td>South Africa</td>\n",
       "      <td>Upper middle income</td>\n",
       "      <td>47.630120</td>\n",
       "      <td>669498</td>\n",
       "      <td>16376</td>\n",
       "      <td>2.446012</td>\n",
       "      <td>58558270</td>\n",
       "      <td>3.514320e+11</td>\n",
       "      <td>12999.120260</td>\n",
       "      <td>M</td>\n",
       "      <td>M</td>\n",
       "      <td>17.75</td>\n",
       "      <td>0.011433</td>\n",
       "      <td>2.796530e-04</td>\n",
       "    </tr>\n",
       "    <tr>\n",
       "      <th>180</th>\n",
       "      <td>ZMB</td>\n",
       "      <td>Zambia</td>\n",
       "      <td>Lower middle income</td>\n",
       "      <td>23.341479</td>\n",
       "      <td>14612</td>\n",
       "      <td>332</td>\n",
       "      <td>2.272105</td>\n",
       "      <td>17861030</td>\n",
       "      <td>2.306472e+10</td>\n",
       "      <td>3623.699395</td>\n",
       "      <td>M</td>\n",
       "      <td>M</td>\n",
       "      <td>21.40</td>\n",
       "      <td>0.000818</td>\n",
       "      <td>1.860000e-05</td>\n",
       "    </tr>\n",
       "    <tr>\n",
       "      <th>181</th>\n",
       "      <td>ZWE</td>\n",
       "      <td>Zimbabwe</td>\n",
       "      <td>Lower middle income</td>\n",
       "      <td>37.324591</td>\n",
       "      <td>7803</td>\n",
       "      <td>227</td>\n",
       "      <td>2.909138</td>\n",
       "      <td>14645468</td>\n",
       "      <td>2.144076e+10</td>\n",
       "      <td>2953.484113</td>\n",
       "      <td>M</td>\n",
       "      <td>M</td>\n",
       "      <td>21.00</td>\n",
       "      <td>0.000533</td>\n",
       "      <td>1.550000e-05</td>\n",
       "    </tr>\n",
       "  </tbody>\n",
       "</table>\n",
       "<p>182 rows × 15 columns</p>\n",
       "</div>"
      ],
      "text/plain": [
       "    Country Code             TableName          IncomeGroup  PopDensity_2018  \\\n",
       "0            AFG           Afghanistan           Low income        56.937760   \n",
       "1            AGO                Angola  Lower middle income        24.713052   \n",
       "2            ALB               Albania  Upper middle income       104.612263   \n",
       "3            AND               Andorra          High income       163.842553   \n",
       "4            ARE  United Arab Emirates          High income       135.609110   \n",
       "..           ...                   ...                  ...              ...   \n",
       "177          VNM               Vietnam  Lower middle income       308.125246   \n",
       "178          YEM           Yemen, Rep.           Low income        53.977853   \n",
       "179          ZAF          South Africa  Upper middle income        47.630120   \n",
       "180          ZMB                Zambia  Lower middle income        23.341479   \n",
       "181          ZWE              Zimbabwe  Lower middle income        37.324591   \n",
       "\n",
       "     Confirmed Cases  Deaths  Mortality Rate  Population_2019      GDP_2019  \\\n",
       "0              39192    1453        3.707389         38041754  1.910135e+10   \n",
       "1               4672     171        3.660103         31825295  9.463542e+10   \n",
       "2              13153     375        2.851061          2854191  1.527808e+10   \n",
       "3               1836      53        2.886710            77142  3.154058e+09   \n",
       "4              90618     411        0.453552          9770529  4.211420e+11   \n",
       "..               ...     ...             ...              ...           ...   \n",
       "177             1069      35        3.274088         96462106  2.619210e+11   \n",
       "178             2030     587       28.916256         29161922           NaN   \n",
       "179           669498   16376        2.446012         58558270  3.514320e+11   \n",
       "180            14612     332        2.272105         17861030  2.306472e+10   \n",
       "181             7803     227        2.909138         14645468  2.144076e+10   \n",
       "\n",
       "     GDP_per_cap_2019 Main Leader Gender Any Leader Gender  Avg Temp  \\\n",
       "0         2293.551684                  M                 M     12.60   \n",
       "1         6929.678158                  M                 M     21.55   \n",
       "2        14495.078510                  M                 M     11.40   \n",
       "3                 NaN                  M                 M      7.60   \n",
       "4        69900.877850                  M                 M     27.00   \n",
       "..                ...                ...               ...       ...   \n",
       "177       8374.444328                  M                 M     24.45   \n",
       "178               NaN                  M                 M     23.85   \n",
       "179      12999.120260                  M                 M     17.75   \n",
       "180       3623.699395                  M                 M     21.40   \n",
       "181       2953.484113                  M                 M     21.00   \n",
       "\n",
       "     Normalized Cases  Normalized Deaths  \n",
       "0            0.001030       3.820000e-05  \n",
       "1            0.000147       5.370000e-06  \n",
       "2            0.004608       1.313860e-04  \n",
       "3            0.023800       6.870450e-04  \n",
       "4            0.009275       4.210000e-05  \n",
       "..                ...                ...  \n",
       "177          0.000011       3.630000e-07  \n",
       "178          0.000070       2.010000e-05  \n",
       "179          0.011433       2.796530e-04  \n",
       "180          0.000818       1.860000e-05  \n",
       "181          0.000533       1.550000e-05  \n",
       "\n",
       "[182 rows x 15 columns]"
      ]
     },
     "execution_count": 163,
     "metadata": {},
     "output_type": "execute_result"
    }
   ],
   "source": [
    "data_frame = pd.read_csv(\"data/unified-data-per-country.csv\")\n",
    "data_frame"
   ]
  },
  {
   "cell_type": "code",
   "execution_count": 164,
   "id": "f7f87ccd",
   "metadata": {},
   "outputs": [
    {
     "data": {
      "text/plain": [
       "Index(['Country Code', 'TableName', 'IncomeGroup', 'PopDensity_2018',\n",
       "       'Confirmed Cases', 'Deaths', 'Mortality Rate', 'Population_2019',\n",
       "       'GDP_2019', 'GDP_per_cap_2019', 'Main Leader Gender',\n",
       "       'Any Leader Gender', 'Avg Temp', 'Normalized Cases',\n",
       "       'Normalized Deaths'],\n",
       "      dtype='object')"
      ]
     },
     "execution_count": 164,
     "metadata": {},
     "output_type": "execute_result"
    }
   ],
   "source": [
    "data_frame.columns"
   ]
  },
  {
   "cell_type": "code",
   "execution_count": 165,
   "id": "0aa38494",
   "metadata": {},
   "outputs": [
    {
     "data": {
      "text/plain": [
       "33860         1\n",
       "38019         1\n",
       "38964         1\n",
       "52823         1\n",
       "71808         1\n",
       "             ..\n",
       "216565318     1\n",
       "270625568     1\n",
       "328239523     1\n",
       "1366417754    1\n",
       "1397715000    1\n",
       "Name: Population_2019, Length: 182, dtype: int64"
      ]
     },
     "execution_count": 165,
     "metadata": {},
     "output_type": "execute_result"
    }
   ],
   "source": [
    "data_frame['Population_2019'].value_counts().sort_index()"
   ]
  },
  {
   "cell_type": "code",
   "execution_count": 166,
   "id": "4a596e82",
   "metadata": {},
   "outputs": [
    {
     "data": {
      "text/plain": [
       "38041754    1\n",
       "622137      1\n",
       "30366036    1\n",
       "4525696     1\n",
       "1265711     1\n",
       "           ..\n",
       "30417856    1\n",
       "12771246    1\n",
       "2347706     1\n",
       "1920922     1\n",
       "14645468    1\n",
       "Name: Population_2019, Length: 182, dtype: int64"
      ]
     },
     "execution_count": 166,
     "metadata": {},
     "output_type": "execute_result"
    }
   ],
   "source": [
    "#without Sort_index\n",
    "data_frame['Population_2019'].value_counts()"
   ]
  },
  {
   "cell_type": "code",
   "execution_count": 167,
   "id": "d723c770",
   "metadata": {},
   "outputs": [
    {
     "data": {
      "text/plain": [
       "0      38041754\n",
       "1      31825295\n",
       "2       2854191\n",
       "3         77142\n",
       "4       9770529\n",
       "         ...   \n",
       "177    96462106\n",
       "178    29161922\n",
       "179    58558270\n",
       "180    17861030\n",
       "181    14645468\n",
       "Name: Population_2019, Length: 182, dtype: int64"
      ]
     },
     "execution_count": 167,
     "metadata": {},
     "output_type": "execute_result"
    }
   ],
   "source": [
    "#without Value_count\n",
    "data_frame['Population_2019'].sort_index()"
   ]
  },
  {
   "cell_type": "code",
   "execution_count": 168,
   "id": "06146e70",
   "metadata": {},
   "outputs": [],
   "source": [
    "import matplotlib.pyplot as plt"
   ]
  },
  {
   "cell_type": "code",
   "execution_count": 169,
   "id": "f3dbbae6",
   "metadata": {},
   "outputs": [
    {
     "data": {
      "text/plain": [
       "33860         1\n",
       "38019         1\n",
       "38964         1\n",
       "52823         1\n",
       "71808         1\n",
       "             ..\n",
       "216565318     1\n",
       "270625568     1\n",
       "328239523     1\n",
       "1366417754    1\n",
       "1397715000    1\n",
       "Name: Population_2019, Length: 182, dtype: int64"
      ]
     },
     "execution_count": 169,
     "metadata": {},
     "output_type": "execute_result"
    }
   ],
   "source": [
    "histo = data_frame['Population_2019'].value_counts().sort_index()\n",
    "histo"
   ]
  },
  {
   "cell_type": "code",
   "execution_count": 170,
   "id": "bafb5d39",
   "metadata": {},
   "outputs": [
    {
     "data": {
      "image/png": "[encoded data removed]",
      "text/plain": [
       "<Figure size 432x288 with 1 Axes>"
      ]
     },
     "metadata": {
      "needs_background": "light"
     },
     "output_type": "display_data"
    }
   ],
   "source": [
    "data_frame.hist(\"Population_2019\");\n",
    "\n"
   ]
  },
  {
   "cell_type": "code",
   "execution_count": 171,
   "id": "cf6e1f85",
   "metadata": {},
   "outputs": [
    {
     "data": {
      "text/html": [
       "<div>\n",
       "<style scoped>\n",
       "    .dataframe tbody tr th:only-of-type {\n",
       "        vertical-align: middle;\n",
       "    }\n",
       "\n",
       "    .dataframe tbody tr th {\n",
       "        vertical-align: top;\n",
       "    }\n",
       "\n",
       "    .dataframe thead th {\n",
       "        text-align: right;\n",
       "    }\n",
       "</style>\n",
       "<table border=\"1\" class=\"dataframe\">\n",
       "  <thead>\n",
       "    <tr style=\"text-align: right;\">\n",
       "      <th></th>\n",
       "      <th>probs</th>\n",
       "    </tr>\n",
       "  </thead>\n",
       "  <tbody>\n",
       "    <tr>\n",
       "      <th>Population_2019</th>\n",
       "      <td>1</td>\n",
       "    </tr>\n",
       "  </tbody>\n",
       "</table>\n",
       "</div>"
      ],
      "text/plain": [
       "Population_2019    1\n",
       "Name: , dtype: int64"
      ]
     },
     "execution_count": 171,
     "metadata": {},
     "output_type": "execute_result"
    }
   ],
   "source": [
    "Pmf_Population_2019 = Pmf.from_seq(\"Population_2019\",normalize = False)\n",
    "Pmf_Population_2019\n"
   ]
  },
  {
   "cell_type": "code",
   "execution_count": 172,
   "id": "6eb012f6",
   "metadata": {},
   "outputs": [
    {
     "data": {
      "text/plain": [
       "empiricaldist.empiricaldist.Pmf"
      ]
     },
     "execution_count": 172,
     "metadata": {},
     "output_type": "execute_result"
    }
   ],
   "source": [
    "type(Pmf_Population_2019)"
   ]
  },
  {
   "cell_type": "code",
   "execution_count": 173,
   "id": "ad1ca4e2",
   "metadata": {},
   "outputs": [
    {
     "data": {
      "text/html": [
       "<div>\n",
       "<style scoped>\n",
       "    .dataframe tbody tr th:only-of-type {\n",
       "        vertical-align: middle;\n",
       "    }\n",
       "\n",
       "    .dataframe tbody tr th {\n",
       "        vertical-align: top;\n",
       "    }\n",
       "\n",
       "    .dataframe thead th {\n",
       "        text-align: right;\n",
       "    }\n",
       "</style>\n",
       "<table border=\"1\" class=\"dataframe\">\n",
       "  <thead>\n",
       "    <tr style=\"text-align: right;\">\n",
       "      <th></th>\n",
       "      <th>probs</th>\n",
       "    </tr>\n",
       "  </thead>\n",
       "  <tbody>\n",
       "    <tr>\n",
       "      <th>Population_2019</th>\n",
       "      <td>1</td>\n",
       "    </tr>\n",
       "  </tbody>\n",
       "</table>\n",
       "</div>"
      ],
      "text/plain": [
       "Population_2019    1\n",
       "Name: , dtype: int64"
      ]
     },
     "execution_count": 173,
     "metadata": {},
     "output_type": "execute_result"
    }
   ],
   "source": [
    "Pmf_Population_2019.head()"
   ]
  },
  {
   "cell_type": "code",
   "execution_count": 174,
   "id": "e55168a2",
   "metadata": {},
   "outputs": [
    {
     "data": {
      "text/html": [
       "<div>\n",
       "<style scoped>\n",
       "    .dataframe tbody tr th:only-of-type {\n",
       "        vertical-align: middle;\n",
       "    }\n",
       "\n",
       "    .dataframe tbody tr th {\n",
       "        vertical-align: top;\n",
       "    }\n",
       "\n",
       "    .dataframe thead th {\n",
       "        text-align: right;\n",
       "    }\n",
       "</style>\n",
       "<table border=\"1\" class=\"dataframe\">\n",
       "  <thead>\n",
       "    <tr style=\"text-align: right;\">\n",
       "      <th></th>\n",
       "      <th>probs</th>\n",
       "    </tr>\n",
       "  </thead>\n",
       "  <tbody>\n",
       "    <tr>\n",
       "      <th>Population_2019</th>\n",
       "      <td>1</td>\n",
       "    </tr>\n",
       "  </tbody>\n",
       "</table>\n",
       "</div>"
      ],
      "text/plain": [
       "Population_2019    1\n",
       "Name: , dtype: int64"
      ]
     },
     "execution_count": 174,
     "metadata": {},
     "output_type": "execute_result"
    }
   ],
   "source": [
    "Pmf_Population_2019.tail()"
   ]
  },
  {
   "cell_type": "code",
   "execution_count": 175,
   "id": "bdd218f7",
   "metadata": {},
   "outputs": [
    {
     "data": {
      "text/html": [
       "<div>\n",
       "<style scoped>\n",
       "    .dataframe tbody tr th:only-of-type {\n",
       "        vertical-align: middle;\n",
       "    }\n",
       "\n",
       "    .dataframe tbody tr th {\n",
       "        vertical-align: top;\n",
       "    }\n",
       "\n",
       "    .dataframe thead th {\n",
       "        text-align: right;\n",
       "    }\n",
       "</style>\n",
       "<table border=\"1\" class=\"dataframe\">\n",
       "  <thead>\n",
       "    <tr style=\"text-align: right;\">\n",
       "      <th></th>\n",
       "      <th>probs</th>\n",
       "    </tr>\n",
       "  </thead>\n",
       "  <tbody>\n",
       "    <tr>\n",
       "      <th>Population_2019</th>\n",
       "      <td>1.0</td>\n",
       "    </tr>\n",
       "  </tbody>\n",
       "</table>\n",
       "</div>"
      ],
      "text/plain": [
       "Population_2019    1.0\n",
       "Name: , dtype: float64"
      ]
     },
     "execution_count": 175,
     "metadata": {},
     "output_type": "execute_result"
    }
   ],
   "source": [
    "Pmf_Population_2019 = Pmf.from_seq(\"Population_2019\",normalize = True)\n",
    "Pmf_Population_2019"
   ]
  },
  {
   "cell_type": "code",
   "execution_count": 176,
   "id": "290b413b",
   "metadata": {},
   "outputs": [
    {
     "data": {
      "text/html": [
       "<div>\n",
       "<style scoped>\n",
       "    .dataframe tbody tr th:only-of-type {\n",
       "        vertical-align: middle;\n",
       "    }\n",
       "\n",
       "    .dataframe tbody tr th {\n",
       "        vertical-align: top;\n",
       "    }\n",
       "\n",
       "    .dataframe thead th {\n",
       "        text-align: right;\n",
       "    }\n",
       "</style>\n",
       "<table border=\"1\" class=\"dataframe\">\n",
       "  <thead>\n",
       "    <tr style=\"text-align: right;\">\n",
       "      <th></th>\n",
       "      <th>probs</th>\n",
       "    </tr>\n",
       "  </thead>\n",
       "  <tbody>\n",
       "    <tr>\n",
       "      <th>Population_2019</th>\n",
       "      <td>1.0</td>\n",
       "    </tr>\n",
       "  </tbody>\n",
       "</table>\n",
       "</div>"
      ],
      "text/plain": [
       "Population_2019    1.0\n",
       "Name: , dtype: float64"
      ]
     },
     "execution_count": 176,
     "metadata": {},
     "output_type": "execute_result"
    }
   ],
   "source": [
    "Pmf_Population_2019.head()"
   ]
  },
  {
   "cell_type": "code",
   "execution_count": 178,
   "id": "251a8462",
   "metadata": {},
   "outputs": [
    {
     "data": {
      "text/html": [
       "<div>\n",
       "<style scoped>\n",
       "    .dataframe tbody tr th:only-of-type {\n",
       "        vertical-align: middle;\n",
       "    }\n",
       "\n",
       "    .dataframe tbody tr th {\n",
       "        vertical-align: top;\n",
       "    }\n",
       "\n",
       "    .dataframe thead th {\n",
       "        text-align: right;\n",
       "    }\n",
       "</style>\n",
       "<table border=\"1\" class=\"dataframe\">\n",
       "  <thead>\n",
       "    <tr style=\"text-align: right;\">\n",
       "      <th></th>\n",
       "      <th>probs</th>\n",
       "    </tr>\n",
       "  </thead>\n",
       "  <tbody>\n",
       "    <tr>\n",
       "      <th>Population_2019</th>\n",
       "      <td>1.0</td>\n",
       "    </tr>\n",
       "  </tbody>\n",
       "</table>\n",
       "</div>"
      ],
      "text/plain": [
       "Population_2019    1.0\n",
       "Name: , dtype: float64"
      ]
     },
     "execution_count": 178,
     "metadata": {},
     "output_type": "execute_result"
    }
   ],
   "source": [
    "Pmf_Population_2019.tail()"
   ]
  },
  {
   "cell_type": "code",
   "execution_count": 179,
   "id": "50feec4e",
   "metadata": {},
   "outputs": [
    {
     "data": {
      "text/html": [
       "<div>\n",
       "<style scoped>\n",
       "    .dataframe tbody tr th:only-of-type {\n",
       "        vertical-align: middle;\n",
       "    }\n",
       "\n",
       "    .dataframe tbody tr th {\n",
       "        vertical-align: top;\n",
       "    }\n",
       "\n",
       "    .dataframe thead th {\n",
       "        text-align: right;\n",
       "    }\n",
       "</style>\n",
       "<table border=\"1\" class=\"dataframe\">\n",
       "  <thead>\n",
       "    <tr style=\"text-align: right;\">\n",
       "      <th></th>\n",
       "      <th>probs</th>\n",
       "    </tr>\n",
       "  </thead>\n",
       "  <tbody>\n",
       "    <tr>\n",
       "      <th>Normalized Cases</th>\n",
       "      <td>1.0</td>\n",
       "    </tr>\n",
       "  </tbody>\n",
       "</table>\n",
       "</div>"
      ],
      "text/plain": [
       "Normalized Cases    1.0\n",
       "Name: , dtype: float64"
      ]
     },
     "execution_count": 179,
     "metadata": {},
     "output_type": "execute_result"
    }
   ],
   "source": [
    "Pmf_Normalized_cases = Pmf.from_seq(\"Normalized Cases\",normalize = True)\n",
    "Pmf_Normalized_cases"
   ]
  },
  {
   "cell_type": "code",
   "execution_count": 180,
   "id": "3b67fb71",
   "metadata": {},
   "outputs": [
    {
     "data": {
      "text/html": [
       "<div>\n",
       "<style scoped>\n",
       "    .dataframe tbody tr th:only-of-type {\n",
       "        vertical-align: middle;\n",
       "    }\n",
       "\n",
       "    .dataframe tbody tr th {\n",
       "        vertical-align: top;\n",
       "    }\n",
       "\n",
       "    .dataframe thead th {\n",
       "        text-align: right;\n",
       "    }\n",
       "</style>\n",
       "<table border=\"1\" class=\"dataframe\">\n",
       "  <thead>\n",
       "    <tr style=\"text-align: right;\">\n",
       "      <th></th>\n",
       "      <th>probs</th>\n",
       "    </tr>\n",
       "  </thead>\n",
       "  <tbody>\n",
       "    <tr>\n",
       "      <th>Normalized Cases</th>\n",
       "      <td>1</td>\n",
       "    </tr>\n",
       "  </tbody>\n",
       "</table>\n",
       "</div>"
      ],
      "text/plain": [
       "Normalized Cases    1\n",
       "Name: , dtype: int64"
      ]
     },
     "execution_count": 180,
     "metadata": {},
     "output_type": "execute_result"
    }
   ],
   "source": [
    "Pmf_Normalized_cases = Pmf.from_seq(\"Normalized Cases\",normalize = False)\n",
    "Pmf_Normalized_cases"
   ]
  },
  {
   "cell_type": "code",
   "execution_count": 181,
   "id": "0bca921f",
   "metadata": {},
   "outputs": [
    {
     "data": {
      "text/plain": [
       "empiricaldist.empiricaldist.Pmf"
      ]
     },
     "execution_count": 181,
     "metadata": {},
     "output_type": "execute_result"
    }
   ],
   "source": [
    "type(Pmf_Normalized_cases)"
   ]
  },
  {
   "cell_type": "code",
   "execution_count": 182,
   "id": "13391d61",
   "metadata": {},
   "outputs": [
    {
     "data": {
      "text/html": [
       "<div>\n",
       "<style scoped>\n",
       "    .dataframe tbody tr th:only-of-type {\n",
       "        vertical-align: middle;\n",
       "    }\n",
       "\n",
       "    .dataframe tbody tr th {\n",
       "        vertical-align: top;\n",
       "    }\n",
       "\n",
       "    .dataframe thead th {\n",
       "        text-align: right;\n",
       "    }\n",
       "</style>\n",
       "<table border=\"1\" class=\"dataframe\">\n",
       "  <thead>\n",
       "    <tr style=\"text-align: right;\">\n",
       "      <th></th>\n",
       "      <th>probs</th>\n",
       "    </tr>\n",
       "  </thead>\n",
       "  <tbody>\n",
       "    <tr>\n",
       "      <th>Normalized Cases</th>\n",
       "      <td>1</td>\n",
       "    </tr>\n",
       "  </tbody>\n",
       "</table>\n",
       "</div>"
      ],
      "text/plain": [
       "Normalized Cases    1\n",
       "Name: , dtype: int64"
      ]
     },
     "execution_count": 182,
     "metadata": {},
     "output_type": "execute_result"
    }
   ],
   "source": [
    "Pmf_Normalized_cases.head()"
   ]
  },
  {
   "cell_type": "code",
   "execution_count": 183,
   "id": "6feb9589",
   "metadata": {},
   "outputs": [
    {
     "data": {
      "text/html": [
       "<div>\n",
       "<style scoped>\n",
       "    .dataframe tbody tr th:only-of-type {\n",
       "        vertical-align: middle;\n",
       "    }\n",
       "\n",
       "    .dataframe tbody tr th {\n",
       "        vertical-align: top;\n",
       "    }\n",
       "\n",
       "    .dataframe thead th {\n",
       "        text-align: right;\n",
       "    }\n",
       "</style>\n",
       "<table border=\"1\" class=\"dataframe\">\n",
       "  <thead>\n",
       "    <tr style=\"text-align: right;\">\n",
       "      <th></th>\n",
       "      <th>probs</th>\n",
       "    </tr>\n",
       "  </thead>\n",
       "  <tbody>\n",
       "    <tr>\n",
       "      <th>Normalized Cases</th>\n",
       "      <td>1</td>\n",
       "    </tr>\n",
       "  </tbody>\n",
       "</table>\n",
       "</div>"
      ],
      "text/plain": [
       "Normalized Cases    1\n",
       "Name: , dtype: int64"
      ]
     },
     "execution_count": 183,
     "metadata": {},
     "output_type": "execute_result"
    }
   ],
   "source": [
    "Pmf_Normalized_cases.tail()"
   ]
  },
  {
   "cell_type": "code",
   "execution_count": 184,
   "id": "ed7879b2",
   "metadata": {},
   "outputs": [
    {
     "data": {
      "text/html": [
       "<div>\n",
       "<style scoped>\n",
       "    .dataframe tbody tr th:only-of-type {\n",
       "        vertical-align: middle;\n",
       "    }\n",
       "\n",
       "    .dataframe tbody tr th {\n",
       "        vertical-align: top;\n",
       "    }\n",
       "\n",
       "    .dataframe thead th {\n",
       "        text-align: right;\n",
       "    }\n",
       "</style>\n",
       "<table border=\"1\" class=\"dataframe\">\n",
       "  <thead>\n",
       "    <tr style=\"text-align: right;\">\n",
       "      <th></th>\n",
       "      <th>probs</th>\n",
       "    </tr>\n",
       "  </thead>\n",
       "  <tbody>\n",
       "    <tr>\n",
       "      <th>Deaths</th>\n",
       "      <td>1</td>\n",
       "    </tr>\n",
       "  </tbody>\n",
       "</table>\n",
       "</div>"
      ],
      "text/plain": [
       "Deaths    1\n",
       "Name: , dtype: int64"
      ]
     },
     "execution_count": 184,
     "metadata": {},
     "output_type": "execute_result"
    }
   ],
   "source": [
    "Pmf_Deaths = Pmf.from_seq(\"Deaths\",normalize = False)\n",
    "Pmf_Deaths"
   ]
  },
  {
   "cell_type": "code",
   "execution_count": 185,
   "id": "1e51d332",
   "metadata": {},
   "outputs": [
    {
     "data": {
      "text/html": [
       "<div>\n",
       "<style scoped>\n",
       "    .dataframe tbody tr th:only-of-type {\n",
       "        vertical-align: middle;\n",
       "    }\n",
       "\n",
       "    .dataframe tbody tr th {\n",
       "        vertical-align: top;\n",
       "    }\n",
       "\n",
       "    .dataframe thead th {\n",
       "        text-align: right;\n",
       "    }\n",
       "</style>\n",
       "<table border=\"1\" class=\"dataframe\">\n",
       "  <thead>\n",
       "    <tr style=\"text-align: right;\">\n",
       "      <th></th>\n",
       "      <th>probs</th>\n",
       "    </tr>\n",
       "  </thead>\n",
       "  <tbody>\n",
       "    <tr>\n",
       "      <th>Deaths</th>\n",
       "      <td>1.0</td>\n",
       "    </tr>\n",
       "  </tbody>\n",
       "</table>\n",
       "</div>"
      ],
      "text/plain": [
       "Deaths    1.0\n",
       "Name: , dtype: float64"
      ]
     },
     "execution_count": 185,
     "metadata": {},
     "output_type": "execute_result"
    }
   ],
   "source": [
    "Pmf_Deaths = Pmf.from_seq(\"Deaths\",normalize = True)\n",
    "Pmf_Deaths"
   ]
  },
  {
   "cell_type": "markdown",
   "id": "2681077f",
   "metadata": {},
   "source": [
    "# Modeling Distributions"
   ]
  },
  {
   "cell_type": "code",
   "execution_count": 186,
   "id": "22cb6ea6",
   "metadata": {},
   "outputs": [],
   "source": [
    "import numpy as np"
   ]
  },
  {
   "cell_type": "code",
   "execution_count": 187,
   "id": "fe21a1cb",
   "metadata": {},
   "outputs": [
    {
     "data": {
      "text/plain": [
       "array([ 1.06000952e+00, -8.20129410e-01,  1.16216992e+00, -1.93186538e-01,\n",
       "       -2.56645971e-01, -2.10477428e+00, -4.98992910e-01, -3.51959720e-01,\n",
       "        4.77041677e-03,  1.96244048e-01,  1.07016665e+00,  2.22780281e-01,\n",
       "       -3.24281876e-01,  3.43639955e-02,  7.28314198e-01,  6.51419368e-01,\n",
       "       -2.28481769e-01,  7.66342053e-01, -6.28890430e-01, -9.12851036e-01,\n",
       "       -8.92567893e-01,  3.41418445e-01, -8.59943293e-01, -9.94407148e-01,\n",
       "       -4.42742679e-01,  2.52009401e+00,  3.88437033e-03,  1.33660321e-01,\n",
       "       -3.92918526e-01,  1.87934577e+00,  1.42002512e+00,  4.91364687e-01,\n",
       "        2.57562335e-01, -5.37487156e-01,  3.95636336e-01, -1.19516244e-01,\n",
       "        3.39169158e-01,  1.06557811e+00, -2.23543540e+00,  1.30860208e+00,\n",
       "        1.69690355e+00,  5.26178237e-01,  1.43968108e+00, -1.04836509e+00,\n",
       "        2.03859084e+00, -3.01169170e-01, -1.71907322e+00,  5.17065466e-01,\n",
       "       -1.03125715e-01,  5.48100292e-01, -1.19149978e+00, -5.08778564e-01,\n",
       "        3.89571427e-01,  3.78382853e-01, -8.70412067e-01,  5.22418398e-01,\n",
       "        4.52462921e-01, -1.58503946e+00,  7.47535864e-01, -1.00784849e+00,\n",
       "        1.77542318e-01, -7.71613246e-02, -7.19078648e-01,  8.65922171e-01,\n",
       "        2.46118179e-01,  1.54404978e+00, -3.78977851e-01,  5.72937750e-01,\n",
       "        5.36405214e-02,  6.38446915e-01,  9.26854861e-01,  1.24880089e+00,\n",
       "        2.05182353e+00,  4.94560549e-01, -1.78761777e-01, -2.40339707e+00,\n",
       "        8.82314140e-01,  1.14134952e-01,  1.04591172e+00, -3.49145715e-02,\n",
       "       -1.57653188e+00,  8.91474095e-01, -1.88679826e+00, -1.44695743e+00,\n",
       "        8.58895880e-03,  6.93766025e-01, -3.25591383e-01,  1.70542347e+00,\n",
       "        1.42604837e+00, -1.06826584e+00, -1.08489833e+00,  1.39285480e+00,\n",
       "        1.51009143e+00, -1.47284452e+00, -5.06465970e-01, -6.92204472e-01,\n",
       "        3.56572198e-01, -1.21037751e+00, -5.98557865e-01, -1.66352008e+00,\n",
       "       -4.14277766e-01,  1.69477847e-01,  3.79832886e-01,  1.36356664e+00,\n",
       "       -8.20595052e-01, -5.27741014e-01, -1.28165290e-01,  1.24117025e+00,\n",
       "        5.11890846e-01, -1.69533525e+00,  9.52261244e-01,  1.61729693e-01,\n",
       "        8.95476666e-01,  1.78386199e-01, -1.67535600e+00,  9.35846975e-01,\n",
       "        1.13115989e+00, -1.32130740e+00,  1.28349722e+00, -9.65153420e-01,\n",
       "       -1.15106691e+00, -2.01471938e+00, -1.88828062e-01, -2.13466019e+00,\n",
       "        3.05065388e-01,  1.40404162e+00,  1.12616542e+00,  6.90258115e-01,\n",
       "       -6.59258342e-02,  1.45991712e+00, -1.89178666e-01,  8.63889926e-01,\n",
       "       -9.18455659e-01, -1.74467661e+00, -5.09623414e-01,  1.62744907e+00,\n",
       "       -1.12417335e+00, -1.09010872e+00,  5.60188863e-01,  9.02046496e-01,\n",
       "       -1.16180343e+00, -1.07084921e+00,  1.32769863e-01, -3.73008017e-02,\n",
       "        8.01336611e-01,  1.70787370e+00,  5.83244928e-01,  2.88488997e-01,\n",
       "       -1.89060110e+00, -1.58283372e+00,  6.77812736e-01,  1.24372698e+00,\n",
       "       -5.73135786e-01, -4.80240197e-01,  1.19230536e+00,  1.71472875e+00,\n",
       "        1.11711367e+00,  9.27711470e-01, -8.62841656e-01,  1.95774418e-01,\n",
       "       -7.18796596e-01, -2.39391314e-01, -1.99931481e-01,  1.24565851e+00,\n",
       "       -1.28466260e+00,  3.37012697e-01, -6.54166049e-01,  2.93685099e+00,\n",
       "       -3.27213008e-01,  1.71496432e+00,  1.45923305e+00,  2.04909218e-01,\n",
       "       -1.27448822e+00,  1.81277387e+00,  3.77802389e-02, -2.99185159e-01,\n",
       "       -2.56258680e-01, -6.36050237e-01,  8.37623681e-01,  5.58000517e-01,\n",
       "       -1.76577402e-01,  1.17848598e-01,  2.57202747e+00,  7.66285452e-01,\n",
       "       -6.34279694e-01, -6.98720745e-01, -1.98733960e+00,  6.27507566e-01,\n",
       "       -6.96198829e-01, -2.21540936e-01,  3.62197822e-01, -5.20241461e-01,\n",
       "        3.23105597e-01,  2.50292596e-01, -1.89386868e+00,  1.12760047e-01,\n",
       "        6.96444643e-01,  1.78980415e+00,  1.29808379e+00,  6.47279261e-01,\n",
       "       -1.27527156e+00,  3.52062495e-01,  3.89097708e-02,  1.19821650e+00,\n",
       "       -1.12032692e+00, -4.40756634e-02, -3.46061766e-03, -1.76336667e+00,\n",
       "        1.53142292e+00,  7.99454344e-01,  1.06400947e+00, -7.75657573e-01,\n",
       "       -4.76851307e-01,  4.90280767e-01,  2.41206587e-01, -6.21357236e-01,\n",
       "       -3.22746002e-01, -9.52656975e-01,  8.00285622e-01, -1.54559731e+00,\n",
       "        4.09197863e-01, -7.97318282e-01, -2.55287080e-01,  6.75879557e-01,\n",
       "        1.65214742e+00, -5.74653916e-01, -1.30260399e-01,  7.60400546e-02,\n",
       "       -8.43782342e-02,  1.83333139e+00, -1.60908981e+00,  8.56912601e-01,\n",
       "       -1.49859948e+00,  3.98628081e-01, -6.94556981e-01,  1.35230888e+00,\n",
       "       -4.13776188e-01, -4.45602537e-01,  7.24252262e-01, -4.72719842e-01,\n",
       "       -8.02150944e-01, -1.70510215e+00,  2.22335827e+00,  6.74540719e-01,\n",
       "       -2.65349000e-01, -1.61208322e+00, -1.86983712e-01,  7.85786132e-02,\n",
       "       -9.45956372e-01,  1.22403259e+00, -1.17561204e+00, -4.17095761e-01,\n",
       "        4.71026264e-01,  2.99701925e-01,  5.23190467e-01,  1.25240910e+00,\n",
       "        1.43059896e+00,  1.33911055e+00,  1.47372083e+00,  8.58433596e-01,\n",
       "        7.14081011e-01, -2.02017114e-01,  1.59715414e+00,  9.65638080e-01,\n",
       "       -1.26085148e+00,  2.16185949e-01,  1.54112763e+00,  1.72327600e-01,\n",
       "        1.16220726e+00,  7.33312479e-01,  7.26720985e-01,  4.73912918e-01,\n",
       "       -1.93992279e+00,  9.00881428e-01, -1.02870014e+00, -8.95357165e-01,\n",
       "        1.02760849e-01, -8.13334578e-01, -1.65866333e+00, -5.71930974e-01,\n",
       "        6.00521238e-01,  1.44485274e+00,  1.23149240e+00,  2.08198994e-01,\n",
       "        4.26794168e-01, -4.80761752e-02, -5.66146452e-01, -3.59945407e-01,\n",
       "       -9.34068220e-01, -3.16913136e-01,  1.97971646e-01, -7.14869315e-01,\n",
       "        1.19900625e+00,  1.35302850e+00, -1.45281181e+00, -2.51955301e-02,\n",
       "       -5.40916430e-02,  2.41142516e+00, -4.80087216e-01, -1.13548938e+00,\n",
       "       -8.78784335e-02,  1.12152627e+00, -1.45223093e+00, -2.31203841e-01,\n",
       "        1.87853945e+00,  2.87304331e-01, -1.47352271e-01, -7.73480536e-01,\n",
       "       -1.34522364e+00, -1.56847899e+00,  2.10921722e+00, -4.22893808e-01,\n",
       "       -5.06527277e-01, -3.10219253e-01, -2.31083437e-01,  5.12308423e-01,\n",
       "        1.11721527e+00, -4.41403968e-01,  1.30542608e+00,  4.78948576e-01,\n",
       "        2.85045908e-01,  8.25202971e-01, -6.07060926e-01, -5.01451683e-01,\n",
       "       -8.25099557e-01,  1.03537828e+00, -1.18447510e-01, -1.72356663e+00,\n",
       "       -5.31228669e-01, -2.52561138e-01,  1.60585322e+00,  2.26928241e+00,\n",
       "        7.55491288e-01, -1.83537047e+00,  6.48900580e-01,  1.68375088e-01,\n",
       "       -1.12006054e+00, -8.59712438e-01,  8.64638103e-01,  1.88984224e-01,\n",
       "       -7.62865408e-01, -1.00325814e+00,  1.48033401e+00, -4.17223330e-04,\n",
       "        1.61094949e+00,  9.48335753e-01,  1.81522960e-01,  1.76734762e+00,\n",
       "       -1.05752646e+00, -8.45248739e-01,  1.54246338e+00,  1.03010048e+00,\n",
       "        1.30124188e+00, -4.63748071e-01,  1.14656111e+00,  2.11908362e-01,\n",
       "       -8.41394396e-01,  3.69018914e-01, -4.65668300e-01,  1.05350811e+00,\n",
       "       -8.98284533e-01, -2.23491052e-01, -1.97310411e+00, -2.96978304e-01,\n",
       "        8.84693469e-01,  7.93059542e-01, -2.04369413e+00,  5.00676047e-01,\n",
       "        7.17903155e-01,  1.29271314e-01,  3.57021183e-01,  1.11025200e+00,\n",
       "       -6.20252814e-01, -1.84218714e+00, -1.09240956e+00,  4.60355584e-01,\n",
       "       -6.87194690e-02,  8.01061040e-01, -4.51560533e-01,  2.22567899e-02,\n",
       "        3.53720899e-01, -2.22520287e-01,  7.89996263e-01,  6.60501334e-01,\n",
       "        7.56521127e-01, -2.19854566e+00, -2.92825098e-01, -4.47424665e-01,\n",
       "       -9.24969349e-01, -2.58326358e-02,  1.22786981e+00, -7.91876380e-03,\n",
       "        1.71703810e+00,  1.09024435e+00,  5.06086301e-01,  1.69272426e+00,\n",
       "        9.94674665e-01, -1.11383360e+00,  1.55008180e+00,  1.82975289e+00,\n",
       "       -8.81683746e-01, -1.91474709e-01,  8.92774983e-01,  4.47247822e-01,\n",
       "        7.37746624e-01,  8.60509252e-01, -1.87831144e+00,  9.20025049e-01,\n",
       "        7.21349528e-02, -2.92223631e-01,  6.45130161e-01,  2.45181872e+00,\n",
       "       -7.86057722e-02, -5.53859986e-01,  8.61072695e-02, -1.86375994e-01,\n",
       "        1.21282892e+00,  9.07587991e-01, -1.24339706e+00,  6.59878677e-01,\n",
       "       -4.96433639e-01,  6.03849653e-02,  1.97290112e+00, -1.12838688e+00,\n",
       "        1.42636721e+00, -9.32401749e-01, -8.60243364e-01, -1.37284392e-01,\n",
       "        2.96911196e-01, -3.68799551e-01,  1.01668770e+00,  1.32032932e+00,\n",
       "        5.31829013e-01,  2.24641171e-01, -9.86923819e-01, -1.39907853e+00,\n",
       "       -3.48616859e-01, -2.51885626e-01, -8.62414993e-01, -1.17963433e+00,\n",
       "        1.29496513e+00,  1.97430155e-01, -2.15865692e+00, -1.15777940e+00,\n",
       "        1.36657184e-01, -1.25137319e-01,  8.61496265e-02, -2.82379728e-01,\n",
       "        8.40430588e-01,  2.55074944e+00,  1.05214315e+00, -7.53577817e-01,\n",
       "       -7.02821211e-01,  5.07549599e-01,  4.22824085e-02, -1.91444276e-02,\n",
       "       -7.52569775e-02,  1.47326759e-02,  6.23866618e-01,  8.41078528e-01,\n",
       "        1.60607994e+00, -9.10419394e-01,  6.74221062e-01, -8.76498277e-01,\n",
       "        6.35406067e-01, -1.17545330e+00, -7.06018861e-01, -1.59644663e+00,\n",
       "       -1.97370928e+00, -8.29521781e-01,  9.96190236e-01,  6.23158072e-01,\n",
       "       -3.06665662e-01,  2.14846311e+00,  2.61970409e-01,  9.39375269e-01,\n",
       "       -9.10187447e-01,  2.40830207e-01, -4.82171122e-01,  3.91071101e-01,\n",
       "        8.24158239e-01, -3.03672437e-01, -2.28329542e-01, -5.82930536e-01,\n",
       "        3.62405935e-01,  8.28978001e-01, -1.10834806e-01, -1.61589935e+00,\n",
       "        1.09325453e+00,  8.82010191e-01,  8.88983965e-01,  1.05705837e+00,\n",
       "        7.42051656e-01,  7.06269383e-01,  1.32748569e+00,  1.90368567e-01,\n",
       "       -1.60967921e+00, -2.03870792e+00, -8.59998513e-01,  8.97113101e-01,\n",
       "        1.38555311e+00, -1.87835616e+00, -1.57256207e+00,  2.83109530e+00,\n",
       "       -1.33202755e+00, -6.91152015e-01, -1.01161234e+00,  1.96793283e-02,\n",
       "       -9.21952937e-01, -4.27880850e-01, -5.64762555e-01,  7.07538628e-02,\n",
       "        4.82674329e-01, -2.42914709e-01,  7.64933393e-01, -1.32953672e+00,\n",
       "       -5.45010215e-01,  9.41673163e-01, -2.73279291e-01,  1.61236533e+00,\n",
       "       -8.66588270e-01, -1.96449633e+00,  3.97357821e-01,  8.73506313e-01,\n",
       "       -1.13190928e+00, -4.51764609e-01,  6.16921020e-01, -2.65968026e-02,\n",
       "        2.34363085e+00,  2.38045232e+00, -1.08804000e+00,  7.20804408e-01,\n",
       "       -2.45706788e-01,  7.78912963e-02,  5.95058142e-01,  1.23651917e+00,\n",
       "        6.79860328e-01, -6.48786305e-02,  9.48552342e-02,  1.78980145e+00,\n",
       "       -5.75427978e-01, -3.33737822e-01,  1.40996452e+00, -1.97881072e+00,\n",
       "        9.85039515e-01, -7.24561794e-02, -7.46855031e-01, -9.32686422e-01,\n",
       "        1.11494436e+00, -7.58774348e-01,  1.25183946e+00, -2.11352089e-01,\n",
       "       -3.79617941e-01, -2.26173937e+00,  8.98351245e-01, -1.23446172e-01,\n",
       "       -7.31076428e-01, -2.11311649e-01,  3.02827413e-01, -6.52804778e-01,\n",
       "       -1.67419055e+00,  5.99774189e-01, -2.96402781e-01,  4.65887822e-01,\n",
       "        7.60691801e-02, -8.07309261e-01, -1.35927277e+00, -1.20226638e-01,\n",
       "        2.28996129e+00,  9.79952409e-01,  4.32034913e-01,  2.63926814e-01,\n",
       "       -3.55007409e-01, -4.11303585e-01,  1.78668886e-01,  2.22028103e-01,\n",
       "        7.20841611e-01,  2.29789052e+00, -4.15218247e-01,  6.40637594e-01,\n",
       "        1.14641943e+00,  7.20973973e-01, -3.20495275e-01, -5.08845413e-02,\n",
       "       -7.82576882e-01, -8.82457379e-01, -1.08002917e+00,  1.39917814e+00,\n",
       "        1.48706428e+00,  1.07641521e+00, -1.43266787e-01, -4.51371160e-01,\n",
       "        2.65545419e-01, -1.23706958e+00, -7.35035481e-01,  2.44264996e-01,\n",
       "        5.03059249e-01, -4.10750027e-01,  1.27274561e+00,  1.43281052e+00,\n",
       "       -1.79196867e-01, -6.14098876e-01, -3.44166252e-01, -5.35542629e-01,\n",
       "        6.91563632e-02, -1.09221492e+00,  4.05909486e-01,  8.03358218e-02,\n",
       "        3.35139075e-01, -7.17124848e-01,  4.55711904e-01,  7.61713872e-01,\n",
       "       -1.09072827e+00, -1.68476715e-01,  6.25981734e-01, -1.13754668e+00,\n",
       "       -2.04520539e-01,  1.31969402e+00,  4.51917371e-01, -8.28296395e-01,\n",
       "       -5.87324558e-01,  1.45393506e+00,  4.58770355e-01,  1.15602272e-01,\n",
       "       -3.67573464e-01,  3.53388607e-01,  1.93315457e+00,  6.46705393e-01,\n",
       "       -1.16849705e+00,  5.48511882e-01,  1.39037986e+00, -1.97649979e-01,\n",
       "       -2.92773664e-01,  1.32326986e+00,  8.93071350e-01,  1.23603950e+00,\n",
       "       -1.11558951e+00,  6.24947557e-01,  4.88245006e-01, -6.31357748e-01,\n",
       "       -6.63099840e-01, -1.10785737e+00, -4.20202824e-01, -7.49993074e-01,\n",
       "        6.50651478e-01,  4.55429407e-01, -4.70394167e-01,  4.92738469e-01,\n",
       "       -8.38124307e-01, -1.21511651e+00,  6.27504886e-01,  5.44013094e-01,\n",
       "       -1.52900484e+00, -7.93643770e-01, -1.44462389e+00, -1.04293139e+00,\n",
       "        2.61766383e+00,  4.68212826e-01, -1.82450264e+00, -4.90076164e-01,\n",
       "        1.51540175e+00, -9.73210726e-01, -8.62365728e-01, -6.12792561e-01,\n",
       "        8.42233515e-01,  1.18868712e+00,  1.75873355e+00,  1.06490068e+00,\n",
       "       -2.82718819e-01,  1.53537223e+00, -1.05731675e-01, -9.30186128e-01,\n",
       "       -4.74214019e-01, -6.93581984e-01,  8.32633262e-02,  1.29365680e-01,\n",
       "        2.04387057e+00, -2.20628000e+00,  1.16531754e-01,  2.59998922e-01,\n",
       "        4.01708698e-01, -5.26987591e-01, -6.93433369e-01, -6.01635131e-01,\n",
       "        5.68422245e-01,  4.82040330e-01, -4.53947665e-01,  3.34906815e-01,\n",
       "       -2.15819485e-01, -2.49722914e-01,  1.27479707e+00, -1.85861607e+00,\n",
       "        8.97359106e-01,  6.23628619e-01,  3.45986333e-01,  7.17383250e-01,\n",
       "       -5.17206680e-01, -4.83711777e-01, -7.18067083e-01,  7.97924749e-01,\n",
       "        1.34317340e-01,  1.21833635e+00,  2.97537327e-01,  8.75474191e-01,\n",
       "       -6.39279122e-01, -1.14930013e+00, -1.25330837e-01, -1.16178622e+00,\n",
       "       -7.10691414e-01, -4.33529475e-01,  1.31223907e+00,  3.94808307e-01,\n",
       "        1.65181025e+00, -2.04068745e+00,  1.47551040e+00,  7.98404699e-02,\n",
       "       -5.96476633e-03,  3.97397889e-01, -9.70566764e-02, -5.82899412e-02,\n",
       "       -5.50092571e-01, -1.93225214e+00,  2.40487466e+00, -1.80946359e+00,\n",
       "       -1.95211312e+00, -1.63859946e-01,  5.38233999e-01, -2.41204880e+00,\n",
       "       -9.56643933e-01, -4.82449968e-01,  5.55438136e-01,  7.78427017e-01,\n",
       "       -1.39802288e-01, -1.58001606e+00,  2.09965064e+00, -1.33849236e+00,\n",
       "       -9.17216811e-01, -3.20018705e-01,  3.99070177e-01, -1.06593693e+00,\n",
       "       -3.61335834e-01,  1.38019779e+00,  1.50845763e+00,  1.51958252e+00,\n",
       "       -6.02442812e-01,  1.34150126e+00,  3.04128327e-01,  6.38450574e-01,\n",
       "       -1.34341250e+00,  4.04848064e-01,  2.97911785e-02,  1.02270019e+00,\n",
       "        5.13871020e-02,  1.53613158e+00, -1.14906472e+00,  8.48617094e-01,\n",
       "        2.19128658e+00, -8.88377342e-01,  2.55242756e-01,  6.45651238e-01,\n",
       "        3.35459481e-01, -3.59187964e-02, -3.37854186e-01,  3.05005402e-01,\n",
       "        4.24098737e-01, -1.01804910e+00, -1.23377211e+00,  6.89021081e-01,\n",
       "        9.35961139e-01,  1.84980189e+00,  7.42955288e-01, -1.71882165e-01,\n",
       "       -1.34416532e-01,  2.03074875e+00, -2.56682292e-01,  2.19272007e+00,\n",
       "       -1.79514359e+00,  2.36667119e-01,  3.25982364e-01, -1.13482547e+00,\n",
       "       -7.65827290e-01, -4.04081320e-01, -2.15615054e+00,  1.30153721e+00,\n",
       "       -5.69714538e-01, -5.66448731e-01, -8.76758168e-01,  1.90069802e-02,\n",
       "       -1.13934265e+00, -6.78038631e-01, -4.33254793e-01, -4.10227163e-01,\n",
       "       -1.34844450e+00,  2.23391482e+00, -3.29096936e-01, -4.35370702e-01,\n",
       "       -2.65824879e-01, -1.00925492e+00,  5.99902984e-01, -1.00545080e+00,\n",
       "       -1.08938760e+00,  6.70758908e-01, -7.53794771e-02,  1.41221159e+00,\n",
       "        9.64451351e-01, -9.34753456e-01,  3.63479971e-01, -4.57667117e-01,\n",
       "       -1.16665253e+00,  9.22330245e-01, -6.94506378e-02,  7.24955050e-01,\n",
       "       -2.46296080e-01, -8.06467143e-02,  5.51614701e-01, -7.89079532e-01,\n",
       "        5.02606073e-01, -1.01603556e+00, -2.86266550e-01, -1.04947610e+00,\n",
       "       -1.17363500e+00,  2.26974769e+00, -6.22517584e-01, -5.72817757e-01,\n",
       "       -1.15162467e+00, -2.27281119e-01,  7.23104466e-01, -1.17707969e+00,\n",
       "        1.77295301e+00,  1.02337203e+00, -8.12112504e-01,  1.59994874e+00,\n",
       "       -1.14353179e+00, -5.54214037e-01,  5.32509849e-01, -1.26073787e+00,\n",
       "       -5.22090985e-01, -4.71344289e-01, -1.36889896e+00, -5.97597743e-01,\n",
       "        1.70743508e-01,  5.39993133e-01,  7.35112217e-01,  2.33257495e+00,\n",
       "       -1.57724088e+00,  7.72350766e-01, -1.73855121e+00, -4.15597943e-02,\n",
       "       -2.19594242e-01,  1.10224588e+00,  6.56431566e-01,  1.22748314e+00,\n",
       "       -8.34971245e-01,  2.01368573e+00, -2.18353912e+00, -1.30546182e+00,\n",
       "       -3.07978420e-01, -1.07757090e-01,  6.52356851e-01, -3.21750812e-01,\n",
       "       -7.76570478e-01, -2.54471892e-01,  5.84615726e-01,  4.14971231e-01,\n",
       "        2.32622868e+00,  1.02670580e+00,  4.80486167e-01,  1.43836337e-01,\n",
       "       -5.81462695e-01, -2.37018699e-01,  6.90171407e-01,  3.82417342e-01,\n",
       "       -3.69541790e-01, -8.24217525e-01, -4.80383558e-01,  1.14434951e+00,\n",
       "        2.53669655e-01,  3.16809154e-01,  5.08597429e-01,  5.53313063e-01,\n",
       "       -5.69443672e-01,  2.69995935e-01, -1.87211411e+00,  1.04063516e+00,\n",
       "       -5.86083781e-01, -1.21911460e+00, -4.44932144e-01,  2.74838493e+00,\n",
       "        2.73223230e-01, -4.35748599e-01,  1.80351293e-02, -1.66895367e-01,\n",
       "       -4.44529102e-01,  2.89965077e-01,  3.93468934e-01,  8.63292474e-01,\n",
       "       -1.17249159e+00, -5.42619511e-02, -1.70449583e+00, -1.08227736e+00,\n",
       "        2.02971158e+00, -4.23772129e-01,  9.07977522e-01,  1.50940606e+00,\n",
       "        1.17646454e+00, -1.78052951e+00,  1.20876569e+00,  5.28750132e-01,\n",
       "       -1.48548490e+00,  1.24927515e-01,  1.05209072e+00, -3.28888874e-01,\n",
       "       -3.03733285e-01, -4.85463073e-02, -1.54957017e-01,  4.75047024e-02,\n",
       "        1.46121499e+00, -4.68498992e-01, -9.78011859e-01,  2.28668332e-01,\n",
       "       -4.40079580e-01, -5.16741432e-01, -2.73233968e+00,  9.08804548e-01,\n",
       "       -4.26641995e-01,  1.32077542e+00, -1.82898148e-01,  2.72001497e+00,\n",
       "       -2.01837765e-01,  1.52887340e-01, -9.55022328e-01, -8.47679523e-01,\n",
       "        4.70830805e-01,  3.62264590e-01,  7.56332209e-01, -4.57734330e-02,\n",
       "       -1.15178283e+00, -9.19886238e-01, -2.40801561e+00,  6.30027977e-01,\n",
       "       -6.02868681e-01, -3.36252742e-01,  5.86752534e-01, -3.60219743e-01,\n",
       "       -6.51357579e-01, -7.06268747e-01, -8.04826154e-01, -1.08533524e-01,\n",
       "       -4.53674255e-01, -7.11822563e-01, -7.63335081e-01, -2.23529943e-02,\n",
       "       -5.21233212e-01,  9.02668204e-01,  4.21840244e-01,  1.32772006e+00,\n",
       "        2.12901688e-01,  2.63139039e-01, -6.40444929e-01, -6.42805070e-01,\n",
       "       -1.58660326e+00,  6.20662696e-01, -1.36106089e+00, -2.09141004e+00,\n",
       "        7.51204380e-01,  5.85273733e-01, -9.93155198e-01, -6.64247203e-01,\n",
       "        1.66242899e+00,  4.58024680e-02,  6.73604497e-01, -2.83978124e-01,\n",
       "       -1.12692417e+00,  3.29623106e-01, -1.40204778e+00,  5.55997310e-01,\n",
       "       -1.73402095e+00, -6.46186160e-01, -5.17915390e-02, -1.64617631e+00,\n",
       "        1.88386402e+00, -7.62483573e-01,  1.29596267e+00,  4.66079866e-01,\n",
       "        1.55280667e+00, -1.95363598e+00,  4.57838927e-02,  8.80419414e-01,\n",
       "       -1.18651110e+00, -3.33098914e-01,  3.72392673e-02,  7.71872714e-01,\n",
       "        2.38186659e-01, -1.01593079e+00, -1.36294860e+00, -4.30721600e-01,\n",
       "        4.60611938e-01, -3.78927647e-01,  9.40662484e-01,  7.31634032e-01])"
      ]
     },
     "execution_count": 187,
     "metadata": {},
     "output_type": "execute_result"
    }
   ],
   "source": [
    "#create an array of random normal numbers witha size of 1000\n",
    "sample = np.random.normal(size =1000)\n",
    "sample"
   ]
  },
  {
   "cell_type": "code",
   "execution_count": 188,
   "id": "3b2b68c2",
   "metadata": {},
   "outputs": [
    {
     "data": {
      "image/png": "[encoded data removed]",
      "text/plain": [
       "<Figure size 432x288 with 1 Axes>"
      ]
     },
     "metadata": {
      "needs_background": "light"
     },
     "output_type": "display_data"
    }
   ],
   "source": [
    "plt.plot(sample);"
   ]
  },
  {
   "cell_type": "code",
   "execution_count": 189,
   "id": "5166721b",
   "metadata": {},
   "outputs": [
    {
     "name": "stdout",
     "output_type": "stream",
     "text": [
      "Collecting Cdf\n",
      "  Using cached CDF-0.32.tar.gz (859 kB)\n",
      "  Preparing metadata (setup.py): started\n",
      "  Preparing metadata (setup.py): finished with status 'done'\n",
      "Building wheels for collected packages: Cdf\n",
      "  Building wheel for Cdf (setup.py): started\n",
      "  Building wheel for Cdf (setup.py): finished with status 'error'\n",
      "  Running setup.py clean for Cdf\n",
      "Failed to build Cdf\n",
      "Installing collected packages: Cdf\n",
      "  Running setup.py install for Cdf: started\n",
      "  Running setup.py install for Cdf: finished with status 'error'\n",
      "Note: you may need to restart the kernel to use updated packages.\n"
     ]
    },
    {
     "name": "stderr",
     "output_type": "stream",
     "text": [
      "  error: subprocess-exited-with-error\n",
      "  \n",
      "  python setup.py bdist_wheel did not run successfully.\n",
      "  exit code: 1\n",
      "  \n",
      "  [19 lines of output]\n",
      "  running bdist_wheel\n",
      "  running build\n",
      "  running build_py\n",
      "  creating build\n",
      "  creating build\\lib.win-amd64-3.10\n",
      "  creating build\\lib.win-amd64-3.10\\cdf\n",
      "  copying cdf\\__init__.py -> build\\lib.win-amd64-3.10\\cdf\n",
      "  copying cdf\\standard.py -> build\\lib.win-amd64-3.10\\cdf\n",
      "  copying cdf\\interface.py -> build\\lib.win-amd64-3.10\\cdf\n",
      "  copying cdf\\framework.py -> build\\lib.win-amd64-3.10\\cdf\n",
      "  copying cdf\\attribute.py -> build\\lib.win-amd64-3.10\\cdf\n",
      "  copying cdf\\entry.py -> build\\lib.win-amd64-3.10\\cdf\n",
      "  copying cdf\\typing.py -> build\\lib.win-amd64-3.10\\cdf\n",
      "  creating build\\lib.win-amd64-3.10\\cdf\\istp\n",
      "  copying cdf\\istp\\__init__.py -> build\\lib.win-amd64-3.10\\cdf\\istp\n",
      "  copying cdf\\istp\\interface.py -> build\\lib.win-amd64-3.10\\cdf\\istp\n",
      "  running build_ext\n",
      "  building 'cdf.internal' extension\n",
      "  error: Microsoft Visual C++ 14.0 or greater is required. Get it with \"Microsoft C++ Build Tools\": https://visualstudio.microsoft.com/visual-cpp-build-tools/\n",
      "  [end of output]\n",
      "  \n",
      "  note: This error originates from a subprocess, and is likely not a problem with pip.\n",
      "  ERROR: Failed building wheel for Cdf\n",
      "  error: subprocess-exited-with-error\n",
      "  \n",
      "  Running setup.py install for Cdf did not run successfully.\n",
      "  exit code: 1\n",
      "  \n",
      "  [19 lines of output]\n",
      "  running install\n",
      "  running build\n",
      "  running build_py\n",
      "  creating build\n",
      "  creating build\\lib.win-amd64-3.10\n",
      "  creating build\\lib.win-amd64-3.10\\cdf\n",
      "  copying cdf\\__init__.py -> build\\lib.win-amd64-3.10\\cdf\n",
      "  copying cdf\\standard.py -> build\\lib.win-amd64-3.10\\cdf\n",
      "  copying cdf\\interface.py -> build\\lib.win-amd64-3.10\\cdf\n",
      "  copying cdf\\framework.py -> build\\lib.win-amd64-3.10\\cdf\n",
      "  copying cdf\\attribute.py -> build\\lib.win-amd64-3.10\\cdf\n",
      "  copying cdf\\entry.py -> build\\lib.win-amd64-3.10\\cdf\n",
      "  copying cdf\\typing.py -> build\\lib.win-amd64-3.10\\cdf\n",
      "  creating build\\lib.win-amd64-3.10\\cdf\\istp\n",
      "  copying cdf\\istp\\__init__.py -> build\\lib.win-amd64-3.10\\cdf\\istp\n",
      "  copying cdf\\istp\\interface.py -> build\\lib.win-amd64-3.10\\cdf\\istp\n",
      "  running build_ext\n",
      "  building 'cdf.internal' extension\n",
      "  error: Microsoft Visual C++ 14.0 or greater is required. Get it with \"Microsoft C++ Build Tools\": https://visualstudio.microsoft.com/visual-cpp-build-tools/\n",
      "  [end of output]\n",
      "  \n",
      "  note: This error originates from a subprocess, and is likely not a problem with pip.\n",
      "error: legacy-install-failure\n",
      "\n",
      "Encountered error while trying to install package.\n",
      "\n",
      "Cdf\n",
      "\n",
      "note: This is an issue with the package mentioned above, not pip.\n",
      "hint: See above for output from the failure.\n"
     ]
    }
   ],
   "source": [
    "pip install Cdf"
   ]
  },
  {
   "cell_type": "code",
   "execution_count": 190,
   "id": "c6f9468a",
   "metadata": {},
   "outputs": [
    {
     "name": "stdout",
     "output_type": "stream",
     "text": [
      "Requirement already satisfied: Scipy in c:\\users\\pc\\appdata\\local\\programs\\python\\python310\\lib\\site-packages (1.9.0)\n",
      "Requirement already satisfied: numpy<1.25.0,>=1.18.5 in c:\\users\\pc\\appdata\\local\\programs\\python\\python310\\lib\\site-packages (from Scipy) (1.23.0)\n",
      "Note: you may need to restart the kernel to use updated packages.\n"
     ]
    }
   ],
   "source": [
    "pip install Scipy"
   ]
  },
  {
   "cell_type": "code",
   "execution_count": 191,
   "id": "cfc44cbf",
   "metadata": {},
   "outputs": [],
   "source": [
    "from scipy.stats import norm"
   ]
  },
  {
   "cell_type": "code",
   "execution_count": 192,
   "id": "6c3abb07",
   "metadata": {},
   "outputs": [
    {
     "data": {
      "image/png": "[encoded data removed]",
      "text/plain": [
       "<Figure size 432x288 with 1 Axes>"
      ]
     },
     "metadata": {
      "needs_background": "light"
     },
     "output_type": "display_data"
    }
   ],
   "source": [
    "plt.plot(xs);"
   ]
  },
  {
   "cell_type": "code",
   "execution_count": 193,
   "id": "7634e28b",
   "metadata": {},
   "outputs": [
    {
     "data": {
      "image/png": "[encoded data removed]",
      "text/plain": [
       "<Figure size 432x288 with 1 Axes>"
      ]
     },
     "metadata": {
      "needs_background": "light"
     },
     "output_type": "display_data"
    }
   ],
   "source": [
    "plt.plot(xs);"
   ]
  },
  {
   "cell_type": "code",
   "execution_count": 194,
   "id": "3b8e3875",
   "metadata": {},
   "outputs": [
    {
     "data": {
      "image/png": "[encoded data removed]",
      "text/plain": [
       "<Figure size 432x288 with 1 Axes>"
      ]
     },
     "metadata": {
      "needs_background": "light"
     },
     "output_type": "display_data"
    }
   ],
   "source": [
    "xs = np.linspace(-3,3)\n",
    "ys = norm(0,1).cdf(xs)\n",
    "ys\n",
    "xs\n",
    "plt.plot(ys);\n",
    "plt.plot(xs);\n"
   ]
  },
  {
   "cell_type": "code",
   "execution_count": 195,
   "id": "f1dfba0e",
   "metadata": {},
   "outputs": [
    {
     "data": {
      "image/png": "[encoded data removed]",
      "text/plain": [
       "<Figure size 432x288 with 1 Axes>"
      ]
     },
     "metadata": {
      "needs_background": "light"
     },
     "output_type": "display_data"
    }
   ],
   "source": [
    "As = np.linspace(-4,1)\n",
    "Ds = norm(0,1).cdf(As)\n",
    "Ds\n",
    "As\n",
    "plt.plot(Ds);\n",
    "plt.plot(As);"
   ]
  },
  {
   "cell_type": "code",
   "execution_count": 197,
   "id": "b9193e02",
   "metadata": {},
   "outputs": [
    {
     "name": "stdout",
     "output_type": "stream",
     "text": [
      "Requirement already satisfied: Pdf in c:\\users\\pc\\appdata\\local\\programs\\python\\python310\\lib\\site-packages (2020.11.12)\n",
      "Requirement already satisfied: nltk in c:\\users\\pc\\appdata\\local\\programs\\python\\python310\\lib\\site-packages (from Pdf) (3.7)\n",
      "Requirement already satisfied: silverware in c:\\users\\pc\\appdata\\local\\programs\\python\\python310\\lib\\site-packages (from Pdf) (2020.11.12)\n",
      "Requirement already satisfied: pandas in c:\\users\\pc\\appdata\\local\\programs\\python\\python310\\lib\\site-packages (from Pdf) (1.4.3)\n",
      "Requirement already satisfied: chronometry in c:\\users\\pc\\appdata\\local\\programs\\python\\python310\\lib\\site-packages (from Pdf) (2020.11.12)\n",
      "Requirement already satisfied: bs4 in c:\\users\\pc\\appdata\\local\\programs\\python\\python310\\lib\\site-packages (from Pdf) (0.0.1)\n",
      "Requirement already satisfied: pdftotree in c:\\users\\pc\\appdata\\local\\programs\\python\\python310\\lib\\site-packages (from Pdf) (0.5.0)\n",
      "Requirement already satisfied: disk in c:\\users\\pc\\appdata\\local\\programs\\python\\python310\\lib\\site-packages (from Pdf) (2021.6.29)\n",
      "Requirement already satisfied: pdfminer in c:\\users\\pc\\appdata\\local\\programs\\python\\python310\\lib\\site-packages (from Pdf) (20191125)\n",
      "Requirement already satisfied: beautifulsoup4 in c:\\users\\pc\\appdata\\local\\programs\\python\\python310\\lib\\site-packages (from bs4->Pdf) (4.11.1)\n",
      "Requirement already satisfied: matplotlib in c:\\users\\pc\\appdata\\local\\programs\\python\\python310\\lib\\site-packages (from chronometry->Pdf) (3.5.2)\n",
      "Requirement already satisfied: colouration in c:\\users\\pc\\appdata\\local\\programs\\python\\python310\\lib\\site-packages (from chronometry->Pdf) (2020.7.26)\n",
      "Requirement already satisfied: numpy in c:\\users\\pc\\appdata\\local\\programs\\python\\python310\\lib\\site-packages (from chronometry->Pdf) (1.23.0)\n",
      "Requirement already satisfied: func-timeout in c:\\users\\pc\\appdata\\local\\programs\\python\\python310\\lib\\site-packages (from chronometry->Pdf) (4.3.5)\n",
      "Requirement already satisfied: ravenclaw in c:\\users\\pc\\appdata\\local\\programs\\python\\python310\\lib\\site-packages (from chronometry->Pdf) (2020.11.12)\n",
      "Requirement already satisfied: sklearn in c:\\users\\pc\\appdata\\local\\programs\\python\\python310\\lib\\site-packages (from chronometry->Pdf) (0.0)\n",
      "Requirement already satisfied: slytherin in c:\\users\\pc\\appdata\\local\\programs\\python\\python310\\lib\\site-packages (from chronometry->Pdf) (2020.11.12)\n",
      "Requirement already satisfied: send2trash in c:\\users\\pc\\appdata\\local\\programs\\python\\python310\\lib\\site-packages (from disk->Pdf) (1.8.0)\n",
      "Requirement already satisfied: dill in c:\\users\\pc\\appdata\\local\\programs\\python\\python310\\lib\\site-packages (from disk->Pdf) (0.3.6)\n",
      "Requirement already satisfied: joblib in c:\\users\\pc\\appdata\\local\\programs\\python\\python310\\lib\\site-packages (from nltk->Pdf) (1.1.0)\n",
      "Requirement already satisfied: click in c:\\users\\pc\\appdata\\local\\programs\\python\\python310\\lib\\site-packages (from nltk->Pdf) (8.1.3)\n",
      "Requirement already satisfied: regex>=2021.8.3 in c:\\users\\pc\\appdata\\local\\programs\\python\\python310\\lib\\site-packages (from nltk->Pdf) (2022.10.31)\n",
      "Requirement already satisfied: tqdm in c:\\users\\pc\\appdata\\local\\programs\\python\\python310\\lib\\site-packages (from nltk->Pdf) (4.64.1)\n",
      "Requirement already satisfied: pytz>=2020.1 in c:\\users\\pc\\appdata\\local\\programs\\python\\python310\\lib\\site-packages (from pandas->Pdf) (2022.2)\n",
      "Requirement already satisfied: python-dateutil>=2.8.1 in c:\\users\\pc\\appdata\\local\\programs\\python\\python310\\lib\\site-packages (from pandas->Pdf) (2.8.2)\n",
      "Requirement already satisfied: pycryptodome in c:\\users\\pc\\appdata\\local\\programs\\python\\python310\\lib\\site-packages (from pdfminer->Pdf) (3.15.0)\n",
      "Requirement already satisfied: pdfminer.six>=20191020 in c:\\users\\pc\\appdata\\local\\programs\\python\\python310\\lib\\site-packages (from pdftotree->Pdf) (20220524)\n",
      "Requirement already satisfied: keras>=2.4.0 in c:\\users\\pc\\appdata\\local\\programs\\python\\python310\\lib\\site-packages (from pdftotree->Pdf) (2.10.0)\n",
      "Requirement already satisfied: pillow in c:\\users\\pc\\appdata\\local\\programs\\python\\python310\\lib\\site-packages (from pdftotree->Pdf) (9.2.0)\n",
      "Requirement already satisfied: tensorflow>=2.2 in c:\\users\\pc\\appdata\\local\\programs\\python\\python310\\lib\\site-packages (from pdftotree->Pdf) (2.10.0)\n",
      "Requirement already satisfied: IPython in c:\\users\\pc\\appdata\\local\\programs\\python\\python310\\lib\\site-packages (from pdftotree->Pdf) (8.4.0)\n",
      "Requirement already satisfied: selectivesearch in c:\\users\\pc\\appdata\\local\\programs\\python\\python310\\lib\\site-packages (from pdftotree->Pdf) (0.4)\n",
      "Requirement already satisfied: tabula-py in c:\\users\\pc\\appdata\\local\\programs\\python\\python310\\lib\\site-packages (from pdftotree->Pdf) (2.5.1)\n",
      "Requirement already satisfied: wand in c:\\users\\pc\\appdata\\local\\programs\\python\\python310\\lib\\site-packages (from pdftotree->Pdf) (0.6.10)\n",
      "Requirement already satisfied: txt in c:\\users\\pc\\appdata\\local\\programs\\python\\python310\\lib\\site-packages (from silverware->Pdf) (2020.11.12)\n",
      "Requirement already satisfied: lxml in c:\\users\\pc\\appdata\\local\\programs\\python\\python310\\lib\\site-packages (from silverware->Pdf) (4.9.1)\n",
      "Requirement already satisfied: charset-normalizer>=2.0.0 in c:\\users\\pc\\appdata\\local\\programs\\python\\python310\\lib\\site-packages (from pdfminer.six>=20191020->pdftotree->Pdf) (2.1.1)\n",
      "Requirement already satisfied: cryptography>=36.0.0 in c:\\users\\pc\\appdata\\local\\programs\\python\\python310\\lib\\site-packages (from pdfminer.six>=20191020->pdftotree->Pdf) (38.0.3)\n",
      "Requirement already satisfied: six>=1.5 in c:\\users\\pc\\appdata\\local\\programs\\python\\python310\\lib\\site-packages (from python-dateutil>=2.8.1->pandas->Pdf) (1.16.0)\n",
      "Requirement already satisfied: termcolor>=1.1.0 in c:\\users\\pc\\appdata\\local\\programs\\python\\python310\\lib\\site-packages (from tensorflow>=2.2->pdftotree->Pdf) (2.1.0)\n",
      "Requirement already satisfied: gast<=0.4.0,>=0.2.1 in c:\\users\\pc\\appdata\\local\\programs\\python\\python310\\lib\\site-packages (from tensorflow>=2.2->pdftotree->Pdf) (0.4.0)\n",
      "Requirement already satisfied: h5py>=2.9.0 in c:\\users\\pc\\appdata\\local\\programs\\python\\python310\\lib\\site-packages (from tensorflow>=2.2->pdftotree->Pdf) (3.7.0)\n",
      "Requirement already satisfied: keras-preprocessing>=1.1.1 in c:\\users\\pc\\appdata\\local\\programs\\python\\python310\\lib\\site-packages (from tensorflow>=2.2->pdftotree->Pdf) (1.1.2)\n",
      "Requirement already satisfied: typing-extensions>=3.6.6 in c:\\users\\pc\\appdata\\local\\programs\\python\\python310\\lib\\site-packages (from tensorflow>=2.2->pdftotree->Pdf) (4.4.0)\n",
      "Requirement already satisfied: wrapt>=1.11.0 in c:\\users\\pc\\appdata\\local\\programs\\python\\python310\\lib\\site-packages (from tensorflow>=2.2->pdftotree->Pdf) (1.14.1)\n",
      "Requirement already satisfied: libclang>=13.0.0 in c:\\users\\pc\\appdata\\local\\programs\\python\\python310\\lib\\site-packages (from tensorflow>=2.2->pdftotree->Pdf) (14.0.6)\n",
      "Requirement already satisfied: astunparse>=1.6.0 in c:\\users\\pc\\appdata\\local\\programs\\python\\python310\\lib\\site-packages (from tensorflow>=2.2->pdftotree->Pdf) (1.6.3)\n",
      "Requirement already satisfied: opt-einsum>=2.3.2 in c:\\users\\pc\\appdata\\local\\programs\\python\\python310\\lib\\site-packages (from tensorflow>=2.2->pdftotree->Pdf) (3.3.0)\n",
      "Requirement already satisfied: setuptools in c:\\users\\pc\\appdata\\local\\programs\\python\\python310\\lib\\site-packages (from tensorflow>=2.2->pdftotree->Pdf) (58.1.0)\n",
      "Requirement already satisfied: flatbuffers>=2.0 in c:\\users\\pc\\appdata\\local\\programs\\python\\python310\\lib\\site-packages (from tensorflow>=2.2->pdftotree->Pdf) (22.10.26)\n",
      "Requirement already satisfied: absl-py>=1.0.0 in c:\\users\\pc\\appdata\\local\\programs\\python\\python310\\lib\\site-packages (from tensorflow>=2.2->pdftotree->Pdf) (1.3.0)\n",
      "Requirement already satisfied: tensorboard<2.11,>=2.10 in c:\\users\\pc\\appdata\\local\\programs\\python\\python310\\lib\\site-packages (from tensorflow>=2.2->pdftotree->Pdf) (2.10.1)\n",
      "Requirement already satisfied: tensorflow-estimator<2.11,>=2.10.0 in c:\\users\\pc\\appdata\\local\\programs\\python\\python310\\lib\\site-packages (from tensorflow>=2.2->pdftotree->Pdf) (2.10.0)\n",
      "Requirement already satisfied: google-pasta>=0.1.1 in c:\\users\\pc\\appdata\\local\\programs\\python\\python310\\lib\\site-packages (from tensorflow>=2.2->pdftotree->Pdf) (0.2.0)\n",
      "Requirement already satisfied: protobuf<3.20,>=3.9.2 in c:\\users\\pc\\appdata\\local\\programs\\python\\python310\\lib\\site-packages (from tensorflow>=2.2->pdftotree->Pdf) (3.19.6)\n",
      "Requirement already satisfied: packaging in c:\\users\\pc\\appdata\\local\\programs\\python\\python310\\lib\\site-packages (from tensorflow>=2.2->pdftotree->Pdf) (21.3)\n",
      "Requirement already satisfied: grpcio<2.0,>=1.24.3 in c:\\users\\pc\\appdata\\local\\programs\\python\\python310\\lib\\site-packages (from tensorflow>=2.2->pdftotree->Pdf) (1.50.0)\n",
      "Requirement already satisfied: tensorflow-io-gcs-filesystem>=0.23.1 in c:\\users\\pc\\appdata\\local\\programs\\python\\python310\\lib\\site-packages (from tensorflow>=2.2->pdftotree->Pdf) (0.27.0)\n",
      "Requirement already satisfied: soupsieve>1.2 in c:\\users\\pc\\appdata\\local\\programs\\python\\python310\\lib\\site-packages (from beautifulsoup4->bs4->Pdf) (2.3.2.post1)\n",
      "Requirement already satisfied: colorama in c:\\users\\pc\\appdata\\local\\programs\\python\\python310\\lib\\site-packages (from click->nltk->Pdf) (0.4.5)\n",
      "Requirement already satisfied: stack-data in c:\\users\\pc\\appdata\\local\\programs\\python\\python310\\lib\\site-packages (from IPython->pdftotree->Pdf) (0.3.0)\n",
      "Requirement already satisfied: pygments>=2.4.0 in c:\\users\\pc\\appdata\\local\\programs\\python\\python310\\lib\\site-packages (from IPython->pdftotree->Pdf) (2.12.0)\n",
      "Requirement already satisfied: jedi>=0.16 in c:\\users\\pc\\appdata\\local\\programs\\python\\python310\\lib\\site-packages (from IPython->pdftotree->Pdf) (0.18.1)\n",
      "Requirement already satisfied: traitlets>=5 in c:\\users\\pc\\appdata\\local\\programs\\python\\python310\\lib\\site-packages (from IPython->pdftotree->Pdf) (5.3.0)\n",
      "Requirement already satisfied: matplotlib-inline in c:\\users\\pc\\appdata\\local\\programs\\python\\python310\\lib\\site-packages (from IPython->pdftotree->Pdf) (0.1.3)\n",
      "Requirement already satisfied: pickleshare in c:\\users\\pc\\appdata\\local\\programs\\python\\python310\\lib\\site-packages (from IPython->pdftotree->Pdf) (0.7.5)\n",
      "Requirement already satisfied: backcall in c:\\users\\pc\\appdata\\local\\programs\\python\\python310\\lib\\site-packages (from IPython->pdftotree->Pdf) (0.2.0)\n",
      "Requirement already satisfied: prompt-toolkit!=3.0.0,!=3.0.1,<3.1.0,>=2.0.0 in c:\\users\\pc\\appdata\\local\\programs\\python\\python310\\lib\\site-packages (from IPython->pdftotree->Pdf) (3.0.30)\n",
      "Requirement already satisfied: decorator in c:\\users\\pc\\appdata\\local\\programs\\python\\python310\\lib\\site-packages (from IPython->pdftotree->Pdf) (5.1.1)\n",
      "Requirement already satisfied: kiwisolver>=1.0.1 in c:\\users\\pc\\appdata\\local\\programs\\python\\python310\\lib\\site-packages (from matplotlib->chronometry->Pdf) (1.4.3)\n",
      "Requirement already satisfied: pyparsing>=2.2.1 in c:\\users\\pc\\appdata\\local\\programs\\python\\python310\\lib\\site-packages (from matplotlib->chronometry->Pdf) (3.0.9)\n",
      "Requirement already satisfied: cycler>=0.10 in c:\\users\\pc\\appdata\\local\\programs\\python\\python310\\lib\\site-packages (from matplotlib->chronometry->Pdf) (0.11.0)\n",
      "Requirement already satisfied: fonttools>=4.22.0 in c:\\users\\pc\\appdata\\local\\programs\\python\\python310\\lib\\site-packages (from matplotlib->chronometry->Pdf) (4.34.4)\n",
      "Requirement already satisfied: SPARQLWrapper in c:\\users\\pc\\appdata\\local\\programs\\python\\python310\\lib\\site-packages (from ravenclaw->chronometry->Pdf) (2.0.0)\n",
      "Requirement already satisfied: fuzzywuzzy in c:\\users\\pc\\appdata\\local\\programs\\python\\python310\\lib\\site-packages (from ravenclaw->chronometry->Pdf) (0.18.0)\n",
      "Requirement already satisfied: scikit-image in c:\\users\\pc\\appdata\\local\\programs\\python\\python310\\lib\\site-packages (from selectivesearch->pdftotree->Pdf) (0.19.3)\n",
      "Requirement already satisfied: scikit-learn in c:\\users\\pc\\appdata\\local\\programs\\python\\python310\\lib\\site-packages (from sklearn->chronometry->Pdf) (1.1.2)\n",
      "Requirement already satisfied: geopy in c:\\users\\pc\\appdata\\local\\programs\\python\\python310\\lib\\site-packages (from slytherin->chronometry->Pdf) (2.2.0)\n",
      "Requirement already satisfied: base32hex in c:\\users\\pc\\appdata\\local\\programs\\python\\python310\\lib\\site-packages (from slytherin->chronometry->Pdf) (1.0.2)\n",
      "Requirement already satisfied: distro in c:\\users\\pc\\appdata\\local\\programs\\python\\python310\\lib\\site-packages (from tabula-py->pdftotree->Pdf) (1.8.0)\n",
      "Requirement already satisfied: wheel<1.0,>=0.23.0 in c:\\users\\pc\\appdata\\local\\programs\\python\\python310\\lib\\site-packages (from astunparse>=1.6.0->tensorflow>=2.2->pdftotree->Pdf) (0.38.1)\n",
      "Requirement already satisfied: cffi>=1.12 in c:\\users\\pc\\appdata\\local\\programs\\python\\python310\\lib\\site-packages (from cryptography>=36.0.0->pdfminer.six>=20191020->pdftotree->Pdf) (1.15.1)\n",
      "Requirement already satisfied: parso<0.9.0,>=0.8.0 in c:\\users\\pc\\appdata\\local\\programs\\python\\python310\\lib\\site-packages (from jedi>=0.16->IPython->pdftotree->Pdf) (0.8.3)\n",
      "Requirement already satisfied: wcwidth in c:\\users\\pc\\appdata\\local\\programs\\python\\python310\\lib\\site-packages (from prompt-toolkit!=3.0.0,!=3.0.1,<3.1.0,>=2.0.0->IPython->pdftotree->Pdf) (0.2.5)\n",
      "Requirement already satisfied: werkzeug>=1.0.1 in c:\\users\\pc\\appdata\\local\\programs\\python\\python310\\lib\\site-packages (from tensorboard<2.11,>=2.10->tensorflow>=2.2->pdftotree->Pdf) (2.2.2)\n",
      "Requirement already satisfied: markdown>=2.6.8 in c:\\users\\pc\\appdata\\local\\programs\\python\\python310\\lib\\site-packages (from tensorboard<2.11,>=2.10->tensorflow>=2.2->pdftotree->Pdf) (3.4.1)\n",
      "Requirement already satisfied: tensorboard-plugin-wit>=1.6.0 in c:\\users\\pc\\appdata\\local\\programs\\python\\python310\\lib\\site-packages (from tensorboard<2.11,>=2.10->tensorflow>=2.2->pdftotree->Pdf) (1.8.1)\n",
      "Requirement already satisfied: requests<3,>=2.21.0 in c:\\users\\pc\\appdata\\local\\programs\\python\\python310\\lib\\site-packages (from tensorboard<2.11,>=2.10->tensorflow>=2.2->pdftotree->Pdf) (2.28.1)\n",
      "Requirement already satisfied: tensorboard-data-server<0.7.0,>=0.6.0 in c:\\users\\pc\\appdata\\local\\programs\\python\\python310\\lib\\site-packages (from tensorboard<2.11,>=2.10->tensorflow>=2.2->pdftotree->Pdf) (0.6.1)\n",
      "Requirement already satisfied: google-auth<3,>=1.6.3 in c:\\users\\pc\\appdata\\local\\programs\\python\\python310\\lib\\site-packages (from tensorboard<2.11,>=2.10->tensorflow>=2.2->pdftotree->Pdf) (2.14.0)\n",
      "Requirement already satisfied: google-auth-oauthlib<0.5,>=0.4.1 in c:\\users\\pc\\appdata\\local\\programs\\python\\python310\\lib\\site-packages (from tensorboard<2.11,>=2.10->tensorflow>=2.2->pdftotree->Pdf) (0.4.6)\n",
      "Requirement already satisfied: geographiclib<2,>=1.49 in c:\\users\\pc\\appdata\\local\\programs\\python\\python310\\lib\\site-packages (from geopy->slytherin->chronometry->Pdf) (1.52)\n",
      "Requirement already satisfied: tifffile>=2019.7.26 in c:\\users\\pc\\appdata\\local\\programs\\python\\python310\\lib\\site-packages (from scikit-image->selectivesearch->pdftotree->Pdf) (2022.10.10)\n",
      "Requirement already satisfied: networkx>=2.2 in c:\\users\\pc\\appdata\\local\\programs\\python\\python310\\lib\\site-packages (from scikit-image->selectivesearch->pdftotree->Pdf) (2.8.8)\n",
      "Requirement already satisfied: PyWavelets>=1.1.1 in c:\\users\\pc\\appdata\\local\\programs\\python\\python310\\lib\\site-packages (from scikit-image->selectivesearch->pdftotree->Pdf) (1.4.1)\n",
      "Requirement already satisfied: imageio>=2.4.1 in c:\\users\\pc\\appdata\\local\\programs\\python\\python310\\lib\\site-packages (from scikit-image->selectivesearch->pdftotree->Pdf) (2.22.3)\n",
      "Requirement already satisfied: scipy>=1.4.1 in c:\\users\\pc\\appdata\\local\\programs\\python\\python310\\lib\\site-packages (from scikit-image->selectivesearch->pdftotree->Pdf) (1.9.0)\n",
      "Requirement already satisfied: threadpoolctl>=2.0.0 in c:\\users\\pc\\appdata\\local\\programs\\python\\python310\\lib\\site-packages (from scikit-learn->sklearn->chronometry->Pdf) (3.1.0)\n",
      "Requirement already satisfied: rdflib>=6.1.1 in c:\\users\\pc\\appdata\\local\\programs\\python\\python310\\lib\\site-packages (from SPARQLWrapper->ravenclaw->chronometry->Pdf) (6.2.0)\n",
      "Requirement already satisfied: asttokens in c:\\users\\pc\\appdata\\local\\programs\\python\\python310\\lib\\site-packages (from stack-data->IPython->pdftotree->Pdf) (2.0.5)\n",
      "Requirement already satisfied: executing in c:\\users\\pc\\appdata\\local\\programs\\python\\python310\\lib\\site-packages (from stack-data->IPython->pdftotree->Pdf) (0.8.3)\n",
      "Requirement already satisfied: pure-eval in c:\\users\\pc\\appdata\\local\\programs\\python\\python310\\lib\\site-packages (from stack-data->IPython->pdftotree->Pdf) (0.2.2)\n",
      "Requirement already satisfied: pycparser in c:\\users\\pc\\appdata\\local\\programs\\python\\python310\\lib\\site-packages (from cffi>=1.12->cryptography>=36.0.0->pdfminer.six>=20191020->pdftotree->Pdf) (2.21)\n",
      "Requirement already satisfied: cachetools<6.0,>=2.0.0 in c:\\users\\pc\\appdata\\local\\programs\\python\\python310\\lib\\site-packages (from google-auth<3,>=1.6.3->tensorboard<2.11,>=2.10->tensorflow>=2.2->pdftotree->Pdf) (5.2.0)\n",
      "Requirement already satisfied: pyasn1-modules>=0.2.1 in c:\\users\\pc\\appdata\\local\\programs\\python\\python310\\lib\\site-packages (from google-auth<3,>=1.6.3->tensorboard<2.11,>=2.10->tensorflow>=2.2->pdftotree->Pdf) (0.2.8)\n",
      "Requirement already satisfied: rsa<5,>=3.1.4 in c:\\users\\pc\\appdata\\local\\programs\\python\\python310\\lib\\site-packages (from google-auth<3,>=1.6.3->tensorboard<2.11,>=2.10->tensorflow>=2.2->pdftotree->Pdf) (4.9)\n",
      "Requirement already satisfied: requests-oauthlib>=0.7.0 in c:\\users\\pc\\appdata\\local\\programs\\python\\python310\\lib\\site-packages (from google-auth-oauthlib<0.5,>=0.4.1->tensorboard<2.11,>=2.10->tensorflow>=2.2->pdftotree->Pdf) (1.3.1)\n",
      "Requirement already satisfied: isodate in c:\\users\\pc\\appdata\\local\\programs\\python\\python310\\lib\\site-packages (from rdflib>=6.1.1->SPARQLWrapper->ravenclaw->chronometry->Pdf) (0.6.1)\n",
      "Requirement already satisfied: urllib3<1.27,>=1.21.1 in c:\\users\\pc\\appdata\\local\\programs\\python\\python310\\lib\\site-packages (from requests<3,>=2.21.0->tensorboard<2.11,>=2.10->tensorflow>=2.2->pdftotree->Pdf) (1.26.12)\n",
      "Requirement already satisfied: idna<4,>=2.5 in c:\\users\\pc\\appdata\\local\\programs\\python\\python310\\lib\\site-packages (from requests<3,>=2.21.0->tensorboard<2.11,>=2.10->tensorflow>=2.2->pdftotree->Pdf) (3.4)\n",
      "Requirement already satisfied: certifi>=2017.4.17 in c:\\users\\pc\\appdata\\local\\programs\\python\\python310\\lib\\site-packages (from requests<3,>=2.21.0->tensorboard<2.11,>=2.10->tensorflow>=2.2->pdftotree->Pdf) (2022.9.24)\n",
      "Requirement already satisfied: MarkupSafe>=2.1.1 in c:\\users\\pc\\appdata\\local\\programs\\python\\python310\\lib\\site-packages (from werkzeug>=1.0.1->tensorboard<2.11,>=2.10->tensorflow>=2.2->pdftotree->Pdf) (2.1.1)\n",
      "Requirement already satisfied: pyasn1<0.5.0,>=0.4.6 in c:\\users\\pc\\appdata\\local\\programs\\python\\python310\\lib\\site-packages (from pyasn1-modules>=0.2.1->google-auth<3,>=1.6.3->tensorboard<2.11,>=2.10->tensorflow>=2.2->pdftotree->Pdf) (0.4.8)\n",
      "Requirement already satisfied: oauthlib>=3.0.0 in c:\\users\\pc\\appdata\\local\\programs\\python\\python310\\lib\\site-packages (from requests-oauthlib>=0.7.0->google-auth-oauthlib<0.5,>=0.4.1->tensorboard<2.11,>=2.10->tensorflow>=2.2->pdftotree->Pdf) (3.2.2)\n",
      "Note: you may need to restart the kernel to use updated packages.\n"
     ]
    }
   ],
   "source": [
    "pip install Pdf"
   ]
  },
  {
   "cell_type": "code",
   "execution_count": 212,
   "id": "219d1126",
   "metadata": {},
   "outputs": [
    {
     "ename": "NameError",
     "evalue": "name 'Pdf' is not defined",
     "output_type": "error",
     "traceback": [
      "\u001b[1;31m---------------------------------------------------------------------------\u001b[0m",
      "\u001b[1;31mNameError\u001b[0m                                 Traceback (most recent call last)",
      "Input \u001b[1;32mIn [212]\u001b[0m, in \u001b[0;36m<cell line: 2>\u001b[1;34m()\u001b[0m\n\u001b[0;32m      1\u001b[0m xs \u001b[38;5;241m=\u001b[39m np\u001b[38;5;241m.\u001b[39mlinspace(\u001b[38;5;241m-\u001b[39m\u001b[38;5;241m3\u001b[39m,\u001b[38;5;241m3\u001b[39m)\n\u001b[1;32m----> 2\u001b[0m ys \u001b[38;5;241m=\u001b[39m \u001b[43mPdf\u001b[49m(xs)\n\u001b[0;32m      3\u001b[0m ys\n",
      "\u001b[1;31mNameError\u001b[0m: name 'Pdf' is not defined"
     ]
    }
   ],
   "source": [
    "xs = np.linspace(-3,3)\n",
    "ys = Pdf(xs)\n",
    "ys"
   ]
  },
  {
   "cell_type": "code",
   "execution_count": 213,
   "id": "ca9923f2",
   "metadata": {},
   "outputs": [
    {
     "data": {
      "text/plain": [
       "array([3.16712418e-05, 6.77266129e-05, 1.40261038e-04, 2.81354614e-04,\n",
       "       5.46729162e-04, 1.02934362e-03, 1.87799734e-03, 3.32094274e-03,\n",
       "       5.69318233e-03, 9.46418239e-03, 1.52603899e-02, 2.38747055e-02,\n",
       "       3.62537504e-02, 5.34543293e-02, 7.65637255e-02, 1.06584631e-01,\n",
       "       1.44293946e-01, 1.90093710e-01, 2.43879502e-01, 3.04954246e-01,\n",
       "       3.72011466e-01, 4.43201503e-01, 5.16278838e-01, 5.88811897e-01,\n",
       "       6.58423092e-01, 7.23020039e-01, 7.80980881e-01, 8.31266888e-01,\n",
       "       8.73451046e-01, 9.07667999e-01, 9.34504321e-01, 9.54855723e-01,\n",
       "       9.69778694e-01, 9.80359186e-01, 9.87612658e-01, 9.92420781e-01,\n",
       "       9.95502510e-01, 9.97412376e-01, 9.98556837e-01, 9.99219950e-01,\n",
       "       9.99591454e-01, 9.99792700e-01, 9.99898111e-01, 9.99951497e-01,\n",
       "       9.99977640e-01, 9.99990019e-01, 9.99995686e-01, 9.99998195e-01,\n",
       "       9.99999269e-01, 9.99999713e-01])"
      ]
     },
     "execution_count": 213,
     "metadata": {},
     "output_type": "execute_result"
    }
   ],
   "source": [
    "n = np.linspace(-4,5)\n",
    "y = norm(0,1).cdf(n)\n",
    "y"
   ]
  },
  {
   "cell_type": "code",
   "execution_count": 214,
   "id": "24556098",
   "metadata": {},
   "outputs": [
    {
     "data": {
      "image/png": "[encoded data removed]",
      "text/plain": [
       "<Figure size 432x288 with 1 Axes>"
      ]
     },
     "metadata": {
      "needs_background": "light"
     },
     "output_type": "display_data"
    }
   ],
   "source": [
    "plt.plot(y);"
   ]
  },
  {
   "cell_type": "code",
   "execution_count": 215,
   "id": "b208d54a",
   "metadata": {},
   "outputs": [
    {
     "data": {
      "text/plain": [
       "array([9.86587645e-10, 6.99670582e-09, 4.47271290e-08, 2.57808992e-07,\n",
       "       1.34037266e-06, 6.28824359e-06, 2.66327324e-05, 1.01889230e-04,\n",
       "       3.52335764e-04, 1.10216877e-03, 3.12191567e-03, 8.01650461e-03,\n",
       "       1.86880182e-02, 3.96209277e-02, 7.65637255e-02, 1.35221964e-01,\n",
       "       2.19019119e-01, 3.26723189e-01, 4.51271725e-01, 5.80855146e-01,\n",
       "       7.02156246e-01, 8.04317031e-01, 8.81728827e-01, 9.34504321e-01,\n",
       "       9.66875465e-01, 9.84739610e-01, 9.93609177e-01, 9.97571187e-01,\n",
       "       9.99163463e-01, 9.99739177e-01, 9.99926451e-01, 9.99981257e-01,\n",
       "       9.99995686e-01, 9.99999104e-01, 9.99999832e-01, 9.99999972e-01,\n",
       "       9.99999996e-01, 9.99999999e-01, 1.00000000e+00, 1.00000000e+00,\n",
       "       1.00000000e+00, 1.00000000e+00, 1.00000000e+00, 1.00000000e+00,\n",
       "       1.00000000e+00, 1.00000000e+00, 1.00000000e+00, 1.00000000e+00,\n",
       "       1.00000000e+00, 1.00000000e+00])"
      ]
     },
     "execution_count": 215,
     "metadata": {},
     "output_type": "execute_result"
    }
   ],
   "source": [
    "m = np.linspace(-6,10)\n",
    "z = norm(0,1).cdf(m)\n",
    "z"
   ]
  },
  {
   "cell_type": "code",
   "execution_count": 216,
   "id": "ce1738ba",
   "metadata": {},
   "outputs": [
    {
     "data": {
      "text/plain": [
       "[<matplotlib.lines.Line2D at 0x1d561ce4100>]"
      ]
     },
     "execution_count": 216,
     "metadata": {},
     "output_type": "execute_result"
    },
    {
     "data": {
      "image/png": "[encoded data removed]",
      "text/plain": [
       "<Figure size 432x288 with 1 Axes>"
      ]
     },
     "metadata": {
      "needs_background": "light"
     },
     "output_type": "display_data"
    }
   ],
   "source": [
    "plt.plot(z)"
   ]
  },
  {
   "cell_type": "code",
   "execution_count": 217,
   "id": "9cdf63f1",
   "metadata": {},
   "outputs": [
    {
     "data": {
      "text/plain": [
       "array([0.00443185, 0.00635135, 0.00896675, 0.01247075, 0.01708592,\n",
       "       0.02306069, 0.03066159, 0.04016108, 0.05182083, 0.0658706 ,\n",
       "       0.08248352, 0.10174921, 0.12364689, 0.1480211 , 0.17456307,\n",
       "       0.20280069, 0.2320998 , 0.26167871, 0.29063661, 0.31799518,\n",
       "       0.34275126, 0.36393672, 0.38068082, 0.39226937, 0.39819528,\n",
       "       0.39819528, 0.39226937, 0.38068082, 0.36393672, 0.34275126,\n",
       "       0.31799518, 0.29063661, 0.26167871, 0.2320998 , 0.20280069,\n",
       "       0.17456307, 0.1480211 , 0.12364689, 0.10174921, 0.08248352,\n",
       "       0.0658706 , 0.05182083, 0.04016108, 0.03066159, 0.02306069,\n",
       "       0.01708592, 0.01247075, 0.00896675, 0.00635135, 0.00443185])"
      ]
     },
     "execution_count": 217,
     "metadata": {},
     "output_type": "execute_result"
    }
   ],
   "source": [
    "bs = np.linspace(-3,3)\n",
    "zs = norm(0,1).pdf(bs)\n",
    "zs"
   ]
  },
  {
   "cell_type": "code",
   "execution_count": 203,
   "id": "8570c687",
   "metadata": {},
   "outputs": [
    {
     "data": {
      "text/plain": [
       "[<matplotlib.lines.Line2D at 0x1d55e37f460>]"
      ]
     },
     "execution_count": 203,
     "metadata": {},
     "output_type": "execute_result"
    },
    {
     "data": {
      "image/png": "[encoded data removed]",
      "text/plain": [
       "<Figure size 432x288 with 1 Axes>"
      ]
     },
     "metadata": {
      "needs_background": "light"
     },
     "output_type": "display_data"
    }
   ],
   "source": [
    "plt.plot(zs)"
   ]
  },
  {
   "cell_type": "markdown",
   "id": "e1e6bc31",
   "metadata": {},
   "source": [
    "# Kernel Density Plot(KDE)"
   ]
  },
  {
   "cell_type": "code",
   "execution_count": 204,
   "id": "1fcd9a24",
   "metadata": {},
   "outputs": [],
   "source": [
    "import seaborn as sns"
   ]
  },
  {
   "cell_type": "code",
   "execution_count": 205,
   "id": "d0c47e0c",
   "metadata": {},
   "outputs": [
    {
     "data": {
      "image/png": "[encoded data removed]",
      "text/plain": [
       "<Figure size 432x288 with 1 Axes>"
      ]
     },
     "metadata": {
      "needs_background": "light"
     },
     "output_type": "display_data"
    }
   ],
   "source": [
    "sns.kdeplot(sample);"
   ]
  },
  {
   "cell_type": "code",
   "execution_count": 206,
   "id": "762e34ed",
   "metadata": {},
   "outputs": [
    {
     "data": {
      "image/png": "[encoded data removed]",
      "text/plain": [
       "<Figure size 432x288 with 1 Axes>"
      ]
     },
     "metadata": {
      "needs_background": "light"
     },
     "output_type": "display_data"
    }
   ],
   "source": [
    "sns.kdeplot(sample);\n",
    "plt.plot(xs,ys);\n"
   ]
  },
  {
   "cell_type": "markdown",
   "id": "89de04d4",
   "metadata": {},
   "source": [
    "# Relationships"
   ]
  },
  {
   "cell_type": "code",
   "execution_count": null,
   "id": "9555faac",
   "metadata": {},
   "outputs": [],
   "source": []
  },
  {
   "cell_type": "code",
   "execution_count": null,
   "id": "5826d738",
   "metadata": {},
   "outputs": [],
   "source": []
  }
 ],
 "metadata": {
  "kernelspec": {
   "display_name": "Python 3 (ipykernel)",
   "language": "python",
   "name": "python3"
  },
  "language_info": {
   "codemirror_mode": {
    "name": "ipython",
    "version": 3
   },
   "file_extension": ".py",
   "mimetype": "text/x-python",
   "name": "python",
   "nbconvert_exporter": "python",
   "pygments_lexer": "ipython3",
   "version": "3.10.5"
  }
 },
 "nbformat": 4,
 "nbformat_minor": 5
}
