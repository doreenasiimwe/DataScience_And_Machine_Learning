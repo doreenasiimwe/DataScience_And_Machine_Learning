{
 "cells": [
  {
   "cell_type": "markdown",
   "id": "d925d36e",
   "metadata": {},
   "source": [
    "# Number four"
   ]
  },
  {
   "cell_type": "code",
   "execution_count": 7,
   "id": "1efae9f7",
   "metadata": {},
   "outputs": [],
   "source": [
    "#Importing all the neccessary libraries\n",
    "import numpy as np\n",
    "import sklearn as sk\n",
    "import pandas as pd\n",
    "import seaborn as sn\n",
    "import matplotlib.pyplot as plt\n",
    "import scipy as sci\n",
    "from empiricaldist import Pmf\n",
    "from scipy.stats import norm\n",
    "import statsmodels.formula.api as smf\n",
    "from scipy import linspace,polyfit,sqrt,stats,polyval,randn\n",
    "from sklearn.linear_model import LinearRegression\n",
    "from sklearn.linear_model import LogisticRegression\n",
    "%matplotlib inline"
   ]
  },
  {
   "cell_type": "code",
   "execution_count": 8,
   "id": "1f0eb350",
   "metadata": {},
   "outputs": [],
   "source": [
    "#Compounded quarterly compute the balance after 7 years\n",
    "p = 2100 #principle\n",
    "r = 0.034 #rate\n",
    "n = 4 #quqrters in a year\n",
    "t = 7 #number of years"
   ]
  },
  {
   "cell_type": "code",
   "execution_count": 9,
   "id": "1c39efd2",
   "metadata": {},
   "outputs": [
    {
     "data": {
      "text/plain": [
       "2661.6108980682593"
      ]
     },
     "execution_count": 9,
     "metadata": {},
     "output_type": "execute_result"
    }
   ],
   "source": [
    "#Compounded quarterly and the balance after 7 years\n",
    "v = p*(1+r/n)**(n*t)\n",
    "v"
   ]
  },
  {
   "cell_type": "code",
   "execution_count": 10,
   "id": "3a0b1881",
   "metadata": {},
   "outputs": [
    {
     "data": {
      "text/plain": [
       "2658.965091277534"
      ]
     },
     "execution_count": 10,
     "metadata": {},
     "output_type": "execute_result"
    }
   ],
   "source": [
    "#iNTEREST IS COMPOUNDED TWICE USING THE SAME PRICINCIPLE AND INTEREST AS ABOVE\n",
    "p = 2100 #principle\n",
    "r = 0.034 #rate\n",
    "n = 2 # COMPOUNDED TWICE\n",
    "t = 7 #number of years\n",
    "v2 = p*(1+r/n)**(n*t)\n",
    "v2"
   ]
  },
  {
   "cell_type": "code",
   "execution_count": 11,
   "id": "86192d43",
   "metadata": {},
   "outputs": [
    {
     "data": {
      "text/plain": [
       "6.175728457877729"
      ]
     },
     "execution_count": 11,
     "metadata": {},
     "output_type": "execute_result"
    }
   ],
   "source": [
    "#Interesty is compounded continuously \n",
    "V = p**(r*t)\n",
    "V"
   ]
  },
  {
   "cell_type": "markdown",
   "id": "aaadce84",
   "metadata": {},
   "source": [
    "# NUMBER FIVE"
   ]
  },
  {
   "cell_type": "code",
   "execution_count": 51,
   "id": "010e1881",
   "metadata": {},
   "outputs": [
    {
     "data": {
      "text/html": [
       "<div>\n",
       "<style scoped>\n",
       "    .dataframe tbody tr th:only-of-type {\n",
       "        vertical-align: middle;\n",
       "    }\n",
       "\n",
       "    .dataframe tbody tr th {\n",
       "        vertical-align: top;\n",
       "    }\n",
       "\n",
       "    .dataframe thead th {\n",
       "        text-align: right;\n",
       "    }\n",
       "</style>\n",
       "<table border=\"1\" class=\"dataframe\">\n",
       "  <thead>\n",
       "    <tr style=\"text-align: right;\">\n",
       "      <th></th>\n",
       "      <th>VendorID</th>\n",
       "      <th>tpep_pickup_datetime</th>\n",
       "      <th>tpep_dropoff_datetime</th>\n",
       "      <th>passenger_count</th>\n",
       "      <th>trip_distance</th>\n",
       "      <th>RatecodeID</th>\n",
       "      <th>store_and_fwd_flag</th>\n",
       "      <th>PULocationID</th>\n",
       "      <th>DOLocationID</th>\n",
       "      <th>payment_type</th>\n",
       "      <th>fare_amount</th>\n",
       "      <th>extra</th>\n",
       "      <th>mta_tax</th>\n",
       "      <th>tip_amount</th>\n",
       "      <th>tolls_amount</th>\n",
       "      <th>improvement_surcharge</th>\n",
       "      <th>total_amount</th>\n",
       "      <th>congestion_surcharge</th>\n",
       "    </tr>\n",
       "  </thead>\n",
       "  <tbody>\n",
       "    <tr>\n",
       "      <th>0</th>\n",
       "      <td>2</td>\n",
       "      <td>7/15/2019 16:27</td>\n",
       "      <td>7/15/2019 16:44</td>\n",
       "      <td>3</td>\n",
       "      <td>2.02</td>\n",
       "      <td>1</td>\n",
       "      <td>N</td>\n",
       "      <td>186</td>\n",
       "      <td>233</td>\n",
       "      <td>1</td>\n",
       "      <td>12.0</td>\n",
       "      <td>1.0</td>\n",
       "      <td>0.5</td>\n",
       "      <td>4.08</td>\n",
       "      <td>0.0</td>\n",
       "      <td>0.3</td>\n",
       "      <td>20.38</td>\n",
       "      <td>2.5</td>\n",
       "    </tr>\n",
       "    <tr>\n",
       "      <th>1</th>\n",
       "      <td>2</td>\n",
       "      <td>7/17/2019 20:26</td>\n",
       "      <td>7/17/2019 20:40</td>\n",
       "      <td>6</td>\n",
       "      <td>1.59</td>\n",
       "      <td>1</td>\n",
       "      <td>N</td>\n",
       "      <td>141</td>\n",
       "      <td>161</td>\n",
       "      <td>2</td>\n",
       "      <td>10.0</td>\n",
       "      <td>0.5</td>\n",
       "      <td>0.5</td>\n",
       "      <td>0.00</td>\n",
       "      <td>0.0</td>\n",
       "      <td>0.3</td>\n",
       "      <td>13.80</td>\n",
       "      <td>2.5</td>\n",
       "    </tr>\n",
       "    <tr>\n",
       "      <th>2</th>\n",
       "      <td>2</td>\n",
       "      <td>7/6/2019 16:01</td>\n",
       "      <td>7/6/2019 16:10</td>\n",
       "      <td>1</td>\n",
       "      <td>1.69</td>\n",
       "      <td>1</td>\n",
       "      <td>N</td>\n",
       "      <td>246</td>\n",
       "      <td>249</td>\n",
       "      <td>2</td>\n",
       "      <td>8.5</td>\n",
       "      <td>0.0</td>\n",
       "      <td>0.5</td>\n",
       "      <td>0.00</td>\n",
       "      <td>0.0</td>\n",
       "      <td>0.3</td>\n",
       "      <td>11.80</td>\n",
       "      <td>2.5</td>\n",
       "    </tr>\n",
       "    <tr>\n",
       "      <th>3</th>\n",
       "      <td>1</td>\n",
       "      <td>7/18/2019 22:32</td>\n",
       "      <td>7/18/2019 22:35</td>\n",
       "      <td>1</td>\n",
       "      <td>0.90</td>\n",
       "      <td>1</td>\n",
       "      <td>N</td>\n",
       "      <td>229</td>\n",
       "      <td>141</td>\n",
       "      <td>1</td>\n",
       "      <td>4.5</td>\n",
       "      <td>3.0</td>\n",
       "      <td>0.5</td>\n",
       "      <td>1.65</td>\n",
       "      <td>0.0</td>\n",
       "      <td>0.3</td>\n",
       "      <td>9.95</td>\n",
       "      <td>2.5</td>\n",
       "    </tr>\n",
       "    <tr>\n",
       "      <th>4</th>\n",
       "      <td>2</td>\n",
       "      <td>7/19/2019 14:54</td>\n",
       "      <td>7/19/2019 15:19</td>\n",
       "      <td>1</td>\n",
       "      <td>4.79</td>\n",
       "      <td>1</td>\n",
       "      <td>N</td>\n",
       "      <td>237</td>\n",
       "      <td>107</td>\n",
       "      <td>1</td>\n",
       "      <td>19.5</td>\n",
       "      <td>0.0</td>\n",
       "      <td>0.5</td>\n",
       "      <td>5.70</td>\n",
       "      <td>0.0</td>\n",
       "      <td>0.3</td>\n",
       "      <td>28.50</td>\n",
       "      <td>2.5</td>\n",
       "    </tr>\n",
       "    <tr>\n",
       "      <th>...</th>\n",
       "      <td>...</td>\n",
       "      <td>...</td>\n",
       "      <td>...</td>\n",
       "      <td>...</td>\n",
       "      <td>...</td>\n",
       "      <td>...</td>\n",
       "      <td>...</td>\n",
       "      <td>...</td>\n",
       "      <td>...</td>\n",
       "      <td>...</td>\n",
       "      <td>...</td>\n",
       "      <td>...</td>\n",
       "      <td>...</td>\n",
       "      <td>...</td>\n",
       "      <td>...</td>\n",
       "      <td>...</td>\n",
       "      <td>...</td>\n",
       "      <td>...</td>\n",
       "    </tr>\n",
       "    <tr>\n",
       "      <th>195</th>\n",
       "      <td>2</td>\n",
       "      <td>1/18/2019 8:42</td>\n",
       "      <td>1/18/2019 8:56</td>\n",
       "      <td>1</td>\n",
       "      <td>1.18</td>\n",
       "      <td>1</td>\n",
       "      <td>N</td>\n",
       "      <td>43</td>\n",
       "      <td>237</td>\n",
       "      <td>1</td>\n",
       "      <td>10.0</td>\n",
       "      <td>0.0</td>\n",
       "      <td>0.5</td>\n",
       "      <td>2.16</td>\n",
       "      <td>0.0</td>\n",
       "      <td>0.3</td>\n",
       "      <td>12.96</td>\n",
       "      <td>0.0</td>\n",
       "    </tr>\n",
       "    <tr>\n",
       "      <th>196</th>\n",
       "      <td>1</td>\n",
       "      <td>1/19/2019 4:34</td>\n",
       "      <td>1/19/2019 4:43</td>\n",
       "      <td>1</td>\n",
       "      <td>2.30</td>\n",
       "      <td>1</td>\n",
       "      <td>N</td>\n",
       "      <td>148</td>\n",
       "      <td>234</td>\n",
       "      <td>1</td>\n",
       "      <td>9.5</td>\n",
       "      <td>0.5</td>\n",
       "      <td>0.5</td>\n",
       "      <td>2.15</td>\n",
       "      <td>0.0</td>\n",
       "      <td>0.3</td>\n",
       "      <td>12.95</td>\n",
       "      <td>0.0</td>\n",
       "    </tr>\n",
       "    <tr>\n",
       "      <th>197</th>\n",
       "      <td>2</td>\n",
       "      <td>1/5/2019 10:37</td>\n",
       "      <td>1/5/2019 10:42</td>\n",
       "      <td>1</td>\n",
       "      <td>0.83</td>\n",
       "      <td>1</td>\n",
       "      <td>N</td>\n",
       "      <td>237</td>\n",
       "      <td>263</td>\n",
       "      <td>1</td>\n",
       "      <td>5.0</td>\n",
       "      <td>0.0</td>\n",
       "      <td>0.5</td>\n",
       "      <td>1.16</td>\n",
       "      <td>0.0</td>\n",
       "      <td>0.3</td>\n",
       "      <td>6.96</td>\n",
       "      <td>0.0</td>\n",
       "    </tr>\n",
       "    <tr>\n",
       "      <th>198</th>\n",
       "      <td>2</td>\n",
       "      <td>1/23/2019 10:36</td>\n",
       "      <td>1/23/2019 10:44</td>\n",
       "      <td>2</td>\n",
       "      <td>1.12</td>\n",
       "      <td>1</td>\n",
       "      <td>N</td>\n",
       "      <td>144</td>\n",
       "      <td>113</td>\n",
       "      <td>2</td>\n",
       "      <td>7.0</td>\n",
       "      <td>0.0</td>\n",
       "      <td>0.5</td>\n",
       "      <td>0.00</td>\n",
       "      <td>0.0</td>\n",
       "      <td>0.3</td>\n",
       "      <td>7.80</td>\n",
       "      <td>0.0</td>\n",
       "    </tr>\n",
       "    <tr>\n",
       "      <th>199</th>\n",
       "      <td>2</td>\n",
       "      <td>1/30/2019 6:55</td>\n",
       "      <td>1/30/2019 7:07</td>\n",
       "      <td>5</td>\n",
       "      <td>2.41</td>\n",
       "      <td>1</td>\n",
       "      <td>N</td>\n",
       "      <td>209</td>\n",
       "      <td>107</td>\n",
       "      <td>1</td>\n",
       "      <td>10.5</td>\n",
       "      <td>0.0</td>\n",
       "      <td>0.5</td>\n",
       "      <td>1.00</td>\n",
       "      <td>0.0</td>\n",
       "      <td>0.3</td>\n",
       "      <td>12.30</td>\n",
       "      <td>0.0</td>\n",
       "    </tr>\n",
       "  </tbody>\n",
       "</table>\n",
       "<p>200 rows × 18 columns</p>\n",
       "</div>"
      ],
      "text/plain": [
       "     VendorID tpep_pickup_datetime tpep_dropoff_datetime  passenger_count  \\\n",
       "0           2      7/15/2019 16:27       7/15/2019 16:44                3   \n",
       "1           2      7/17/2019 20:26       7/17/2019 20:40                6   \n",
       "2           2       7/6/2019 16:01        7/6/2019 16:10                1   \n",
       "3           1      7/18/2019 22:32       7/18/2019 22:35                1   \n",
       "4           2      7/19/2019 14:54       7/19/2019 15:19                1   \n",
       "..        ...                  ...                   ...              ...   \n",
       "195         2       1/18/2019 8:42        1/18/2019 8:56                1   \n",
       "196         1       1/19/2019 4:34        1/19/2019 4:43                1   \n",
       "197         2       1/5/2019 10:37        1/5/2019 10:42                1   \n",
       "198         2      1/23/2019 10:36       1/23/2019 10:44                2   \n",
       "199         2       1/30/2019 6:55        1/30/2019 7:07                5   \n",
       "\n",
       "     trip_distance  RatecodeID store_and_fwd_flag  PULocationID  DOLocationID  \\\n",
       "0             2.02           1                  N           186           233   \n",
       "1             1.59           1                  N           141           161   \n",
       "2             1.69           1                  N           246           249   \n",
       "3             0.90           1                  N           229           141   \n",
       "4             4.79           1                  N           237           107   \n",
       "..             ...         ...                ...           ...           ...   \n",
       "195           1.18           1                  N            43           237   \n",
       "196           2.30           1                  N           148           234   \n",
       "197           0.83           1                  N           237           263   \n",
       "198           1.12           1                  N           144           113   \n",
       "199           2.41           1                  N           209           107   \n",
       "\n",
       "     payment_type  fare_amount  extra  mta_tax  tip_amount  tolls_amount  \\\n",
       "0               1         12.0    1.0      0.5        4.08           0.0   \n",
       "1               2         10.0    0.5      0.5        0.00           0.0   \n",
       "2               2          8.5    0.0      0.5        0.00           0.0   \n",
       "3               1          4.5    3.0      0.5        1.65           0.0   \n",
       "4               1         19.5    0.0      0.5        5.70           0.0   \n",
       "..            ...          ...    ...      ...         ...           ...   \n",
       "195             1         10.0    0.0      0.5        2.16           0.0   \n",
       "196             1          9.5    0.5      0.5        2.15           0.0   \n",
       "197             1          5.0    0.0      0.5        1.16           0.0   \n",
       "198             2          7.0    0.0      0.5        0.00           0.0   \n",
       "199             1         10.5    0.0      0.5        1.00           0.0   \n",
       "\n",
       "     improvement_surcharge  total_amount  congestion_surcharge  \n",
       "0                      0.3         20.38                   2.5  \n",
       "1                      0.3         13.80                   2.5  \n",
       "2                      0.3         11.80                   2.5  \n",
       "3                      0.3          9.95                   2.5  \n",
       "4                      0.3         28.50                   2.5  \n",
       "..                     ...           ...                   ...  \n",
       "195                    0.3         12.96                   0.0  \n",
       "196                    0.3         12.95                   0.0  \n",
       "197                    0.3          6.96                   0.0  \n",
       "198                    0.3          7.80                   0.0  \n",
       "199                    0.3         12.30                   0.0  \n",
       "\n",
       "[200 rows x 18 columns]"
      ]
     },
     "execution_count": 51,
     "metadata": {},
     "output_type": "execute_result"
    }
   ],
   "source": [
    "taxi = pd.read_csv(\"data/taxi.csv\")\n",
    "taxi"
   ]
  },
  {
   "cell_type": "code",
   "execution_count": 21,
   "id": "86415ffc",
   "metadata": {},
   "outputs": [
    {
     "data": {
      "text/plain": [
       "Index(['VendorID', 'tpep_pickup_datetime', 'tpep_dropoff_datetime',\n",
       "       'passenger_count', 'trip_distance', 'RatecodeID', 'store_and_fwd_flag',\n",
       "       'PULocationID', 'DOLocationID', 'payment_type', 'fare_amount', 'extra',\n",
       "       'mta_tax', 'tip_amount', 'tolls_amount', 'improvement_surcharge',\n",
       "       'total_amount', 'congestion_surcharge'],\n",
       "      dtype='object')"
      ]
     },
     "execution_count": 21,
     "metadata": {},
     "output_type": "execute_result"
    }
   ],
   "source": [
    "taxi.columns"
   ]
  },
  {
   "cell_type": "code",
   "execution_count": 22,
   "id": "9aae64d5",
   "metadata": {},
   "outputs": [
    {
     "data": {
      "text/plain": [
       "0      3\n",
       "1      6\n",
       "2      1\n",
       "3      1\n",
       "4      1\n",
       "      ..\n",
       "195    1\n",
       "196    1\n",
       "197    1\n",
       "198    2\n",
       "199    5\n",
       "Name: passenger_count, Length: 200, dtype: int64"
      ]
     },
     "execution_count": 22,
     "metadata": {},
     "output_type": "execute_result"
    }
   ],
   "source": [
    "#Choosing variables to work with in the simple linearregression\n",
    "y = taxi.passenger_count\n",
    "y"
   ]
  },
  {
   "cell_type": "code",
   "execution_count": 23,
   "id": "87f4793a",
   "metadata": {},
   "outputs": [
    {
     "data": {
      "text/plain": [
       "0      20.38\n",
       "1      13.80\n",
       "2      11.80\n",
       "3       9.95\n",
       "4      28.50\n",
       "       ...  \n",
       "195    12.96\n",
       "196    12.95\n",
       "197     6.96\n",
       "198     7.80\n",
       "199    12.30\n",
       "Name: total_amount, Length: 200, dtype: float64"
      ]
     },
     "execution_count": 23,
     "metadata": {},
     "output_type": "execute_result"
    }
   ],
   "source": [
    "#Choosing the second variable\n",
    "x = taxi.total_amount\n",
    "x"
   ]
  },
  {
   "cell_type": "code",
   "execution_count": 26,
   "id": "85a60f2b",
   "metadata": {},
   "outputs": [
    {
     "data": {
      "text/plain": [
       "Intercept    1.636813\n",
       "x           -0.003811\n",
       "dtype: float64"
      ]
     },
     "execution_count": 26,
     "metadata": {},
     "output_type": "execute_result"
    }
   ],
   "source": [
    "# Creating A simple linear regression from the abovce variables\n",
    "results = smf.ols(\"y ~ x\", data=taxi).fit()\n",
    "results.params"
   ]
  },
  {
   "cell_type": "markdown",
   "id": "90344627",
   "metadata": {},
   "source": [
    "#### The above expression means that\n",
    " Passenger_count = 1.636813 - 0.003811 total_amount\n",
    "where Passenger_count is the percentage of change and the 0.003811 being the results\n",
    "This is called a simple linear regression with one parameter\n",
    "The expression in words is a percentage change in Passenger_counts results into 0.003811 total_amount leaving everything else as a constant\n",
    "This means that we have regressed passenger_counts(y) as a function of total_amount(x) and the actual computation is done by the fit method as the ols represents the model"
   ]
  },
  {
   "cell_type": "code",
   "execution_count": 27,
   "id": "9b33d589",
   "metadata": {},
   "outputs": [
    {
     "data": {
      "text/plain": [
       "0      2.02\n",
       "1      1.59\n",
       "2      1.69\n",
       "3      0.90\n",
       "4      4.79\n",
       "       ... \n",
       "195    1.18\n",
       "196    2.30\n",
       "197    0.83\n",
       "198    1.12\n",
       "199    2.41\n",
       "Name: trip_distance, Length: 200, dtype: float64"
      ]
     },
     "execution_count": 27,
     "metadata": {},
     "output_type": "execute_result"
    }
   ],
   "source": [
    "# MULTIPLE LINEAR REGRESSION\n",
    "#MORE VARIABLES FOR THE MULTIPLE LINEAR REGRESSION\n",
    "z = taxi.trip_distance\n",
    "z"
   ]
  },
  {
   "cell_type": "code",
   "execution_count": 29,
   "id": "7059c90f",
   "metadata": {},
   "outputs": [
    {
     "data": {
      "text/plain": [
       "0      12.0\n",
       "1      10.0\n",
       "2       8.5\n",
       "3       4.5\n",
       "4      19.5\n",
       "       ... \n",
       "195    10.0\n",
       "196     9.5\n",
       "197     5.0\n",
       "198     7.0\n",
       "199    10.5\n",
       "Name: fare_amount, Length: 200, dtype: float64"
      ]
     },
     "execution_count": 29,
     "metadata": {},
     "output_type": "execute_result"
    }
   ],
   "source": [
    "#SECOND VARIABLE\n",
    "w = taxi.fare_amount\n",
    "w"
   ]
  },
  {
   "cell_type": "code",
   "execution_count": 30,
   "id": "593c3281",
   "metadata": {},
   "outputs": [
    {
     "data": {
      "text/plain": [
       "Intercept    1.779794\n",
       "x           -0.045927\n",
       "z            0.043300\n",
       "w            0.035341\n",
       "dtype: float64"
      ]
     },
     "execution_count": 30,
     "metadata": {},
     "output_type": "execute_result"
    }
   ],
   "source": [
    "#MULTIPLE LINEAR REGRESSION\n",
    "results = smf.ols(\"y ~ x +z + w \", data=taxi).fit()\n",
    "results.params"
   ]
  },
  {
   "cell_type": "markdown",
   "id": "076b422c",
   "metadata": {},
   "source": [
    "the constants are assumed to be there and left constant one unit of y(passenger_count) results to something keeping all the others constant ie y = 1.779794 - 0.045927 total_amount + 0.043300trip_distance +0.035341 fare_amount."
   ]
  },
  {
   "cell_type": "markdown",
   "id": "b6ef7f47",
   "metadata": {},
   "source": [
    "# Number TWO"
   ]
  },
  {
   "cell_type": "code",
   "execution_count": 50,
   "id": "20c52778",
   "metadata": {},
   "outputs": [
    {
     "data": {
      "text/html": [
       "<div>\n",
       "<style scoped>\n",
       "    .dataframe tbody tr th:only-of-type {\n",
       "        vertical-align: middle;\n",
       "    }\n",
       "\n",
       "    .dataframe tbody tr th {\n",
       "        vertical-align: top;\n",
       "    }\n",
       "\n",
       "    .dataframe thead th {\n",
       "        text-align: right;\n",
       "    }\n",
       "</style>\n",
       "<table border=\"1\" class=\"dataframe\">\n",
       "  <thead>\n",
       "    <tr style=\"text-align: right;\">\n",
       "      <th></th>\n",
       "      <th>VendorID</th>\n",
       "      <th>tpep_pickup_datetime</th>\n",
       "      <th>tpep_dropoff_datetime</th>\n",
       "      <th>passenger_count</th>\n",
       "      <th>trip_distance</th>\n",
       "      <th>RatecodeID</th>\n",
       "      <th>store_and_fwd_flag</th>\n",
       "      <th>PULocationID</th>\n",
       "      <th>DOLocationID</th>\n",
       "      <th>payment_type</th>\n",
       "      <th>fare_amount</th>\n",
       "      <th>extra</th>\n",
       "      <th>mta_tax</th>\n",
       "      <th>tip_amount</th>\n",
       "      <th>tolls_amount</th>\n",
       "      <th>improvement_surcharge</th>\n",
       "      <th>total_amount</th>\n",
       "      <th>congestion_surcharge</th>\n",
       "    </tr>\n",
       "  </thead>\n",
       "  <tbody>\n",
       "    <tr>\n",
       "      <th>0</th>\n",
       "      <td>2</td>\n",
       "      <td>7/15/2019 16:27</td>\n",
       "      <td>7/15/2019 16:44</td>\n",
       "      <td>3</td>\n",
       "      <td>2.02</td>\n",
       "      <td>1</td>\n",
       "      <td>N</td>\n",
       "      <td>186</td>\n",
       "      <td>233</td>\n",
       "      <td>1</td>\n",
       "      <td>12.0</td>\n",
       "      <td>1.0</td>\n",
       "      <td>0.5</td>\n",
       "      <td>4.08</td>\n",
       "      <td>0.0</td>\n",
       "      <td>0.3</td>\n",
       "      <td>20.38</td>\n",
       "      <td>2.5</td>\n",
       "    </tr>\n",
       "    <tr>\n",
       "      <th>1</th>\n",
       "      <td>2</td>\n",
       "      <td>7/17/2019 20:26</td>\n",
       "      <td>7/17/2019 20:40</td>\n",
       "      <td>6</td>\n",
       "      <td>1.59</td>\n",
       "      <td>1</td>\n",
       "      <td>N</td>\n",
       "      <td>141</td>\n",
       "      <td>161</td>\n",
       "      <td>2</td>\n",
       "      <td>10.0</td>\n",
       "      <td>0.5</td>\n",
       "      <td>0.5</td>\n",
       "      <td>0.00</td>\n",
       "      <td>0.0</td>\n",
       "      <td>0.3</td>\n",
       "      <td>13.80</td>\n",
       "      <td>2.5</td>\n",
       "    </tr>\n",
       "    <tr>\n",
       "      <th>2</th>\n",
       "      <td>2</td>\n",
       "      <td>7/6/2019 16:01</td>\n",
       "      <td>7/6/2019 16:10</td>\n",
       "      <td>1</td>\n",
       "      <td>1.69</td>\n",
       "      <td>1</td>\n",
       "      <td>N</td>\n",
       "      <td>246</td>\n",
       "      <td>249</td>\n",
       "      <td>2</td>\n",
       "      <td>8.5</td>\n",
       "      <td>0.0</td>\n",
       "      <td>0.5</td>\n",
       "      <td>0.00</td>\n",
       "      <td>0.0</td>\n",
       "      <td>0.3</td>\n",
       "      <td>11.80</td>\n",
       "      <td>2.5</td>\n",
       "    </tr>\n",
       "    <tr>\n",
       "      <th>3</th>\n",
       "      <td>1</td>\n",
       "      <td>7/18/2019 22:32</td>\n",
       "      <td>7/18/2019 22:35</td>\n",
       "      <td>1</td>\n",
       "      <td>0.90</td>\n",
       "      <td>1</td>\n",
       "      <td>N</td>\n",
       "      <td>229</td>\n",
       "      <td>141</td>\n",
       "      <td>1</td>\n",
       "      <td>4.5</td>\n",
       "      <td>3.0</td>\n",
       "      <td>0.5</td>\n",
       "      <td>1.65</td>\n",
       "      <td>0.0</td>\n",
       "      <td>0.3</td>\n",
       "      <td>9.95</td>\n",
       "      <td>2.5</td>\n",
       "    </tr>\n",
       "    <tr>\n",
       "      <th>4</th>\n",
       "      <td>2</td>\n",
       "      <td>7/19/2019 14:54</td>\n",
       "      <td>7/19/2019 15:19</td>\n",
       "      <td>1</td>\n",
       "      <td>4.79</td>\n",
       "      <td>1</td>\n",
       "      <td>N</td>\n",
       "      <td>237</td>\n",
       "      <td>107</td>\n",
       "      <td>1</td>\n",
       "      <td>19.5</td>\n",
       "      <td>0.0</td>\n",
       "      <td>0.5</td>\n",
       "      <td>5.70</td>\n",
       "      <td>0.0</td>\n",
       "      <td>0.3</td>\n",
       "      <td>28.50</td>\n",
       "      <td>2.5</td>\n",
       "    </tr>\n",
       "    <tr>\n",
       "      <th>...</th>\n",
       "      <td>...</td>\n",
       "      <td>...</td>\n",
       "      <td>...</td>\n",
       "      <td>...</td>\n",
       "      <td>...</td>\n",
       "      <td>...</td>\n",
       "      <td>...</td>\n",
       "      <td>...</td>\n",
       "      <td>...</td>\n",
       "      <td>...</td>\n",
       "      <td>...</td>\n",
       "      <td>...</td>\n",
       "      <td>...</td>\n",
       "      <td>...</td>\n",
       "      <td>...</td>\n",
       "      <td>...</td>\n",
       "      <td>...</td>\n",
       "      <td>...</td>\n",
       "    </tr>\n",
       "    <tr>\n",
       "      <th>195</th>\n",
       "      <td>2</td>\n",
       "      <td>1/18/2019 8:42</td>\n",
       "      <td>1/18/2019 8:56</td>\n",
       "      <td>1</td>\n",
       "      <td>1.18</td>\n",
       "      <td>1</td>\n",
       "      <td>N</td>\n",
       "      <td>43</td>\n",
       "      <td>237</td>\n",
       "      <td>1</td>\n",
       "      <td>10.0</td>\n",
       "      <td>0.0</td>\n",
       "      <td>0.5</td>\n",
       "      <td>2.16</td>\n",
       "      <td>0.0</td>\n",
       "      <td>0.3</td>\n",
       "      <td>12.96</td>\n",
       "      <td>0.0</td>\n",
       "    </tr>\n",
       "    <tr>\n",
       "      <th>196</th>\n",
       "      <td>1</td>\n",
       "      <td>1/19/2019 4:34</td>\n",
       "      <td>1/19/2019 4:43</td>\n",
       "      <td>1</td>\n",
       "      <td>2.30</td>\n",
       "      <td>1</td>\n",
       "      <td>N</td>\n",
       "      <td>148</td>\n",
       "      <td>234</td>\n",
       "      <td>1</td>\n",
       "      <td>9.5</td>\n",
       "      <td>0.5</td>\n",
       "      <td>0.5</td>\n",
       "      <td>2.15</td>\n",
       "      <td>0.0</td>\n",
       "      <td>0.3</td>\n",
       "      <td>12.95</td>\n",
       "      <td>0.0</td>\n",
       "    </tr>\n",
       "    <tr>\n",
       "      <th>197</th>\n",
       "      <td>2</td>\n",
       "      <td>1/5/2019 10:37</td>\n",
       "      <td>1/5/2019 10:42</td>\n",
       "      <td>1</td>\n",
       "      <td>0.83</td>\n",
       "      <td>1</td>\n",
       "      <td>N</td>\n",
       "      <td>237</td>\n",
       "      <td>263</td>\n",
       "      <td>1</td>\n",
       "      <td>5.0</td>\n",
       "      <td>0.0</td>\n",
       "      <td>0.5</td>\n",
       "      <td>1.16</td>\n",
       "      <td>0.0</td>\n",
       "      <td>0.3</td>\n",
       "      <td>6.96</td>\n",
       "      <td>0.0</td>\n",
       "    </tr>\n",
       "    <tr>\n",
       "      <th>198</th>\n",
       "      <td>2</td>\n",
       "      <td>1/23/2019 10:36</td>\n",
       "      <td>1/23/2019 10:44</td>\n",
       "      <td>2</td>\n",
       "      <td>1.12</td>\n",
       "      <td>1</td>\n",
       "      <td>N</td>\n",
       "      <td>144</td>\n",
       "      <td>113</td>\n",
       "      <td>2</td>\n",
       "      <td>7.0</td>\n",
       "      <td>0.0</td>\n",
       "      <td>0.5</td>\n",
       "      <td>0.00</td>\n",
       "      <td>0.0</td>\n",
       "      <td>0.3</td>\n",
       "      <td>7.80</td>\n",
       "      <td>0.0</td>\n",
       "    </tr>\n",
       "    <tr>\n",
       "      <th>199</th>\n",
       "      <td>2</td>\n",
       "      <td>1/30/2019 6:55</td>\n",
       "      <td>1/30/2019 7:07</td>\n",
       "      <td>5</td>\n",
       "      <td>2.41</td>\n",
       "      <td>1</td>\n",
       "      <td>N</td>\n",
       "      <td>209</td>\n",
       "      <td>107</td>\n",
       "      <td>1</td>\n",
       "      <td>10.5</td>\n",
       "      <td>0.0</td>\n",
       "      <td>0.5</td>\n",
       "      <td>1.00</td>\n",
       "      <td>0.0</td>\n",
       "      <td>0.3</td>\n",
       "      <td>12.30</td>\n",
       "      <td>0.0</td>\n",
       "    </tr>\n",
       "  </tbody>\n",
       "</table>\n",
       "<p>200 rows × 18 columns</p>\n",
       "</div>"
      ],
      "text/plain": [
       "     VendorID tpep_pickup_datetime tpep_dropoff_datetime  passenger_count  \\\n",
       "0           2      7/15/2019 16:27       7/15/2019 16:44                3   \n",
       "1           2      7/17/2019 20:26       7/17/2019 20:40                6   \n",
       "2           2       7/6/2019 16:01        7/6/2019 16:10                1   \n",
       "3           1      7/18/2019 22:32       7/18/2019 22:35                1   \n",
       "4           2      7/19/2019 14:54       7/19/2019 15:19                1   \n",
       "..        ...                  ...                   ...              ...   \n",
       "195         2       1/18/2019 8:42        1/18/2019 8:56                1   \n",
       "196         1       1/19/2019 4:34        1/19/2019 4:43                1   \n",
       "197         2       1/5/2019 10:37        1/5/2019 10:42                1   \n",
       "198         2      1/23/2019 10:36       1/23/2019 10:44                2   \n",
       "199         2       1/30/2019 6:55        1/30/2019 7:07                5   \n",
       "\n",
       "     trip_distance  RatecodeID store_and_fwd_flag  PULocationID  DOLocationID  \\\n",
       "0             2.02           1                  N           186           233   \n",
       "1             1.59           1                  N           141           161   \n",
       "2             1.69           1                  N           246           249   \n",
       "3             0.90           1                  N           229           141   \n",
       "4             4.79           1                  N           237           107   \n",
       "..             ...         ...                ...           ...           ...   \n",
       "195           1.18           1                  N            43           237   \n",
       "196           2.30           1                  N           148           234   \n",
       "197           0.83           1                  N           237           263   \n",
       "198           1.12           1                  N           144           113   \n",
       "199           2.41           1                  N           209           107   \n",
       "\n",
       "     payment_type  fare_amount  extra  mta_tax  tip_amount  tolls_amount  \\\n",
       "0               1         12.0    1.0      0.5        4.08           0.0   \n",
       "1               2         10.0    0.5      0.5        0.00           0.0   \n",
       "2               2          8.5    0.0      0.5        0.00           0.0   \n",
       "3               1          4.5    3.0      0.5        1.65           0.0   \n",
       "4               1         19.5    0.0      0.5        5.70           0.0   \n",
       "..            ...          ...    ...      ...         ...           ...   \n",
       "195             1         10.0    0.0      0.5        2.16           0.0   \n",
       "196             1          9.5    0.5      0.5        2.15           0.0   \n",
       "197             1          5.0    0.0      0.5        1.16           0.0   \n",
       "198             2          7.0    0.0      0.5        0.00           0.0   \n",
       "199             1         10.5    0.0      0.5        1.00           0.0   \n",
       "\n",
       "     improvement_surcharge  total_amount  congestion_surcharge  \n",
       "0                      0.3         20.38                   2.5  \n",
       "1                      0.3         13.80                   2.5  \n",
       "2                      0.3         11.80                   2.5  \n",
       "3                      0.3          9.95                   2.5  \n",
       "4                      0.3         28.50                   2.5  \n",
       "..                     ...           ...                   ...  \n",
       "195                    0.3         12.96                   0.0  \n",
       "196                    0.3         12.95                   0.0  \n",
       "197                    0.3          6.96                   0.0  \n",
       "198                    0.3          7.80                   0.0  \n",
       "199                    0.3         12.30                   0.0  \n",
       "\n",
       "[200 rows x 18 columns]"
      ]
     },
     "execution_count": 50,
     "metadata": {},
     "output_type": "execute_result"
    }
   ],
   "source": [
    "df = pd.read_csv(\"data/taxi.csv\")\n",
    "df"
   ]
  },
  {
   "cell_type": "code",
   "execution_count": 32,
   "id": "8b5a3244",
   "metadata": {},
   "outputs": [
    {
     "data": {
      "text/plain": [
       "Index(['VendorID', 'tpep_pickup_datetime', 'tpep_dropoff_datetime',\n",
       "       'passenger_count', 'trip_distance', 'RatecodeID', 'store_and_fwd_flag',\n",
       "       'PULocationID', 'DOLocationID', 'payment_type', 'fare_amount', 'extra',\n",
       "       'mta_tax', 'tip_amount', 'tolls_amount', 'improvement_surcharge',\n",
       "       'total_amount', 'congestion_surcharge'],\n",
       "      dtype='object')"
      ]
     },
     "execution_count": 32,
     "metadata": {},
     "output_type": "execute_result"
    }
   ],
   "source": [
    "# CDF OF THE TOTAL AMOUNT VARIABLE\n",
    "df.columns"
   ]
  },
  {
   "cell_type": "code",
   "execution_count": 33,
   "id": "1af4cccb",
   "metadata": {},
   "outputs": [
    {
     "data": {
      "text/plain": [
       "0      20.38\n",
       "1      13.80\n",
       "2      11.80\n",
       "3       9.95\n",
       "4      28.50\n",
       "       ...  \n",
       "195    12.96\n",
       "196    12.95\n",
       "197     6.96\n",
       "198     7.80\n",
       "199    12.30\n",
       "Name: total_amount, Length: 200, dtype: float64"
      ]
     },
     "execution_count": 33,
     "metadata": {},
     "output_type": "execute_result"
    }
   ],
   "source": [
    "#Extractint the total_amount values\n",
    "total_amount = df.total_amount\n",
    "total_amount"
   ]
  },
  {
   "cell_type": "code",
   "execution_count": 59,
   "id": "3724b26a",
   "metadata": {},
   "outputs": [
    {
     "data": {
      "image/png": "[encoded data removed]",
      "text/plain": [
       "<Figure size 432x288 with 1 Axes>"
      ]
     },
     "metadata": {
      "needs_background": "light"
     },
     "output_type": "display_data"
    }
   ],
   "source": [
    "#investigatoing wjether it follows a normal distribution\n",
    "plt.plot(total_amount);"
   ]
  },
  {
   "cell_type": "code",
   "execution_count": 57,
   "id": "c52dc685",
   "metadata": {},
   "outputs": [
    {
     "data": {
      "image/png": "[encoded data removed]",
      "text/plain": [
       "<Figure size 432x288 with 1 Axes>"
      ]
     },
     "metadata": {
      "needs_background": "light"
     },
     "output_type": "display_data"
    }
   ],
   "source": [
    "#CDF OF THE TOTAL_AMOUNT\n",
    "total_amount= np.linspace(5,30)# range of the total_amount is within 5-30\n",
    "m = norm(0,1).cdf(total_amount)# norm with the 0 mean since its not yet computed and the standard deviation of 1 and the cdf of the total_amount\n",
    "plt.plot(m);\n",
    "plt.plot(total_amount);\n"
   ]
  },
  {
   "cell_type": "markdown",
   "id": "03c919ef",
   "metadata": {},
   "source": [
    "### According to the appearnce odff the line the total_amount variable is in a normal distribution "
   ]
  },
  {
   "cell_type": "code",
   "execution_count": 38,
   "id": "10c504cb",
   "metadata": {},
   "outputs": [
    {
     "data": {
      "text/plain": [
       "17.5"
      ]
     },
     "execution_count": 38,
     "metadata": {},
     "output_type": "execute_result"
    }
   ],
   "source": [
    "#MEAN\n",
    "total_amount.mean()"
   ]
  },
  {
   "cell_type": "code",
   "execution_count": 39,
   "id": "a2d1015d",
   "metadata": {},
   "outputs": [
    {
     "data": {
      "text/plain": [
       "7.362688617174395"
      ]
     },
     "execution_count": 39,
     "metadata": {},
     "output_type": "execute_result"
    }
   ],
   "source": [
    "#STANDARD DEVIATION\n",
    "total_amount.std()"
   ]
  },
  {
   "cell_type": "code",
   "execution_count": 40,
   "id": "4f0bb0e8",
   "metadata": {},
   "outputs": [
    {
     "data": {
      "text/plain": [
       "array([ 5.        ,  5.51020408,  6.02040816,  6.53061224,  7.04081633,\n",
       "        7.55102041,  8.06122449,  8.57142857,  9.08163265,  9.59183673,\n",
       "       10.10204082, 10.6122449 , 11.12244898, 11.63265306, 12.14285714,\n",
       "       12.65306122, 13.16326531, 13.67346939, 14.18367347, 14.69387755,\n",
       "       15.20408163, 15.71428571, 16.2244898 , 16.73469388, 17.24489796,\n",
       "       17.75510204, 18.26530612, 18.7755102 , 19.28571429, 19.79591837,\n",
       "       20.30612245, 20.81632653, 21.32653061, 21.83673469, 22.34693878,\n",
       "       22.85714286, 23.36734694, 23.87755102, 24.3877551 , 24.89795918,\n",
       "       25.40816327, 25.91836735, 26.42857143, 26.93877551, 27.44897959,\n",
       "       27.95918367, 28.46938776, 28.97959184, 29.48979592, 30.        ])"
      ]
     },
     "execution_count": 40,
     "metadata": {},
     "output_type": "execute_result"
    }
   ],
   "source": [
    "\n",
    "_array = np.linspace(5,30)\n",
    "_array"
   ]
  },
  {
   "cell_type": "code",
   "execution_count": 43,
   "id": "312d9f3f",
   "metadata": {},
   "outputs": [
    {
     "data": {
      "text/plain": [
       "array([0.03164542, 0.03719099, 0.04350639, 0.05066039, 0.05872142,\n",
       "       0.06775638, 0.07782931, 0.08899998, 0.10132241, 0.11484337,\n",
       "       0.12960087, 0.14562268, 0.162925  , 0.18151121, 0.20137086,\n",
       "       0.2224788 , 0.24479468, 0.26826269, 0.29281159, 0.31835519,\n",
       "       0.34479302, 0.37201147, 0.39988518, 0.42827876, 0.45704873,\n",
       "       0.48604568, 0.51511664, 0.54410744, 0.57286519, 0.60124068,\n",
       "       0.62909072, 0.65628028, 0.68268444, 0.70819008, 0.73269731,\n",
       "       0.7561205 , 0.77838903, 0.79944771, 0.8192568 , 0.83779177,\n",
       "       0.85504271, 0.87101356, 0.88572099, 0.89919322, 0.91146863,\n",
       "       0.92259431, 0.93262454, 0.94161928, 0.94964273, 0.95676187])"
      ]
     },
     "execution_count": 43,
     "metadata": {},
     "output_type": "execute_result"
    }
   ],
   "source": [
    "#normal distribution with the smae  nmean and std  of continuous variables  and compute the cdf of each value in the array\n",
    "_norm = norm(18,7).cdf(_array)\n",
    "_norm\n"
   ]
  },
  {
   "cell_type": "code",
   "execution_count": 47,
   "id": "753fe1a8",
   "metadata": {},
   "outputs": [
    {
     "data": {
      "text/plain": [
       "Text(0.5, 1.0, 'THE NORMAL CDF WITH A GRAY LINE')"
      ]
     },
     "execution_count": 47,
     "metadata": {},
     "output_type": "execute_result"
    },
    {
     "data": {
      "image/png": "[encoded data removed]",
      "text/plain": [
       "<Figure size 432x288 with 1 Axes>"
      ]
     },
     "metadata": {
      "needs_background": "light"
     },
     "output_type": "display_data"
    }
   ],
   "source": [
    "#Plot thye normal cdf with a gray line\n",
    "plt.plot(_norm,color=\"gray\");\n",
    "plt.title(\"THE NORMAL CDF WITH A GRAY LINE\")"
   ]
  },
  {
   "cell_type": "code",
   "execution_count": 83,
   "id": "0b51b74f",
   "metadata": {},
   "outputs": [
    {
     "data": {
      "text/html": [
       "<div>\n",
       "<style scoped>\n",
       "    .dataframe tbody tr th:only-of-type {\n",
       "        vertical-align: middle;\n",
       "    }\n",
       "\n",
       "    .dataframe tbody tr th {\n",
       "        vertical-align: top;\n",
       "    }\n",
       "\n",
       "    .dataframe thead th {\n",
       "        text-align: right;\n",
       "    }\n",
       "</style>\n",
       "<table border=\"1\" class=\"dataframe\">\n",
       "  <thead>\n",
       "    <tr style=\"text-align: right;\">\n",
       "      <th></th>\n",
       "      <th>probs</th>\n",
       "    </tr>\n",
       "  </thead>\n",
       "  <tbody>\n",
       "    <tr>\n",
       "      <th>5.000000</th>\n",
       "      <td>0.02</td>\n",
       "    </tr>\n",
       "    <tr>\n",
       "      <th>5.510204</th>\n",
       "      <td>0.04</td>\n",
       "    </tr>\n",
       "    <tr>\n",
       "      <th>6.020408</th>\n",
       "      <td>0.06</td>\n",
       "    </tr>\n",
       "    <tr>\n",
       "      <th>6.530612</th>\n",
       "      <td>0.08</td>\n",
       "    </tr>\n",
       "    <tr>\n",
       "      <th>7.040816</th>\n",
       "      <td>0.10</td>\n",
       "    </tr>\n",
       "    <tr>\n",
       "      <th>7.551020</th>\n",
       "      <td>0.12</td>\n",
       "    </tr>\n",
       "    <tr>\n",
       "      <th>8.061224</th>\n",
       "      <td>0.14</td>\n",
       "    </tr>\n",
       "    <tr>\n",
       "      <th>8.571429</th>\n",
       "      <td>0.16</td>\n",
       "    </tr>\n",
       "    <tr>\n",
       "      <th>9.081633</th>\n",
       "      <td>0.18</td>\n",
       "    </tr>\n",
       "    <tr>\n",
       "      <th>9.591837</th>\n",
       "      <td>0.20</td>\n",
       "    </tr>\n",
       "    <tr>\n",
       "      <th>10.102041</th>\n",
       "      <td>0.22</td>\n",
       "    </tr>\n",
       "    <tr>\n",
       "      <th>10.612245</th>\n",
       "      <td>0.24</td>\n",
       "    </tr>\n",
       "    <tr>\n",
       "      <th>11.122449</th>\n",
       "      <td>0.26</td>\n",
       "    </tr>\n",
       "    <tr>\n",
       "      <th>11.632653</th>\n",
       "      <td>0.28</td>\n",
       "    </tr>\n",
       "    <tr>\n",
       "      <th>12.142857</th>\n",
       "      <td>0.30</td>\n",
       "    </tr>\n",
       "    <tr>\n",
       "      <th>12.653061</th>\n",
       "      <td>0.32</td>\n",
       "    </tr>\n",
       "    <tr>\n",
       "      <th>13.163265</th>\n",
       "      <td>0.34</td>\n",
       "    </tr>\n",
       "    <tr>\n",
       "      <th>13.673469</th>\n",
       "      <td>0.36</td>\n",
       "    </tr>\n",
       "    <tr>\n",
       "      <th>14.183673</th>\n",
       "      <td>0.38</td>\n",
       "    </tr>\n",
       "    <tr>\n",
       "      <th>14.693878</th>\n",
       "      <td>0.40</td>\n",
       "    </tr>\n",
       "    <tr>\n",
       "      <th>15.204082</th>\n",
       "      <td>0.42</td>\n",
       "    </tr>\n",
       "    <tr>\n",
       "      <th>15.714286</th>\n",
       "      <td>0.44</td>\n",
       "    </tr>\n",
       "    <tr>\n",
       "      <th>16.224490</th>\n",
       "      <td>0.46</td>\n",
       "    </tr>\n",
       "    <tr>\n",
       "      <th>16.734694</th>\n",
       "      <td>0.48</td>\n",
       "    </tr>\n",
       "    <tr>\n",
       "      <th>17.244898</th>\n",
       "      <td>0.50</td>\n",
       "    </tr>\n",
       "    <tr>\n",
       "      <th>17.755102</th>\n",
       "      <td>0.52</td>\n",
       "    </tr>\n",
       "    <tr>\n",
       "      <th>18.265306</th>\n",
       "      <td>0.54</td>\n",
       "    </tr>\n",
       "    <tr>\n",
       "      <th>18.775510</th>\n",
       "      <td>0.56</td>\n",
       "    </tr>\n",
       "    <tr>\n",
       "      <th>19.285714</th>\n",
       "      <td>0.58</td>\n",
       "    </tr>\n",
       "    <tr>\n",
       "      <th>19.795918</th>\n",
       "      <td>0.60</td>\n",
       "    </tr>\n",
       "    <tr>\n",
       "      <th>20.306122</th>\n",
       "      <td>0.62</td>\n",
       "    </tr>\n",
       "    <tr>\n",
       "      <th>20.816327</th>\n",
       "      <td>0.64</td>\n",
       "    </tr>\n",
       "    <tr>\n",
       "      <th>21.326531</th>\n",
       "      <td>0.66</td>\n",
       "    </tr>\n",
       "    <tr>\n",
       "      <th>21.836735</th>\n",
       "      <td>0.68</td>\n",
       "    </tr>\n",
       "    <tr>\n",
       "      <th>22.346939</th>\n",
       "      <td>0.70</td>\n",
       "    </tr>\n",
       "    <tr>\n",
       "      <th>22.857143</th>\n",
       "      <td>0.72</td>\n",
       "    </tr>\n",
       "    <tr>\n",
       "      <th>23.367347</th>\n",
       "      <td>0.74</td>\n",
       "    </tr>\n",
       "    <tr>\n",
       "      <th>23.877551</th>\n",
       "      <td>0.76</td>\n",
       "    </tr>\n",
       "    <tr>\n",
       "      <th>24.387755</th>\n",
       "      <td>0.78</td>\n",
       "    </tr>\n",
       "    <tr>\n",
       "      <th>24.897959</th>\n",
       "      <td>0.80</td>\n",
       "    </tr>\n",
       "    <tr>\n",
       "      <th>25.408163</th>\n",
       "      <td>0.82</td>\n",
       "    </tr>\n",
       "    <tr>\n",
       "      <th>25.918367</th>\n",
       "      <td>0.84</td>\n",
       "    </tr>\n",
       "    <tr>\n",
       "      <th>26.428571</th>\n",
       "      <td>0.86</td>\n",
       "    </tr>\n",
       "    <tr>\n",
       "      <th>26.938776</th>\n",
       "      <td>0.88</td>\n",
       "    </tr>\n",
       "    <tr>\n",
       "      <th>27.448980</th>\n",
       "      <td>0.90</td>\n",
       "    </tr>\n",
       "    <tr>\n",
       "      <th>27.959184</th>\n",
       "      <td>0.92</td>\n",
       "    </tr>\n",
       "    <tr>\n",
       "      <th>28.469388</th>\n",
       "      <td>0.94</td>\n",
       "    </tr>\n",
       "    <tr>\n",
       "      <th>28.979592</th>\n",
       "      <td>0.96</td>\n",
       "    </tr>\n",
       "    <tr>\n",
       "      <th>29.489796</th>\n",
       "      <td>0.98</td>\n",
       "    </tr>\n",
       "    <tr>\n",
       "      <th>30.000000</th>\n",
       "      <td>1.00</td>\n",
       "    </tr>\n",
       "  </tbody>\n",
       "</table>\n",
       "</div>"
      ],
      "text/plain": [
       "5.000000     0.02\n",
       "5.510204     0.04\n",
       "6.020408     0.06\n",
       "6.530612     0.08\n",
       "7.040816     0.10\n",
       "7.551020     0.12\n",
       "8.061224     0.14\n",
       "8.571429     0.16\n",
       "9.081633     0.18\n",
       "9.591837     0.20\n",
       "10.102041    0.22\n",
       "10.612245    0.24\n",
       "11.122449    0.26\n",
       "11.632653    0.28\n",
       "12.142857    0.30\n",
       "12.653061    0.32\n",
       "13.163265    0.34\n",
       "13.673469    0.36\n",
       "14.183673    0.38\n",
       "14.693878    0.40\n",
       "15.204082    0.42\n",
       "15.714286    0.44\n",
       "16.224490    0.46\n",
       "16.734694    0.48\n",
       "17.244898    0.50\n",
       "17.755102    0.52\n",
       "18.265306    0.54\n",
       "18.775510    0.56\n",
       "19.285714    0.58\n",
       "19.795918    0.60\n",
       "20.306122    0.62\n",
       "20.816327    0.64\n",
       "21.326531    0.66\n",
       "21.836735    0.68\n",
       "22.346939    0.70\n",
       "22.857143    0.72\n",
       "23.367347    0.74\n",
       "23.877551    0.76\n",
       "24.387755    0.78\n",
       "24.897959    0.80\n",
       "25.408163    0.82\n",
       "25.918367    0.84\n",
       "26.428571    0.86\n",
       "26.938776    0.88\n",
       "27.448980    0.90\n",
       "27.959184    0.92\n",
       "28.469388    0.94\n",
       "28.979592    0.96\n",
       "29.489796    0.98\n",
       "30.000000    1.00\n",
       "Name: , dtype: float64"
      ]
     },
     "execution_count": 83,
     "metadata": {},
     "output_type": "execute_result"
    }
   ],
   "source": [
    "#CDF\n",
    "cdf_total_amount = Cdf.from_seq(total_amount)\n",
    "cdf_total_amount"
   ]
  },
  {
   "cell_type": "code",
   "execution_count": 82,
   "id": "7b018133",
   "metadata": {},
   "outputs": [],
   "source": [
    "from empiricaldist import Cdf"
   ]
  },
  {
   "cell_type": "code",
   "execution_count": 85,
   "id": "9cb93de1",
   "metadata": {},
   "outputs": [
    {
     "data": {
      "image/png": "[encoded data removed]",
      "text/plain": [
       "<Figure size 432x288 with 1 Axes>"
      ]
     },
     "metadata": {
      "needs_background": "light"
     },
     "output_type": "display_data"
    }
   ],
   "source": [
    "cdf_total_amount.plot();"
   ]
  },
  {
   "cell_type": "markdown",
   "id": "98164e2b",
   "metadata": {},
   "source": [
    "# NUMBER ONE"
   ]
  },
  {
   "cell_type": "code",
   "execution_count": 49,
   "id": "7d44546c",
   "metadata": {},
   "outputs": [
    {
     "data": {
      "text/html": [
       "<div>\n",
       "<style scoped>\n",
       "    .dataframe tbody tr th:only-of-type {\n",
       "        vertical-align: middle;\n",
       "    }\n",
       "\n",
       "    .dataframe tbody tr th {\n",
       "        vertical-align: top;\n",
       "    }\n",
       "\n",
       "    .dataframe thead th {\n",
       "        text-align: right;\n",
       "    }\n",
       "</style>\n",
       "<table border=\"1\" class=\"dataframe\">\n",
       "  <thead>\n",
       "    <tr style=\"text-align: right;\">\n",
       "      <th></th>\n",
       "      <th>Country Code</th>\n",
       "      <th>TableName</th>\n",
       "      <th>IncomeGroup</th>\n",
       "      <th>PopDensity_2018</th>\n",
       "      <th>Confirmed Cases</th>\n",
       "      <th>Deaths</th>\n",
       "      <th>Mortality Rate</th>\n",
       "      <th>Population_2019</th>\n",
       "      <th>GDP_2019</th>\n",
       "      <th>GDP_per_cap_2019</th>\n",
       "      <th>Main Leader Gender</th>\n",
       "      <th>Any Leader Gender</th>\n",
       "      <th>Avg Temp</th>\n",
       "      <th>Normalized Cases</th>\n",
       "      <th>Normalized Deaths</th>\n",
       "    </tr>\n",
       "  </thead>\n",
       "  <tbody>\n",
       "    <tr>\n",
       "      <th>0</th>\n",
       "      <td>AFG</td>\n",
       "      <td>Afghanistan</td>\n",
       "      <td>Low income</td>\n",
       "      <td>56.937760</td>\n",
       "      <td>39192</td>\n",
       "      <td>1453</td>\n",
       "      <td>3.707389</td>\n",
       "      <td>38041754</td>\n",
       "      <td>1.910135e+10</td>\n",
       "      <td>2293.551684</td>\n",
       "      <td>M</td>\n",
       "      <td>M</td>\n",
       "      <td>12.60</td>\n",
       "      <td>0.001030</td>\n",
       "      <td>3.820000e-05</td>\n",
       "    </tr>\n",
       "    <tr>\n",
       "      <th>1</th>\n",
       "      <td>AGO</td>\n",
       "      <td>Angola</td>\n",
       "      <td>Lower middle income</td>\n",
       "      <td>24.713052</td>\n",
       "      <td>4672</td>\n",
       "      <td>171</td>\n",
       "      <td>3.660103</td>\n",
       "      <td>31825295</td>\n",
       "      <td>9.463542e+10</td>\n",
       "      <td>6929.678158</td>\n",
       "      <td>M</td>\n",
       "      <td>M</td>\n",
       "      <td>21.55</td>\n",
       "      <td>0.000147</td>\n",
       "      <td>5.370000e-06</td>\n",
       "    </tr>\n",
       "    <tr>\n",
       "      <th>2</th>\n",
       "      <td>ALB</td>\n",
       "      <td>Albania</td>\n",
       "      <td>Upper middle income</td>\n",
       "      <td>104.612263</td>\n",
       "      <td>13153</td>\n",
       "      <td>375</td>\n",
       "      <td>2.851061</td>\n",
       "      <td>2854191</td>\n",
       "      <td>1.527808e+10</td>\n",
       "      <td>14495.078510</td>\n",
       "      <td>M</td>\n",
       "      <td>M</td>\n",
       "      <td>11.40</td>\n",
       "      <td>0.004608</td>\n",
       "      <td>1.313860e-04</td>\n",
       "    </tr>\n",
       "    <tr>\n",
       "      <th>3</th>\n",
       "      <td>AND</td>\n",
       "      <td>Andorra</td>\n",
       "      <td>High income</td>\n",
       "      <td>163.842553</td>\n",
       "      <td>1836</td>\n",
       "      <td>53</td>\n",
       "      <td>2.886710</td>\n",
       "      <td>77142</td>\n",
       "      <td>3.154058e+09</td>\n",
       "      <td>NaN</td>\n",
       "      <td>M</td>\n",
       "      <td>M</td>\n",
       "      <td>7.60</td>\n",
       "      <td>0.023800</td>\n",
       "      <td>6.870450e-04</td>\n",
       "    </tr>\n",
       "    <tr>\n",
       "      <th>4</th>\n",
       "      <td>ARE</td>\n",
       "      <td>United Arab Emirates</td>\n",
       "      <td>High income</td>\n",
       "      <td>135.609110</td>\n",
       "      <td>90618</td>\n",
       "      <td>411</td>\n",
       "      <td>0.453552</td>\n",
       "      <td>9770529</td>\n",
       "      <td>4.211420e+11</td>\n",
       "      <td>69900.877850</td>\n",
       "      <td>M</td>\n",
       "      <td>M</td>\n",
       "      <td>27.00</td>\n",
       "      <td>0.009275</td>\n",
       "      <td>4.210000e-05</td>\n",
       "    </tr>\n",
       "    <tr>\n",
       "      <th>...</th>\n",
       "      <td>...</td>\n",
       "      <td>...</td>\n",
       "      <td>...</td>\n",
       "      <td>...</td>\n",
       "      <td>...</td>\n",
       "      <td>...</td>\n",
       "      <td>...</td>\n",
       "      <td>...</td>\n",
       "      <td>...</td>\n",
       "      <td>...</td>\n",
       "      <td>...</td>\n",
       "      <td>...</td>\n",
       "      <td>...</td>\n",
       "      <td>...</td>\n",
       "      <td>...</td>\n",
       "    </tr>\n",
       "    <tr>\n",
       "      <th>177</th>\n",
       "      <td>VNM</td>\n",
       "      <td>Vietnam</td>\n",
       "      <td>Lower middle income</td>\n",
       "      <td>308.125246</td>\n",
       "      <td>1069</td>\n",
       "      <td>35</td>\n",
       "      <td>3.274088</td>\n",
       "      <td>96462106</td>\n",
       "      <td>2.619210e+11</td>\n",
       "      <td>8374.444328</td>\n",
       "      <td>M</td>\n",
       "      <td>M</td>\n",
       "      <td>24.45</td>\n",
       "      <td>0.000011</td>\n",
       "      <td>3.630000e-07</td>\n",
       "    </tr>\n",
       "    <tr>\n",
       "      <th>178</th>\n",
       "      <td>YEM</td>\n",
       "      <td>Yemen, Rep.</td>\n",
       "      <td>Low income</td>\n",
       "      <td>53.977853</td>\n",
       "      <td>2030</td>\n",
       "      <td>587</td>\n",
       "      <td>28.916256</td>\n",
       "      <td>29161922</td>\n",
       "      <td>NaN</td>\n",
       "      <td>NaN</td>\n",
       "      <td>M</td>\n",
       "      <td>M</td>\n",
       "      <td>23.85</td>\n",
       "      <td>0.000070</td>\n",
       "      <td>2.010000e-05</td>\n",
       "    </tr>\n",
       "    <tr>\n",
       "      <th>179</th>\n",
       "      <td>ZAF</td>\n",
       "      <td>South Africa</td>\n",
       "      <td>Upper middle income</td>\n",
       "      <td>47.630120</td>\n",
       "      <td>669498</td>\n",
       "      <td>16376</td>\n",
       "      <td>2.446012</td>\n",
       "      <td>58558270</td>\n",
       "      <td>3.514320e+11</td>\n",
       "      <td>12999.120260</td>\n",
       "      <td>M</td>\n",
       "      <td>M</td>\n",
       "      <td>17.75</td>\n",
       "      <td>0.011433</td>\n",
       "      <td>2.796530e-04</td>\n",
       "    </tr>\n",
       "    <tr>\n",
       "      <th>180</th>\n",
       "      <td>ZMB</td>\n",
       "      <td>Zambia</td>\n",
       "      <td>Lower middle income</td>\n",
       "      <td>23.341479</td>\n",
       "      <td>14612</td>\n",
       "      <td>332</td>\n",
       "      <td>2.272105</td>\n",
       "      <td>17861030</td>\n",
       "      <td>2.306472e+10</td>\n",
       "      <td>3623.699395</td>\n",
       "      <td>M</td>\n",
       "      <td>M</td>\n",
       "      <td>21.40</td>\n",
       "      <td>0.000818</td>\n",
       "      <td>1.860000e-05</td>\n",
       "    </tr>\n",
       "    <tr>\n",
       "      <th>181</th>\n",
       "      <td>ZWE</td>\n",
       "      <td>Zimbabwe</td>\n",
       "      <td>Lower middle income</td>\n",
       "      <td>37.324591</td>\n",
       "      <td>7803</td>\n",
       "      <td>227</td>\n",
       "      <td>2.909138</td>\n",
       "      <td>14645468</td>\n",
       "      <td>2.144076e+10</td>\n",
       "      <td>2953.484113</td>\n",
       "      <td>M</td>\n",
       "      <td>M</td>\n",
       "      <td>21.00</td>\n",
       "      <td>0.000533</td>\n",
       "      <td>1.550000e-05</td>\n",
       "    </tr>\n",
       "  </tbody>\n",
       "</table>\n",
       "<p>182 rows × 15 columns</p>\n",
       "</div>"
      ],
      "text/plain": [
       "    Country Code             TableName          IncomeGroup  PopDensity_2018  \\\n",
       "0            AFG           Afghanistan           Low income        56.937760   \n",
       "1            AGO                Angola  Lower middle income        24.713052   \n",
       "2            ALB               Albania  Upper middle income       104.612263   \n",
       "3            AND               Andorra          High income       163.842553   \n",
       "4            ARE  United Arab Emirates          High income       135.609110   \n",
       "..           ...                   ...                  ...              ...   \n",
       "177          VNM               Vietnam  Lower middle income       308.125246   \n",
       "178          YEM           Yemen, Rep.           Low income        53.977853   \n",
       "179          ZAF          South Africa  Upper middle income        47.630120   \n",
       "180          ZMB                Zambia  Lower middle income        23.341479   \n",
       "181          ZWE              Zimbabwe  Lower middle income        37.324591   \n",
       "\n",
       "     Confirmed Cases  Deaths  Mortality Rate  Population_2019      GDP_2019  \\\n",
       "0              39192    1453        3.707389         38041754  1.910135e+10   \n",
       "1               4672     171        3.660103         31825295  9.463542e+10   \n",
       "2              13153     375        2.851061          2854191  1.527808e+10   \n",
       "3               1836      53        2.886710            77142  3.154058e+09   \n",
       "4              90618     411        0.453552          9770529  4.211420e+11   \n",
       "..               ...     ...             ...              ...           ...   \n",
       "177             1069      35        3.274088         96462106  2.619210e+11   \n",
       "178             2030     587       28.916256         29161922           NaN   \n",
       "179           669498   16376        2.446012         58558270  3.514320e+11   \n",
       "180            14612     332        2.272105         17861030  2.306472e+10   \n",
       "181             7803     227        2.909138         14645468  2.144076e+10   \n",
       "\n",
       "     GDP_per_cap_2019 Main Leader Gender Any Leader Gender  Avg Temp  \\\n",
       "0         2293.551684                  M                 M     12.60   \n",
       "1         6929.678158                  M                 M     21.55   \n",
       "2        14495.078510                  M                 M     11.40   \n",
       "3                 NaN                  M                 M      7.60   \n",
       "4        69900.877850                  M                 M     27.00   \n",
       "..                ...                ...               ...       ...   \n",
       "177       8374.444328                  M                 M     24.45   \n",
       "178               NaN                  M                 M     23.85   \n",
       "179      12999.120260                  M                 M     17.75   \n",
       "180       3623.699395                  M                 M     21.40   \n",
       "181       2953.484113                  M                 M     21.00   \n",
       "\n",
       "     Normalized Cases  Normalized Deaths  \n",
       "0            0.001030       3.820000e-05  \n",
       "1            0.000147       5.370000e-06  \n",
       "2            0.004608       1.313860e-04  \n",
       "3            0.023800       6.870450e-04  \n",
       "4            0.009275       4.210000e-05  \n",
       "..                ...                ...  \n",
       "177          0.000011       3.630000e-07  \n",
       "178          0.000070       2.010000e-05  \n",
       "179          0.011433       2.796530e-04  \n",
       "180          0.000818       1.860000e-05  \n",
       "181          0.000533       1.550000e-05  \n",
       "\n",
       "[182 rows x 15 columns]"
      ]
     },
     "execution_count": 49,
     "metadata": {},
     "output_type": "execute_result"
    }
   ],
   "source": [
    "exam = pd.read_csv(\"data/exam1.csv\")\n",
    "exam"
   ]
  },
  {
   "cell_type": "code",
   "execution_count": 52,
   "id": "db16a3e0",
   "metadata": {},
   "outputs": [
    {
     "data": {
      "text/plain": [
       "Index(['Country Code', 'TableName', 'IncomeGroup', 'PopDensity_2018',\n",
       "       'Confirmed Cases', 'Deaths', 'Mortality Rate', 'Population_2019',\n",
       "       'GDP_2019', 'GDP_per_cap_2019', 'Main Leader Gender',\n",
       "       'Any Leader Gender', 'Avg Temp', 'Normalized Cases',\n",
       "       'Normalized Deaths'],\n",
       "      dtype='object')"
      ]
     },
     "execution_count": 52,
     "metadata": {},
     "output_type": "execute_result"
    }
   ],
   "source": [
    "exam.columns"
   ]
  },
  {
   "cell_type": "code",
   "execution_count": 54,
   "id": "fc504aea",
   "metadata": {},
   "outputs": [
    {
     "data": {
      "text/plain": [
       "0       39192\n",
       "1        4672\n",
       "2       13153\n",
       "3        1836\n",
       "4       90618\n",
       "        ...  \n",
       "177      1069\n",
       "178      2030\n",
       "179    669498\n",
       "180     14612\n",
       "181      7803\n",
       "Name: Confirmed Cases, Length: 182, dtype: int64"
      ]
     },
     "execution_count": 54,
     "metadata": {},
     "output_type": "execute_result"
    }
   ],
   "source": [
    "# visualisation of any two variables of my choice\n",
    "confirmed_cases = exam.loc[:,\"Confirmed Cases\"]\n",
    "confirmed_cases"
   ]
  },
  {
   "cell_type": "code",
   "execution_count": 56,
   "id": "e2caf62a",
   "metadata": {},
   "outputs": [
    {
     "data": {
      "text/plain": [
       "0       1453\n",
       "1        171\n",
       "2        375\n",
       "3         53\n",
       "4        411\n",
       "       ...  \n",
       "177       35\n",
       "178      587\n",
       "179    16376\n",
       "180      332\n",
       "181      227\n",
       "Name: Deaths, Length: 182, dtype: int64"
      ]
     },
     "execution_count": 56,
     "metadata": {},
     "output_type": "execute_result"
    }
   ],
   "source": [
    "deaths = exam.loc[:,\"Deaths\"]\n",
    "deaths"
   ]
  },
  {
   "cell_type": "code",
   "execution_count": 60,
   "id": "5bba1447",
   "metadata": {},
   "outputs": [
    {
     "data": {
      "image/png": "[encoded data removed]",
      "text/plain": [
       "<Figure size 432x288 with 1 Axes>"
      ]
     },
     "metadata": {
      "needs_background": "light"
     },
     "output_type": "display_data"
    }
   ],
   "source": [
    "plt.plot(confirmed_cases, deaths, 'o');\n",
    "\n",
    "plt.xlabel('Confirmed_cases')\n",
    "plt.ylabel('Deaths')\n",
    "plt.title('Scatter plot of Confirmed_cases versus Deaths ');"
   ]
  },
  {
   "cell_type": "markdown",
   "id": "8c49b0da",
   "metadata": {},
   "source": [
    "# relationship\n",
    "The higher the confirmed cases the higher the death rate and the lower the confirmed cases the lower the death rate\n",
    "where there  are no cases at all, there is no death registered\n",
    "countries with high cases have the highest death rate forexample where the confirmed cases at 7, the death rate is at its peak(200,000)"
   ]
  },
  {
   "cell_type": "code",
   "execution_count": 61,
   "id": "574665f3",
   "metadata": {},
   "outputs": [
    {
     "data": {
      "text/html": [
       "<div>\n",
       "<style scoped>\n",
       "    .dataframe tbody tr th:only-of-type {\n",
       "        vertical-align: middle;\n",
       "    }\n",
       "\n",
       "    .dataframe tbody tr th {\n",
       "        vertical-align: top;\n",
       "    }\n",
       "\n",
       "    .dataframe thead th {\n",
       "        text-align: right;\n",
       "    }\n",
       "</style>\n",
       "<table border=\"1\" class=\"dataframe\">\n",
       "  <thead>\n",
       "    <tr style=\"text-align: right;\">\n",
       "      <th></th>\n",
       "      <th>PopDensity_2018</th>\n",
       "      <th>Confirmed Cases</th>\n",
       "      <th>Deaths</th>\n",
       "      <th>Mortality Rate</th>\n",
       "      <th>Population_2019</th>\n",
       "      <th>GDP_2019</th>\n",
       "      <th>GDP_per_cap_2019</th>\n",
       "      <th>Avg Temp</th>\n",
       "      <th>Normalized Cases</th>\n",
       "      <th>Normalized Deaths</th>\n",
       "    </tr>\n",
       "  </thead>\n",
       "  <tbody>\n",
       "    <tr>\n",
       "      <th>count</th>\n",
       "      <td>178.000000</td>\n",
       "      <td>1.820000e+02</td>\n",
       "      <td>182.000000</td>\n",
       "      <td>182.000000</td>\n",
       "      <td>1.820000e+02</td>\n",
       "      <td>1.690000e+02</td>\n",
       "      <td>168.000000</td>\n",
       "      <td>179.000000</td>\n",
       "      <td>182.000000</td>\n",
       "      <td>182.000000</td>\n",
       "    </tr>\n",
       "    <tr>\n",
       "      <th>mean</th>\n",
       "      <td>209.578681</td>\n",
       "      <td>1.798681e+05</td>\n",
       "      <td>5453.186813</td>\n",
       "      <td>2.552053</td>\n",
       "      <td>4.176762e+07</td>\n",
       "      <td>5.037484e+11</td>\n",
       "      <td>22175.663497</td>\n",
       "      <td>18.511117</td>\n",
       "      <td>0.005142</td>\n",
       "      <td>0.000126</td>\n",
       "    </tr>\n",
       "    <tr>\n",
       "      <th>std</th>\n",
       "      <td>642.276577</td>\n",
       "      <td>7.728216e+05</td>\n",
       "      <td>21079.533796</td>\n",
       "      <td>2.807438</td>\n",
       "      <td>1.494774e+08</td>\n",
       "      <td>2.060972e+12</td>\n",
       "      <td>22028.464791</td>\n",
       "      <td>8.179984</td>\n",
       "      <td>0.007289</td>\n",
       "      <td>0.000208</td>\n",
       "    </tr>\n",
       "    <tr>\n",
       "      <th>min</th>\n",
       "      <td>2.040609</td>\n",
       "      <td>1.900000e+01</td>\n",
       "      <td>0.000000</td>\n",
       "      <td>0.000000</td>\n",
       "      <td>3.386000e+04</td>\n",
       "      <td>4.290166e+08</td>\n",
       "      <td>782.816589</td>\n",
       "      <td>-5.100000</td>\n",
       "      <td>0.000003</td>\n",
       "      <td>0.000000</td>\n",
       "    </tr>\n",
       "    <tr>\n",
       "      <th>25%</th>\n",
       "      <td>37.143092</td>\n",
       "      <td>2.930250e+03</td>\n",
       "      <td>50.000000</td>\n",
       "      <td>1.063698</td>\n",
       "      <td>2.689939e+06</td>\n",
       "      <td>1.282700e+10</td>\n",
       "      <td>5398.131919</td>\n",
       "      <td>10.625000</td>\n",
       "      <td>0.000540</td>\n",
       "      <td>0.000008</td>\n",
       "    </tr>\n",
       "    <tr>\n",
       "      <th>50%</th>\n",
       "      <td>83.949492</td>\n",
       "      <td>1.337950e+04</td>\n",
       "      <td>228.000000</td>\n",
       "      <td>2.004451</td>\n",
       "      <td>9.758033e+06</td>\n",
       "      <td>4.731962e+10</td>\n",
       "      <td>14747.947505</td>\n",
       "      <td>21.850000</td>\n",
       "      <td>0.002313</td>\n",
       "      <td>0.000038</td>\n",
       "    </tr>\n",
       "    <tr>\n",
       "      <th>75%</th>\n",
       "      <td>204.487818</td>\n",
       "      <td>7.642675e+04</td>\n",
       "      <td>1450.000000</td>\n",
       "      <td>3.071983</td>\n",
       "      <td>3.040490e+07</td>\n",
       "      <td>2.619210e+11</td>\n",
       "      <td>32413.601215</td>\n",
       "      <td>25.325000</td>\n",
       "      <td>0.006527</td>\n",
       "      <td>0.000135</td>\n",
       "    </tr>\n",
       "    <tr>\n",
       "      <th>max</th>\n",
       "      <td>7952.998418</td>\n",
       "      <td>7.078039e+06</td>\n",
       "      <td>204486.000000</td>\n",
       "      <td>28.916256</td>\n",
       "      <td>1.397715e+09</td>\n",
       "      <td>2.137440e+13</td>\n",
       "      <td>121292.739300</td>\n",
       "      <td>28.290000</td>\n",
       "      <td>0.044084</td>\n",
       "      <td>0.001240</td>\n",
       "    </tr>\n",
       "  </tbody>\n",
       "</table>\n",
       "</div>"
      ],
      "text/plain": [
       "       PopDensity_2018  Confirmed Cases         Deaths  Mortality Rate  \\\n",
       "count       178.000000     1.820000e+02     182.000000      182.000000   \n",
       "mean        209.578681     1.798681e+05    5453.186813        2.552053   \n",
       "std         642.276577     7.728216e+05   21079.533796        2.807438   \n",
       "min           2.040609     1.900000e+01       0.000000        0.000000   \n",
       "25%          37.143092     2.930250e+03      50.000000        1.063698   \n",
       "50%          83.949492     1.337950e+04     228.000000        2.004451   \n",
       "75%         204.487818     7.642675e+04    1450.000000        3.071983   \n",
       "max        7952.998418     7.078039e+06  204486.000000       28.916256   \n",
       "\n",
       "       Population_2019      GDP_2019  GDP_per_cap_2019    Avg Temp  \\\n",
       "count     1.820000e+02  1.690000e+02        168.000000  179.000000   \n",
       "mean      4.176762e+07  5.037484e+11      22175.663497   18.511117   \n",
       "std       1.494774e+08  2.060972e+12      22028.464791    8.179984   \n",
       "min       3.386000e+04  4.290166e+08        782.816589   -5.100000   \n",
       "25%       2.689939e+06  1.282700e+10       5398.131919   10.625000   \n",
       "50%       9.758033e+06  4.731962e+10      14747.947505   21.850000   \n",
       "75%       3.040490e+07  2.619210e+11      32413.601215   25.325000   \n",
       "max       1.397715e+09  2.137440e+13     121292.739300   28.290000   \n",
       "\n",
       "       Normalized Cases  Normalized Deaths  \n",
       "count        182.000000         182.000000  \n",
       "mean           0.005142           0.000126  \n",
       "std            0.007289           0.000208  \n",
       "min            0.000003           0.000000  \n",
       "25%            0.000540           0.000008  \n",
       "50%            0.002313           0.000038  \n",
       "75%            0.006527           0.000135  \n",
       "max            0.044084           0.001240  "
      ]
     },
     "execution_count": 61,
     "metadata": {},
     "output_type": "execute_result"
    }
   ],
   "source": [
    "#descriptive statistics\n",
    "exam.describe()"
   ]
  },
  {
   "cell_type": "code",
   "execution_count": 62,
   "id": "bbd08904",
   "metadata": {},
   "outputs": [
    {
     "data": {
      "text/plain": [
       "0       39192\n",
       "1        4672\n",
       "2       13153\n",
       "3        1836\n",
       "4       90618\n",
       "        ...  \n",
       "177      1069\n",
       "178      2030\n",
       "179    669498\n",
       "180     14612\n",
       "181      7803\n",
       "Name: Confirmed Cases, Length: 182, dtype: int64"
      ]
     },
     "execution_count": 62,
     "metadata": {},
     "output_type": "execute_result"
    }
   ],
   "source": [
    "#REgression analysis\n",
    "dependent = exam.loc[:,\"Confirmed Cases\"]\n",
    "dependent"
   ]
  },
  {
   "cell_type": "code",
   "execution_count": 63,
   "id": "8fcae348",
   "metadata": {},
   "outputs": [
    {
     "data": {
      "text/plain": [
       "0               Low income\n",
       "1      Lower middle income\n",
       "2      Upper middle income\n",
       "3              High income\n",
       "4              High income\n",
       "              ...         \n",
       "177    Lower middle income\n",
       "178             Low income\n",
       "179    Upper middle income\n",
       "180    Lower middle income\n",
       "181    Lower middle income\n",
       "Name: IncomeGroup, Length: 182, dtype: object"
      ]
     },
     "execution_count": 63,
     "metadata": {},
     "output_type": "execute_result"
    }
   ],
   "source": [
    "independent = exam.loc[:,\"IncomeGroup\"]\n",
    "independent"
   ]
  },
  {
   "cell_type": "code",
   "execution_count": 64,
   "id": "783db821",
   "metadata": {},
   "outputs": [
    {
     "data": {
      "text/plain": [
       "0       2293.551684\n",
       "1       6929.678158\n",
       "2      14495.078510\n",
       "3               NaN\n",
       "4      69900.877850\n",
       "           ...     \n",
       "177     8374.444328\n",
       "178             NaN\n",
       "179    12999.120260\n",
       "180     3623.699395\n",
       "181     2953.484113\n",
       "Name: GDP_per_cap_2019, Length: 182, dtype: float64"
      ]
     },
     "execution_count": 64,
     "metadata": {},
     "output_type": "execute_result"
    }
   ],
   "source": [
    "independent_2 = exam.loc[:,\"GDP_per_cap_2019\"]\n",
    "independent_2"
   ]
  },
  {
   "cell_type": "code",
   "execution_count": 65,
   "id": "078522fc",
   "metadata": {},
   "outputs": [
    {
     "data": {
      "text/plain": [
       "0      1.910135e+10\n",
       "1      9.463542e+10\n",
       "2      1.527808e+10\n",
       "3      3.154058e+09\n",
       "4      4.211420e+11\n",
       "           ...     \n",
       "177    2.619210e+11\n",
       "178             NaN\n",
       "179    3.514320e+11\n",
       "180    2.306472e+10\n",
       "181    2.144076e+10\n",
       "Name: GDP_2019, Length: 182, dtype: float64"
      ]
     },
     "execution_count": 65,
     "metadata": {},
     "output_type": "execute_result"
    }
   ],
   "source": [
    "independent_3 = exam.loc[:,\"GDP_2019\"]\n",
    "independent_3 "
   ]
  },
  {
   "cell_type": "code",
   "execution_count": 67,
   "id": "adfa6287",
   "metadata": {},
   "outputs": [
    {
     "data": {
      "text/plain": [
       "Intercept                             208046.711864\n",
       "independent[T.Low income]            -199351.390436\n",
       "independent[T.Lower middle income]    -31217.798821\n",
       "independent[T.Upper middle income]     38558.247319\n",
       "dtype: float64"
      ]
     },
     "execution_count": 67,
     "metadata": {},
     "output_type": "execute_result"
    }
   ],
   "source": [
    "# simple Linear Regression\n",
    "results = smf.ols(\"dependent ~ independent\", data=exam).fit()\n",
    "results.params"
   ]
  },
  {
   "cell_type": "markdown",
   "id": "4e06f46c",
   "metadata": {},
   "source": [
    "According to the above the percentasge increase in income groups led to the increase in covid cases confirmed\n",
    "therefore people/countries with more incomes are more likely to register higher covid cases"
   ]
  },
  {
   "cell_type": "code",
   "execution_count": 71,
   "id": "4d63a6b7",
   "metadata": {},
   "outputs": [
    {
     "data": {
      "image/png": "[encoded data removed]",
      "text/plain": [
       "<Figure size 432x288 with 1 Axes>"
      ]
     },
     "metadata": {
      "needs_background": "light"
     },
     "output_type": "display_data"
    }
   ],
   "source": [
    "#Visualising the reghression between independent and the dependent\n",
    "plt.plot(independent, dependent, 'o');\n",
    "plt.xlabel('Income_group')\n",
    "plt.ylabel('Confirmed_cases')\n",
    "plt.title('Scatter Plot of Income Group versus Confirmed Cases ');\n"
   ]
  },
  {
   "cell_type": "markdown",
   "id": "0f432dd8",
   "metadata": {},
   "source": [
    "# explanation\n",
    "countries with high incomes experienced more cases propabably because there were alot economic activities taking place that lked to masses being one place hence the increase in number\n",
    "\n",
    "Countries with  upper_middle incomes experienced slightly higher cases but less than the the ones with high income\n",
    " countries with Lower middle incomes experienced more cases band at some point higher than the upper middle incomes because of the habit of sharing and going to cheap happening places that oleave no room for social distance\n",
    " \n",
    " probably the countries with low income experienced less cases because their main activity is  agriculture where they are limited in number and have very few social gatherings and actually these people eat healthier food than the rich ones\n",
    "\n"
   ]
  },
  {
   "cell_type": "code",
   "execution_count": 72,
   "id": "fdc30d22",
   "metadata": {},
   "outputs": [
    {
     "data": {
      "text/plain": [
       "Intercept        121824.230255\n",
       "independent_2         3.139160\n",
       "dtype: float64"
      ]
     },
     "execution_count": 72,
     "metadata": {},
     "output_type": "execute_result"
    }
   ],
   "source": [
    "results = smf.ols(\"dependent ~ independent_2\", data=exam).fit()\n",
    "results.params"
   ]
  },
  {
   "cell_type": "markdown",
   "id": "4497c02f",
   "metadata": {},
   "source": [
    "a percentage change in the confirmed cases  is due to 3.139160 gdp_per_cap_2019\n",
    "y = 121824confirmedcases. + 3.139160gdp_per_cap_+2019"
   ]
  },
  {
   "cell_type": "code",
   "execution_count": 73,
   "id": "ae3938c6",
   "metadata": {},
   "outputs": [
    {
     "data": {
      "image/png": "[encoded data removed]",
      "text/plain": [
       "<Figure size 432x288 with 1 Axes>"
      ]
     },
     "metadata": {
      "needs_background": "light"
     },
     "output_type": "display_data"
    }
   ],
   "source": [
    "#VISUALISATION OF THE ABOVE\n",
    "x =np.log(independent_2)\n",
    "y = np.log(dependent)\n",
    "plt.plot(x, y, 'o');\n",
    "plt.xlabel('GDP_per_cap_2019')\n",
    "plt.ylabel('Confirmed_cases')\n",
    "plt.title('Scatter Plot of GDP_per_cap_2019 versus Confirmed Cases ');\n"
   ]
  },
  {
   "cell_type": "markdown",
   "id": "205c9483",
   "metadata": {},
   "source": [
    "The higher the GDP-Per_cap_2019 the higher the confirmed cases\n",
    "therefore countries with high Gdp_per_cap2019 experienced more covid cases because some of these countries have a high population and attract more immigrants than the ones with a low one"
   ]
  },
  {
   "cell_type": "code",
   "execution_count": 76,
   "id": "87c24660",
   "metadata": {},
   "outputs": [
    {
     "data": {
      "text/plain": [
       "Intercept        6.731145e+04\n",
       "independent_3    2.441771e-07\n",
       "dtype: float64"
      ]
     },
     "execution_count": 76,
     "metadata": {},
     "output_type": "execute_result"
    }
   ],
   "source": [
    "results = smf.ols(\"dependent ~ independent_3\", data=exam).fit()\n",
    "results.params"
   ]
  },
  {
   "cell_type": "markdown",
   "id": "51395eb6",
   "metadata": {},
   "source": [
    "There is a positive change between the gdp_2019 and tyhe confirmed cases\n",
    "a posityive change in percentage in the cases in due to 2.441771 GDP_2019"
   ]
  },
  {
   "cell_type": "code",
   "execution_count": 74,
   "id": "d130951f",
   "metadata": {},
   "outputs": [
    {
     "data": {
      "image/png": "[encoded data removed]",
      "text/plain": [
       "<Figure size 432x288 with 1 Axes>"
      ]
     },
     "metadata": {
      "needs_background": "light"
     },
     "output_type": "display_data"
    }
   ],
   "source": [
    "x =np.log(independent_3)\n",
    "y = np.log(dependent)\n",
    "plt.plot(x, y, 'o');\n",
    "plt.xlabel('GDP_2019')\n",
    "plt.ylabel('Confirmed_cases')\n",
    "plt.title('Scatter Plot of GDP_2019 versus Confirmed Cases ');\n"
   ]
  },
  {
   "cell_type": "markdown",
   "id": "db6592de",
   "metadata": {},
   "source": [
    "This  still shows that countries with high gdp experienced high covid case than countries with low gdp"
   ]
  },
  {
   "cell_type": "code",
   "execution_count": 80,
   "id": "5081b2fa",
   "metadata": {},
   "outputs": [
    {
     "data": {
      "text/plain": [
       "Intercept        1.065836e+05\n",
       "independent_2   -1.848476e+00\n",
       "independent_3    2.483477e-07\n",
       "dtype: float64"
      ]
     },
     "execution_count": 80,
     "metadata": {},
     "output_type": "execute_result"
    }
   ],
   "source": [
    "#Multiplelinear regression\n",
    "results = smf.ols(\"dependent ~ independent_2 +independent_3 \", data=exam).fit()\n",
    "results.params"
   ]
  },
  {
   "cell_type": "markdown",
   "id": "b2ded514",
   "metadata": {},
   "source": [
    "leaving otherfactors constant countries with high socio economic actvities or socioeconomy experienced higfher covid cases than the ones with the low ones\n",
    "The slope has nowreduced because one the variables added(independent_3) is nonlinear,therefore the thereis a non_linear relationship"
   ]
  },
  {
   "cell_type": "code",
   "execution_count": null,
   "id": "fcdec3fc",
   "metadata": {},
   "outputs": [],
   "source": []
  }
 ],
 "metadata": {
  "kernelspec": {
   "display_name": "Python 3 (ipykernel)",
   "language": "python",
   "name": "python3"
  },
  "language_info": {
   "codemirror_mode": {
    "name": "ipython",
    "version": 3
   },
   "file_extension": ".py",
   "mimetype": "text/x-python",
   "name": "python",
   "nbconvert_exporter": "python",
   "pygments_lexer": "ipython3",
   "version": "3.10.5"
  }
 },
 "nbformat": 4,
 "nbformat_minor": 5
}
