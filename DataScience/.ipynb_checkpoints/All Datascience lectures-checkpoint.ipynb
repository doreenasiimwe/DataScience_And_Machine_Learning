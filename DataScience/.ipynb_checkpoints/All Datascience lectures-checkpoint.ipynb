{
 "cells": [
  {
   "cell_type": "markdown",
   "id": "5a71b454",
   "metadata": {},
   "source": [
    "# Numbers\n",
    "Pyhton can work with several numbers but the common ones are int and float"
   ]
  },
  {
   "cell_type": "markdown",
   "id": "cd5f3412",
   "metadata": {},
   "source": [
    "# Arithmetic\n",
    "ie \n"
   ]
  },
  {
   "cell_type": "code",
   "execution_count": 21,
   "id": "17b412a3",
   "metadata": {},
   "outputs": [
    {
     "data": {
      "text/plain": [
       "2"
      ]
     },
     "execution_count": 21,
     "metadata": {},
     "output_type": "execute_result"
    }
   ],
   "source": [
    "#ADDITION AND SUBTRACTION\n",
    "3+1-2"
   ]
  },
  {
   "cell_type": "code",
   "execution_count": 22,
   "id": "ad5c7809",
   "metadata": {},
   "outputs": [
    {
     "data": {
      "text/plain": [
       "6"
      ]
     },
     "execution_count": 22,
     "metadata": {},
     "output_type": "execute_result"
    }
   ],
   "source": [
    "#MULTIPLICATION\n",
    "2*3"
   ]
  },
  {
   "cell_type": "code",
   "execution_count": 23,
   "id": "18673e74",
   "metadata": {},
   "outputs": [
    {
     "data": {
      "text/plain": [
       "2"
      ]
     },
     "execution_count": 23,
     "metadata": {},
     "output_type": "execute_result"
    }
   ],
   "source": [
    "#Modulus\n",
    "2%3"
   ]
  },
  {
   "cell_type": "code",
   "execution_count": 24,
   "id": "a1e07f1b",
   "metadata": {},
   "outputs": [
    {
     "data": {
      "text/plain": [
       "8"
      ]
     },
     "execution_count": 24,
     "metadata": {},
     "output_type": "execute_result"
    }
   ],
   "source": [
    "#EXPONENTIAL\n",
    "2**3"
   ]
  },
  {
   "cell_type": "code",
   "execution_count": 25,
   "id": "19e5ef91",
   "metadata": {},
   "outputs": [
    {
     "data": {
      "text/plain": [
       "0"
      ]
     },
     "execution_count": 25,
     "metadata": {},
     "output_type": "execute_result"
    }
   ],
   "source": [
    "#FLOW DIVISION\n",
    "2//3"
   ]
  },
  {
   "cell_type": "code",
   "execution_count": 26,
   "id": "2a1cbaf6",
   "metadata": {},
   "outputs": [
    {
     "data": {
      "text/plain": [
       "0.6666666666666666"
      ]
     },
     "execution_count": 26,
     "metadata": {},
     "output_type": "execute_result"
    }
   ],
   "source": [
    "#DIVISION\n",
    "2/3"
   ]
  },
  {
   "cell_type": "markdown",
   "id": "5b222c7c",
   "metadata": {},
   "source": [
    "# Exercise\n",
    "Write a python expression that raises 1+2 to the power of 3*4"
   ]
  },
  {
   "cell_type": "code",
   "execution_count": 27,
   "id": "f1a7634b",
   "metadata": {},
   "outputs": [
    {
     "data": {
      "text/plain": [
       "531441"
      ]
     },
     "execution_count": 27,
     "metadata": {},
     "output_type": "execute_result"
    }
   ],
   "source": [
    "#SOLUTION\n",
    "#Order of precedence\n",
    "(1+2)**(3*4)\n",
    "#PEDMAS"
   ]
  },
  {
   "cell_type": "markdown",
   "id": "83ebed5f",
   "metadata": {},
   "source": [
    "# Maths Functions\n"
   ]
  },
  {
   "cell_type": "code",
   "execution_count": 28,
   "id": "0b2d1bc1",
   "metadata": {},
   "outputs": [],
   "source": [
    "import numpy as np"
   ]
  },
  {
   "cell_type": "code",
   "execution_count": 29,
   "id": "6a644e47",
   "metadata": {},
   "outputs": [
    {
     "data": {
      "text/plain": [
       "3.141592653589793"
      ]
     },
     "execution_count": 29,
     "metadata": {},
     "output_type": "execute_result"
    }
   ],
   "source": [
    "np.pi"
   ]
  },
  {
   "cell_type": "code",
   "execution_count": 30,
   "id": "28b35c9f",
   "metadata": {},
   "outputs": [
    {
     "data": {
      "text/plain": [
       "4.605170185988092"
      ]
     },
     "execution_count": 30,
     "metadata": {},
     "output_type": "execute_result"
    }
   ],
   "source": [
    "np.log(100)"
   ]
  },
  {
   "cell_type": "code",
   "execution_count": 31,
   "id": "9704b81f",
   "metadata": {},
   "outputs": [
    {
     "data": {
      "text/plain": [
       "2.718281828459045"
      ]
     },
     "execution_count": 31,
     "metadata": {},
     "output_type": "execute_result"
    }
   ],
   "source": [
    "np.exp(1)"
   ]
  },
  {
   "cell_type": "markdown",
   "id": "fd7680d2",
   "metadata": {},
   "source": [
    "# log(e*x) = x \n",
    "where by -700 <= x <= 700"
   ]
  },
  {
   "cell_type": "code",
   "execution_count": null,
   "id": "50e9781e",
   "metadata": {},
   "outputs": [],
   "source": []
  },
  {
   "cell_type": "markdown",
   "id": "433f9b51",
   "metadata": {},
   "source": [
    "# VARIABLES\n",
    "A  variable is a name that refers to a value ie x = 5 means 5 is the value assigned to x variable ie "
   ]
  },
  {
   "cell_type": "code",
   "execution_count": 32,
   "id": "432ff9a9",
   "metadata": {},
   "outputs": [
    {
     "data": {
      "text/plain": [
       "6"
      ]
     },
     "execution_count": 32,
     "metadata": {},
     "output_type": "execute_result"
    }
   ],
   "source": [
    "x = 5\n",
    "\n",
    "x +1"
   ]
  },
  {
   "cell_type": "code",
   "execution_count": 33,
   "id": "737e1404",
   "metadata": {},
   "outputs": [
    {
     "data": {
      "text/plain": [
       "25"
      ]
     },
     "execution_count": 33,
     "metadata": {},
     "output_type": "execute_result"
    }
   ],
   "source": [
    "x**2"
   ]
  },
  {
   "cell_type": "code",
   "execution_count": 34,
   "id": "91888f38",
   "metadata": {},
   "outputs": [
    {
     "data": {
      "text/plain": [
       "148.4131591025766"
      ]
     },
     "execution_count": 34,
     "metadata": {},
     "output_type": "execute_result"
    }
   ],
   "source": [
    "np.exp(x)"
   ]
  },
  {
   "cell_type": "markdown",
   "id": "42951d23",
   "metadata": {},
   "source": [
    "# Calculations with variable\n",
    "\n",
    "if you deposit $2100 in a bank, paying an annual interesr rate of 3.4\\% compounded quarterly, we can compute the balance for 7 years by defeining these variables ie"
   ]
  },
  {
   "cell_type": "code",
   "execution_count": 35,
   "id": "009321d9",
   "metadata": {},
   "outputs": [],
   "source": [
    "p = 2100#principle\n",
    "r = 0.034#rate\n",
    "n = 4#Number of years that have been deposited yet\n",
    "t = 7#Total number of years"
   ]
  },
  {
   "cell_type": "code",
   "execution_count": 36,
   "id": "d35d0118",
   "metadata": {},
   "outputs": [
    {
     "data": {
      "text/plain": [
       "2661.6108980682593"
      ]
     },
     "execution_count": 36,
     "metadata": {},
     "output_type": "execute_result"
    }
   ],
   "source": [
    "v = 2100*(1+0.034/4)**(4*7)\n",
    "v"
   ]
  },
  {
   "cell_type": "code",
   "execution_count": 37,
   "id": "d41d12a4",
   "metadata": {},
   "outputs": [
    {
     "data": {
      "text/plain": [
       "2658.965091277534"
      ]
     },
     "execution_count": 37,
     "metadata": {},
     "output_type": "execute_result"
    }
   ],
   "source": [
    "v = 2100*(1+0.034/2)**(2*7)\n",
    "v"
   ]
  },
  {
   "cell_type": "code",
   "execution_count": 38,
   "id": "e16fbd0c",
   "metadata": {},
   "outputs": [
    {
     "data": {
      "text/plain": [
       "6.175728457877729"
      ]
     },
     "execution_count": 38,
     "metadata": {},
     "output_type": "execute_result"
    }
   ],
   "source": [
    "w = 2100**(0.034*7)\n",
    "w"
   ]
  },
  {
   "cell_type": "code",
   "execution_count": 39,
   "id": "19879b11",
   "metadata": {},
   "outputs": [
    {
     "data": {
      "text/plain": [
       "1.6823289251587048"
      ]
     },
     "execution_count": 39,
     "metadata": {},
     "output_type": "execute_result"
    }
   ],
   "source": [
    "w = 2100**(0.034*2)\n",
    "w"
   ]
  },
  {
   "cell_type": "markdown",
   "id": "acf9cf50",
   "metadata": {},
   "source": [
    "# Times and Places\n",
    "places mean strings in terms of location\n",
    "here we cover some additional datatypes ie strings represent text ,dates,time\n",
    " A string is a sequence of letters,numbers and punctuation marks typed between single and double quotation marks ie \"elements\" \"of\" \"Data Science\" and they are assigned to variables ie \n",
    " first = \"Data\"\n",
    " last = 'Science'\n",
    " if the two strings are concatenated with space we get data science as two words and without space then its one word \n",
    " ie (first + ''last) and (first + last)\n",
    " for an expression\n",
    " \n",
    " "
   ]
  },
  {
   "cell_type": "code",
   "execution_count": 40,
   "id": "59e0dd19",
   "metadata": {},
   "outputs": [
    {
     "ename": "TypeError",
     "evalue": "can only concatenate str (not \"int\") to str",
     "output_type": "error",
     "traceback": [
      "\u001b[1;31m---------------------------------------------------------------------------\u001b[0m",
      "\u001b[1;31mTypeError\u001b[0m                                 Traceback (most recent call last)",
      "Input \u001b[1;32mIn [40]\u001b[0m, in \u001b[0;36m<cell line: 2>\u001b[1;34m()\u001b[0m\n\u001b[0;32m      1\u001b[0m actual \u001b[38;5;241m=\u001b[39m \u001b[38;5;124m\"\u001b[39m\u001b[38;5;124m123\u001b[39m\u001b[38;5;124m\"\u001b[39m\n\u001b[1;32m----> 2\u001b[0m \u001b[43mactual\u001b[49m\u001b[43m \u001b[49m\u001b[38;5;241;43m+\u001b[39;49m\u001b[43m \u001b[49m\u001b[38;5;241;43m1\u001b[39;49m\n",
      "\u001b[1;31mTypeError\u001b[0m: can only concatenate str (not \"int\") to str"
     ]
    }
   ],
   "source": [
    "actual = \"123\"\n",
    "actual + 1"
   ]
  },
  {
   "cell_type": "code",
   "execution_count": 41,
   "id": "e53a0691",
   "metadata": {},
   "outputs": [
    {
     "data": {
      "text/plain": [
       "'123123123'"
      ]
     },
     "execution_count": 41,
     "metadata": {},
     "output_type": "execute_result"
    }
   ],
   "source": [
    "actual*3"
   ]
  },
  {
   "cell_type": "code",
   "execution_count": 42,
   "id": "b9bcbfdb",
   "metadata": {},
   "outputs": [
    {
     "data": {
      "text/plain": [
       "123"
      ]
     },
     "execution_count": 42,
     "metadata": {},
     "output_type": "execute_result"
    }
   ],
   "source": [
    "int(\"123\")"
   ]
  },
  {
   "cell_type": "code",
   "execution_count": 43,
   "id": "b3121cb8",
   "metadata": {},
   "outputs": [
    {
     "data": {
      "text/plain": [
       "123.0"
      ]
     },
     "execution_count": 43,
     "metadata": {},
     "output_type": "execute_result"
    }
   ],
   "source": [
    "float(\"123\")"
   ]
  },
  {
   "cell_type": "code",
   "execution_count": 44,
   "id": "fb40d9f3",
   "metadata": {},
   "outputs": [
    {
     "data": {
      "text/plain": [
       "'123'"
      ]
     },
     "execution_count": 44,
     "metadata": {},
     "output_type": "execute_result"
    }
   ],
   "source": [
    "str(123)"
   ]
  },
  {
   "cell_type": "code",
   "execution_count": 45,
   "id": "335e44e2",
   "metadata": {},
   "outputs": [
    {
     "data": {
      "text/plain": [
       "'12.3'"
      ]
     },
     "execution_count": 45,
     "metadata": {},
     "output_type": "execute_result"
    }
   ],
   "source": [
    "str(12.3)"
   ]
  },
  {
   "cell_type": "markdown",
   "id": "58202273",
   "metadata": {},
   "source": [
    "# Dates and Times\n"
   ]
  },
  {
   "cell_type": "code",
   "execution_count": 46,
   "id": "9472909c",
   "metadata": {},
   "outputs": [],
   "source": [
    "import scipy as sci"
   ]
  },
  {
   "cell_type": "code",
   "execution_count": 47,
   "id": "bb101a15",
   "metadata": {},
   "outputs": [
    {
     "data": {
      "text/plain": [
       "1.618033988749895"
      ]
     },
     "execution_count": 47,
     "metadata": {},
     "output_type": "execute_result"
    }
   ],
   "source": [
    "phi = (1+5**0.5)/2\n",
    "phi"
   ]
  },
  {
   "cell_type": "markdown",
   "id": "bb932bc6",
   "metadata": {},
   "source": [
    "# Plotting\n",
    "  line graph - record something  to be visualised over time ie inflation,GDP however it works with one variable at atime\n",
    "  \n",
    " histogram\n",
    " \n",
    " scatter plots-deriving relationships\n",
    " \n",
    " barcharts- comparison\n",
    " \n",
    " pie charts\n",
    " \n",
    " slope chart -Different slopes with time\n",
    " \n",
    " stacked area chart\n",
    "# NB OWID _ Our world in Data\n",
    "# What are the needed libraries\n",
    "Seaborn as sns\n",
    "matplotlib.pyplot as plt\n",
    "matplotlib\n",
    "numpy\n",
    "scikit_-learn\n"
   ]
  },
  {
   "cell_type": "code",
   "execution_count": 48,
   "id": "c8da2720",
   "metadata": {},
   "outputs": [],
   "source": [
    "year = [2009, 2010, 2011, 2012, 2013, 2014, 2015, 2016, 2017, 2018]\n",
    "christian = [77,76,75,73,73,71,69,68,67,65]\n",
    "unaffiliated =[17, 17, 19, 19, 20, 21, 24, 23, 25,26]"
   ]
  },
  {
   "cell_type": "code",
   "execution_count": 49,
   "id": "bf4b75a1",
   "metadata": {},
   "outputs": [],
   "source": [
    "import numpy as np\n",
    "import matplotlib.pyplot as plt\n",
    "\n",
    "import seaborn as sns\n"
   ]
  },
  {
   "cell_type": "code",
   "execution_count": 50,
   "id": "807b2961",
   "metadata": {},
   "outputs": [],
   "source": [
    "matplotlib inline"
   ]
  },
  {
   "cell_type": "code",
   "execution_count": 51,
   "id": "e150fbc8",
   "metadata": {},
   "outputs": [],
   "source": [
    "import matplotlib.pyplot as plt"
   ]
  },
  {
   "cell_type": "code",
   "execution_count": 52,
   "id": "bb16516f",
   "metadata": {},
   "outputs": [
    {
     "data": {
      "text/plain": [
       "[<matplotlib.lines.Line2D at 0x1d55c03f190>]"
      ]
     },
     "execution_count": 52,
     "metadata": {},
     "output_type": "execute_result"
    },
    {
     "data": {
      "image/png": "[encoded data removed]",
      "text/plain": [
       "<Figure size 432x288 with 1 Axes>"
      ]
     },
     "metadata": {
      "needs_background": "light"
     },
     "output_type": "display_data"
    }
   ],
   "source": [
    "plt.plot(year,christian)\n"
   ]
  },
  {
   "cell_type": "code",
   "execution_count": 53,
   "id": "46a4d3ad",
   "metadata": {},
   "outputs": [
    {
     "data": {
      "text/plain": [
       "[<matplotlib.lines.Line2D at 0x1d55e12f400>]"
      ]
     },
     "execution_count": 53,
     "metadata": {},
     "output_type": "execute_result"
    },
    {
     "data": {
      "image/png": "[encoded data removed]",
      "text/plain": [
       "<Figure size 432x288 with 1 Axes>"
      ]
     },
     "metadata": {
      "needs_background": "light"
     },
     "output_type": "display_data"
    }
   ],
   "source": [
    "plt.plot(year,unaffiliated)"
   ]
  },
  {
   "cell_type": "code",
   "execution_count": 54,
   "id": "cfdeb335",
   "metadata": {},
   "outputs": [
    {
     "data": {
      "text/plain": [
       "[<matplotlib.lines.Line2D at 0x1d55e1aa0e0>]"
      ]
     },
     "execution_count": 54,
     "metadata": {},
     "output_type": "execute_result"
    },
    {
     "data": {
      "image/png": "[encoded data removed]",
      "text/plain": [
       "<Figure size 432x288 with 1 Axes>"
      ]
     },
     "metadata": {
      "needs_background": "light"
     },
     "output_type": "display_data"
    }
   ],
   "source": [
    "plt.plot(year,christian)\n",
    "plt.plot(year,unaffiliated)# christian and unaffiliated over time"
   ]
  },
  {
   "cell_type": "code",
   "execution_count": 55,
   "id": "276a7a0b",
   "metadata": {},
   "outputs": [
    {
     "data": {
      "text/plain": [
       "[<matplotlib.lines.Line2D at 0x1d55e224fd0>]"
      ]
     },
     "execution_count": 55,
     "metadata": {},
     "output_type": "execute_result"
    },
    {
     "data": {
      "image/png": "[encoded data removed]",
      "text/plain": [
       "<Figure size 432x288 with 1 Axes>"
      ]
     },
     "metadata": {
      "needs_background": "light"
     },
     "output_type": "display_data"
    }
   ],
   "source": [
    "plt.plot(year,christian)\n",
    "plt.ylim(0,80)\n",
    "plt.plot(year,unaffiliated)# gives where to start and end"
   ]
  },
  {
   "cell_type": "code",
   "execution_count": 56,
   "id": "e77b7994",
   "metadata": {},
   "outputs": [
    {
     "data": {
      "image/png": "[encoded data removed]",
      "text/plain": [
       "<Figure size 432x288 with 1 Axes>"
      ]
     },
     "metadata": {
      "needs_background": "light"
     },
     "output_type": "display_data"
    }
   ],
   "source": [
    "plt.plot(year,christian)\n",
    "plt.ylim(0,80)#limitation/axes scale\n",
    "plt.plot(year,unaffiliated)# gives where to start and end\n",
    "#labels(x,y and title label and they take strings as arguements)\n",
    "plt.xlabel(\"Year\");"
   ]
  },
  {
   "cell_type": "code",
   "execution_count": 57,
   "id": "5b556931",
   "metadata": {},
   "outputs": [
    {
     "data": {
      "image/png": "[encoded data removed]",
      "text/plain": [
       "<Figure size 432x288 with 1 Axes>"
      ]
     },
     "metadata": {
      "needs_background": "light"
     },
     "output_type": "display_data"
    }
   ],
   "source": [
    "plt.plot(year,christian)\n",
    "plt.ylim(0,80)#limitation/axes scale\n",
    "plt.plot(year,unaffiliated)# gives where to start and end\n",
    "#labels(x,y and title label and they take strings as arguements)\n",
    "plt.xlabel(\"Year\");\n",
    "plt.ylabel(\"Adults Percentage\");"
   ]
  },
  {
   "cell_type": "code",
   "execution_count": 58,
   "id": "4701adc1",
   "metadata": {},
   "outputs": [
    {
     "data": {
      "image/png": "[encoded data removed]",
      "text/plain": [
       "<Figure size 432x288 with 1 Axes>"
      ]
     },
     "metadata": {
      "needs_background": "light"
     },
     "output_type": "display_data"
    }
   ],
   "source": [
    "plt.plot(year,christian)\n",
    "plt.ylim(0,80)#limitation/axes scale\n",
    "plt.plot(year,unaffiliated)# gives where to start and end\n",
    "#labels(x,y and title label and they take strings as arguements)\n",
    "plt.xlabel(\"Year\");\n",
    "plt.ylabel(\"Adults Percentage\");\n",
    "plt.title(\"Religious Affiliation\");"
   ]
  },
  {
   "cell_type": "code",
   "execution_count": 59,
   "id": "3ff12dd4",
   "metadata": {},
   "outputs": [
    {
     "data": {
      "image/png": "[encoded data removed]",
      "text/plain": [
       "<Figure size 432x288 with 1 Axes>"
      ]
     },
     "metadata": {
      "needs_background": "light"
     },
     "output_type": "display_data"
    }
   ],
   "source": [
    "plt.plot(year,christian,label = \"christian\")\n",
    "plt.ylim(0,80)#limitation/axes scale\n",
    "plt.plot(year,unaffiliated, label = \"unaffiliated\")# gives where to start and end\n",
    "#labels(x,y and title label and they take strings as arguements)\n",
    "plt.xlabel(\"Year\");#X label\n",
    "plt.ylabel(\"Adults Percentage\");#ylabel\n",
    "plt.title(\"Religious Affiliation\");#title\n",
    "plt.legend();"
   ]
  },
  {
   "cell_type": "code",
   "execution_count": 60,
   "id": "989e8e39",
   "metadata": {},
   "outputs": [
    {
     "name": "stderr",
     "output_type": "stream",
     "text": [
      "No artists with labels found to put in legend.  Note that artists whose label start with an underscore are ignored when legend() is called with no argument.\n"
     ]
    },
    {
     "data": {
      "image/png": "[encoded data removed]",
      "text/plain": [
       "<Figure size 432x288 with 1 Axes>"
      ]
     },
     "metadata": {
      "needs_background": "light"
     },
     "output_type": "display_data"
    }
   ],
   "source": [
    "plt.plot(year,christian)\n",
    "plt.ylim(0,80)#limitation/axes scale\n",
    "plt.plot(year,unaffiliated)# gives where to start and end\n",
    "#labels(x,y and title label and they take strings as arguements)\n",
    "plt.xlabel(\"Year\");#X label\n",
    "plt.ylabel(\"Adults Percentage\");#ylabel\n",
    "plt.title(\"Religious Affiliation\");#title\n",
    "plt.legend();"
   ]
  },
  {
   "cell_type": "markdown",
   "id": "2c5daa72",
   "metadata": {},
   "source": [
    "# replication\n",
    "# reproducible\n",
    "\n"
   ]
  },
  {
   "cell_type": "code",
   "execution_count": 61,
   "id": "4f1d1782",
   "metadata": {},
   "outputs": [],
   "source": [
    "name_list =[\"lobster roll\", \n",
    "            \"chicken ceasar\",\n",
    "            \"bang bang chicken wrap\",\n",
    "            \"ham and cheese\",\n",
    "            \"Tuna and cucumber\",\n",
    "            \"egg sandwich\"\n",
    "           ]\n",
    "boston_price_list =[9.99,7.99,7.49,7,6.29,4.99]\n",
    "london_price_list = [7.5,5,4.4,5,3.75,2.25]  "
   ]
  },
  {
   "cell_type": "code",
   "execution_count": 62,
   "id": "a846b8f7",
   "metadata": {},
   "outputs": [
    {
     "data": {
      "image/png": "[encoded data removed]",
      "text/plain": [
       "<Figure size 432x288 with 1 Axes>"
      ]
     },
     "metadata": {
      "needs_background": "light"
     },
     "output_type": "display_data"
    }
   ],
   "source": [
    "plt.plot(boston_price_list,name_list);"
   ]
  },
  {
   "cell_type": "code",
   "execution_count": 63,
   "id": "39cfeb52",
   "metadata": {},
   "outputs": [
    {
     "data": {
      "image/png": "[encoded data removed]",
      "text/plain": [
       "<Figure size 432x288 with 1 Axes>"
      ]
     },
     "metadata": {
      "needs_background": "light"
     },
     "output_type": "display_data"
    }
   ],
   "source": [
    "plt.plot(boston_price_list,name_list);\n",
    "plt.xlabel(\"Price in USD\");"
   ]
  },
  {
   "cell_type": "markdown",
   "id": "1db61633",
   "metadata": {},
   "source": [
    "#### name list is alist of strings and python orders them from top to bottom\n",
    "by default pyplot connects the codes with the lines however in the example above it doesnt make sense since the names are categorical and not continuous\n",
    "### categorical\n",
    "means of transport\n",
    "icecream falovors\n",
    "yorghurt\n",
    "create markers incase its a line graph\n",
    "\n",
    "### numerical\n",
    "1,2,3,4......\n",
    "### Binary\n",
    "0/1s\n",
    "### Discrete Values\n"
   ]
  },
  {
   "cell_type": "code",
   "execution_count": 64,
   "id": "4a2ae682",
   "metadata": {},
   "outputs": [
    {
     "data": {
      "image/png": "[encoded data removed]",
      "text/plain": [
       "<Figure size 432x288 with 1 Axes>"
      ]
     },
     "metadata": {
      "needs_background": "light"
     },
     "output_type": "display_data"
    }
   ],
   "source": [
    "plt.plot(boston_price_list,name_list, marker=\"o\",linestyle=\"\");#separated the different categories\n",
    "\n",
    "plt.xlabel(\"price in USD\");\n"
   ]
  },
  {
   "cell_type": "code",
   "execution_count": 65,
   "id": "686d699a",
   "metadata": {},
   "outputs": [
    {
     "data": {
      "image/png": "[encoded data removed]",
      "text/plain": [
       "<Figure size 432x288 with 1 Axes>"
      ]
     },
     "metadata": {
      "needs_background": "light"
     },
     "output_type": "display_data"
    }
   ],
   "source": [
    "#ADDING MARKERS AND LINESTYLE\n",
    "plt.plot(boston_price_list,name_list, marker=\"o\",linestyle=\"\");#separated the different categories\n",
    "\n",
    "plt.plot(london_price_list,name_list, marker=\"s\",linestyle=\"\");\n",
    "\n",
    "plt.title(\"Food Prices In Boston And London\")\n",
    "\n",
    "plt.xlabel(\"price in USD\");\n"
   ]
  },
  {
   "cell_type": "code",
   "execution_count": 66,
   "id": "0ee5cf2a",
   "metadata": {},
   "outputs": [
    {
     "data": {
      "image/png": "[encoded data removed]",
      "text/plain": [
       "<Figure size 432x288 with 1 Axes>"
      ]
     },
     "metadata": {
      "needs_background": "light"
     },
     "output_type": "display_data"
    }
   ],
   "source": [
    "# ADDING COLORS \n",
    "plt.plot(boston_price_list,name_list, marker=\"o\",linestyle=\"\",color=\"C3\");#separated the different categories\n",
    "\n",
    "plt.plot(london_price_list,name_list, marker=\"s\",linestyle=\"\",color=\"C0\");\n",
    "\n",
    "plt.title(\"Food Prices In Boston And London\")\n",
    "\n",
    "plt.xlabel(\"price in USD\");"
   ]
  },
  {
   "cell_type": "code",
   "execution_count": 67,
   "id": "e78ca43f",
   "metadata": {},
   "outputs": [
    {
     "data": {
      "image/png": "[encoded data removed]",
      "text/plain": [
       "<Figure size 432x288 with 1 Axes>"
      ]
     },
     "metadata": {
      "needs_background": "light"
     },
     "output_type": "display_data"
    }
   ],
   "source": [
    "#HORIZONTALLY JOINING THE POINTS\n",
    "plt.plot(boston_price_list,name_list, marker=\"o\",linestyle=\"\",color=\"C3\");#separated the different categories\n",
    "\n",
    "plt.plot(london_price_list,name_list, marker=\"s\",linestyle=\"\",color=\"C0\");\n",
    "\n",
    "plt.title(\"Food Prices In Boston And London\")\n",
    "plt.hlines(name_list,boston_price_list,london_price_list)\n",
    "\n",
    "plt.xlabel(\"price in USD\");"
   ]
  },
  {
   "cell_type": "code",
   "execution_count": 68,
   "id": "761fe006",
   "metadata": {},
   "outputs": [
    {
     "data": {
      "image/png": "[encoded data removed]",
      "text/plain": [
       "<Figure size 432x288 with 1 Axes>"
      ]
     },
     "metadata": {
      "needs_background": "light"
     },
     "output_type": "display_data"
    }
   ],
   "source": [
    "#ADDING A LEGEND\n",
    "\n",
    "plt.plot(london_price_list,name_list, marker=\"s\",linestyle=\"\",color=\"C0\",label = \"London\");\n",
    "plt.plot(boston_price_list,name_list, marker=\"o\",linestyle=\"\",color=\"C3\", label = \"Boston\");#separated the different categories\n",
    "plt.title(\"Food Prices In Boston And London\")\n",
    "plt.hlines(name_list,boston_price_list,london_price_list)\n",
    "\n",
    "plt.xlabel(\"price in USD\");\n",
    "plt.legend();"
   ]
  },
  {
   "cell_type": "code",
   "execution_count": 69,
   "id": "a30b0ea4",
   "metadata": {},
   "outputs": [
    {
     "data": {
      "image/png": "[encoded data removed]",
      "text/plain": [
       "<Figure size 432x288 with 1 Axes>"
      ]
     },
     "metadata": {
      "needs_background": "light"
     },
     "output_type": "display_data"
    }
   ],
   "source": [
    "#REVERSING THE AXIS\n",
    "plt.plot(london_price_list,name_list, marker=\"s\",linestyle=\"\",color=\"C0\",label = \"London\");\n",
    "plt.plot(boston_price_list,name_list, marker=\"o\",linestyle=\"\",color=\"C3\", label = \"Boston\");#separated the different categories\n",
    "plt.title(\"Food Prices In Boston And London\")\n",
    "plt.hlines(name_list,boston_price_list,london_price_list)\n",
    "\n",
    "plt.xlabel(\"price in USD\");\n",
    "plt.legend();\n",
    "plt.gca().invert_xaxis()\n",
    "plt.gca().invert_yaxis()"
   ]
  },
  {
   "cell_type": "code",
   "execution_count": 70,
   "id": "c2766852",
   "metadata": {},
   "outputs": [],
   "source": [
    "import pandas as pd\n"
   ]
  },
  {
   "cell_type": "markdown",
   "id": "1c2d6d4d",
   "metadata": {},
   "source": [
    "# DATA FRAMES AND SERIES"
   ]
  },
  {
   "cell_type": "code",
   "execution_count": 71,
   "id": "88530026",
   "metadata": {},
   "outputs": [
    {
     "data": {
      "text/html": [
       "<div>\n",
       "<style scoped>\n",
       "    .dataframe tbody tr th:only-of-type {\n",
       "        vertical-align: middle;\n",
       "    }\n",
       "\n",
       "    .dataframe tbody tr th {\n",
       "        vertical-align: top;\n",
       "    }\n",
       "\n",
       "    .dataframe thead th {\n",
       "        text-align: right;\n",
       "    }\n",
       "</style>\n",
       "<table border=\"1\" class=\"dataframe\">\n",
       "  <thead>\n",
       "    <tr style=\"text-align: right;\">\n",
       "      <th></th>\n",
       "      <th>Country Code</th>\n",
       "      <th>TableName</th>\n",
       "      <th>IncomeGroup</th>\n",
       "      <th>PopDensity_2018</th>\n",
       "      <th>Confirmed Cases</th>\n",
       "      <th>Deaths</th>\n",
       "      <th>Mortality Rate</th>\n",
       "      <th>Population_2019</th>\n",
       "      <th>GDP_2019</th>\n",
       "      <th>GDP_per_cap_2019</th>\n",
       "      <th>Main Leader Gender</th>\n",
       "      <th>Any Leader Gender</th>\n",
       "      <th>Avg Temp</th>\n",
       "      <th>Normalized Cases</th>\n",
       "      <th>Normalized Deaths</th>\n",
       "    </tr>\n",
       "  </thead>\n",
       "  <tbody>\n",
       "    <tr>\n",
       "      <th>0</th>\n",
       "      <td>AFG</td>\n",
       "      <td>Afghanistan</td>\n",
       "      <td>Low income</td>\n",
       "      <td>56.937760</td>\n",
       "      <td>39192</td>\n",
       "      <td>1453</td>\n",
       "      <td>3.707389</td>\n",
       "      <td>38041754</td>\n",
       "      <td>1.910135e+10</td>\n",
       "      <td>2293.551684</td>\n",
       "      <td>M</td>\n",
       "      <td>M</td>\n",
       "      <td>12.60</td>\n",
       "      <td>0.001030</td>\n",
       "      <td>3.820000e-05</td>\n",
       "    </tr>\n",
       "    <tr>\n",
       "      <th>1</th>\n",
       "      <td>AGO</td>\n",
       "      <td>Angola</td>\n",
       "      <td>Lower middle income</td>\n",
       "      <td>24.713052</td>\n",
       "      <td>4672</td>\n",
       "      <td>171</td>\n",
       "      <td>3.660103</td>\n",
       "      <td>31825295</td>\n",
       "      <td>9.463542e+10</td>\n",
       "      <td>6929.678158</td>\n",
       "      <td>M</td>\n",
       "      <td>M</td>\n",
       "      <td>21.55</td>\n",
       "      <td>0.000147</td>\n",
       "      <td>5.370000e-06</td>\n",
       "    </tr>\n",
       "    <tr>\n",
       "      <th>2</th>\n",
       "      <td>ALB</td>\n",
       "      <td>Albania</td>\n",
       "      <td>Upper middle income</td>\n",
       "      <td>104.612263</td>\n",
       "      <td>13153</td>\n",
       "      <td>375</td>\n",
       "      <td>2.851061</td>\n",
       "      <td>2854191</td>\n",
       "      <td>1.527808e+10</td>\n",
       "      <td>14495.078510</td>\n",
       "      <td>M</td>\n",
       "      <td>M</td>\n",
       "      <td>11.40</td>\n",
       "      <td>0.004608</td>\n",
       "      <td>1.313860e-04</td>\n",
       "    </tr>\n",
       "    <tr>\n",
       "      <th>3</th>\n",
       "      <td>AND</td>\n",
       "      <td>Andorra</td>\n",
       "      <td>High income</td>\n",
       "      <td>163.842553</td>\n",
       "      <td>1836</td>\n",
       "      <td>53</td>\n",
       "      <td>2.886710</td>\n",
       "      <td>77142</td>\n",
       "      <td>3.154058e+09</td>\n",
       "      <td>NaN</td>\n",
       "      <td>M</td>\n",
       "      <td>M</td>\n",
       "      <td>7.60</td>\n",
       "      <td>0.023800</td>\n",
       "      <td>6.870450e-04</td>\n",
       "    </tr>\n",
       "    <tr>\n",
       "      <th>4</th>\n",
       "      <td>ARE</td>\n",
       "      <td>United Arab Emirates</td>\n",
       "      <td>High income</td>\n",
       "      <td>135.609110</td>\n",
       "      <td>90618</td>\n",
       "      <td>411</td>\n",
       "      <td>0.453552</td>\n",
       "      <td>9770529</td>\n",
       "      <td>4.211420e+11</td>\n",
       "      <td>69900.877850</td>\n",
       "      <td>M</td>\n",
       "      <td>M</td>\n",
       "      <td>27.00</td>\n",
       "      <td>0.009275</td>\n",
       "      <td>4.210000e-05</td>\n",
       "    </tr>\n",
       "    <tr>\n",
       "      <th>...</th>\n",
       "      <td>...</td>\n",
       "      <td>...</td>\n",
       "      <td>...</td>\n",
       "      <td>...</td>\n",
       "      <td>...</td>\n",
       "      <td>...</td>\n",
       "      <td>...</td>\n",
       "      <td>...</td>\n",
       "      <td>...</td>\n",
       "      <td>...</td>\n",
       "      <td>...</td>\n",
       "      <td>...</td>\n",
       "      <td>...</td>\n",
       "      <td>...</td>\n",
       "      <td>...</td>\n",
       "    </tr>\n",
       "    <tr>\n",
       "      <th>177</th>\n",
       "      <td>VNM</td>\n",
       "      <td>Vietnam</td>\n",
       "      <td>Lower middle income</td>\n",
       "      <td>308.125246</td>\n",
       "      <td>1069</td>\n",
       "      <td>35</td>\n",
       "      <td>3.274088</td>\n",
       "      <td>96462106</td>\n",
       "      <td>2.619210e+11</td>\n",
       "      <td>8374.444328</td>\n",
       "      <td>M</td>\n",
       "      <td>M</td>\n",
       "      <td>24.45</td>\n",
       "      <td>0.000011</td>\n",
       "      <td>3.630000e-07</td>\n",
       "    </tr>\n",
       "    <tr>\n",
       "      <th>178</th>\n",
       "      <td>YEM</td>\n",
       "      <td>Yemen, Rep.</td>\n",
       "      <td>Low income</td>\n",
       "      <td>53.977853</td>\n",
       "      <td>2030</td>\n",
       "      <td>587</td>\n",
       "      <td>28.916256</td>\n",
       "      <td>29161922</td>\n",
       "      <td>NaN</td>\n",
       "      <td>NaN</td>\n",
       "      <td>M</td>\n",
       "      <td>M</td>\n",
       "      <td>23.85</td>\n",
       "      <td>0.000070</td>\n",
       "      <td>2.010000e-05</td>\n",
       "    </tr>\n",
       "    <tr>\n",
       "      <th>179</th>\n",
       "      <td>ZAF</td>\n",
       "      <td>South Africa</td>\n",
       "      <td>Upper middle income</td>\n",
       "      <td>47.630120</td>\n",
       "      <td>669498</td>\n",
       "      <td>16376</td>\n",
       "      <td>2.446012</td>\n",
       "      <td>58558270</td>\n",
       "      <td>3.514320e+11</td>\n",
       "      <td>12999.120260</td>\n",
       "      <td>M</td>\n",
       "      <td>M</td>\n",
       "      <td>17.75</td>\n",
       "      <td>0.011433</td>\n",
       "      <td>2.796530e-04</td>\n",
       "    </tr>\n",
       "    <tr>\n",
       "      <th>180</th>\n",
       "      <td>ZMB</td>\n",
       "      <td>Zambia</td>\n",
       "      <td>Lower middle income</td>\n",
       "      <td>23.341479</td>\n",
       "      <td>14612</td>\n",
       "      <td>332</td>\n",
       "      <td>2.272105</td>\n",
       "      <td>17861030</td>\n",
       "      <td>2.306472e+10</td>\n",
       "      <td>3623.699395</td>\n",
       "      <td>M</td>\n",
       "      <td>M</td>\n",
       "      <td>21.40</td>\n",
       "      <td>0.000818</td>\n",
       "      <td>1.860000e-05</td>\n",
       "    </tr>\n",
       "    <tr>\n",
       "      <th>181</th>\n",
       "      <td>ZWE</td>\n",
       "      <td>Zimbabwe</td>\n",
       "      <td>Lower middle income</td>\n",
       "      <td>37.324591</td>\n",
       "      <td>7803</td>\n",
       "      <td>227</td>\n",
       "      <td>2.909138</td>\n",
       "      <td>14645468</td>\n",
       "      <td>2.144076e+10</td>\n",
       "      <td>2953.484113</td>\n",
       "      <td>M</td>\n",
       "      <td>M</td>\n",
       "      <td>21.00</td>\n",
       "      <td>0.000533</td>\n",
       "      <td>1.550000e-05</td>\n",
       "    </tr>\n",
       "  </tbody>\n",
       "</table>\n",
       "<p>182 rows × 15 columns</p>\n",
       "</div>"
      ],
      "text/plain": [
       "    Country Code             TableName          IncomeGroup  PopDensity_2018  \\\n",
       "0            AFG           Afghanistan           Low income        56.937760   \n",
       "1            AGO                Angola  Lower middle income        24.713052   \n",
       "2            ALB               Albania  Upper middle income       104.612263   \n",
       "3            AND               Andorra          High income       163.842553   \n",
       "4            ARE  United Arab Emirates          High income       135.609110   \n",
       "..           ...                   ...                  ...              ...   \n",
       "177          VNM               Vietnam  Lower middle income       308.125246   \n",
       "178          YEM           Yemen, Rep.           Low income        53.977853   \n",
       "179          ZAF          South Africa  Upper middle income        47.630120   \n",
       "180          ZMB                Zambia  Lower middle income        23.341479   \n",
       "181          ZWE              Zimbabwe  Lower middle income        37.324591   \n",
       "\n",
       "     Confirmed Cases  Deaths  Mortality Rate  Population_2019      GDP_2019  \\\n",
       "0              39192    1453        3.707389         38041754  1.910135e+10   \n",
       "1               4672     171        3.660103         31825295  9.463542e+10   \n",
       "2              13153     375        2.851061          2854191  1.527808e+10   \n",
       "3               1836      53        2.886710            77142  3.154058e+09   \n",
       "4              90618     411        0.453552          9770529  4.211420e+11   \n",
       "..               ...     ...             ...              ...           ...   \n",
       "177             1069      35        3.274088         96462106  2.619210e+11   \n",
       "178             2030     587       28.916256         29161922           NaN   \n",
       "179           669498   16376        2.446012         58558270  3.514320e+11   \n",
       "180            14612     332        2.272105         17861030  2.306472e+10   \n",
       "181             7803     227        2.909138         14645468  2.144076e+10   \n",
       "\n",
       "     GDP_per_cap_2019 Main Leader Gender Any Leader Gender  Avg Temp  \\\n",
       "0         2293.551684                  M                 M     12.60   \n",
       "1         6929.678158                  M                 M     21.55   \n",
       "2        14495.078510                  M                 M     11.40   \n",
       "3                 NaN                  M                 M      7.60   \n",
       "4        69900.877850                  M                 M     27.00   \n",
       "..                ...                ...               ...       ...   \n",
       "177       8374.444328                  M                 M     24.45   \n",
       "178               NaN                  M                 M     23.85   \n",
       "179      12999.120260                  M                 M     17.75   \n",
       "180       3623.699395                  M                 M     21.40   \n",
       "181       2953.484113                  M                 M     21.00   \n",
       "\n",
       "     Normalized Cases  Normalized Deaths  \n",
       "0            0.001030       3.820000e-05  \n",
       "1            0.000147       5.370000e-06  \n",
       "2            0.004608       1.313860e-04  \n",
       "3            0.023800       6.870450e-04  \n",
       "4            0.009275       4.210000e-05  \n",
       "..                ...                ...  \n",
       "177          0.000011       3.630000e-07  \n",
       "178          0.000070       2.010000e-05  \n",
       "179          0.011433       2.796530e-04  \n",
       "180          0.000818       1.860000e-05  \n",
       "181          0.000533       1.550000e-05  \n",
       "\n",
       "[182 rows x 15 columns]"
      ]
     },
     "execution_count": 71,
     "metadata": {},
     "output_type": "execute_result"
    }
   ],
   "source": [
    "df = pd.read_csv(\"data/unified-data-per-country.csv\")\n",
    "df"
   ]
  },
  {
   "cell_type": "code",
   "execution_count": 72,
   "id": "bf615c3d",
   "metadata": {},
   "outputs": [
    {
     "data": {
      "text/html": [
       "<div>\n",
       "<style scoped>\n",
       "    .dataframe tbody tr th:only-of-type {\n",
       "        vertical-align: middle;\n",
       "    }\n",
       "\n",
       "    .dataframe tbody tr th {\n",
       "        vertical-align: top;\n",
       "    }\n",
       "\n",
       "    .dataframe thead th {\n",
       "        text-align: right;\n",
       "    }\n",
       "</style>\n",
       "<table border=\"1\" class=\"dataframe\">\n",
       "  <thead>\n",
       "    <tr style=\"text-align: right;\">\n",
       "      <th></th>\n",
       "      <th>Country Code</th>\n",
       "      <th>TableName</th>\n",
       "      <th>IncomeGroup</th>\n",
       "      <th>PopDensity_2018</th>\n",
       "      <th>Confirmed Cases</th>\n",
       "      <th>Deaths</th>\n",
       "      <th>Mortality Rate</th>\n",
       "      <th>Population_2019</th>\n",
       "      <th>GDP_2019</th>\n",
       "      <th>GDP_per_cap_2019</th>\n",
       "      <th>Main Leader Gender</th>\n",
       "      <th>Any Leader Gender</th>\n",
       "      <th>Avg Temp</th>\n",
       "      <th>Normalized Cases</th>\n",
       "      <th>Normalized Deaths</th>\n",
       "    </tr>\n",
       "  </thead>\n",
       "  <tbody>\n",
       "    <tr>\n",
       "      <th>0</th>\n",
       "      <td>AFG</td>\n",
       "      <td>Afghanistan</td>\n",
       "      <td>Low income</td>\n",
       "      <td>56.937760</td>\n",
       "      <td>39192</td>\n",
       "      <td>1453</td>\n",
       "      <td>3.707389</td>\n",
       "      <td>38041754</td>\n",
       "      <td>1.910135e+10</td>\n",
       "      <td>2293.551684</td>\n",
       "      <td>M</td>\n",
       "      <td>M</td>\n",
       "      <td>12.60</td>\n",
       "      <td>0.001030</td>\n",
       "      <td>0.000038</td>\n",
       "    </tr>\n",
       "    <tr>\n",
       "      <th>1</th>\n",
       "      <td>AGO</td>\n",
       "      <td>Angola</td>\n",
       "      <td>Lower middle income</td>\n",
       "      <td>24.713052</td>\n",
       "      <td>4672</td>\n",
       "      <td>171</td>\n",
       "      <td>3.660103</td>\n",
       "      <td>31825295</td>\n",
       "      <td>9.463542e+10</td>\n",
       "      <td>6929.678158</td>\n",
       "      <td>M</td>\n",
       "      <td>M</td>\n",
       "      <td>21.55</td>\n",
       "      <td>0.000147</td>\n",
       "      <td>0.000005</td>\n",
       "    </tr>\n",
       "    <tr>\n",
       "      <th>2</th>\n",
       "      <td>ALB</td>\n",
       "      <td>Albania</td>\n",
       "      <td>Upper middle income</td>\n",
       "      <td>104.612263</td>\n",
       "      <td>13153</td>\n",
       "      <td>375</td>\n",
       "      <td>2.851061</td>\n",
       "      <td>2854191</td>\n",
       "      <td>1.527808e+10</td>\n",
       "      <td>14495.078510</td>\n",
       "      <td>M</td>\n",
       "      <td>M</td>\n",
       "      <td>11.40</td>\n",
       "      <td>0.004608</td>\n",
       "      <td>0.000131</td>\n",
       "    </tr>\n",
       "    <tr>\n",
       "      <th>3</th>\n",
       "      <td>AND</td>\n",
       "      <td>Andorra</td>\n",
       "      <td>High income</td>\n",
       "      <td>163.842553</td>\n",
       "      <td>1836</td>\n",
       "      <td>53</td>\n",
       "      <td>2.886710</td>\n",
       "      <td>77142</td>\n",
       "      <td>3.154058e+09</td>\n",
       "      <td>NaN</td>\n",
       "      <td>M</td>\n",
       "      <td>M</td>\n",
       "      <td>7.60</td>\n",
       "      <td>0.023800</td>\n",
       "      <td>0.000687</td>\n",
       "    </tr>\n",
       "    <tr>\n",
       "      <th>4</th>\n",
       "      <td>ARE</td>\n",
       "      <td>United Arab Emirates</td>\n",
       "      <td>High income</td>\n",
       "      <td>135.609110</td>\n",
       "      <td>90618</td>\n",
       "      <td>411</td>\n",
       "      <td>0.453552</td>\n",
       "      <td>9770529</td>\n",
       "      <td>4.211420e+11</td>\n",
       "      <td>69900.877850</td>\n",
       "      <td>M</td>\n",
       "      <td>M</td>\n",
       "      <td>27.00</td>\n",
       "      <td>0.009275</td>\n",
       "      <td>0.000042</td>\n",
       "    </tr>\n",
       "  </tbody>\n",
       "</table>\n",
       "</div>"
      ],
      "text/plain": [
       "  Country Code             TableName          IncomeGroup  PopDensity_2018  \\\n",
       "0          AFG           Afghanistan           Low income        56.937760   \n",
       "1          AGO                Angola  Lower middle income        24.713052   \n",
       "2          ALB               Albania  Upper middle income       104.612263   \n",
       "3          AND               Andorra          High income       163.842553   \n",
       "4          ARE  United Arab Emirates          High income       135.609110   \n",
       "\n",
       "   Confirmed Cases  Deaths  Mortality Rate  Population_2019      GDP_2019  \\\n",
       "0            39192    1453        3.707389         38041754  1.910135e+10   \n",
       "1             4672     171        3.660103         31825295  9.463542e+10   \n",
       "2            13153     375        2.851061          2854191  1.527808e+10   \n",
       "3             1836      53        2.886710            77142  3.154058e+09   \n",
       "4            90618     411        0.453552          9770529  4.211420e+11   \n",
       "\n",
       "   GDP_per_cap_2019 Main Leader Gender Any Leader Gender  Avg Temp  \\\n",
       "0       2293.551684                  M                 M     12.60   \n",
       "1       6929.678158                  M                 M     21.55   \n",
       "2      14495.078510                  M                 M     11.40   \n",
       "3               NaN                  M                 M      7.60   \n",
       "4      69900.877850                  M                 M     27.00   \n",
       "\n",
       "   Normalized Cases  Normalized Deaths  \n",
       "0          0.001030           0.000038  \n",
       "1          0.000147           0.000005  \n",
       "2          0.004608           0.000131  \n",
       "3          0.023800           0.000687  \n",
       "4          0.009275           0.000042  "
      ]
     },
     "execution_count": 72,
     "metadata": {},
     "output_type": "execute_result"
    }
   ],
   "source": [
    "df.head()"
   ]
  },
  {
   "cell_type": "code",
   "execution_count": 73,
   "id": "0a3ac690",
   "metadata": {},
   "outputs": [
    {
     "data": {
      "text/html": [
       "<div>\n",
       "<style scoped>\n",
       "    .dataframe tbody tr th:only-of-type {\n",
       "        vertical-align: middle;\n",
       "    }\n",
       "\n",
       "    .dataframe tbody tr th {\n",
       "        vertical-align: top;\n",
       "    }\n",
       "\n",
       "    .dataframe thead th {\n",
       "        text-align: right;\n",
       "    }\n",
       "</style>\n",
       "<table border=\"1\" class=\"dataframe\">\n",
       "  <thead>\n",
       "    <tr style=\"text-align: right;\">\n",
       "      <th></th>\n",
       "      <th>Country Code</th>\n",
       "      <th>TableName</th>\n",
       "      <th>IncomeGroup</th>\n",
       "      <th>PopDensity_2018</th>\n",
       "      <th>Confirmed Cases</th>\n",
       "      <th>Deaths</th>\n",
       "      <th>Mortality Rate</th>\n",
       "      <th>Population_2019</th>\n",
       "      <th>GDP_2019</th>\n",
       "      <th>GDP_per_cap_2019</th>\n",
       "      <th>Main Leader Gender</th>\n",
       "      <th>Any Leader Gender</th>\n",
       "      <th>Avg Temp</th>\n",
       "      <th>Normalized Cases</th>\n",
       "      <th>Normalized Deaths</th>\n",
       "    </tr>\n",
       "  </thead>\n",
       "  <tbody>\n",
       "    <tr>\n",
       "      <th>177</th>\n",
       "      <td>VNM</td>\n",
       "      <td>Vietnam</td>\n",
       "      <td>Lower middle income</td>\n",
       "      <td>308.125246</td>\n",
       "      <td>1069</td>\n",
       "      <td>35</td>\n",
       "      <td>3.274088</td>\n",
       "      <td>96462106</td>\n",
       "      <td>2.619210e+11</td>\n",
       "      <td>8374.444328</td>\n",
       "      <td>M</td>\n",
       "      <td>M</td>\n",
       "      <td>24.45</td>\n",
       "      <td>0.000011</td>\n",
       "      <td>3.630000e-07</td>\n",
       "    </tr>\n",
       "    <tr>\n",
       "      <th>178</th>\n",
       "      <td>YEM</td>\n",
       "      <td>Yemen, Rep.</td>\n",
       "      <td>Low income</td>\n",
       "      <td>53.977853</td>\n",
       "      <td>2030</td>\n",
       "      <td>587</td>\n",
       "      <td>28.916256</td>\n",
       "      <td>29161922</td>\n",
       "      <td>NaN</td>\n",
       "      <td>NaN</td>\n",
       "      <td>M</td>\n",
       "      <td>M</td>\n",
       "      <td>23.85</td>\n",
       "      <td>0.000070</td>\n",
       "      <td>2.010000e-05</td>\n",
       "    </tr>\n",
       "    <tr>\n",
       "      <th>179</th>\n",
       "      <td>ZAF</td>\n",
       "      <td>South Africa</td>\n",
       "      <td>Upper middle income</td>\n",
       "      <td>47.630120</td>\n",
       "      <td>669498</td>\n",
       "      <td>16376</td>\n",
       "      <td>2.446012</td>\n",
       "      <td>58558270</td>\n",
       "      <td>3.514320e+11</td>\n",
       "      <td>12999.120260</td>\n",
       "      <td>M</td>\n",
       "      <td>M</td>\n",
       "      <td>17.75</td>\n",
       "      <td>0.011433</td>\n",
       "      <td>2.796530e-04</td>\n",
       "    </tr>\n",
       "    <tr>\n",
       "      <th>180</th>\n",
       "      <td>ZMB</td>\n",
       "      <td>Zambia</td>\n",
       "      <td>Lower middle income</td>\n",
       "      <td>23.341479</td>\n",
       "      <td>14612</td>\n",
       "      <td>332</td>\n",
       "      <td>2.272105</td>\n",
       "      <td>17861030</td>\n",
       "      <td>2.306472e+10</td>\n",
       "      <td>3623.699395</td>\n",
       "      <td>M</td>\n",
       "      <td>M</td>\n",
       "      <td>21.40</td>\n",
       "      <td>0.000818</td>\n",
       "      <td>1.860000e-05</td>\n",
       "    </tr>\n",
       "    <tr>\n",
       "      <th>181</th>\n",
       "      <td>ZWE</td>\n",
       "      <td>Zimbabwe</td>\n",
       "      <td>Lower middle income</td>\n",
       "      <td>37.324591</td>\n",
       "      <td>7803</td>\n",
       "      <td>227</td>\n",
       "      <td>2.909138</td>\n",
       "      <td>14645468</td>\n",
       "      <td>2.144076e+10</td>\n",
       "      <td>2953.484113</td>\n",
       "      <td>M</td>\n",
       "      <td>M</td>\n",
       "      <td>21.00</td>\n",
       "      <td>0.000533</td>\n",
       "      <td>1.550000e-05</td>\n",
       "    </tr>\n",
       "  </tbody>\n",
       "</table>\n",
       "</div>"
      ],
      "text/plain": [
       "    Country Code     TableName          IncomeGroup  PopDensity_2018  \\\n",
       "177          VNM       Vietnam  Lower middle income       308.125246   \n",
       "178          YEM   Yemen, Rep.           Low income        53.977853   \n",
       "179          ZAF  South Africa  Upper middle income        47.630120   \n",
       "180          ZMB        Zambia  Lower middle income        23.341479   \n",
       "181          ZWE      Zimbabwe  Lower middle income        37.324591   \n",
       "\n",
       "     Confirmed Cases  Deaths  Mortality Rate  Population_2019      GDP_2019  \\\n",
       "177             1069      35        3.274088         96462106  2.619210e+11   \n",
       "178             2030     587       28.916256         29161922           NaN   \n",
       "179           669498   16376        2.446012         58558270  3.514320e+11   \n",
       "180            14612     332        2.272105         17861030  2.306472e+10   \n",
       "181             7803     227        2.909138         14645468  2.144076e+10   \n",
       "\n",
       "     GDP_per_cap_2019 Main Leader Gender Any Leader Gender  Avg Temp  \\\n",
       "177       8374.444328                  M                 M     24.45   \n",
       "178               NaN                  M                 M     23.85   \n",
       "179      12999.120260                  M                 M     17.75   \n",
       "180       3623.699395                  M                 M     21.40   \n",
       "181       2953.484113                  M                 M     21.00   \n",
       "\n",
       "     Normalized Cases  Normalized Deaths  \n",
       "177          0.000011       3.630000e-07  \n",
       "178          0.000070       2.010000e-05  \n",
       "179          0.011433       2.796530e-04  \n",
       "180          0.000818       1.860000e-05  \n",
       "181          0.000533       1.550000e-05  "
      ]
     },
     "execution_count": 73,
     "metadata": {},
     "output_type": "execute_result"
    }
   ],
   "source": [
    "df.tail()"
   ]
  },
  {
   "cell_type": "code",
   "execution_count": 74,
   "id": "3a0318cf",
   "metadata": {},
   "outputs": [
    {
     "data": {
      "text/plain": [
       "Index(['Country Code', 'TableName', 'IncomeGroup', 'PopDensity_2018',\n",
       "       'Confirmed Cases', 'Deaths', 'Mortality Rate', 'Population_2019',\n",
       "       'GDP_2019', 'GDP_per_cap_2019', 'Main Leader Gender',\n",
       "       'Any Leader Gender', 'Avg Temp', 'Normalized Cases',\n",
       "       'Normalized Deaths'],\n",
       "      dtype='object')"
      ]
     },
     "execution_count": 74,
     "metadata": {},
     "output_type": "execute_result"
    }
   ],
   "source": [
    "df.columns"
   ]
  },
  {
   "cell_type": "code",
   "execution_count": 75,
   "id": "6ecf7b47",
   "metadata": {},
   "outputs": [
    {
     "data": {
      "text/html": [
       "<div>\n",
       "<style scoped>\n",
       "    .dataframe tbody tr th:only-of-type {\n",
       "        vertical-align: middle;\n",
       "    }\n",
       "\n",
       "    .dataframe tbody tr th {\n",
       "        vertical-align: top;\n",
       "    }\n",
       "\n",
       "    .dataframe thead th {\n",
       "        text-align: right;\n",
       "    }\n",
       "</style>\n",
       "<table border=\"1\" class=\"dataframe\">\n",
       "  <thead>\n",
       "    <tr style=\"text-align: right;\">\n",
       "      <th></th>\n",
       "      <th>PopDensity_2018</th>\n",
       "      <th>Confirmed Cases</th>\n",
       "      <th>Deaths</th>\n",
       "      <th>Mortality Rate</th>\n",
       "      <th>Population_2019</th>\n",
       "      <th>GDP_2019</th>\n",
       "      <th>GDP_per_cap_2019</th>\n",
       "      <th>Avg Temp</th>\n",
       "      <th>Normalized Cases</th>\n",
       "      <th>Normalized Deaths</th>\n",
       "    </tr>\n",
       "  </thead>\n",
       "  <tbody>\n",
       "    <tr>\n",
       "      <th>count</th>\n",
       "      <td>178.000000</td>\n",
       "      <td>1.820000e+02</td>\n",
       "      <td>182.000000</td>\n",
       "      <td>182.000000</td>\n",
       "      <td>1.820000e+02</td>\n",
       "      <td>1.690000e+02</td>\n",
       "      <td>168.000000</td>\n",
       "      <td>179.000000</td>\n",
       "      <td>182.000000</td>\n",
       "      <td>182.000000</td>\n",
       "    </tr>\n",
       "    <tr>\n",
       "      <th>mean</th>\n",
       "      <td>209.578681</td>\n",
       "      <td>1.798681e+05</td>\n",
       "      <td>5453.186813</td>\n",
       "      <td>2.552053</td>\n",
       "      <td>4.176762e+07</td>\n",
       "      <td>5.037484e+11</td>\n",
       "      <td>22175.663497</td>\n",
       "      <td>18.511117</td>\n",
       "      <td>0.005142</td>\n",
       "      <td>0.000126</td>\n",
       "    </tr>\n",
       "    <tr>\n",
       "      <th>std</th>\n",
       "      <td>642.276577</td>\n",
       "      <td>7.728216e+05</td>\n",
       "      <td>21079.533796</td>\n",
       "      <td>2.807438</td>\n",
       "      <td>1.494774e+08</td>\n",
       "      <td>2.060972e+12</td>\n",
       "      <td>22028.464791</td>\n",
       "      <td>8.179984</td>\n",
       "      <td>0.007289</td>\n",
       "      <td>0.000208</td>\n",
       "    </tr>\n",
       "    <tr>\n",
       "      <th>min</th>\n",
       "      <td>2.040609</td>\n",
       "      <td>1.900000e+01</td>\n",
       "      <td>0.000000</td>\n",
       "      <td>0.000000</td>\n",
       "      <td>3.386000e+04</td>\n",
       "      <td>4.290166e+08</td>\n",
       "      <td>782.816589</td>\n",
       "      <td>-5.100000</td>\n",
       "      <td>0.000003</td>\n",
       "      <td>0.000000</td>\n",
       "    </tr>\n",
       "    <tr>\n",
       "      <th>25%</th>\n",
       "      <td>37.143092</td>\n",
       "      <td>2.930250e+03</td>\n",
       "      <td>50.000000</td>\n",
       "      <td>1.063698</td>\n",
       "      <td>2.689939e+06</td>\n",
       "      <td>1.282700e+10</td>\n",
       "      <td>5398.131919</td>\n",
       "      <td>10.625000</td>\n",
       "      <td>0.000540</td>\n",
       "      <td>0.000008</td>\n",
       "    </tr>\n",
       "    <tr>\n",
       "      <th>50%</th>\n",
       "      <td>83.949492</td>\n",
       "      <td>1.337950e+04</td>\n",
       "      <td>228.000000</td>\n",
       "      <td>2.004451</td>\n",
       "      <td>9.758033e+06</td>\n",
       "      <td>4.731962e+10</td>\n",
       "      <td>14747.947505</td>\n",
       "      <td>21.850000</td>\n",
       "      <td>0.002313</td>\n",
       "      <td>0.000038</td>\n",
       "    </tr>\n",
       "    <tr>\n",
       "      <th>75%</th>\n",
       "      <td>204.487818</td>\n",
       "      <td>7.642675e+04</td>\n",
       "      <td>1450.000000</td>\n",
       "      <td>3.071983</td>\n",
       "      <td>3.040490e+07</td>\n",
       "      <td>2.619210e+11</td>\n",
       "      <td>32413.601215</td>\n",
       "      <td>25.325000</td>\n",
       "      <td>0.006527</td>\n",
       "      <td>0.000135</td>\n",
       "    </tr>\n",
       "    <tr>\n",
       "      <th>max</th>\n",
       "      <td>7952.998418</td>\n",
       "      <td>7.078039e+06</td>\n",
       "      <td>204486.000000</td>\n",
       "      <td>28.916256</td>\n",
       "      <td>1.397715e+09</td>\n",
       "      <td>2.137440e+13</td>\n",
       "      <td>121292.739300</td>\n",
       "      <td>28.290000</td>\n",
       "      <td>0.044084</td>\n",
       "      <td>0.001240</td>\n",
       "    </tr>\n",
       "  </tbody>\n",
       "</table>\n",
       "</div>"
      ],
      "text/plain": [
       "       PopDensity_2018  Confirmed Cases         Deaths  Mortality Rate  \\\n",
       "count       178.000000     1.820000e+02     182.000000      182.000000   \n",
       "mean        209.578681     1.798681e+05    5453.186813        2.552053   \n",
       "std         642.276577     7.728216e+05   21079.533796        2.807438   \n",
       "min           2.040609     1.900000e+01       0.000000        0.000000   \n",
       "25%          37.143092     2.930250e+03      50.000000        1.063698   \n",
       "50%          83.949492     1.337950e+04     228.000000        2.004451   \n",
       "75%         204.487818     7.642675e+04    1450.000000        3.071983   \n",
       "max        7952.998418     7.078039e+06  204486.000000       28.916256   \n",
       "\n",
       "       Population_2019      GDP_2019  GDP_per_cap_2019    Avg Temp  \\\n",
       "count     1.820000e+02  1.690000e+02        168.000000  179.000000   \n",
       "mean      4.176762e+07  5.037484e+11      22175.663497   18.511117   \n",
       "std       1.494774e+08  2.060972e+12      22028.464791    8.179984   \n",
       "min       3.386000e+04  4.290166e+08        782.816589   -5.100000   \n",
       "25%       2.689939e+06  1.282700e+10       5398.131919   10.625000   \n",
       "50%       9.758033e+06  4.731962e+10      14747.947505   21.850000   \n",
       "75%       3.040490e+07  2.619210e+11      32413.601215   25.325000   \n",
       "max       1.397715e+09  2.137440e+13     121292.739300   28.290000   \n",
       "\n",
       "       Normalized Cases  Normalized Deaths  \n",
       "count        182.000000         182.000000  \n",
       "mean           0.005142           0.000126  \n",
       "std            0.007289           0.000208  \n",
       "min            0.000003           0.000000  \n",
       "25%            0.000540           0.000008  \n",
       "50%            0.002313           0.000038  \n",
       "75%            0.006527           0.000135  \n",
       "max            0.044084           0.001240  "
      ]
     },
     "execution_count": 75,
     "metadata": {},
     "output_type": "execute_result"
    }
   ],
   "source": [
    "df.describe()"
   ]
  },
  {
   "cell_type": "code",
   "execution_count": 76,
   "id": "6621c887",
   "metadata": {},
   "outputs": [
    {
     "data": {
      "text/plain": [
       "Country Code  TableName    IncomeGroup          PopDensity_2018  Confirmed Cases  Deaths  Mortality Rate  Population_2019  GDP_2019      GDP_per_cap_2019  Main Leader Gender  Any Leader Gender  Avg Temp  Normalized Cases  Normalized Deaths\n",
       "AFG           Afghanistan  Low income           56.937760        39192            1453    3.707389        38041754         1.910135e+10  2293.551684       M                   M                   12.60    0.001030          0.000038             1\n",
       "MLT           Malta        High income          1514.468750      2958             31      1.048005        502653           1.478616e+10  45651.575000      M                   M                   19.20    0.005885          0.000062             1\n",
       "MNE           Montenegro   Upper middle income  46.262230        10197            158     1.549475        622137           5.494737e+09  22988.680200      M                   M                   10.55    0.016390          0.000254             1\n",
       "MNG           Mongolia     Lower middle income  2.040609         313              0       0.000000        3225167          1.385285e+10  12819.948580      M                   M                  -0.70     0.000097          0.000000             1\n",
       "MOZ           Mozambique   Low income           37.508535        7757             54      0.696145        30366036         1.493416e+10  1333.518167       M                   M                   23.80    0.000255          0.000002             1\n",
       "                                                                                                                                                                                                                                                  ..\n",
       "GEO           Georgia      Upper middle income  65.197330        4960             28      0.564516        3720382          1.774320e+10  15636.553760      M                   F                   5.80     0.001333          0.000008             1\n",
       "GHA           Ghana        Lower middle income  130.821429       46222            299     0.646878        30417856         6.698363e+10  5636.953910       M                   M                   27.20    0.001520          0.000010             1\n",
       "GIN           Guinea       Low income           50.522212        10512            65      0.618341        12771246         1.359028e+10  2670.308947       M                   M                   25.70    0.000823          0.000005             1\n",
       "GMB           Gambia, The  Low income           225.306522       3555             110     3.094233        2347706          1.763819e+09  2298.378173       M                   M                   27.50    0.001514          0.000047             1\n",
       "ZWE           Zimbabwe     Lower middle income  37.324591        7803             227     2.909138        14645468         2.144076e+10  2953.484113       M                   M                   21.00    0.000533          0.000016             1\n",
       "Length: 166, dtype: int64"
      ]
     },
     "execution_count": 76,
     "metadata": {},
     "output_type": "execute_result"
    }
   ],
   "source": [
    "df.value_counts()"
   ]
  },
  {
   "cell_type": "code",
   "execution_count": 77,
   "id": "18cea8cd",
   "metadata": {},
   "outputs": [
    {
     "data": {
      "image/png": "[encoded data removed]",
      "text/plain": [
       "<Figure size 432x288 with 1 Axes>"
      ]
     },
     "metadata": {
      "needs_background": "light"
     },
     "output_type": "display_data"
    }
   ],
   "source": [
    "df.Deaths.hist(bins = 30);"
   ]
  },
  {
   "cell_type": "code",
   "execution_count": 78,
   "id": "d1cf8dfb",
   "metadata": {},
   "outputs": [
    {
     "data": {
      "image/png": "[encoded data removed]",
      "text/plain": [
       "<Figure size 432x288 with 1 Axes>"
      ]
     },
     "metadata": {
      "needs_background": "light"
     },
     "output_type": "display_data"
    }
   ],
   "source": [
    "df.GDP_2019.hist(bins=30);"
   ]
  },
  {
   "cell_type": "code",
   "execution_count": 79,
   "id": "cd8b8b76",
   "metadata": {},
   "outputs": [
    {
     "data": {
      "image/png": "[encoded data removed]",
      "text/plain": [
       "<Figure size 432x288 with 1 Axes>"
      ]
     },
     "metadata": {
      "needs_background": "light"
     },
     "output_type": "display_data"
    }
   ],
   "source": [
    "df.GDP_2019.hist();"
   ]
  },
  {
   "cell_type": "code",
   "execution_count": 80,
   "id": "667ac8f2",
   "metadata": {},
   "outputs": [
    {
     "data": {
      "image/png": "[encoded data removed]",
      "text/plain": [
       "<Figure size 432x288 with 1 Axes>"
      ]
     },
     "metadata": {
      "needs_background": "light"
     },
     "output_type": "display_data"
    }
   ],
   "source": [
    "df.Population_2019.hist(bins=30);"
   ]
  },
  {
   "cell_type": "code",
   "execution_count": 81,
   "id": "1fdd2c85",
   "metadata": {},
   "outputs": [
    {
     "data": {
      "image/png": "[encoded data removed]",
      "text/plain": [
       "<Figure size 432x288 with 1 Axes>"
      ]
     },
     "metadata": {
      "needs_background": "light"
     },
     "output_type": "display_data"
    }
   ],
   "source": [
    "df.GDP_per_cap_2019.hist(bins=10);"
   ]
  },
  {
   "cell_type": "code",
   "execution_count": 82,
   "id": "f2f5b1b5",
   "metadata": {},
   "outputs": [
    {
     "data": {
      "image/png": "[encoded data removed]",
      "text/plain": [
       "<Figure size 432x288 with 1 Axes>"
      ]
     },
     "metadata": {
      "needs_background": "light"
     },
     "output_type": "display_data"
    }
   ],
   "source": [
    "df.Population_2019.hist(bins=30);"
   ]
  },
  {
   "cell_type": "markdown",
   "id": "e52c9690",
   "metadata": {},
   "source": [
    "# Probability Distributions\n",
    "#### Data generating Process(DGP);\n",
    "(Take me through the process and convince me about what you discovered) gives the idea of probability distribution\n",
    "\n",
    "## Probability Distribution;\n",
    "(PDF)how did you aquire te data ie share the questionaire\n",
    "Describe the data \n",
    "Key interest/variable(why)\n",
    "Relationship(how does it come about)\n",
    "All these lead us to thinking about te following distrubutions\n",
    "1. Normal/ gausian: Most common\n",
    "2.poison\n",
    "3.uniform\n",
    "4.Geonemetry\n",
    "#### Probability comes in away that it leads to wonder forexemple whats the probability taht the goats are real(ref to the goats that were in atree)\n",
    "###### Different distributions derive different meaning from the data\n",
    "# NB\n",
    "-Data Process\n",
    "-Distribution used\n",
    "-Chance of occurrence"
   ]
  },
  {
   "cell_type": "markdown",
   "id": "9ec76e5f",
   "metadata": {},
   "source": [
    "value = [1,2,3,4,5,6]\n",
    "probability =[1/6,1/6/1/6,1/6,1/6,1/6]\n",
    "# Empirical\n",
    "distribution based on data"
   ]
  },
  {
   "cell_type": "code",
   "execution_count": 83,
   "id": "67ad64e9",
   "metadata": {},
   "outputs": [
    {
     "name": "stdout",
     "output_type": "stream",
     "text": [
      "Requirement already satisfied: empiricaldist in c:\\users\\pc\\appdata\\local\\programs\\python\\python310\\lib\\site-packages (0.6.7)\n",
      "Note: you may need to restart the kernel to use updated packages.\n"
     ]
    }
   ],
   "source": [
    "pip install empiricaldist"
   ]
  },
  {
   "cell_type": "code",
   "execution_count": 84,
   "id": "badd66c3",
   "metadata": {},
   "outputs": [],
   "source": [
    "from empiricaldist import Pmf"
   ]
  },
  {
   "cell_type": "code",
   "execution_count": 85,
   "id": "69be5349",
   "metadata": {},
   "outputs": [
    {
     "data": {
      "text/html": [
       "<div>\n",
       "<style scoped>\n",
       "    .dataframe tbody tr th:only-of-type {\n",
       "        vertical-align: middle;\n",
       "    }\n",
       "\n",
       "    .dataframe tbody tr th {\n",
       "        vertical-align: top;\n",
       "    }\n",
       "\n",
       "    .dataframe thead th {\n",
       "        text-align: right;\n",
       "    }\n",
       "</style>\n",
       "<table border=\"1\" class=\"dataframe\">\n",
       "  <thead>\n",
       "    <tr style=\"text-align: right;\">\n",
       "      <th></th>\n",
       "      <th>probs</th>\n",
       "    </tr>\n",
       "  </thead>\n",
       "  <tbody>\n",
       "    <tr>\n",
       "      <th>1</th>\n",
       "      <td>0.166667</td>\n",
       "    </tr>\n",
       "    <tr>\n",
       "      <th>2</th>\n",
       "      <td>0.166667</td>\n",
       "    </tr>\n",
       "    <tr>\n",
       "      <th>3</th>\n",
       "      <td>0.166667</td>\n",
       "    </tr>\n",
       "    <tr>\n",
       "      <th>4</th>\n",
       "      <td>0.166667</td>\n",
       "    </tr>\n",
       "    <tr>\n",
       "      <th>5</th>\n",
       "      <td>0.166667</td>\n",
       "    </tr>\n",
       "    <tr>\n",
       "      <th>6</th>\n",
       "      <td>0.166667</td>\n",
       "    </tr>\n",
       "  </tbody>\n",
       "</table>\n",
       "</div>"
      ],
      "text/plain": [
       "1    0.166667\n",
       "2    0.166667\n",
       "3    0.166667\n",
       "4    0.166667\n",
       "5    0.166667\n",
       "6    0.166667\n",
       "Name: , dtype: float64"
      ]
     },
     "execution_count": 85,
     "metadata": {},
     "output_type": "execute_result"
    }
   ],
   "source": [
    "outcome = [1,2,3,4,5,6]\n",
    "die =Pmf(1/6,outcome)\n",
    "die"
   ]
  },
  {
   "cell_type": "markdown",
   "id": "346f236f",
   "metadata": {},
   "source": [
    "Gss survey\n",
    "it was generated in 1972\n",
    "Gss eplorer=> Gss tool\n",
    "## file formats\n",
    "csv\n",
    "xml\n",
    "R\n",
    "xlsx\n",
    "sav\n",
    "doc\n",
    "txt"
   ]
  },
  {
   "cell_type": "code",
   "execution_count": 86,
   "id": "8098e81a",
   "metadata": {},
   "outputs": [
    {
     "ename": "SyntaxError",
     "evalue": "invalid syntax (2178969467.py, line 2)",
     "output_type": "error",
     "traceback": [
      "\u001b[1;36m  Input \u001b[1;32mIn [86]\u001b[1;36m\u001b[0m\n\u001b[1;33m    pip install statadict\u001b[0m\n\u001b[1;37m        ^\u001b[0m\n\u001b[1;31mSyntaxError\u001b[0m\u001b[1;31m:\u001b[0m invalid syntax\n"
     ]
    }
   ],
   "source": [
    "#library for reading data dictionaries\n",
    "pip install statadict"
   ]
  },
  {
   "cell_type": "code",
   "execution_count": 87,
   "id": "82bb7fc6",
   "metadata": {},
   "outputs": [],
   "source": [
    "dict_file = \"Gss.dict\""
   ]
  },
  {
   "cell_type": "code",
   "execution_count": 88,
   "id": "a702be8d",
   "metadata": {},
   "outputs": [],
   "source": [
    "data_file = \"Gss.data.gz\""
   ]
  },
  {
   "cell_type": "code",
   "execution_count": 89,
   "id": "9b9b052f",
   "metadata": {},
   "outputs": [
    {
     "ename": "ImportError",
     "evalue": "cannot import name 'stataDic' from 'statadict' (C:\\Users\\pc\\AppData\\Local\\Programs\\Python\\Python310\\lib\\site-packages\\statadict\\__init__.py)",
     "output_type": "error",
     "traceback": [
      "\u001b[1;31m---------------------------------------------------------------------------\u001b[0m",
      "\u001b[1;31mImportError\u001b[0m                               Traceback (most recent call last)",
      "Input \u001b[1;32mIn [89]\u001b[0m, in \u001b[0;36m<cell line: 1>\u001b[1;34m()\u001b[0m\n\u001b[1;32m----> 1\u001b[0m \u001b[38;5;28;01mfrom\u001b[39;00m \u001b[38;5;21;01mstatadict\u001b[39;00m \u001b[38;5;28;01mimport\u001b[39;00m stataDic\n\u001b[0;32m      2\u001b[0m stata_dict \u001b[38;5;241m=\u001b[39m parse_stata_dict(dict_file)\n",
      "\u001b[1;31mImportError\u001b[0m: cannot import name 'stataDic' from 'statadict' (C:\\Users\\pc\\AppData\\Local\\Programs\\Python\\Python310\\lib\\site-packages\\statadict\\__init__.py)"
     ]
    }
   ],
   "source": [
    "from statadict import stataDic\n",
    "stata_dict = parse_stata_dict(dict_file)\n"
   ]
  },
  {
   "cell_type": "code",
   "execution_count": 90,
   "id": "ed7d41fc",
   "metadata": {},
   "outputs": [
    {
     "name": "stdout",
     "output_type": "stream",
     "text": [
      "Note: you may need to restart the kernel to use updated packages.\n"
     ]
    },
    {
     "name": "stderr",
     "output_type": "stream",
     "text": [
      "ERROR: Could not find a version that satisfies the requirement gzip (from versions: none)\n",
      "ERROR: No matching distribution found for gzip\n"
     ]
    }
   ],
   "source": [
    "pip install gzip"
   ]
  },
  {
   "cell_type": "code",
   "execution_count": 91,
   "id": "07b462fd",
   "metadata": {},
   "outputs": [],
   "source": [
    "import pandas as pd\n"
   ]
  },
  {
   "cell_type": "code",
   "execution_count": 92,
   "id": "994d005f",
   "metadata": {},
   "outputs": [
    {
     "data": {
      "text/html": [
       "<div>\n",
       "<style scoped>\n",
       "    .dataframe tbody tr th:only-of-type {\n",
       "        vertical-align: middle;\n",
       "    }\n",
       "\n",
       "    .dataframe tbody tr th {\n",
       "        vertical-align: top;\n",
       "    }\n",
       "\n",
       "    .dataframe thead th {\n",
       "        text-align: right;\n",
       "    }\n",
       "</style>\n",
       "<table border=\"1\" class=\"dataframe\">\n",
       "  <thead>\n",
       "    <tr style=\"text-align: right;\">\n",
       "      <th></th>\n",
       "      <th>Country Code</th>\n",
       "      <th>TableName</th>\n",
       "      <th>IncomeGroup</th>\n",
       "      <th>PopDensity_2018</th>\n",
       "      <th>Confirmed Cases</th>\n",
       "      <th>Deaths</th>\n",
       "      <th>Mortality Rate</th>\n",
       "      <th>Population_2019</th>\n",
       "      <th>GDP_2019</th>\n",
       "      <th>GDP_per_cap_2019</th>\n",
       "      <th>Main Leader Gender</th>\n",
       "      <th>Any Leader Gender</th>\n",
       "      <th>Avg Temp</th>\n",
       "      <th>Normalized Cases</th>\n",
       "      <th>Normalized Deaths</th>\n",
       "    </tr>\n",
       "  </thead>\n",
       "  <tbody>\n",
       "    <tr>\n",
       "      <th>0</th>\n",
       "      <td>AFG</td>\n",
       "      <td>Afghanistan</td>\n",
       "      <td>Low income</td>\n",
       "      <td>56.937760</td>\n",
       "      <td>39192</td>\n",
       "      <td>1453</td>\n",
       "      <td>3.707389</td>\n",
       "      <td>38041754</td>\n",
       "      <td>1.910135e+10</td>\n",
       "      <td>2293.551684</td>\n",
       "      <td>M</td>\n",
       "      <td>M</td>\n",
       "      <td>12.60</td>\n",
       "      <td>0.001030</td>\n",
       "      <td>3.820000e-05</td>\n",
       "    </tr>\n",
       "    <tr>\n",
       "      <th>1</th>\n",
       "      <td>AGO</td>\n",
       "      <td>Angola</td>\n",
       "      <td>Lower middle income</td>\n",
       "      <td>24.713052</td>\n",
       "      <td>4672</td>\n",
       "      <td>171</td>\n",
       "      <td>3.660103</td>\n",
       "      <td>31825295</td>\n",
       "      <td>9.463542e+10</td>\n",
       "      <td>6929.678158</td>\n",
       "      <td>M</td>\n",
       "      <td>M</td>\n",
       "      <td>21.55</td>\n",
       "      <td>0.000147</td>\n",
       "      <td>5.370000e-06</td>\n",
       "    </tr>\n",
       "    <tr>\n",
       "      <th>2</th>\n",
       "      <td>ALB</td>\n",
       "      <td>Albania</td>\n",
       "      <td>Upper middle income</td>\n",
       "      <td>104.612263</td>\n",
       "      <td>13153</td>\n",
       "      <td>375</td>\n",
       "      <td>2.851061</td>\n",
       "      <td>2854191</td>\n",
       "      <td>1.527808e+10</td>\n",
       "      <td>14495.078510</td>\n",
       "      <td>M</td>\n",
       "      <td>M</td>\n",
       "      <td>11.40</td>\n",
       "      <td>0.004608</td>\n",
       "      <td>1.313860e-04</td>\n",
       "    </tr>\n",
       "    <tr>\n",
       "      <th>3</th>\n",
       "      <td>AND</td>\n",
       "      <td>Andorra</td>\n",
       "      <td>High income</td>\n",
       "      <td>163.842553</td>\n",
       "      <td>1836</td>\n",
       "      <td>53</td>\n",
       "      <td>2.886710</td>\n",
       "      <td>77142</td>\n",
       "      <td>3.154058e+09</td>\n",
       "      <td>NaN</td>\n",
       "      <td>M</td>\n",
       "      <td>M</td>\n",
       "      <td>7.60</td>\n",
       "      <td>0.023800</td>\n",
       "      <td>6.870450e-04</td>\n",
       "    </tr>\n",
       "    <tr>\n",
       "      <th>4</th>\n",
       "      <td>ARE</td>\n",
       "      <td>United Arab Emirates</td>\n",
       "      <td>High income</td>\n",
       "      <td>135.609110</td>\n",
       "      <td>90618</td>\n",
       "      <td>411</td>\n",
       "      <td>0.453552</td>\n",
       "      <td>9770529</td>\n",
       "      <td>4.211420e+11</td>\n",
       "      <td>69900.877850</td>\n",
       "      <td>M</td>\n",
       "      <td>M</td>\n",
       "      <td>27.00</td>\n",
       "      <td>0.009275</td>\n",
       "      <td>4.210000e-05</td>\n",
       "    </tr>\n",
       "    <tr>\n",
       "      <th>...</th>\n",
       "      <td>...</td>\n",
       "      <td>...</td>\n",
       "      <td>...</td>\n",
       "      <td>...</td>\n",
       "      <td>...</td>\n",
       "      <td>...</td>\n",
       "      <td>...</td>\n",
       "      <td>...</td>\n",
       "      <td>...</td>\n",
       "      <td>...</td>\n",
       "      <td>...</td>\n",
       "      <td>...</td>\n",
       "      <td>...</td>\n",
       "      <td>...</td>\n",
       "      <td>...</td>\n",
       "    </tr>\n",
       "    <tr>\n",
       "      <th>177</th>\n",
       "      <td>VNM</td>\n",
       "      <td>Vietnam</td>\n",
       "      <td>Lower middle income</td>\n",
       "      <td>308.125246</td>\n",
       "      <td>1069</td>\n",
       "      <td>35</td>\n",
       "      <td>3.274088</td>\n",
       "      <td>96462106</td>\n",
       "      <td>2.619210e+11</td>\n",
       "      <td>8374.444328</td>\n",
       "      <td>M</td>\n",
       "      <td>M</td>\n",
       "      <td>24.45</td>\n",
       "      <td>0.000011</td>\n",
       "      <td>3.630000e-07</td>\n",
       "    </tr>\n",
       "    <tr>\n",
       "      <th>178</th>\n",
       "      <td>YEM</td>\n",
       "      <td>Yemen, Rep.</td>\n",
       "      <td>Low income</td>\n",
       "      <td>53.977853</td>\n",
       "      <td>2030</td>\n",
       "      <td>587</td>\n",
       "      <td>28.916256</td>\n",
       "      <td>29161922</td>\n",
       "      <td>NaN</td>\n",
       "      <td>NaN</td>\n",
       "      <td>M</td>\n",
       "      <td>M</td>\n",
       "      <td>23.85</td>\n",
       "      <td>0.000070</td>\n",
       "      <td>2.010000e-05</td>\n",
       "    </tr>\n",
       "    <tr>\n",
       "      <th>179</th>\n",
       "      <td>ZAF</td>\n",
       "      <td>South Africa</td>\n",
       "      <td>Upper middle income</td>\n",
       "      <td>47.630120</td>\n",
       "      <td>669498</td>\n",
       "      <td>16376</td>\n",
       "      <td>2.446012</td>\n",
       "      <td>58558270</td>\n",
       "      <td>3.514320e+11</td>\n",
       "      <td>12999.120260</td>\n",
       "      <td>M</td>\n",
       "      <td>M</td>\n",
       "      <td>17.75</td>\n",
       "      <td>0.011433</td>\n",
       "      <td>2.796530e-04</td>\n",
       "    </tr>\n",
       "    <tr>\n",
       "      <th>180</th>\n",
       "      <td>ZMB</td>\n",
       "      <td>Zambia</td>\n",
       "      <td>Lower middle income</td>\n",
       "      <td>23.341479</td>\n",
       "      <td>14612</td>\n",
       "      <td>332</td>\n",
       "      <td>2.272105</td>\n",
       "      <td>17861030</td>\n",
       "      <td>2.306472e+10</td>\n",
       "      <td>3623.699395</td>\n",
       "      <td>M</td>\n",
       "      <td>M</td>\n",
       "      <td>21.40</td>\n",
       "      <td>0.000818</td>\n",
       "      <td>1.860000e-05</td>\n",
       "    </tr>\n",
       "    <tr>\n",
       "      <th>181</th>\n",
       "      <td>ZWE</td>\n",
       "      <td>Zimbabwe</td>\n",
       "      <td>Lower middle income</td>\n",
       "      <td>37.324591</td>\n",
       "      <td>7803</td>\n",
       "      <td>227</td>\n",
       "      <td>2.909138</td>\n",
       "      <td>14645468</td>\n",
       "      <td>2.144076e+10</td>\n",
       "      <td>2953.484113</td>\n",
       "      <td>M</td>\n",
       "      <td>M</td>\n",
       "      <td>21.00</td>\n",
       "      <td>0.000533</td>\n",
       "      <td>1.550000e-05</td>\n",
       "    </tr>\n",
       "  </tbody>\n",
       "</table>\n",
       "<p>182 rows × 15 columns</p>\n",
       "</div>"
      ],
      "text/plain": [
       "    Country Code             TableName          IncomeGroup  PopDensity_2018  \\\n",
       "0            AFG           Afghanistan           Low income        56.937760   \n",
       "1            AGO                Angola  Lower middle income        24.713052   \n",
       "2            ALB               Albania  Upper middle income       104.612263   \n",
       "3            AND               Andorra          High income       163.842553   \n",
       "4            ARE  United Arab Emirates          High income       135.609110   \n",
       "..           ...                   ...                  ...              ...   \n",
       "177          VNM               Vietnam  Lower middle income       308.125246   \n",
       "178          YEM           Yemen, Rep.           Low income        53.977853   \n",
       "179          ZAF          South Africa  Upper middle income        47.630120   \n",
       "180          ZMB                Zambia  Lower middle income        23.341479   \n",
       "181          ZWE              Zimbabwe  Lower middle income        37.324591   \n",
       "\n",
       "     Confirmed Cases  Deaths  Mortality Rate  Population_2019      GDP_2019  \\\n",
       "0              39192    1453        3.707389         38041754  1.910135e+10   \n",
       "1               4672     171        3.660103         31825295  9.463542e+10   \n",
       "2              13153     375        2.851061          2854191  1.527808e+10   \n",
       "3               1836      53        2.886710            77142  3.154058e+09   \n",
       "4              90618     411        0.453552          9770529  4.211420e+11   \n",
       "..               ...     ...             ...              ...           ...   \n",
       "177             1069      35        3.274088         96462106  2.619210e+11   \n",
       "178             2030     587       28.916256         29161922           NaN   \n",
       "179           669498   16376        2.446012         58558270  3.514320e+11   \n",
       "180            14612     332        2.272105         17861030  2.306472e+10   \n",
       "181             7803     227        2.909138         14645468  2.144076e+10   \n",
       "\n",
       "     GDP_per_cap_2019 Main Leader Gender Any Leader Gender  Avg Temp  \\\n",
       "0         2293.551684                  M                 M     12.60   \n",
       "1         6929.678158                  M                 M     21.55   \n",
       "2        14495.078510                  M                 M     11.40   \n",
       "3                 NaN                  M                 M      7.60   \n",
       "4        69900.877850                  M                 M     27.00   \n",
       "..                ...                ...               ...       ...   \n",
       "177       8374.444328                  M                 M     24.45   \n",
       "178               NaN                  M                 M     23.85   \n",
       "179      12999.120260                  M                 M     17.75   \n",
       "180       3623.699395                  M                 M     21.40   \n",
       "181       2953.484113                  M                 M     21.00   \n",
       "\n",
       "     Normalized Cases  Normalized Deaths  \n",
       "0            0.001030       3.820000e-05  \n",
       "1            0.000147       5.370000e-06  \n",
       "2            0.004608       1.313860e-04  \n",
       "3            0.023800       6.870450e-04  \n",
       "4            0.009275       4.210000e-05  \n",
       "..                ...                ...  \n",
       "177          0.000011       3.630000e-07  \n",
       "178          0.000070       2.010000e-05  \n",
       "179          0.011433       2.796530e-04  \n",
       "180          0.000818       1.860000e-05  \n",
       "181          0.000533       1.550000e-05  \n",
       "\n",
       "[182 rows x 15 columns]"
      ]
     },
     "execution_count": 92,
     "metadata": {},
     "output_type": "execute_result"
    }
   ],
   "source": [
    "data_frame = pd.read_csv(\"data/unified-data-per-country.csv\")\n",
    "data_frame"
   ]
  },
  {
   "cell_type": "code",
   "execution_count": 93,
   "id": "64455a71",
   "metadata": {},
   "outputs": [
    {
     "data": {
      "text/plain": [
       "Index(['Country Code', 'TableName', 'IncomeGroup', 'PopDensity_2018',\n",
       "       'Confirmed Cases', 'Deaths', 'Mortality Rate', 'Population_2019',\n",
       "       'GDP_2019', 'GDP_per_cap_2019', 'Main Leader Gender',\n",
       "       'Any Leader Gender', 'Avg Temp', 'Normalized Cases',\n",
       "       'Normalized Deaths'],\n",
       "      dtype='object')"
      ]
     },
     "execution_count": 93,
     "metadata": {},
     "output_type": "execute_result"
    }
   ],
   "source": [
    "data_frame.columns"
   ]
  },
  {
   "cell_type": "code",
   "execution_count": 94,
   "id": "82fcc2c6",
   "metadata": {},
   "outputs": [
    {
     "data": {
      "text/plain": [
       "33860         1\n",
       "38019         1\n",
       "38964         1\n",
       "52823         1\n",
       "71808         1\n",
       "             ..\n",
       "216565318     1\n",
       "270625568     1\n",
       "328239523     1\n",
       "1366417754    1\n",
       "1397715000    1\n",
       "Name: Population_2019, Length: 182, dtype: int64"
      ]
     },
     "execution_count": 94,
     "metadata": {},
     "output_type": "execute_result"
    }
   ],
   "source": [
    "data_frame['Population_2019'].value_counts().sort_index()"
   ]
  },
  {
   "cell_type": "code",
   "execution_count": 95,
   "id": "4957ba03",
   "metadata": {},
   "outputs": [
    {
     "data": {
      "text/plain": [
       "38041754    1\n",
       "622137      1\n",
       "30366036    1\n",
       "4525696     1\n",
       "1265711     1\n",
       "           ..\n",
       "30417856    1\n",
       "12771246    1\n",
       "2347706     1\n",
       "1920922     1\n",
       "14645468    1\n",
       "Name: Population_2019, Length: 182, dtype: int64"
      ]
     },
     "execution_count": 95,
     "metadata": {},
     "output_type": "execute_result"
    }
   ],
   "source": [
    "#without Sort_index\n",
    "data_frame['Population_2019'].value_counts()"
   ]
  },
  {
   "cell_type": "code",
   "execution_count": 96,
   "id": "832233eb",
   "metadata": {},
   "outputs": [
    {
     "data": {
      "text/plain": [
       "0      38041754\n",
       "1      31825295\n",
       "2       2854191\n",
       "3         77142\n",
       "4       9770529\n",
       "         ...   \n",
       "177    96462106\n",
       "178    29161922\n",
       "179    58558270\n",
       "180    17861030\n",
       "181    14645468\n",
       "Name: Population_2019, Length: 182, dtype: int64"
      ]
     },
     "execution_count": 96,
     "metadata": {},
     "output_type": "execute_result"
    }
   ],
   "source": [
    "#without Value_count\n",
    "data_frame['Population_2019'].sort_index()"
   ]
  },
  {
   "cell_type": "code",
   "execution_count": 97,
   "id": "aeec62a6",
   "metadata": {},
   "outputs": [],
   "source": [
    "import matplotlib.pyplot as plt"
   ]
  },
  {
   "cell_type": "code",
   "execution_count": 98,
   "id": "df7997d2",
   "metadata": {},
   "outputs": [
    {
     "data": {
      "text/plain": [
       "33860         1\n",
       "38019         1\n",
       "38964         1\n",
       "52823         1\n",
       "71808         1\n",
       "             ..\n",
       "216565318     1\n",
       "270625568     1\n",
       "328239523     1\n",
       "1366417754    1\n",
       "1397715000    1\n",
       "Name: Population_2019, Length: 182, dtype: int64"
      ]
     },
     "execution_count": 98,
     "metadata": {},
     "output_type": "execute_result"
    }
   ],
   "source": [
    "histo = data_frame['Population_2019'].value_counts().sort_index()\n",
    "histo"
   ]
  },
  {
   "cell_type": "code",
   "execution_count": 99,
   "id": "a697b83c",
   "metadata": {},
   "outputs": [
    {
     "data": {
      "image/png": "[encoded data removed]",
      "text/plain": [
       "<Figure size 432x288 with 1 Axes>"
      ]
     },
     "metadata": {
      "needs_background": "light"
     },
     "output_type": "display_data"
    }
   ],
   "source": [
    "data_frame.hist(\"Population_2019\");\n",
    "\n"
   ]
  },
  {
   "cell_type": "code",
   "execution_count": 100,
   "id": "5232b4ad",
   "metadata": {},
   "outputs": [
    {
     "data": {
      "text/html": [
       "<div>\n",
       "<style scoped>\n",
       "    .dataframe tbody tr th:only-of-type {\n",
       "        vertical-align: middle;\n",
       "    }\n",
       "\n",
       "    .dataframe tbody tr th {\n",
       "        vertical-align: top;\n",
       "    }\n",
       "\n",
       "    .dataframe thead th {\n",
       "        text-align: right;\n",
       "    }\n",
       "</style>\n",
       "<table border=\"1\" class=\"dataframe\">\n",
       "  <thead>\n",
       "    <tr style=\"text-align: right;\">\n",
       "      <th></th>\n",
       "      <th>probs</th>\n",
       "    </tr>\n",
       "  </thead>\n",
       "  <tbody>\n",
       "    <tr>\n",
       "      <th>Population_2019</th>\n",
       "      <td>1</td>\n",
       "    </tr>\n",
       "  </tbody>\n",
       "</table>\n",
       "</div>"
      ],
      "text/plain": [
       "Population_2019    1\n",
       "Name: , dtype: int64"
      ]
     },
     "execution_count": 100,
     "metadata": {},
     "output_type": "execute_result"
    }
   ],
   "source": [
    "Pmf_Population_2019 = Pmf.from_seq(\"Population_2019\",normalize = False)\n",
    "Pmf_Population_2019\n"
   ]
  },
  {
   "cell_type": "code",
   "execution_count": 101,
   "id": "37545aeb",
   "metadata": {},
   "outputs": [
    {
     "data": {
      "text/plain": [
       "empiricaldist.empiricaldist.Pmf"
      ]
     },
     "execution_count": 101,
     "metadata": {},
     "output_type": "execute_result"
    }
   ],
   "source": [
    "type(Pmf_Population_2019)"
   ]
  },
  {
   "cell_type": "code",
   "execution_count": 102,
   "id": "ca59420c",
   "metadata": {},
   "outputs": [
    {
     "data": {
      "text/html": [
       "<div>\n",
       "<style scoped>\n",
       "    .dataframe tbody tr th:only-of-type {\n",
       "        vertical-align: middle;\n",
       "    }\n",
       "\n",
       "    .dataframe tbody tr th {\n",
       "        vertical-align: top;\n",
       "    }\n",
       "\n",
       "    .dataframe thead th {\n",
       "        text-align: right;\n",
       "    }\n",
       "</style>\n",
       "<table border=\"1\" class=\"dataframe\">\n",
       "  <thead>\n",
       "    <tr style=\"text-align: right;\">\n",
       "      <th></th>\n",
       "      <th>probs</th>\n",
       "    </tr>\n",
       "  </thead>\n",
       "  <tbody>\n",
       "    <tr>\n",
       "      <th>Population_2019</th>\n",
       "      <td>1</td>\n",
       "    </tr>\n",
       "  </tbody>\n",
       "</table>\n",
       "</div>"
      ],
      "text/plain": [
       "Population_2019    1\n",
       "Name: , dtype: int64"
      ]
     },
     "execution_count": 102,
     "metadata": {},
     "output_type": "execute_result"
    }
   ],
   "source": [
    "Pmf_Population_2019.head()"
   ]
  },
  {
   "cell_type": "code",
   "execution_count": 103,
   "id": "c7c3d005",
   "metadata": {},
   "outputs": [
    {
     "data": {
      "text/html": [
       "<div>\n",
       "<style scoped>\n",
       "    .dataframe tbody tr th:only-of-type {\n",
       "        vertical-align: middle;\n",
       "    }\n",
       "\n",
       "    .dataframe tbody tr th {\n",
       "        vertical-align: top;\n",
       "    }\n",
       "\n",
       "    .dataframe thead th {\n",
       "        text-align: right;\n",
       "    }\n",
       "</style>\n",
       "<table border=\"1\" class=\"dataframe\">\n",
       "  <thead>\n",
       "    <tr style=\"text-align: right;\">\n",
       "      <th></th>\n",
       "      <th>probs</th>\n",
       "    </tr>\n",
       "  </thead>\n",
       "  <tbody>\n",
       "    <tr>\n",
       "      <th>Population_2019</th>\n",
       "      <td>1</td>\n",
       "    </tr>\n",
       "  </tbody>\n",
       "</table>\n",
       "</div>"
      ],
      "text/plain": [
       "Population_2019    1\n",
       "Name: , dtype: int64"
      ]
     },
     "execution_count": 103,
     "metadata": {},
     "output_type": "execute_result"
    }
   ],
   "source": [
    "Pmf_Population_2019.tail()"
   ]
  },
  {
   "cell_type": "code",
   "execution_count": 104,
   "id": "7f0d715e",
   "metadata": {},
   "outputs": [
    {
     "data": {
      "text/html": [
       "<div>\n",
       "<style scoped>\n",
       "    .dataframe tbody tr th:only-of-type {\n",
       "        vertical-align: middle;\n",
       "    }\n",
       "\n",
       "    .dataframe tbody tr th {\n",
       "        vertical-align: top;\n",
       "    }\n",
       "\n",
       "    .dataframe thead th {\n",
       "        text-align: right;\n",
       "    }\n",
       "</style>\n",
       "<table border=\"1\" class=\"dataframe\">\n",
       "  <thead>\n",
       "    <tr style=\"text-align: right;\">\n",
       "      <th></th>\n",
       "      <th>probs</th>\n",
       "    </tr>\n",
       "  </thead>\n",
       "  <tbody>\n",
       "    <tr>\n",
       "      <th>Population_2019</th>\n",
       "      <td>1.0</td>\n",
       "    </tr>\n",
       "  </tbody>\n",
       "</table>\n",
       "</div>"
      ],
      "text/plain": [
       "Population_2019    1.0\n",
       "Name: , dtype: float64"
      ]
     },
     "execution_count": 104,
     "metadata": {},
     "output_type": "execute_result"
    }
   ],
   "source": [
    "Pmf_Population_2019 = Pmf.from_seq(\"Population_2019\",normalize = True)\n",
    "Pmf_Population_2019"
   ]
  },
  {
   "cell_type": "code",
   "execution_count": 105,
   "id": "31b7b7a1",
   "metadata": {},
   "outputs": [
    {
     "data": {
      "text/html": [
       "<div>\n",
       "<style scoped>\n",
       "    .dataframe tbody tr th:only-of-type {\n",
       "        vertical-align: middle;\n",
       "    }\n",
       "\n",
       "    .dataframe tbody tr th {\n",
       "        vertical-align: top;\n",
       "    }\n",
       "\n",
       "    .dataframe thead th {\n",
       "        text-align: right;\n",
       "    }\n",
       "</style>\n",
       "<table border=\"1\" class=\"dataframe\">\n",
       "  <thead>\n",
       "    <tr style=\"text-align: right;\">\n",
       "      <th></th>\n",
       "      <th>probs</th>\n",
       "    </tr>\n",
       "  </thead>\n",
       "  <tbody>\n",
       "    <tr>\n",
       "      <th>Population_2019</th>\n",
       "      <td>1.0</td>\n",
       "    </tr>\n",
       "  </tbody>\n",
       "</table>\n",
       "</div>"
      ],
      "text/plain": [
       "Population_2019    1.0\n",
       "Name: , dtype: float64"
      ]
     },
     "execution_count": 105,
     "metadata": {},
     "output_type": "execute_result"
    }
   ],
   "source": [
    "Pmf_Population_2019.head()"
   ]
  },
  {
   "cell_type": "code",
   "execution_count": 106,
   "id": "033c11fb",
   "metadata": {},
   "outputs": [
    {
     "data": {
      "text/html": [
       "<div>\n",
       "<style scoped>\n",
       "    .dataframe tbody tr th:only-of-type {\n",
       "        vertical-align: middle;\n",
       "    }\n",
       "\n",
       "    .dataframe tbody tr th {\n",
       "        vertical-align: top;\n",
       "    }\n",
       "\n",
       "    .dataframe thead th {\n",
       "        text-align: right;\n",
       "    }\n",
       "</style>\n",
       "<table border=\"1\" class=\"dataframe\">\n",
       "  <thead>\n",
       "    <tr style=\"text-align: right;\">\n",
       "      <th></th>\n",
       "      <th>probs</th>\n",
       "    </tr>\n",
       "  </thead>\n",
       "  <tbody>\n",
       "    <tr>\n",
       "      <th>Population_2019</th>\n",
       "      <td>1.0</td>\n",
       "    </tr>\n",
       "  </tbody>\n",
       "</table>\n",
       "</div>"
      ],
      "text/plain": [
       "Population_2019    1.0\n",
       "Name: , dtype: float64"
      ]
     },
     "execution_count": 106,
     "metadata": {},
     "output_type": "execute_result"
    }
   ],
   "source": [
    "Pmf_Population_2019.tail()"
   ]
  },
  {
   "cell_type": "code",
   "execution_count": 107,
   "id": "28446705",
   "metadata": {},
   "outputs": [
    {
     "data": {
      "text/html": [
       "<div>\n",
       "<style scoped>\n",
       "    .dataframe tbody tr th:only-of-type {\n",
       "        vertical-align: middle;\n",
       "    }\n",
       "\n",
       "    .dataframe tbody tr th {\n",
       "        vertical-align: top;\n",
       "    }\n",
       "\n",
       "    .dataframe thead th {\n",
       "        text-align: right;\n",
       "    }\n",
       "</style>\n",
       "<table border=\"1\" class=\"dataframe\">\n",
       "  <thead>\n",
       "    <tr style=\"text-align: right;\">\n",
       "      <th></th>\n",
       "      <th>probs</th>\n",
       "    </tr>\n",
       "  </thead>\n",
       "  <tbody>\n",
       "    <tr>\n",
       "      <th>Normalized Cases</th>\n",
       "      <td>1.0</td>\n",
       "    </tr>\n",
       "  </tbody>\n",
       "</table>\n",
       "</div>"
      ],
      "text/plain": [
       "Normalized Cases    1.0\n",
       "Name: , dtype: float64"
      ]
     },
     "execution_count": 107,
     "metadata": {},
     "output_type": "execute_result"
    }
   ],
   "source": [
    "Pmf_Normalized_cases = Pmf.from_seq(\"Normalized Cases\",normalize = True)\n",
    "Pmf_Normalized_cases"
   ]
  },
  {
   "cell_type": "code",
   "execution_count": 108,
   "id": "6c2bcc85",
   "metadata": {},
   "outputs": [
    {
     "data": {
      "text/html": [
       "<div>\n",
       "<style scoped>\n",
       "    .dataframe tbody tr th:only-of-type {\n",
       "        vertical-align: middle;\n",
       "    }\n",
       "\n",
       "    .dataframe tbody tr th {\n",
       "        vertical-align: top;\n",
       "    }\n",
       "\n",
       "    .dataframe thead th {\n",
       "        text-align: right;\n",
       "    }\n",
       "</style>\n",
       "<table border=\"1\" class=\"dataframe\">\n",
       "  <thead>\n",
       "    <tr style=\"text-align: right;\">\n",
       "      <th></th>\n",
       "      <th>probs</th>\n",
       "    </tr>\n",
       "  </thead>\n",
       "  <tbody>\n",
       "    <tr>\n",
       "      <th>Normalized Cases</th>\n",
       "      <td>1</td>\n",
       "    </tr>\n",
       "  </tbody>\n",
       "</table>\n",
       "</div>"
      ],
      "text/plain": [
       "Normalized Cases    1\n",
       "Name: , dtype: int64"
      ]
     },
     "execution_count": 108,
     "metadata": {},
     "output_type": "execute_result"
    }
   ],
   "source": [
    "Pmf_Normalized_cases = Pmf.from_seq(\"Normalized Cases\",normalize = False)\n",
    "Pmf_Normalized_cases"
   ]
  },
  {
   "cell_type": "code",
   "execution_count": 109,
   "id": "d4584ebc",
   "metadata": {},
   "outputs": [
    {
     "data": {
      "text/plain": [
       "empiricaldist.empiricaldist.Pmf"
      ]
     },
     "execution_count": 109,
     "metadata": {},
     "output_type": "execute_result"
    }
   ],
   "source": [
    "type(Pmf_Normalized_cases)"
   ]
  },
  {
   "cell_type": "code",
   "execution_count": 110,
   "id": "752ca48a",
   "metadata": {},
   "outputs": [
    {
     "data": {
      "text/html": [
       "<div>\n",
       "<style scoped>\n",
       "    .dataframe tbody tr th:only-of-type {\n",
       "        vertical-align: middle;\n",
       "    }\n",
       "\n",
       "    .dataframe tbody tr th {\n",
       "        vertical-align: top;\n",
       "    }\n",
       "\n",
       "    .dataframe thead th {\n",
       "        text-align: right;\n",
       "    }\n",
       "</style>\n",
       "<table border=\"1\" class=\"dataframe\">\n",
       "  <thead>\n",
       "    <tr style=\"text-align: right;\">\n",
       "      <th></th>\n",
       "      <th>probs</th>\n",
       "    </tr>\n",
       "  </thead>\n",
       "  <tbody>\n",
       "    <tr>\n",
       "      <th>Normalized Cases</th>\n",
       "      <td>1</td>\n",
       "    </tr>\n",
       "  </tbody>\n",
       "</table>\n",
       "</div>"
      ],
      "text/plain": [
       "Normalized Cases    1\n",
       "Name: , dtype: int64"
      ]
     },
     "execution_count": 110,
     "metadata": {},
     "output_type": "execute_result"
    }
   ],
   "source": [
    "Pmf_Normalized_cases.head()"
   ]
  },
  {
   "cell_type": "code",
   "execution_count": 111,
   "id": "90a497b8",
   "metadata": {},
   "outputs": [
    {
     "data": {
      "text/html": [
       "<div>\n",
       "<style scoped>\n",
       "    .dataframe tbody tr th:only-of-type {\n",
       "        vertical-align: middle;\n",
       "    }\n",
       "\n",
       "    .dataframe tbody tr th {\n",
       "        vertical-align: top;\n",
       "    }\n",
       "\n",
       "    .dataframe thead th {\n",
       "        text-align: right;\n",
       "    }\n",
       "</style>\n",
       "<table border=\"1\" class=\"dataframe\">\n",
       "  <thead>\n",
       "    <tr style=\"text-align: right;\">\n",
       "      <th></th>\n",
       "      <th>probs</th>\n",
       "    </tr>\n",
       "  </thead>\n",
       "  <tbody>\n",
       "    <tr>\n",
       "      <th>Normalized Cases</th>\n",
       "      <td>1</td>\n",
       "    </tr>\n",
       "  </tbody>\n",
       "</table>\n",
       "</div>"
      ],
      "text/plain": [
       "Normalized Cases    1\n",
       "Name: , dtype: int64"
      ]
     },
     "execution_count": 111,
     "metadata": {},
     "output_type": "execute_result"
    }
   ],
   "source": [
    "Pmf_Normalized_cases.tail()"
   ]
  },
  {
   "cell_type": "code",
   "execution_count": 112,
   "id": "906fe139",
   "metadata": {},
   "outputs": [
    {
     "data": {
      "text/html": [
       "<div>\n",
       "<style scoped>\n",
       "    .dataframe tbody tr th:only-of-type {\n",
       "        vertical-align: middle;\n",
       "    }\n",
       "\n",
       "    .dataframe tbody tr th {\n",
       "        vertical-align: top;\n",
       "    }\n",
       "\n",
       "    .dataframe thead th {\n",
       "        text-align: right;\n",
       "    }\n",
       "</style>\n",
       "<table border=\"1\" class=\"dataframe\">\n",
       "  <thead>\n",
       "    <tr style=\"text-align: right;\">\n",
       "      <th></th>\n",
       "      <th>probs</th>\n",
       "    </tr>\n",
       "  </thead>\n",
       "  <tbody>\n",
       "    <tr>\n",
       "      <th>Deaths</th>\n",
       "      <td>1</td>\n",
       "    </tr>\n",
       "  </tbody>\n",
       "</table>\n",
       "</div>"
      ],
      "text/plain": [
       "Deaths    1\n",
       "Name: , dtype: int64"
      ]
     },
     "execution_count": 112,
     "metadata": {},
     "output_type": "execute_result"
    }
   ],
   "source": [
    "Pmf_Deaths = Pmf.from_seq(\"Deaths\",normalize = False)\n",
    "Pmf_Deaths"
   ]
  },
  {
   "cell_type": "code",
   "execution_count": 113,
   "id": "ad247b25",
   "metadata": {},
   "outputs": [
    {
     "data": {
      "text/html": [
       "<div>\n",
       "<style scoped>\n",
       "    .dataframe tbody tr th:only-of-type {\n",
       "        vertical-align: middle;\n",
       "    }\n",
       "\n",
       "    .dataframe tbody tr th {\n",
       "        vertical-align: top;\n",
       "    }\n",
       "\n",
       "    .dataframe thead th {\n",
       "        text-align: right;\n",
       "    }\n",
       "</style>\n",
       "<table border=\"1\" class=\"dataframe\">\n",
       "  <thead>\n",
       "    <tr style=\"text-align: right;\">\n",
       "      <th></th>\n",
       "      <th>probs</th>\n",
       "    </tr>\n",
       "  </thead>\n",
       "  <tbody>\n",
       "    <tr>\n",
       "      <th>Deaths</th>\n",
       "      <td>1.0</td>\n",
       "    </tr>\n",
       "  </tbody>\n",
       "</table>\n",
       "</div>"
      ],
      "text/plain": [
       "Deaths    1.0\n",
       "Name: , dtype: float64"
      ]
     },
     "execution_count": 113,
     "metadata": {},
     "output_type": "execute_result"
    }
   ],
   "source": [
    "Pmf_Deaths = Pmf.from_seq(\"Deaths\",normalize = True)\n",
    "Pmf_Deaths"
   ]
  },
  {
   "cell_type": "markdown",
   "id": "450745ed",
   "metadata": {},
   "source": [
    "# Modeling Distributions"
   ]
  },
  {
   "cell_type": "code",
   "execution_count": 114,
   "id": "f898fe43",
   "metadata": {},
   "outputs": [],
   "source": [
    "import numpy as np"
   ]
  },
  {
   "cell_type": "code",
   "execution_count": 115,
   "id": "9f291e07",
   "metadata": {},
   "outputs": [
    {
     "data": {
      "text/plain": [
       "array([ 9.61114720e-01, -1.78600286e+00, -5.30223316e-01,  3.40248926e-01,\n",
       "       -1.40646001e+00, -1.57132495e+00, -1.88768865e+00,  4.70474085e-01,\n",
       "        1.23645680e+00,  5.01489556e-01, -3.17125781e-01, -2.09344353e+00,\n",
       "       -7.73058323e-01, -2.06226084e-01, -1.53717791e+00,  1.52813934e+00,\n",
       "       -8.30318214e-01, -4.95044720e-01,  1.47180737e-01, -8.87706574e-01,\n",
       "       -5.10239809e-01, -9.92968181e-01,  1.10799360e+00, -7.06909231e-01,\n",
       "       -1.82477286e+00, -5.54225601e-01, -1.27085516e+00, -7.76991809e-01,\n",
       "       -7.80047312e-01, -1.21944674e+00,  7.17569716e-01, -4.55063132e-01,\n",
       "        9.23359803e-01,  4.05629906e-01,  5.73430153e-01, -5.00560200e-01,\n",
       "        1.07181078e+00, -1.92066534e+00,  4.01817112e-01, -9.55373408e-01,\n",
       "        1.55910916e+00, -4.10941163e-01,  3.11433738e-01, -3.86260009e-01,\n",
       "        9.01565812e-01,  1.41135806e+00,  6.73611399e-01, -4.26467332e-01,\n",
       "        4.13731548e-01,  7.32005740e-01, -2.69666502e-01,  2.22793052e+00,\n",
       "       -1.80200440e+00,  1.82917025e-01, -1.74318762e-01, -1.84411529e+00,\n",
       "       -1.73886519e+00, -8.65237327e-02,  1.94265962e+00, -1.42391167e+00,\n",
       "        7.48752829e-01,  3.34859008e-01, -1.34896196e+00,  1.03799918e+00,\n",
       "       -4.19140208e-02,  1.29334319e-01,  8.16654430e-01, -1.81600632e+00,\n",
       "       -1.42074762e+00,  2.08034617e+00, -3.82384777e-01, -1.56301187e-01,\n",
       "        1.37534255e+00, -1.09369196e+00, -3.11338187e-03, -2.10315481e-01,\n",
       "       -1.00334996e+00, -1.67975642e+00,  1.45705369e-01,  1.89590073e+00,\n",
       "        8.27891216e-01, -9.49906128e-02, -2.60588690e+00,  1.26930722e+00,\n",
       "        2.28017143e+00, -8.51923462e-01,  3.15965191e-01, -3.73507109e-01,\n",
       "        5.90624191e-01,  1.22224911e+00, -1.76232857e+00, -9.57548966e-01,\n",
       "       -1.07656363e+00, -3.94495462e-01,  3.72871585e-02,  9.01342046e-01,\n",
       "       -1.17222786e+00,  1.51377793e+00, -5.20694644e-01,  1.12969700e+00,\n",
       "       -7.53765786e-01, -2.43484733e-01,  6.71875183e-01,  1.47545312e+00,\n",
       "       -1.35685648e-01, -1.11664074e+00, -8.60365965e-01,  2.61292810e-01,\n",
       "        1.07038856e-02,  1.58808830e-01,  1.05041313e+00, -1.32815162e+00,\n",
       "       -1.43011725e-01,  1.11015332e+00, -5.24811083e-01, -9.84361786e-02,\n",
       "        4.46768153e-01,  9.54563950e-01,  1.16184461e+00,  2.21234450e-01,\n",
       "       -7.52663364e-01, -1.47357246e-01,  1.76757528e+00, -5.29029972e-01,\n",
       "       -1.47009208e+00, -1.57013226e+00,  1.08203750e+00, -6.37496608e-01,\n",
       "        1.03615145e+00,  5.66310792e-01, -1.37784861e+00, -6.02854204e-01,\n",
       "       -1.51463377e+00,  6.48207834e-01,  2.29187108e-01, -7.97568563e-01,\n",
       "        1.35764375e+00, -9.25744871e-02,  4.63636154e-01,  1.25775260e+00,\n",
       "       -3.45722034e-01, -5.28117415e-01,  3.86419019e-01, -9.32305311e-01,\n",
       "        4.92097132e-01, -1.57493577e+00,  6.43880847e-01, -1.73985524e+00,\n",
       "       -1.19768884e-01,  5.91429056e-02,  2.69082877e-01, -4.34012491e-01,\n",
       "        7.43031463e-01, -8.81739290e-01,  5.75190549e-01,  1.11738991e+00,\n",
       "       -5.69942389e-02, -1.83118775e-01,  1.48789675e+00, -8.20970167e-01,\n",
       "        1.44900171e+00, -3.88712474e-01, -8.58712258e-01, -1.20337346e+00,\n",
       "        3.06698196e-01,  8.79825400e-01, -1.84204317e-01,  7.04302065e-01,\n",
       "       -3.74223615e-01,  9.42483201e-01,  2.52407523e-01, -1.44692931e-01,\n",
       "       -1.37581511e+00, -1.14310435e+00, -1.94710553e-01,  2.85241289e-01,\n",
       "        4.09212788e-01, -7.77259080e-01, -6.22711083e-01, -3.55168855e-01,\n",
       "       -1.29363906e+00,  6.46043129e-01, -1.01051032e+00,  7.85419342e-01,\n",
       "        3.86008965e-02, -1.87185167e+00, -1.06495614e+00,  7.88598935e-01,\n",
       "        7.62653430e-02,  7.20417055e-02,  1.33145974e-01,  5.60560119e-01,\n",
       "       -8.70712700e-01,  1.81869360e+00, -9.80792425e-01,  1.10086458e+00,\n",
       "       -1.17615297e+00, -8.08182420e-01, -9.37585478e-01,  1.18735412e+00,\n",
       "        5.80982702e-01,  5.17426450e-01,  1.41884064e+00, -9.32205419e-01,\n",
       "        1.63610132e-02,  1.40490777e+00,  1.15327524e+00,  2.70172154e-01,\n",
       "        8.39631677e-01, -1.41008996e+00,  2.60898847e+00,  1.80580638e+00,\n",
       "        5.27385540e-01,  1.79768824e-01, -5.07699492e-01, -2.28202732e-01,\n",
       "        8.33457495e-01, -1.83884705e-01, -7.91459571e-02, -4.70905880e-01,\n",
       "       -7.51486778e-02,  7.16843336e-01, -3.99586835e-02,  9.91382638e-02,\n",
       "       -1.01344308e+00, -6.90991832e-02,  1.59623356e+00, -1.49443220e+00,\n",
       "        3.14543513e-01,  2.16376579e+00,  4.77596526e-01,  3.41677686e-01,\n",
       "       -1.74852158e+00,  2.30172582e-01,  2.41747547e-01,  2.42726726e-01,\n",
       "       -1.62285384e+00,  1.06341669e+00, -4.17533666e-01, -1.33665096e+00,\n",
       "       -7.47974496e-01, -7.81692766e-01, -3.81204140e-01,  3.18163884e+00,\n",
       "       -4.24142950e-01, -1.20874035e+00,  4.90049427e-01, -8.99020145e-01,\n",
       "       -9.24699156e-01,  1.10620101e+00,  2.90294666e-01, -1.16852909e-01,\n",
       "       -3.47173647e-01, -1.18485165e+00,  2.43464516e+00, -1.94502929e+00,\n",
       "        4.88389629e-01, -9.22018957e-01, -4.08359946e-01, -3.37497387e-01,\n",
       "        2.33088482e+00,  1.55758839e+00,  1.84805146e-01,  2.18287298e-01,\n",
       "       -1.05151477e+00,  1.33855866e+00, -4.65641173e-01, -9.35232189e-02,\n",
       "       -1.70586984e-01, -3.90611784e-01, -5.54880545e-01, -3.20440429e-01,\n",
       "        9.47163482e-01, -4.88650256e-01, -2.12060069e-01,  7.11805144e-01,\n",
       "       -8.89921391e-01, -1.34734850e-01, -3.32938000e-01,  7.55159116e-01,\n",
       "       -9.53146813e-02, -4.49474829e-01, -2.68673205e+00,  1.19803323e+00,\n",
       "       -1.75368009e+00, -3.28463478e-01,  1.49326795e+00,  9.58704606e-01,\n",
       "       -5.52921941e-01,  1.24493685e+00, -2.11573992e-01,  1.80875235e+00,\n",
       "       -2.70872154e-01, -6.37212591e-01,  3.92757548e-01, -4.02061703e-01,\n",
       "       -4.16369965e-01, -5.42389843e-01, -4.69565522e-01,  1.25970926e+00,\n",
       "       -7.88841592e-01,  4.07370961e-01, -7.73903868e-02, -3.88679429e-01,\n",
       "        7.13165622e-01,  9.62382427e-01, -5.57243782e-02, -2.01561645e+00,\n",
       "       -6.04304965e-01, -2.31660168e+00,  3.74180059e-01,  1.07233380e+00,\n",
       "       -3.17912976e-02,  9.11610969e-01, -5.79453112e-02, -1.19240601e+00,\n",
       "       -4.27718422e-02, -1.22450068e+00,  1.18570452e+00, -1.12530843e+00,\n",
       "        3.66095424e-01,  9.86800870e-01, -1.21930116e+00,  1.97128266e+00,\n",
       "        2.98919448e-01, -2.30384638e+00, -5.45187681e-01,  1.11148513e+00,\n",
       "        5.38340367e-01,  3.84768214e-01, -7.19302808e-01,  1.41781824e+00,\n",
       "       -5.68385683e-01,  1.04743445e+00, -1.61121606e+00,  2.00566812e-01,\n",
       "       -1.38237163e+00,  7.24363425e-01, -4.82857473e-01, -1.75796211e-01,\n",
       "       -6.42418100e-01,  6.74619889e-01, -3.45774173e-01, -3.99953782e-01,\n",
       "        3.42441445e-01, -2.99998410e-01, -3.58422810e-02, -6.05493201e-01,\n",
       "        7.43293900e-01, -9.62962532e-01, -1.20612549e+00, -7.13431506e-01,\n",
       "        4.22023206e-01,  1.07249344e+00,  7.10112666e-01,  1.09978576e+00,\n",
       "       -4.57345130e-01, -7.30066995e-01,  2.64735040e-01,  4.49834921e-01,\n",
       "        8.72948168e-01, -1.58030809e+00, -7.27116431e-01,  9.16110176e-01,\n",
       "       -2.87452804e-01,  1.03659875e+00,  1.85561903e-01,  1.54872030e+00,\n",
       "       -1.40566606e-02, -4.21986309e-01, -1.30655860e-01, -9.26902482e-01,\n",
       "        4.92537775e-01, -9.00916036e-01, -8.77306252e-01,  4.91442821e-01,\n",
       "        5.32162206e-01, -3.15045316e-01, -9.14102284e-01,  8.10045973e-01,\n",
       "        1.28585571e+00,  1.19300029e+00, -1.01520561e+00,  1.01147067e+00,\n",
       "       -8.16897043e-01,  1.67244600e-01, -7.97514234e-01, -1.11679982e+00,\n",
       "       -1.54772678e+00, -7.46504504e-01,  1.97278905e-01, -1.07070447e+00,\n",
       "       -1.26660822e-01,  1.63542537e+00, -2.54244451e-01,  5.09994123e-01,\n",
       "       -8.51804255e-01, -1.42720083e-01,  1.20830951e+00,  2.27958128e-01,\n",
       "        5.97654032e-01,  9.83413955e-01,  1.34758486e+00, -1.65043146e+00,\n",
       "        5.55899238e-01, -3.05514525e-02, -4.89271415e-01,  1.03866639e+00,\n",
       "       -1.39106708e+00,  2.32678161e-01,  2.62726768e-01,  4.53359608e-01,\n",
       "       -9.26902091e-01, -9.53589152e-01, -9.04204674e-01,  6.91875032e-01,\n",
       "        6.07583989e-02,  1.90767403e+00,  1.35858465e+00,  1.93212212e+00,\n",
       "       -1.62151905e+00,  1.72559133e+00,  3.61711417e-01, -1.27850831e+00,\n",
       "       -5.93336200e-01, -2.81244617e-01,  3.62530816e-01, -1.44814467e+00,\n",
       "       -5.14476049e-01, -2.98910604e-01,  1.03617952e+00,  7.32476387e-01,\n",
       "        1.31820507e+00, -9.49073183e-01,  8.24537118e-03,  7.09903722e-01,\n",
       "        1.84238501e-01,  6.34009082e-02, -5.47238380e-01,  1.70376661e-01,\n",
       "       -2.03470661e-01,  5.77772657e-01,  1.05536277e+00, -3.80893730e-01,\n",
       "       -2.74929205e+00,  2.10683584e-01,  1.01916981e+00, -8.71320588e-01,\n",
       "       -6.84594782e-02,  9.34519871e-01, -6.86411369e-01, -9.20093159e-01,\n",
       "       -3.30906120e-01,  1.09695669e+00, -1.39050418e+00,  1.51965361e+00,\n",
       "        2.12026679e+00, -1.65198636e+00, -2.22567173e-01, -3.34195630e-01,\n",
       "        3.46376480e-02, -1.30141108e+00, -1.00818916e-02,  7.11061246e-02,\n",
       "       -2.54010917e-01,  8.07006690e-02, -6.97528432e-02,  5.55571150e-01,\n",
       "       -5.32624495e-01,  1.10035307e+00, -4.48134031e-01, -1.05720234e+00,\n",
       "       -1.14992375e+00, -1.08278590e+00,  2.84865162e-01,  1.95012353e-01,\n",
       "        7.78420379e-02,  1.59398785e+00,  1.39988650e+00,  1.72876624e-01,\n",
       "       -1.12489686e+00,  8.31078696e-01, -9.17725477e-01, -2.34685058e+00,\n",
       "        2.23943997e+00, -4.67085197e-01, -4.13655996e-01,  9.96551977e-01,\n",
       "        7.09493929e-01, -3.47016433e-01,  6.62521131e-03, -1.77346656e+00,\n",
       "        6.24162229e-01,  1.43098943e+00, -8.44335864e-01, -3.62976759e-01,\n",
       "       -9.74815311e-01,  4.26341246e-01, -6.05685535e-01, -1.61532244e+00,\n",
       "       -1.55076795e-01,  6.78937381e-01, -1.48108262e+00, -1.76348465e-01,\n",
       "        4.85427033e-01, -3.96148942e-01,  9.53481566e-01,  2.58346768e+00,\n",
       "       -1.21604392e+00,  8.71578776e-01,  1.61449473e+00, -9.39513758e-01,\n",
       "       -6.94303160e-01,  1.63208818e+00, -6.94482024e-01, -2.60502245e-01,\n",
       "        6.28893992e-01,  9.93131050e-01,  8.30295935e-01, -1.52755973e+00,\n",
       "        2.45900254e+00, -1.77374309e+00,  2.49522707e-02,  9.13539382e-01,\n",
       "        1.01770781e+00, -5.63649594e-01,  6.34520975e-01, -2.81816062e-01,\n",
       "       -2.34450458e-01, -5.40603857e-01, -3.99020826e-01, -9.03434983e-02,\n",
       "       -2.24518325e-01, -1.44523598e-01, -1.65794927e+00,  3.74903733e-01,\n",
       "        4.51088640e-02, -1.36514541e-01, -4.54724632e-01, -1.41607535e+00,\n",
       "        7.50759681e-02, -5.38697658e-02,  4.76568713e-01, -7.75080853e-02,\n",
       "        1.39480326e+00, -8.10966464e-01, -7.34276001e-01, -1.29017177e+00,\n",
       "       -6.17004935e-02, -6.41858709e-01,  1.40817157e-02,  1.21881415e+00,\n",
       "       -1.41779991e+00,  5.65111844e-02,  4.02745753e-01,  1.03160261e+00,\n",
       "       -3.55434287e-01,  8.70029702e-01,  5.15653867e-01,  8.73100730e-01,\n",
       "        4.47360513e-01, -2.77326946e-01,  9.52502809e-01,  5.19215701e-01,\n",
       "       -5.82061116e-02, -2.48210707e-01,  2.87911494e-01,  6.92813252e-01,\n",
       "        1.56971576e+00, -2.06996741e-01,  1.48762957e+00,  7.10085164e-01,\n",
       "        9.52293740e-02, -3.35591357e-01, -1.50248409e+00, -1.09733009e+00,\n",
       "       -1.57927136e+00,  1.85652977e-01, -4.63353022e-01,  8.96218587e-01,\n",
       "        2.95056962e-01, -2.73435844e-01, -1.12063384e+00, -1.07615692e+00,\n",
       "       -4.14509088e-02,  3.24761977e-01, -1.08146601e+00, -1.10316270e+00,\n",
       "       -2.95988754e-01, -7.20864130e-01, -8.55222239e-01, -7.25897923e-01,\n",
       "        1.73972576e-01, -6.99900154e-01,  2.96472693e-01,  5.98608101e-01,\n",
       "       -9.00916389e-01,  7.58858174e-01,  2.38242264e+00, -2.66424303e+00,\n",
       "       -3.15898342e-01,  5.40629683e-03, -1.01149659e+00, -8.27772844e-01,\n",
       "       -9.34415502e-01,  5.75164816e-01,  5.73612944e-01,  6.42643759e-01,\n",
       "        2.92878554e+00,  1.63448639e-01,  1.43725635e+00,  1.55201630e+00,\n",
       "       -6.78996093e-01, -3.94816787e-01, -7.17900369e-01,  2.31480105e+00,\n",
       "        7.69842486e-01,  1.06093471e+00, -7.57243152e-02,  8.23657186e-01,\n",
       "        4.58854124e-01,  7.23350412e-01, -8.19796382e-01,  1.57895516e+00,\n",
       "        3.34771400e-01, -9.33093609e-01,  5.76061608e-01,  2.49149760e+00,\n",
       "        7.21455092e-01,  5.20563663e-01,  2.19634017e-02, -1.48321998e+00,\n",
       "       -1.05393564e+00, -8.12101571e-01,  7.50272315e-01, -1.29128207e+00,\n",
       "        5.35709765e-01, -9.37787176e-01, -2.22824434e+00,  8.52459075e-01,\n",
       "        9.46452894e-01, -5.15710956e-01,  7.88929821e-01,  1.08693444e+00,\n",
       "       -2.31039260e-01,  1.42676718e+00, -7.62829788e-01, -1.56741997e-01,\n",
       "        1.86640437e+00, -1.25185908e+00,  9.87099215e-01, -1.79133770e+00,\n",
       "       -3.88898504e-01,  6.92279279e-01, -8.59241274e-01, -1.32688994e+00,\n",
       "       -5.24721842e-01, -4.91135586e-01,  1.42138979e+00, -1.35480550e+00,\n",
       "        4.69961421e-01,  1.11691260e+00, -1.83285947e-01,  2.38229646e-01,\n",
       "       -4.23394075e-02,  5.90784881e-01, -4.51863645e-01, -6.56651932e-01,\n",
       "       -3.42678035e-01,  1.61269081e-01, -6.73558457e-01,  5.54865521e-01,\n",
       "       -1.30211241e+00, -7.56518435e-01, -4.61557552e-01,  2.34435544e-01,\n",
       "        3.36276311e-01, -8.28493114e-01, -3.87110075e-01,  3.10980302e-01,\n",
       "       -7.53933277e-01, -6.52522647e-01,  7.92043108e-01,  3.47439946e-01,\n",
       "        1.35590371e+00,  1.76488581e+00,  2.37378965e+00, -4.17310195e-01,\n",
       "       -5.15672785e-01, -1.57251380e+00, -4.65785150e-01, -7.43764174e-01,\n",
       "        3.10758299e-01,  1.60464984e+00, -1.38707638e-01, -1.19586715e+00,\n",
       "       -1.96262874e+00, -1.39744480e+00, -3.67132888e-02,  2.39677555e+00,\n",
       "       -8.39839656e-01, -6.12715155e-01, -1.15041415e-01,  4.14244991e-01,\n",
       "        3.00545806e-01,  1.64154217e+00,  3.55539868e-01, -6.65400900e-01,\n",
       "       -2.55080835e-02, -2.03399268e+00, -3.45421679e-01, -2.56789024e+00,\n",
       "        1.48175219e+00,  1.07727655e+00,  6.75640587e-02, -1.58548977e+00,\n",
       "       -3.51702350e-01, -2.21586133e+00, -7.37554897e-01, -1.42506412e+00,\n",
       "        4.90427758e-01,  5.47939205e-01,  1.01003420e+00, -1.50096193e-02,\n",
       "        8.63800516e-02, -5.15066701e-01, -9.17014870e-01, -2.41916552e-01,\n",
       "       -3.03058051e-02, -1.50140676e-01, -1.82760895e-01, -8.79653273e-01,\n",
       "       -7.76312698e-01,  8.01202701e-01,  4.51352227e-01,  1.52143455e+00,\n",
       "       -2.14023577e+00,  1.78066942e+00,  1.45837857e+00,  5.65858447e-01,\n",
       "       -2.80178669e-02, -1.93018950e+00, -8.56345859e-01, -1.79451909e-01,\n",
       "        5.30382192e-01,  6.54413387e-01,  3.79624818e-03,  8.28661762e-02,\n",
       "        1.01223766e+00,  7.43184429e-01,  5.29023410e-01, -2.53133095e+00,\n",
       "       -5.00923718e-02,  7.16445971e-02,  1.91816627e-01, -1.56582069e-01,\n",
       "       -6.91328332e-01,  4.10392167e-01,  1.39160473e+00,  1.53139503e+00,\n",
       "        8.41732399e-01, -1.01607761e+00,  1.19952386e+00,  4.18461494e-01,\n",
       "        1.39422748e+00,  7.81196992e-01, -4.17551244e-01, -5.25211089e-01,\n",
       "       -1.26425554e+00,  1.46261676e+00,  1.12439858e+00, -5.42840543e-01,\n",
       "        1.26477363e+00, -1.65040822e+00,  9.70788811e-01, -1.66914509e+00,\n",
       "        1.16683106e+00,  4.50584441e-01, -4.52392895e-01, -1.51221318e-01,\n",
       "       -2.57225985e-01, -1.50847644e+00,  1.37147012e+00, -3.76619631e-01,\n",
       "       -8.75194086e-01,  1.57951569e+00, -5.08454747e-01, -5.87606253e-02,\n",
       "        3.42047851e-01, -7.96533675e-01,  1.86689230e+00, -5.09599792e-01,\n",
       "       -1.03410768e+00, -1.12702254e+00,  1.72286087e-02, -8.61230175e-01,\n",
       "        4.17399293e-01,  1.23169938e+00,  2.61746087e-01,  1.05517548e+00,\n",
       "        2.39523328e+00,  1.13405154e+00, -2.37949830e+00, -8.54480013e-01,\n",
       "        9.87041422e-01,  4.84667215e-02, -1.54434344e+00,  1.49606551e+00,\n",
       "       -1.60162166e+00,  4.56703828e-01, -1.83540722e+00, -2.39272186e-01,\n",
       "       -8.97149262e-01,  8.92367295e-02, -1.25396311e+00,  1.46893391e+00,\n",
       "        7.88581009e-03,  1.70595138e+00,  3.26203631e-01, -1.49081857e-01,\n",
       "       -1.19061640e+00, -1.49223694e+00, -3.05930692e-02, -4.00476888e-01,\n",
       "       -2.15922763e-01,  7.36480515e-01, -1.08488093e+00, -1.74499327e+00,\n",
       "        2.24430440e-01, -2.79605318e+00, -5.12678855e-02, -1.55513144e-01,\n",
       "       -4.50789660e-01,  9.42713239e-01,  8.25958805e-01, -7.43910367e-01,\n",
       "        1.98364839e-01, -1.67671218e+00, -1.62279614e+00, -1.71411628e+00,\n",
       "        1.09845613e-01,  6.03515827e-01, -1.74661734e-01, -4.30161900e-01,\n",
       "       -1.40250971e+00, -5.41361218e-01,  3.53089849e-01,  1.47150035e+00,\n",
       "        5.11779342e-01, -8.88911063e-01, -3.10359653e-01, -1.66214214e-01,\n",
       "        6.65518244e-01,  2.29322358e+00,  8.03558122e-01,  5.14255674e-01,\n",
       "        9.83084911e-02, -1.66595269e+00,  3.82244571e-01, -7.19250013e-01,\n",
       "        5.42657160e-01, -1.55766176e-01, -4.98281467e-01, -6.34103951e-01,\n",
       "       -1.11157138e-01,  7.79936090e-01, -1.56268597e-01, -9.00015595e-01,\n",
       "        1.17613563e+00, -9.84974420e-02,  1.00081457e+00,  1.99320911e-01,\n",
       "       -1.48725020e-02,  9.20242804e-01, -3.13596137e+00,  3.52407381e-01,\n",
       "       -8.45068641e-01,  1.04255304e-01, -1.39715452e+00,  1.17045768e-01,\n",
       "        7.64489674e-01,  1.09366522e-01,  1.42408695e+00, -9.90068038e-01,\n",
       "        1.56637240e+00, -7.16588228e-01,  2.02125515e-01,  1.71322093e+00,\n",
       "       -8.78957774e-01,  8.25177135e-01, -5.58176885e-01,  8.58139637e-01,\n",
       "        6.90466227e-01,  1.19100910e+00, -6.47418574e-01, -1.58846085e-01,\n",
       "        1.65186717e+00,  4.10618682e-01,  3.10032620e-01,  1.94596507e-01,\n",
       "       -4.96684656e-01, -1.19127441e-01,  1.15085425e+00, -1.94737701e-01,\n",
       "       -3.76353189e-01,  5.64809638e-01,  5.14475520e-01,  4.95841341e-01,\n",
       "        5.43599118e-01, -2.27489573e+00, -1.82135881e+00, -1.33963286e+00,\n",
       "       -3.78891410e-01, -2.33798494e-02,  7.42938978e-02, -1.27530810e+00,\n",
       "        1.43120685e+00, -1.17734334e-01, -1.15072393e+00, -7.45835091e-01,\n",
       "        2.67969113e+00, -3.06207969e-01, -5.83073088e-01, -4.90782815e-01,\n",
       "        6.89037109e-01, -5.55222272e-01, -1.36716535e+00,  4.91032184e-01,\n",
       "       -1.79960993e+00,  2.09516068e-01, -1.98194080e+00,  4.92839477e-01,\n",
       "        2.11870857e+00, -1.30944599e+00,  8.25759467e-01,  3.69330167e-01,\n",
       "       -1.61641167e+00,  5.51667325e-01,  2.84806414e-01, -2.13804709e-01,\n",
       "       -1.47234115e+00,  5.44291408e-01,  8.43860457e-01,  2.29267977e-01,\n",
       "        8.48590036e-01,  2.08628272e+00,  1.70898697e+00, -2.66346499e-01,\n",
       "        6.03727803e-01,  2.02081690e-01, -1.31398244e+00, -1.16610287e+00,\n",
       "        1.98471272e-01,  6.74249751e-01, -1.18830596e+00, -2.21970705e-01,\n",
       "        7.66663317e-02, -1.19041480e-02, -3.64660694e-01, -8.61831181e-01,\n",
       "       -4.25553946e-02, -2.00077571e+00, -3.17008230e-01,  5.19489173e-02,\n",
       "       -1.17479707e-02,  1.10139829e+00,  1.16181879e+00, -2.91449626e-01,\n",
       "       -1.64879029e+00,  1.84920717e+00, -2.01371022e+00,  8.31762526e-01,\n",
       "       -3.75705589e-01, -8.68296790e-01,  1.28575333e-01, -6.46648013e-02,\n",
       "        1.36616871e+00, -9.97645394e-01, -6.16173301e-01,  1.99257298e+00,\n",
       "       -2.75922243e-01, -3.49446947e-01, -4.96339987e-01, -1.37126018e+00,\n",
       "       -1.15623553e+00, -6.00732309e-01,  2.83950952e-01,  1.49800145e+00,\n",
       "        5.97608812e-02,  1.08103404e+00, -4.23572137e-01, -3.40564912e-01,\n",
       "       -6.21932987e-01, -1.20861890e+00, -1.42800837e-01,  6.85096711e-01,\n",
       "       -7.25134439e-01,  1.77087911e+00,  2.81673233e-01, -1.13778186e+00])"
      ]
     },
     "execution_count": 115,
     "metadata": {},
     "output_type": "execute_result"
    }
   ],
   "source": [
    "#create an array of random normal numbers witha size of 1000\n",
    "sample = np.random.normal(size =1000)\n",
    "sample"
   ]
  },
  {
   "cell_type": "code",
   "execution_count": 116,
   "id": "46163cb0",
   "metadata": {},
   "outputs": [
    {
     "data": {
      "image/png": "[encoded data removed]",
      "text/plain": [
       "<Figure size 432x288 with 1 Axes>"
      ]
     },
     "metadata": {
      "needs_background": "light"
     },
     "output_type": "display_data"
    }
   ],
   "source": [
    "plt.plot(sample);"
   ]
  },
  {
   "cell_type": "code",
   "execution_count": 117,
   "id": "70cce155",
   "metadata": {},
   "outputs": [
    {
     "name": "stdout",
     "output_type": "stream",
     "text": [
      "Collecting Cdf\n",
      "  Using cached CDF-0.32.tar.gz (859 kB)\n",
      "  Preparing metadata (setup.py): started\n",
      "  Preparing metadata (setup.py): finished with status 'done'\n",
      "Installing collected packages: Cdf\n",
      "  Running setup.py install for Cdf: started\n",
      "  Running setup.py install for Cdf: finished with status 'error'\n",
      "Note: you may need to restart the kernel to use updated packages.\n"
     ]
    },
    {
     "name": "stderr",
     "output_type": "stream",
     "text": [
      "  DEPRECATION: Cdf is being installed using the legacy 'setup.py install' method, because it does not have a 'pyproject.toml' and the 'wheel' package is not installed. pip 23.1 will enforce this behaviour change. A possible replacement is to enable the '--use-pep517' option. Discussion can be found at https://github.com/pypa/pip/issues/8559\n",
      "  error: subprocess-exited-with-error\n",
      "  \n",
      "  Running setup.py install for Cdf did not run successfully.\n",
      "  exit code: 1\n",
      "  \n",
      "  [19 lines of output]\n",
      "  running install\n",
      "  running build\n",
      "  running build_py\n",
      "  creating build\n",
      "  creating build\\lib.win-amd64-3.10\n",
      "  creating build\\lib.win-amd64-3.10\\cdf\n",
      "  copying cdf\\__init__.py -> build\\lib.win-amd64-3.10\\cdf\n",
      "  copying cdf\\standard.py -> build\\lib.win-amd64-3.10\\cdf\n",
      "  copying cdf\\interface.py -> build\\lib.win-amd64-3.10\\cdf\n",
      "  copying cdf\\framework.py -> build\\lib.win-amd64-3.10\\cdf\n",
      "  copying cdf\\attribute.py -> build\\lib.win-amd64-3.10\\cdf\n",
      "  copying cdf\\entry.py -> build\\lib.win-amd64-3.10\\cdf\n",
      "  copying cdf\\typing.py -> build\\lib.win-amd64-3.10\\cdf\n",
      "  creating build\\lib.win-amd64-3.10\\cdf\\istp\n",
      "  copying cdf\\istp\\__init__.py -> build\\lib.win-amd64-3.10\\cdf\\istp\n",
      "  copying cdf\\istp\\interface.py -> build\\lib.win-amd64-3.10\\cdf\\istp\n",
      "  running build_ext\n",
      "  building 'cdf.internal' extension\n",
      "  error: Microsoft Visual C++ 14.0 or greater is required. Get it with \"Microsoft C++ Build Tools\": https://visualstudio.microsoft.com/visual-cpp-build-tools/\n",
      "  [end of output]\n",
      "  \n",
      "  note: This error originates from a subprocess, and is likely not a problem with pip.\n",
      "error: legacy-install-failure\n",
      "\n",
      "Encountered error while trying to install package.\n",
      "\n",
      "Cdf\n",
      "\n",
      "note: This is an issue with the package mentioned above, not pip.\n",
      "hint: See above for output from the failure.\n"
     ]
    }
   ],
   "source": [
    "pip install Cdf"
   ]
  },
  {
   "cell_type": "code",
   "execution_count": 118,
   "id": "f44fb701",
   "metadata": {},
   "outputs": [
    {
     "name": "stdout",
     "output_type": "stream",
     "text": [
      "Requirement already satisfied: Scipy in c:\\users\\pc\\appdata\\local\\programs\\python\\python310\\lib\\site-packages (1.9.0)\n",
      "Requirement already satisfied: numpy<1.25.0,>=1.18.5 in c:\\users\\pc\\appdata\\local\\programs\\python\\python310\\lib\\site-packages (from Scipy) (1.23.0)\n",
      "Note: you may need to restart the kernel to use updated packages.\n"
     ]
    }
   ],
   "source": [
    "pip install Scipy"
   ]
  },
  {
   "cell_type": "code",
   "execution_count": 123,
   "id": "3b5c3fb8",
   "metadata": {},
   "outputs": [],
   "source": [
    "from scipy.stats import norm"
   ]
  },
  {
   "cell_type": "code",
   "execution_count": 132,
   "id": "0bbde639",
   "metadata": {},
   "outputs": [
    {
     "data": {
      "image/png": "[encoded data removed]",
      "text/plain": [
       "<Figure size 432x288 with 1 Axes>"
      ]
     },
     "metadata": {
      "needs_background": "light"
     },
     "output_type": "display_data"
    }
   ],
   "source": [
    "xs = np.linspace(-3,3)\n",
    "ys = norm(0,1).cdf(xs)\n",
    "ys\n",
    "xs\n",
    "plt.plot(ys);\n",
    "plt.plot(xs);\n"
   ]
  },
  {
   "cell_type": "code",
   "execution_count": 140,
   "id": "48323283",
   "metadata": {},
   "outputs": [
    {
     "data": {
      "image/png": "[encoded data removed]",
      "text/plain": [
       "<Figure size 432x288 with 1 Axes>"
      ]
     },
     "metadata": {
      "needs_background": "light"
     },
     "output_type": "display_data"
    }
   ],
   "source": [
    "As = np.linspace(-4,1)\n",
    "Ds = norm(0,1).cdf(As)\n",
    "Ds\n",
    "As\n",
    "plt.plot(Ds);\n",
    "plt.plot(As);"
   ]
  },
  {
   "cell_type": "code",
   "execution_count": null,
   "id": "93c93e84",
   "metadata": {},
   "outputs": [],
   "source": [
    "pip install Pdf"
   ]
  },
  {
   "cell_type": "code",
   "execution_count": 141,
   "id": "0004f9cb",
   "metadata": {},
   "outputs": [
    {
     "ename": "NameError",
     "evalue": "name 'pdf' is not defined",
     "output_type": "error",
     "traceback": [
      "\u001b[1;31m---------------------------------------------------------------------------\u001b[0m",
      "\u001b[1;31mNameError\u001b[0m                                 Traceback (most recent call last)",
      "Input \u001b[1;32mIn [141]\u001b[0m, in \u001b[0;36m<cell line: 2>\u001b[1;34m()\u001b[0m\n\u001b[0;32m      1\u001b[0m As \u001b[38;5;241m=\u001b[39m np\u001b[38;5;241m.\u001b[39mlinspace(\u001b[38;5;241m-\u001b[39m\u001b[38;5;241m4\u001b[39m,\u001b[38;5;241m1\u001b[39m)\n\u001b[1;32m----> 2\u001b[0m Ds \u001b[38;5;241m=\u001b[39m \u001b[43mpdf\u001b[49m(As)\n\u001b[0;32m      3\u001b[0m Ds\n\u001b[0;32m      4\u001b[0m As\n",
      "\u001b[1;31mNameError\u001b[0m: name 'pdf' is not defined"
     ]
    }
   ],
   "source": [
    "As = np.linspace(-4,1)\n",
    "Ds = Pdf(As)\n",
    "Ds\n",
    "As\n",
    "plt.plot(Ds);\n",
    "plt.plot(As);"
   ]
  },
  {
   "cell_type": "markdown",
   "id": "d67fc5ce",
   "metadata": {},
   "source": [
    "# Kernel Density Plot(KDE)"
   ]
  },
  {
   "cell_type": "code",
   "execution_count": 143,
   "id": "a0451179",
   "metadata": {},
   "outputs": [],
   "source": [
    "import seaborn as sns"
   ]
  },
  {
   "cell_type": "code",
   "execution_count": 145,
   "id": "a982dbd0",
   "metadata": {},
   "outputs": [
    {
     "data": {
      "image/png": "[encoded data removed]",
      "text/plain": [
       "<Figure size 432x288 with 1 Axes>"
      ]
     },
     "metadata": {
      "needs_background": "light"
     },
     "output_type": "display_data"
    }
   ],
   "source": [
    "sns.kdeplot(sample);"
   ]
  },
  {
   "cell_type": "code",
   "execution_count": 147,
   "id": "8f83d00e",
   "metadata": {},
   "outputs": [
    {
     "data": {
      "image/png": "[encoded data removed]",
      "text/plain": [
       "<Figure size 432x288 with 1 Axes>"
      ]
     },
     "metadata": {
      "needs_background": "light"
     },
     "output_type": "display_data"
    }
   ],
   "source": [
    "sns.kdeplot(sample);\n",
    "plt.plot(xs,ys);\n"
   ]
  },
  {
   "cell_type": "markdown",
   "id": "d1fafaed",
   "metadata": {},
   "source": [
    "# Relationships"
   ]
  },
  {
   "cell_type": "code",
   "execution_count": null,
   "id": "f53edfec",
   "metadata": {},
   "outputs": [],
   "source": []
  }
 ],
 "metadata": {
  "kernelspec": {
   "display_name": "Python 3 (ipykernel)",
   "language": "python",
   "name": "python3"
  },
  "language_info": {
   "codemirror_mode": {
    "name": "ipython",
    "version": 3
   },
   "file_extension": ".py",
   "mimetype": "text/x-python",
   "name": "python",
   "nbconvert_exporter": "python",
   "pygments_lexer": "ipython3",
   "version": "3.10.5"
  }
 },
 "nbformat": 4,
 "nbformat_minor": 5
}
