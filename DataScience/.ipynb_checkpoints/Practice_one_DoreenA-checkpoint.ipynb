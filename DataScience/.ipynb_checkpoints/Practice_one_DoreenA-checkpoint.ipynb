{
 "cells": [
  {
   "cell_type": "code",
   "execution_count": 16,
   "id": "e2216f0c",
   "metadata": {},
   "outputs": [],
   "source": [
    "import numpy as np\n",
    "import pandas as pd\n",
    "import seaborn as sn\n",
    "import sklearn as sk\n",
    "import matplotlib.pyplot as plt"
   ]
  },
  {
   "cell_type": "code",
   "execution_count": 17,
   "id": "7ae19ddf",
   "metadata": {},
   "outputs": [],
   "source": [
    "matplotlib inline"
   ]
  },
  {
   "cell_type": "code",
   "execution_count": 18,
   "id": "dfd9947a",
   "metadata": {},
   "outputs": [
    {
     "data": {
      "text/html": [
       "<div>\n",
       "<style scoped>\n",
       "    .dataframe tbody tr th:only-of-type {\n",
       "        vertical-align: middle;\n",
       "    }\n",
       "\n",
       "    .dataframe tbody tr th {\n",
       "        vertical-align: top;\n",
       "    }\n",
       "\n",
       "    .dataframe thead th {\n",
       "        text-align: right;\n",
       "    }\n",
       "</style>\n",
       "<table border=\"1\" class=\"dataframe\">\n",
       "  <thead>\n",
       "    <tr style=\"text-align: right;\">\n",
       "      <th></th>\n",
       "      <th>idcode</th>\n",
       "      <th>age</th>\n",
       "      <th>race</th>\n",
       "      <th>married</th>\n",
       "      <th>never_married</th>\n",
       "      <th>grade</th>\n",
       "      <th>collgrad</th>\n",
       "      <th>south</th>\n",
       "      <th>smsa</th>\n",
       "      <th>c_city</th>\n",
       "      <th>industry</th>\n",
       "      <th>occupation</th>\n",
       "      <th>union</th>\n",
       "      <th>wage</th>\n",
       "      <th>hours</th>\n",
       "      <th>ttl_exp</th>\n",
       "      <th>tenure</th>\n",
       "    </tr>\n",
       "  </thead>\n",
       "  <tbody>\n",
       "    <tr>\n",
       "      <th>0</th>\n",
       "      <td>1</td>\n",
       "      <td>37</td>\n",
       "      <td>black</td>\n",
       "      <td>single</td>\n",
       "      <td>0</td>\n",
       "      <td>12.0</td>\n",
       "      <td>not college grad</td>\n",
       "      <td>0</td>\n",
       "      <td>SMSA</td>\n",
       "      <td>0</td>\n",
       "      <td>Transport/Comm/Utility</td>\n",
       "      <td>Operatives</td>\n",
       "      <td>union</td>\n",
       "      <td>11.739130</td>\n",
       "      <td>48.0</td>\n",
       "      <td>10.33333</td>\n",
       "      <td>5.333333</td>\n",
       "    </tr>\n",
       "    <tr>\n",
       "      <th>1</th>\n",
       "      <td>2</td>\n",
       "      <td>37</td>\n",
       "      <td>black</td>\n",
       "      <td>single</td>\n",
       "      <td>0</td>\n",
       "      <td>12.0</td>\n",
       "      <td>not college grad</td>\n",
       "      <td>0</td>\n",
       "      <td>SMSA</td>\n",
       "      <td>1</td>\n",
       "      <td>Manufacturing</td>\n",
       "      <td>Craftsmen</td>\n",
       "      <td>union</td>\n",
       "      <td>6.400963</td>\n",
       "      <td>40.0</td>\n",
       "      <td>13.62179</td>\n",
       "      <td>5.250000</td>\n",
       "    </tr>\n",
       "    <tr>\n",
       "      <th>2</th>\n",
       "      <td>3</td>\n",
       "      <td>42</td>\n",
       "      <td>black</td>\n",
       "      <td>single</td>\n",
       "      <td>1</td>\n",
       "      <td>12.0</td>\n",
       "      <td>not college grad</td>\n",
       "      <td>0</td>\n",
       "      <td>SMSA</td>\n",
       "      <td>1</td>\n",
       "      <td>Manufacturing</td>\n",
       "      <td>Sales</td>\n",
       "      <td>NaN</td>\n",
       "      <td>5.016723</td>\n",
       "      <td>40.0</td>\n",
       "      <td>17.73077</td>\n",
       "      <td>1.250000</td>\n",
       "    </tr>\n",
       "    <tr>\n",
       "      <th>3</th>\n",
       "      <td>4</td>\n",
       "      <td>43</td>\n",
       "      <td>white</td>\n",
       "      <td>married</td>\n",
       "      <td>0</td>\n",
       "      <td>17.0</td>\n",
       "      <td>college grad</td>\n",
       "      <td>0</td>\n",
       "      <td>SMSA</td>\n",
       "      <td>0</td>\n",
       "      <td>Professional Services</td>\n",
       "      <td>Other</td>\n",
       "      <td>union</td>\n",
       "      <td>9.033813</td>\n",
       "      <td>42.0</td>\n",
       "      <td>13.21154</td>\n",
       "      <td>1.750000</td>\n",
       "    </tr>\n",
       "    <tr>\n",
       "      <th>4</th>\n",
       "      <td>6</td>\n",
       "      <td>42</td>\n",
       "      <td>white</td>\n",
       "      <td>married</td>\n",
       "      <td>0</td>\n",
       "      <td>12.0</td>\n",
       "      <td>not college grad</td>\n",
       "      <td>0</td>\n",
       "      <td>SMSA</td>\n",
       "      <td>0</td>\n",
       "      <td>Manufacturing</td>\n",
       "      <td>Operatives</td>\n",
       "      <td>nonunion</td>\n",
       "      <td>8.083731</td>\n",
       "      <td>48.0</td>\n",
       "      <td>17.82051</td>\n",
       "      <td>17.750000</td>\n",
       "    </tr>\n",
       "    <tr>\n",
       "      <th>...</th>\n",
       "      <td>...</td>\n",
       "      <td>...</td>\n",
       "      <td>...</td>\n",
       "      <td>...</td>\n",
       "      <td>...</td>\n",
       "      <td>...</td>\n",
       "      <td>...</td>\n",
       "      <td>...</td>\n",
       "      <td>...</td>\n",
       "      <td>...</td>\n",
       "      <td>...</td>\n",
       "      <td>...</td>\n",
       "      <td>...</td>\n",
       "      <td>...</td>\n",
       "      <td>...</td>\n",
       "      <td>...</td>\n",
       "      <td>...</td>\n",
       "    </tr>\n",
       "    <tr>\n",
       "      <th>2241</th>\n",
       "      <td>5153</td>\n",
       "      <td>35</td>\n",
       "      <td>white</td>\n",
       "      <td>single</td>\n",
       "      <td>1</td>\n",
       "      <td>12.0</td>\n",
       "      <td>not college grad</td>\n",
       "      <td>1</td>\n",
       "      <td>SMSA</td>\n",
       "      <td>0</td>\n",
       "      <td>Professional Services</td>\n",
       "      <td>Laborers</td>\n",
       "      <td>NaN</td>\n",
       "      <td>5.517124</td>\n",
       "      <td>35.0</td>\n",
       "      <td>11.98718</td>\n",
       "      <td>2.083333</td>\n",
       "    </tr>\n",
       "    <tr>\n",
       "      <th>2242</th>\n",
       "      <td>5154</td>\n",
       "      <td>44</td>\n",
       "      <td>white</td>\n",
       "      <td>married</td>\n",
       "      <td>0</td>\n",
       "      <td>16.0</td>\n",
       "      <td>college grad</td>\n",
       "      <td>1</td>\n",
       "      <td>SMSA</td>\n",
       "      <td>0</td>\n",
       "      <td>Professional Services</td>\n",
       "      <td>Professional/technical</td>\n",
       "      <td>nonunion</td>\n",
       "      <td>14.323670</td>\n",
       "      <td>40.0</td>\n",
       "      <td>12.70513</td>\n",
       "      <td>12.166670</td>\n",
       "    </tr>\n",
       "    <tr>\n",
       "      <th>2243</th>\n",
       "      <td>5156</td>\n",
       "      <td>42</td>\n",
       "      <td>white</td>\n",
       "      <td>married</td>\n",
       "      <td>0</td>\n",
       "      <td>12.0</td>\n",
       "      <td>not college grad</td>\n",
       "      <td>1</td>\n",
       "      <td>nonSMSA</td>\n",
       "      <td>0</td>\n",
       "      <td>Business/Repair Svc</td>\n",
       "      <td>Sales</td>\n",
       "      <td>nonunion</td>\n",
       "      <td>3.824476</td>\n",
       "      <td>40.0</td>\n",
       "      <td>18.85897</td>\n",
       "      <td>9.583333</td>\n",
       "    </tr>\n",
       "    <tr>\n",
       "      <th>2244</th>\n",
       "      <td>5157</td>\n",
       "      <td>38</td>\n",
       "      <td>black</td>\n",
       "      <td>married</td>\n",
       "      <td>0</td>\n",
       "      <td>12.0</td>\n",
       "      <td>not college grad</td>\n",
       "      <td>1</td>\n",
       "      <td>nonSMSA</td>\n",
       "      <td>0</td>\n",
       "      <td>Professional Services</td>\n",
       "      <td>Laborers</td>\n",
       "      <td>nonunion</td>\n",
       "      <td>2.447664</td>\n",
       "      <td>35.0</td>\n",
       "      <td>11.16026</td>\n",
       "      <td>10.750000</td>\n",
       "    </tr>\n",
       "    <tr>\n",
       "      <th>2245</th>\n",
       "      <td>5159</td>\n",
       "      <td>43</td>\n",
       "      <td>black</td>\n",
       "      <td>single</td>\n",
       "      <td>0</td>\n",
       "      <td>12.0</td>\n",
       "      <td>not college grad</td>\n",
       "      <td>1</td>\n",
       "      <td>SMSA</td>\n",
       "      <td>1</td>\n",
       "      <td>Professional Services</td>\n",
       "      <td>Sales</td>\n",
       "      <td>union</td>\n",
       "      <td>7.157810</td>\n",
       "      <td>38.0</td>\n",
       "      <td>10.59615</td>\n",
       "      <td>3.416667</td>\n",
       "    </tr>\n",
       "  </tbody>\n",
       "</table>\n",
       "<p>2246 rows × 17 columns</p>\n",
       "</div>"
      ],
      "text/plain": [
       "      idcode  age   race  married  never_married  grade          collgrad  \\\n",
       "0          1   37  black   single              0   12.0  not college grad   \n",
       "1          2   37  black   single              0   12.0  not college grad   \n",
       "2          3   42  black   single              1   12.0  not college grad   \n",
       "3          4   43  white  married              0   17.0      college grad   \n",
       "4          6   42  white  married              0   12.0  not college grad   \n",
       "...      ...  ...    ...      ...            ...    ...               ...   \n",
       "2241    5153   35  white   single              1   12.0  not college grad   \n",
       "2242    5154   44  white  married              0   16.0      college grad   \n",
       "2243    5156   42  white  married              0   12.0  not college grad   \n",
       "2244    5157   38  black  married              0   12.0  not college grad   \n",
       "2245    5159   43  black   single              0   12.0  not college grad   \n",
       "\n",
       "      south     smsa  c_city                industry              occupation  \\\n",
       "0         0     SMSA       0  Transport/Comm/Utility              Operatives   \n",
       "1         0     SMSA       1           Manufacturing               Craftsmen   \n",
       "2         0     SMSA       1           Manufacturing                   Sales   \n",
       "3         0     SMSA       0   Professional Services                   Other   \n",
       "4         0     SMSA       0           Manufacturing              Operatives   \n",
       "...     ...      ...     ...                     ...                     ...   \n",
       "2241      1     SMSA       0   Professional Services                Laborers   \n",
       "2242      1     SMSA       0   Professional Services  Professional/technical   \n",
       "2243      1  nonSMSA       0     Business/Repair Svc                   Sales   \n",
       "2244      1  nonSMSA       0   Professional Services                Laborers   \n",
       "2245      1     SMSA       1   Professional Services                   Sales   \n",
       "\n",
       "         union       wage  hours   ttl_exp     tenure  \n",
       "0        union  11.739130   48.0  10.33333   5.333333  \n",
       "1        union   6.400963   40.0  13.62179   5.250000  \n",
       "2          NaN   5.016723   40.0  17.73077   1.250000  \n",
       "3        union   9.033813   42.0  13.21154   1.750000  \n",
       "4     nonunion   8.083731   48.0  17.82051  17.750000  \n",
       "...        ...        ...    ...       ...        ...  \n",
       "2241       NaN   5.517124   35.0  11.98718   2.083333  \n",
       "2242  nonunion  14.323670   40.0  12.70513  12.166670  \n",
       "2243  nonunion   3.824476   40.0  18.85897   9.583333  \n",
       "2244  nonunion   2.447664   35.0  11.16026  10.750000  \n",
       "2245     union   7.157810   38.0  10.59615   3.416667  \n",
       "\n",
       "[2246 rows x 17 columns]"
      ]
     },
     "execution_count": 18,
     "metadata": {},
     "output_type": "execute_result"
    }
   ],
   "source": [
    "data_frame =pd.read_excel('PRAC/practice.xlsx')\n",
    "data_frame"
   ]
  },
  {
   "cell_type": "code",
   "execution_count": 19,
   "id": "4cc22fc5",
   "metadata": {},
   "outputs": [
    {
     "data": {
      "text/plain": [
       "idcode           2246\n",
       "age              2246\n",
       "race             2246\n",
       "married          2246\n",
       "never_married    2246\n",
       "grade            2244\n",
       "collgrad         2246\n",
       "south            2246\n",
       "smsa             2246\n",
       "c_city           2246\n",
       "industry         2232\n",
       "occupation       2237\n",
       "union            1878\n",
       "wage             2246\n",
       "hours            2242\n",
       "ttl_exp          2246\n",
       "tenure           2231\n",
       "dtype: int64"
      ]
     },
     "execution_count": 19,
     "metadata": {},
     "output_type": "execute_result"
    }
   ],
   "source": [
    "data_frame.count()"
   ]
  },
  {
   "cell_type": "code",
   "execution_count": 20,
   "id": "bf9b0321",
   "metadata": {},
   "outputs": [
    {
     "data": {
      "text/plain": [
       "Index(['idcode', 'age', 'race', 'married', 'never_married', 'grade',\n",
       "       'collgrad', 'south', 'smsa', 'c_city', 'industry', 'occupation',\n",
       "       'union', 'wage', 'hours', 'ttl_exp', 'tenure'],\n",
       "      dtype='object')"
      ]
     },
     "execution_count": 20,
     "metadata": {},
     "output_type": "execute_result"
    }
   ],
   "source": [
    "data_frame.columns"
   ]
  },
  {
   "cell_type": "code",
   "execution_count": 21,
   "id": "cf68b868",
   "metadata": {},
   "outputs": [
    {
     "data": {
      "text/plain": [
       "0       11.739130\n",
       "1        6.400963\n",
       "2        5.016723\n",
       "3        9.033813\n",
       "4        8.083731\n",
       "          ...    \n",
       "2241     5.517124\n",
       "2242    14.323670\n",
       "2243     3.824476\n",
       "2244     2.447664\n",
       "2245     7.157810\n",
       "Name: wage, Length: 2246, dtype: float64"
      ]
     },
     "execution_count": 21,
     "metadata": {},
     "output_type": "execute_result"
    }
   ],
   "source": [
    "a = data_frame.wage\n",
    "a"
   ]
  },
  {
   "cell_type": "code",
   "execution_count": 22,
   "id": "2b593a71",
   "metadata": {},
   "outputs": [
    {
     "data": {
      "text/plain": [
       "0       48.0\n",
       "1       40.0\n",
       "2       40.0\n",
       "3       42.0\n",
       "4       48.0\n",
       "        ... \n",
       "2241    35.0\n",
       "2242    40.0\n",
       "2243    40.0\n",
       "2244    35.0\n",
       "2245    38.0\n",
       "Name: hours, Length: 2246, dtype: float64"
      ]
     },
     "execution_count": 22,
     "metadata": {},
     "output_type": "execute_result"
    }
   ],
   "source": [
    "b = data_frame.hours\n",
    "b"
   ]
  },
  {
   "cell_type": "code",
   "execution_count": 23,
   "id": "f1fb3609",
   "metadata": {},
   "outputs": [
    {
     "data": {
      "image/png": "[encoded data removed]",
      "text/plain": [
       "<Figure size 432x288 with 1 Axes>"
      ]
     },
     "metadata": {
      "needs_background": "light"
     },
     "output_type": "display_data"
    }
   ],
   "source": [
    "plt.plot(a);"
   ]
  },
  {
   "cell_type": "code",
   "execution_count": 24,
   "id": "64f7ab47",
   "metadata": {},
   "outputs": [
    {
     "data": {
      "image/png": "[encoded data removed]",
      "text/plain": [
       "<Figure size 432x288 with 1 Axes>"
      ]
     },
     "metadata": {
      "needs_background": "light"
     },
     "output_type": "display_data"
    }
   ],
   "source": [
    "plt.plot(b);"
   ]
  },
  {
   "cell_type": "code",
   "execution_count": 25,
   "id": "1049acce",
   "metadata": {},
   "outputs": [
    {
     "data": {
      "image/png": "[encoded data removed]",
      "text/plain": [
       "<Figure size 432x288 with 1 Axes>"
      ]
     },
     "metadata": {
      "needs_background": "light"
     },
     "output_type": "display_data"
    }
   ],
   "source": [
    "# some output might not be clear therefore use log for it to be cear\n",
    "x =np.log(a)\n",
    "y = np.log(b)\n",
    "plt.plot(x,y,'o');\n",
    "plt.xlabel(\"Wage\");\n",
    "plt.ylabel(\"Hours worked\");\n",
    "plt.title('Scatter plot of wage and Hours worked');\n"
   ]
  },
  {
   "cell_type": "code",
   "execution_count": 26,
   "id": "f5873582",
   "metadata": {},
   "outputs": [
    {
     "data": {
      "image/png": "[encoded data removed]",
      "text/plain": [
       "<Figure size 432x288 with 1 Axes>"
      ]
     },
     "metadata": {
      "needs_background": "light"
     },
     "output_type": "display_data"
    }
   ],
   "source": [
    "plt.plot(a,b,'o');\n",
    "plt.xlabel(\"Wage\");\n",
    "plt.ylabel(\"Hours worked\");\n",
    "plt.title('Scatter plot of wage and Hours worked');\n"
   ]
  },
  {
   "cell_type": "code",
   "execution_count": 27,
   "id": "fdc857bb",
   "metadata": {},
   "outputs": [
    {
     "data": {
      "text/plain": [
       "0       10.33333\n",
       "1       13.62179\n",
       "2       17.73077\n",
       "3       13.21154\n",
       "4       17.82051\n",
       "          ...   \n",
       "2241    11.98718\n",
       "2242    12.70513\n",
       "2243    18.85897\n",
       "2244    11.16026\n",
       "2245    10.59615\n",
       "Name: ttl_exp, Length: 2246, dtype: float64"
      ]
     },
     "execution_count": 27,
     "metadata": {},
     "output_type": "execute_result"
    }
   ],
   "source": [
    "c = data_frame.ttl_exp \n",
    "c"
   ]
  },
  {
   "cell_type": "code",
   "execution_count": 28,
   "id": "f961860c",
   "metadata": {},
   "outputs": [
    {
     "data": {
      "text/plain": [
       "0        5.333333\n",
       "1        5.250000\n",
       "2        1.250000\n",
       "3        1.750000\n",
       "4       17.750000\n",
       "          ...    \n",
       "2241     2.083333\n",
       "2242    12.166670\n",
       "2243     9.583333\n",
       "2244    10.750000\n",
       "2245     3.416667\n",
       "Name: tenure, Length: 2246, dtype: float64"
      ]
     },
     "execution_count": 28,
     "metadata": {},
     "output_type": "execute_result"
    }
   ],
   "source": [
    "d = data_frame.tenure\n",
    "d"
   ]
  },
  {
   "cell_type": "code",
   "execution_count": 29,
   "id": "a6a0558c",
   "metadata": {},
   "outputs": [
    {
     "data": {
      "image/png": "[encoded data removed]",
      "text/plain": [
       "<Figure size 432x288 with 1 Axes>"
      ]
     },
     "metadata": {
      "needs_background": "light"
     },
     "output_type": "display_data"
    }
   ],
   "source": [
    "plt.plot(c);"
   ]
  },
  {
   "cell_type": "code",
   "execution_count": 30,
   "id": "5045b0d3",
   "metadata": {},
   "outputs": [
    {
     "data": {
      "image/png": "[encoded data removed]",
      "text/plain": [
       "<Figure size 432x288 with 1 Axes>"
      ]
     },
     "metadata": {
      "needs_background": "light"
     },
     "output_type": "display_data"
    }
   ],
   "source": [
    "plt.plot(d);"
   ]
  },
  {
   "cell_type": "code",
   "execution_count": 31,
   "id": "3cc460b9",
   "metadata": {},
   "outputs": [
    {
     "data": {
      "image/png": "[encoded data removed]",
      "text/plain": [
       "<Figure size 432x288 with 1 Axes>"
      ]
     },
     "metadata": {
      "needs_background": "light"
     },
     "output_type": "display_data"
    }
   ],
   "source": [
    "plt.plot(c,d,'o');\n",
    "plt.xlabel(\"Total EXperience\");\n",
    "plt.ylabel(\"Tenure\");\n",
    "plt.title('Scatter plot of Total Experience and Tenure');\n"
   ]
  },
  {
   "cell_type": "code",
   "execution_count": 32,
   "id": "b6502553",
   "metadata": {},
   "outputs": [
    {
     "data": {
      "text/html": [
       "<div>\n",
       "<style scoped>\n",
       "    .dataframe tbody tr th:only-of-type {\n",
       "        vertical-align: middle;\n",
       "    }\n",
       "\n",
       "    .dataframe tbody tr th {\n",
       "        vertical-align: top;\n",
       "    }\n",
       "\n",
       "    .dataframe thead th {\n",
       "        text-align: right;\n",
       "    }\n",
       "</style>\n",
       "<table border=\"1\" class=\"dataframe\">\n",
       "  <thead>\n",
       "    <tr style=\"text-align: right;\">\n",
       "      <th></th>\n",
       "      <th>wage</th>\n",
       "      <th>hours</th>\n",
       "      <th>ttl_exp</th>\n",
       "      <th>tenure</th>\n",
       "    </tr>\n",
       "  </thead>\n",
       "  <tbody>\n",
       "    <tr>\n",
       "      <th>wage</th>\n",
       "      <td>1.000000</td>\n",
       "      <td>0.159144</td>\n",
       "      <td>0.265477</td>\n",
       "      <td>0.177679</td>\n",
       "    </tr>\n",
       "    <tr>\n",
       "      <th>hours</th>\n",
       "      <td>0.159144</td>\n",
       "      <td>1.000000</td>\n",
       "      <td>0.229542</td>\n",
       "      <td>0.160849</td>\n",
       "    </tr>\n",
       "    <tr>\n",
       "      <th>ttl_exp</th>\n",
       "      <td>0.265477</td>\n",
       "      <td>0.229542</td>\n",
       "      <td>1.000000</td>\n",
       "      <td>0.576603</td>\n",
       "    </tr>\n",
       "    <tr>\n",
       "      <th>tenure</th>\n",
       "      <td>0.177679</td>\n",
       "      <td>0.160849</td>\n",
       "      <td>0.576603</td>\n",
       "      <td>1.000000</td>\n",
       "    </tr>\n",
       "  </tbody>\n",
       "</table>\n",
       "</div>"
      ],
      "text/plain": [
       "             wage     hours   ttl_exp    tenure\n",
       "wage     1.000000  0.159144  0.265477  0.177679\n",
       "hours    0.159144  1.000000  0.229542  0.160849\n",
       "ttl_exp  0.265477  0.229542  1.000000  0.576603\n",
       "tenure   0.177679  0.160849  0.576603  1.000000"
      ]
     },
     "execution_count": 32,
     "metadata": {},
     "output_type": "execute_result"
    }
   ],
   "source": [
    "subset =['wage','hours','ttl_exp','tenure']\n",
    "sub_set = data_frame[subset]\n",
    "sub_set.corr()"
   ]
  },
  {
   "cell_type": "markdown",
   "id": "9e2a4a8c",
   "metadata": {},
   "source": [
    "#### positive relationship between tenure and total experience since they are all positives\n",
    "#### moderate relationship(0.6). This means that people who are higly experienced are more likely to get the tenure\n"
   ]
  },
  {
   "cell_type": "code",
   "execution_count": 33,
   "id": "13f9f569",
   "metadata": {},
   "outputs": [],
   "source": [
    "import statsmodels.formula.api as smf"
   ]
  },
  {
   "cell_type": "code",
   "execution_count": 34,
   "id": "b6c49bed",
   "metadata": {},
   "outputs": [
    {
     "data": {
      "text/plain": [
       "Intercept    4.529512\n",
       "b            0.087189\n",
       "dtype: float64"
      ]
     },
     "execution_count": 34,
     "metadata": {},
     "output_type": "execute_result"
    }
   ],
   "source": [
    "#fitting a simple linear Regression\n",
    "results = smf.ols('a ~ b', data=data_frame).fit()\n",
    "results.params"
   ]
  },
  {
   "cell_type": "markdown",
   "id": "5bc2f4f3",
   "metadata": {},
   "source": [
    "y  = 4.5  + 0.09x\n",
    "one unit of b(hours) will increase by 0.09 leaving the intercept constant(holding all the other variables constant)"
   ]
  },
  {
   "cell_type": "code",
   "execution_count": 35,
   "id": "9d0e0773",
   "metadata": {},
   "outputs": [
    {
     "data": {
      "text/plain": [
       "Intercept    2.031679\n",
       "b            0.056616\n",
       "c            0.274117\n",
       "d            0.036302\n",
       "dtype: float64"
      ]
     },
     "execution_count": 35,
     "metadata": {},
     "output_type": "execute_result"
    }
   ],
   "source": [
    "# fitting a multiple linear regression\n",
    "results = smf.ols(\"a ~ b +c + d\", data=data_frame).fit()\n",
    "results.params"
   ]
  },
  {
   "cell_type": "markdown",
   "id": "ab058075",
   "metadata": {},
   "source": [
    "y  = 2.3 + 0.06x +0.27x+0.036x\n",
    "if the number of hours increases by one unit,y(total experience) will increase by that unit leaving all other  variables constant"
   ]
  },
  {
   "cell_type": "markdown",
   "id": "f40d86b2",
   "metadata": {},
   "source": [
    "Modelling step by step"
   ]
  },
  {
   "cell_type": "markdown",
   "id": "8935c425",
   "metadata": {},
   "source": [
    "### Choosing a class of modeling"
   ]
  },
  {
   "cell_type": "code",
   "execution_count": 44,
   "id": "ce122071",
   "metadata": {},
   "outputs": [],
   "source": [
    "from sklearn.linear_model import LinearRegression # importing linear regression model"
   ]
  },
  {
   "cell_type": "code",
   "execution_count": 45,
   "id": "b2c2c813",
   "metadata": {},
   "outputs": [
    {
     "data": {
      "text/html": [
       "<style>#sk-container-id-3 {color: black;background-color: white;}#sk-container-id-3 pre{padding: 0;}#sk-container-id-3 div.sk-toggleable {background-color: white;}#sk-container-id-3 label.sk-toggleable__label {cursor: pointer;display: block;width: 100%;margin-bottom: 0;padding: 0.3em;box-sizing: border-box;text-align: center;}#sk-container-id-3 label.sk-toggleable__label-arrow:before {content: \"▸\";float: left;margin-right: 0.25em;color: #696969;}#sk-container-id-3 label.sk-toggleable__label-arrow:hover:before {color: black;}#sk-container-id-3 div.sk-estimator:hover label.sk-toggleable__label-arrow:before {color: black;}#sk-container-id-3 div.sk-toggleable__content {max-height: 0;max-width: 0;overflow: hidden;text-align: left;background-color: #f0f8ff;}#sk-container-id-3 div.sk-toggleable__content pre {margin: 0.2em;color: black;border-radius: 0.25em;background-color: #f0f8ff;}#sk-container-id-3 input.sk-toggleable__control:checked~div.sk-toggleable__content {max-height: 200px;max-width: 100%;overflow: auto;}#sk-container-id-3 input.sk-toggleable__control:checked~label.sk-toggleable__label-arrow:before {content: \"▾\";}#sk-container-id-3 div.sk-estimator input.sk-toggleable__control:checked~label.sk-toggleable__label {background-color: #d4ebff;}#sk-container-id-3 div.sk-label input.sk-toggleable__control:checked~label.sk-toggleable__label {background-color: #d4ebff;}#sk-container-id-3 input.sk-hidden--visually {border: 0;clip: rect(1px 1px 1px 1px);clip: rect(1px, 1px, 1px, 1px);height: 1px;margin: -1px;overflow: hidden;padding: 0;position: absolute;width: 1px;}#sk-container-id-3 div.sk-estimator {font-family: monospace;background-color: #f0f8ff;border: 1px dotted black;border-radius: 0.25em;box-sizing: border-box;margin-bottom: 0.5em;}#sk-container-id-3 div.sk-estimator:hover {background-color: #d4ebff;}#sk-container-id-3 div.sk-parallel-item::after {content: \"\";width: 100%;border-bottom: 1px solid gray;flex-grow: 1;}#sk-container-id-3 div.sk-label:hover label.sk-toggleable__label {background-color: #d4ebff;}#sk-container-id-3 div.sk-serial::before {content: \"\";position: absolute;border-left: 1px solid gray;box-sizing: border-box;top: 0;bottom: 0;left: 50%;z-index: 0;}#sk-container-id-3 div.sk-serial {display: flex;flex-direction: column;align-items: center;background-color: white;padding-right: 0.2em;padding-left: 0.2em;position: relative;}#sk-container-id-3 div.sk-item {position: relative;z-index: 1;}#sk-container-id-3 div.sk-parallel {display: flex;align-items: stretch;justify-content: center;background-color: white;position: relative;}#sk-container-id-3 div.sk-item::before, #sk-container-id-3 div.sk-parallel-item::before {content: \"\";position: absolute;border-left: 1px solid gray;box-sizing: border-box;top: 0;bottom: 0;left: 50%;z-index: -1;}#sk-container-id-3 div.sk-parallel-item {display: flex;flex-direction: column;z-index: 1;position: relative;background-color: white;}#sk-container-id-3 div.sk-parallel-item:first-child::after {align-self: flex-end;width: 50%;}#sk-container-id-3 div.sk-parallel-item:last-child::after {align-self: flex-start;width: 50%;}#sk-container-id-3 div.sk-parallel-item:only-child::after {width: 0;}#sk-container-id-3 div.sk-dashed-wrapped {border: 1px dashed gray;margin: 0 0.4em 0.5em 0.4em;box-sizing: border-box;padding-bottom: 0.4em;background-color: white;}#sk-container-id-3 div.sk-label label {font-family: monospace;font-weight: bold;display: inline-block;line-height: 1.2em;}#sk-container-id-3 div.sk-label-container {text-align: center;}#sk-container-id-3 div.sk-container {/* jupyter's `normalize.less` sets `[hidden] { display: none; }` but bootstrap.min.css set `[hidden] { display: none !important; }` so we also need the `!important` here to be able to override the default hidden behavior on the sphinx rendered scikit-learn.org. See: https://github.com/scikit-learn/scikit-learn/issues/21755 */display: inline-block !important;position: relative;}#sk-container-id-3 div.sk-text-repr-fallback {display: none;}</style><div id=\"sk-container-id-3\" class=\"sk-top-container\"><div class=\"sk-text-repr-fallback\"><pre>LinearRegression()</pre><b>In a Jupyter environment, please rerun this cell to show the HTML representation or trust the notebook. <br />On GitHub, the HTML representation is unable to render, please try loading this page with nbviewer.org.</b></div><div class=\"sk-container\" hidden><div class=\"sk-item\"><div class=\"sk-estimator sk-toggleable\"><input class=\"sk-toggleable__control sk-hidden--visually\" id=\"sk-estimator-id-3\" type=\"checkbox\" checked><label for=\"sk-estimator-id-3\" class=\"sk-toggleable__label sk-toggleable__label-arrow\">LinearRegression</label><div class=\"sk-toggleable__content\"><pre>LinearRegression()</pre></div></div></div></div></div>"
      ],
      "text/plain": [
       "LinearRegression()"
      ]
     },
     "execution_count": 45,
     "metadata": {},
     "output_type": "execute_result"
    }
   ],
   "source": [
    "#Training a model\n",
    "model = LinearRegression(fit_intercept = True)\n",
    "model"
   ]
  },
  {
   "cell_type": "markdown",
   "id": "dabb3d41",
   "metadata": {},
   "source": [
    "### Arranging data into a features matrix(`x`) and target vector(`y`)"
   ]
  },
  {
   "cell_type": "markdown",
   "id": "d2a86937",
   "metadata": {},
   "source": [
    "###  Fit the model to the data"
   ]
  },
  {
   "cell_type": "code",
   "execution_count": 46,
   "id": "ed607850",
   "metadata": {},
   "outputs": [
    {
     "name": "stderr",
     "output_type": "stream",
     "text": [
      "C:\\Program Files\\KMSpico\\temp\\ipykernel_12612\\2104230212.py:1: FutureWarning: Support for multi-dimensional indexing (e.g. `obj[:, None]`) is deprecated and will be removed in a future version.  Convert to a numpy array before indexing instead.\n",
      "  a = a[:,np.newaxis]\n"
     ]
    },
    {
     "data": {
      "text/plain": [
       "array([[11.73913 ],\n",
       "       [ 6.400963],\n",
       "       [ 5.016723],\n",
       "       ...,\n",
       "       [ 3.824476],\n",
       "       [ 2.447664],\n",
       "       [ 7.15781 ]])"
      ]
     },
     "execution_count": 46,
     "metadata": {},
     "output_type": "execute_result"
    }
   ],
   "source": [
    "a = a[:,np.newaxis]\n",
    "a"
   ]
  },
  {
   "cell_type": "code",
   "execution_count": 47,
   "id": "5acb3208",
   "metadata": {},
   "outputs": [
    {
     "data": {
      "text/plain": [
       "(2246, 1)"
      ]
     },
     "execution_count": 47,
     "metadata": {},
     "output_type": "execute_result"
    }
   ],
   "source": [
    "a.shape"
   ]
  },
  {
   "cell_type": "code",
   "execution_count": 48,
   "id": "feabd6af",
   "metadata": {},
   "outputs": [
    {
     "data": {
      "text/plain": [
       "array([[[48.]],\n",
       "\n",
       "       [[40.]],\n",
       "\n",
       "       [[40.]],\n",
       "\n",
       "       ...,\n",
       "\n",
       "       [[40.]],\n",
       "\n",
       "       [[35.]],\n",
       "\n",
       "       [[38.]]])"
      ]
     },
     "execution_count": 48,
     "metadata": {},
     "output_type": "execute_result"
    }
   ],
   "source": [
    "b = b[:,np.newaxis]\n",
    "b"
   ]
  },
  {
   "cell_type": "code",
   "execution_count": 49,
   "id": "2b2db07d",
   "metadata": {},
   "outputs": [
    {
     "data": {
      "text/plain": [
       "(2246, 1, 1)"
      ]
     },
     "execution_count": 49,
     "metadata": {},
     "output_type": "execute_result"
    }
   ],
   "source": [
    "b.shape\n"
   ]
  },
  {
   "cell_type": "code",
   "execution_count": 50,
   "id": "60dc416e",
   "metadata": {},
   "outputs": [
    {
     "data": {
      "text/html": [
       "<style>#sk-container-id-4 {color: black;background-color: white;}#sk-container-id-4 pre{padding: 0;}#sk-container-id-4 div.sk-toggleable {background-color: white;}#sk-container-id-4 label.sk-toggleable__label {cursor: pointer;display: block;width: 100%;margin-bottom: 0;padding: 0.3em;box-sizing: border-box;text-align: center;}#sk-container-id-4 label.sk-toggleable__label-arrow:before {content: \"▸\";float: left;margin-right: 0.25em;color: #696969;}#sk-container-id-4 label.sk-toggleable__label-arrow:hover:before {color: black;}#sk-container-id-4 div.sk-estimator:hover label.sk-toggleable__label-arrow:before {color: black;}#sk-container-id-4 div.sk-toggleable__content {max-height: 0;max-width: 0;overflow: hidden;text-align: left;background-color: #f0f8ff;}#sk-container-id-4 div.sk-toggleable__content pre {margin: 0.2em;color: black;border-radius: 0.25em;background-color: #f0f8ff;}#sk-container-id-4 input.sk-toggleable__control:checked~div.sk-toggleable__content {max-height: 200px;max-width: 100%;overflow: auto;}#sk-container-id-4 input.sk-toggleable__control:checked~label.sk-toggleable__label-arrow:before {content: \"▾\";}#sk-container-id-4 div.sk-estimator input.sk-toggleable__control:checked~label.sk-toggleable__label {background-color: #d4ebff;}#sk-container-id-4 div.sk-label input.sk-toggleable__control:checked~label.sk-toggleable__label {background-color: #d4ebff;}#sk-container-id-4 input.sk-hidden--visually {border: 0;clip: rect(1px 1px 1px 1px);clip: rect(1px, 1px, 1px, 1px);height: 1px;margin: -1px;overflow: hidden;padding: 0;position: absolute;width: 1px;}#sk-container-id-4 div.sk-estimator {font-family: monospace;background-color: #f0f8ff;border: 1px dotted black;border-radius: 0.25em;box-sizing: border-box;margin-bottom: 0.5em;}#sk-container-id-4 div.sk-estimator:hover {background-color: #d4ebff;}#sk-container-id-4 div.sk-parallel-item::after {content: \"\";width: 100%;border-bottom: 1px solid gray;flex-grow: 1;}#sk-container-id-4 div.sk-label:hover label.sk-toggleable__label {background-color: #d4ebff;}#sk-container-id-4 div.sk-serial::before {content: \"\";position: absolute;border-left: 1px solid gray;box-sizing: border-box;top: 0;bottom: 0;left: 50%;z-index: 0;}#sk-container-id-4 div.sk-serial {display: flex;flex-direction: column;align-items: center;background-color: white;padding-right: 0.2em;padding-left: 0.2em;position: relative;}#sk-container-id-4 div.sk-item {position: relative;z-index: 1;}#sk-container-id-4 div.sk-parallel {display: flex;align-items: stretch;justify-content: center;background-color: white;position: relative;}#sk-container-id-4 div.sk-item::before, #sk-container-id-4 div.sk-parallel-item::before {content: \"\";position: absolute;border-left: 1px solid gray;box-sizing: border-box;top: 0;bottom: 0;left: 50%;z-index: -1;}#sk-container-id-4 div.sk-parallel-item {display: flex;flex-direction: column;z-index: 1;position: relative;background-color: white;}#sk-container-id-4 div.sk-parallel-item:first-child::after {align-self: flex-end;width: 50%;}#sk-container-id-4 div.sk-parallel-item:last-child::after {align-self: flex-start;width: 50%;}#sk-container-id-4 div.sk-parallel-item:only-child::after {width: 0;}#sk-container-id-4 div.sk-dashed-wrapped {border: 1px dashed gray;margin: 0 0.4em 0.5em 0.4em;box-sizing: border-box;padding-bottom: 0.4em;background-color: white;}#sk-container-id-4 div.sk-label label {font-family: monospace;font-weight: bold;display: inline-block;line-height: 1.2em;}#sk-container-id-4 div.sk-label-container {text-align: center;}#sk-container-id-4 div.sk-container {/* jupyter's `normalize.less` sets `[hidden] { display: none; }` but bootstrap.min.css set `[hidden] { display: none !important; }` so we also need the `!important` here to be able to override the default hidden behavior on the sphinx rendered scikit-learn.org. See: https://github.com/scikit-learn/scikit-learn/issues/21755 */display: inline-block !important;position: relative;}#sk-container-id-4 div.sk-text-repr-fallback {display: none;}</style><div id=\"sk-container-id-4\" class=\"sk-top-container\"><div class=\"sk-text-repr-fallback\"><pre>LinearRegression()</pre><b>In a Jupyter environment, please rerun this cell to show the HTML representation or trust the notebook. <br />On GitHub, the HTML representation is unable to render, please try loading this page with nbviewer.org.</b></div><div class=\"sk-container\" hidden><div class=\"sk-item\"><div class=\"sk-estimator sk-toggleable\"><input class=\"sk-toggleable__control sk-hidden--visually\" id=\"sk-estimator-id-4\" type=\"checkbox\" checked><label for=\"sk-estimator-id-4\" class=\"sk-toggleable__label sk-toggleable__label-arrow\">LinearRegression</label><div class=\"sk-toggleable__content\"><pre>LinearRegression()</pre></div></div></div></div></div>"
      ],
      "text/plain": [
       "LinearRegression()"
      ]
     },
     "execution_count": 50,
     "metadata": {},
     "output_type": "execute_result"
    }
   ],
   "source": [
    "model.fit(a,c)"
   ]
  },
  {
   "cell_type": "code",
   "execution_count": 51,
   "id": "4c28f2fd",
   "metadata": {},
   "outputs": [
    {
     "data": {
      "text/plain": [
       "array([0.2126484])"
      ]
     },
     "execution_count": 51,
     "metadata": {},
     "output_type": "execute_result"
    }
   ],
   "source": [
    "model.coef_"
   ]
  },
  {
   "cell_type": "code",
   "execution_count": 52,
   "id": "8f0c07ca",
   "metadata": {},
   "outputs": [
    {
     "data": {
      "text/plain": [
       "10.883347480258333"
      ]
     },
     "execution_count": 52,
     "metadata": {},
     "output_type": "execute_result"
    }
   ],
   "source": [
    "model.intercept_"
   ]
  },
  {
   "cell_type": "markdown",
   "id": "f701216a",
   "metadata": {},
   "source": [
    "### Predict labels of unknown data"
   ]
  },
  {
   "cell_type": "code",
   "execution_count": 69,
   "id": "e7004b57",
   "metadata": {},
   "outputs": [
    {
     "data": {
      "text/plain": [
       "array([ -1.        ,   1.28571429,   3.57142857,   5.85714286,\n",
       "         8.14285714,  10.42857143,  12.71428571,  15.        ,\n",
       "        17.28571429,  19.57142857,  21.85714286,  24.14285714,\n",
       "        26.42857143,  28.71428571,  31.        ,  33.28571429,\n",
       "        35.57142857,  37.85714286,  40.14285714,  42.42857143,\n",
       "        44.71428571,  47.        ,  49.28571429,  51.57142857,\n",
       "        53.85714286,  56.14285714,  58.42857143,  60.71428571,\n",
       "        63.        ,  65.28571429,  67.57142857,  69.85714286,\n",
       "        72.14285714,  74.42857143,  76.71428571,  79.        ,\n",
       "        81.28571429,  83.57142857,  85.85714286,  88.14285714,\n",
       "        90.42857143,  92.71428571,  95.        ,  97.28571429,\n",
       "        99.57142857, 101.85714286, 104.14285714, 106.42857143,\n",
       "       108.71428571, 111.        ])"
      ]
     },
     "execution_count": 69,
     "metadata": {},
     "output_type": "execute_result"
    }
   ],
   "source": [
    "south =np.linspace(-1,111)\n",
    "south"
   ]
  },
  {
   "cell_type": "code",
   "execution_count": 70,
   "id": "d6224cd6",
   "metadata": {},
   "outputs": [
    {
     "data": {
      "text/plain": [
       "array([[ -1.        ],\n",
       "       [  1.28571429],\n",
       "       [  3.57142857],\n",
       "       [  5.85714286],\n",
       "       [  8.14285714],\n",
       "       [ 10.42857143],\n",
       "       [ 12.71428571],\n",
       "       [ 15.        ],\n",
       "       [ 17.28571429],\n",
       "       [ 19.57142857],\n",
       "       [ 21.85714286],\n",
       "       [ 24.14285714],\n",
       "       [ 26.42857143],\n",
       "       [ 28.71428571],\n",
       "       [ 31.        ],\n",
       "       [ 33.28571429],\n",
       "       [ 35.57142857],\n",
       "       [ 37.85714286],\n",
       "       [ 40.14285714],\n",
       "       [ 42.42857143],\n",
       "       [ 44.71428571],\n",
       "       [ 47.        ],\n",
       "       [ 49.28571429],\n",
       "       [ 51.57142857],\n",
       "       [ 53.85714286],\n",
       "       [ 56.14285714],\n",
       "       [ 58.42857143],\n",
       "       [ 60.71428571],\n",
       "       [ 63.        ],\n",
       "       [ 65.28571429],\n",
       "       [ 67.57142857],\n",
       "       [ 69.85714286],\n",
       "       [ 72.14285714],\n",
       "       [ 74.42857143],\n",
       "       [ 76.71428571],\n",
       "       [ 79.        ],\n",
       "       [ 81.28571429],\n",
       "       [ 83.57142857],\n",
       "       [ 85.85714286],\n",
       "       [ 88.14285714],\n",
       "       [ 90.42857143],\n",
       "       [ 92.71428571],\n",
       "       [ 95.        ],\n",
       "       [ 97.28571429],\n",
       "       [ 99.57142857],\n",
       "       [101.85714286],\n",
       "       [104.14285714],\n",
       "       [106.42857143],\n",
       "       [108.71428571],\n",
       "       [111.        ]])"
      ]
     },
     "execution_count": 70,
     "metadata": {},
     "output_type": "execute_result"
    }
   ],
   "source": [
    "south = south[:,np.newaxis]\n",
    "south"
   ]
  },
  {
   "cell_type": "code",
   "execution_count": 71,
   "id": "b7b8ac69",
   "metadata": {},
   "outputs": [
    {
     "data": {
      "text/plain": [
       "array([10.67069908, 11.15675256, 11.64280604, 12.12885951, 12.61491299,\n",
       "       13.10096646, 13.58701994, 14.07307342, 14.55912689, 15.04518037,\n",
       "       15.53123384, 16.01728732, 16.5033408 , 16.98939427, 17.47544775,\n",
       "       17.96150122, 18.4475547 , 18.93360818, 19.41966165, 19.90571513,\n",
       "       20.3917686 , 20.87782208, 21.36387556, 21.84992903, 22.33598251,\n",
       "       22.82203598, 23.30808946, 23.79414294, 24.28019641, 24.76624989,\n",
       "       25.25230336, 25.73835684, 26.22441032, 26.71046379, 27.19651727,\n",
       "       27.68257074, 28.16862422, 28.6546777 , 29.14073117, 29.62678465,\n",
       "       30.11283812, 30.5988916 , 31.08494508, 31.57099855, 32.05705203,\n",
       "       32.5431055 , 33.02915898, 33.51521246, 34.00126593, 34.48731941])"
      ]
     },
     "execution_count": 71,
     "metadata": {},
     "output_type": "execute_result"
    }
   ],
   "source": [
    "college =model.predict(south)\n",
    "college"
   ]
  },
  {
   "cell_type": "code",
   "execution_count": 72,
   "id": "42e134c8",
   "metadata": {},
   "outputs": [
    {
     "data": {
      "image/png": "[encoded data removed]",
      "text/plain": [
       "<Figure size 432x288 with 1 Axes>"
      ]
     },
     "metadata": {
      "needs_background": "light"
     },
     "output_type": "display_data"
    }
   ],
   "source": [
    "plt.scatter(south,college);"
   ]
  },
  {
   "cell_type": "code",
   "execution_count": 73,
   "id": "b1ab1993",
   "metadata": {},
   "outputs": [
    {
     "data": {
      "image/png": "[encoded data removed]",
      "text/plain": [
       "<Figure size 432x288 with 1 Axes>"
      ]
     },
     "metadata": {
      "needs_background": "light"
     },
     "output_type": "display_data"
    }
   ],
   "source": [
    "plt.scatter(a,b);\n",
    "plt.scatter(south,college);"
   ]
  },
  {
   "cell_type": "code",
   "execution_count": 74,
   "id": "5294a182",
   "metadata": {},
   "outputs": [
    {
     "data": {
      "image/png": "[encoded data removed]",
      "text/plain": [
       "<Figure size 432x288 with 1 Axes>"
      ]
     },
     "metadata": {
      "needs_background": "light"
     },
     "output_type": "display_data"
    }
   ],
   "source": [
    "plt.scatter(c,d);\n",
    "plt.scatter(south,college);"
   ]
  },
  {
   "cell_type": "code",
   "execution_count": 75,
   "id": "3d401fa9",
   "metadata": {},
   "outputs": [
    {
     "data": {
      "image/png": "[encoded data removed]",
      "text/plain": [
       "<Figure size 432x288 with 1 Axes>"
      ]
     },
     "metadata": {
      "needs_background": "light"
     },
     "output_type": "display_data"
    }
   ],
   "source": [
    "plt.scatter(a,b);\n",
    "plt.scatter(c,d);\n"
   ]
  },
  {
   "cell_type": "code",
   "execution_count": 76,
   "id": "e6e0b154",
   "metadata": {},
   "outputs": [
    {
     "data": {
      "image/png": "[encoded data removed]",
      "text/plain": [
       "<Figure size 432x288 with 1 Axes>"
      ]
     },
     "metadata": {
      "needs_background": "light"
     },
     "output_type": "display_data"
    }
   ],
   "source": [
    "plt.scatter(a,b);\n",
    "plt.scatter(c,d);\n",
    "plt.scatter(south,college);"
   ]
  },
  {
   "cell_type": "code",
   "execution_count": null,
   "id": "9d1f023b",
   "metadata": {},
   "outputs": [],
   "source": []
  },
  {
   "cell_type": "code",
   "execution_count": null,
   "id": "0d192e0e",
   "metadata": {},
   "outputs": [],
   "source": []
  },
  {
   "cell_type": "code",
   "execution_count": null,
   "id": "9642a6c9",
   "metadata": {},
   "outputs": [],
   "source": []
  },
  {
   "cell_type": "code",
   "execution_count": null,
   "id": "2de8fbf1",
   "metadata": {},
   "outputs": [],
   "source": []
  }
 ],
 "metadata": {
  "kernelspec": {
   "display_name": "Python 3 (ipykernel)",
   "language": "python",
   "name": "python3"
  },
  "language_info": {
   "codemirror_mode": {
    "name": "ipython",
    "version": 3
   },
   "file_extension": ".py",
   "mimetype": "text/x-python",
   "name": "python",
   "nbconvert_exporter": "python",
   "pygments_lexer": "ipython3",
   "version": "3.10.5"
  }
 },
 "nbformat": 4,
 "nbformat_minor": 5
}
