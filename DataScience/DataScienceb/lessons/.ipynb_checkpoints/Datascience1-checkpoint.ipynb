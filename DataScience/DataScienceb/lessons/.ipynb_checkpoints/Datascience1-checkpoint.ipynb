{
 "cells": [
  {
   "cell_type": "markdown",
   "id": "5a71b454",
   "metadata": {},
   "source": [
    "# Numbers\n",
    "Pyhton can work with several numbers but the common ones are int and float"
   ]
  },
  {
   "cell_type": "markdown",
   "id": "cd5f3412",
   "metadata": {},
   "source": [
    "# Arithmetic\n",
    "ie \n"
   ]
  },
  {
   "cell_type": "code",
   "execution_count": 1,
   "id": "17b412a3",
   "metadata": {},
   "outputs": [
    {
     "data": {
      "text/plain": [
       "2"
      ]
     },
     "execution_count": 1,
     "metadata": {},
     "output_type": "execute_result"
    }
   ],
   "source": [
    "#ADDITION AND SUBTRACTION\n",
    "3+1-2"
   ]
  },
  {
   "cell_type": "code",
   "execution_count": 2,
   "id": "ad5c7809",
   "metadata": {},
   "outputs": [
    {
     "data": {
      "text/plain": [
       "6"
      ]
     },
     "execution_count": 2,
     "metadata": {},
     "output_type": "execute_result"
    }
   ],
   "source": [
    "#MULTIPLICATION\n",
    "2*3"
   ]
  },
  {
   "cell_type": "code",
   "execution_count": 7,
   "id": "18673e74",
   "metadata": {},
   "outputs": [
    {
     "data": {
      "text/plain": [
       "2"
      ]
     },
     "execution_count": 7,
     "metadata": {},
     "output_type": "execute_result"
    }
   ],
   "source": [
    "#Modulus\n",
    "2%3"
   ]
  },
  {
   "cell_type": "code",
   "execution_count": 5,
   "id": "a1e07f1b",
   "metadata": {},
   "outputs": [
    {
     "data": {
      "text/plain": [
       "8"
      ]
     },
     "execution_count": 5,
     "metadata": {},
     "output_type": "execute_result"
    }
   ],
   "source": [
    "#EXPONENTIAL\n",
    "2**3"
   ]
  },
  {
   "cell_type": "code",
   "execution_count": 6,
   "id": "19e5ef91",
   "metadata": {},
   "outputs": [
    {
     "data": {
      "text/plain": [
       "0"
      ]
     },
     "execution_count": 6,
     "metadata": {},
     "output_type": "execute_result"
    }
   ],
   "source": [
    "#FLOW DIVISION\n",
    "2//3"
   ]
  },
  {
   "cell_type": "code",
   "execution_count": 8,
   "id": "2a1cbaf6",
   "metadata": {},
   "outputs": [
    {
     "data": {
      "text/plain": [
       "0.6666666666666666"
      ]
     },
     "execution_count": 8,
     "metadata": {},
     "output_type": "execute_result"
    }
   ],
   "source": [
    "#DIVISION\n",
    "2/3"
   ]
  },
  {
   "cell_type": "markdown",
   "id": "5b222c7c",
   "metadata": {},
   "source": [
    "# Exercise\n",
    "Write a python expression that raises 1+2 to the power of 3*4"
   ]
  },
  {
   "cell_type": "code",
   "execution_count": 18,
   "id": "f1a7634b",
   "metadata": {},
   "outputs": [
    {
     "data": {
      "text/plain": [
       "531441"
      ]
     },
     "execution_count": 18,
     "metadata": {},
     "output_type": "execute_result"
    }
   ],
   "source": [
    "#SOLUTION\n",
    "#Order of precedence\n",
    "(1+2)**(3*4)\n",
    "#PEDMAS"
   ]
  },
  {
   "cell_type": "markdown",
   "id": "83ebed5f",
   "metadata": {},
   "source": [
    "# Maths Functions\n"
   ]
  },
  {
   "cell_type": "code",
   "execution_count": 11,
   "id": "0b2d1bc1",
   "metadata": {},
   "outputs": [],
   "source": [
    "import numpy as np"
   ]
  },
  {
   "cell_type": "code",
   "execution_count": 12,
   "id": "6a644e47",
   "metadata": {},
   "outputs": [
    {
     "data": {
      "text/plain": [
       "3.141592653589793"
      ]
     },
     "execution_count": 12,
     "metadata": {},
     "output_type": "execute_result"
    }
   ],
   "source": [
    "np.pi"
   ]
  },
  {
   "cell_type": "code",
   "execution_count": 14,
   "id": "28b35c9f",
   "metadata": {},
   "outputs": [
    {
     "data": {
      "text/plain": [
       "4.605170185988092"
      ]
     },
     "execution_count": 14,
     "metadata": {},
     "output_type": "execute_result"
    }
   ],
   "source": [
    "np.log(100)"
   ]
  },
  {
   "cell_type": "code",
   "execution_count": 15,
   "id": "9704b81f",
   "metadata": {},
   "outputs": [
    {
     "data": {
      "text/plain": [
       "2.718281828459045"
      ]
     },
     "execution_count": 15,
     "metadata": {},
     "output_type": "execute_result"
    }
   ],
   "source": [
    "np.exp(1)"
   ]
  },
  {
   "cell_type": "markdown",
   "id": "fd7680d2",
   "metadata": {},
   "source": [
    "# log(e*x) = x \n",
    "where by -700 <= x <= 700"
   ]
  },
  {
   "cell_type": "code",
   "execution_count": null,
   "id": "50e9781e",
   "metadata": {},
   "outputs": [],
   "source": []
  },
  {
   "cell_type": "markdown",
   "id": "433f9b51",
   "metadata": {},
   "source": [
    "# VARIABLES\n",
    "A  variable is a name that refers to a value ie x = 5 means 5 is the value assigned to x variable ie "
   ]
  },
  {
   "cell_type": "code",
   "execution_count": 27,
   "id": "432ff9a9",
   "metadata": {},
   "outputs": [
    {
     "data": {
      "text/plain": [
       "6"
      ]
     },
     "execution_count": 27,
     "metadata": {},
     "output_type": "execute_result"
    }
   ],
   "source": [
    "x = 5\n",
    "\n",
    "x +1"
   ]
  },
  {
   "cell_type": "code",
   "execution_count": 22,
   "id": "737e1404",
   "metadata": {},
   "outputs": [
    {
     "data": {
      "text/plain": [
       "25"
      ]
     },
     "execution_count": 22,
     "metadata": {},
     "output_type": "execute_result"
    }
   ],
   "source": [
    "x**2"
   ]
  },
  {
   "cell_type": "code",
   "execution_count": 23,
   "id": "91888f38",
   "metadata": {},
   "outputs": [
    {
     "data": {
      "text/plain": [
       "148.4131591025766"
      ]
     },
     "execution_count": 23,
     "metadata": {},
     "output_type": "execute_result"
    }
   ],
   "source": [
    "np.exp(x)"
   ]
  },
  {
   "cell_type": "markdown",
   "id": "42951d23",
   "metadata": {},
   "source": [
    "# Calculations with variable\n",
    "\n",
    "if you deposit $2100 in a bank, paying an annual interesr rate of 3.4\\% compounded quarterly, we can compute the balance for 7 years by defeining these variables ie"
   ]
  },
  {
   "cell_type": "code",
   "execution_count": 28,
   "id": "009321d9",
   "metadata": {},
   "outputs": [],
   "source": [
    "p = 2100#principle\n",
    "r = 0.034#rate\n",
    "n = 4#Number of years that have been deposited yet\n",
    "t = 7#Total number of years"
   ]
  },
  {
   "cell_type": "code",
   "execution_count": 32,
   "id": "d35d0118",
   "metadata": {},
   "outputs": [
    {
     "data": {
      "text/plain": [
       "2661.6108980682593"
      ]
     },
     "execution_count": 32,
     "metadata": {},
     "output_type": "execute_result"
    }
   ],
   "source": [
    "v = 2100*(1+0.034/4)**(4*7)\n",
    "v"
   ]
  },
  {
   "cell_type": "code",
   "execution_count": 33,
   "id": "d41d12a4",
   "metadata": {},
   "outputs": [
    {
     "data": {
      "text/plain": [
       "2658.965091277534"
      ]
     },
     "execution_count": 33,
     "metadata": {},
     "output_type": "execute_result"
    }
   ],
   "source": [
    "v = 2100*(1+0.034/2)**(2*7)\n",
    "v"
   ]
  },
  {
   "cell_type": "code",
   "execution_count": 34,
   "id": "e16fbd0c",
   "metadata": {},
   "outputs": [
    {
     "data": {
      "text/plain": [
       "6.175728457877729"
      ]
     },
     "execution_count": 34,
     "metadata": {},
     "output_type": "execute_result"
    }
   ],
   "source": [
    "w = 2100**(0.034*7)\n",
    "w"
   ]
  },
  {
   "cell_type": "code",
   "execution_count": 35,
   "id": "19879b11",
   "metadata": {},
   "outputs": [
    {
     "data": {
      "text/plain": [
       "1.6823289251587048"
      ]
     },
     "execution_count": 35,
     "metadata": {},
     "output_type": "execute_result"
    }
   ],
   "source": [
    "w = 2100**(0.034*2)\n",
    "w"
   ]
  },
  {
   "cell_type": "markdown",
   "id": "acf9cf50",
   "metadata": {},
   "source": [
    "# Times and Places\n",
    "places mean strings in terms of location\n",
    "here we cover some additional datatypes ie strings represent text ,dates,time\n",
    " A string is a sequence of letters,numbers and punctuation marks typed between single and double quotation marks ie \"elements\" \"of\" \"Data Science\" and they are assigned to variables ie \n",
    " first = \"Data\"\n",
    " last = 'Science'\n",
    " if the two strings are concatenated with space we get data science as two words and without space then its one word \n",
    " ie (first + ''last) and (first + last)\n",
    " for an expression\n",
    " \n",
    " "
   ]
  },
  {
   "cell_type": "code",
   "execution_count": 36,
   "id": "59e0dd19",
   "metadata": {},
   "outputs": [
    {
     "ename": "TypeError",
     "evalue": "can only concatenate str (not \"int\") to str",
     "output_type": "error",
     "traceback": [
      "\u001b[1;31m---------------------------------------------------------------------------\u001b[0m",
      "\u001b[1;31mTypeError\u001b[0m                                 Traceback (most recent call last)",
      "Input \u001b[1;32mIn [36]\u001b[0m, in \u001b[0;36m<cell line: 2>\u001b[1;34m()\u001b[0m\n\u001b[0;32m      1\u001b[0m actual \u001b[38;5;241m=\u001b[39m \u001b[38;5;124m\"\u001b[39m\u001b[38;5;124m123\u001b[39m\u001b[38;5;124m\"\u001b[39m\n\u001b[1;32m----> 2\u001b[0m \u001b[43mactual\u001b[49m\u001b[43m \u001b[49m\u001b[38;5;241;43m+\u001b[39;49m\u001b[43m \u001b[49m\u001b[38;5;241;43m1\u001b[39;49m\n",
      "\u001b[1;31mTypeError\u001b[0m: can only concatenate str (not \"int\") to str"
     ]
    }
   ],
   "source": [
    "actual = \"123\"\n",
    "actual + 1"
   ]
  },
  {
   "cell_type": "code",
   "execution_count": 37,
   "id": "e53a0691",
   "metadata": {},
   "outputs": [
    {
     "data": {
      "text/plain": [
       "'123123123'"
      ]
     },
     "execution_count": 37,
     "metadata": {},
     "output_type": "execute_result"
    }
   ],
   "source": [
    "actual*3"
   ]
  },
  {
   "cell_type": "code",
   "execution_count": 38,
   "id": "b9bcbfdb",
   "metadata": {},
   "outputs": [
    {
     "data": {
      "text/plain": [
       "123"
      ]
     },
     "execution_count": 38,
     "metadata": {},
     "output_type": "execute_result"
    }
   ],
   "source": [
    "int(\"123\")"
   ]
  },
  {
   "cell_type": "code",
   "execution_count": 39,
   "id": "b3121cb8",
   "metadata": {},
   "outputs": [
    {
     "data": {
      "text/plain": [
       "123.0"
      ]
     },
     "execution_count": 39,
     "metadata": {},
     "output_type": "execute_result"
    }
   ],
   "source": [
    "float(\"123\")"
   ]
  },
  {
   "cell_type": "code",
   "execution_count": 40,
   "id": "fb40d9f3",
   "metadata": {},
   "outputs": [
    {
     "data": {
      "text/plain": [
       "'123'"
      ]
     },
     "execution_count": 40,
     "metadata": {},
     "output_type": "execute_result"
    }
   ],
   "source": [
    "str(123)"
   ]
  },
  {
   "cell_type": "code",
   "execution_count": 41,
   "id": "335e44e2",
   "metadata": {},
   "outputs": [
    {
     "data": {
      "text/plain": [
       "'12.3'"
      ]
     },
     "execution_count": 41,
     "metadata": {},
     "output_type": "execute_result"
    }
   ],
   "source": [
    "str(12.3)"
   ]
  },
  {
   "cell_type": "markdown",
   "id": "58202273",
   "metadata": {},
   "source": [
    "# Dates and Times\n"
   ]
  },
  {
   "cell_type": "code",
   "execution_count": 44,
   "id": "9472909c",
   "metadata": {},
   "outputs": [],
   "source": [
    "import scipy as sci"
   ]
  },
  {
   "cell_type": "code",
   "execution_count": 46,
   "id": "bb101a15",
   "metadata": {},
   "outputs": [
    {
     "data": {
      "text/plain": [
       "1.618033988749895"
      ]
     },
     "execution_count": 46,
     "metadata": {},
     "output_type": "execute_result"
    }
   ],
   "source": [
    "phi = (1+5**0.5)/2\n",
    "phi"
   ]
  },
  {
   "cell_type": "markdown",
   "id": "41f4d3f8",
   "metadata": {},
   "source": [
    "# Plotting\n",
    "  line graph - record something  to be visualised over time ie inflation,GDP however it works with one variable at atime\n",
    "  \n",
    " histogram\n",
    " \n",
    " scatter plots-deriving relationships\n",
    " \n",
    " barcharts- comparison\n",
    " \n",
    " pie charts\n",
    " \n",
    " slope chart -Different slopes with time\n",
    " \n",
    " stacked area chart\n",
    "# NB OWID _ Our world in Data\n",
    "# What are the needed libraries\n",
    "Seaborn as sns\n",
    "matplotlib.pyplot as plt\n",
    "matplotlib\n",
    "numpy\n",
    "scikit_-learn\n"
   ]
  },
  {
   "cell_type": "code",
   "execution_count": 1,
   "id": "db715aa2",
   "metadata": {},
   "outputs": [],
   "source": [
    "year = [2009, 2010, 2011, 2012, 2013, 2014, 2015, 2016, 2017, 2018]\n",
    "christian = [77,76,75,73,73,71,69,68,67,65]\n",
    "unaffiliated =[17, 17, 19, 19, 20, 21, 24, 23, 25,26]"
   ]
  },
  {
   "cell_type": "code",
   "execution_count": 23,
   "id": "8d9d19dd",
   "metadata": {},
   "outputs": [],
   "source": [
    "import numpy as np\n",
    "import matplotlib.pyplot as plt\n",
    "\n",
    "import seaborn as sns\n"
   ]
  },
  {
   "cell_type": "code",
   "execution_count": 24,
   "id": "7ea32dbb",
   "metadata": {},
   "outputs": [],
   "source": [
    "matplotlib inline"
   ]
  },
  {
   "cell_type": "code",
   "execution_count": 4,
   "id": "5bd064a6",
   "metadata": {},
   "outputs": [],
   "source": [
    "import matplotlib.pyplot as plt"
   ]
  },
  {
   "cell_type": "code",
   "execution_count": 5,
   "id": "ac2c64f9",
   "metadata": {},
   "outputs": [
    {
     "ename": "NameError",
     "evalue": "name 'year' is not defined",
     "output_type": "error",
     "traceback": [
      "\u001b[1;31m---------------------------------------------------------------------------\u001b[0m",
      "\u001b[1;31mNameError\u001b[0m                                 Traceback (most recent call last)",
      "Input \u001b[1;32mIn [5]\u001b[0m, in \u001b[0;36m<cell line: 1>\u001b[1;34m()\u001b[0m\n\u001b[1;32m----> 1\u001b[0m plt\u001b[38;5;241m.\u001b[39mplot(\u001b[43myear\u001b[49m,christian)\n",
      "\u001b[1;31mNameError\u001b[0m: name 'year' is not defined"
     ]
    }
   ],
   "source": [
    "plt.plot(year,christian);\n"
   ]
  },
  {
   "cell_type": "code",
   "execution_count": null,
   "id": "9fce984c",
   "metadata": {},
   "outputs": [],
   "source": [
    "plt.plot(year,unaffiliated);"
   ]
  },
  {
   "cell_type": "code",
   "execution_count": null,
   "id": "e3631222",
   "metadata": {},
   "outputs": [],
   "source": [
    "plt.plot(year,christian);\n",
    "plt.plot(year,unaffiliated);# christian and unaffiliated over time"
   ]
  },
  {
   "cell_type": "code",
   "execution_count": 39,
   "id": "9c26c698",
   "metadata": {},
   "outputs": [
    {
     "data": {
      "text/plain": [
       "[<matplotlib.lines.Line2D at 0x2e45d1306a0>]"
      ]
     },
     "execution_count": 39,
     "metadata": {},
     "output_type": "execute_result"
    },
    {
     "data": {
      "image/png": "[encoded data removed]",
      "text/plain": [
       "<Figure size 432x288 with 1 Axes>"
      ]
     },
     "metadata": {
      "needs_background": "light"
     },
     "output_type": "display_data"
    }
   ],
   "source": [
    "plt.plot(year,christian);\n",
    "plt.ylim(0,80)\n",
    "plt.plot(year,unaffiliated)# gives where to start and end"
   ]
  },
  {
   "cell_type": "code",
   "execution_count": 41,
   "id": "8b0ab906",
   "metadata": {},
   "outputs": [
    {
     "data": {
      "image/png": "[encoded data removed]",
      "text/plain": [
       "<Figure size 432x288 with 1 Axes>"
      ]
     },
     "metadata": {
      "needs_background": "light"
     },
     "output_type": "display_data"
    }
   ],
   "source": [
    "plt.plot(year,christian)\n",
    "plt.ylim(0,80)#limitation/axes scale\n",
    "plt.plot(year,unaffiliated)# gives where to start and end\n",
    "#labels(x,y and title label and they take strings as arguements)\n",
    "plt.xlabel(\"Year\");"
   ]
  },
  {
   "cell_type": "code",
   "execution_count": 42,
   "id": "6121e007",
   "metadata": {},
   "outputs": [
    {
     "data": {
      "image/png": "[encoded data removed]",
      "text/plain": [
       "<Figure size 432x288 with 1 Axes>"
      ]
     },
     "metadata": {
      "needs_background": "light"
     },
     "output_type": "display_data"
    }
   ],
   "source": [
    "plt.plot(year,christian)\n",
    "plt.ylim(0,80)#limitation/axes scale\n",
    "plt.plot(year,unaffiliated)# gives where to start and end\n",
    "#labels(x,y and title label and they take strings as arguements)\n",
    "plt.xlabel(\"Year\");\n",
    "plt.ylabel(\"Adults Percentage\");"
   ]
  },
  {
   "cell_type": "code",
   "execution_count": 45,
   "id": "ea0da81f",
   "metadata": {},
   "outputs": [
    {
     "data": {
      "image/png": "[encoded data removed]",
      "text/plain": [
       "<Figure size 432x288 with 1 Axes>"
      ]
     },
     "metadata": {
      "needs_background": "light"
     },
     "output_type": "display_data"
    }
   ],
   "source": [
    "plt.plot(year,christian)\n",
    "plt.ylim(0,80)#limitation/axes scale\n",
    "plt.plot(year,unaffiliated)# gives where to start and end\n",
    "#labels(x,y and title label and they take strings as arguements)\n",
    "plt.xlabel(\"Year\");\n",
    "plt.ylabel(\"Adults Percentage\");\n",
    "plt.title(\"Religious Affiliation\");"
   ]
  },
  {
   "cell_type": "code",
   "execution_count": 51,
   "id": "a416e2f7",
   "metadata": {},
   "outputs": [
    {
     "data": {
      "image/png": "[encoded data removed]",
      "text/plain": [
       "<Figure size 432x288 with 1 Axes>"
      ]
     },
     "metadata": {
      "needs_background": "light"
     },
     "output_type": "display_data"
    }
   ],
   "source": [
    "plt.plot(year,christian,label = \"christian\")\n",
    "plt.ylim(0,80)#limitation/axes scale\n",
    "plt.plot(year,unaffiliated, label = \"unaffiliated\")# gives where to start and end\n",
    "#labels(x,y and title label and they take strings as arguements)\n",
    "plt.xlabel(\"Year\");#X label\n",
    "plt.ylabel(\"Adults Percentage\");#ylabel\n",
    "plt.title(\"Religious Affiliation\");#title\n",
    "plt.legend();"
   ]
  },
  {
   "cell_type": "code",
   "execution_count": 56,
   "id": "b9cac455",
   "metadata": {},
   "outputs": [
    {
     "name": "stderr",
     "output_type": "stream",
     "text": [
      "No artists with labels found to put in legend.  Note that artists whose label start with an underscore are ignored when legend() is called with no argument.\n"
     ]
    },
    {
     "data": {
      "image/png": "[encoded data removed]",
      "text/plain": [
       "<Figure size 432x288 with 1 Axes>"
      ]
     },
     "metadata": {
      "needs_background": "light"
     },
     "output_type": "display_data"
    }
   ],
   "source": [
    "plt.plot(year,christian)\n",
    "plt.ylim(0,80)#limitation/axes scale\n",
    "plt.plot(year,unaffiliated)# gives where to start and end\n",
    "#labels(x,y and title label and they take strings as arguements)\n",
    "plt.xlabel(\"Year\");#X label\n",
    "plt.ylabel(\"Adults Percentage\");#ylabel\n",
    "plt.title(\"Religious Affiliation\");#title\n",
    "plt.legend();"
   ]
  },
  {
   "cell_type": "markdown",
   "id": "bba183b6",
   "metadata": {},
   "source": [
    "# replication\n",
    "# reproducible\n",
    "\n"
   ]
  },
  {
   "cell_type": "code",
   "execution_count": 65,
   "id": "5879ddba",
   "metadata": {},
   "outputs": [],
   "source": [
    "name_list =[\"lobster roll\", \n",
    "            \"chicken ceasar\",\n",
    "            \"bang bang chicken wrap\",\n",
    "            \"ham and cheese\",\n",
    "            \"Tuna and cucumber\",\n",
    "            \"egg sandwich\"\n",
    "           ]\n",
    "boston_price_list =[9.99,7.99,7.49,7,6.29,4.99]\n",
    "london_price_list = [7.5,5,4.4,5,3.75,2.25]  "
   ]
  },
  {
   "cell_type": "code",
   "execution_count": 66,
   "id": "b545965b",
   "metadata": {},
   "outputs": [
    {
     "data": {
      "image/png": "[encoded data removed]",
      "text/plain": [
       "<Figure size 432x288 with 1 Axes>"
      ]
     },
     "metadata": {
      "needs_background": "light"
     },
     "output_type": "display_data"
    }
   ],
   "source": [
    "plt.plot(boston_price_list,name_list);"
   ]
  },
  {
   "cell_type": "code",
   "execution_count": 67,
   "id": "fa9075d8",
   "metadata": {},
   "outputs": [
    {
     "data": {
      "image/png": "[encoded data removed]",
      "text/plain": [
       "<Figure size 432x288 with 1 Axes>"
      ]
     },
     "metadata": {
      "needs_background": "light"
     },
     "output_type": "display_data"
    }
   ],
   "source": [
    "plt.plot(boston_price_list,name_list);\n",
    "plt.xlabel(\"Price in USD\");"
   ]
  },
  {
   "cell_type": "markdown",
   "id": "26df3be1",
   "metadata": {},
   "source": [
    "#### name list is alist of strings and python orders them from top to bottom\n",
    "by default pyplot connects the codes with the lines however in the example above it doesnt make sense since the names are categorical and not continuous\n",
    "### categorical\n",
    "means of transport\n",
    "icecream falovors\n",
    "yorghurt\n",
    "create markers incase its a line graph\n",
    "\n",
    "### numerical\n",
    "1,2,3,4......\n",
    "### Binary\n",
    "0/1s\n",
    "### Discrete Values\n"
   ]
  },
  {
   "cell_type": "code",
   "execution_count": 71,
   "id": "04180c4b",
   "metadata": {},
   "outputs": [
    {
     "data": {
      "image/png": "[encoded data removed]",
      "text/plain": [
       "<Figure size 432x288 with 1 Axes>"
      ]
     },
     "metadata": {
      "needs_background": "light"
     },
     "output_type": "display_data"
    }
   ],
   "source": [
    "plt.plot(boston_price_list,name_list, marker=\"o\",linestyle=\"\");#separated the different categories\n",
    "\n",
    "plt.xlabel(\"price in USD\");\n"
   ]
  },
  {
   "cell_type": "code",
   "execution_count": 75,
   "id": "53ff18c9",
   "metadata": {},
   "outputs": [
    {
     "data": {
      "image/png": "[encoded data removed]",
      "text/plain": [
       "<Figure size 432x288 with 1 Axes>"
      ]
     },
     "metadata": {
      "needs_background": "light"
     },
     "output_type": "display_data"
    }
   ],
   "source": [
    "#ADDING MARKERS AND LINESTYLE\n",
    "plt.plot(boston_price_list,name_list, marker=\"o\",linestyle=\"\");#separated the different categories\n",
    "\n",
    "plt.plot(london_price_list,name_list, marker=\"s\",linestyle=\"\");\n",
    "\n",
    "plt.title(\"Food Prices In Boston And London\")\n",
    "\n",
    "plt.xlabel(\"price in USD\");\n"
   ]
  },
  {
   "cell_type": "code",
   "execution_count": 79,
   "id": "7be9700a",
   "metadata": {},
   "outputs": [
    {
     "data": {
      "image/png": "[encoded data removed]",
      "text/plain": [
       "<Figure size 432x288 with 1 Axes>"
      ]
     },
     "metadata": {
      "needs_background": "light"
     },
     "output_type": "display_data"
    }
   ],
   "source": [
    "# ADDING COLORS \n",
    "plt.plot(boston_price_list,name_list, marker=\"o\",linestyle=\"\",color=\"C3\");#separated the different categories\n",
    "\n",
    "plt.plot(london_price_list,name_list, marker=\"s\",linestyle=\"\",color=\"C0\");\n",
    "\n",
    "plt.title(\"Food Prices In Boston And London\")\n",
    "\n",
    "plt.xlabel(\"price in USD\");"
   ]
  },
  {
   "cell_type": "code",
   "execution_count": 82,
   "id": "ca675b49",
   "metadata": {},
   "outputs": [
    {
     "data": {
      "image/png": "[encoded data removed]",
      "text/plain": [
       "<Figure size 432x288 with 1 Axes>"
      ]
     },
     "metadata": {
      "needs_background": "light"
     },
     "output_type": "display_data"
    }
   ],
   "source": [
    "#HORIZONTALLY JOINING THE POINTS\n",
    "plt.plot(boston_price_list,name_list, marker=\"o\",linestyle=\"\",color=\"C3\");#separated the different categories\n",
    "\n",
    "plt.plot(london_price_list,name_list, marker=\"s\",linestyle=\"\",color=\"C0\");\n",
    "\n",
    "plt.title(\"Food Prices In Boston And London\")\n",
    "plt.hlines(name_list,boston_price_list,london_price_list)\n",
    "\n",
    "plt.xlabel(\"price in USD\");"
   ]
  },
  {
   "cell_type": "code",
   "execution_count": 88,
   "id": "7ee6f849",
   "metadata": {},
   "outputs": [
    {
     "data": {
      "image/png": "[encoded data removed]",
      "text/plain": [
       "<Figure size 432x288 with 1 Axes>"
      ]
     },
     "metadata": {
      "needs_background": "light"
     },
     "output_type": "display_data"
    }
   ],
   "source": [
    "#ADDING A LEGEND\n",
    "\n",
    "plt.plot(london_price_list,name_list, marker=\"s\",linestyle=\"\",color=\"C0\",label = \"London\");\n",
    "plt.plot(boston_price_list,name_list, marker=\"o\",linestyle=\"\",color=\"C3\", label = \"Boston\");#separated the different categories\n",
    "plt.title(\"Food Prices In Boston And London\")\n",
    "plt.hlines(name_list,boston_price_list,london_price_list)\n",
    "\n",
    "plt.xlabel(\"price in USD\");\n",
    "plt.legend();"
   ]
  },
  {
   "cell_type": "code",
   "execution_count": 94,
   "id": "41bc901d",
   "metadata": {},
   "outputs": [
    {
     "data": {
      "image/png": "[encoded data removed]",
      "text/plain": [
       "<Figure size 432x288 with 1 Axes>"
      ]
     },
     "metadata": {
      "needs_background": "light"
     },
     "output_type": "display_data"
    }
   ],
   "source": [
    "#REVERSING THE AXIS\n",
    "plt.plot(london_price_list,name_list, marker=\"s\",linestyle=\"\",color=\"C0\",label = \"London\");\n",
    "plt.plot(boston_price_list,name_list, marker=\"o\",linestyle=\"\",color=\"C3\", label = \"Boston\");#separated the different categories\n",
    "plt.title(\"Food Prices In Boston And London\")\n",
    "plt.hlines(name_list,boston_price_list,london_price_list)\n",
    "\n",
    "plt.xlabel(\"price in USD\");\n",
    "plt.legend();\n",
    "plt.gca().invert_xaxis()\n",
    "plt.gca().invert_yaxis()"
   ]
  },
  {
   "cell_type": "code",
   "execution_count": null,
   "id": "25e4523d",
   "metadata": {},
   "outputs": [],
   "source": []
  }
 ],
 "metadata": {
  "kernelspec": {
   "display_name": "Python 3 (ipykernel)",
   "language": "python",
   "name": "python3"
  },
  "language_info": {
   "codemirror_mode": {
    "name": "ipython",
    "version": 3
   },
   "file_extension": ".py",
   "mimetype": "text/x-python",
   "name": "python",
   "nbconvert_exporter": "python",
   "pygments_lexer": "ipython3",
   "version": "3.10.5"
  }
 },
 "nbformat": 4,
 "nbformat_minor": 5
}
