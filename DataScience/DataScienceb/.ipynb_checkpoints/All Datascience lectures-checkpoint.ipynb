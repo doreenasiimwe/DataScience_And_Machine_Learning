{
 "cells": [
  {
   "cell_type": "markdown",
   "id": "5a71b454",
   "metadata": {},
   "source": [
    "# Numbers\n",
    "Pyhton can work with several numbers but the common ones are int and float"
   ]
  },
  {
   "cell_type": "markdown",
   "id": "cd5f3412",
   "metadata": {},
   "source": [
    "# Arithmetic\n",
    "ie \n"
   ]
  },
  {
   "cell_type": "code",
   "execution_count": 1,
   "id": "17b412a3",
   "metadata": {},
   "outputs": [
    {
     "data": {
      "text/plain": [
       "2"
      ]
     },
     "execution_count": 1,
     "metadata": {},
     "output_type": "execute_result"
    }
   ],
   "source": [
    "#ADDITION AND SUBTRACTION\n",
    "3+1-2"
   ]
  },
  {
   "cell_type": "code",
   "execution_count": 2,
   "id": "ad5c7809",
   "metadata": {},
   "outputs": [
    {
     "data": {
      "text/plain": [
       "6"
      ]
     },
     "execution_count": 2,
     "metadata": {},
     "output_type": "execute_result"
    }
   ],
   "source": [
    "#MULTIPLICATION\n",
    "2*3"
   ]
  },
  {
   "cell_type": "code",
   "execution_count": 3,
   "id": "18673e74",
   "metadata": {},
   "outputs": [
    {
     "data": {
      "text/plain": [
       "2"
      ]
     },
     "execution_count": 3,
     "metadata": {},
     "output_type": "execute_result"
    }
   ],
   "source": [
    "#Modulus\n",
    "2%3"
   ]
  },
  {
   "cell_type": "code",
   "execution_count": 4,
   "id": "a1e07f1b",
   "metadata": {},
   "outputs": [
    {
     "data": {
      "text/plain": [
       "8"
      ]
     },
     "execution_count": 4,
     "metadata": {},
     "output_type": "execute_result"
    }
   ],
   "source": [
    "#EXPONENTIAL\n",
    "2**3"
   ]
  },
  {
   "cell_type": "code",
   "execution_count": 5,
   "id": "19e5ef91",
   "metadata": {},
   "outputs": [
    {
     "data": {
      "text/plain": [
       "0"
      ]
     },
     "execution_count": 5,
     "metadata": {},
     "output_type": "execute_result"
    }
   ],
   "source": [
    "#FLOW DIVISION\n",
    "2//3"
   ]
  },
  {
   "cell_type": "code",
   "execution_count": 6,
   "id": "2a1cbaf6",
   "metadata": {},
   "outputs": [
    {
     "data": {
      "text/plain": [
       "0.6666666666666666"
      ]
     },
     "execution_count": 6,
     "metadata": {},
     "output_type": "execute_result"
    }
   ],
   "source": [
    "#DIVISION\n",
    "2/3"
   ]
  },
  {
   "cell_type": "markdown",
   "id": "5b222c7c",
   "metadata": {},
   "source": [
    "# Exercise\n",
    "Write a python expression that raises 1+2 to the power of 3*4"
   ]
  },
  {
   "cell_type": "code",
   "execution_count": 7,
   "id": "f1a7634b",
   "metadata": {},
   "outputs": [
    {
     "data": {
      "text/plain": [
       "531441"
      ]
     },
     "execution_count": 7,
     "metadata": {},
     "output_type": "execute_result"
    }
   ],
   "source": [
    "#SOLUTION\n",
    "#Order of precedence\n",
    "(1+2)**(3*4)\n",
    "#PEDMAS"
   ]
  },
  {
   "cell_type": "markdown",
   "id": "83ebed5f",
   "metadata": {},
   "source": [
    "# Maths Functions\n"
   ]
  },
  {
   "cell_type": "code",
   "execution_count": 8,
   "id": "0b2d1bc1",
   "metadata": {},
   "outputs": [],
   "source": [
    "import numpy as np"
   ]
  },
  {
   "cell_type": "code",
   "execution_count": 9,
   "id": "6a644e47",
   "metadata": {},
   "outputs": [
    {
     "data": {
      "text/plain": [
       "3.141592653589793"
      ]
     },
     "execution_count": 9,
     "metadata": {},
     "output_type": "execute_result"
    }
   ],
   "source": [
    "np.pi"
   ]
  },
  {
   "cell_type": "code",
   "execution_count": 10,
   "id": "28b35c9f",
   "metadata": {},
   "outputs": [
    {
     "data": {
      "text/plain": [
       "4.605170185988092"
      ]
     },
     "execution_count": 10,
     "metadata": {},
     "output_type": "execute_result"
    }
   ],
   "source": [
    "np.log(100)"
   ]
  },
  {
   "cell_type": "code",
   "execution_count": 11,
   "id": "9704b81f",
   "metadata": {},
   "outputs": [
    {
     "data": {
      "text/plain": [
       "2.718281828459045"
      ]
     },
     "execution_count": 11,
     "metadata": {},
     "output_type": "execute_result"
    }
   ],
   "source": [
    "np.exp(1)"
   ]
  },
  {
   "cell_type": "markdown",
   "id": "fd7680d2",
   "metadata": {},
   "source": [
    "# log(e*x) = x \n",
    "where by -700 <= x <= 700"
   ]
  },
  {
   "cell_type": "code",
   "execution_count": null,
   "id": "50e9781e",
   "metadata": {},
   "outputs": [],
   "source": []
  },
  {
   "cell_type": "markdown",
   "id": "433f9b51",
   "metadata": {},
   "source": [
    "# VARIABLES\n",
    "A  variable is a name that refers to a value ie x = 5 means 5 is the value assigned to x variable ie "
   ]
  },
  {
   "cell_type": "code",
   "execution_count": 12,
   "id": "432ff9a9",
   "metadata": {},
   "outputs": [
    {
     "data": {
      "text/plain": [
       "6"
      ]
     },
     "execution_count": 12,
     "metadata": {},
     "output_type": "execute_result"
    }
   ],
   "source": [
    "x = 5\n",
    "\n",
    "x +1"
   ]
  },
  {
   "cell_type": "code",
   "execution_count": 13,
   "id": "737e1404",
   "metadata": {},
   "outputs": [
    {
     "data": {
      "text/plain": [
       "25"
      ]
     },
     "execution_count": 13,
     "metadata": {},
     "output_type": "execute_result"
    }
   ],
   "source": [
    "x**2"
   ]
  },
  {
   "cell_type": "code",
   "execution_count": 14,
   "id": "91888f38",
   "metadata": {},
   "outputs": [
    {
     "data": {
      "text/plain": [
       "148.4131591025766"
      ]
     },
     "execution_count": 14,
     "metadata": {},
     "output_type": "execute_result"
    }
   ],
   "source": [
    "np.exp(x)"
   ]
  },
  {
   "cell_type": "markdown",
   "id": "42951d23",
   "metadata": {},
   "source": [
    "# Calculations with variable\n",
    "\n",
    "if you deposit $2100 in a bank, paying an annual interesr rate of 3.4\\% compounded quarterly, we can compute the balance for 7 years by defeining these variables ie"
   ]
  },
  {
   "cell_type": "code",
   "execution_count": 15,
   "id": "009321d9",
   "metadata": {},
   "outputs": [],
   "source": [
    "p = 2100#principle\n",
    "r = 0.034#rate\n",
    "n = 4#Number of years that have been deposited yet\n",
    "t = 7#Total number of years"
   ]
  },
  {
   "cell_type": "code",
   "execution_count": 16,
   "id": "d35d0118",
   "metadata": {},
   "outputs": [
    {
     "data": {
      "text/plain": [
       "2661.6108980682593"
      ]
     },
     "execution_count": 16,
     "metadata": {},
     "output_type": "execute_result"
    }
   ],
   "source": [
    "v = 2100*(1+0.034/4)**(4*7)\n",
    "v"
   ]
  },
  {
   "cell_type": "code",
   "execution_count": 17,
   "id": "d41d12a4",
   "metadata": {},
   "outputs": [
    {
     "data": {
      "text/plain": [
       "2658.965091277534"
      ]
     },
     "execution_count": 17,
     "metadata": {},
     "output_type": "execute_result"
    }
   ],
   "source": [
    "#twice per year\n",
    "v = 2100*(1+0.034/2)**(2*7)\n",
    "v"
   ]
  },
  {
   "cell_type": "code",
   "execution_count": 18,
   "id": "e16fbd0c",
   "metadata": {},
   "outputs": [
    {
     "data": {
      "text/plain": [
       "6.175728457877729"
      ]
     },
     "execution_count": 18,
     "metadata": {},
     "output_type": "execute_result"
    }
   ],
   "source": [
    "w = 2100**(0.034*7)\n",
    "w"
   ]
  },
  {
   "cell_type": "code",
   "execution_count": 19,
   "id": "19879b11",
   "metadata": {},
   "outputs": [
    {
     "data": {
      "text/plain": [
       "1.6823289251587048"
      ]
     },
     "execution_count": 19,
     "metadata": {},
     "output_type": "execute_result"
    }
   ],
   "source": [
    "w = 2100**(0.034*2)\n",
    "w"
   ]
  },
  {
   "cell_type": "markdown",
   "id": "acf9cf50",
   "metadata": {},
   "source": [
    "# Times and Places\n",
    "places mean strings in terms of location\n",
    "here we cover some additional datatypes ie strings represent text ,dates,time\n",
    " A string is a sequence of letters,numbers and punctuation marks typed between single and double quotation marks ie \"elements\" \"of\" \"Data Science\" and they are assigned to variables ie \n",
    " first = \"Data\"\n",
    " last = 'Science'\n",
    " if the two strings are concatenated with space we get data science as two words and without space then its one word \n",
    " ie (first + ''last) and (first + last)\n",
    " for an expression\n",
    " \n",
    " "
   ]
  },
  {
   "cell_type": "code",
   "execution_count": 20,
   "id": "59e0dd19",
   "metadata": {},
   "outputs": [
    {
     "ename": "TypeError",
     "evalue": "can only concatenate str (not \"int\") to str",
     "output_type": "error",
     "traceback": [
      "\u001b[1;31m---------------------------------------------------------------------------\u001b[0m",
      "\u001b[1;31mTypeError\u001b[0m                                 Traceback (most recent call last)",
      "Input \u001b[1;32mIn [20]\u001b[0m, in \u001b[0;36m<cell line: 2>\u001b[1;34m()\u001b[0m\n\u001b[0;32m      1\u001b[0m actual \u001b[38;5;241m=\u001b[39m \u001b[38;5;124m\"\u001b[39m\u001b[38;5;124m123\u001b[39m\u001b[38;5;124m\"\u001b[39m\n\u001b[1;32m----> 2\u001b[0m \u001b[43mactual\u001b[49m\u001b[43m \u001b[49m\u001b[38;5;241;43m+\u001b[39;49m\u001b[43m \u001b[49m\u001b[38;5;241;43m1\u001b[39;49m\n",
      "\u001b[1;31mTypeError\u001b[0m: can only concatenate str (not \"int\") to str"
     ]
    }
   ],
   "source": [
    "actual = \"123\"\n",
    "actual + 1"
   ]
  },
  {
   "cell_type": "code",
   "execution_count": null,
   "id": "e53a0691",
   "metadata": {},
   "outputs": [],
   "source": [
    "actual*3"
   ]
  },
  {
   "cell_type": "code",
   "execution_count": 21,
   "id": "b9bcbfdb",
   "metadata": {},
   "outputs": [
    {
     "data": {
      "text/plain": [
       "123"
      ]
     },
     "execution_count": 21,
     "metadata": {},
     "output_type": "execute_result"
    }
   ],
   "source": [
    "int(\"123\")"
   ]
  },
  {
   "cell_type": "code",
   "execution_count": 22,
   "id": "b3121cb8",
   "metadata": {},
   "outputs": [
    {
     "data": {
      "text/plain": [
       "123.0"
      ]
     },
     "execution_count": 22,
     "metadata": {},
     "output_type": "execute_result"
    }
   ],
   "source": [
    "float(\"123\")"
   ]
  },
  {
   "cell_type": "code",
   "execution_count": 23,
   "id": "fb40d9f3",
   "metadata": {},
   "outputs": [
    {
     "data": {
      "text/plain": [
       "'123'"
      ]
     },
     "execution_count": 23,
     "metadata": {},
     "output_type": "execute_result"
    }
   ],
   "source": [
    "str(123)"
   ]
  },
  {
   "cell_type": "code",
   "execution_count": 24,
   "id": "335e44e2",
   "metadata": {},
   "outputs": [
    {
     "data": {
      "text/plain": [
       "'12.3'"
      ]
     },
     "execution_count": 24,
     "metadata": {},
     "output_type": "execute_result"
    }
   ],
   "source": [
    "str(12.3)"
   ]
  },
  {
   "cell_type": "markdown",
   "id": "58202273",
   "metadata": {},
   "source": [
    "# Dates and Times\n"
   ]
  },
  {
   "cell_type": "code",
   "execution_count": 25,
   "id": "9472909c",
   "metadata": {},
   "outputs": [],
   "source": [
    "import scipy as sci"
   ]
  },
  {
   "cell_type": "code",
   "execution_count": 26,
   "id": "bb101a15",
   "metadata": {},
   "outputs": [
    {
     "data": {
      "text/plain": [
       "1.618033988749895"
      ]
     },
     "execution_count": 26,
     "metadata": {},
     "output_type": "execute_result"
    }
   ],
   "source": [
    "phi = (1+5**0.5)/2\n",
    "phi"
   ]
  },
  {
   "cell_type": "markdown",
   "id": "bb932bc6",
   "metadata": {},
   "source": [
    "# Plotting\n",
    "  line graph - record something  to be visualised over time ie inflation,GDP however it works with one variable at atime\n",
    "  \n",
    " histogram\n",
    " \n",
    " scatter plots-deriving relationships\n",
    " \n",
    " barcharts- comparison\n",
    " \n",
    " pie charts\n",
    " \n",
    " slope chart -Different slopes with time\n",
    " \n",
    " stacked area chart\n",
    "# NB OWID _ Our world in Data\n",
    "# What are the needed libraries\n",
    "Seaborn as sns\n",
    "matplotlib.pyplot as plt\n",
    "matplotlib\n",
    "numpy\n",
    "scikit_-learn\n"
   ]
  },
  {
   "cell_type": "code",
   "execution_count": 27,
   "id": "c8da2720",
   "metadata": {},
   "outputs": [],
   "source": [
    "year = [2009, 2010, 2011, 2012, 2013, 2014, 2015, 2016, 2017, 2018]\n",
    "christian = [77,76,75,73,73,71,69,68,67,65]\n",
    "unaffiliated =[17, 17, 19, 19, 20, 21, 24, 23, 25,26]"
   ]
  },
  {
   "cell_type": "code",
   "execution_count": 28,
   "id": "bf4b75a1",
   "metadata": {},
   "outputs": [],
   "source": [
    "import numpy as np\n",
    "import matplotlib.pyplot as plt\n",
    "\n",
    "import seaborn as sns\n"
   ]
  },
  {
   "cell_type": "code",
   "execution_count": 29,
   "id": "807b2961",
   "metadata": {},
   "outputs": [],
   "source": [
    "matplotlib inline"
   ]
  },
  {
   "cell_type": "code",
   "execution_count": 30,
   "id": "e150fbc8",
   "metadata": {},
   "outputs": [],
   "source": [
    "import matplotlib.pyplot as plt"
   ]
  },
  {
   "cell_type": "code",
   "execution_count": 31,
   "id": "bb16516f",
   "metadata": {},
   "outputs": [
    {
     "data": {
      "text/plain": [
       "[<matplotlib.lines.Line2D at 0x1aefbb1a6b0>]"
      ]
     },
     "execution_count": 31,
     "metadata": {},
     "output_type": "execute_result"
    },
    {
     "data": {
      "image/png": "[encoded data removed]",
      "text/plain": [
       "<Figure size 432x288 with 1 Axes>"
      ]
     },
     "metadata": {
      "needs_background": "light"
     },
     "output_type": "display_data"
    }
   ],
   "source": [
    "plt.plot(year,christian)\n"
   ]
  },
  {
   "cell_type": "code",
   "execution_count": 32,
   "id": "46a4d3ad",
   "metadata": {},
   "outputs": [
    {
     "data": {
      "text/plain": [
       "[<matplotlib.lines.Line2D at 0x1aefdc0ed40>]"
      ]
     },
     "execution_count": 32,
     "metadata": {},
     "output_type": "execute_result"
    },
    {
     "data": {
      "image/png": "[encoded data removed]",
      "text/plain": [
       "<Figure size 432x288 with 1 Axes>"
      ]
     },
     "metadata": {
      "needs_background": "light"
     },
     "output_type": "display_data"
    }
   ],
   "source": [
    "plt.plot(year,unaffiliated)"
   ]
  },
  {
   "cell_type": "code",
   "execution_count": 33,
   "id": "cfdeb335",
   "metadata": {},
   "outputs": [
    {
     "data": {
      "text/plain": [
       "[<matplotlib.lines.Line2D at 0x1aefdc89bd0>]"
      ]
     },
     "execution_count": 33,
     "metadata": {},
     "output_type": "execute_result"
    },
    {
     "data": {
      "image/png": "[encoded data removed]",
      "text/plain": [
       "<Figure size 432x288 with 1 Axes>"
      ]
     },
     "metadata": {
      "needs_background": "light"
     },
     "output_type": "display_data"
    }
   ],
   "source": [
    "plt.plot(year,christian)\n",
    "plt.plot(year,unaffiliated)# christian and unaffiliated over time"
   ]
  },
  {
   "cell_type": "code",
   "execution_count": 34,
   "id": "276a7a0b",
   "metadata": {},
   "outputs": [
    {
     "data": {
      "text/plain": [
       "[<matplotlib.lines.Line2D at 0x1aefdd00e80>]"
      ]
     },
     "execution_count": 34,
     "metadata": {},
     "output_type": "execute_result"
    },
    {
     "data": {
      "image/png": "[encoded data removed]",
      "text/plain": [
       "<Figure size 432x288 with 1 Axes>"
      ]
     },
     "metadata": {
      "needs_background": "light"
     },
     "output_type": "display_data"
    }
   ],
   "source": [
    "plt.plot(year,christian)\n",
    "plt.ylim(0,80)\n",
    "plt.plot(year,unaffiliated)# gives where to start and end"
   ]
  },
  {
   "cell_type": "code",
   "execution_count": 35,
   "id": "e77b7994",
   "metadata": {},
   "outputs": [
    {
     "data": {
      "image/png": "[encoded data removed]",
      "text/plain": [
       "<Figure size 432x288 with 1 Axes>"
      ]
     },
     "metadata": {
      "needs_background": "light"
     },
     "output_type": "display_data"
    }
   ],
   "source": [
    "plt.plot(year,christian)\n",
    "plt.ylim(0,80)#limitation/axes scale\n",
    "plt.plot(year,unaffiliated)# gives where to start and end\n",
    "#labels(x,y and title label and they take strings as arguements)\n",
    "plt.xlabel(\"Year\");"
   ]
  },
  {
   "cell_type": "code",
   "execution_count": 36,
   "id": "5b556931",
   "metadata": {},
   "outputs": [
    {
     "data": {
      "image/png": "[encoded data removed]",
      "text/plain": [
       "<Figure size 432x288 with 1 Axes>"
      ]
     },
     "metadata": {
      "needs_background": "light"
     },
     "output_type": "display_data"
    }
   ],
   "source": [
    "plt.plot(year,christian)\n",
    "plt.ylim(0,80)#limitation/axes scale\n",
    "plt.plot(year,unaffiliated)# gives where to start and end\n",
    "#labels(x,y and title label and they take strings as arguements)\n",
    "plt.xlabel(\"Year\");\n",
    "plt.ylabel(\"Adults Percentage\");"
   ]
  },
  {
   "cell_type": "code",
   "execution_count": 37,
   "id": "4701adc1",
   "metadata": {},
   "outputs": [
    {
     "data": {
      "image/png": "[encoded data removed]",
      "text/plain": [
       "<Figure size 432x288 with 1 Axes>"
      ]
     },
     "metadata": {
      "needs_background": "light"
     },
     "output_type": "display_data"
    }
   ],
   "source": [
    "plt.plot(year,christian)\n",
    "plt.ylim(0,80)#limitation/axes scale\n",
    "plt.plot(year,unaffiliated)# gives where to start and end\n",
    "#labels(x,y and title label and they take strings as arguements)\n",
    "plt.xlabel(\"Year\");\n",
    "plt.ylabel(\"Adults Percentage\");\n",
    "plt.title(\"Religious Affiliation\");"
   ]
  },
  {
   "cell_type": "code",
   "execution_count": 38,
   "id": "3ff12dd4",
   "metadata": {},
   "outputs": [
    {
     "data": {
      "image/png": "[encoded data removed]",
      "text/plain": [
       "<Figure size 432x288 with 1 Axes>"
      ]
     },
     "metadata": {
      "needs_background": "light"
     },
     "output_type": "display_data"
    }
   ],
   "source": [
    "plt.plot(year,christian,label = \"christian\")\n",
    "plt.ylim(0,80)#limitation/axes scale\n",
    "plt.plot(year,unaffiliated, label = \"unaffiliated\")# gives where to start and end\n",
    "#labels(x,y and title label and they take strings as arguements)\n",
    "plt.xlabel(\"Year\");#X label\n",
    "plt.ylabel(\"Adults Percentage\");#ylabel\n",
    "plt.title(\"Religious Affiliation\");#title\n",
    "plt.legend();"
   ]
  },
  {
   "cell_type": "code",
   "execution_count": 39,
   "id": "989e8e39",
   "metadata": {},
   "outputs": [
    {
     "name": "stderr",
     "output_type": "stream",
     "text": [
      "No artists with labels found to put in legend.  Note that artists whose label start with an underscore are ignored when legend() is called with no argument.\n"
     ]
    },
    {
     "data": {
      "image/png": "[encoded data removed]",
      "text/plain": [
       "<Figure size 432x288 with 1 Axes>"
      ]
     },
     "metadata": {
      "needs_background": "light"
     },
     "output_type": "display_data"
    }
   ],
   "source": [
    "plt.plot(year,christian)\n",
    "plt.ylim(0,80)#limitation/axes scale\n",
    "plt.plot(year,unaffiliated)# gives where to start and end\n",
    "#labels(x,y and title label and they take strings as arguements)\n",
    "plt.xlabel(\"Year\");#X label\n",
    "plt.ylabel(\"Adults Percentage\");#ylabel\n",
    "plt.title(\"Religious Affiliation\");#title\n",
    "plt.legend();"
   ]
  },
  {
   "cell_type": "markdown",
   "id": "2c5daa72",
   "metadata": {},
   "source": [
    "# replication\n",
    "# reproducible\n",
    "\n"
   ]
  },
  {
   "cell_type": "code",
   "execution_count": 40,
   "id": "4f1d1782",
   "metadata": {},
   "outputs": [],
   "source": [
    "name_list =[\"lobster roll\", \n",
    "            \"chicken ceasar\",\n",
    "            \"bang bang chicken wrap\",\n",
    "            \"ham and cheese\",\n",
    "            \"Tuna and cucumber\",\n",
    "            \"egg sandwich\"\n",
    "           ]\n",
    "boston_price_list =[9.99,7.99,7.49,7,6.29,4.99]\n",
    "london_price_list = [7.5,5,4.4,5,3.75,2.25]  "
   ]
  },
  {
   "cell_type": "code",
   "execution_count": 41,
   "id": "a846b8f7",
   "metadata": {},
   "outputs": [
    {
     "data": {
      "image/png": "[encoded data removed]",
      "text/plain": [
       "<Figure size 432x288 with 1 Axes>"
      ]
     },
     "metadata": {
      "needs_background": "light"
     },
     "output_type": "display_data"
    }
   ],
   "source": [
    "plt.plot(boston_price_list,name_list);"
   ]
  },
  {
   "cell_type": "code",
   "execution_count": 42,
   "id": "39cfeb52",
   "metadata": {},
   "outputs": [
    {
     "data": {
      "image/png": "[encoded data removed]",
      "text/plain": [
       "<Figure size 432x288 with 1 Axes>"
      ]
     },
     "metadata": {
      "needs_background": "light"
     },
     "output_type": "display_data"
    }
   ],
   "source": [
    "plt.plot(boston_price_list,name_list);\n",
    "plt.xlabel(\"Price in USD\");"
   ]
  },
  {
   "cell_type": "markdown",
   "id": "1db61633",
   "metadata": {},
   "source": [
    "#### name list is alist of strings and python orders them from top to bottom\n",
    "by default pyplot connects the codes with the lines however in the example above it doesnt make sense since the names are categorical and not continuous\n",
    "### categorical\n",
    "means of transport\n",
    "icecream falovors\n",
    "yorghurt\n",
    "create markers incase its a line graph\n",
    "\n",
    "### numerical\n",
    "1,2,3,4......\n",
    "### Binary\n",
    "0/1s\n",
    "### Discrete Values\n"
   ]
  },
  {
   "cell_type": "code",
   "execution_count": 43,
   "id": "4a2ae682",
   "metadata": {},
   "outputs": [
    {
     "data": {
      "image/png": "[encoded data removed]",
      "text/plain": [
       "<Figure size 432x288 with 1 Axes>"
      ]
     },
     "metadata": {
      "needs_background": "light"
     },
     "output_type": "display_data"
    }
   ],
   "source": [
    "plt.plot(boston_price_list,name_list, marker=\"o\",linestyle=\"\");#separate the different categories\n",
    "\n",
    "plt.xlabel(\"price in USD\");\n"
   ]
  },
  {
   "cell_type": "code",
   "execution_count": 44,
   "id": "686d699a",
   "metadata": {},
   "outputs": [
    {
     "data": {
      "image/png": "[encoded data removed]",
      "text/plain": [
       "<Figure size 432x288 with 1 Axes>"
      ]
     },
     "metadata": {
      "needs_background": "light"
     },
     "output_type": "display_data"
    }
   ],
   "source": [
    "#ADDING MARKERS AND LINESTYLE\n",
    "plt.plot(boston_price_list,name_list, marker=\"o\",linestyle=\"\");#separated the different categories\n",
    "\n",
    "plt.plot(london_price_list,name_list, marker=\"s\",linestyle=\"\");\n",
    "\n",
    "plt.title(\"Food Prices In Boston And London\")\n",
    "\n",
    "plt.xlabel(\"price in USD\");\n"
   ]
  },
  {
   "cell_type": "code",
   "execution_count": 45,
   "id": "0ee5cf2a",
   "metadata": {},
   "outputs": [
    {
     "data": {
      "image/png": "[encoded data removed]",
      "text/plain": [
       "<Figure size 432x288 with 1 Axes>"
      ]
     },
     "metadata": {
      "needs_background": "light"
     },
     "output_type": "display_data"
    }
   ],
   "source": [
    "# ADDING COLORS \n",
    "plt.plot(boston_price_list,name_list, marker=\"o\",linestyle=\"\",color=\"C3\");#separated the different categories\n",
    "\n",
    "plt.plot(london_price_list,name_list, marker=\"s\",linestyle=\"\",color=\"C0\");\n",
    "\n",
    "plt.title(\"Food Prices In Boston And London\")\n",
    "\n",
    "plt.xlabel(\"price in USD\");"
   ]
  },
  {
   "cell_type": "code",
   "execution_count": 119,
   "id": "e78ca43f",
   "metadata": {},
   "outputs": [
    {
     "name": "stderr",
     "output_type": "stream",
     "text": [
      "C:\\Program Files\\KMSpico\\temp\\ipykernel_1920\\2014733538.py:8: MatplotlibDeprecationWarning: The 'b' parameter of grid() has been renamed 'visible' since Matplotlib 3.5; support for the old name will be dropped two minor releases later.\n",
      "  plt.grid(b=True)\n"
     ]
    },
    {
     "data": {
      "image/png": "[encoded data removed]",
      "text/plain": [
       "<Figure size 432x288 with 1 Axes>"
      ]
     },
     "metadata": {
      "needs_background": "light"
     },
     "output_type": "display_data"
    }
   ],
   "source": [
    "#HORIZONTALLY JOINING THE POINTS\n",
    "plt.plot(boston_price_list,name_list, marker=\"o\",linestyle=\"\",color=\"C3\");#separated the different categories\n",
    "\n",
    "plt.plot(london_price_list,name_list, marker=\"s\",linestyle=\"\",color=\"C0\");\n",
    "\n",
    "plt.title(\"Food Prices In Boston And London\")\n",
    "plt.hlines(name_list,boston_price_list,london_price_list)\n",
    "plt.grid(b=True)\n",
    "\n",
    "plt.xlabel(\"price in USD\");"
   ]
  },
  {
   "cell_type": "code",
   "execution_count": 47,
   "id": "761fe006",
   "metadata": {},
   "outputs": [
    {
     "data": {
      "image/png": "[encoded data removed]",
      "text/plain": [
       "<Figure size 432x288 with 1 Axes>"
      ]
     },
     "metadata": {
      "needs_background": "light"
     },
     "output_type": "display_data"
    }
   ],
   "source": [
    "#ADDING A LEGEND\n",
    "\n",
    "plt.plot(london_price_list,name_list, marker=\"s\",linestyle=\"\",color=\"C0\",label = \"London\");\n",
    "plt.plot(boston_price_list,name_list, marker=\"o\",linestyle=\"\",color=\"C3\", label = \"Boston\");#separated the different categories\n",
    "plt.title(\"Food Prices In Boston And London\")\n",
    "plt.hlines(name_list,boston_price_list,london_price_list)\n",
    "\n",
    "plt.xlabel(\"price in USD\");\n",
    "plt.legend();\\\n"
   ]
  },
  {
   "cell_type": "code",
   "execution_count": 116,
   "id": "fcbadade",
   "metadata": {},
   "outputs": [
    {
     "data": {
      "text/plain": [
       "<matplotlib.collections.LineCollection at 0x1aefdeecbb0>"
      ]
     },
     "execution_count": 116,
     "metadata": {},
     "output_type": "execute_result"
    },
    {
     "data": {
      "image/png": "[encoded data removed]",
      "text/plain": [
       "<Figure size 432x288 with 1 Axes>"
      ]
     },
     "metadata": {
      "needs_background": "light"
     },
     "output_type": "display_data"
    }
   ],
   "source": [
    "plt.plot(boston_price_list,name_list, marker=\"o\",color=\"C1\");\n",
    "plt.plot(london_price_list,name_list, marker=\"s\",color=\"C3\");\n",
    "plt.title(\"Food Prices In Boston And London\")\n",
    "plt.hlines(name_list,boston_price_list,london_price_list)"
   ]
  },
  {
   "cell_type": "code",
   "execution_count": 48,
   "id": "a30b0ea4",
   "metadata": {},
   "outputs": [
    {
     "data": {
      "image/png": "[encoded data removed]",
      "text/plain": [
       "<Figure size 432x288 with 1 Axes>"
      ]
     },
     "metadata": {
      "needs_background": "light"
     },
     "output_type": "display_data"
    }
   ],
   "source": [
    "#REVERSING THE AXIS\n",
    "plt.plot(london_price_list,name_list, marker=\"s\",linestyle=\"\",color=\"C0\",label = \"London\");\n",
    "plt.plot(boston_price_list,name_list, marker=\"o\",linestyle=\"\",color=\"C3\", label = \"Boston\");#separated the different categories\n",
    "plt.title(\"Food Prices In Boston And London\")\n",
    "plt.hlines(name_list,boston_price_list,london_price_list)\n",
    "\n",
    "plt.xlabel(\"price in USD\");\n",
    "plt.legend();\n",
    "plt.gca().invert_xaxis()\n",
    "plt.gca().invert_yax"
   ]
  },
  {
   "cell_type": "code",
   "execution_count": 117,
   "id": "01533098",
   "metadata": {},
   "outputs": [
    {
     "data": {
      "image/png": "[encoded data removed]",
      "text/plain": [
       "<Figure size 432x288 with 1 Axes>"
      ]
     },
     "metadata": {
      "needs_background": "light"
     },
     "output_type": "display_data"
    }
   ],
   "source": [
    "plt.plot(london_price_list,name_list, marker=\"s\");\n",
    "\n",
    "plt.title(\"Food Prices In Boston And London\")\n",
    "\n",
    "plt.xlabel(\"price in USD\");"
   ]
  },
  {
   "cell_type": "code",
   "execution_count": 118,
   "id": "25dc98d5",
   "metadata": {},
   "outputs": [
    {
     "data": {
      "image/png": "[encoded data removed]",
      "text/plain": [
       "<Figure size 432x288 with 1 Axes>"
      ]
     },
     "metadata": {
      "needs_background": "light"
     },
     "output_type": "display_data"
    }
   ],
   "source": [
    "plt.plot(boston_price_list,name_list, marker=\"o\",color=\"C3\");#separated the different categories\n",
    "\n",
    "plt.plot(london_price_list,name_list, marker=\"s\",color=\"C0\");\n",
    "\n",
    "plt.title(\"Food Prices In Boston And London\")\n",
    "\n",
    "plt.xlabel(\"price in USD\");"
   ]
  },
  {
   "cell_type": "code",
   "execution_count": 49,
   "id": "c2766852",
   "metadata": {},
   "outputs": [],
   "source": [
    "import pandas as pd\n"
   ]
  },
  {
   "cell_type": "markdown",
   "id": "1c2d6d4d",
   "metadata": {},
   "source": [
    "# DATA FRAMES AND SERIES"
   ]
  },
  {
   "cell_type": "code",
   "execution_count": 50,
   "id": "88530026",
   "metadata": {},
   "outputs": [
    {
     "data": {
      "text/html": [
       "<div>\n",
       "<style scoped>\n",
       "    .dataframe tbody tr th:only-of-type {\n",
       "        vertical-align: middle;\n",
       "    }\n",
       "\n",
       "    .dataframe tbody tr th {\n",
       "        vertical-align: top;\n",
       "    }\n",
       "\n",
       "    .dataframe thead th {\n",
       "        text-align: right;\n",
       "    }\n",
       "</style>\n",
       "<table border=\"1\" class=\"dataframe\">\n",
       "  <thead>\n",
       "    <tr style=\"text-align: right;\">\n",
       "      <th></th>\n",
       "      <th>Country Code</th>\n",
       "      <th>TableName</th>\n",
       "      <th>IncomeGroup</th>\n",
       "      <th>PopDensity_2018</th>\n",
       "      <th>Confirmed Cases</th>\n",
       "      <th>Deaths</th>\n",
       "      <th>Mortality Rate</th>\n",
       "      <th>Population_2019</th>\n",
       "      <th>GDP_2019</th>\n",
       "      <th>GDP_per_cap_2019</th>\n",
       "      <th>Main Leader Gender</th>\n",
       "      <th>Any Leader Gender</th>\n",
       "      <th>Avg Temp</th>\n",
       "      <th>Normalized Cases</th>\n",
       "      <th>Normalized Deaths</th>\n",
       "    </tr>\n",
       "  </thead>\n",
       "  <tbody>\n",
       "    <tr>\n",
       "      <th>0</th>\n",
       "      <td>AFG</td>\n",
       "      <td>Afghanistan</td>\n",
       "      <td>Low income</td>\n",
       "      <td>56.937760</td>\n",
       "      <td>39192</td>\n",
       "      <td>1453</td>\n",
       "      <td>3.707389</td>\n",
       "      <td>38041754</td>\n",
       "      <td>1.910135e+10</td>\n",
       "      <td>2293.551684</td>\n",
       "      <td>M</td>\n",
       "      <td>M</td>\n",
       "      <td>12.60</td>\n",
       "      <td>0.001030</td>\n",
       "      <td>3.820000e-05</td>\n",
       "    </tr>\n",
       "    <tr>\n",
       "      <th>1</th>\n",
       "      <td>AGO</td>\n",
       "      <td>Angola</td>\n",
       "      <td>Lower middle income</td>\n",
       "      <td>24.713052</td>\n",
       "      <td>4672</td>\n",
       "      <td>171</td>\n",
       "      <td>3.660103</td>\n",
       "      <td>31825295</td>\n",
       "      <td>9.463542e+10</td>\n",
       "      <td>6929.678158</td>\n",
       "      <td>M</td>\n",
       "      <td>M</td>\n",
       "      <td>21.55</td>\n",
       "      <td>0.000147</td>\n",
       "      <td>5.370000e-06</td>\n",
       "    </tr>\n",
       "    <tr>\n",
       "      <th>2</th>\n",
       "      <td>ALB</td>\n",
       "      <td>Albania</td>\n",
       "      <td>Upper middle income</td>\n",
       "      <td>104.612263</td>\n",
       "      <td>13153</td>\n",
       "      <td>375</td>\n",
       "      <td>2.851061</td>\n",
       "      <td>2854191</td>\n",
       "      <td>1.527808e+10</td>\n",
       "      <td>14495.078510</td>\n",
       "      <td>M</td>\n",
       "      <td>M</td>\n",
       "      <td>11.40</td>\n",
       "      <td>0.004608</td>\n",
       "      <td>1.313860e-04</td>\n",
       "    </tr>\n",
       "    <tr>\n",
       "      <th>3</th>\n",
       "      <td>AND</td>\n",
       "      <td>Andorra</td>\n",
       "      <td>High income</td>\n",
       "      <td>163.842553</td>\n",
       "      <td>1836</td>\n",
       "      <td>53</td>\n",
       "      <td>2.886710</td>\n",
       "      <td>77142</td>\n",
       "      <td>3.154058e+09</td>\n",
       "      <td>NaN</td>\n",
       "      <td>M</td>\n",
       "      <td>M</td>\n",
       "      <td>7.60</td>\n",
       "      <td>0.023800</td>\n",
       "      <td>6.870450e-04</td>\n",
       "    </tr>\n",
       "    <tr>\n",
       "      <th>4</th>\n",
       "      <td>ARE</td>\n",
       "      <td>United Arab Emirates</td>\n",
       "      <td>High income</td>\n",
       "      <td>135.609110</td>\n",
       "      <td>90618</td>\n",
       "      <td>411</td>\n",
       "      <td>0.453552</td>\n",
       "      <td>9770529</td>\n",
       "      <td>4.211420e+11</td>\n",
       "      <td>69900.877850</td>\n",
       "      <td>M</td>\n",
       "      <td>M</td>\n",
       "      <td>27.00</td>\n",
       "      <td>0.009275</td>\n",
       "      <td>4.210000e-05</td>\n",
       "    </tr>\n",
       "    <tr>\n",
       "      <th>...</th>\n",
       "      <td>...</td>\n",
       "      <td>...</td>\n",
       "      <td>...</td>\n",
       "      <td>...</td>\n",
       "      <td>...</td>\n",
       "      <td>...</td>\n",
       "      <td>...</td>\n",
       "      <td>...</td>\n",
       "      <td>...</td>\n",
       "      <td>...</td>\n",
       "      <td>...</td>\n",
       "      <td>...</td>\n",
       "      <td>...</td>\n",
       "      <td>...</td>\n",
       "      <td>...</td>\n",
       "    </tr>\n",
       "    <tr>\n",
       "      <th>177</th>\n",
       "      <td>VNM</td>\n",
       "      <td>Vietnam</td>\n",
       "      <td>Lower middle income</td>\n",
       "      <td>308.125246</td>\n",
       "      <td>1069</td>\n",
       "      <td>35</td>\n",
       "      <td>3.274088</td>\n",
       "      <td>96462106</td>\n",
       "      <td>2.619210e+11</td>\n",
       "      <td>8374.444328</td>\n",
       "      <td>M</td>\n",
       "      <td>M</td>\n",
       "      <td>24.45</td>\n",
       "      <td>0.000011</td>\n",
       "      <td>3.630000e-07</td>\n",
       "    </tr>\n",
       "    <tr>\n",
       "      <th>178</th>\n",
       "      <td>YEM</td>\n",
       "      <td>Yemen, Rep.</td>\n",
       "      <td>Low income</td>\n",
       "      <td>53.977853</td>\n",
       "      <td>2030</td>\n",
       "      <td>587</td>\n",
       "      <td>28.916256</td>\n",
       "      <td>29161922</td>\n",
       "      <td>NaN</td>\n",
       "      <td>NaN</td>\n",
       "      <td>M</td>\n",
       "      <td>M</td>\n",
       "      <td>23.85</td>\n",
       "      <td>0.000070</td>\n",
       "      <td>2.010000e-05</td>\n",
       "    </tr>\n",
       "    <tr>\n",
       "      <th>179</th>\n",
       "      <td>ZAF</td>\n",
       "      <td>South Africa</td>\n",
       "      <td>Upper middle income</td>\n",
       "      <td>47.630120</td>\n",
       "      <td>669498</td>\n",
       "      <td>16376</td>\n",
       "      <td>2.446012</td>\n",
       "      <td>58558270</td>\n",
       "      <td>3.514320e+11</td>\n",
       "      <td>12999.120260</td>\n",
       "      <td>M</td>\n",
       "      <td>M</td>\n",
       "      <td>17.75</td>\n",
       "      <td>0.011433</td>\n",
       "      <td>2.796530e-04</td>\n",
       "    </tr>\n",
       "    <tr>\n",
       "      <th>180</th>\n",
       "      <td>ZMB</td>\n",
       "      <td>Zambia</td>\n",
       "      <td>Lower middle income</td>\n",
       "      <td>23.341479</td>\n",
       "      <td>14612</td>\n",
       "      <td>332</td>\n",
       "      <td>2.272105</td>\n",
       "      <td>17861030</td>\n",
       "      <td>2.306472e+10</td>\n",
       "      <td>3623.699395</td>\n",
       "      <td>M</td>\n",
       "      <td>M</td>\n",
       "      <td>21.40</td>\n",
       "      <td>0.000818</td>\n",
       "      <td>1.860000e-05</td>\n",
       "    </tr>\n",
       "    <tr>\n",
       "      <th>181</th>\n",
       "      <td>ZWE</td>\n",
       "      <td>Zimbabwe</td>\n",
       "      <td>Lower middle income</td>\n",
       "      <td>37.324591</td>\n",
       "      <td>7803</td>\n",
       "      <td>227</td>\n",
       "      <td>2.909138</td>\n",
       "      <td>14645468</td>\n",
       "      <td>2.144076e+10</td>\n",
       "      <td>2953.484113</td>\n",
       "      <td>M</td>\n",
       "      <td>M</td>\n",
       "      <td>21.00</td>\n",
       "      <td>0.000533</td>\n",
       "      <td>1.550000e-05</td>\n",
       "    </tr>\n",
       "  </tbody>\n",
       "</table>\n",
       "<p>182 rows × 15 columns</p>\n",
       "</div>"
      ],
      "text/plain": [
       "    Country Code             TableName          IncomeGroup  PopDensity_2018  \\\n",
       "0            AFG           Afghanistan           Low income        56.937760   \n",
       "1            AGO                Angola  Lower middle income        24.713052   \n",
       "2            ALB               Albania  Upper middle income       104.612263   \n",
       "3            AND               Andorra          High income       163.842553   \n",
       "4            ARE  United Arab Emirates          High income       135.609110   \n",
       "..           ...                   ...                  ...              ...   \n",
       "177          VNM               Vietnam  Lower middle income       308.125246   \n",
       "178          YEM           Yemen, Rep.           Low income        53.977853   \n",
       "179          ZAF          South Africa  Upper middle income        47.630120   \n",
       "180          ZMB                Zambia  Lower middle income        23.341479   \n",
       "181          ZWE              Zimbabwe  Lower middle income        37.324591   \n",
       "\n",
       "     Confirmed Cases  Deaths  Mortality Rate  Population_2019      GDP_2019  \\\n",
       "0              39192    1453        3.707389         38041754  1.910135e+10   \n",
       "1               4672     171        3.660103         31825295  9.463542e+10   \n",
       "2              13153     375        2.851061          2854191  1.527808e+10   \n",
       "3               1836      53        2.886710            77142  3.154058e+09   \n",
       "4              90618     411        0.453552          9770529  4.211420e+11   \n",
       "..               ...     ...             ...              ...           ...   \n",
       "177             1069      35        3.274088         96462106  2.619210e+11   \n",
       "178             2030     587       28.916256         29161922           NaN   \n",
       "179           669498   16376        2.446012         58558270  3.514320e+11   \n",
       "180            14612     332        2.272105         17861030  2.306472e+10   \n",
       "181             7803     227        2.909138         14645468  2.144076e+10   \n",
       "\n",
       "     GDP_per_cap_2019 Main Leader Gender Any Leader Gender  Avg Temp  \\\n",
       "0         2293.551684                  M                 M     12.60   \n",
       "1         6929.678158                  M                 M     21.55   \n",
       "2        14495.078510                  M                 M     11.40   \n",
       "3                 NaN                  M                 M      7.60   \n",
       "4        69900.877850                  M                 M     27.00   \n",
       "..                ...                ...               ...       ...   \n",
       "177       8374.444328                  M                 M     24.45   \n",
       "178               NaN                  M                 M     23.85   \n",
       "179      12999.120260                  M                 M     17.75   \n",
       "180       3623.699395                  M                 M     21.40   \n",
       "181       2953.484113                  M                 M     21.00   \n",
       "\n",
       "     Normalized Cases  Normalized Deaths  \n",
       "0            0.001030       3.820000e-05  \n",
       "1            0.000147       5.370000e-06  \n",
       "2            0.004608       1.313860e-04  \n",
       "3            0.023800       6.870450e-04  \n",
       "4            0.009275       4.210000e-05  \n",
       "..                ...                ...  \n",
       "177          0.000011       3.630000e-07  \n",
       "178          0.000070       2.010000e-05  \n",
       "179          0.011433       2.796530e-04  \n",
       "180          0.000818       1.860000e-05  \n",
       "181          0.000533       1.550000e-05  \n",
       "\n",
       "[182 rows x 15 columns]"
      ]
     },
     "execution_count": 50,
     "metadata": {},
     "output_type": "execute_result"
    }
   ],
   "source": [
    "df = pd.read_csv(\"data/unified-data-per-country.csv\")\n",
    "df"
   ]
  },
  {
   "cell_type": "code",
   "execution_count": 51,
   "id": "bf615c3d",
   "metadata": {},
   "outputs": [
    {
     "data": {
      "text/html": [
       "<div>\n",
       "<style scoped>\n",
       "    .dataframe tbody tr th:only-of-type {\n",
       "        vertical-align: middle;\n",
       "    }\n",
       "\n",
       "    .dataframe tbody tr th {\n",
       "        vertical-align: top;\n",
       "    }\n",
       "\n",
       "    .dataframe thead th {\n",
       "        text-align: right;\n",
       "    }\n",
       "</style>\n",
       "<table border=\"1\" class=\"dataframe\">\n",
       "  <thead>\n",
       "    <tr style=\"text-align: right;\">\n",
       "      <th></th>\n",
       "      <th>Country Code</th>\n",
       "      <th>TableName</th>\n",
       "      <th>IncomeGroup</th>\n",
       "      <th>PopDensity_2018</th>\n",
       "      <th>Confirmed Cases</th>\n",
       "      <th>Deaths</th>\n",
       "      <th>Mortality Rate</th>\n",
       "      <th>Population_2019</th>\n",
       "      <th>GDP_2019</th>\n",
       "      <th>GDP_per_cap_2019</th>\n",
       "      <th>Main Leader Gender</th>\n",
       "      <th>Any Leader Gender</th>\n",
       "      <th>Avg Temp</th>\n",
       "      <th>Normalized Cases</th>\n",
       "      <th>Normalized Deaths</th>\n",
       "    </tr>\n",
       "  </thead>\n",
       "  <tbody>\n",
       "    <tr>\n",
       "      <th>0</th>\n",
       "      <td>AFG</td>\n",
       "      <td>Afghanistan</td>\n",
       "      <td>Low income</td>\n",
       "      <td>56.937760</td>\n",
       "      <td>39192</td>\n",
       "      <td>1453</td>\n",
       "      <td>3.707389</td>\n",
       "      <td>38041754</td>\n",
       "      <td>1.910135e+10</td>\n",
       "      <td>2293.551684</td>\n",
       "      <td>M</td>\n",
       "      <td>M</td>\n",
       "      <td>12.60</td>\n",
       "      <td>0.001030</td>\n",
       "      <td>0.000038</td>\n",
       "    </tr>\n",
       "    <tr>\n",
       "      <th>1</th>\n",
       "      <td>AGO</td>\n",
       "      <td>Angola</td>\n",
       "      <td>Lower middle income</td>\n",
       "      <td>24.713052</td>\n",
       "      <td>4672</td>\n",
       "      <td>171</td>\n",
       "      <td>3.660103</td>\n",
       "      <td>31825295</td>\n",
       "      <td>9.463542e+10</td>\n",
       "      <td>6929.678158</td>\n",
       "      <td>M</td>\n",
       "      <td>M</td>\n",
       "      <td>21.55</td>\n",
       "      <td>0.000147</td>\n",
       "      <td>0.000005</td>\n",
       "    </tr>\n",
       "    <tr>\n",
       "      <th>2</th>\n",
       "      <td>ALB</td>\n",
       "      <td>Albania</td>\n",
       "      <td>Upper middle income</td>\n",
       "      <td>104.612263</td>\n",
       "      <td>13153</td>\n",
       "      <td>375</td>\n",
       "      <td>2.851061</td>\n",
       "      <td>2854191</td>\n",
       "      <td>1.527808e+10</td>\n",
       "      <td>14495.078510</td>\n",
       "      <td>M</td>\n",
       "      <td>M</td>\n",
       "      <td>11.40</td>\n",
       "      <td>0.004608</td>\n",
       "      <td>0.000131</td>\n",
       "    </tr>\n",
       "    <tr>\n",
       "      <th>3</th>\n",
       "      <td>AND</td>\n",
       "      <td>Andorra</td>\n",
       "      <td>High income</td>\n",
       "      <td>163.842553</td>\n",
       "      <td>1836</td>\n",
       "      <td>53</td>\n",
       "      <td>2.886710</td>\n",
       "      <td>77142</td>\n",
       "      <td>3.154058e+09</td>\n",
       "      <td>NaN</td>\n",
       "      <td>M</td>\n",
       "      <td>M</td>\n",
       "      <td>7.60</td>\n",
       "      <td>0.023800</td>\n",
       "      <td>0.000687</td>\n",
       "    </tr>\n",
       "    <tr>\n",
       "      <th>4</th>\n",
       "      <td>ARE</td>\n",
       "      <td>United Arab Emirates</td>\n",
       "      <td>High income</td>\n",
       "      <td>135.609110</td>\n",
       "      <td>90618</td>\n",
       "      <td>411</td>\n",
       "      <td>0.453552</td>\n",
       "      <td>9770529</td>\n",
       "      <td>4.211420e+11</td>\n",
       "      <td>69900.877850</td>\n",
       "      <td>M</td>\n",
       "      <td>M</td>\n",
       "      <td>27.00</td>\n",
       "      <td>0.009275</td>\n",
       "      <td>0.000042</td>\n",
       "    </tr>\n",
       "  </tbody>\n",
       "</table>\n",
       "</div>"
      ],
      "text/plain": [
       "  Country Code             TableName          IncomeGroup  PopDensity_2018  \\\n",
       "0          AFG           Afghanistan           Low income        56.937760   \n",
       "1          AGO                Angola  Lower middle income        24.713052   \n",
       "2          ALB               Albania  Upper middle income       104.612263   \n",
       "3          AND               Andorra          High income       163.842553   \n",
       "4          ARE  United Arab Emirates          High income       135.609110   \n",
       "\n",
       "   Confirmed Cases  Deaths  Mortality Rate  Population_2019      GDP_2019  \\\n",
       "0            39192    1453        3.707389         38041754  1.910135e+10   \n",
       "1             4672     171        3.660103         31825295  9.463542e+10   \n",
       "2            13153     375        2.851061          2854191  1.527808e+10   \n",
       "3             1836      53        2.886710            77142  3.154058e+09   \n",
       "4            90618     411        0.453552          9770529  4.211420e+11   \n",
       "\n",
       "   GDP_per_cap_2019 Main Leader Gender Any Leader Gender  Avg Temp  \\\n",
       "0       2293.551684                  M                 M     12.60   \n",
       "1       6929.678158                  M                 M     21.55   \n",
       "2      14495.078510                  M                 M     11.40   \n",
       "3               NaN                  M                 M      7.60   \n",
       "4      69900.877850                  M                 M     27.00   \n",
       "\n",
       "   Normalized Cases  Normalized Deaths  \n",
       "0          0.001030           0.000038  \n",
       "1          0.000147           0.000005  \n",
       "2          0.004608           0.000131  \n",
       "3          0.023800           0.000687  \n",
       "4          0.009275           0.000042  "
      ]
     },
     "execution_count": 51,
     "metadata": {},
     "output_type": "execute_result"
    }
   ],
   "source": [
    "df.head()"
   ]
  },
  {
   "cell_type": "code",
   "execution_count": 52,
   "id": "0a3ac690",
   "metadata": {},
   "outputs": [
    {
     "data": {
      "text/html": [
       "<div>\n",
       "<style scoped>\n",
       "    .dataframe tbody tr th:only-of-type {\n",
       "        vertical-align: middle;\n",
       "    }\n",
       "\n",
       "    .dataframe tbody tr th {\n",
       "        vertical-align: top;\n",
       "    }\n",
       "\n",
       "    .dataframe thead th {\n",
       "        text-align: right;\n",
       "    }\n",
       "</style>\n",
       "<table border=\"1\" class=\"dataframe\">\n",
       "  <thead>\n",
       "    <tr style=\"text-align: right;\">\n",
       "      <th></th>\n",
       "      <th>Country Code</th>\n",
       "      <th>TableName</th>\n",
       "      <th>IncomeGroup</th>\n",
       "      <th>PopDensity_2018</th>\n",
       "      <th>Confirmed Cases</th>\n",
       "      <th>Deaths</th>\n",
       "      <th>Mortality Rate</th>\n",
       "      <th>Population_2019</th>\n",
       "      <th>GDP_2019</th>\n",
       "      <th>GDP_per_cap_2019</th>\n",
       "      <th>Main Leader Gender</th>\n",
       "      <th>Any Leader Gender</th>\n",
       "      <th>Avg Temp</th>\n",
       "      <th>Normalized Cases</th>\n",
       "      <th>Normalized Deaths</th>\n",
       "    </tr>\n",
       "  </thead>\n",
       "  <tbody>\n",
       "    <tr>\n",
       "      <th>177</th>\n",
       "      <td>VNM</td>\n",
       "      <td>Vietnam</td>\n",
       "      <td>Lower middle income</td>\n",
       "      <td>308.125246</td>\n",
       "      <td>1069</td>\n",
       "      <td>35</td>\n",
       "      <td>3.274088</td>\n",
       "      <td>96462106</td>\n",
       "      <td>2.619210e+11</td>\n",
       "      <td>8374.444328</td>\n",
       "      <td>M</td>\n",
       "      <td>M</td>\n",
       "      <td>24.45</td>\n",
       "      <td>0.000011</td>\n",
       "      <td>3.630000e-07</td>\n",
       "    </tr>\n",
       "    <tr>\n",
       "      <th>178</th>\n",
       "      <td>YEM</td>\n",
       "      <td>Yemen, Rep.</td>\n",
       "      <td>Low income</td>\n",
       "      <td>53.977853</td>\n",
       "      <td>2030</td>\n",
       "      <td>587</td>\n",
       "      <td>28.916256</td>\n",
       "      <td>29161922</td>\n",
       "      <td>NaN</td>\n",
       "      <td>NaN</td>\n",
       "      <td>M</td>\n",
       "      <td>M</td>\n",
       "      <td>23.85</td>\n",
       "      <td>0.000070</td>\n",
       "      <td>2.010000e-05</td>\n",
       "    </tr>\n",
       "    <tr>\n",
       "      <th>179</th>\n",
       "      <td>ZAF</td>\n",
       "      <td>South Africa</td>\n",
       "      <td>Upper middle income</td>\n",
       "      <td>47.630120</td>\n",
       "      <td>669498</td>\n",
       "      <td>16376</td>\n",
       "      <td>2.446012</td>\n",
       "      <td>58558270</td>\n",
       "      <td>3.514320e+11</td>\n",
       "      <td>12999.120260</td>\n",
       "      <td>M</td>\n",
       "      <td>M</td>\n",
       "      <td>17.75</td>\n",
       "      <td>0.011433</td>\n",
       "      <td>2.796530e-04</td>\n",
       "    </tr>\n",
       "    <tr>\n",
       "      <th>180</th>\n",
       "      <td>ZMB</td>\n",
       "      <td>Zambia</td>\n",
       "      <td>Lower middle income</td>\n",
       "      <td>23.341479</td>\n",
       "      <td>14612</td>\n",
       "      <td>332</td>\n",
       "      <td>2.272105</td>\n",
       "      <td>17861030</td>\n",
       "      <td>2.306472e+10</td>\n",
       "      <td>3623.699395</td>\n",
       "      <td>M</td>\n",
       "      <td>M</td>\n",
       "      <td>21.40</td>\n",
       "      <td>0.000818</td>\n",
       "      <td>1.860000e-05</td>\n",
       "    </tr>\n",
       "    <tr>\n",
       "      <th>181</th>\n",
       "      <td>ZWE</td>\n",
       "      <td>Zimbabwe</td>\n",
       "      <td>Lower middle income</td>\n",
       "      <td>37.324591</td>\n",
       "      <td>7803</td>\n",
       "      <td>227</td>\n",
       "      <td>2.909138</td>\n",
       "      <td>14645468</td>\n",
       "      <td>2.144076e+10</td>\n",
       "      <td>2953.484113</td>\n",
       "      <td>M</td>\n",
       "      <td>M</td>\n",
       "      <td>21.00</td>\n",
       "      <td>0.000533</td>\n",
       "      <td>1.550000e-05</td>\n",
       "    </tr>\n",
       "  </tbody>\n",
       "</table>\n",
       "</div>"
      ],
      "text/plain": [
       "    Country Code     TableName          IncomeGroup  PopDensity_2018  \\\n",
       "177          VNM       Vietnam  Lower middle income       308.125246   \n",
       "178          YEM   Yemen, Rep.           Low income        53.977853   \n",
       "179          ZAF  South Africa  Upper middle income        47.630120   \n",
       "180          ZMB        Zambia  Lower middle income        23.341479   \n",
       "181          ZWE      Zimbabwe  Lower middle income        37.324591   \n",
       "\n",
       "     Confirmed Cases  Deaths  Mortality Rate  Population_2019      GDP_2019  \\\n",
       "177             1069      35        3.274088         96462106  2.619210e+11   \n",
       "178             2030     587       28.916256         29161922           NaN   \n",
       "179           669498   16376        2.446012         58558270  3.514320e+11   \n",
       "180            14612     332        2.272105         17861030  2.306472e+10   \n",
       "181             7803     227        2.909138         14645468  2.144076e+10   \n",
       "\n",
       "     GDP_per_cap_2019 Main Leader Gender Any Leader Gender  Avg Temp  \\\n",
       "177       8374.444328                  M                 M     24.45   \n",
       "178               NaN                  M                 M     23.85   \n",
       "179      12999.120260                  M                 M     17.75   \n",
       "180       3623.699395                  M                 M     21.40   \n",
       "181       2953.484113                  M                 M     21.00   \n",
       "\n",
       "     Normalized Cases  Normalized Deaths  \n",
       "177          0.000011       3.630000e-07  \n",
       "178          0.000070       2.010000e-05  \n",
       "179          0.011433       2.796530e-04  \n",
       "180          0.000818       1.860000e-05  \n",
       "181          0.000533       1.550000e-05  "
      ]
     },
     "execution_count": 52,
     "metadata": {},
     "output_type": "execute_result"
    }
   ],
   "source": [
    "df.tail()"
   ]
  },
  {
   "cell_type": "code",
   "execution_count": 53,
   "id": "3a0318cf",
   "metadata": {},
   "outputs": [
    {
     "data": {
      "text/plain": [
       "Index(['Country Code', 'TableName', 'IncomeGroup', 'PopDensity_2018',\n",
       "       'Confirmed Cases', 'Deaths', 'Mortality Rate', 'Population_2019',\n",
       "       'GDP_2019', 'GDP_per_cap_2019', 'Main Leader Gender',\n",
       "       'Any Leader Gender', 'Avg Temp', 'Normalized Cases',\n",
       "       'Normalized Deaths'],\n",
       "      dtype='object')"
      ]
     },
     "execution_count": 53,
     "metadata": {},
     "output_type": "execute_result"
    }
   ],
   "source": [
    "df.columns"
   ]
  },
  {
   "cell_type": "code",
   "execution_count": 54,
   "id": "6ecf7b47",
   "metadata": {},
   "outputs": [
    {
     "data": {
      "text/html": [
       "<div>\n",
       "<style scoped>\n",
       "    .dataframe tbody tr th:only-of-type {\n",
       "        vertical-align: middle;\n",
       "    }\n",
       "\n",
       "    .dataframe tbody tr th {\n",
       "        vertical-align: top;\n",
       "    }\n",
       "\n",
       "    .dataframe thead th {\n",
       "        text-align: right;\n",
       "    }\n",
       "</style>\n",
       "<table border=\"1\" class=\"dataframe\">\n",
       "  <thead>\n",
       "    <tr style=\"text-align: right;\">\n",
       "      <th></th>\n",
       "      <th>PopDensity_2018</th>\n",
       "      <th>Confirmed Cases</th>\n",
       "      <th>Deaths</th>\n",
       "      <th>Mortality Rate</th>\n",
       "      <th>Population_2019</th>\n",
       "      <th>GDP_2019</th>\n",
       "      <th>GDP_per_cap_2019</th>\n",
       "      <th>Avg Temp</th>\n",
       "      <th>Normalized Cases</th>\n",
       "      <th>Normalized Deaths</th>\n",
       "    </tr>\n",
       "  </thead>\n",
       "  <tbody>\n",
       "    <tr>\n",
       "      <th>count</th>\n",
       "      <td>178.000000</td>\n",
       "      <td>1.820000e+02</td>\n",
       "      <td>182.000000</td>\n",
       "      <td>182.000000</td>\n",
       "      <td>1.820000e+02</td>\n",
       "      <td>1.690000e+02</td>\n",
       "      <td>168.000000</td>\n",
       "      <td>179.000000</td>\n",
       "      <td>182.000000</td>\n",
       "      <td>182.000000</td>\n",
       "    </tr>\n",
       "    <tr>\n",
       "      <th>mean</th>\n",
       "      <td>209.578681</td>\n",
       "      <td>1.798681e+05</td>\n",
       "      <td>5453.186813</td>\n",
       "      <td>2.552053</td>\n",
       "      <td>4.176762e+07</td>\n",
       "      <td>5.037484e+11</td>\n",
       "      <td>22175.663497</td>\n",
       "      <td>18.511117</td>\n",
       "      <td>0.005142</td>\n",
       "      <td>0.000126</td>\n",
       "    </tr>\n",
       "    <tr>\n",
       "      <th>std</th>\n",
       "      <td>642.276577</td>\n",
       "      <td>7.728216e+05</td>\n",
       "      <td>21079.533796</td>\n",
       "      <td>2.807438</td>\n",
       "      <td>1.494774e+08</td>\n",
       "      <td>2.060972e+12</td>\n",
       "      <td>22028.464791</td>\n",
       "      <td>8.179984</td>\n",
       "      <td>0.007289</td>\n",
       "      <td>0.000208</td>\n",
       "    </tr>\n",
       "    <tr>\n",
       "      <th>min</th>\n",
       "      <td>2.040609</td>\n",
       "      <td>1.900000e+01</td>\n",
       "      <td>0.000000</td>\n",
       "      <td>0.000000</td>\n",
       "      <td>3.386000e+04</td>\n",
       "      <td>4.290166e+08</td>\n",
       "      <td>782.816589</td>\n",
       "      <td>-5.100000</td>\n",
       "      <td>0.000003</td>\n",
       "      <td>0.000000</td>\n",
       "    </tr>\n",
       "    <tr>\n",
       "      <th>25%</th>\n",
       "      <td>37.143092</td>\n",
       "      <td>2.930250e+03</td>\n",
       "      <td>50.000000</td>\n",
       "      <td>1.063698</td>\n",
       "      <td>2.689939e+06</td>\n",
       "      <td>1.282700e+10</td>\n",
       "      <td>5398.131919</td>\n",
       "      <td>10.625000</td>\n",
       "      <td>0.000540</td>\n",
       "      <td>0.000008</td>\n",
       "    </tr>\n",
       "    <tr>\n",
       "      <th>50%</th>\n",
       "      <td>83.949492</td>\n",
       "      <td>1.337950e+04</td>\n",
       "      <td>228.000000</td>\n",
       "      <td>2.004451</td>\n",
       "      <td>9.758033e+06</td>\n",
       "      <td>4.731962e+10</td>\n",
       "      <td>14747.947505</td>\n",
       "      <td>21.850000</td>\n",
       "      <td>0.002313</td>\n",
       "      <td>0.000038</td>\n",
       "    </tr>\n",
       "    <tr>\n",
       "      <th>75%</th>\n",
       "      <td>204.487818</td>\n",
       "      <td>7.642675e+04</td>\n",
       "      <td>1450.000000</td>\n",
       "      <td>3.071983</td>\n",
       "      <td>3.040490e+07</td>\n",
       "      <td>2.619210e+11</td>\n",
       "      <td>32413.601215</td>\n",
       "      <td>25.325000</td>\n",
       "      <td>0.006527</td>\n",
       "      <td>0.000135</td>\n",
       "    </tr>\n",
       "    <tr>\n",
       "      <th>max</th>\n",
       "      <td>7952.998418</td>\n",
       "      <td>7.078039e+06</td>\n",
       "      <td>204486.000000</td>\n",
       "      <td>28.916256</td>\n",
       "      <td>1.397715e+09</td>\n",
       "      <td>2.137440e+13</td>\n",
       "      <td>121292.739300</td>\n",
       "      <td>28.290000</td>\n",
       "      <td>0.044084</td>\n",
       "      <td>0.001240</td>\n",
       "    </tr>\n",
       "  </tbody>\n",
       "</table>\n",
       "</div>"
      ],
      "text/plain": [
       "       PopDensity_2018  Confirmed Cases         Deaths  Mortality Rate  \\\n",
       "count       178.000000     1.820000e+02     182.000000      182.000000   \n",
       "mean        209.578681     1.798681e+05    5453.186813        2.552053   \n",
       "std         642.276577     7.728216e+05   21079.533796        2.807438   \n",
       "min           2.040609     1.900000e+01       0.000000        0.000000   \n",
       "25%          37.143092     2.930250e+03      50.000000        1.063698   \n",
       "50%          83.949492     1.337950e+04     228.000000        2.004451   \n",
       "75%         204.487818     7.642675e+04    1450.000000        3.071983   \n",
       "max        7952.998418     7.078039e+06  204486.000000       28.916256   \n",
       "\n",
       "       Population_2019      GDP_2019  GDP_per_cap_2019    Avg Temp  \\\n",
       "count     1.820000e+02  1.690000e+02        168.000000  179.000000   \n",
       "mean      4.176762e+07  5.037484e+11      22175.663497   18.511117   \n",
       "std       1.494774e+08  2.060972e+12      22028.464791    8.179984   \n",
       "min       3.386000e+04  4.290166e+08        782.816589   -5.100000   \n",
       "25%       2.689939e+06  1.282700e+10       5398.131919   10.625000   \n",
       "50%       9.758033e+06  4.731962e+10      14747.947505   21.850000   \n",
       "75%       3.040490e+07  2.619210e+11      32413.601215   25.325000   \n",
       "max       1.397715e+09  2.137440e+13     121292.739300   28.290000   \n",
       "\n",
       "       Normalized Cases  Normalized Deaths  \n",
       "count        182.000000         182.000000  \n",
       "mean           0.005142           0.000126  \n",
       "std            0.007289           0.000208  \n",
       "min            0.000003           0.000000  \n",
       "25%            0.000540           0.000008  \n",
       "50%            0.002313           0.000038  \n",
       "75%            0.006527           0.000135  \n",
       "max            0.044084           0.001240  "
      ]
     },
     "execution_count": 54,
     "metadata": {},
     "output_type": "execute_result"
    }
   ],
   "source": [
    "df.describe()"
   ]
  },
  {
   "cell_type": "code",
   "execution_count": 55,
   "id": "6621c887",
   "metadata": {},
   "outputs": [
    {
     "data": {
      "text/plain": [
       "Country Code  TableName    IncomeGroup          PopDensity_2018  Confirmed Cases  Deaths  Mortality Rate  Population_2019  GDP_2019      GDP_per_cap_2019  Main Leader Gender  Any Leader Gender  Avg Temp  Normalized Cases  Normalized Deaths\n",
       "AFG           Afghanistan  Low income           56.937760        39192            1453    3.707389        38041754         1.910135e+10  2293.551684       M                   M                   12.60    0.001030          0.000038             1\n",
       "MLT           Malta        High income          1514.468750      2958             31      1.048005        502653           1.478616e+10  45651.575000      M                   M                   19.20    0.005885          0.000062             1\n",
       "MNE           Montenegro   Upper middle income  46.262230        10197            158     1.549475        622137           5.494737e+09  22988.680200      M                   M                   10.55    0.016390          0.000254             1\n",
       "MNG           Mongolia     Lower middle income  2.040609         313              0       0.000000        3225167          1.385285e+10  12819.948580      M                   M                  -0.70     0.000097          0.000000             1\n",
       "MOZ           Mozambique   Low income           37.508535        7757             54      0.696145        30366036         1.493416e+10  1333.518167       M                   M                   23.80    0.000255          0.000002             1\n",
       "                                                                                                                                                                                                                                                  ..\n",
       "GEO           Georgia      Upper middle income  65.197330        4960             28      0.564516        3720382          1.774320e+10  15636.553760      M                   F                   5.80     0.001333          0.000008             1\n",
       "GHA           Ghana        Lower middle income  130.821429       46222            299     0.646878        30417856         6.698363e+10  5636.953910       M                   M                   27.20    0.001520          0.000010             1\n",
       "GIN           Guinea       Low income           50.522212        10512            65      0.618341        12771246         1.359028e+10  2670.308947       M                   M                   25.70    0.000823          0.000005             1\n",
       "GMB           Gambia, The  Low income           225.306522       3555             110     3.094233        2347706          1.763819e+09  2298.378173       M                   M                   27.50    0.001514          0.000047             1\n",
       "ZWE           Zimbabwe     Lower middle income  37.324591        7803             227     2.909138        14645468         2.144076e+10  2953.484113       M                   M                   21.00    0.000533          0.000016             1\n",
       "Length: 166, dtype: int64"
      ]
     },
     "execution_count": 55,
     "metadata": {},
     "output_type": "execute_result"
    }
   ],
   "source": [
    "df.value_counts()"
   ]
  },
  {
   "cell_type": "code",
   "execution_count": 56,
   "id": "18cea8cd",
   "metadata": {},
   "outputs": [
    {
     "data": {
      "image/png": "[encoded data removed]",
      "text/plain": [
       "<Figure size 432x288 with 1 Axes>"
      ]
     },
     "metadata": {
      "needs_background": "light"
     },
     "output_type": "display_data"
    }
   ],
   "source": [
    "df.Deaths.hist(bins = 30);"
   ]
  },
  {
   "cell_type": "code",
   "execution_count": 57,
   "id": "d1cf8dfb",
   "metadata": {},
   "outputs": [
    {
     "data": {
      "image/png": "[encoded data removed]",
      "text/plain": [
       "<Figure size 432x288 with 1 Axes>"
      ]
     },
     "metadata": {
      "needs_background": "light"
     },
     "output_type": "display_data"
    }
   ],
   "source": [
    "df.GDP_2019.hist(bins=30);"
   ]
  },
  {
   "cell_type": "code",
   "execution_count": 58,
   "id": "cd8b8b76",
   "metadata": {},
   "outputs": [
    {
     "data": {
      "image/png": "[encoded data removed]",
      "text/plain": [
       "<Figure size 432x288 with 1 Axes>"
      ]
     },
     "metadata": {
      "needs_background": "light"
     },
     "output_type": "display_data"
    }
   ],
   "source": [
    "df.GDP_2019.hist();"
   ]
  },
  {
   "cell_type": "code",
   "execution_count": 59,
   "id": "667ac8f2",
   "metadata": {},
   "outputs": [
    {
     "data": {
      "image/png": "[encoded data removed]",
      "text/plain": [
       "<Figure size 432x288 with 1 Axes>"
      ]
     },
     "metadata": {
      "needs_background": "light"
     },
     "output_type": "display_data"
    }
   ],
   "source": [
    "df.Population_2019.hist(bins=30);"
   ]
  },
  {
   "cell_type": "code",
   "execution_count": 60,
   "id": "1fdd2c85",
   "metadata": {},
   "outputs": [
    {
     "data": {
      "image/png": "[encoded data removed]",
      "text/plain": [
       "<Figure size 432x288 with 1 Axes>"
      ]
     },
     "metadata": {
      "needs_background": "light"
     },
     "output_type": "display_data"
    }
   ],
   "source": [
    "df.GDP_per_cap_2019.hist(bins=10);"
   ]
  },
  {
   "cell_type": "code",
   "execution_count": 61,
   "id": "f2f5b1b5",
   "metadata": {},
   "outputs": [
    {
     "data": {
      "image/png": "[encoded data removed]",
      "text/plain": [
       "<Figure size 432x288 with 1 Axes>"
      ]
     },
     "metadata": {
      "needs_background": "light"
     },
     "output_type": "display_data"
    }
   ],
   "source": [
    "df.Population_2019.hist(bins=30);"
   ]
  },
  {
   "cell_type": "markdown",
   "id": "61244c42",
   "metadata": {},
   "source": [
    "# Probability Distributions\n",
    "#### Data generating Process(DGP);\n",
    "(Take me through the process and convince me about what you discovered) gives the idea of probability distribution\n",
    "\n",
    "## Probability Distribution;\n",
    "(PDF)how did you aquire te data ie share the questionaire\n",
    "Describe the data \n",
    "Key interest/variable(why)\n",
    "Relationship(how does it come about)\n",
    "All these lead us to thinking about te following distrubutions\n",
    "1. Normal/ gausian: Most common\n",
    "2.poison\n",
    "3.uniform\n",
    "4.Geonemetry\n",
    "#### Probability comes in away that it leads to wonder forexemple whats the probability taht the goats are real(ref to the goats that were in atree)\n",
    "###### Different distributions derive different meaning from the data\n",
    "# NB\n",
    "-Data Process\n",
    "-Distribution used\n",
    "-Chance of occurrence"
   ]
  },
  {
   "cell_type": "markdown",
   "id": "0ec85700",
   "metadata": {},
   "source": [
    "value = [1,2,3,4,5,6]\n",
    "probability =[1/6,1/6/1/6,1/6,1/6,1/6]\n",
    "# Empirical\n",
    "distribution based on data"
   ]
  },
  {
   "cell_type": "code",
   "execution_count": 62,
   "id": "58fe0b5d",
   "metadata": {},
   "outputs": [
    {
     "name": "stdout",
     "output_type": "stream",
     "text": [
      "Requirement already satisfied: empiricaldist in c:\\users\\pc\\appdata\\local\\programs\\python\\python310\\lib\\site-packages (0.6.7)\n",
      "Note: you may need to restart the kernel to use updated packages.\n"
     ]
    }
   ],
   "source": [
    "pip install empiricaldist"
   ]
  },
  {
   "cell_type": "code",
   "execution_count": 63,
   "id": "badd66c3",
   "metadata": {},
   "outputs": [],
   "source": [
    "from empiricaldist import Pmf"
   ]
  },
  {
   "cell_type": "code",
   "execution_count": 64,
   "id": "69be5349",
   "metadata": {},
   "outputs": [
    {
     "data": {
      "text/html": [
       "<div>\n",
       "<style scoped>\n",
       "    .dataframe tbody tr th:only-of-type {\n",
       "        vertical-align: middle;\n",
       "    }\n",
       "\n",
       "    .dataframe tbody tr th {\n",
       "        vertical-align: top;\n",
       "    }\n",
       "\n",
       "    .dataframe thead th {\n",
       "        text-align: right;\n",
       "    }\n",
       "</style>\n",
       "<table border=\"1\" class=\"dataframe\">\n",
       "  <thead>\n",
       "    <tr style=\"text-align: right;\">\n",
       "      <th></th>\n",
       "      <th>probs</th>\n",
       "    </tr>\n",
       "  </thead>\n",
       "  <tbody>\n",
       "    <tr>\n",
       "      <th>1</th>\n",
       "      <td>0.166667</td>\n",
       "    </tr>\n",
       "    <tr>\n",
       "      <th>2</th>\n",
       "      <td>0.166667</td>\n",
       "    </tr>\n",
       "    <tr>\n",
       "      <th>3</th>\n",
       "      <td>0.166667</td>\n",
       "    </tr>\n",
       "    <tr>\n",
       "      <th>4</th>\n",
       "      <td>0.166667</td>\n",
       "    </tr>\n",
       "    <tr>\n",
       "      <th>5</th>\n",
       "      <td>0.166667</td>\n",
       "    </tr>\n",
       "    <tr>\n",
       "      <th>6</th>\n",
       "      <td>0.166667</td>\n",
       "    </tr>\n",
       "  </tbody>\n",
       "</table>\n",
       "</div>"
      ],
      "text/plain": [
       "1    0.166667\n",
       "2    0.166667\n",
       "3    0.166667\n",
       "4    0.166667\n",
       "5    0.166667\n",
       "6    0.166667\n",
       "Name: , dtype: float64"
      ]
     },
     "execution_count": 64,
     "metadata": {},
     "output_type": "execute_result"
    }
   ],
   "source": [
    "outcome = [1,2,3,4,5,6]\n",
    "die =Pmf(1/6,outcome)\n",
    "die"
   ]
  },
  {
   "cell_type": "markdown",
   "id": "0c2ff6a6",
   "metadata": {},
   "source": [
    "Gss survey\n",
    "it was generated in 1972\n",
    "Gss eplorer=> Gss tool\n",
    "## file formats\n",
    "csv\n",
    "xml\n",
    "R\n",
    "xlsx\n",
    "sav\n",
    "doc\n",
    "txt"
   ]
  },
  {
   "cell_type": "code",
   "execution_count": 75,
   "id": "b657dc74",
   "metadata": {},
   "outputs": [
    {
     "ename": "SyntaxError",
     "evalue": "invalid syntax (2178969467.py, line 2)",
     "output_type": "error",
     "traceback": [
      "\u001b[1;36m  Input \u001b[1;32mIn [75]\u001b[1;36m\u001b[0m\n\u001b[1;33m    pip install statadict\u001b[0m\n\u001b[1;37m        ^\u001b[0m\n\u001b[1;31mSyntaxError\u001b[0m\u001b[1;31m:\u001b[0m invalid syntax\n"
     ]
    }
   ],
   "source": [
    "#library for reading data dictionaries\n",
    "pip install statadict"
   ]
  },
  {
   "cell_type": "code",
   "execution_count": 76,
   "id": "82bb7fc6",
   "metadata": {},
   "outputs": [],
   "source": [
    "dict_file = \"Gss.dict\""
   ]
  },
  {
   "cell_type": "code",
   "execution_count": 77,
   "id": "85f354a2",
   "metadata": {},
   "outputs": [],
   "source": [
    "data_file = \"Gss.data.gz\""
   ]
  },
  {
   "cell_type": "code",
   "execution_count": 78,
   "id": "5d30b9af",
   "metadata": {},
   "outputs": [
    {
     "ename": "ImportError",
     "evalue": "cannot import name 'stataDic' from 'statadict' (C:\\Users\\pc\\AppData\\Local\\Programs\\Python\\Python310\\lib\\site-packages\\statadict\\__init__.py)",
     "output_type": "error",
     "traceback": [
      "\u001b[1;31m---------------------------------------------------------------------------\u001b[0m",
      "\u001b[1;31mImportError\u001b[0m                               Traceback (most recent call last)",
      "Input \u001b[1;32mIn [78]\u001b[0m, in \u001b[0;36m<cell line: 1>\u001b[1;34m()\u001b[0m\n\u001b[1;32m----> 1\u001b[0m \u001b[38;5;28;01mfrom\u001b[39;00m \u001b[38;5;21;01mstatadict\u001b[39;00m \u001b[38;5;28;01mimport\u001b[39;00m stataDic\n\u001b[0;32m      2\u001b[0m stata_dict \u001b[38;5;241m=\u001b[39m parse_stata_dict(dict_file)\n",
      "\u001b[1;31mImportError\u001b[0m: cannot import name 'stataDic' from 'statadict' (C:\\Users\\pc\\AppData\\Local\\Programs\\Python\\Python310\\lib\\site-packages\\statadict\\__init__.py)"
     ]
    }
   ],
   "source": [
    "from statadict import stataDic\n",
    "stata_dict = parse_stata_dict(dict_file)\n"
   ]
  },
  {
   "cell_type": "code",
   "execution_count": 79,
   "id": "b76f9b42",
   "metadata": {},
   "outputs": [
    {
     "name": "stdout",
     "output_type": "stream",
     "text": [
      "Note: you may need to restart the kernel to use updated packages.\n"
     ]
    },
    {
     "name": "stderr",
     "output_type": "stream",
     "text": [
      "ERROR: Could not find a version that satisfies the requirement gzip (from versions: none)\n",
      "ERROR: No matching distribution found for gzip\n"
     ]
    }
   ],
   "source": [
    "pip install gzip"
   ]
  },
  {
   "cell_type": "code",
   "execution_count": 80,
   "id": "0a9e0a64",
   "metadata": {},
   "outputs": [],
   "source": [
    "import pandas as pd\n"
   ]
  },
  {
   "cell_type": "code",
   "execution_count": 81,
   "id": "94325b2d",
   "metadata": {},
   "outputs": [
    {
     "data": {
      "text/html": [
       "<div>\n",
       "<style scoped>\n",
       "    .dataframe tbody tr th:only-of-type {\n",
       "        vertical-align: middle;\n",
       "    }\n",
       "\n",
       "    .dataframe tbody tr th {\n",
       "        vertical-align: top;\n",
       "    }\n",
       "\n",
       "    .dataframe thead th {\n",
       "        text-align: right;\n",
       "    }\n",
       "</style>\n",
       "<table border=\"1\" class=\"dataframe\">\n",
       "  <thead>\n",
       "    <tr style=\"text-align: right;\">\n",
       "      <th></th>\n",
       "      <th>Country Code</th>\n",
       "      <th>TableName</th>\n",
       "      <th>IncomeGroup</th>\n",
       "      <th>PopDensity_2018</th>\n",
       "      <th>Confirmed Cases</th>\n",
       "      <th>Deaths</th>\n",
       "      <th>Mortality Rate</th>\n",
       "      <th>Population_2019</th>\n",
       "      <th>GDP_2019</th>\n",
       "      <th>GDP_per_cap_2019</th>\n",
       "      <th>Main Leader Gender</th>\n",
       "      <th>Any Leader Gender</th>\n",
       "      <th>Avg Temp</th>\n",
       "      <th>Normalized Cases</th>\n",
       "      <th>Normalized Deaths</th>\n",
       "    </tr>\n",
       "  </thead>\n",
       "  <tbody>\n",
       "    <tr>\n",
       "      <th>0</th>\n",
       "      <td>AFG</td>\n",
       "      <td>Afghanistan</td>\n",
       "      <td>Low income</td>\n",
       "      <td>56.937760</td>\n",
       "      <td>39192</td>\n",
       "      <td>1453</td>\n",
       "      <td>3.707389</td>\n",
       "      <td>38041754</td>\n",
       "      <td>1.910135e+10</td>\n",
       "      <td>2293.551684</td>\n",
       "      <td>M</td>\n",
       "      <td>M</td>\n",
       "      <td>12.60</td>\n",
       "      <td>0.001030</td>\n",
       "      <td>3.820000e-05</td>\n",
       "    </tr>\n",
       "    <tr>\n",
       "      <th>1</th>\n",
       "      <td>AGO</td>\n",
       "      <td>Angola</td>\n",
       "      <td>Lower middle income</td>\n",
       "      <td>24.713052</td>\n",
       "      <td>4672</td>\n",
       "      <td>171</td>\n",
       "      <td>3.660103</td>\n",
       "      <td>31825295</td>\n",
       "      <td>9.463542e+10</td>\n",
       "      <td>6929.678158</td>\n",
       "      <td>M</td>\n",
       "      <td>M</td>\n",
       "      <td>21.55</td>\n",
       "      <td>0.000147</td>\n",
       "      <td>5.370000e-06</td>\n",
       "    </tr>\n",
       "    <tr>\n",
       "      <th>2</th>\n",
       "      <td>ALB</td>\n",
       "      <td>Albania</td>\n",
       "      <td>Upper middle income</td>\n",
       "      <td>104.612263</td>\n",
       "      <td>13153</td>\n",
       "      <td>375</td>\n",
       "      <td>2.851061</td>\n",
       "      <td>2854191</td>\n",
       "      <td>1.527808e+10</td>\n",
       "      <td>14495.078510</td>\n",
       "      <td>M</td>\n",
       "      <td>M</td>\n",
       "      <td>11.40</td>\n",
       "      <td>0.004608</td>\n",
       "      <td>1.313860e-04</td>\n",
       "    </tr>\n",
       "    <tr>\n",
       "      <th>3</th>\n",
       "      <td>AND</td>\n",
       "      <td>Andorra</td>\n",
       "      <td>High income</td>\n",
       "      <td>163.842553</td>\n",
       "      <td>1836</td>\n",
       "      <td>53</td>\n",
       "      <td>2.886710</td>\n",
       "      <td>77142</td>\n",
       "      <td>3.154058e+09</td>\n",
       "      <td>NaN</td>\n",
       "      <td>M</td>\n",
       "      <td>M</td>\n",
       "      <td>7.60</td>\n",
       "      <td>0.023800</td>\n",
       "      <td>6.870450e-04</td>\n",
       "    </tr>\n",
       "    <tr>\n",
       "      <th>4</th>\n",
       "      <td>ARE</td>\n",
       "      <td>United Arab Emirates</td>\n",
       "      <td>High income</td>\n",
       "      <td>135.609110</td>\n",
       "      <td>90618</td>\n",
       "      <td>411</td>\n",
       "      <td>0.453552</td>\n",
       "      <td>9770529</td>\n",
       "      <td>4.211420e+11</td>\n",
       "      <td>69900.877850</td>\n",
       "      <td>M</td>\n",
       "      <td>M</td>\n",
       "      <td>27.00</td>\n",
       "      <td>0.009275</td>\n",
       "      <td>4.210000e-05</td>\n",
       "    </tr>\n",
       "    <tr>\n",
       "      <th>...</th>\n",
       "      <td>...</td>\n",
       "      <td>...</td>\n",
       "      <td>...</td>\n",
       "      <td>...</td>\n",
       "      <td>...</td>\n",
       "      <td>...</td>\n",
       "      <td>...</td>\n",
       "      <td>...</td>\n",
       "      <td>...</td>\n",
       "      <td>...</td>\n",
       "      <td>...</td>\n",
       "      <td>...</td>\n",
       "      <td>...</td>\n",
       "      <td>...</td>\n",
       "      <td>...</td>\n",
       "    </tr>\n",
       "    <tr>\n",
       "      <th>177</th>\n",
       "      <td>VNM</td>\n",
       "      <td>Vietnam</td>\n",
       "      <td>Lower middle income</td>\n",
       "      <td>308.125246</td>\n",
       "      <td>1069</td>\n",
       "      <td>35</td>\n",
       "      <td>3.274088</td>\n",
       "      <td>96462106</td>\n",
       "      <td>2.619210e+11</td>\n",
       "      <td>8374.444328</td>\n",
       "      <td>M</td>\n",
       "      <td>M</td>\n",
       "      <td>24.45</td>\n",
       "      <td>0.000011</td>\n",
       "      <td>3.630000e-07</td>\n",
       "    </tr>\n",
       "    <tr>\n",
       "      <th>178</th>\n",
       "      <td>YEM</td>\n",
       "      <td>Yemen, Rep.</td>\n",
       "      <td>Low income</td>\n",
       "      <td>53.977853</td>\n",
       "      <td>2030</td>\n",
       "      <td>587</td>\n",
       "      <td>28.916256</td>\n",
       "      <td>29161922</td>\n",
       "      <td>NaN</td>\n",
       "      <td>NaN</td>\n",
       "      <td>M</td>\n",
       "      <td>M</td>\n",
       "      <td>23.85</td>\n",
       "      <td>0.000070</td>\n",
       "      <td>2.010000e-05</td>\n",
       "    </tr>\n",
       "    <tr>\n",
       "      <th>179</th>\n",
       "      <td>ZAF</td>\n",
       "      <td>South Africa</td>\n",
       "      <td>Upper middle income</td>\n",
       "      <td>47.630120</td>\n",
       "      <td>669498</td>\n",
       "      <td>16376</td>\n",
       "      <td>2.446012</td>\n",
       "      <td>58558270</td>\n",
       "      <td>3.514320e+11</td>\n",
       "      <td>12999.120260</td>\n",
       "      <td>M</td>\n",
       "      <td>M</td>\n",
       "      <td>17.75</td>\n",
       "      <td>0.011433</td>\n",
       "      <td>2.796530e-04</td>\n",
       "    </tr>\n",
       "    <tr>\n",
       "      <th>180</th>\n",
       "      <td>ZMB</td>\n",
       "      <td>Zambia</td>\n",
       "      <td>Lower middle income</td>\n",
       "      <td>23.341479</td>\n",
       "      <td>14612</td>\n",
       "      <td>332</td>\n",
       "      <td>2.272105</td>\n",
       "      <td>17861030</td>\n",
       "      <td>2.306472e+10</td>\n",
       "      <td>3623.699395</td>\n",
       "      <td>M</td>\n",
       "      <td>M</td>\n",
       "      <td>21.40</td>\n",
       "      <td>0.000818</td>\n",
       "      <td>1.860000e-05</td>\n",
       "    </tr>\n",
       "    <tr>\n",
       "      <th>181</th>\n",
       "      <td>ZWE</td>\n",
       "      <td>Zimbabwe</td>\n",
       "      <td>Lower middle income</td>\n",
       "      <td>37.324591</td>\n",
       "      <td>7803</td>\n",
       "      <td>227</td>\n",
       "      <td>2.909138</td>\n",
       "      <td>14645468</td>\n",
       "      <td>2.144076e+10</td>\n",
       "      <td>2953.484113</td>\n",
       "      <td>M</td>\n",
       "      <td>M</td>\n",
       "      <td>21.00</td>\n",
       "      <td>0.000533</td>\n",
       "      <td>1.550000e-05</td>\n",
       "    </tr>\n",
       "  </tbody>\n",
       "</table>\n",
       "<p>182 rows × 15 columns</p>\n",
       "</div>"
      ],
      "text/plain": [
       "    Country Code             TableName          IncomeGroup  PopDensity_2018  \\\n",
       "0            AFG           Afghanistan           Low income        56.937760   \n",
       "1            AGO                Angola  Lower middle income        24.713052   \n",
       "2            ALB               Albania  Upper middle income       104.612263   \n",
       "3            AND               Andorra          High income       163.842553   \n",
       "4            ARE  United Arab Emirates          High income       135.609110   \n",
       "..           ...                   ...                  ...              ...   \n",
       "177          VNM               Vietnam  Lower middle income       308.125246   \n",
       "178          YEM           Yemen, Rep.           Low income        53.977853   \n",
       "179          ZAF          South Africa  Upper middle income        47.630120   \n",
       "180          ZMB                Zambia  Lower middle income        23.341479   \n",
       "181          ZWE              Zimbabwe  Lower middle income        37.324591   \n",
       "\n",
       "     Confirmed Cases  Deaths  Mortality Rate  Population_2019      GDP_2019  \\\n",
       "0              39192    1453        3.707389         38041754  1.910135e+10   \n",
       "1               4672     171        3.660103         31825295  9.463542e+10   \n",
       "2              13153     375        2.851061          2854191  1.527808e+10   \n",
       "3               1836      53        2.886710            77142  3.154058e+09   \n",
       "4              90618     411        0.453552          9770529  4.211420e+11   \n",
       "..               ...     ...             ...              ...           ...   \n",
       "177             1069      35        3.274088         96462106  2.619210e+11   \n",
       "178             2030     587       28.916256         29161922           NaN   \n",
       "179           669498   16376        2.446012         58558270  3.514320e+11   \n",
       "180            14612     332        2.272105         17861030  2.306472e+10   \n",
       "181             7803     227        2.909138         14645468  2.144076e+10   \n",
       "\n",
       "     GDP_per_cap_2019 Main Leader Gender Any Leader Gender  Avg Temp  \\\n",
       "0         2293.551684                  M                 M     12.60   \n",
       "1         6929.678158                  M                 M     21.55   \n",
       "2        14495.078510                  M                 M     11.40   \n",
       "3                 NaN                  M                 M      7.60   \n",
       "4        69900.877850                  M                 M     27.00   \n",
       "..                ...                ...               ...       ...   \n",
       "177       8374.444328                  M                 M     24.45   \n",
       "178               NaN                  M                 M     23.85   \n",
       "179      12999.120260                  M                 M     17.75   \n",
       "180       3623.699395                  M                 M     21.40   \n",
       "181       2953.484113                  M                 M     21.00   \n",
       "\n",
       "     Normalized Cases  Normalized Deaths  \n",
       "0            0.001030       3.820000e-05  \n",
       "1            0.000147       5.370000e-06  \n",
       "2            0.004608       1.313860e-04  \n",
       "3            0.023800       6.870450e-04  \n",
       "4            0.009275       4.210000e-05  \n",
       "..                ...                ...  \n",
       "177          0.000011       3.630000e-07  \n",
       "178          0.000070       2.010000e-05  \n",
       "179          0.011433       2.796530e-04  \n",
       "180          0.000818       1.860000e-05  \n",
       "181          0.000533       1.550000e-05  \n",
       "\n",
       "[182 rows x 15 columns]"
      ]
     },
     "execution_count": 81,
     "metadata": {},
     "output_type": "execute_result"
    }
   ],
   "source": [
    "data_frame = pd.read_csv(\"data/unified-data-per-country.csv\")\n",
    "data_frame"
   ]
  },
  {
   "cell_type": "code",
   "execution_count": 82,
   "id": "f7f87ccd",
   "metadata": {},
   "outputs": [
    {
     "data": {
      "text/plain": [
       "Index(['Country Code', 'TableName', 'IncomeGroup', 'PopDensity_2018',\n",
       "       'Confirmed Cases', 'Deaths', 'Mortality Rate', 'Population_2019',\n",
       "       'GDP_2019', 'GDP_per_cap_2019', 'Main Leader Gender',\n",
       "       'Any Leader Gender', 'Avg Temp', 'Normalized Cases',\n",
       "       'Normalized Deaths'],\n",
       "      dtype='object')"
      ]
     },
     "execution_count": 82,
     "metadata": {},
     "output_type": "execute_result"
    }
   ],
   "source": [
    "data_frame.columns"
   ]
  },
  {
   "cell_type": "code",
   "execution_count": 83,
   "id": "0aa38494",
   "metadata": {},
   "outputs": [
    {
     "data": {
      "text/plain": [
       "33860         1\n",
       "38019         1\n",
       "38964         1\n",
       "52823         1\n",
       "71808         1\n",
       "             ..\n",
       "216565318     1\n",
       "270625568     1\n",
       "328239523     1\n",
       "1366417754    1\n",
       "1397715000    1\n",
       "Name: Population_2019, Length: 182, dtype: int64"
      ]
     },
     "execution_count": 83,
     "metadata": {},
     "output_type": "execute_result"
    }
   ],
   "source": [
    "data_frame['Population_2019'].value_counts().sort_index()"
   ]
  },
  {
   "cell_type": "code",
   "execution_count": 84,
   "id": "4a596e82",
   "metadata": {},
   "outputs": [
    {
     "data": {
      "text/plain": [
       "38041754    1\n",
       "622137      1\n",
       "30366036    1\n",
       "4525696     1\n",
       "1265711     1\n",
       "           ..\n",
       "30417856    1\n",
       "12771246    1\n",
       "2347706     1\n",
       "1920922     1\n",
       "14645468    1\n",
       "Name: Population_2019, Length: 182, dtype: int64"
      ]
     },
     "execution_count": 84,
     "metadata": {},
     "output_type": "execute_result"
    }
   ],
   "source": [
    "#without Sort_index\n",
    "data_frame['Population_2019'].value_counts()"
   ]
  },
  {
   "cell_type": "code",
   "execution_count": 85,
   "id": "d723c770",
   "metadata": {},
   "outputs": [
    {
     "data": {
      "text/plain": [
       "0      38041754\n",
       "1      31825295\n",
       "2       2854191\n",
       "3         77142\n",
       "4       9770529\n",
       "         ...   \n",
       "177    96462106\n",
       "178    29161922\n",
       "179    58558270\n",
       "180    17861030\n",
       "181    14645468\n",
       "Name: Population_2019, Length: 182, dtype: int64"
      ]
     },
     "execution_count": 85,
     "metadata": {},
     "output_type": "execute_result"
    }
   ],
   "source": [
    "#without Value_count\n",
    "data_frame['Population_2019'].sort_index()"
   ]
  },
  {
   "cell_type": "code",
   "execution_count": 86,
   "id": "06146e70",
   "metadata": {},
   "outputs": [],
   "source": [
    "import matplotlib.pyplot as plt"
   ]
  },
  {
   "cell_type": "code",
   "execution_count": 87,
   "id": "f3dbbae6",
   "metadata": {},
   "outputs": [
    {
     "data": {
      "text/plain": [
       "33860         1\n",
       "38019         1\n",
       "38964         1\n",
       "52823         1\n",
       "71808         1\n",
       "             ..\n",
       "216565318     1\n",
       "270625568     1\n",
       "328239523     1\n",
       "1366417754    1\n",
       "1397715000    1\n",
       "Name: Population_2019, Length: 182, dtype: int64"
      ]
     },
     "execution_count": 87,
     "metadata": {},
     "output_type": "execute_result"
    }
   ],
   "source": [
    "histo = data_frame['Population_2019'].value_counts().sort_index()\n",
    "histo"
   ]
  },
  {
   "cell_type": "code",
   "execution_count": 88,
   "id": "bafb5d39",
   "metadata": {},
   "outputs": [
    {
     "data": {
      "image/png": "[encoded data removed]",
      "text/plain": [
       "<Figure size 432x288 with 1 Axes>"
      ]
     },
     "metadata": {
      "needs_background": "light"
     },
     "output_type": "display_data"
    }
   ],
   "source": [
    "data_frame.hist(\"Population_2019\");\n",
    "\n"
   ]
  },
  {
   "cell_type": "code",
   "execution_count": 89,
   "id": "cf6e1f85",
   "metadata": {},
   "outputs": [
    {
     "data": {
      "text/html": [
       "<div>\n",
       "<style scoped>\n",
       "    .dataframe tbody tr th:only-of-type {\n",
       "        vertical-align: middle;\n",
       "    }\n",
       "\n",
       "    .dataframe tbody tr th {\n",
       "        vertical-align: top;\n",
       "    }\n",
       "\n",
       "    .dataframe thead th {\n",
       "        text-align: right;\n",
       "    }\n",
       "</style>\n",
       "<table border=\"1\" class=\"dataframe\">\n",
       "  <thead>\n",
       "    <tr style=\"text-align: right;\">\n",
       "      <th></th>\n",
       "      <th>probs</th>\n",
       "    </tr>\n",
       "  </thead>\n",
       "  <tbody>\n",
       "    <tr>\n",
       "      <th>Population_2019</th>\n",
       "      <td>1</td>\n",
       "    </tr>\n",
       "  </tbody>\n",
       "</table>\n",
       "</div>"
      ],
      "text/plain": [
       "Population_2019    1\n",
       "Name: , dtype: int64"
      ]
     },
     "execution_count": 89,
     "metadata": {},
     "output_type": "execute_result"
    }
   ],
   "source": [
    "Pmf_Population_2019 = Pmf.from_seq(\"Population_2019\",normalize = False)\n",
    "Pmf_Population_2019\n"
   ]
  },
  {
   "cell_type": "code",
   "execution_count": 90,
   "id": "6eb012f6",
   "metadata": {},
   "outputs": [
    {
     "data": {
      "text/plain": [
       "empiricaldist.empiricaldist.Pmf"
      ]
     },
     "execution_count": 90,
     "metadata": {},
     "output_type": "execute_result"
    }
   ],
   "source": [
    "type(Pmf_Population_2019)"
   ]
  },
  {
   "cell_type": "code",
   "execution_count": 91,
   "id": "ad1ca4e2",
   "metadata": {},
   "outputs": [
    {
     "data": {
      "text/html": [
       "<div>\n",
       "<style scoped>\n",
       "    .dataframe tbody tr th:only-of-type {\n",
       "        vertical-align: middle;\n",
       "    }\n",
       "\n",
       "    .dataframe tbody tr th {\n",
       "        vertical-align: top;\n",
       "    }\n",
       "\n",
       "    .dataframe thead th {\n",
       "        text-align: right;\n",
       "    }\n",
       "</style>\n",
       "<table border=\"1\" class=\"dataframe\">\n",
       "  <thead>\n",
       "    <tr style=\"text-align: right;\">\n",
       "      <th></th>\n",
       "      <th>probs</th>\n",
       "    </tr>\n",
       "  </thead>\n",
       "  <tbody>\n",
       "    <tr>\n",
       "      <th>Population_2019</th>\n",
       "      <td>1</td>\n",
       "    </tr>\n",
       "  </tbody>\n",
       "</table>\n",
       "</div>"
      ],
      "text/plain": [
       "Population_2019    1\n",
       "Name: , dtype: int64"
      ]
     },
     "execution_count": 91,
     "metadata": {},
     "output_type": "execute_result"
    }
   ],
   "source": [
    "Pmf_Population_2019.head()"
   ]
  },
  {
   "cell_type": "code",
   "execution_count": 92,
   "id": "e55168a2",
   "metadata": {},
   "outputs": [
    {
     "data": {
      "text/html": [
       "<div>\n",
       "<style scoped>\n",
       "    .dataframe tbody tr th:only-of-type {\n",
       "        vertical-align: middle;\n",
       "    }\n",
       "\n",
       "    .dataframe tbody tr th {\n",
       "        vertical-align: top;\n",
       "    }\n",
       "\n",
       "    .dataframe thead th {\n",
       "        text-align: right;\n",
       "    }\n",
       "</style>\n",
       "<table border=\"1\" class=\"dataframe\">\n",
       "  <thead>\n",
       "    <tr style=\"text-align: right;\">\n",
       "      <th></th>\n",
       "      <th>probs</th>\n",
       "    </tr>\n",
       "  </thead>\n",
       "  <tbody>\n",
       "    <tr>\n",
       "      <th>Population_2019</th>\n",
       "      <td>1</td>\n",
       "    </tr>\n",
       "  </tbody>\n",
       "</table>\n",
       "</div>"
      ],
      "text/plain": [
       "Population_2019    1\n",
       "Name: , dtype: int64"
      ]
     },
     "execution_count": 92,
     "metadata": {},
     "output_type": "execute_result"
    }
   ],
   "source": [
    "Pmf_Population_2019.tail()"
   ]
  },
  {
   "cell_type": "code",
   "execution_count": 93,
   "id": "bdd218f7",
   "metadata": {},
   "outputs": [
    {
     "data": {
      "text/html": [
       "<div>\n",
       "<style scoped>\n",
       "    .dataframe tbody tr th:only-of-type {\n",
       "        vertical-align: middle;\n",
       "    }\n",
       "\n",
       "    .dataframe tbody tr th {\n",
       "        vertical-align: top;\n",
       "    }\n",
       "\n",
       "    .dataframe thead th {\n",
       "        text-align: right;\n",
       "    }\n",
       "</style>\n",
       "<table border=\"1\" class=\"dataframe\">\n",
       "  <thead>\n",
       "    <tr style=\"text-align: right;\">\n",
       "      <th></th>\n",
       "      <th>probs</th>\n",
       "    </tr>\n",
       "  </thead>\n",
       "  <tbody>\n",
       "    <tr>\n",
       "      <th>Population_2019</th>\n",
       "      <td>1.0</td>\n",
       "    </tr>\n",
       "  </tbody>\n",
       "</table>\n",
       "</div>"
      ],
      "text/plain": [
       "Population_2019    1.0\n",
       "Name: , dtype: float64"
      ]
     },
     "execution_count": 93,
     "metadata": {},
     "output_type": "execute_result"
    }
   ],
   "source": [
    "Pmf_Population_2019 = Pmf.from_seq(\"Population_2019\",normalize = True)\n",
    "Pmf_Population_2019"
   ]
  },
  {
   "cell_type": "code",
   "execution_count": 94,
   "id": "290b413b",
   "metadata": {},
   "outputs": [
    {
     "data": {
      "text/html": [
       "<div>\n",
       "<style scoped>\n",
       "    .dataframe tbody tr th:only-of-type {\n",
       "        vertical-align: middle;\n",
       "    }\n",
       "\n",
       "    .dataframe tbody tr th {\n",
       "        vertical-align: top;\n",
       "    }\n",
       "\n",
       "    .dataframe thead th {\n",
       "        text-align: right;\n",
       "    }\n",
       "</style>\n",
       "<table border=\"1\" class=\"dataframe\">\n",
       "  <thead>\n",
       "    <tr style=\"text-align: right;\">\n",
       "      <th></th>\n",
       "      <th>probs</th>\n",
       "    </tr>\n",
       "  </thead>\n",
       "  <tbody>\n",
       "    <tr>\n",
       "      <th>Population_2019</th>\n",
       "      <td>1.0</td>\n",
       "    </tr>\n",
       "  </tbody>\n",
       "</table>\n",
       "</div>"
      ],
      "text/plain": [
       "Population_2019    1.0\n",
       "Name: , dtype: float64"
      ]
     },
     "execution_count": 94,
     "metadata": {},
     "output_type": "execute_result"
    }
   ],
   "source": [
    "Pmf_Population_2019.head()"
   ]
  },
  {
   "cell_type": "code",
   "execution_count": 95,
   "id": "251a8462",
   "metadata": {},
   "outputs": [
    {
     "data": {
      "text/html": [
       "<div>\n",
       "<style scoped>\n",
       "    .dataframe tbody tr th:only-of-type {\n",
       "        vertical-align: middle;\n",
       "    }\n",
       "\n",
       "    .dataframe tbody tr th {\n",
       "        vertical-align: top;\n",
       "    }\n",
       "\n",
       "    .dataframe thead th {\n",
       "        text-align: right;\n",
       "    }\n",
       "</style>\n",
       "<table border=\"1\" class=\"dataframe\">\n",
       "  <thead>\n",
       "    <tr style=\"text-align: right;\">\n",
       "      <th></th>\n",
       "      <th>probs</th>\n",
       "    </tr>\n",
       "  </thead>\n",
       "  <tbody>\n",
       "    <tr>\n",
       "      <th>Population_2019</th>\n",
       "      <td>1.0</td>\n",
       "    </tr>\n",
       "  </tbody>\n",
       "</table>\n",
       "</div>"
      ],
      "text/plain": [
       "Population_2019    1.0\n",
       "Name: , dtype: float64"
      ]
     },
     "execution_count": 95,
     "metadata": {},
     "output_type": "execute_result"
    }
   ],
   "source": [
    "Pmf_Population_2019.tail()"
   ]
  },
  {
   "cell_type": "code",
   "execution_count": 96,
   "id": "50feec4e",
   "metadata": {},
   "outputs": [
    {
     "data": {
      "text/html": [
       "<div>\n",
       "<style scoped>\n",
       "    .dataframe tbody tr th:only-of-type {\n",
       "        vertical-align: middle;\n",
       "    }\n",
       "\n",
       "    .dataframe tbody tr th {\n",
       "        vertical-align: top;\n",
       "    }\n",
       "\n",
       "    .dataframe thead th {\n",
       "        text-align: right;\n",
       "    }\n",
       "</style>\n",
       "<table border=\"1\" class=\"dataframe\">\n",
       "  <thead>\n",
       "    <tr style=\"text-align: right;\">\n",
       "      <th></th>\n",
       "      <th>probs</th>\n",
       "    </tr>\n",
       "  </thead>\n",
       "  <tbody>\n",
       "    <tr>\n",
       "      <th>Normalized Cases</th>\n",
       "      <td>1.0</td>\n",
       "    </tr>\n",
       "  </tbody>\n",
       "</table>\n",
       "</div>"
      ],
      "text/plain": [
       "Normalized Cases    1.0\n",
       "Name: , dtype: float64"
      ]
     },
     "execution_count": 96,
     "metadata": {},
     "output_type": "execute_result"
    }
   ],
   "source": [
    "Pmf_Normalized_cases = Pmf.from_seq(\"Normalized Cases\",normalize = True)\n",
    "Pmf_Normalized_cases"
   ]
  },
  {
   "cell_type": "code",
   "execution_count": 97,
   "id": "3b67fb71",
   "metadata": {},
   "outputs": [
    {
     "data": {
      "text/html": [
       "<div>\n",
       "<style scoped>\n",
       "    .dataframe tbody tr th:only-of-type {\n",
       "        vertical-align: middle;\n",
       "    }\n",
       "\n",
       "    .dataframe tbody tr th {\n",
       "        vertical-align: top;\n",
       "    }\n",
       "\n",
       "    .dataframe thead th {\n",
       "        text-align: right;\n",
       "    }\n",
       "</style>\n",
       "<table border=\"1\" class=\"dataframe\">\n",
       "  <thead>\n",
       "    <tr style=\"text-align: right;\">\n",
       "      <th></th>\n",
       "      <th>probs</th>\n",
       "    </tr>\n",
       "  </thead>\n",
       "  <tbody>\n",
       "    <tr>\n",
       "      <th>Normalized Cases</th>\n",
       "      <td>1</td>\n",
       "    </tr>\n",
       "  </tbody>\n",
       "</table>\n",
       "</div>"
      ],
      "text/plain": [
       "Normalized Cases    1\n",
       "Name: , dtype: int64"
      ]
     },
     "execution_count": 97,
     "metadata": {},
     "output_type": "execute_result"
    }
   ],
   "source": [
    "Pmf_Normalized_cases = Pmf.from_seq(\"Normalized Cases\",normalize = False)\n",
    "Pmf_Normalized_cases"
   ]
  },
  {
   "cell_type": "code",
   "execution_count": 98,
   "id": "0bca921f",
   "metadata": {},
   "outputs": [
    {
     "data": {
      "text/plain": [
       "empiricaldist.empiricaldist.Pmf"
      ]
     },
     "execution_count": 98,
     "metadata": {},
     "output_type": "execute_result"
    }
   ],
   "source": [
    "type(Pmf_Normalized_cases)"
   ]
  },
  {
   "cell_type": "code",
   "execution_count": 99,
   "id": "13391d61",
   "metadata": {},
   "outputs": [
    {
     "data": {
      "text/html": [
       "<div>\n",
       "<style scoped>\n",
       "    .dataframe tbody tr th:only-of-type {\n",
       "        vertical-align: middle;\n",
       "    }\n",
       "\n",
       "    .dataframe tbody tr th {\n",
       "        vertical-align: top;\n",
       "    }\n",
       "\n",
       "    .dataframe thead th {\n",
       "        text-align: right;\n",
       "    }\n",
       "</style>\n",
       "<table border=\"1\" class=\"dataframe\">\n",
       "  <thead>\n",
       "    <tr style=\"text-align: right;\">\n",
       "      <th></th>\n",
       "      <th>probs</th>\n",
       "    </tr>\n",
       "  </thead>\n",
       "  <tbody>\n",
       "    <tr>\n",
       "      <th>Normalized Cases</th>\n",
       "      <td>1</td>\n",
       "    </tr>\n",
       "  </tbody>\n",
       "</table>\n",
       "</div>"
      ],
      "text/plain": [
       "Normalized Cases    1\n",
       "Name: , dtype: int64"
      ]
     },
     "execution_count": 99,
     "metadata": {},
     "output_type": "execute_result"
    }
   ],
   "source": [
    "Pmf_Normalized_cases.head()"
   ]
  },
  {
   "cell_type": "code",
   "execution_count": 100,
   "id": "6feb9589",
   "metadata": {},
   "outputs": [
    {
     "data": {
      "text/html": [
       "<div>\n",
       "<style scoped>\n",
       "    .dataframe tbody tr th:only-of-type {\n",
       "        vertical-align: middle;\n",
       "    }\n",
       "\n",
       "    .dataframe tbody tr th {\n",
       "        vertical-align: top;\n",
       "    }\n",
       "\n",
       "    .dataframe thead th {\n",
       "        text-align: right;\n",
       "    }\n",
       "</style>\n",
       "<table border=\"1\" class=\"dataframe\">\n",
       "  <thead>\n",
       "    <tr style=\"text-align: right;\">\n",
       "      <th></th>\n",
       "      <th>probs</th>\n",
       "    </tr>\n",
       "  </thead>\n",
       "  <tbody>\n",
       "    <tr>\n",
       "      <th>Normalized Cases</th>\n",
       "      <td>1</td>\n",
       "    </tr>\n",
       "  </tbody>\n",
       "</table>\n",
       "</div>"
      ],
      "text/plain": [
       "Normalized Cases    1\n",
       "Name: , dtype: int64"
      ]
     },
     "execution_count": 100,
     "metadata": {},
     "output_type": "execute_result"
    }
   ],
   "source": [
    "Pmf_Normalized_cases.tail()"
   ]
  },
  {
   "cell_type": "code",
   "execution_count": 101,
   "id": "ed7879b2",
   "metadata": {},
   "outputs": [
    {
     "data": {
      "text/html": [
       "<div>\n",
       "<style scoped>\n",
       "    .dataframe tbody tr th:only-of-type {\n",
       "        vertical-align: middle;\n",
       "    }\n",
       "\n",
       "    .dataframe tbody tr th {\n",
       "        vertical-align: top;\n",
       "    }\n",
       "\n",
       "    .dataframe thead th {\n",
       "        text-align: right;\n",
       "    }\n",
       "</style>\n",
       "<table border=\"1\" class=\"dataframe\">\n",
       "  <thead>\n",
       "    <tr style=\"text-align: right;\">\n",
       "      <th></th>\n",
       "      <th>probs</th>\n",
       "    </tr>\n",
       "  </thead>\n",
       "  <tbody>\n",
       "    <tr>\n",
       "      <th>Deaths</th>\n",
       "      <td>1</td>\n",
       "    </tr>\n",
       "  </tbody>\n",
       "</table>\n",
       "</div>"
      ],
      "text/plain": [
       "Deaths    1\n",
       "Name: , dtype: int64"
      ]
     },
     "execution_count": 101,
     "metadata": {},
     "output_type": "execute_result"
    }
   ],
   "source": [
    "Pmf_Deaths = Pmf.from_seq(\"Deaths\",normalize = False)\n",
    "Pmf_Deaths"
   ]
  },
  {
   "cell_type": "code",
   "execution_count": 102,
   "id": "1e51d332",
   "metadata": {},
   "outputs": [
    {
     "data": {
      "text/html": [
       "<div>\n",
       "<style scoped>\n",
       "    .dataframe tbody tr th:only-of-type {\n",
       "        vertical-align: middle;\n",
       "    }\n",
       "\n",
       "    .dataframe tbody tr th {\n",
       "        vertical-align: top;\n",
       "    }\n",
       "\n",
       "    .dataframe thead th {\n",
       "        text-align: right;\n",
       "    }\n",
       "</style>\n",
       "<table border=\"1\" class=\"dataframe\">\n",
       "  <thead>\n",
       "    <tr style=\"text-align: right;\">\n",
       "      <th></th>\n",
       "      <th>probs</th>\n",
       "    </tr>\n",
       "  </thead>\n",
       "  <tbody>\n",
       "    <tr>\n",
       "      <th>Deaths</th>\n",
       "      <td>1.0</td>\n",
       "    </tr>\n",
       "  </tbody>\n",
       "</table>\n",
       "</div>"
      ],
      "text/plain": [
       "Deaths    1.0\n",
       "Name: , dtype: float64"
      ]
     },
     "execution_count": 102,
     "metadata": {},
     "output_type": "execute_result"
    }
   ],
   "source": [
    "Pmf_Deaths = Pmf.from_seq(\"Deaths\",normalize = True)\n",
    "Pmf_Deaths"
   ]
  },
  {
   "cell_type": "markdown",
   "id": "2681077f",
   "metadata": {},
   "source": [
    "# Modeling Distributions"
   ]
  },
  {
   "cell_type": "code",
   "execution_count": 103,
   "id": "22cb6ea6",
   "metadata": {},
   "outputs": [],
   "source": [
    "import numpy as np"
   ]
  },
  {
   "cell_type": "code",
   "execution_count": 104,
   "id": "fe21a1cb",
   "metadata": {},
   "outputs": [
    {
     "data": {
      "text/plain": [
       "array([-2.83778189e-01,  2.20206732e-03, -7.35286687e-01,  3.73642247e-01,\n",
       "        1.95228977e+00,  9.74501362e-01, -9.64962874e-02,  1.54281538e-01,\n",
       "       -1.35574401e+00,  2.01157620e+00,  9.96959582e-02, -4.71726612e-01,\n",
       "        2.43489751e-01,  3.84784588e-01, -3.28339096e-01, -1.20421637e+00,\n",
       "       -2.42322045e-01, -1.90500290e+00, -1.18626680e-01,  1.05921600e+00,\n",
       "       -1.40914979e-01,  2.68597604e-01,  6.11160617e-01,  1.25177413e+00,\n",
       "        5.17554798e-01,  1.79986162e-01,  1.87256074e-01,  5.73027513e-02,\n",
       "       -1.92767630e-01, -7.27297732e-01, -8.00028656e-01,  2.43342738e-01,\n",
       "        1.58151915e+00, -6.42160413e-01, -8.03899985e-01, -1.28770862e+00,\n",
       "       -2.29613785e+00, -1.12054070e+00,  1.74775399e+00,  6.23634351e-01,\n",
       "        2.24055377e-01,  1.70366618e+00,  4.00116699e-01, -9.43993014e-01,\n",
       "       -2.04407107e+00, -1.11527106e+00, -1.68333244e-01, -1.19661140e+00,\n",
       "        6.84719448e-01, -1.55105233e+00,  3.13759204e-01, -4.52136235e-01,\n",
       "        8.33516718e-01,  2.73596547e+00,  6.06237277e-01,  1.25224857e+00,\n",
       "       -5.99827956e-01, -3.21213081e-01,  6.99136638e-01, -8.90645509e-01,\n",
       "        1.55302068e-01,  1.43053528e-01,  2.27737523e-01,  2.86000055e-02,\n",
       "       -8.40512675e-01,  1.09567626e+00, -7.71387232e-01, -6.15429233e-01,\n",
       "       -1.27819998e+00,  1.11761330e+00,  8.07304086e-01, -1.61073266e+00,\n",
       "        1.52931552e-01, -5.15102432e-02, -1.47371571e-01,  4.48319989e-01,\n",
       "       -3.30693589e-01,  1.81655505e-01, -4.47172671e-01, -7.75236262e-02,\n",
       "        8.61891174e-01,  4.34110600e-01, -1.32770816e+00, -4.39239189e-01,\n",
       "       -1.25983872e+00, -4.12462732e-01, -5.41910304e-01,  4.97046362e-01,\n",
       "       -7.94638437e-01, -5.76040544e-01,  7.59836851e-01,  7.74822322e-01,\n",
       "        1.61762392e+00, -9.58952026e-01, -1.17795487e+00, -1.28545771e+00,\n",
       "        6.00957865e-02, -1.74727969e+00, -5.06164292e-01,  4.85102999e-01,\n",
       "       -1.03223985e+00, -9.38206153e-02,  4.15399170e-01,  2.38969986e-01,\n",
       "        1.87025964e-01,  4.13190250e-02,  5.04403286e-01,  1.10158207e+00,\n",
       "       -4.33745114e-01,  5.89164082e-01, -9.42305814e-01, -7.25201795e-01,\n",
       "        4.43400191e-01,  8.08892187e-01,  1.25995222e+00, -1.25647439e-01,\n",
       "       -4.24891135e-03, -7.86452978e-01, -2.22640288e-01,  6.70793921e-01,\n",
       "       -3.44665386e-01, -7.82370136e-01,  2.24505616e-01,  5.91329173e-01,\n",
       "       -1.24939243e+00, -1.16216983e+00, -1.33211520e+00, -1.81212382e-01,\n",
       "        5.75356908e-01,  3.12364126e-01,  2.09596078e-03,  8.90665398e-02,\n",
       "       -7.20010842e-01,  6.65936117e-01,  3.13128917e-01, -6.70603140e-01,\n",
       "       -4.20112538e-01, -1.53292829e+00, -5.57779336e-01,  1.73367598e-01,\n",
       "        5.08844532e-01, -2.27656050e+00, -1.22451594e+00, -7.22114516e-01,\n",
       "       -1.23931799e-01, -4.42261648e-01,  1.29453577e+00,  1.13764114e+00,\n",
       "        8.55757409e-01, -1.86072540e+00,  2.46988425e-01,  2.91373106e-01,\n",
       "       -4.32288511e-01, -3.28056182e-01, -4.11374593e-01,  3.74687282e-01,\n",
       "       -1.29653621e+00,  6.19660410e-01, -1.25588228e+00, -1.27001305e+00,\n",
       "       -5.62960682e-01,  1.22317384e-01, -1.85887484e-02, -3.78507477e-01,\n",
       "        8.93191933e-01, -1.64654481e-01,  1.03113549e+00,  4.15811957e-01,\n",
       "       -6.30570999e-01, -1.21104373e+00, -4.43423992e-01, -9.56723677e-01,\n",
       "        2.72455150e+00, -7.06270566e-01, -1.59847037e+00, -3.51550224e-01,\n",
       "        2.16033675e-01, -5.16231247e-01, -1.92722379e+00,  8.37137730e-02,\n",
       "        1.14079692e-01,  4.94419216e-02, -1.51560014e+00,  1.36477433e+00,\n",
       "       -5.36712334e-01,  7.60303517e-02,  8.55811248e-01,  4.00422893e-01,\n",
       "       -6.41534841e-01, -7.76433612e-01, -8.84642954e-01,  1.42461262e+00,\n",
       "       -4.76776637e-01,  8.48375159e-01,  5.36139734e-01, -5.95293041e-01,\n",
       "        5.60923112e-01,  6.91434698e-01,  1.99793471e-01,  5.73891318e-01,\n",
       "       -3.54051597e-01, -2.59761088e-01,  8.05816005e-02,  1.27615234e+00,\n",
       "        2.01406510e+00, -4.20467681e-01, -1.18799381e+00,  1.96457159e+00,\n",
       "        7.86331956e-01,  1.24776763e+00, -1.52942867e-01,  6.18761074e-01,\n",
       "       -2.81013077e-02, -2.89396987e-02,  4.66122450e-01, -1.17498882e+00,\n",
       "        1.04336496e+00,  7.94916792e-01,  3.82031782e-01, -9.31425845e-01,\n",
       "        8.81764208e-01,  1.03702067e-01,  3.84394730e-02, -5.09850122e-01,\n",
       "        3.69254542e-01, -3.34216233e-01,  9.88596625e-01,  9.34938055e-01,\n",
       "       -6.15445929e-01, -8.80936522e-01,  1.07688329e+00, -1.16397796e+00,\n",
       "        9.30482553e-01, -1.75922013e+00,  4.77484868e-01, -1.80450725e+00,\n",
       "       -7.46600676e-01,  5.13891829e-01,  1.04503204e+00,  6.32512875e-01,\n",
       "        4.08011729e-01,  1.03873868e+00, -6.00215808e-02,  3.08558758e-01,\n",
       "        1.16803825e-01, -1.25875992e+00, -1.99464134e-01,  4.75283794e-01,\n",
       "       -1.11336843e+00, -2.22364735e-01,  1.23699751e-01, -1.09786598e+00,\n",
       "        1.21748000e+00,  8.54704721e-01, -5.12626659e-01, -2.85042025e-01,\n",
       "       -1.24757573e+00,  8.65357011e-01, -7.80737995e-01, -2.40789593e+00,\n",
       "       -3.67308650e-01,  2.48228937e-01, -7.42025995e-01,  9.51342614e-01,\n",
       "        8.57403788e-01, -4.68647953e-01, -5.60579227e-01, -1.27547625e+00,\n",
       "       -2.06948425e+00, -1.05192546e+00,  9.92066911e-01, -2.44089687e-01,\n",
       "        1.55285021e+00,  2.37618681e+00,  1.73714004e-01, -8.50691237e-01,\n",
       "       -1.16445671e+00,  8.54432677e-01,  3.88551219e-01, -8.91023893e-03,\n",
       "       -4.00664532e-02, -1.19527007e+00,  1.45511755e+00,  1.00619050e+00,\n",
       "        7.12569587e-02, -6.04471346e-04,  9.59528176e-01, -8.19373006e-01,\n",
       "       -2.66168697e-01, -3.30185946e-01, -3.95766250e-01, -5.29526820e-01,\n",
       "       -3.56791747e-01, -6.13168609e-01,  2.60023893e-01,  1.63085980e+00,\n",
       "        8.90597538e-01,  9.98640383e-01,  1.45131880e+00, -1.96132530e+00,\n",
       "        1.81401598e+00,  1.46444266e+00, -2.70025386e-01, -8.59360161e-01,\n",
       "        3.96955575e-01,  6.14331907e-01,  8.42903380e-01, -3.62271142e-01,\n",
       "       -1.50301377e-01, -1.32495903e+00,  5.00750265e-02,  1.05477731e+00,\n",
       "        9.34700001e-01, -1.03972717e-01, -7.45040418e-01, -1.88582104e-01,\n",
       "        1.68632506e+00,  1.39979359e+00,  5.39832024e-01,  1.28473507e+00,\n",
       "        1.14810904e+00, -1.85574380e+00,  7.62067802e-02,  2.05429796e+00,\n",
       "       -8.49106761e-01, -4.31764977e-01, -8.30841380e-01,  7.70161363e-01,\n",
       "        4.11119913e-01, -2.66588639e-01, -1.31185548e-01,  2.55227900e-01,\n",
       "       -1.17083641e+00,  8.71647393e-01, -4.43717259e-01,  2.15571216e+00,\n",
       "        6.19912549e-01,  1.90943352e+00, -4.12319007e-01, -1.71069862e-02,\n",
       "       -1.16641900e+00,  1.44717024e+00,  1.64761658e-01,  7.29372681e-01,\n",
       "        1.20454229e+00,  2.45960692e-01,  4.20356397e-01, -2.50142350e-01,\n",
       "        1.30706509e+00,  3.78302436e-01, -1.66334683e+00,  2.47190540e-01,\n",
       "       -1.69760471e-01,  5.57873652e-02, -1.45985522e+00, -7.80898000e-01,\n",
       "        1.60920607e+00,  1.09796539e+00, -4.36881744e-01,  1.65900009e+00,\n",
       "        1.13760296e+00,  4.54244760e-01,  1.63620165e-01, -1.13593375e+00,\n",
       "       -2.81828311e-01,  9.46658981e-02, -3.49645937e-01, -1.55937632e+00,\n",
       "       -3.59370259e-01, -1.62748052e+00, -9.92727822e-01,  4.89653761e-01,\n",
       "       -1.80080571e+00, -6.04727709e-01, -2.79092350e-01,  2.18341728e-01,\n",
       "        1.67466552e-01,  9.06759244e-01,  7.24349378e-01,  2.43202541e-01,\n",
       "        1.09054841e+00,  1.30287533e+00,  1.01029600e+00, -1.50952905e+00,\n",
       "       -8.65400560e-01, -2.23864544e+00,  1.38062955e-01,  8.62254115e-01,\n",
       "       -1.17521263e+00,  4.05786358e-02,  6.57823440e-01,  6.29036855e-01,\n",
       "        2.98018897e-01,  4.38848578e-01,  3.32813900e-02,  7.92864577e-01,\n",
       "       -7.87880185e-02,  1.65781641e+00,  5.17189799e-01, -8.11367861e-01,\n",
       "        8.65744052e-02,  8.81273980e-01,  2.47815075e-01,  1.23297724e+00,\n",
       "       -1.31401015e+00,  8.04136699e-01,  2.01350970e+00, -1.03489497e+00,\n",
       "       -5.74588160e-01,  4.84177492e-02, -3.69525446e-01, -2.35168353e-01,\n",
       "        1.51707291e+00,  1.63011271e-01,  2.42754096e-01,  6.66535755e-02,\n",
       "        2.27847264e-01,  6.66933648e-02, -2.14619035e-01,  1.91035199e+00,\n",
       "        3.56871112e-02, -1.18039063e+00, -2.52515569e-03,  8.66740177e-01,\n",
       "       -3.41186744e-03, -8.25174060e-01,  2.22292240e+00, -6.67810809e-01,\n",
       "       -1.23838404e+00,  5.04560326e-01,  1.29124305e-01,  8.54901317e-01,\n",
       "       -2.53457674e-01, -8.74025530e-01,  1.63501550e-01, -6.06595597e-01,\n",
       "       -1.59939674e+00, -4.11507348e-01, -1.15435915e+00,  5.91292109e-01,\n",
       "        7.60344809e-01, -1.00256147e+00,  7.43711701e-01, -2.26259230e-01,\n",
       "       -6.63954200e-01, -8.23827148e-01, -1.44184631e+00,  2.08887239e-01,\n",
       "       -7.85435360e-01,  7.00600126e-01, -6.05335641e-01, -1.66900234e+00,\n",
       "       -1.32588662e-01, -7.12268291e-01, -1.27163855e-01,  9.69201973e-01,\n",
       "        1.14758700e+00, -1.24416314e+00,  9.87042606e-01, -1.93904323e+00,\n",
       "       -6.13838380e-01, -3.00136811e+00, -2.60386839e-01, -4.48377104e-01,\n",
       "        3.27172999e-01,  6.72396974e-01,  1.46469454e-01, -3.14196994e-01,\n",
       "        3.13606370e-01,  1.30208033e-01, -1.58102400e+00,  6.68084451e-01,\n",
       "       -5.58185170e-01,  1.98228211e-01,  1.35814325e+00,  3.54564298e-01,\n",
       "       -1.21552460e-01,  3.54643653e-01,  8.34850326e-01, -8.71900209e-02,\n",
       "        9.65272101e-01, -1.24871011e+00, -6.60729536e-01, -1.71731081e+00,\n",
       "       -1.45287485e-01, -8.53305115e-01, -1.14638298e+00,  6.54656336e-01,\n",
       "        7.74635097e-01, -2.16675200e-01,  4.65660701e-01, -1.77288477e-01,\n",
       "       -1.23996903e+00,  6.26021207e-01,  1.10748066e+00, -1.03114293e+00,\n",
       "        8.72519879e-01, -1.00174319e+00,  1.23700516e-01, -2.93827868e-01,\n",
       "        5.84686348e-01,  7.07658978e-01,  6.84842340e-01,  1.17596033e-02,\n",
       "        1.69881685e+00, -1.88683851e+00,  1.84051090e+00,  1.80884656e-01,\n",
       "       -4.26404845e-01, -5.30545507e-01,  2.68959971e+00, -3.85356292e-01,\n",
       "       -2.08342672e+00, -7.32271056e-01,  1.57164448e+00,  2.37897566e-01,\n",
       "       -4.04006759e-01,  4.13791147e-01, -3.42244847e-01,  7.52749442e-01,\n",
       "        2.55894652e-01,  8.29410119e-01,  7.51658703e-01,  7.60688069e-02,\n",
       "        2.08936373e-01, -7.22006157e-02, -1.19653726e-01,  3.92561495e-01,\n",
       "        1.04772674e-01,  1.03049588e+00, -1.43163234e+00, -2.58501292e-01,\n",
       "       -1.14895237e+00,  1.01441880e+00, -1.00906223e+00,  6.95449306e-01,\n",
       "        1.14855247e+00,  1.32957896e-02,  8.45180271e-02,  2.73192183e-01,\n",
       "       -5.60018609e-01,  1.26291908e+00,  2.24929164e+00,  1.46013393e-01,\n",
       "        3.09820512e-01, -3.62737944e-01, -1.94865016e+00,  1.35170791e+00,\n",
       "        2.61967331e-01, -1.32001005e+00, -9.96786464e-01, -1.06683203e-01,\n",
       "        5.11869851e-01,  5.41639177e-01, -1.03098159e+00,  1.03284199e+00,\n",
       "       -7.21285788e-01,  8.25845030e-01,  4.87591298e-01,  3.13994909e-01,\n",
       "       -3.76599019e-01,  7.74411346e-01, -7.77230701e-01,  2.60670114e-01,\n",
       "       -1.40387415e+00, -7.57602999e-01, -1.60130630e+00,  1.06719361e+00,\n",
       "        6.09420266e-02,  1.66957906e+00,  8.71595730e-01, -3.34576111e-01,\n",
       "        2.81315052e-01,  6.46717696e-01, -6.29890942e-02, -4.88536345e-01,\n",
       "       -6.36512049e-01,  1.60697190e+00, -8.06461568e-01, -1.39343872e+00,\n",
       "       -7.27811808e-01, -2.75932191e-01, -2.89186614e-01,  2.37038117e-01,\n",
       "        8.06210877e-01, -1.33868956e+00, -3.67111332e-01,  1.74183519e+00,\n",
       "        3.05269806e-01, -1.48646352e+00, -8.62859256e-01, -1.01096957e+00,\n",
       "        2.89686989e-01,  3.01341833e-01,  1.48395569e+00,  6.73727717e-01,\n",
       "       -2.98329420e-01,  1.22393852e+00,  9.35857833e-01, -2.14566949e+00,\n",
       "       -1.70126272e+00,  4.86356773e-01, -1.21507422e+00,  3.75876348e-01,\n",
       "       -1.31516861e+00,  4.12457144e-01,  2.31249732e+00,  4.26149158e-02,\n",
       "        3.50818772e-01, -3.90782170e-02,  1.36995210e-02,  4.25163850e-01,\n",
       "       -1.24635116e-01, -7.76390152e-01, -1.42844217e+00,  2.97825494e-01,\n",
       "        1.93980475e-01,  1.32407411e+00, -2.51847567e+00,  6.49811836e-01,\n",
       "        8.78019339e-02, -9.53627382e-01,  4.01332410e-02, -8.73191894e-01,\n",
       "        6.78176557e-02,  3.50334070e-01,  5.65096651e-01,  6.63367779e-01,\n",
       "       -2.45685024e-01, -6.48929780e-01, -1.53338225e+00, -1.00059213e+00,\n",
       "        5.76060799e-02,  6.77126615e-01, -8.71651476e-01,  3.40846941e-01,\n",
       "        1.87079369e-01, -6.96502226e-01, -1.77051665e+00, -1.30949618e-01,\n",
       "        7.56681373e-01,  8.85235920e-01, -1.40916278e+00, -3.45521750e-01,\n",
       "       -3.97568314e-02, -8.35249661e-01, -1.18517473e+00, -1.10347354e+00,\n",
       "       -6.41138542e-01, -1.55995966e+00,  8.17272699e-01,  7.18791884e-01,\n",
       "       -7.37278435e-02, -4.08732144e-01,  1.10719041e-01,  9.35506986e-01,\n",
       "       -4.46024088e-01, -1.76030869e+00,  6.65767980e-01,  8.88302089e-01,\n",
       "       -2.70269893e-01, -7.58017505e-02, -4.24789031e-01, -8.04254073e-01,\n",
       "       -1.73455011e+00,  3.90268883e-01, -2.42507917e-01,  1.08889440e+00,\n",
       "       -1.15679871e+00,  6.12800927e-01, -7.27396822e-01,  5.70484685e-01,\n",
       "        9.83426280e-01, -8.16976357e-01, -7.74675372e-01, -2.88808163e-01,\n",
       "       -3.51968681e-01, -1.49058560e+00, -4.20534651e-01, -6.77241309e-01,\n",
       "       -4.83844989e-02,  4.04516897e-02, -3.22109163e-01,  1.66087756e-01,\n",
       "        8.61135045e-01, -1.84154733e+00, -5.08829485e-01, -7.18136950e-01,\n",
       "       -1.31152887e-01,  1.01498106e-01, -4.78342373e-01,  3.64061626e-01,\n",
       "        7.73797107e-01,  3.49387912e-02, -2.11429322e+00, -4.52004144e-01,\n",
       "       -2.54197769e+00,  8.65661436e-01,  3.37916314e-02, -4.09523601e-01,\n",
       "       -1.36482676e+00, -1.76517612e+00,  1.58007333e+00,  1.04378274e+00,\n",
       "        9.51698406e-02, -6.19930435e-01,  4.78123548e-01,  3.58739912e-01,\n",
       "       -5.02311190e-01, -6.09518031e-01, -1.26594394e-01,  8.77619347e-01,\n",
       "        6.69109601e-01, -4.06310455e-01,  3.07957710e-01, -5.27051710e-01,\n",
       "        4.85922509e-01,  1.32455144e+00,  6.23980506e-02, -7.58730112e-02,\n",
       "       -2.93121622e-01,  1.00245330e+00, -1.23922837e+00,  6.82142082e-01,\n",
       "        1.12098660e+00,  8.74661229e-01,  9.56248399e-01, -1.26777099e+00,\n",
       "        3.38589800e-01,  3.24617505e+00,  1.23422757e+00, -1.13832460e-01,\n",
       "       -1.14695223e+00,  4.74621563e-03, -8.92979258e-01, -6.10563376e-01,\n",
       "        2.13175229e+00,  4.69982113e-01,  5.09717321e-02, -2.09122369e+00,\n",
       "        1.04496791e+00, -2.00308079e-01, -6.48317400e-01,  1.28438728e+00,\n",
       "       -8.06540610e-01, -6.28193369e-01, -1.70024299e+00,  1.18520868e+00,\n",
       "       -2.02842570e-01,  3.17642395e-01, -1.50824310e+00,  2.04651573e-01,\n",
       "       -3.79966052e-01, -1.60308430e+00, -1.13416722e+00,  4.92897297e-01,\n",
       "        1.04435631e+00,  1.40835351e+00, -5.78396712e-01,  9.65093881e-01,\n",
       "       -3.42778709e-01,  1.38798534e+00,  1.99313077e-01,  1.27635241e+00,\n",
       "       -2.94520818e-01,  7.60284495e-01, -8.97162882e-01,  1.83259891e+00,\n",
       "        6.72823796e-01,  1.00634219e+00,  4.18981745e-01, -7.96588973e-01,\n",
       "       -7.69475999e-01,  3.28992657e-01,  2.82434157e-01,  1.07950800e+00,\n",
       "        1.41808910e+00,  1.65244355e+00, -2.53083405e-01,  4.08811244e-01,\n",
       "       -2.45543579e-01,  2.71450268e-01, -1.14285612e-02,  6.69011242e-01,\n",
       "       -3.35053391e-01, -7.73306625e-01, -1.30610699e+00, -8.48021762e-01,\n",
       "        8.66752002e-01,  9.44104302e-01, -1.13954033e+00,  1.11531137e+00,\n",
       "       -2.88512242e-01,  2.45225624e-01,  1.38845235e+00, -1.16900160e+00,\n",
       "       -2.68762869e-01, -1.12370548e+00,  1.11522772e+00, -1.63015151e+00,\n",
       "        8.18832199e-01,  9.63988250e-02,  1.37243171e-01,  2.01675095e-03,\n",
       "       -4.25393943e-01, -9.56163815e-02,  1.41023402e+00,  3.05037425e-01,\n",
       "       -4.86243498e-01,  9.27703626e-01, -2.70402362e+00,  1.48959725e+00,\n",
       "        5.44252339e-01, -1.23582111e+00, -1.06579655e+00,  8.48118294e-01,\n",
       "       -2.28691680e-01,  1.49279570e-01, -3.09472354e-01,  1.07600515e+00,\n",
       "        2.02894786e-01, -9.04874504e-01,  5.40748929e-02,  3.69678251e-01,\n",
       "       -3.57312005e-01, -7.22325609e-01, -1.00330053e+00,  9.09070132e-01,\n",
       "       -1.63999667e+00,  1.01224903e-02, -9.83292477e-01, -8.83502324e-02,\n",
       "        1.06236148e+00, -2.29722779e-01, -6.81783574e-01, -1.22100173e+00,\n",
       "        8.58588536e-01,  9.95847942e-01,  1.75772451e+00,  1.40552963e+00,\n",
       "        5.55731698e-01,  8.55822409e-02,  2.38604338e+00, -1.89890508e-01,\n",
       "        9.04354696e-01,  1.25301590e+00,  1.00507271e+00,  1.22419691e+00,\n",
       "        2.70868775e-01, -6.21147813e-01,  7.21635486e-02, -4.81174252e-01,\n",
       "       -1.78538224e+00, -6.80872188e-01,  8.88056449e-01, -1.52175617e-01,\n",
       "       -2.48019259e+00,  1.10389955e+00, -1.78581374e+00,  3.32144119e-01,\n",
       "        7.29430627e-01, -2.14284841e+00, -6.82966705e-01,  1.68917504e+00,\n",
       "       -9.10996227e-01,  1.99108853e-01,  1.22349018e+00,  1.23923775e+00,\n",
       "        9.30476939e-01, -2.49913251e-01,  2.02826106e+00,  1.49065797e+00,\n",
       "       -5.53871651e-01,  3.06544240e-01, -7.59002744e-01,  8.90074723e-01,\n",
       "       -6.07624460e-01,  2.48560365e-01,  1.73804838e-01,  4.11783859e-01,\n",
       "        1.81333266e+00, -9.77458203e-01, -2.57511981e-01, -6.53498676e-01,\n",
       "        9.96213955e-01,  4.70885701e-01,  1.07176161e-01,  7.17031073e-01,\n",
       "        6.72102959e-01, -1.31682456e-01, -1.00969551e+00,  1.54687617e-01,\n",
       "       -3.49912312e-01, -7.74467615e-01, -5.15509200e-01,  3.95133918e-01,\n",
       "       -1.18748754e+00,  5.18746777e-01, -1.00608109e+00, -1.70736547e+00,\n",
       "       -5.52104573e-01, -1.59753271e+00, -8.51308117e-01,  1.15888757e+00,\n",
       "        1.09731378e+00, -1.20074943e-01,  4.97349493e-01, -8.63278700e-01,\n",
       "        5.54059067e-02, -6.29726991e-01,  1.11746486e+00, -1.53329430e+00,\n",
       "       -2.23715453e-01,  6.97492264e-01, -4.55514593e-01,  1.14437277e+00,\n",
       "        4.71496601e-01, -9.09195667e-01,  6.96085209e-01, -1.43569885e+00,\n",
       "       -1.89851296e+00,  1.65224267e-01, -7.76560310e-01,  1.31241829e+00,\n",
       "       -1.73204736e+00,  1.06465466e+00,  2.84372181e-02, -4.46724949e-01,\n",
       "        2.04376540e-01,  2.41974592e-01,  1.90161014e+00, -1.01328870e+00,\n",
       "        2.18227156e+00,  1.93691809e+00, -1.33734845e+00,  2.01672975e-01,\n",
       "        1.51100827e+00,  1.40965459e+00, -1.27859944e-01,  2.66549284e-01,\n",
       "       -1.39317332e-01,  6.91901338e-01, -4.12310284e-01, -1.24514965e-01,\n",
       "        9.12597472e-02, -9.11174725e-02,  7.44844604e-03, -1.28940757e+00,\n",
       "        2.68637862e-03,  1.52367109e+00, -1.20153178e+00,  3.21835751e-01,\n",
       "       -2.36956934e+00,  2.43901481e+00,  1.95229894e+00, -1.14813072e+00,\n",
       "        1.22555386e-01, -2.58113357e-01,  1.28578182e+00, -1.39136598e+00,\n",
       "       -4.47886444e-01, -1.07591008e+00, -1.20188616e-01, -4.92727442e-01,\n",
       "        5.60116514e-01,  4.70549809e-02,  1.34764743e+00, -1.41178077e+00,\n",
       "       -1.90271383e+00,  1.83476903e+00,  1.86549683e+00,  7.30464224e-01,\n",
       "       -5.12620478e-01,  9.40474464e-01,  8.96575414e-01, -4.94968848e-01,\n",
       "        1.56037627e+00, -1.83942731e+00,  7.99211617e-02, -1.31450594e-01,\n",
       "        9.21476741e-01,  8.06886849e-01, -2.53070388e+00, -3.28013957e-02,\n",
       "       -9.97685676e-01,  8.32817535e-01,  1.24645469e-01, -9.77968470e-01,\n",
       "       -2.01058136e-01,  6.80615012e-01,  7.84452017e-01, -4.57222570e-01,\n",
       "        7.32329686e-01, -1.26547862e-01, -6.82534642e-01, -8.23441154e-03,\n",
       "        3.20748786e-01,  1.68633640e+00,  4.68442415e-03,  1.00332313e+00])"
      ]
     },
     "execution_count": 104,
     "metadata": {},
     "output_type": "execute_result"
    }
   ],
   "source": [
    "#create an array of random normal numbers witha size of 1000\n",
    "sample = np.random.normal(size =1000)\n",
    "sample"
   ]
  },
  {
   "cell_type": "code",
   "execution_count": 105,
   "id": "3b2b68c2",
   "metadata": {},
   "outputs": [
    {
     "data": {
      "image/png": "[encoded data removed]",
      "text/plain": [
       "<Figure size 432x288 with 1 Axes>"
      ]
     },
     "metadata": {
      "needs_background": "light"
     },
     "output_type": "display_data"
    }
   ],
   "source": [
    "plt.plot(sample);"
   ]
  },
  {
   "cell_type": "code",
   "execution_count": 106,
   "id": "5166721b",
   "metadata": {},
   "outputs": [
    {
     "name": "stdout",
     "output_type": "stream",
     "text": [
      "Collecting Cdf\n",
      "  Using cached CDF-0.32.tar.gz (859 kB)\n",
      "  Preparing metadata (setup.py): started\n",
      "  Preparing metadata (setup.py): finished with status 'done'\n",
      "Building wheels for collected packages: Cdf\n",
      "  Building wheel for Cdf (setup.py): started\n",
      "  Building wheel for Cdf (setup.py): finished with status 'error'\n",
      "  Running setup.py clean for Cdf\n",
      "Failed to build Cdf\n",
      "Installing collected packages: Cdf\n",
      "  Running setup.py install for Cdf: started\n",
      "  Running setup.py install for Cdf: finished with status 'error'\n",
      "Note: you may need to restart the kernel to use updated packages.\n"
     ]
    },
    {
     "name": "stderr",
     "output_type": "stream",
     "text": [
      "  error: subprocess-exited-with-error\n",
      "  \n",
      "  python setup.py bdist_wheel did not run successfully.\n",
      "  exit code: 1\n",
      "  \n",
      "  [19 lines of output]\n",
      "  running bdist_wheel\n",
      "  running build\n",
      "  running build_py\n",
      "  creating build\n",
      "  creating build\\lib.win-amd64-3.10\n",
      "  creating build\\lib.win-amd64-3.10\\cdf\n",
      "  copying cdf\\__init__.py -> build\\lib.win-amd64-3.10\\cdf\n",
      "  copying cdf\\standard.py -> build\\lib.win-amd64-3.10\\cdf\n",
      "  copying cdf\\interface.py -> build\\lib.win-amd64-3.10\\cdf\n",
      "  copying cdf\\framework.py -> build\\lib.win-amd64-3.10\\cdf\n",
      "  copying cdf\\attribute.py -> build\\lib.win-amd64-3.10\\cdf\n",
      "  copying cdf\\entry.py -> build\\lib.win-amd64-3.10\\cdf\n",
      "  copying cdf\\typing.py -> build\\lib.win-amd64-3.10\\cdf\n",
      "  creating build\\lib.win-amd64-3.10\\cdf\\istp\n",
      "  copying cdf\\istp\\__init__.py -> build\\lib.win-amd64-3.10\\cdf\\istp\n",
      "  copying cdf\\istp\\interface.py -> build\\lib.win-amd64-3.10\\cdf\\istp\n",
      "  running build_ext\n",
      "  building 'cdf.internal' extension\n",
      "  error: Microsoft Visual C++ 14.0 or greater is required. Get it with \"Microsoft C++ Build Tools\": https://visualstudio.microsoft.com/visual-cpp-build-tools/\n",
      "  [end of output]\n",
      "  \n",
      "  note: This error originates from a subprocess, and is likely not a problem with pip.\n",
      "  ERROR: Failed building wheel for Cdf\n",
      "  error: subprocess-exited-with-error\n",
      "  \n",
      "  Running setup.py install for Cdf did not run successfully.\n",
      "  exit code: 1\n",
      "  \n",
      "  [19 lines of output]\n",
      "  running install\n",
      "  running build\n",
      "  running build_py\n",
      "  creating build\n",
      "  creating build\\lib.win-amd64-3.10\n",
      "  creating build\\lib.win-amd64-3.10\\cdf\n",
      "  copying cdf\\__init__.py -> build\\lib.win-amd64-3.10\\cdf\n",
      "  copying cdf\\standard.py -> build\\lib.win-amd64-3.10\\cdf\n",
      "  copying cdf\\interface.py -> build\\lib.win-amd64-3.10\\cdf\n",
      "  copying cdf\\framework.py -> build\\lib.win-amd64-3.10\\cdf\n",
      "  copying cdf\\attribute.py -> build\\lib.win-amd64-3.10\\cdf\n",
      "  copying cdf\\entry.py -> build\\lib.win-amd64-3.10\\cdf\n",
      "  copying cdf\\typing.py -> build\\lib.win-amd64-3.10\\cdf\n",
      "  creating build\\lib.win-amd64-3.10\\cdf\\istp\n",
      "  copying cdf\\istp\\__init__.py -> build\\lib.win-amd64-3.10\\cdf\\istp\n",
      "  copying cdf\\istp\\interface.py -> build\\lib.win-amd64-3.10\\cdf\\istp\n",
      "  running build_ext\n",
      "  building 'cdf.internal' extension\n",
      "  error: Microsoft Visual C++ 14.0 or greater is required. Get it with \"Microsoft C++ Build Tools\": https://visualstudio.microsoft.com/visual-cpp-build-tools/\n",
      "  [end of output]\n",
      "  \n",
      "  note: This error originates from a subprocess, and is likely not a problem with pip.\n",
      "error: legacy-install-failure\n",
      "\n",
      "Encountered error while trying to install package.\n",
      "\n",
      "Cdf\n",
      "\n",
      "note: This is an issue with the package mentioned above, not pip.\n",
      "hint: See above for output from the failure.\n"
     ]
    }
   ],
   "source": [
    "pip install Cdf"
   ]
  },
  {
   "cell_type": "code",
   "execution_count": 107,
   "id": "c6f9468a",
   "metadata": {},
   "outputs": [
    {
     "name": "stdout",
     "output_type": "stream",
     "text": [
      "Requirement already satisfied: Scipy in c:\\users\\pc\\appdata\\local\\programs\\python\\python310\\lib\\site-packages (1.9.0)\n",
      "Requirement already satisfied: numpy<1.25.0,>=1.18.5 in c:\\users\\pc\\appdata\\local\\programs\\python\\python310\\lib\\site-packages (from Scipy) (1.23.0)\n",
      "Note: you may need to restart the kernel to use updated packages.\n"
     ]
    }
   ],
   "source": [
    "pip install Scipy"
   ]
  },
  {
   "cell_type": "code",
   "execution_count": 108,
   "id": "cfc44cbf",
   "metadata": {},
   "outputs": [],
   "source": [
    "from scipy.stats import norm"
   ]
  },
  {
   "cell_type": "code",
   "execution_count": 109,
   "id": "6c3abb07",
   "metadata": {},
   "outputs": [
    {
     "data": {
      "image/png": "[encoded data removed]",
      "text/plain": [
       "<Figure size 432x288 with 1 Axes>"
      ]
     },
     "metadata": {
      "needs_background": "light"
     },
     "output_type": "display_data"
    }
   ],
   "source": [
    "plt.plot(xs);"
   ]
  },
  {
   "cell_type": "code",
   "execution_count": 110,
   "id": "7634e28b",
   "metadata": {},
   "outputs": [
    {
     "data": {
      "image/png": "[encoded data removed]",
      "text/plain": [
       "<Figure size 432x288 with 1 Axes>"
      ]
     },
     "metadata": {
      "needs_background": "light"
     },
     "output_type": "display_data"
    }
   ],
   "source": [
    "plt.plot(xs);"
   ]
  },
  {
   "cell_type": "code",
   "execution_count": 111,
   "id": "3b8e3875",
   "metadata": {},
   "outputs": [
    {
     "data": {
      "image/png": "[encoded data removed]",
      "text/plain": [
       "<Figure size 432x288 with 1 Axes>"
      ]
     },
     "metadata": {
      "needs_background": "light"
     },
     "output_type": "display_data"
    }
   ],
   "source": [
    "xs = np.linspace(-3,3)\n",
    "ys = norm(0,1).cdf(xs)\n",
    "ys\n",
    "xs\n",
    "plt.plot(ys);\n",
    "plt.plot(xs);\n"
   ]
  },
  {
   "cell_type": "code",
   "execution_count": 112,
   "id": "f1dfba0e",
   "metadata": {},
   "outputs": [
    {
     "data": {
      "image/png": "[encoded data removed]",
      "text/plain": [
       "<Figure size 432x288 with 1 Axes>"
      ]
     },
     "metadata": {
      "needs_background": "light"
     },
     "output_type": "display_data"
    }
   ],
   "source": [
    "As = np.linspace(-4,1)\n",
    "Ds = norm(0,1).cdf(As)\n",
    "Ds\n",
    "As\n",
    "plt.plot(Ds);\n",
    "plt.plot(As);"
   ]
  },
  {
   "cell_type": "code",
   "execution_count": 113,
   "id": "b9193e02",
   "metadata": {},
   "outputs": [
    {
     "name": "stdout",
     "output_type": "stream",
     "text": [
      "Requirement already satisfied: Pdf in c:\\users\\pc\\appdata\\local\\programs\\python\\python310\\lib\\site-packages (2020.11.12)\n",
      "Requirement already satisfied: pdftotree in c:\\users\\pc\\appdata\\local\\programs\\python\\python310\\lib\\site-packages (from Pdf) (0.5.0)\n",
      "Requirement already satisfied: pandas in c:\\users\\pc\\appdata\\local\\programs\\python\\python310\\lib\\site-packages (from Pdf) (1.4.3)\n",
      "Requirement already satisfied: bs4 in c:\\users\\pc\\appdata\\local\\programs\\python\\python310\\lib\\site-packages (from Pdf) (0.0.1)\n",
      "Requirement already satisfied: pdfminer in c:\\users\\pc\\appdata\\local\\programs\\python\\python310\\lib\\site-packages (from Pdf) (20191125)\n",
      "Requirement already satisfied: chronometry in c:\\users\\pc\\appdata\\local\\programs\\python\\python310\\lib\\site-packages (from Pdf) (2020.11.12)\n",
      "Requirement already satisfied: disk in c:\\users\\pc\\appdata\\local\\programs\\python\\python310\\lib\\site-packages (from Pdf) (2021.6.29)\n",
      "Requirement already satisfied: nltk in c:\\users\\pc\\appdata\\local\\programs\\python\\python310\\lib\\site-packages (from Pdf) (3.7)\n",
      "Requirement already satisfied: silverware in c:\\users\\pc\\appdata\\local\\programs\\python\\python310\\lib\\site-packages (from Pdf) (2020.11.12)\n",
      "Requirement already satisfied: beautifulsoup4 in c:\\users\\pc\\appdata\\local\\programs\\python\\python310\\lib\\site-packages (from bs4->Pdf) (4.11.1)\n",
      "Requirement already satisfied: ravenclaw in c:\\users\\pc\\appdata\\local\\programs\\python\\python310\\lib\\site-packages (from chronometry->Pdf) (2020.11.12)\n",
      "Requirement already satisfied: matplotlib in c:\\users\\pc\\appdata\\local\\programs\\python\\python310\\lib\\site-packages (from chronometry->Pdf) (3.5.2)\n",
      "Requirement already satisfied: numpy in c:\\users\\pc\\appdata\\local\\programs\\python\\python310\\lib\\site-packages (from chronometry->Pdf) (1.23.0)\n",
      "Requirement already satisfied: sklearn in c:\\users\\pc\\appdata\\local\\programs\\python\\python310\\lib\\site-packages (from chronometry->Pdf) (0.0)\n",
      "Requirement already satisfied: colouration in c:\\users\\pc\\appdata\\local\\programs\\python\\python310\\lib\\site-packages (from chronometry->Pdf) (2020.7.26)\n",
      "Requirement already satisfied: slytherin in c:\\users\\pc\\appdata\\local\\programs\\python\\python310\\lib\\site-packages (from chronometry->Pdf) (2020.11.12)\n",
      "Requirement already satisfied: func-timeout in c:\\users\\pc\\appdata\\local\\programs\\python\\python310\\lib\\site-packages (from chronometry->Pdf) (4.3.5)\n",
      "Requirement already satisfied: dill in c:\\users\\pc\\appdata\\local\\programs\\python\\python310\\lib\\site-packages (from disk->Pdf) (0.3.6)\n",
      "Requirement already satisfied: send2trash in c:\\users\\pc\\appdata\\local\\programs\\python\\python310\\lib\\site-packages (from disk->Pdf) (1.8.0)\n",
      "Requirement already satisfied: regex>=2021.8.3 in c:\\users\\pc\\appdata\\local\\programs\\python\\python310\\lib\\site-packages (from nltk->Pdf) (2022.10.31)\n",
      "Requirement already satisfied: tqdm in c:\\users\\pc\\appdata\\local\\programs\\python\\python310\\lib\\site-packages (from nltk->Pdf) (4.64.1)\n",
      "Requirement already satisfied: click in c:\\users\\pc\\appdata\\local\\programs\\python\\python310\\lib\\site-packages (from nltk->Pdf) (8.1.3)\n",
      "Requirement already satisfied: joblib in c:\\users\\pc\\appdata\\local\\programs\\python\\python310\\lib\\site-packages (from nltk->Pdf) (1.1.0)\n",
      "Requirement already satisfied: pytz>=2020.1 in c:\\users\\pc\\appdata\\local\\programs\\python\\python310\\lib\\site-packages (from pandas->Pdf) (2022.2)\n",
      "Requirement already satisfied: python-dateutil>=2.8.1 in c:\\users\\pc\\appdata\\local\\programs\\python\\python310\\lib\\site-packages (from pandas->Pdf) (2.8.2)\n",
      "Requirement already satisfied: pycryptodome in c:\\users\\pc\\appdata\\local\\programs\\python\\python310\\lib\\site-packages (from pdfminer->Pdf) (3.15.0)\n",
      "Requirement already satisfied: selectivesearch in c:\\users\\pc\\appdata\\local\\programs\\python\\python310\\lib\\site-packages (from pdftotree->Pdf) (0.4)\n",
      "Requirement already satisfied: tensorflow>=2.2 in c:\\users\\pc\\appdata\\local\\programs\\python\\python310\\lib\\site-packages (from pdftotree->Pdf) (2.10.0)\n",
      "Requirement already satisfied: wand in c:\\users\\pc\\appdata\\local\\programs\\python\\python310\\lib\\site-packages (from pdftotree->Pdf) (0.6.10)\n",
      "Requirement already satisfied: pillow in c:\\users\\pc\\appdata\\local\\programs\\python\\python310\\lib\\site-packages (from pdftotree->Pdf) (9.2.0)\n",
      "Requirement already satisfied: IPython in c:\\users\\pc\\appdata\\local\\programs\\python\\python310\\lib\\site-packages (from pdftotree->Pdf) (8.4.0)\n",
      "Requirement already satisfied: pdfminer.six>=20191020 in c:\\users\\pc\\appdata\\local\\programs\\python\\python310\\lib\\site-packages (from pdftotree->Pdf) (20220524)\n",
      "Requirement already satisfied: keras>=2.4.0 in c:\\users\\pc\\appdata\\local\\programs\\python\\python310\\lib\\site-packages (from pdftotree->Pdf) (2.10.0)\n",
      "Requirement already satisfied: tabula-py in c:\\users\\pc\\appdata\\local\\programs\\python\\python310\\lib\\site-packages (from pdftotree->Pdf) (2.5.1)\n",
      "Requirement already satisfied: lxml in c:\\users\\pc\\appdata\\local\\programs\\python\\python310\\lib\\site-packages (from silverware->Pdf) (4.9.1)\n",
      "Requirement already satisfied: txt in c:\\users\\pc\\appdata\\local\\programs\\python\\python310\\lib\\site-packages (from silverware->Pdf) (2020.11.12)\n",
      "Requirement already satisfied: cryptography>=36.0.0 in c:\\users\\pc\\appdata\\local\\programs\\python\\python310\\lib\\site-packages (from pdfminer.six>=20191020->pdftotree->Pdf) (38.0.3)\n",
      "Requirement already satisfied: charset-normalizer>=2.0.0 in c:\\users\\pc\\appdata\\local\\programs\\python\\python310\\lib\\site-packages (from pdfminer.six>=20191020->pdftotree->Pdf) (2.1.1)\n",
      "Requirement already satisfied: six>=1.5 in c:\\users\\pc\\appdata\\local\\programs\\python\\python310\\lib\\site-packages (from python-dateutil>=2.8.1->pandas->Pdf) (1.16.0)\n",
      "Requirement already satisfied: libclang>=13.0.0 in c:\\users\\pc\\appdata\\local\\programs\\python\\python310\\lib\\site-packages (from tensorflow>=2.2->pdftotree->Pdf) (14.0.6)\n",
      "Requirement already satisfied: wrapt>=1.11.0 in c:\\users\\pc\\appdata\\local\\programs\\python\\python310\\lib\\site-packages (from tensorflow>=2.2->pdftotree->Pdf) (1.14.1)\n",
      "Requirement already satisfied: packaging in c:\\users\\pc\\appdata\\local\\programs\\python\\python310\\lib\\site-packages (from tensorflow>=2.2->pdftotree->Pdf) (21.3)\n",
      "Requirement already satisfied: astunparse>=1.6.0 in c:\\users\\pc\\appdata\\local\\programs\\python\\python310\\lib\\site-packages (from tensorflow>=2.2->pdftotree->Pdf) (1.6.3)\n",
      "Requirement already satisfied: tensorflow-estimator<2.11,>=2.10.0 in c:\\users\\pc\\appdata\\local\\programs\\python\\python310\\lib\\site-packages (from tensorflow>=2.2->pdftotree->Pdf) (2.10.0)\n",
      "Requirement already satisfied: keras-preprocessing>=1.1.1 in c:\\users\\pc\\appdata\\local\\programs\\python\\python310\\lib\\site-packages (from tensorflow>=2.2->pdftotree->Pdf) (1.1.2)\n",
      "Requirement already satisfied: protobuf<3.20,>=3.9.2 in c:\\users\\pc\\appdata\\local\\programs\\python\\python310\\lib\\site-packages (from tensorflow>=2.2->pdftotree->Pdf) (3.19.6)\n",
      "Requirement already satisfied: h5py>=2.9.0 in c:\\users\\pc\\appdata\\local\\programs\\python\\python310\\lib\\site-packages (from tensorflow>=2.2->pdftotree->Pdf) (3.7.0)\n",
      "Requirement already satisfied: tensorboard<2.11,>=2.10 in c:\\users\\pc\\appdata\\local\\programs\\python\\python310\\lib\\site-packages (from tensorflow>=2.2->pdftotree->Pdf) (2.10.1)\n",
      "Requirement already satisfied: opt-einsum>=2.3.2 in c:\\users\\pc\\appdata\\local\\programs\\python\\python310\\lib\\site-packages (from tensorflow>=2.2->pdftotree->Pdf) (3.3.0)\n",
      "Requirement already satisfied: google-pasta>=0.1.1 in c:\\users\\pc\\appdata\\local\\programs\\python\\python310\\lib\\site-packages (from tensorflow>=2.2->pdftotree->Pdf) (0.2.0)\n",
      "Requirement already satisfied: flatbuffers>=2.0 in c:\\users\\pc\\appdata\\local\\programs\\python\\python310\\lib\\site-packages (from tensorflow>=2.2->pdftotree->Pdf) (22.10.26)\n",
      "Requirement already satisfied: termcolor>=1.1.0 in c:\\users\\pc\\appdata\\local\\programs\\python\\python310\\lib\\site-packages (from tensorflow>=2.2->pdftotree->Pdf) (2.1.0)\n",
      "Requirement already satisfied: absl-py>=1.0.0 in c:\\users\\pc\\appdata\\local\\programs\\python\\python310\\lib\\site-packages (from tensorflow>=2.2->pdftotree->Pdf) (1.3.0)\n",
      "Requirement already satisfied: gast<=0.4.0,>=0.2.1 in c:\\users\\pc\\appdata\\local\\programs\\python\\python310\\lib\\site-packages (from tensorflow>=2.2->pdftotree->Pdf) (0.4.0)\n",
      "Requirement already satisfied: grpcio<2.0,>=1.24.3 in c:\\users\\pc\\appdata\\local\\programs\\python\\python310\\lib\\site-packages (from tensorflow>=2.2->pdftotree->Pdf) (1.50.0)\n",
      "Requirement already satisfied: typing-extensions>=3.6.6 in c:\\users\\pc\\appdata\\local\\programs\\python\\python310\\lib\\site-packages (from tensorflow>=2.2->pdftotree->Pdf) (4.4.0)\n",
      "Requirement already satisfied: setuptools in c:\\users\\pc\\appdata\\local\\programs\\python\\python310\\lib\\site-packages (from tensorflow>=2.2->pdftotree->Pdf) (58.1.0)\n",
      "Requirement already satisfied: tensorflow-io-gcs-filesystem>=0.23.1 in c:\\users\\pc\\appdata\\local\\programs\\python\\python310\\lib\\site-packages (from tensorflow>=2.2->pdftotree->Pdf) (0.27.0)\n",
      "Requirement already satisfied: soupsieve>1.2 in c:\\users\\pc\\appdata\\local\\programs\\python\\python310\\lib\\site-packages (from beautifulsoup4->bs4->Pdf) (2.3.2.post1)\n",
      "Requirement already satisfied: colorama in c:\\users\\pc\\appdata\\local\\programs\\python\\python310\\lib\\site-packages (from click->nltk->Pdf) (0.4.5)\n",
      "Requirement already satisfied: matplotlib-inline in c:\\users\\pc\\appdata\\local\\programs\\python\\python310\\lib\\site-packages (from IPython->pdftotree->Pdf) (0.1.3)\n",
      "Requirement already satisfied: decorator in c:\\users\\pc\\appdata\\local\\programs\\python\\python310\\lib\\site-packages (from IPython->pdftotree->Pdf) (5.1.1)\n",
      "Requirement already satisfied: traitlets>=5 in c:\\users\\pc\\appdata\\local\\programs\\python\\python310\\lib\\site-packages (from IPython->pdftotree->Pdf) (5.3.0)\n",
      "Requirement already satisfied: pickleshare in c:\\users\\pc\\appdata\\local\\programs\\python\\python310\\lib\\site-packages (from IPython->pdftotree->Pdf) (0.7.5)\n",
      "Requirement already satisfied: prompt-toolkit!=3.0.0,!=3.0.1,<3.1.0,>=2.0.0 in c:\\users\\pc\\appdata\\local\\programs\\python\\python310\\lib\\site-packages (from IPython->pdftotree->Pdf) (3.0.30)\n",
      "Requirement already satisfied: stack-data in c:\\users\\pc\\appdata\\local\\programs\\python\\python310\\lib\\site-packages (from IPython->pdftotree->Pdf) (0.3.0)\n",
      "Requirement already satisfied: jedi>=0.16 in c:\\users\\pc\\appdata\\local\\programs\\python\\python310\\lib\\site-packages (from IPython->pdftotree->Pdf) (0.18.1)\n",
      "Requirement already satisfied: pygments>=2.4.0 in c:\\users\\pc\\appdata\\local\\programs\\python\\python310\\lib\\site-packages (from IPython->pdftotree->Pdf) (2.12.0)\n",
      "Requirement already satisfied: backcall in c:\\users\\pc\\appdata\\local\\programs\\python\\python310\\lib\\site-packages (from IPython->pdftotree->Pdf) (0.2.0)\n",
      "Requirement already satisfied: fonttools>=4.22.0 in c:\\users\\pc\\appdata\\local\\programs\\python\\python310\\lib\\site-packages (from matplotlib->chronometry->Pdf) (4.34.4)\n",
      "Requirement already satisfied: cycler>=0.10 in c:\\users\\pc\\appdata\\local\\programs\\python\\python310\\lib\\site-packages (from matplotlib->chronometry->Pdf) (0.11.0)\n",
      "Requirement already satisfied: kiwisolver>=1.0.1 in c:\\users\\pc\\appdata\\local\\programs\\python\\python310\\lib\\site-packages (from matplotlib->chronometry->Pdf) (1.4.3)\n",
      "Requirement already satisfied: pyparsing>=2.2.1 in c:\\users\\pc\\appdata\\local\\programs\\python\\python310\\lib\\site-packages (from matplotlib->chronometry->Pdf) (3.0.9)\n",
      "Requirement already satisfied: fuzzywuzzy in c:\\users\\pc\\appdata\\local\\programs\\python\\python310\\lib\\site-packages (from ravenclaw->chronometry->Pdf) (0.18.0)\n",
      "Requirement already satisfied: SPARQLWrapper in c:\\users\\pc\\appdata\\local\\programs\\python\\python310\\lib\\site-packages (from ravenclaw->chronometry->Pdf) (2.0.0)\n",
      "Requirement already satisfied: scikit-image in c:\\users\\pc\\appdata\\local\\programs\\python\\python310\\lib\\site-packages (from selectivesearch->pdftotree->Pdf) (0.19.3)\n",
      "Requirement already satisfied: scikit-learn in c:\\users\\pc\\appdata\\local\\programs\\python\\python310\\lib\\site-packages (from sklearn->chronometry->Pdf) (1.1.2)\n",
      "Requirement already satisfied: geopy in c:\\users\\pc\\appdata\\local\\programs\\python\\python310\\lib\\site-packages (from slytherin->chronometry->Pdf) (2.2.0)\n",
      "Requirement already satisfied: base32hex in c:\\users\\pc\\appdata\\local\\programs\\python\\python310\\lib\\site-packages (from slytherin->chronometry->Pdf) (1.0.2)\n",
      "Requirement already satisfied: distro in c:\\users\\pc\\appdata\\local\\programs\\python\\python310\\lib\\site-packages (from tabula-py->pdftotree->Pdf) (1.8.0)\n",
      "Requirement already satisfied: wheel<1.0,>=0.23.0 in c:\\users\\pc\\appdata\\local\\programs\\python\\python310\\lib\\site-packages (from astunparse>=1.6.0->tensorflow>=2.2->pdftotree->Pdf) (0.38.1)\n",
      "Requirement already satisfied: cffi>=1.12 in c:\\users\\pc\\appdata\\local\\programs\\python\\python310\\lib\\site-packages (from cryptography>=36.0.0->pdfminer.six>=20191020->pdftotree->Pdf) (1.15.1)\n",
      "Requirement already satisfied: parso<0.9.0,>=0.8.0 in c:\\users\\pc\\appdata\\local\\programs\\python\\python310\\lib\\site-packages (from jedi>=0.16->IPython->pdftotree->Pdf) (0.8.3)\n",
      "Requirement already satisfied: wcwidth in c:\\users\\pc\\appdata\\local\\programs\\python\\python310\\lib\\site-packages (from prompt-toolkit!=3.0.0,!=3.0.1,<3.1.0,>=2.0.0->IPython->pdftotree->Pdf) (0.2.5)\n",
      "Requirement already satisfied: markdown>=2.6.8 in c:\\users\\pc\\appdata\\local\\programs\\python\\python310\\lib\\site-packages (from tensorboard<2.11,>=2.10->tensorflow>=2.2->pdftotree->Pdf) (3.4.1)\n",
      "Requirement already satisfied: requests<3,>=2.21.0 in c:\\users\\pc\\appdata\\local\\programs\\python\\python310\\lib\\site-packages (from tensorboard<2.11,>=2.10->tensorflow>=2.2->pdftotree->Pdf) (2.28.1)\n",
      "Requirement already satisfied: werkzeug>=1.0.1 in c:\\users\\pc\\appdata\\local\\programs\\python\\python310\\lib\\site-packages (from tensorboard<2.11,>=2.10->tensorflow>=2.2->pdftotree->Pdf) (2.2.2)\n",
      "Requirement already satisfied: google-auth<3,>=1.6.3 in c:\\users\\pc\\appdata\\local\\programs\\python\\python310\\lib\\site-packages (from tensorboard<2.11,>=2.10->tensorflow>=2.2->pdftotree->Pdf) (2.14.0)\n",
      "Requirement already satisfied: tensorboard-plugin-wit>=1.6.0 in c:\\users\\pc\\appdata\\local\\programs\\python\\python310\\lib\\site-packages (from tensorboard<2.11,>=2.10->tensorflow>=2.2->pdftotree->Pdf) (1.8.1)\n",
      "Requirement already satisfied: tensorboard-data-server<0.7.0,>=0.6.0 in c:\\users\\pc\\appdata\\local\\programs\\python\\python310\\lib\\site-packages (from tensorboard<2.11,>=2.10->tensorflow>=2.2->pdftotree->Pdf) (0.6.1)\n",
      "Requirement already satisfied: google-auth-oauthlib<0.5,>=0.4.1 in c:\\users\\pc\\appdata\\local\\programs\\python\\python310\\lib\\site-packages (from tensorboard<2.11,>=2.10->tensorflow>=2.2->pdftotree->Pdf) (0.4.6)\n",
      "Requirement already satisfied: geographiclib<2,>=1.49 in c:\\users\\pc\\appdata\\local\\programs\\python\\python310\\lib\\site-packages (from geopy->slytherin->chronometry->Pdf) (1.52)\n",
      "Requirement already satisfied: imageio>=2.4.1 in c:\\users\\pc\\appdata\\local\\programs\\python\\python310\\lib\\site-packages (from scikit-image->selectivesearch->pdftotree->Pdf) (2.22.3)\n",
      "Requirement already satisfied: tifffile>=2019.7.26 in c:\\users\\pc\\appdata\\local\\programs\\python\\python310\\lib\\site-packages (from scikit-image->selectivesearch->pdftotree->Pdf) (2022.10.10)\n",
      "Requirement already satisfied: scipy>=1.4.1 in c:\\users\\pc\\appdata\\local\\programs\\python\\python310\\lib\\site-packages (from scikit-image->selectivesearch->pdftotree->Pdf) (1.9.0)\n",
      "Requirement already satisfied: PyWavelets>=1.1.1 in c:\\users\\pc\\appdata\\local\\programs\\python\\python310\\lib\\site-packages (from scikit-image->selectivesearch->pdftotree->Pdf) (1.4.1)\n",
      "Requirement already satisfied: networkx>=2.2 in c:\\users\\pc\\appdata\\local\\programs\\python\\python310\\lib\\site-packages (from scikit-image->selectivesearch->pdftotree->Pdf) (2.8.8)\n",
      "Requirement already satisfied: threadpoolctl>=2.0.0 in c:\\users\\pc\\appdata\\local\\programs\\python\\python310\\lib\\site-packages (from scikit-learn->sklearn->chronometry->Pdf) (3.1.0)\n",
      "Requirement already satisfied: rdflib>=6.1.1 in c:\\users\\pc\\appdata\\local\\programs\\python\\python310\\lib\\site-packages (from SPARQLWrapper->ravenclaw->chronometry->Pdf) (6.2.0)\n",
      "Requirement already satisfied: pure-eval in c:\\users\\pc\\appdata\\local\\programs\\python\\python310\\lib\\site-packages (from stack-data->IPython->pdftotree->Pdf) (0.2.2)\n",
      "Requirement already satisfied: executing in c:\\users\\pc\\appdata\\local\\programs\\python\\python310\\lib\\site-packages (from stack-data->IPython->pdftotree->Pdf) (0.8.3)\n",
      "Requirement already satisfied: asttokens in c:\\users\\pc\\appdata\\local\\programs\\python\\python310\\lib\\site-packages (from stack-data->IPython->pdftotree->Pdf) (2.0.5)\n",
      "Requirement already satisfied: pycparser in c:\\users\\pc\\appdata\\local\\programs\\python\\python310\\lib\\site-packages (from cffi>=1.12->cryptography>=36.0.0->pdfminer.six>=20191020->pdftotree->Pdf) (2.21)\n",
      "Requirement already satisfied: pyasn1-modules>=0.2.1 in c:\\users\\pc\\appdata\\local\\programs\\python\\python310\\lib\\site-packages (from google-auth<3,>=1.6.3->tensorboard<2.11,>=2.10->tensorflow>=2.2->pdftotree->Pdf) (0.2.8)\n",
      "Requirement already satisfied: rsa<5,>=3.1.4 in c:\\users\\pc\\appdata\\local\\programs\\python\\python310\\lib\\site-packages (from google-auth<3,>=1.6.3->tensorboard<2.11,>=2.10->tensorflow>=2.2->pdftotree->Pdf) (4.9)\n",
      "Requirement already satisfied: cachetools<6.0,>=2.0.0 in c:\\users\\pc\\appdata\\local\\programs\\python\\python310\\lib\\site-packages (from google-auth<3,>=1.6.3->tensorboard<2.11,>=2.10->tensorflow>=2.2->pdftotree->Pdf) (5.2.0)\n",
      "Requirement already satisfied: requests-oauthlib>=0.7.0 in c:\\users\\pc\\appdata\\local\\programs\\python\\python310\\lib\\site-packages (from google-auth-oauthlib<0.5,>=0.4.1->tensorboard<2.11,>=2.10->tensorflow>=2.2->pdftotree->Pdf) (1.3.1)\n",
      "Requirement already satisfied: isodate in c:\\users\\pc\\appdata\\local\\programs\\python\\python310\\lib\\site-packages (from rdflib>=6.1.1->SPARQLWrapper->ravenclaw->chronometry->Pdf) (0.6.1)\n",
      "Requirement already satisfied: certifi>=2017.4.17 in c:\\users\\pc\\appdata\\local\\programs\\python\\python310\\lib\\site-packages (from requests<3,>=2.21.0->tensorboard<2.11,>=2.10->tensorflow>=2.2->pdftotree->Pdf) (2022.9.24)\n",
      "Requirement already satisfied: urllib3<1.27,>=1.21.1 in c:\\users\\pc\\appdata\\local\\programs\\python\\python310\\lib\\site-packages (from requests<3,>=2.21.0->tensorboard<2.11,>=2.10->tensorflow>=2.2->pdftotree->Pdf) (1.26.12)\n",
      "Requirement already satisfied: idna<4,>=2.5 in c:\\users\\pc\\appdata\\local\\programs\\python\\python310\\lib\\site-packages (from requests<3,>=2.21.0->tensorboard<2.11,>=2.10->tensorflow>=2.2->pdftotree->Pdf) (3.4)\n",
      "Requirement already satisfied: MarkupSafe>=2.1.1 in c:\\users\\pc\\appdata\\local\\programs\\python\\python310\\lib\\site-packages (from werkzeug>=1.0.1->tensorboard<2.11,>=2.10->tensorflow>=2.2->pdftotree->Pdf) (2.1.1)\n",
      "Requirement already satisfied: pyasn1<0.5.0,>=0.4.6 in c:\\users\\pc\\appdata\\local\\programs\\python\\python310\\lib\\site-packages (from pyasn1-modules>=0.2.1->google-auth<3,>=1.6.3->tensorboard<2.11,>=2.10->tensorflow>=2.2->pdftotree->Pdf) (0.4.8)\n",
      "Requirement already satisfied: oauthlib>=3.0.0 in c:\\users\\pc\\appdata\\local\\programs\\python\\python310\\lib\\site-packages (from requests-oauthlib>=0.7.0->google-auth-oauthlib<0.5,>=0.4.1->tensorboard<2.11,>=2.10->tensorflow>=2.2->pdftotree->Pdf) (3.2.2)\n",
      "Note: you may need to restart the kernel to use updated packages.\n"
     ]
    }
   ],
   "source": [
    "pip install Pdf"
   ]
  },
  {
   "cell_type": "code",
   "execution_count": 114,
   "id": "219d1126",
   "metadata": {},
   "outputs": [
    {
     "ename": "NameError",
     "evalue": "name 'Pdf' is not defined",
     "output_type": "error",
     "traceback": [
      "\u001b[1;31m---------------------------------------------------------------------------\u001b[0m",
      "\u001b[1;31mNameError\u001b[0m                                 Traceback (most recent call last)",
      "Input \u001b[1;32mIn [114]\u001b[0m, in \u001b[0;36m<cell line: 2>\u001b[1;34m()\u001b[0m\n\u001b[0;32m      1\u001b[0m xs \u001b[38;5;241m=\u001b[39m np\u001b[38;5;241m.\u001b[39mlinspace(\u001b[38;5;241m-\u001b[39m\u001b[38;5;241m3\u001b[39m,\u001b[38;5;241m3\u001b[39m)\n\u001b[1;32m----> 2\u001b[0m ys \u001b[38;5;241m=\u001b[39m \u001b[43mPdf\u001b[49m(xs)\n\u001b[0;32m      3\u001b[0m ys\n",
      "\u001b[1;31mNameError\u001b[0m: name 'Pdf' is not defined"
     ]
    }
   ],
   "source": [
    "xs = np.linspace(-3,3)\n",
    "ys = Pdf(xs)\n",
    "ys"
   ]
  },
  {
   "cell_type": "code",
   "execution_count": null,
   "id": "ca9923f2",
   "metadata": {},
   "outputs": [],
   "source": [
    "n = np.linspace(-4,5)\n",
    "y = norm(0,1).cdf(n)\n",
    "y"
   ]
  },
  {
   "cell_type": "code",
   "execution_count": null,
   "id": "24556098",
   "metadata": {},
   "outputs": [],
   "source": [
    "plt.plot(y);"
   ]
  },
  {
   "cell_type": "code",
   "execution_count": null,
   "id": "b208d54a",
   "metadata": {},
   "outputs": [],
   "source": [
    "m = np.linspace(-6,10)\n",
    "z = norm(0,1).cdf(m)\n",
    "z"
   ]
  },
  {
   "cell_type": "code",
   "execution_count": null,
   "id": "ce1738ba",
   "metadata": {},
   "outputs": [],
   "source": [
    "plt.plot(z)"
   ]
  },
  {
   "cell_type": "code",
   "execution_count": null,
   "id": "9cdf63f1",
   "metadata": {},
   "outputs": [],
   "source": [
    "bs = np.linspace(-3,3)\n",
    "zs = norm(0,1).pdf(bs)\n",
    "zs"
   ]
  },
  {
   "cell_type": "code",
   "execution_count": null,
   "id": "8570c687",
   "metadata": {},
   "outputs": [],
   "source": [
    "plt.plot(zs)"
   ]
  },
  {
   "cell_type": "markdown",
   "id": "e1e6bc31",
   "metadata": {},
   "source": [
    "# Kernel Density Plot(KDE)"
   ]
  },
  {
   "cell_type": "code",
   "execution_count": null,
   "id": "1fcd9a24",
   "metadata": {},
   "outputs": [],
   "source": [
    "import seaborn as sns"
   ]
  },
  {
   "cell_type": "code",
   "execution_count": null,
   "id": "d0c47e0c",
   "metadata": {},
   "outputs": [],
   "source": [
    "sns.kdeplot(sample);"
   ]
  },
  {
   "cell_type": "code",
   "execution_count": null,
   "id": "762e34ed",
   "metadata": {},
   "outputs": [],
   "source": [
    "sns.kdeplot(sample);\n",
    "plt.plot(xs,ys);\n"
   ]
  },
  {
   "cell_type": "markdown",
   "id": "89de04d4",
   "metadata": {},
   "source": [
    "# Relationships"
   ]
  },
  {
   "cell_type": "code",
   "execution_count": 120,
   "id": "9555faac",
   "metadata": {},
   "outputs": [],
   "source": [
    "import pandas as pd"
   ]
  },
  {
   "cell_type": "code",
   "execution_count": null,
   "id": "239d387b",
   "metadata": {},
   "outputs": [],
   "source": []
  },
  {
   "cell_type": "code",
   "execution_count": null,
   "id": "5826d738",
   "metadata": {},
   "outputs": [],
   "source": []
  },
  {
   "cell_type": "code",
   "execution_count": null,
   "id": "a9e3aced",
   "metadata": {},
   "outputs": [],
   "source": []
  },
  {
   "cell_type": "code",
   "execution_count": null,
   "id": "3eb0e41b",
   "metadata": {},
   "outputs": [],
   "source": []
  },
  {
   "cell_type": "code",
   "execution_count": null,
   "id": "d567211b",
   "metadata": {},
   "outputs": [],
   "source": []
  }
 ],
 "metadata": {
  "kernelspec": {
   "display_name": "Python 3 (ipykernel)",
   "language": "python",
   "name": "python3"
  },
  "language_info": {
   "codemirror_mode": {
    "name": "ipython",
    "version": 3
   },
   "file_extension": ".py",
   "mimetype": "text/x-python",
   "name": "python",
   "nbconvert_exporter": "python",
   "pygments_lexer": "ipython3",
   "version": "3.10.5"
  }
 },
 "nbformat": 4,
 "nbformat_minor": 5
}
